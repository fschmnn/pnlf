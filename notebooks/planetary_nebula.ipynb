{
 "cells": [
  {
   "cell_type": "markdown",
   "metadata": {},
   "source": [
    "# Planetary Nebula <a class=\"tocSkip\">\n",
    "    \n",
    "This notebook is used to test and showcase the results of my first project. I use spectroscopic data from the [Multi Unit Spectroscopic Explorer](https://www.eso.org/sci/facilities/develop/instruments/muse.html) (MUSE) that has been observed as part of the [PHANGS](https://sites.google.com/view/phangs/home) collaboration.\n",
    "    \n",
    "I will use a set of line maps of emission lines to identify Planetary Nebula in the data an measure their brightness. This can then be used to fit an empiric relation and hence measure the distance to the galaxy.\n",
    "    \n",
    "This notebook is used for developement. Final code is moved to the `pymuse` packge in the `src` folder. Any production scripts reside in the `scripts` folder.\n",
    "    \n",
    "## Load Basic Packages\n",
    "    \n",
    "First we load a bunch of common packages that are used across the project. More specific packages that are only used in one section are loaded later to make it clear where they belong to (this also applies to all custom moduls that were written for this project)."
   ]
  },
  {
   "cell_type": "code",
   "execution_count": 1,
   "metadata": {},
   "outputs": [],
   "source": [
    "# reload modules after they have been modified\n",
    "%load_ext autoreload\n",
    "%autoreload 2\n",
    "\n",
    "# some basic packages\n",
    "import os                 # filesystem related stuff\n",
    "from pathlib import Path  # use instead of os.path and glob\n",
    "import sys                # mostly replaced by pathlib\n",
    "\n",
    "import errno      # more detailed error messages\n",
    "import warnings   # handles warnings\n",
    "import logging    # use logging instead of print\n",
    "\n",
    "from collections import OrderedDict  \n",
    "\n",
    "# packages for scientific computing\n",
    "import numpy as np\n",
    "import scipy as sp\n",
    "\n",
    "# packages for creating plots and figures\n",
    "import matplotlib as mpl\n",
    "import matplotlib.pyplot as plt\n",
    "\n",
    "%matplotlib inline\n",
    "%config InlineBackend.figure_format = 'retina'\n",
    "\n",
    "# special functions for astronomy \n",
    "from astropy.table import Table  # useful datastructure\n",
    "from astropy.table import vstack # combine multiple tables\n",
    "\n",
    "from astropy.io import fits      # open fits files\n",
    "from astropy.io import ascii     # handle normal files\n",
    "\n",
    "from astropy.wcs import WCS               # handle coordinates\n",
    "from astropy.coordinates import SkyCoord  # convert pixel to sky coordinates\n",
    "\n",
    "from astropy.stats import sigma_clipped_stats  # calcualte statistics of images\n",
    "\n",
    "import astropy.units as u        # handle units"
   ]
  },
  {
   "cell_type": "code",
   "execution_count": 25,
   "metadata": {},
   "outputs": [],
   "source": [
    "logging.basicConfig(stream=sys.stdout,\n",
    "                    #format='(levelname)s %(name)s %(message)s',\n",
    "                    datefmt='%H:%M:%S',\n",
    "                    level=logging.INFO)\n",
    "\n",
    "logger = logging.getLogger(__name__)"
   ]
  },
  {
   "cell_type": "markdown",
   "metadata": {},
   "source": [
    "## Reference files\n",
    "\n",
    "To test the detection routine we compare our results to those from Kreckel et al. (2017)\n",
    "\n",
    "**Requires** (both already loaded with standard packages)\n",
    " * `astropy.io.ascii`\n",
    " * `astropy.coordinates.SkyCoord`"
   ]
  },
  {
   "cell_type": "code",
   "execution_count": 24,
   "metadata": {},
   "outputs": [],
   "source": [
    "pn_kreckel = ascii.read(os.path.join('..','data','external','kreckel_pn_2017.txt'))\n",
    "\n",
    "def string_to_ra(string):\n",
    "    '''convert coordinates from Kreckel et al. (2017) to astropy\n",
    "    \n",
    "    the right ascension in the paper is given as \n",
    "    \"01:36:42.212\" but astropy requires \"01h36m42.212s\".\n",
    "    This function replaces the \":\" with the appropriate character.\n",
    "    '''\n",
    "    return string.replace(':','h',1).replace(':','m') + 's'\n",
    "\n",
    "def string_to_dec(string):\n",
    "    '''convert coordinates from Kreckel et al. (2017) to astropy\n",
    "    \n",
    "    the declination in the paper is given as \"01:36:42.212\" \n",
    "    but astropy requires \"01d36m42.212s\".\n",
    "    This function replaces the \":\" with the appropriate character.\n",
    "    '''\n",
    "    return string.replace(':','d',1).replace(':','m') + 's'\n",
    "\n",
    "# convert string to astronomical coordinates\n",
    "pn_kreckel['RA'] = list(map(string_to_ra,pn_kreckel['RA']))\n",
    "pn_kreckel['DEC'] = list(map(string_to_dec,pn_kreckel['DEC']))\n",
    "pn_kreckel['SkyCoord'] = SkyCoord(pn_kreckel['RA'],pn_kreckel['DEC'])\n",
    "\n",
    "# select some subsets (PN from Hermann et al. 2008 or bright sources only)\n",
    "pn_herrmann = pn_kreckel[[True if i.endswith('a') else False for i in pn_kreckel['ID']]]\n",
    "pn_bright = pn_kreckel[pn_kreckel['mOIII']<27]"
   ]
  },
  {
   "cell_type": "markdown",
   "metadata": {},
   "source": [
    "## Read in data\n",
    "\n",
    "this uses the `ReadLineMaps` class from the `pymuse.io` module. To use it, we first need to specify the path to the data folder"
   ]
  },
  {
   "cell_type": "code",
   "execution_count": 26,
   "metadata": {},
   "outputs": [
    {
     "name": "stdout",
     "output_type": "stream",
     "text": [
      "IC5332, NGC1087, NGC1365, NGC1512, NGC1566, NGC1672, NGC2835, NGC3351, NGC3627, NGC4254, NGC4535, NGC5068, NGC628, NGC628p\n"
     ]
    }
   ],
   "source": [
    "from pymuse.io import ReadLineMaps\n",
    "\n",
    "# first we need to specify the path to the raw data\n",
    "data_raw = Path('d:\\downloads\\MUSEDAP')\n",
    "\n",
    "# list all files in the specified directory\n",
    "galaxies = [x.name for x in data_raw.iterdir() if x.is_dir()]\n",
    "print(', '.join(map(str,galaxies)))"
   ]
  },
  {
   "cell_type": "code",
   "execution_count": 27,
   "metadata": {},
   "outputs": [
    {
     "name": "stdout",
     "output_type": "stream",
     "text": [
      "INFO:pymuse.io:loading NGC628\n",
      "INFO:pymuse.io:replacing OIII5006 map\n",
      "INFO:pymuse.io:file loaded with 4 extensions\n",
      "name: NGC628\n",
      "filename\n",
      "lines\n",
      "header\n",
      "wcs\n",
      "shape\n",
      "whitelight\n",
      "OIII5006\n",
      "OIII5006_err\n",
      "HA6562\n",
      "HA6562_err\n",
      "NII6583\n",
      "NII6583_err\n",
      "SII6716\n",
      "SII6716_err\n",
      "OIII5006_DAP\n",
      "OIII5006_DAP_err\n",
      "PSF\n",
      "\n"
     ]
    }
   ],
   "source": [
    "NGC628 = ReadLineMaps(data_raw / 'NGC628')\n",
    "print(NGC628)"
   ]
  },
  {
   "cell_type": "markdown",
   "metadata": {},
   "source": [
    "## Source Detection"
   ]
  },
  {
   "cell_type": "markdown",
   "metadata": {},
   "source": [
    "### Based on IRAFStarFinder or DAPStarFinder\n",
    "\n",
    "the following function is based on this tutorial \n",
    "\n",
    "https://photutils.readthedocs.io/en/stable/detection.html\n",
    "\n",
    "https://photutils.readthedocs.io/en/stable/api/photutils.detection.DAOStarFinder.html#photutils.detection.DAOStarFinder\n",
    "\n",
    "**requires**\n",
    " * A `photutils` starfinder. This can be either `DAOStarFinder` or `IRAFStarFinder`\n",
    " * `detect_unresolved_sources`"
   ]
  },
  {
   "cell_type": "code",
   "execution_count": 28,
   "metadata": {},
   "outputs": [],
   "source": [
    "from photutils import DAOStarFinder            # DAOFIND routine to detect sources\n",
    "from photutils import IRAFStarFinder           # IRAF starfind routine to detect star\n",
    "\n",
    "from pymuse.detection import detect_unresolved_sources"
   ]
  },
  {
   "cell_type": "code",
   "execution_count": 29,
   "metadata": {},
   "outputs": [
    {
     "name": "stdout",
     "output_type": "stream",
     "text": [
      "INFO:pymuse.detection:searching for sources in NGC628 with [OIII5006] line map (using DAOStarFinder)\n",
      "\n",
      "INFO:pymuse.detection:     fwhm   #N    mean  median     std\n",
      "INFO:pymuse.detection:  2.965px  452 -20.635 -18.986  64.410\n",
      "INFO:pymuse.detection:  3.170px 1690   9.170   6.612  65.659\n",
      "INFO:pymuse.detection:  3.380px  925  14.197  12.709  72.815\n",
      "INFO:pymuse.detection:  3.560px  800   8.480   6.830  52.456\n",
      "INFO:pymuse.detection:  3.565px  770  23.187  20.548  96.385\n",
      "INFO:pymuse.detection:  3.685px  467   3.503   2.131  42.914\n",
      "INFO:pymuse.detection:  3.715px 1096   4.676   3.644  53.491\n",
      "INFO:pymuse.detection:  3.815px  572  12.341  10.777  66.585\n",
      "INFO:pymuse.detection:  3.875px  475   9.525   7.874  50.826\n",
      "INFO:pymuse.detection:  4.090px  441  13.787  12.078  44.149\n",
      "INFO:pymuse.detection:  total   7688\n"
     ]
    }
   ],
   "source": [
    "sources = detect_unresolved_sources(NGC628,\n",
    "                                    'OIII5006',\n",
    "                                    StarFinder=DAOStarFinder,\n",
    "                                    threshold=4,\n",
    "                                    PSF_size = 1.3,\n",
    "                                    save=True)"
   ]
  },
  {
   "cell_type": "markdown",
   "metadata": {},
   "source": [
    "#### Compare to Kreckel et al. 2017"
   ]
  },
  {
   "cell_type": "code",
   "execution_count": 8,
   "metadata": {},
   "outputs": [],
   "source": [
    "from astropy.coordinates import match_coordinates_sky # match sources against existing catalog\n",
    "from astropy.coordinates import Angle                 # work with angles (e.g. 1°2′3″)"
   ]
  },
  {
   "cell_type": "code",
   "execution_count": 9,
   "metadata": {},
   "outputs": [
    {
     "name": "stdout",
     "output_type": "stream",
     "text": [
      "28 of 36 match within 0.3\"\": 77.8 %\n",
      "mean seperation is 0.349478\"\n"
     ]
    }
   ],
   "source": [
    "tolerance = '0.3\"'\n",
    "ID, angle, Quantity  = match_coordinates_sky(pn_bright['SkyCoord'],sources['SkyCoord'])\n",
    "within_tolerance = len(angle[angle.__lt__(Angle(tolerance))])\n",
    "\n",
    "print(f'{within_tolerance} of {len(angle)} match within {tolerance}\": {within_tolerance / len(angle)*100:.1f} %')\n",
    "print(f'mean seperation is {angle.mean().to_string(u.arcsec,decimal=True)}\"')"
   ]
  },
  {
   "cell_type": "markdown",
   "metadata": {
    "heading_collapsed": true
   },
   "source": [
    "#### Plot detected sources"
   ]
  },
  {
   "cell_type": "code",
   "execution_count": 104,
   "metadata": {
    "hidden": true
   },
   "outputs": [],
   "source": [
    "from pymuse.plot import plot_sky_with_detected_stars"
   ]
  },
  {
   "cell_type": "code",
   "execution_count": null,
   "metadata": {
    "hidden": true
   },
   "outputs": [],
   "source": [
    "position = np.transpose((sources['x'], sources['y']))\n",
    "positions_kk = np.transpose(pn_bright['SkyCoord'].to_pixel(wcs=NGC628.wcs))\n",
    "positions = (position,positions_kk)\n",
    "\n",
    "save_file = Path.cwd() / '..' / 'reports' / 'figures' / f'{NGC628.name}_sky_sources_DAO.pdf'\n",
    "plot_sky_with_detected_stars(data=NGC628.OIII5006_old,\n",
    "                             wcs=NGC628.wcs,\n",
    "                             positions=positions,\n",
    "                             filename=save_file)"
   ]
  },
  {
   "cell_type": "markdown",
   "metadata": {
    "heading_collapsed": true
   },
   "source": [
    "#### Cut out detected stars"
   ]
  },
  {
   "cell_type": "code",
   "execution_count": null,
   "metadata": {
    "hidden": true
   },
   "outputs": [],
   "source": [
    "from pymuse.plot import sample_cutouts"
   ]
  },
  {
   "cell_type": "code",
   "execution_count": null,
   "metadata": {
    "hidden": true
   },
   "outputs": [],
   "source": [
    "save_file = Path.cwd() / '..' / 'reports' / 'figures' / f'{NGC628.name}_stars.pdf'\n",
    "\n",
    "stars = sample_cutouts(NGC628.OIII5006_old,sources,NGC628.wcs,nrows=4,ncols=4)"
   ]
  },
  {
   "cell_type": "markdown",
   "metadata": {
    "heading_collapsed": true
   },
   "source": [
    "### Using SExtractor\n",
    "\n",
    "there is no Python implementation of SExtractor. Instead we run it from the command line\n",
    "\n",
    "```\n",
    "sextractor file.fits -c default.sex\n",
    "```\n",
    "\n",
    "this will produce a file `test.cat` which contains the position of the sources. We read this table and calculate the sky position wiht astropy"
   ]
  },
  {
   "cell_type": "code",
   "execution_count": null,
   "metadata": {
    "hidden": true
   },
   "outputs": [],
   "source": [
    "file = Path.cwd() / '..' / 'data' / 'interim' / 'NGC628.cat'\n",
    "\n",
    "table = ascii.read(file)\n",
    "table['SkyCoord'] = SkyCoord.from_pixel(table['X_IMAGE'],table['Y_IMAGE'],NGC628.wcs)\n",
    "\n",
    "print(f'{len(table)} sources found')"
   ]
  },
  {
   "cell_type": "code",
   "execution_count": null,
   "metadata": {
    "hidden": true
   },
   "outputs": [],
   "source": [
    "sources = Table()\n",
    "sources['x'] = table['X_IMAGE']\n",
    "sources['y'] = table['Y_IMAGE']\n",
    "sources['SkyCoord'] = table['SkyCoord']\n",
    "sources['fwhm'] = 0.8\n",
    "NGC628.sources = sources"
   ]
  },
  {
   "cell_type": "markdown",
   "metadata": {
    "hidden": true
   },
   "source": [
    "#### Match with known sources"
   ]
  },
  {
   "cell_type": "code",
   "execution_count": null,
   "metadata": {
    "hidden": true
   },
   "outputs": [],
   "source": [
    "ID, angle, Quantity  = match_coordinates_sky(pn_bright['SkyCoord'],table['SkyCoord'])\n",
    "within_1_arcsec = len(angle[angle.__lt__(Angle(\"0.5s\"))])\n",
    "\n",
    "print(f'{within_1_arcsec} of {len(angle)} match within 0.5\": {within_1_arcsec / len(angle)*100:.1f} %')\n",
    "print(f'mean seperation is {angle.mean().to_string(u.arcsec,decimal=True)}\"')\n",
    "#print(f'mean angle: {angle.mean():.2f}')"
   ]
  },
  {
   "cell_type": "markdown",
   "metadata": {
    "hidden": true
   },
   "source": [
    "#### Plot detected sources\n",
    "\n",
    "this requires the previously loaded `plot_sources` from `pymuse.plot`"
   ]
  },
  {
   "cell_type": "code",
   "execution_count": null,
   "metadata": {
    "hidden": true
   },
   "outputs": [],
   "source": [
    "file = Path.cwd() / '..' / 'reports' / 'figures' / f'{NGC628.name}_sources_sextractor.pdf'\n",
    "\n",
    "position = np.transpose((sources['x'], sources['y']))\n",
    "references = np.transpose(pn_bright['SkyCoord'].to_pixel(wcs=NGC628.wcs))\n",
    "positions = (position,references)\n",
    "\n",
    "sky_with_detected_stars(data=NGC628.OIII5006_old,wcs=NGC628.wcs,positions=positions,filename=file)"
   ]
  },
  {
   "cell_type": "markdown",
   "metadata": {
    "heading_collapsed": true
   },
   "source": [
    "### Old line maps\n",
    "\n",
    "here we are using the line maps that were used in Kreckel et al. 2017"
   ]
  },
  {
   "cell_type": "code",
   "execution_count": null,
   "metadata": {
    "hidden": true
   },
   "outputs": [],
   "source": [
    "from photutils import find_peaks"
   ]
  },
  {
   "cell_type": "code",
   "execution_count": null,
   "metadata": {
    "hidden": true
   },
   "outputs": [],
   "source": [
    "data_folder = os.path.join('d',os.sep,'downloads','MUSEDAP')\n",
    "with fits.open(os.path.join(data_folder,'NGC628p','NGC628p_MAPS.fits')) as hdul:\n",
    "    data = hdul[0].data\n",
    "    header = hdul[0].header\n",
    "\n",
    "with fits.open(os.path.join(data_folder,'NGC628p','NGC628p_MAPS_err.fits')) as hdul:\n",
    "    err = hdul[0].data\n"
   ]
  },
  {
   "cell_type": "code",
   "execution_count": null,
   "metadata": {
    "hidden": true
   },
   "outputs": [],
   "source": [
    "mean, median, std = sigma_clipped_stats(err[~np.isnan(err)], sigma=3.0)\n",
    "\n",
    "# initialize daofind \n",
    "# FWHM is given in arcsec. one pixel is 0.2\" \n",
    "StarFinder = DAOStarFinder(fwhm=0.8/0.17, \n",
    "                           threshold=8.*median,\n",
    "                           sharplo=0.1, \n",
    "                           sharphi=1.0,\n",
    "                           roundlo=-1,\n",
    "                           roundhi=1)\n",
    "\n",
    "# for the source detection we subtract the sigma clipped median\n",
    "#sources_old = find_peaks(data,12*median,box_size=6)\n",
    "sources_old = StarFinder(data)\n",
    "\n",
    "print(f'{len(sources_old):>5.0f}{mean:>8.3f}{median:>8.3f}{std:>8.3f}')\n",
    "\n",
    "# for consistent table output\n",
    "for col in sources_old.colnames:\n",
    "    sources_old[col].info.format = '%.8g'  \n",
    "\n",
    "sources_old.rename_column('xcentroid','x')\n",
    "sources_old.rename_column('ycentroid','y')\n",
    "    \n",
    "# calculate astronomical coordinates\n",
    "sources_old['SkyCoord'] = SkyCoord.from_pixel(sources_old['x'],sources_old['y'],WCS(header))\n",
    "#sources['RaDec'] = sources['SkyCoord'].to_string(style='hmsdms',precision=2)\n",
    "\n",
    "ID, angle, Quantity  = match_coordinates_sky(pn_bright['SkyCoord'],sources_old['SkyCoord'])\n",
    "within_1_arcsec = len(angle[angle.__lt__(Angle(\"0.5s\"))])\n",
    "\n",
    "print(f'{within_1_arcsec} of {len(angle)} match within 0.5\": {within_1_arcsec / len(angle)*100:.1f} %')\n",
    "print(f'mean seperation is {angle.mean().to_string(u.arcsec,decimal=True)}\"')"
   ]
  },
  {
   "cell_type": "code",
   "execution_count": null,
   "metadata": {
    "hidden": true
   },
   "outputs": [],
   "source": [
    "file = Path.cwd() / '..' / 'reports' / 'figures' / 'sources_old.pdf'\n",
    "\n",
    "position = np.transpose((sources_old['x'], sources_old['y']))\n",
    "references = np.transpose(pn_bright['SkyCoord'].to_pixel(wcs=WCS(header)))\n",
    "positions = (position,references)\n",
    "\n",
    "plot_sources(data=data,wcs=WCS(header),positions=positions)\n",
    "                          \n",
    "plt.xlim([1300,2900])\n",
    "plt.ylim([1800,3300])\n",
    "\n",
    "plt.savefig(file)"
   ]
  },
  {
   "cell_type": "markdown",
   "metadata": {},
   "source": [
    "### Find sources in mock data"
   ]
  },
  {
   "cell_type": "code",
   "execution_count": null,
   "metadata": {},
   "outputs": [],
   "source": [
    "from collections import OrderedDict\n",
    "from photutils.datasets import (make_random_gaussians_table,\n",
    "                                make_noise_image,\n",
    "                                make_gaussian_sources_image)\n",
    "\n",
    "from photutils import CircularAperture\n",
    "from astropy.stats import gaussian_sigma_to_fwhm\n",
    "\n",
    "from astropy.visualization import simple_norm"
   ]
  },
  {
   "cell_type": "code",
   "execution_count": null,
   "metadata": {},
   "outputs": [],
   "source": [
    "\n",
    "def test_detection(StarFinder_Algorithm,sigma_psf,amplitude,PSF_size=1):\n",
    "    '''create an image with mock sources and try to detect them\n",
    "    \n",
    "    Parameters\n",
    "    ----------\n",
    "        \n",
    "    StarFinder_Algorithm:\n",
    "         Class to detect stars\n",
    "    \n",
    "    sigma_psf:\n",
    "        standard deviation of the PSF of the mock sources \n",
    "    \n",
    "    amplitude:\n",
    "        amplitude of the mock sources\n",
    "        \n",
    "    PSF_size: \n",
    "        The StarFinder_Algorithm need to know the sigma of the sources\n",
    "        they try to detect. This parameter changes the provided size \n",
    "        compared to the sigma of the mock sources.\n",
    "    '''\n",
    "    \n",
    "    # create mock data\n",
    "    n_sources = 20\n",
    "    tshape = (256,256)\n",
    "\n",
    "    param_ranges = OrderedDict([\n",
    "                    ('amplitude', [amplitude, amplitude*1.2]),\n",
    "                    ('x_mean', [0,tshape[0]]),\n",
    "                    ('y_mean', [0,tshape[1]]),\n",
    "                    ('x_stddev', [sigma_psf,sigma_psf]),\n",
    "                    ('y_stddev', [sigma_psf, sigma_psf]),\n",
    "                    ('theta', [0, 0]) ])\n",
    "\n",
    "    sources = make_random_gaussians_table(n_sources, param_ranges,\n",
    "                                          random_state=1234)\n",
    "\n",
    "    image = (make_gaussian_sources_image(tshape, sources) +\n",
    "             make_noise_image(tshape, type='poisson', mean=6.,\n",
    "                              random_state=1) +\n",
    "             make_noise_image(tshape, type='gaussian', mean=0.,\n",
    "                              stddev=2., random_state=34234))\n",
    "\n",
    "    fwhm = gaussian_sigma_to_fwhm * sigma_psf\n",
    "\n",
    "    mean, median, std = sigma_clipped_stats(image, sigma=3.0)\n",
    "\n",
    "    StarFinder = StarFinder_Algorithm(fwhm=fwhm*PSF_size, \n",
    "                                      threshold=3.*std,\n",
    "                                      sharplo=0.1, \n",
    "                                      sharphi=1.0,\n",
    "                                      roundlo=-.2,\n",
    "                                      roundhi=.2)\n",
    "\n",
    "    sources_mock = StarFinder(image)\n",
    "\n",
    "    # for consistent table output\n",
    "    for col in sources_mock.colnames:\n",
    "        sources_mock[col].info.format = '%.8g'  \n",
    "\n",
    "    string = str(StarFinder_Algorithm).split('.')[-1][:-2] + f' sig={sigma_psf} A={amplitude}'\n",
    "    print(f'{string}: {len(sources_mock):} of {n_sources} sources found')\n",
    "\n",
    "    positions = np.transpose([sources_mock['xcentroid'],sources_mock['ycentroid']])\n",
    "    apertures = CircularAperture(positions, r=fwhm)    \n",
    "    \n",
    "    return image, apertures, sources, string\n",
    "\n",
    "\n",
    "nrows = 2\n",
    "ncols = 4\n",
    "fig, ax = plt.subplots(nrows=nrows, ncols=ncols, figsize=(20, 10),\n",
    "                        squeeze=True)\n",
    "ax = ax.ravel()\n",
    "\n",
    "\n",
    "amplitude_lst = [40,200]\n",
    "sigma_lst = [2.,4.]\n",
    "StarFinder_lst = [DAOStarFinder,IRAFStarFinder]\n",
    "\n",
    "\n",
    "settings = []\n",
    "for f in StarFinder_lst:\n",
    "    for s in sigma_lst:\n",
    "        for a in amplitude_lst:\n",
    "            settings.append((f,s,a))\n",
    "    \n",
    "    \n",
    "for i in range(nrows*ncols):\n",
    "    f,s,a = settings[i]\n",
    "    img, ap, sc, string = test_detection(f,s,a,PSF_size=1)\n",
    "    \n",
    "    norm = simple_norm(img, 'log', percent=99.)\n",
    "    ax[i].imshow(img, norm=norm, origin='lower', cmap='viridis')\n",
    "    ap.plot(color='red', lw=1., alpha=0.9,ax=ax[i])\n",
    "    ax[i].scatter(sc['x_mean'],sc['y_mean'],color='red',s=1)\n",
    "    ax[i].set_title(string)\n",
    "    \n",
    "plt.show()"
   ]
  },
  {
   "cell_type": "markdown",
   "metadata": {},
   "source": [
    "## Completeness limit"
   ]
  },
  {
   "cell_type": "code",
   "execution_count": null,
   "metadata": {},
   "outputs": [],
   "source": [
    "from pymuse.detection import completeness_limit"
   ]
  },
  {
   "cell_type": "code",
   "execution_count": 318,
   "metadata": {},
   "outputs": [
    {
     "name": "stdout",
     "output_type": "stream",
     "text": [
      "INFO:pymuse.detection:60 mock sources created\n",
      "INFO:pymuse.detection:mock sources inserted into image\n",
      "INFO:pymuse.detection:510 sources found\n",
      "INFO:pymuse.detection:searching for best match\n"
     ]
    },
    {
     "data": {
      "image/png": "[encoded data removed]",
      "text/plain": [
       "<Figure size 432x288 with 1 Axes>"
      ]
     },
     "metadata": {
      "image/png": {
       "height": 266,
       "width": 388
      },
      "needs_background": "light"
     },
     "output_type": "display_data"
    }
   ],
   "source": [
    "mock_sources = completeness_limit(NGC628,'OIII5006',DAOStarFinder,4,iterations=1,oversize_PSF=1.3)"
   ]
  },
  {
   "cell_type": "markdown",
   "metadata": {},
   "source": [
    "## Flux measurement\n",
    "\n",
    "### Percentage of flux in the aperture\n",
    "\n",
    "for the PSF we assume a 2D gaussian that is centered around the origin and has a variance of $\\sigma_x^2 = \\sigma_y^2 = \\sigma^2$ and an amplitude of $A$\n",
    "$$\n",
    "f(x,y) = A \\exp\\left(-\\frac{x^2+y^2}{2\\sigma^2}\\right)\n",
    "$$\n",
    "we can rewrite this in polar coordinates as \n",
    "$$\n",
    "f(r,\\phi) = A \\exp\\left(-\\frac{r^2}{2\\sigma^2}\\right)\n",
    "$$\n",
    "The light inside an aperture of radius $P(R)$ is given by the integral\n",
    "$$\n",
    "P(R) = \\int_0^{2\\pi} \\int_0^R f(r,\\phi) \\mathrm{d} \\phi r \\mathrm{d} r = 2\\pi \\sigma^2 A \\left(1-\\exp \\left(-\\frac{R^2}{2\\sigma^2}\\right) \\right) \n",
    "$$\n",
    "We are interested in the ratio $p(R) = P(R) / P(\\infty)$. If we use that for a gaussian, the standard deviation and the $\\mathrm{FWHM}$ are related by $\\sigma = \\frac{\\mathrm{FWHM}}{2\\sqrt{2\\ln2}}=$, we can write\n",
    "$$\n",
    "\\begin{align}\n",
    "p(R) = 1-\\exp\\left(- \\frac{4 \\ln 2 \\cdot R^2}{\\mathrm{fwhm}^2} \\right)\n",
    "\\end{align}\n",
    "$$"
   ]
  },
  {
   "cell_type": "code",
   "execution_count": null,
   "metadata": {},
   "outputs": [],
   "source": [
    "def light_in_aperture(radius,fwhm):\n",
    "    '''\n",
    "    p(r) = 1 - e^(-4 ln2 r^2/fwhm^2)\n",
    "    \n",
    "    Given a circular aperture with the specified radius, this function\n",
    "    calculates the fraction of light inside the aperture if the \n",
    "    underlying distribution is a 2D gaussian with the specified fwhm.     \n",
    "    '''\n",
    "    \n",
    "    return 1-np.exp(- 4*np.log(2)*radius**2 / fwhm**2)\n",
    "\n",
    "d = np.linspace(0.5,4)\n",
    "p = light_in_aperture(d/2,1)\n",
    "plt.plot(d,100*p)\n",
    "plt.xlabel('diameter in fwhm')\n",
    "plt.ylabel('light in aperture in %')\n",
    "plt.grid()"
   ]
  },
  {
   "cell_type": "markdown",
   "metadata": {
    "heading_collapsed": true
   },
   "source": [
    "### Growth curve analysis\n",
    "\n",
    "the previous calculation is based on two assumptions:\n",
    " 1. The PSF has the shape of a 2D Gaussian\n",
    " 2. We know the $\\mathrm{FWHM}$ of said PSF\n",
    " \n",
    "to validate those assumptions, we measure the flux as a function of aperture radius for different sources to check if if the shape is a Gaussian and to measure the real value of the $\\mathrm{FWHM}$."
   ]
  },
  {
   "cell_type": "code",
   "execution_count": null,
   "metadata": {
    "hidden": true
   },
   "outputs": [],
   "source": [
    "from photutils import CircularAperture\n",
    "from photutils import CircularAnnulus\n",
    "from photutils import aperture_photometry\n",
    "\n",
    "import scipy.optimize as optimization\n",
    "\n",
    "from pymuse.plot import single_cutout\n",
    "from pymuse.photometry import light_in_aperture"
   ]
  },
  {
   "cell_type": "code",
   "execution_count": null,
   "metadata": {
    "hidden": true
   },
   "outputs": [],
   "source": [
    "# we cannot sort a Table that has a SkyCoord object as a column\n",
    "del sources['SkyCoord']"
   ]
  },
  {
   "cell_type": "code",
   "execution_count": null,
   "metadata": {
    "hidden": true
   },
   "outputs": [],
   "source": [
    "# sort by brightness and select only sources from one pointing\n",
    "sources.sort('peak',reverse=True)\n",
    "PSF_fwhm = np.unique(sources['fwhm'])\n",
    "sub = sources[(sources['fwhm']==PSF_fwhm[2])]\n",
    "\n",
    "sub"
   ]
  },
  {
   "cell_type": "code",
   "execution_count": null,
   "metadata": {
    "hidden": true
   },
   "outputs": [],
   "source": [
    "# select one of the bright sources and take a look at it\n",
    "i = 3\n",
    "x,y = sub[i][['x','y']]\n",
    "guess=sub[i]['fwhm']\n",
    "single_cutout(NGC628,'whitelight',x,y)\n",
    "sub[i]"
   ]
  },
  {
   "cell_type": "code",
   "execution_count": null,
   "metadata": {
    "hidden": true
   },
   "outputs": [],
   "source": [
    "# this requires the next cell\n",
    "fit,sig = growth_curve(data,x,y,guess=0.8*guess,plot=True)\n",
    "print(f'reported={guess:.2f}, measured={fit[0]:.2f}, ratio={fit[0]/guess:.2f}')"
   ]
  },
  {
   "cell_type": "code",
   "execution_count": null,
   "metadata": {
    "hidden": true
   },
   "outputs": [],
   "source": [
    "data = NGC628.whitelight\n",
    "\n",
    "def growth_curve(data,x,y,guess=5,plot=False):\n",
    "    '''do a growth curve analysis on the given star\n",
    "    \n",
    "    measure the amount of light as a function of radius and tries\n",
    "    to fit a Gaussian to the measured profile. Returns the FWHM\n",
    "    of the Gaussian.\n",
    "    '''\n",
    "    \n",
    "    # we measure the flux for apertures of different radii\n",
    "    radius = np.arange(2,3.5*guess,1)\n",
    "    flux = []\n",
    "\n",
    "    for r in radius:\n",
    "        aperture = CircularAperture((x,y), r=r)\n",
    "        annulus_aperture = CircularAnnulus((x,y), r_in=r, r_out=2*r)\n",
    "        mask = annulus_aperture.to_mask(method='center')\n",
    "        annulus_data = mask.multiply(data)\n",
    "        annulus_data_1d = annulus_data[mask.data > 0]\n",
    "        _, bkg_median, _ = sigma_clipped_stats(annulus_data_1d[~np.isnan(annulus_data_1d)])\n",
    "        phot = aperture_photometry(data,aperture)\n",
    "        flux.append(phot['aperture_sum'][0]-aperture.area*bkg_median)\n",
    "    flux = np.array(flux)   \n",
    "    flux = flux/flux[-1]\n",
    "\n",
    "    guess = 4\n",
    "    fit = optimization.curve_fit(light_in_aperture, radius,flux , guess)\n",
    "    fwhm = fit[0]\n",
    "\n",
    "    if plot:\n",
    "        plt.plot(radius,flux,label='observed')\n",
    "        plt.plot(radius,light_in_aperture(radius,fwhm),label='fit')\n",
    "        plt.xlabel('radius in px')\n",
    "        plt.ylabel('light in aperture')\n",
    "        plt.legend()\n",
    "        plt.grid()\n",
    "\n",
    "    \n",
    "    return fit\n",
    "    #print(f'fwhm={fwhm[0]:.2f} px')\n"
   ]
  },
  {
   "cell_type": "code",
   "execution_count": null,
   "metadata": {
    "hidden": true
   },
   "outputs": [],
   "source": [
    "fwhm = []\n",
    "sig = []\n",
    "\n",
    "for row in sub:\n",
    "    x,y = row[['x','y']]\n",
    "    try:\n",
    "        f,s = growth_curve(data,x,y,row['fwhm'])\n",
    "        if any(s<0.1):\n",
    "            fwhm.append(f[0])\n",
    "            sig.append(s[0])\n",
    "    except:\n",
    "        pass\n",
    "    \n",
    "print(f'{np.mean(fwhm):.2f} +- {np.std(fwhm):.2f}')"
   ]
  },
  {
   "cell_type": "code",
   "execution_count": null,
   "metadata": {
    "hidden": true
   },
   "outputs": [],
   "source": [
    "fwhm = sub[i]['fwhm']/0.2\n",
    "print(fwhm)\n",
    "\n",
    "radius_px = np.arange(1,20,0.1)\n",
    "flux = []\n",
    "\n",
    "for r in radius_px:\n",
    "    aperture = CircularAperture((x,y), r=r)\n",
    "    annulus_aperture = CircularAnnulus((x,y), r_in=r, r_out=2*r)\n",
    "    mask = annulus_aperture.to_mask(method='center')\n",
    "    annulus_data = mask.multiply(data)\n",
    "    annulus_data_1d = annulus_data[mask.data > 0]\n",
    "    _, bkg_median, _ = sigma_clipped_stats(annulus_data_1d[~np.isnan(annulus_data_1d)])\n",
    "    phot = aperture_photometry(data,aperture)\n",
    "    flux.append(phot['aperture_sum'][0]-aperture.area*bkg_median)\n",
    "    \n",
    "flux = np.array(flux) \n",
    "\n",
    "p = light_in_aperture(radius_px/fwhm,1)\n",
    "plt.plot(radius_px,flux/flux[-1]*100,label='observed')\n",
    "plt.plot(radius_px,100*p,label='theory')\n",
    "plt.legend()\n",
    "\n",
    "plt.xlabel('radius in px')\n",
    "plt.ylabel('light in aperture in %')\n",
    "plt.grid()\n"
   ]
  },
  {
   "cell_type": "markdown",
   "metadata": {},
   "source": [
    "### Aperture Photometry\n",
    "\n",
    "we use the positions of the previously detected sources to measure the flux of different lines\n",
    "\n",
    "https://photutils.readthedocs.io/en/stable/aperture.html\n",
    "\n",
    "the values in the pixels are in units of $10^{-20} \\ \\mathrm{erg}  \\ \\mathrm{cm}^{-2} \\ \\mathrm{s}^{-1} / \\mathrm{spaxel}$. To convert into apparent magnitudes we can use\n",
    "\n",
    "$$\n",
    "m_{[\\mathrm{O\\ III}]} = -2.5 \\cdot \\log F_{[\\mathrm{O\\ III}]} - 13.74\n",
    "$$\n",
    "\n",
    "where $F_{[\\mathrm{O\\ III}]}$ is given measured in $\\mathrm{erg}  \\ \\mathrm{cm}^{-2} \\ \\mathrm{s}^{-1}$\n",
    "\n",
    "$$\n",
    "\\Delta m_{[\\mathrm{O\\ III}]} = \\sqrt{\\left(\\frac{-2.5 \\cdot \\Delta F_{[\\mathrm{O\\ III}]}}{\\ln 10 \\cdot F_{[\\mathrm{O\\ III}]}}\\right)^2 }\n",
    "$$"
   ]
  },
  {
   "cell_type": "code",
   "execution_count": 30,
   "metadata": {},
   "outputs": [],
   "source": [
    "from astropy.coordinates import match_coordinates_sky # match sources against existing catalog\n",
    "from astropy.coordinates import Angle                 # work with angles (e.g. 1°2′3″)\n",
    "\n",
    "from extinction import ccm89     # calculate extinction Cardelli et al. (1989)\n",
    "\n",
    "from pymuse.photometry import measure_flux"
   ]
  },
  {
   "cell_type": "code",
   "execution_count": 31,
   "metadata": {},
   "outputs": [
    {
     "name": "stdout",
     "output_type": "stream",
     "text": [
      "INFO:pymuse.photometry:measuring fluxes in NGC628 for 7688 sources\n",
      "INFO:pymuse.photometry:measuring fluxes in [OIII5006] line map\n",
      "INFO:pymuse.photometry:measuring fluxes in [HA6562] line map\n",
      "INFO:pymuse.photometry:measuring fluxes in [NII6583] line map\n",
      "INFO:pymuse.photometry:measuring fluxes in [SII6716] line map\n",
      "INFO:pymuse.photometry:all flux measurements completed\n"
     ]
    }
   ],
   "source": [
    "#NGC628.lines.append('OIII5006_DAP')\n",
    "# use diferent OIII map\n",
    "flux = measure_flux(NGC628,aperture_size=3)"
   ]
  },
  {
   "cell_type": "markdown",
   "metadata": {},
   "source": [
    "#### Compare to Kreckel et al. 2017\n",
    "\n",
    "we only correct for extinction in the milky way. therefor we use the extinction function from Cardelli, Clayton & Mathis (1989) with $A_V = 0.2$ and $R_V=3.1$. The extinction is calculated with the following package\n",
    "\n",
    "https://extinction.readthedocs.io/en/latest/"
   ]
  },
  {
   "cell_type": "code",
   "execution_count": 32,
   "metadata": {},
   "outputs": [],
   "source": [
    "from astropy.coordinates import match_coordinates_sky # match sources against existing catalog\n",
    "from astropy.coordinates import Angle                 # work with angles (e.g. 1°2′3″)"
   ]
  },
  {
   "cell_type": "code",
   "execution_count": 33,
   "metadata": {},
   "outputs": [
    {
     "name": "stdout",
     "output_type": "stream",
     "text": [
      "30 PN match within 0.4\"\n",
      "the mean deviation is 0.261 dex\n"
     ]
    },
    {
     "data": {
      "image/png": "[encoded data removed]",
      "text/plain": [
       "<Figure size 504x504 with 1 Axes>"
      ]
     },
     "metadata": {
      "image/png": {
       "height": 433,
       "width": 453
      },
      "needs_background": "light"
     },
     "output_type": "display_data"
    }
   ],
   "source": [
    "ID, angle, Quantity  = match_coordinates_sky(pn_bright['SkyCoord'],flux['SkyCoord'])\n",
    "\n",
    "# for each object from Kreckel et al. 2017, we search for the nearest source\n",
    "# and copy our measured quantities to compare the two\n",
    "pn_bright['mOIII_measured']  = flux[ID]['mOIII']\n",
    "pn_bright['dmOIII_measured'] = flux[ID]['dmOIII']\n",
    "pn_bright['sep'] = angle\n",
    "\n",
    "# calculate extinction correction (only for non DAP)\n",
    "extinction = ccm89(wave=np.array([5007.]),a_v=0.2,r_v=3.1,unit='aa')[0]\n",
    "pn_bright['mOIII_measured'] -= extinction\n",
    "\n",
    "fig,ax = plt.subplots(figsize=(7,7))\n",
    "\n",
    "# we only use sources when their position agrees within this tolerance\n",
    "tolerance = '0.4\"'\n",
    "\n",
    "# calculate the difference in magnitude for those objects\n",
    "dif = np.mean(np.abs(pn_bright[angle<Angle(tolerance)]['mOIII'] - pn_bright[angle<Angle(tolerance)]['mOIII_measured']))\n",
    "\n",
    "print(f'{len(pn_bright[angle<Angle(tolerance)])} PN match within {tolerance}')\n",
    "print(f'the mean deviation is {dif:.3f} dex')\n",
    "\n",
    "ax.errorbar(pn_bright[angle<Angle(tolerance)]['mOIII'],\n",
    "            pn_bright[angle<Angle(tolerance)]['mOIII_measured'],\n",
    "            yerr=pn_bright[angle<Angle(tolerance)]['dmOIII_measured'],\n",
    "            fmt='o')\n",
    "\n",
    "ax.plot([25.5,27.5],[25.5,27.5],color='black',lw=0.4)\n",
    "ax.set_xlabel(r'$\\mathrm{m}_{[\\mathrm{OIII}]}$ Kreckel et al. 2017',fontsize=16)\n",
    "ax.set_ylabel(r'$\\mathrm{m}_{[\\mathrm{OIII}]}$ new',fontsize=16)\n",
    "\n",
    "plt.show()"
   ]
  },
  {
   "cell_type": "markdown",
   "metadata": {},
   "source": [
    "## Emission line diagnostics\n",
    "\n",
    "We built a catalgoue of possible planetary nebula and measuerd different emission lines. However this catalogue still contains objects that are similar to PN like HII regions or supernova remenants (SNR). In this next step we use emission line diagnostics to eliminate those contanimations. The distance modulus $\\mu$ is defined as the difference between the apparent and the absolute magnitude. By definition of the absolute magnitude, this relates to the distance $d$ in parsec as \n",
    "$$\n",
    "\\begin{align}\n",
    "\\mu = m - M \\\\\n",
    "d = 10^{1+\\frac{\\mu}{5}}\n",
    "\\end{align}\n",
    "$$\n",
    "\n",
    " 1. filter out HII regions\n",
    "    $$\n",
    "     4 > \\log_{10} \\frac{[\\mathrm{OIII}]}{\\mathrm{H}\\alpha +[\\mathrm{NII}]} > -0.37 M_{[\\mathrm{OIII}]} - 1.16\n",
    "    $$\n",
    " 2. filter out SNR\n",
    "    $$\n",
    "     \\mathrm{H}\\alpha / [\\mathrm{SII}] > 2.5\n",
    "    $$\n",
    "    \n",
    " 3. estimate completness limit (for now I use 28) and remove fainter sources\n",
    "    "
   ]
  },
  {
   "cell_type": "code",
   "execution_count": 81,
   "metadata": {},
   "outputs": [
    {
     "data": {
      "image/png": "[encoded data removed]",
      "text/plain": [
       "<Figure size 432x288 with 1 Axes>"
      ]
     },
     "metadata": {
      "image/png": {
       "height": 266,
       "width": 393
      },
      "needs_background": "light"
     },
     "output_type": "display_data"
    }
   ],
   "source": [
    "def plot_emission_line_ratio(table):\n",
    "    \n",
    "    table = table[(~np.isnan(table['OIII5006'])) & (~np.isnan(table['HA6562']))]\n",
    "    \n",
    "    fig, ax = plt.subplots()\n",
    "    ax.scatter(table['mOIII'],table['OIII5006']/table['HA6562'])\n",
    "    ax.set(xlim=[24,29.5],\n",
    "           ylim=[0.05,10],\n",
    "           yscale='log',\n",
    "           xlabel='m_OIII',\n",
    "           ylabel='OIII/Ha')\n",
    "            \n",
    "    plt.show()\n",
    "    \n",
    "plot_emission_line_ratio(tbl)"
   ]
  },
  {
   "cell_type": "code",
   "execution_count": 35,
   "metadata": {},
   "outputs": [],
   "source": [
    "# calculate absolute magnitude from distance modulus\n",
    "mu = 29.91\n",
    "flux['MOIII'] = flux['mOIII'] - mu"
   ]
  },
  {
   "cell_type": "code",
   "execution_count": 36,
   "metadata": {},
   "outputs": [
    {
     "name": "stdout",
     "output_type": "stream",
     "text": [
      "INFO:__main__:7688 entries in initial catalogue\n",
      "INFO:__main__:3839 rows were removed because they contain NaN values\n",
      "INFO:__main__:2762 objects were removed because they are HII regions\n",
      "INFO:__main__:698 objects were removed because they are SNR\n",
      "INFO:__main__:235 objects below the completness limit removed\n",
      "INFO:__main__:154 possible planetary nebula found\n"
     ]
    }
   ],
   "source": [
    "\n",
    "def emission_line_diagnostics(table):\n",
    "    '''\n",
    "    \n",
    "    \n",
    "    4 > log10 [OIII] / (Ha +[NII]) > -0.37 M[OIII] - 1.16\n",
    "    \n",
    "    '''\n",
    "    \n",
    "    completeness_limit = 29\n",
    "        \n",
    "    # make sure the input is of the correct type\n",
    "    if not isinstance(table,Table):\n",
    "        raise TypeError('wrong input')\n",
    "    \n",
    "    # next we check if all columns exist\n",
    "    required = ['OIII5006','HA6562','NII6583','SII6716','mOIII','MOIII']\n",
    "    missing = set(required) - set(flux.columns)\n",
    "    if missing:\n",
    "        raise KeyError(f'input table is missing {\", \".join(missing)}')\n",
    "    del missing\n",
    "    \n",
    "    logger.info(f'{len(table)} entries in initial catalogue')\n",
    "\n",
    "    # remove rows with NaN values in some columns\n",
    "    mask =  np.ones(len(table), dtype=bool)\n",
    "    for col in required:\n",
    "        mask &=  ~np.isnan(table[col])\n",
    "    table = table[mask]\n",
    "    logger.info(f'{len(mask[mask==False])} rows were removed because they contain NaN values')\n",
    "\n",
    "    criteria1 = 4 > np.log10(table['OIII5006'] / (table['HA6562']+table['NII6583']))\n",
    "    criteria2 = np.log10(table['OIII5006'] / (table['HA6562']+table['NII6583'])) > -0.37*table['MOIII'] - 1.16    \n",
    "    mask = criteria1 & criteria2\n",
    "    table = table[mask]\n",
    "    logger.info(f'{len(mask[mask==False])} objects were removed because they are HII regions')\n",
    "\n",
    "    criteria3 = table['HA6562'] / table['SII6716'] > 2.5\n",
    "    table = table[criteria3]\n",
    "    logger.info(f'{len(criteria3[criteria3==False])} objects were removed because they are SNR')\n",
    "    \n",
    "    mask = table['mOIII']< completeness_limit\n",
    "    table = table[mask]\n",
    "    logger.info(f'{len(mask[mask==False])} objects below the completness limit removed')    \n",
    "\n",
    "    logger.info(f'{len(table)} possible planetary nebula found')\n",
    "    \n",
    "    return table\n",
    "    \n",
    "    \n",
    "tbl = emission_line_diagnostics(flux)\n"
   ]
  },
  {
   "cell_type": "code",
   "execution_count": null,
   "metadata": {},
   "outputs": [],
   "source": [
    "tolerance = '0.5\"'\n",
    "ID, angle, Quantity  = match_coordinates_sky(pn_bright['SkyCoord'],tbl['SkyCoord'])\n",
    "within_tolerance = len(angle[angle.__lt__(Angle(tolerance))])\n",
    "\n",
    "print(f'{within_tolerance} of {len(angle)} match within {tolerance}\": {within_tolerance / len(angle)*100:.1f} %')\n",
    "print(f'mean seperation is {angle.mean().to_string(u.arcsec,decimal=True)}\"')"
   ]
  },
  {
   "cell_type": "markdown",
   "metadata": {},
   "source": [
    "## Planetary nebula luminosity function\n",
    "\n",
    "\n",
    "\n",
    "$$ \n",
    "\\begin{align}\n",
    "N(M) \\propto e^{0.307 M} \\left( 1- e^{3(M^*-M)} \\right)\n",
    "\\end{align}\n",
    "$$\n",
    "\n",
    "### With least square \n",
    "\n",
    " - to use a least square approach we need to bin the data. \n",
    " + easier to implement"
   ]
  },
  {
   "cell_type": "code",
   "execution_count": 37,
   "metadata": {},
   "outputs": [],
   "source": [
    "import scipy.optimize as optimization\n",
    "from scipy.optimize import minimize\n",
    "from inspect import signature"
   ]
  },
  {
   "cell_type": "code",
   "execution_count": null,
   "metadata": {},
   "outputs": [],
   "source": [
    "Mmax = -4.47\n",
    "delta = 2.5\n",
    "norm = np.exp(0.307*Mmax - 2.693*delta)*(0.371333 - 3.62866*np.exp(2.693*delta) + 3.25733 * np.exp(3*delta))\n",
    "\n",
    "norm"
   ]
  },
  {
   "cell_type": "code",
   "execution_count": 69,
   "metadata": {},
   "outputs": [
    {
     "name": "stdout",
     "output_type": "stream",
     "text": [
      "mu=29.931, N0=21.69\n"
     ]
    },
    {
     "data": {
      "image/png": "[encoded data removed]",
      "text/plain": [
       "<Figure size 576x288 with 2 Axes>"
      ]
     },
     "metadata": {
      "image/png": {
       "height": 262,
       "width": 505
      },
      "needs_background": "light"
     },
     "output_type": "display_data"
    }
   ],
   "source": [
    "def pnlf(m,mu,N0):\n",
    "    '''planetary nebula luminosity function\n",
    "    \n",
    "    Parameters\n",
    "    ----------\n",
    "        \n",
    "    m : ndarray\n",
    "        apparent magnitudes of the PNs\n",
    "        \n",
    "    mu : float\n",
    "        distance modulus\n",
    "    '''\n",
    "    \n",
    "    Mmax = -4.47\n",
    "    delta = 2.5\n",
    "    norm = np.exp(0.307*Mmax - 2.693*delta)*(0.371333 - 3.62866*np.exp(2.693*delta) + 3.25733 * np.exp(3*delta))\n",
    "    \n",
    "    return norm*N0*np.exp(0.307*(m-mu)) * (1-np.exp(3*(Mmax-m+mu)))\n",
    "\n",
    "def fit_pnlf(table):\n",
    "    \n",
    "    binsize = 0.2\n",
    "    guess = np.array([25,10])\n",
    "    \n",
    "    mlow = np.floor(np.min(table))\n",
    "    mhigh = np.ceil(np.max(table))\n",
    "    hist,bins  = np.histogram(table,np.arange(mlow,mhigh,binsize))\n",
    "    \n",
    "    fit,sig = optimization.curve_fit(pnlf, bins[1:]+binsize/2,hist , guess)\n",
    "    mu, N0 = fit\n",
    "    print(f'mu={mu:.3f}, N0={N0:.2f}')\n",
    "    \n",
    "    fig, (ax1,ax2) = plt.subplots(1,2,figsize=(8,4))\n",
    "    \n",
    "    ax1.scatter(bins[:-1]+binsize/2,hist)\n",
    "    ax1.plot(bins[:-1]+binsize/2,pnlf(bins[:-1]+0.1,mu=mu,N0=N0),c='tab:orange',ls='--')\n",
    "    ax1.set_yscale('log')\n",
    "    ax1.set_xlim([25,28])\n",
    "    ax1.set_ylim([0.8,np.max(hist)])\n",
    "    ax1.set_xlabel('$m_{[\\mathrm{OIII}]}$')\n",
    "    ax1.set_ylabel('$N$')\n",
    "    \n",
    "    ax2.plot(bins[1:]+binsize/2,np.cumsum(hist))\n",
    "    ax2.plot(bins[1:]+binsize/2,np.cumsum(pnlf(bins[:-1]+binsize/2,mu=mu,N0=N0)),ls='--')\n",
    "    ax2.set_xlim([mlow,mhigh])\n",
    "    ax2.set_ylim([0,len(table)])\n",
    "    ax2.set_xlabel('$m_{[\\mathrm{OIII}]}$')\n",
    "    ax2.set_ylabel('Cumulative N')\n",
    "    \n",
    "fit_pnlf(tbl['mOIII'])"
   ]
  },
  {
   "cell_type": "markdown",
   "metadata": {},
   "source": [
    "### With maximum liklihood"
   ]
  },
  {
   "cell_type": "markdown",
   "metadata": {},
   "source": [
    "Maximum liklihood estimator"
   ]
  },
  {
   "cell_type": "code",
   "execution_count": 72,
   "metadata": {},
   "outputs": [
    {
     "name": "stdout",
     "output_type": "stream",
     "text": [
      "mu=-2.71e+03\n",
      "N0=1.62e+03\n"
     ]
    }
   ],
   "source": [
    "Mmax = -4.47\n",
    "delta = 2.5\n",
    "norm = np.exp(0.307*Mmax - 2.693*delta)*(0.371333 - 3.62866*np.exp(2.693*delta) + 3.25733 * np.exp(3*delta)) \n",
    "\n",
    "\n",
    "class MaximumLikelihood:\n",
    "    '''\n",
    "    \n",
    "    Parameters\n",
    "    ----------\n",
    "    func : function\n",
    "        PDF of the form `func(data,params)`. `func` must accept a\n",
    "        ndarray for `data` and can have any number of additional\n",
    "        parameters.\n",
    "        \n",
    "    data : ndarray\n",
    "        Measured data that are feed into `func`.\n",
    "    '''\n",
    "    \n",
    "    def __init__(self,func,data):\n",
    "        \n",
    "        self.data = data\n",
    "        if len(signature(func).parameters)<2:\n",
    "            raise ValueError(f'`func` must accept at least two arguments')\n",
    "        self.func = func\n",
    "\n",
    "    def loglik(self,params):\n",
    "        '''calculate the log liklihood of the given parameters\n",
    "        \n",
    "        This function takes the previously specified PDF and calculates\n",
    "        the sum of the logarithmic probabilities.\n",
    "        '''\n",
    "        \n",
    "        return np.sum(-np.log(self.func(self.data,*params)))\n",
    "    \n",
    "    def fit(self,guess):\n",
    "        '''use scipy minimize to find the best parameters'''\n",
    "        \n",
    "        self.result = minimize(self.loglik,guess,method ='Nelder-Mead')\n",
    "        for name,var in zip(list(signature(self.func).parameters)[1:],self.result.x):\n",
    "            print(f'{name}={var:.3g}')\n",
    "        \n",
    "    def __call__(self,guess):\n",
    "        self.fit(guess)\n",
    "        \n",
    "fitter = MaximumLikelihood(pnlf,tbl['mOIII'])\n",
    "fitter([29,20])\n"
   ]
  },
  {
   "cell_type": "code",
   "execution_count": 67,
   "metadata": {},
   "outputs": [
    {
     "name": "stdout",
     "output_type": "stream",
     "text": [
      "mu=4.08\n",
      "sig=1.1\n"
     ]
    }
   ],
   "source": [
    "def gaussian(x,mu,sig):\n",
    "    return 1/np.sqrt(2*np.pi*sig**2) * np.exp(-(x-mu)**2/(2*sig**2))\n",
    "\n",
    "data = np.random.normal(4.2,1.1,50)\n",
    "\n",
    "fit = MaximumLikelihood(gaussian,data)\n",
    "fit([3,5])"
   ]
  }
 ],
 "metadata": {
  "kernelspec": {
   "display_name": "Python 3",
   "language": "python",
   "name": "python3"
  },
  "language_info": {
   "codemirror_mode": {
    "name": "ipython",
    "version": 3
   },
   "file_extension": ".py",
   "mimetype": "text/x-python",
   "name": "python",
   "nbconvert_exporter": "python",
   "pygments_lexer": "ipython3",
   "version": "3.7.5"
  },
  "pycharm": {
   "stem_cell": {
    "cell_type": "raw",
    "metadata": {
     "collapsed": false
    },
    "source": []
   }
  },
  "toc": {
   "base_numbering": 1,
   "nav_menu": {},
   "number_sections": true,
   "sideBar": true,
   "skip_h1_title": false,
   "title_cell": "Table of Contents",
   "title_sidebar": "Contents",
   "toc_cell": false,
   "toc_position": {
    "height": "calc(100% - 180px)",
    "left": "10px",
    "top": "150px",
    "width": "341.333px"
   },
   "toc_section_display": true,
   "toc_window_display": true
  }
 },
 "nbformat": 4,
 "nbformat_minor": 2
}
