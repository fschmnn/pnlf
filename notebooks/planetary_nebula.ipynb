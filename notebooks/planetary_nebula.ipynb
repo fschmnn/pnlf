{
 "cells": [
  {
   "cell_type": "markdown",
   "metadata": {},
   "source": [
    "# Planetary Nebula <a class=\"tocSkip\">\n",
    "    \n",
    "This notebook is used to test and showcase the results of my first project. I use spectroscopic data from the [Multi Unit Spectroscopic Explorer](https://www.eso.org/sci/facilities/develop/instruments/muse.html) (MUSE) that has been observed as part of the [PHANGS](https://sites.google.com/view/phangs/home) collaboration.\n",
    "    \n",
    "I will use a set of line maps of emission lines to identify Planetary Nebula in the data an measure their brightness. This can then be used to fit an empiric relation and hence measure the distance to the galaxy.\n",
    "    \n",
    "This notebook is used for developement. Final code is moved to the `pymuse` packge in the `src` folder. Any production scripts reside in the `scripts` folder."
   ]
  },
  {
   "cell_type": "markdown",
   "metadata": {},
   "source": [
    "## Preparation\n",
    " \n",
    "### Load Basic Packages\n",
    "    \n",
    "First we load a bunch of common packages that are used across the project. More specific packages that are only used in one section are loaded later to make it clear where they belong to (this also applies to all custom moduls that were written for this project)."
   ]
  },
  {
   "cell_type": "code",
   "execution_count": 1,
   "metadata": {},
   "outputs": [],
   "source": [
    "# reload modules after they have been modified\n",
    "%load_ext autoreload\n",
    "%autoreload 2\n",
    "\n",
    "# some basic packages\n",
    "import os                 # filesystem related stuff\n",
    "from pathlib import Path  # use instead of os.path and glob\n",
    "import sys                # mostly replaced by pathlib\n",
    "\n",
    "import errno      # more detailed error messages\n",
    "import warnings   # handles warnings\n",
    "import logging    # use logging instead of print\n",
    "\n",
    "from collections import OrderedDict  \n",
    "\n",
    "# packages for scientific computing\n",
    "import numpy as np\n",
    "import scipy as sp\n",
    "\n",
    "# packages for creating plots and figures\n",
    "import matplotlib as mpl\n",
    "import matplotlib.pyplot as plt\n",
    "\n",
    "%matplotlib inline\n",
    "%config InlineBackend.figure_format = 'retina'\n",
    "\n",
    "# special functions for astronomy \n",
    "from astropy.table import Table  # useful datastructure\n",
    "from astropy.table import vstack # combine multiple tables\n",
    "\n",
    "from astropy.io import fits      # open fits files\n",
    "from astropy.io import ascii     # handle normal files\n",
    "\n",
    "from astropy.wcs import WCS               # handle coordinates\n",
    "from astropy.coordinates import SkyCoord  # convert pixel to sky coordinates\n",
    "\n",
    "from astropy.stats import sigma_clipped_stats  # calcualte statistics of images\n",
    "\n",
    "import astropy.units as u        # handle units"
   ]
  },
  {
   "cell_type": "markdown",
   "metadata": {},
   "source": [
    "we use the `logging` module to handle informations and warnings (this does not always work as expected in jupyter notebooks)."
   ]
  },
  {
   "cell_type": "code",
   "execution_count": 2,
   "metadata": {},
   "outputs": [],
   "source": [
    "logging.basicConfig(stream=sys.stdout,\n",
    "                    #format='(levelname)s %(name)s %(message)s',\n",
    "                    datefmt='%H:%M:%S',\n",
    "                    level=logging.INFO)\n",
    "\n",
    "logger = logging.getLogger(__name__)"
   ]
  },
  {
   "cell_type": "markdown",
   "metadata": {},
   "source": [
    "### Reference files\n",
    "\n",
    "To test the newly written routines we compare our results to those from Kreckel et al. (2017)\n",
    "\n",
    "**Requires** (both already loaded with standard packages)\n",
    " * `astropy.io.ascii`\n",
    " * `astropy.coordinates.SkyCoord`\n",
    " \n",
    "**Returns**\n",
    " * `pn_kreckel` table with all PNe detected by Kreckel et al. (2017)\n",
    " * `pn_bright` only PNe that are brighter than the completeness limit\n",
    " * `pn_hermann` only PNe that were also detected by Hermann et al. 2008"
   ]
  },
  {
   "cell_type": "code",
   "execution_count": 3,
   "metadata": {},
   "outputs": [],
   "source": [
    "pn_kreckel = ascii.read(os.path.join('..','data','external','kreckel_pn_2017.txt'))\n",
    "\n",
    "def string_to_ra(string):\n",
    "    '''convert coordinates from Kreckel et al. (2017) to astropy\n",
    "    \n",
    "    the right ascension in the paper is given as \n",
    "    \"01:36:42.212\" but astropy requires \"01h36m42.212s\".\n",
    "    This function replaces the \":\" with the appropriate character.\n",
    "    '''\n",
    "    return string.replace(':','h',1).replace(':','m') + 's'\n",
    "\n",
    "def string_to_dec(string):\n",
    "    '''convert coordinates from Kreckel et al. (2017) to astropy\n",
    "    \n",
    "    the declination in the paper is given as \"01:36:42.212\" \n",
    "    but astropy requires \"01d36m42.212s\".\n",
    "    This function replaces the \":\" with the appropriate character.\n",
    "    '''\n",
    "    return string.replace(':','d',1).replace(':','m') + 's'\n",
    "\n",
    "# convert string to astronomical coordinates\n",
    "pn_kreckel['RA'] = list(map(string_to_ra,pn_kreckel['RA']))\n",
    "pn_kreckel['DEC'] = list(map(string_to_dec,pn_kreckel['DEC']))\n",
    "pn_kreckel['SkyCoord'] = SkyCoord(pn_kreckel['RA'],pn_kreckel['DEC'])\n",
    "\n",
    "# select some subsets (PN from Hermann et al. 2008 or bright sources only)\n",
    "pn_herrmann = pn_kreckel[[True if i.endswith('a') else False for i in pn_kreckel['ID']]]\n",
    "pn_bright = pn_kreckel[pn_kreckel['mOIII']<27]"
   ]
  },
  {
   "cell_type": "markdown",
   "metadata": {},
   "source": [
    "### Read in data\n",
    "\n",
    "this uses the `ReadLineMaps` class from the `pymuse.io` module. To use it, we first need to specify the path to the data folder"
   ]
  },
  {
   "cell_type": "code",
   "execution_count": 7,
   "metadata": {},
   "outputs": [
    {
     "name": "stdout",
     "output_type": "stream",
     "text": [
      "INFO:pymuse.io:loading NGC628\n",
      "INFO:pymuse.io:replacing OIII5006 map\n",
      "INFO:pymuse.io:file loaded with 4 extensions\n",
      "name: NGC628\n",
      "filename\n",
      "lines\n",
      "header\n",
      "wcs\n",
      "shape\n",
      "whitelight\n",
      "OIII5006\n",
      "OIII5006_err\n",
      "HA6562\n",
      "HA6562_err\n",
      "NII6583\n",
      "NII6583_err\n",
      "SII6716\n",
      "SII6716_err\n",
      "OIII5006_DAP\n",
      "OIII5006_DAP_err\n",
      "PSF\n",
      "\n"
     ]
    }
   ],
   "source": [
    "from pymuse.io import ReadLineMaps\n",
    "\n",
    "# first we need to specify the path to the raw data\n",
    "data_raw = Path('d:\\downloads\\MUSEDAP')\n",
    "basedir = Path('..')\n",
    "\n",
    "# list all files in the specified directory\n",
    "galaxies = [x.name for x in data_raw.iterdir() if x.is_dir()]\n",
    "#print(', '.join(map(str,galaxies)))\n",
    "\n",
    "# read in the data we will be working with and print some information\n",
    "NGC628 = ReadLineMaps(data_raw / 'NGC628')\n",
    "print(NGC628)"
   ]
  },
  {
   "cell_type": "markdown",
   "metadata": {},
   "source": [
    "## Source Detection\n",
    "\n",
    "There are two different approaches to identifying sources in an image. The first utilizes PSF fitting and uses implementations from astropy. The other uses the external `SExtractor` package which detects peaks and classifies them with a neural network."
   ]
  },
  {
   "cell_type": "markdown",
   "metadata": {},
   "source": [
    "### Based on IRAFStarFinder or DAPStarFinder\n",
    "\n",
    "The sources we are searching for are unresolved. However due to seeing, they will be smeared out. This PSF has the form of a Gaussian (or Moffat). The subsequent algorithms use this and try to fit a theoretical curve to the observed peaks in the image. If the fit aggrees within some threshold, it reports the peak as a source. The advantage is that for crowded fields, the algorithm will try to fit an individual function to each peak and thus enable us correctly identfiy objects that are closeby.\n",
    "\n",
    "The following function is based on this tutorial \n",
    "\n",
    "https://photutils.readthedocs.io/en/stable/detection.html\n",
    "\n",
    "https://photutils.readthedocs.io/en/stable/api/photutils.detection.DAOStarFinder.html#photutils.detection.DAOStarFinder\n",
    "\n",
    "**Requires**\n",
    " * A `photutils` starfinder. This can be either `DAOStarFinder` or `IRAFStarFinder`\n",
    " * `detect_unresolved_sources`\n",
    " \n",
    "**Returns**\n",
    " * `sources` a table with the position of all identified sources"
   ]
  },
  {
   "cell_type": "code",
   "execution_count": 21,
   "metadata": {},
   "outputs": [],
   "source": [
    "from photutils import DAOStarFinder            # DAOFIND routine to detect sources\n",
    "from photutils import IRAFStarFinder           # IRAF starfind routine to detect star\n",
    "\n",
    "from pymuse.detection import detect_unresolved_sources"
   ]
  },
  {
   "cell_type": "code",
   "execution_count": 102,
   "metadata": {},
   "outputs": [
    {
     "name": "stdout",
     "output_type": "stream",
     "text": [
      "INFO:pymuse.detection:searching for sources in NGC628 with [OIII5006] line map (using DAOStarFinder)\n",
      "\n",
      "INFO:pymuse.detection:     fwhm   #N    mean  median     std\n",
      "INFO:pymuse.detection:  2.965px   97  19.993  18.463   5.530\n",
      "INFO:pymuse.detection:  3.170px  356  19.065  17.491   5.661\n",
      "INFO:pymuse.detection:  3.380px  192  21.828  20.578   5.362\n",
      "INFO:pymuse.detection:  3.560px  198  15.656  14.786   3.932\n",
      "INFO:pymuse.detection:  3.565px  170  29.598  28.009   8.562\n",
      "INFO:pymuse.detection:  3.685px  128  12.933  12.066   3.080\n",
      "INFO:pymuse.detection:  3.715px  239  15.853  14.794   4.799\n",
      "INFO:pymuse.detection:  3.815px  134  22.816  21.148   6.284\n",
      "INFO:pymuse.detection:  3.875px  117  15.863  15.100   4.603\n",
      "INFO:pymuse.detection:  4.090px  118  13.381  12.423   3.782\n",
      "INFO:pymuse.detection:  total   1749\n"
     ]
    }
   ],
   "source": [
    "sources = detect_unresolved_sources(NGC628,\n",
    "                                    'OIII5006',\n",
    "                                    StarFinder=DAOStarFinder,\n",
    "                                    threshold=5,\n",
    "                                    PSF_size = 1.3,\n",
    "                                    save=True)"
   ]
  },
  {
   "cell_type": "markdown",
   "metadata": {},
   "source": [
    "#### Compare to Kreckel et al. 2017\n",
    "\n",
    "As mentioned in the beginning, we compare the newly detected sources to those from Kreckel et al. (2017). \n",
    "\n",
    "**Requires**\n",
    " * `match_coordinates_sky` from `astropy.coordinates` to compare the two catalogues.\n",
    " * `Angle` from `astropy.coordinates` to set a maximum seperation in units of arcseconds."
   ]
  },
  {
   "cell_type": "code",
   "execution_count": null,
   "metadata": {},
   "outputs": [],
   "source": [
    "from astropy.coordinates import match_coordinates_sky # match sources against existing catalog\n",
    "from astropy.coordinates import Angle                 # work with angles (e.g. 1°2′3″)\n",
    "\n",
    "\n",
    "tolerance = '0.5s'\n",
    "ID, angle, Quantity  = match_coordinates_sky(pn_bright['SkyCoord'],sources['SkyCoord'])\n",
    "within_tolerance = len(angle[angle.__lt__(Angle(tolerance))])\n",
    "\n",
    "print(f'{within_tolerance} of {len(angle)} match within {tolerance}\": {within_tolerance / len(angle)*100:.1f} %')\n",
    "print(f'mean seperation is {angle.mean().to_string(u.arcsec,decimal=True)}\"')"
   ]
  },
  {
   "cell_type": "markdown",
   "metadata": {
    "heading_collapsed": true
   },
   "source": [
    "#### Plot detected sources"
   ]
  },
  {
   "cell_type": "code",
   "execution_count": null,
   "metadata": {
    "hidden": true
   },
   "outputs": [],
   "source": [
    "from pymuse.plot import plot_sky_with_detected_stars"
   ]
  },
  {
   "cell_type": "code",
   "execution_count": null,
   "metadata": {
    "hidden": true
   },
   "outputs": [],
   "source": [
    "position = np.transpose((sources['x'], sources['y']))\n",
    "positions_kk = np.transpose(pn_bright['SkyCoord'].to_pixel(wcs=NGC628.wcs))\n",
    "positions = (position,positions_kk)\n",
    "\n",
    "save_file = Path.cwd() / '..' / 'reports' / 'figures' / f'{NGC628.name}_sky_sources_DAO.pdf'\n",
    "plot_sky_with_detected_stars(data=NGC628.OIII5006_old,\n",
    "                             wcs=NGC628.wcs,\n",
    "                             positions=positions,\n",
    "                             filename=save_file)"
   ]
  },
  {
   "cell_type": "markdown",
   "metadata": {
    "heading_collapsed": true
   },
   "source": [
    "#### Cut out detected stars"
   ]
  },
  {
   "cell_type": "code",
   "execution_count": null,
   "metadata": {
    "hidden": true
   },
   "outputs": [],
   "source": [
    "from pymuse.plot import sample_cutouts"
   ]
  },
  {
   "cell_type": "code",
   "execution_count": null,
   "metadata": {
    "hidden": true
   },
   "outputs": [],
   "source": [
    "save_file = Path.cwd() / '..' / 'reports' / 'figures' / f'{NGC628.name}_stars.pdf'\n",
    "\n",
    "stars = sample_cutouts(NGC628.OIII5006_old,sources,NGC628.wcs,nrows=4,ncols=4)"
   ]
  },
  {
   "cell_type": "markdown",
   "metadata": {
    "heading_collapsed": true
   },
   "source": [
    "### Using SExtractor\n",
    "\n",
    "there is no Python implementation of SExtractor. Instead we run it from the command line\n",
    "\n",
    "```\n",
    "sextractor file.fits -c default.sex\n",
    "```\n",
    "\n",
    "this will produce a file `test.cat` which contains the position of the sources. We read this table and calculate the sky position wiht astropy"
   ]
  },
  {
   "cell_type": "code",
   "execution_count": null,
   "metadata": {
    "hidden": true
   },
   "outputs": [],
   "source": [
    "file = Path.cwd() / '..' / 'data' / 'interim' / 'NGC628.cat'\n",
    "\n",
    "table = ascii.read(file)\n",
    "table['SkyCoord'] = SkyCoord.from_pixel(table['X_IMAGE'],table['Y_IMAGE'],NGC628.wcs)\n",
    "\n",
    "print(f'{len(table)} sources found')"
   ]
  },
  {
   "cell_type": "code",
   "execution_count": null,
   "metadata": {
    "hidden": true
   },
   "outputs": [],
   "source": [
    "sources = Table()\n",
    "sources['x'] = table['X_IMAGE']\n",
    "sources['y'] = table['Y_IMAGE']\n",
    "sources['SkyCoord'] = table['SkyCoord']\n",
    "sources['fwhm'] = 0.8\n",
    "NGC628.sources = sources"
   ]
  },
  {
   "cell_type": "markdown",
   "metadata": {
    "hidden": true
   },
   "source": [
    "#### Match with known sources"
   ]
  },
  {
   "cell_type": "code",
   "execution_count": null,
   "metadata": {
    "hidden": true
   },
   "outputs": [],
   "source": [
    "ID, angle, Quantity  = match_coordinates_sky(pn_bright['SkyCoord'],table['SkyCoord'])\n",
    "within_1_arcsec = len(angle[angle.__lt__(Angle(\"0.5s\"))])\n",
    "\n",
    "print(f'{within_1_arcsec} of {len(angle)} match within 0.5\": {within_1_arcsec / len(angle)*100:.1f} %')\n",
    "print(f'mean seperation is {angle.mean().to_string(u.arcsec,decimal=True)}\"')\n",
    "#print(f'mean angle: {angle.mean():.2f}')"
   ]
  },
  {
   "cell_type": "markdown",
   "metadata": {
    "hidden": true
   },
   "source": [
    "#### Plot detected sources\n",
    "\n",
    "this requires the previously loaded `plot_sources` from `pymuse.plot`"
   ]
  },
  {
   "cell_type": "code",
   "execution_count": null,
   "metadata": {
    "hidden": true
   },
   "outputs": [],
   "source": [
    "file = Path.cwd() / '..' / 'reports' / 'figures' / f'{NGC628.name}_sources_sextractor.pdf'\n",
    "\n",
    "position = np.transpose((sources['x'], sources['y']))\n",
    "references = np.transpose(pn_bright['SkyCoord'].to_pixel(wcs=NGC628.wcs))\n",
    "positions = (position,references)\n",
    "\n",
    "sky_with_detected_stars(data=NGC628.OIII5006_old,wcs=NGC628.wcs,positions=positions,filename=file)"
   ]
  },
  {
   "cell_type": "markdown",
   "metadata": {},
   "source": [
    "## Completeness limit"
   ]
  },
  {
   "cell_type": "code",
   "execution_count": 114,
   "metadata": {},
   "outputs": [],
   "source": [
    "from pymuse.detection import completeness_limit"
   ]
  },
  {
   "cell_type": "code",
   "execution_count": 115,
   "metadata": {},
   "outputs": [
    {
     "name": "stdout",
     "output_type": "stream",
     "text": [
      "INFO:pymuse.detection:60 mock sources created\n",
      "INFO:pymuse.detection:mock sources inserted into image\n",
      "INFO:pymuse.detection:242 sources found\n",
      "INFO:pymuse.detection:searching for best match\n",
      "INFO:pymuse.detection:60 mock sources created\n",
      "INFO:pymuse.detection:mock sources inserted into image\n",
      "INFO:pymuse.detection:246 sources found\n",
      "INFO:pymuse.detection:searching for best match\n",
      "INFO:pymuse.detection:60 mock sources created\n",
      "INFO:pymuse.detection:mock sources inserted into image\n",
      "INFO:pymuse.detection:254 sources found\n",
      "INFO:pymuse.detection:searching for best match\n",
      "INFO:pymuse.detection:60 mock sources created\n",
      "INFO:pymuse.detection:mock sources inserted into image\n",
      "INFO:pymuse.detection:246 sources found\n",
      "INFO:pymuse.detection:searching for best match\n",
      "INFO:pymuse.detection:60 mock sources created\n",
      "INFO:pymuse.detection:mock sources inserted into image\n",
      "INFO:pymuse.detection:245 sources found\n",
      "INFO:pymuse.detection:searching for best match\n",
      "INFO:pymuse.detection:60 mock sources created\n",
      "INFO:pymuse.detection:mock sources inserted into image\n",
      "INFO:pymuse.detection:249 sources found\n",
      "INFO:pymuse.detection:searching for best match\n",
      "INFO:pymuse.detection:60 mock sources created\n",
      "INFO:pymuse.detection:mock sources inserted into image\n",
      "INFO:pymuse.detection:250 sources found\n",
      "INFO:pymuse.detection:searching for best match\n",
      "INFO:pymuse.detection:60 mock sources created\n",
      "INFO:pymuse.detection:mock sources inserted into image\n",
      "INFO:pymuse.detection:248 sources found\n",
      "INFO:pymuse.detection:searching for best match\n",
      "INFO:pymuse.detection:60 mock sources created\n",
      "INFO:pymuse.detection:mock sources inserted into image\n",
      "INFO:pymuse.detection:251 sources found\n",
      "INFO:pymuse.detection:searching for best match\n",
      "INFO:pymuse.detection:60 mock sources created\n",
      "INFO:pymuse.detection:mock sources inserted into image\n",
      "INFO:pymuse.detection:251 sources found\n",
      "INFO:pymuse.detection:searching for best match\n"
     ]
    },
    {
     "data": {
      "image/png": "[encoded data removed]",
      "text/plain": [
       "<Figure size 432x288 with 1 Axes>"
      ]
     },
     "metadata": {
      "image/png": {
       "height": 266,
       "width": 388
      },
      "needs_background": "light"
     },
     "output_type": "display_data"
    }
   ],
   "source": [
    "mock_sources = completeness_limit(\n",
    "                   NGC628,\n",
    "                   'OIII5006',\n",
    "                   DAOStarFinder,\n",
    "                   threshold=5,\n",
    "                   iterations=10,\n",
    "                   oversize_PSF=1.\n",
    "                                 )"
   ]
  },
  {
   "cell_type": "code",
   "execution_count": null,
   "metadata": {},
   "outputs": [],
   "source": [
    "mock_sources = completeness_limit(\n",
    "                   NGC628,\n",
    "                   'OIII5006',\n",
    "                   DAOStarFinder,\n",
    "                   threshold=8,\n",
    "                   iterations=1,\n",
    "                   oversize_PSF=1.\n",
    "                                 )"
   ]
  },
  {
   "cell_type": "markdown",
   "metadata": {},
   "source": [
    "## Flux measurement\n",
    "\n",
    "In the previous step we detected potential PN candidates by their [OIII] emission. This means we know their position but lack exact flux measurments. In this section we measure the flux of the identified objects in different emission lines that are used in later steps. "
   ]
  },
  {
   "cell_type": "markdown",
   "metadata": {
    "heading_collapsed": true
   },
   "source": [
    "### Growth curve analysis\n",
    "\n",
    "for the PSF we assume a 2D gaussian that is centered around the origin and has a variance of $\\sigma_x^2 = \\sigma_y^2 = \\sigma^2$ and an amplitude of $A$\n",
    "$$\n",
    "f(x,y) = A \\exp\\left(-\\frac{x^2+y^2}{2\\sigma^2}\\right)\n",
    "$$\n",
    "we can rewrite this in polar coordinates as \n",
    "$$\n",
    "f(r,\\phi) = A \\exp\\left(-\\frac{r^2}{2\\sigma^2}\\right)\n",
    "$$\n",
    "The light inside an aperture of radius $P(R)$ is given by the integral\n",
    "$$\n",
    "P(R) = \\int_0^{2\\pi} \\int_0^R f(r,\\phi) \\mathrm{d} \\phi r \\mathrm{d} r = 2\\pi \\sigma^2 A \\left(1-\\exp \\left(-\\frac{R^2}{2\\sigma^2}\\right) \\right) \n",
    "$$\n",
    "We are interested in the ratio $p(R) = P(R) / P(\\infty)$. If we use the relation between the standard deviation and the $\\mathrm{FWHM}$ of a Gaussian $\\sigma = \\frac{\\mathrm{FWHM}}{2\\sqrt{2\\ln2}}=$, we can write\n",
    "$$\n",
    "\\begin{align}\n",
    "p(R) = 1-\\exp\\left(- \\frac{4 \\ln 2 \\cdot R^2}{\\mathrm{fwhm}^2} \\right)\n",
    "\\end{align}\n",
    "$$"
   ]
  },
  {
   "cell_type": "code",
   "execution_count": null,
   "metadata": {
    "hidden": true
   },
   "outputs": [],
   "source": [
    "def light_in_aperture(radius,fwhm):\n",
    "    '''\n",
    "    p(r) = 1 - e^(-4 ln2 r^2/fwhm^2)\n",
    "    \n",
    "    Given a circular aperture with the specified radius, this function\n",
    "    calculates the fraction of light inside the aperture if the \n",
    "    underlying distribution is a 2D gaussian with the specified fwhm.     \n",
    "    '''\n",
    "    \n",
    "    return 1-np.exp(- 4*np.log(2)*radius**2 / fwhm**2)\n",
    "\n",
    "d = np.linspace(0.5,4)\n",
    "p = light_in_aperture(d/2,1)\n",
    "plt.plot(d,100*p)\n",
    "plt.xlabel('diameter in fwhm')\n",
    "plt.ylabel('light in aperture in %')\n",
    "plt.grid()"
   ]
  },
  {
   "cell_type": "markdown",
   "metadata": {
    "hidden": true
   },
   "source": [
    "the previous calculation is based on two assumptions:\n",
    " 1. The PSF has the shape of a 2D Gaussian\n",
    " 2. We know the $\\mathrm{FWHM}$ of said PSF\n",
    " \n",
    "to validate those assumptions, we measure the flux as a function of aperture radius for different sources to check if if the shape is a Gaussian and to measure the real value of the $\\mathrm{FWHM}$."
   ]
  },
  {
   "cell_type": "code",
   "execution_count": null,
   "metadata": {
    "hidden": true
   },
   "outputs": [],
   "source": [
    "from pymuse.plot import single_cutout\n",
    "from pymuse.photometry import growth_curve"
   ]
  },
  {
   "cell_type": "code",
   "execution_count": null,
   "metadata": {
    "hidden": true
   },
   "outputs": [],
   "source": [
    "# we cannot sort a Table that has a SkyCoord object as a column\n",
    "del sources['SkyCoord']"
   ]
  },
  {
   "cell_type": "code",
   "execution_count": null,
   "metadata": {
    "hidden": true
   },
   "outputs": [],
   "source": [
    "# sort by brightness and select only sources from one pointing\n",
    "sources.sort('peak',reverse=True)\n",
    "PSF_fwhm = np.unique(sources['fwhm'])\n",
    "sub = sources[(sources['fwhm']==PSF_fwhm[2])]"
   ]
  },
  {
   "cell_type": "code",
   "execution_count": null,
   "metadata": {
    "hidden": true
   },
   "outputs": [],
   "source": [
    "# select one of the bright sources and take a look at it\n",
    "i = 3\n",
    "x,y = sub[i][['x','y']]\n",
    "guess=sub[i]['fwhm']\n",
    "single_cutout(NGC628,'whitelight',x,y)\n",
    "sub[i]"
   ]
  },
  {
   "cell_type": "code",
   "execution_count": null,
   "metadata": {
    "hidden": true
   },
   "outputs": [],
   "source": [
    "data = NGC628.whitelight\n",
    "\n",
    "# this requires the next cell\n",
    "fit,sig = growth_curve(data,x,y,guess=0.8*guess,plot=True)\n",
    "print(f'reported={guess:.2f}, measured={fit[0]:.2f}, ratio={fit[0]/guess:.2f}')"
   ]
  },
  {
   "cell_type": "markdown",
   "metadata": {},
   "source": [
    "### Aperture Photometry\n",
    "\n",
    "we use the positions of the previously detected sources to measure the flux of different lines\n",
    "\n",
    "https://photutils.readthedocs.io/en/stable/aperture.html\n",
    "\n",
    "the values in the pixels are in units of $10^{-20} \\ \\mathrm{erg}  \\ \\mathrm{cm}^{-2} \\ \\mathrm{s}^{-1} / \\mathrm{spaxel}$. For the [OIII] line, this flux is then converted to an apparent magnitude\n",
    "$$\n",
    "m_{[\\mathrm{O\\ III}]} = -2.5 \\cdot \\log F_{[\\mathrm{O\\ III}]} - 13.74\n",
    "$$\n",
    "\n",
    "where $F_{[\\mathrm{O\\ III}]}$ is given in $\\mathrm{erg}  \\ \\mathrm{cm}^{-2} \\ \\mathrm{s}^{-1}$. Error propagation gives the error of the magnitude as\n",
    "\n",
    "$$\n",
    "\\Delta m_{[\\mathrm{O\\ III}]} = \\sqrt{\\left(\\frac{-2.5 \\cdot \\Delta F_{[\\mathrm{O\\ III}]}}{\\ln 10 \\cdot F_{[\\mathrm{O\\ III}]}}\\right)^2 }\n",
    "$$\n",
    "\n",
    "We only correct for extinction in the milky way. therefor we use the extinction function from Cardelli, Clayton & Mathis (1989) with $A_V = 0.2$ and $R_V=3.1$. The extinction is calculated with the following package\n",
    "\n",
    "https://extinction.readthedocs.io/en/latest/\n",
    "\n",
    "(Note: the DAP products are already extinction corrected).\n",
    "\n",
    "**Requires**\n",
    " * `extinction` a python package to account for the extinction in the Milky Way.\n",
    " * `measure_flux` from `pymuse.photometry`\n",
    " \n",
    "**Returns**\n",
    " * `flux` a Table with the measured line fluxes."
   ]
  },
  {
   "cell_type": "code",
   "execution_count": 23,
   "metadata": {},
   "outputs": [],
   "source": [
    "from astropy.coordinates import match_coordinates_sky # match sources against existing catalog\n",
    "from astropy.coordinates import Angle                 # work with angles (e.g. 1°2′3″)\n",
    "\n",
    "from extinction import ccm89     # calculate extinction Cardelli et al. (1989)\n",
    "\n",
    "from pymuse.photometry import measure_flux"
   ]
  },
  {
   "cell_type": "code",
   "execution_count": 103,
   "metadata": {},
   "outputs": [
    {
     "name": "stdout",
     "output_type": "stream",
     "text": [
      "INFO:pymuse.photometry:measuring fluxes in NGC628 for 1749 sources\n",
      "INFO:pymuse.photometry:measuring fluxes in [OIII5006] line map\n",
      "INFO:pymuse.photometry:measuring fluxes in [HA6562] line map\n",
      "INFO:pymuse.photometry:measuring fluxes in [NII6583] line map\n",
      "INFO:pymuse.photometry:measuring fluxes in [SII6716] line map\n",
      "INFO:pymuse.photometry:all flux measurements completed\n"
     ]
    }
   ],
   "source": [
    "#NGC628.lines.append('OIII5006_DAP')\n",
    "flux = measure_flux(NGC628,aperture_size=3)\n",
    "\n",
    "extinction = ccm89(wave=np.array([5007.]),a_v=0.2,r_v=3.1,unit='aa')[0]\n",
    "flux['mOIII'] -= extinction"
   ]
  },
  {
   "cell_type": "markdown",
   "metadata": {},
   "source": [
    "#### Compare to Kreckel et al. 2017"
   ]
  },
  {
   "cell_type": "code",
   "execution_count": 44,
   "metadata": {},
   "outputs": [],
   "source": [
    "from astropy.coordinates import match_coordinates_sky # match sources against existing catalog\n",
    "from astropy.coordinates import Angle                 # work with angles (e.g. 1°2′3″)"
   ]
  },
  {
   "cell_type": "code",
   "execution_count": 105,
   "metadata": {},
   "outputs": [
    {
     "name": "stdout",
     "output_type": "stream",
     "text": [
      "17 PN match within 0.5\"\n",
      "the mean deviation is 0.372 dex\n"
     ]
    },
    {
     "data": {
      "image/png": "[encoded data removed]",
      "text/plain": [
       "<Figure size 504x504 with 1 Axes>"
      ]
     },
     "metadata": {
      "image/png": {
       "height": 433,
       "width": 453
      },
      "needs_background": "light"
     },
     "output_type": "display_data"
    }
   ],
   "source": [
    "ID, angle, Quantity  = match_coordinates_sky(pn_bright['SkyCoord'],flux['SkyCoord'])\n",
    "\n",
    "# for each object from Kreckel et al. 2017, we search for the nearest source\n",
    "# and copy our measured quantities to compare the two\n",
    "pn_bright['mOIII_measured']  = flux[ID]['mOIII']\n",
    "pn_bright['dmOIII_measured'] = flux[ID]['dmOIII']\n",
    "pn_bright['sep'] = angle\n",
    "\n",
    "fig,ax = plt.subplots(figsize=(7,7))\n",
    "\n",
    "# we only use sources when their position agrees within this tolerance\n",
    "tolerance = '0.5\"'\n",
    "\n",
    "# calculate the difference in magnitude for those objects\n",
    "dif = np.mean(np.abs(pn_bright[angle<Angle(tolerance)]['mOIII'] - pn_bright[angle<Angle(tolerance)]['mOIII_measured']))\n",
    "\n",
    "print(f'{len(pn_bright[angle<Angle(tolerance)])} PN match within {tolerance}')\n",
    "print(f'the mean deviation is {dif:.3f} dex')\n",
    "\n",
    "ax.errorbar(pn_bright[angle<Angle(tolerance)]['mOIII'],\n",
    "            pn_bright[angle<Angle(tolerance)]['mOIII_measured'],\n",
    "            yerr=pn_bright[angle<Angle(tolerance)]['dmOIII_measured'],\n",
    "            fmt='o')\n",
    "\n",
    "ax.plot([25.5,27.5],[25.5,27.5],color='black',lw=0.4)\n",
    "ax.set_xlabel(r'$\\mathrm{m}_{[\\mathrm{OIII}]}$ Kreckel et al. 2017',fontsize=16)\n",
    "ax.set_ylabel(r'$\\mathrm{m}_{[\\mathrm{OIII}]}$ new',fontsize=16)\n",
    "\n",
    "plt.show()"
   ]
  },
  {
   "cell_type": "markdown",
   "metadata": {},
   "source": [
    "## Emission line diagnostics\n",
    "\n",
    "We built a catalgoue of possible planetary nebula and measuerd different emission lines. However this catalogue still contains objects that are similar to PN like HII regions or supernova remenants (SNR). In this next step we use emission line diagnostics to eliminate those contanimations. The distance modulus $\\mu$ is defined as the difference between the apparent and the absolute magnitude. By definition of the absolute magnitude, this relates to the distance $d$ in parsec as \n",
    "$$\n",
    "\\begin{align}\n",
    "\\mu = m - M \\\\\n",
    "d = 10^{1+\\frac{\\mu}{5}}\n",
    "\\end{align}\n",
    "$$\n",
    "\n",
    " 1. filter out HII regions\n",
    "    $$\n",
    "     4 > \\log_{10} \\frac{[\\mathrm{OIII}]}{\\mathrm{H}\\alpha +[\\mathrm{NII}]} > -0.37 M_{[\\mathrm{OIII}]} - 1.16\n",
    "    $$\n",
    " 2. filter out SNR\n",
    "    $$\n",
    "     \\mathrm{H}\\alpha / [\\mathrm{SII}] > 2.5\n",
    "    $$\n",
    "    \n",
    " 3. estimate completness limit (for now I use 28) and remove fainter sources\n",
    "    "
   ]
  },
  {
   "cell_type": "code",
   "execution_count": 110,
   "metadata": {},
   "outputs": [
    {
     "name": "stdout",
     "output_type": "stream",
     "text": [
      "INFO:__main__:1749 entries in initial catalogue\n",
      "INFO:__main__:818 rows were removed because they contain NaN values\n",
      "INFO:__main__:583 objects below the completness limit removed\n",
      "INFO:__main__:247 objects classified as HII\n",
      "INFO:__main__:0 objects classified as ...\n",
      "INFO:__main__:72 objects classified as SNR\n",
      "INFO:__main__:29 possible planetary nebula found\n"
     ]
    }
   ],
   "source": [
    "\n",
    "def emission_line_diagnostics(table,distance_modulus,completeness_limit):\n",
    "    '''Classify sources based on emission lines \n",
    "    \n",
    "    criteria1:\n",
    "    4 > log10 [OIII] / (Ha +[NII])\n",
    "    \n",
    "    criteria2:\n",
    "    log10 [OIII] / (Ha +[NII]) > -0.37 M[OIII] - 1.16\n",
    "    \n",
    "    \n",
    "    Parameters\n",
    "    ----------\n",
    "    table : Astropy Table\n",
    "        Table with measured fluxes \n",
    "    \n",
    "    completeness_limit : float\n",
    "        Sources fainter than this magnitude are ignored\n",
    "        \n",
    "    distance_modulus : float \n",
    "       A first guess of the distance modulus (used for diagnostics)\n",
    "       distance_modulus = m - M\n",
    "    '''\n",
    "    \n",
    "        \n",
    "    # make sure the input is of the correct type\n",
    "    if not isinstance(table,Table):\n",
    "        raise TypeError('wrong input')\n",
    "    \n",
    "    # next we check if all columns exist\n",
    "    required = ['OIII5006','HA6562','NII6583','SII6716','mOIII']\n",
    "    missing = set(required) - set(flux.columns)\n",
    "    if missing:\n",
    "        raise KeyError(f'input table is missing {\", \".join(missing)}')\n",
    "    del missing\n",
    "       \n",
    "    #\n",
    "    # Preparation\n",
    "                       \n",
    "    # calculate the absolute magnitude based on a first estimate of the distance modulus \n",
    "    table['MOIII'] = table['mOIII'] - distance_modulus\n",
    "    # make sure that the new column can save strings with 3 characters\n",
    "    table['type'] = np.empty(len(table),dtype='U3')\n",
    "    table['type'][:] = 'PN'\n",
    "                       \n",
    "    # if the flux is smaller than the error we set it to the error\n",
    "    for line in ['OIII5006','HA6562','NII6583','SII6716']:\n",
    "        table[table[line]<table[f'{line}_err']][line] = table[table[line]<table[f'{line}_err']][f'{line}_err']\n",
    "                       \n",
    "    logger.info(f'{len(table)} entries in initial catalogue')\n",
    "             \n",
    "    # remove rows with NaN values in some columns\n",
    "    mask =  np.ones(len(table), dtype=bool)\n",
    "    for col in required:\n",
    "        mask &=  ~np.isnan(table[col])\n",
    "    table = table[mask]\n",
    "    logger.info(f'{len(mask[mask==False])} rows were removed because they contain NaN values')\n",
    "\n",
    "    mask = table['mOIII']< completeness_limit\n",
    "    table = table[mask]\n",
    "    logger.info(f'{len(mask[mask==False])} objects below the completness limit removed')    \n",
    "                       \n",
    "    table['type'][np.where(4 < np.log10(table['OIII5006'] / (table['HA6562']+table['NII6583'])))] = ''\n",
    "    table['type'][np.where(np.log10(table['OIII5006'] / (table['HA6562']+table['NII6583'])) < -0.37*table['MOIII'] - 1.16)] = 'HII'\n",
    "    table['type'][np.where(table['HA6562'] / table['SII6716'] < 2.5)] = 'SNR'\n",
    "\n",
    "    logger.info(f'{len(table[table[\"type\"]==\"HII\"])} objects classified as HII')\n",
    "    logger.info(f'{len(table[table[\"type\"]==\"\"])} objects classified as ...')\n",
    "    logger.info(f'{len(table[table[\"type\"]==\"SNR\"])} objects classified as SNR')\n",
    "    logger.info(f'{len(table[table[\"type\"]==\"PN\"])} possible planetary nebula found')\n",
    "    \n",
    "    return table\n",
    "    \n",
    "    \n",
    "tbl = emission_line_diagnostics(flux,29.91,28.)\n"
   ]
  },
  {
   "cell_type": "code",
   "execution_count": 107,
   "metadata": {},
   "outputs": [
    {
     "data": {
      "image/png": "[encoded data removed]",
      "text/plain": [
       "<Figure size 720x360 with 2 Axes>"
      ]
     },
     "metadata": {
      "image/png": {
       "height": 349,
       "width": 712
      },
      "needs_background": "light"
     },
     "output_type": "display_data"
    }
   ],
   "source": [
    "def plot_emission_line_ratio(table):\n",
    "    \n",
    "    \n",
    "    fig, (ax1,ax2) = plt.subplots(nrows=1,ncols=2,figsize=(10,5))\n",
    "    \n",
    "    style = {'SNR':{\"marker\":'o',\"s\":30,\"edgecolors\":'tab:red',\"facecolors\":'white'},\n",
    "             'HII':{\"marker\":'+',\"s\":50,\"color\":'black'},\n",
    "             'PN':{\"marker\":'o',\"s\":30,\"color\":'black'}\n",
    "            }\n",
    "\n",
    "    # ------------------------------------------------\n",
    "    # left plot [OIII]/Ha over mOIII\n",
    "    # ------------------------------------------------\n",
    "    mOIII = np.linspace(24,29)\n",
    "    mu = 29.91\n",
    "    OIII_Ha = 10**(-0.37*(mOIII-mu)-1.16)\n",
    "    ax1.plot(mOIII,OIII_Ha,c='black',lw=0.6)\n",
    "    \n",
    "\n",
    "    for t in ['HII','SNR','PN']:\n",
    "        tbl = table[table['type']==t]\n",
    "        ax1.scatter(tbl['mOIII'],tbl['OIII5006']/(tbl['HA6562']+tbl['NII6583']),**style[t],label=t)\n",
    "    ax1.legend()\n",
    "    \n",
    "    ax1.set(xlim=[24,29],\n",
    "           ylim=[0.03,30],\n",
    "           yscale='log',\n",
    "           xlabel='m_OIII',\n",
    "           ylabel='OIII/Ha')\n",
    "    \n",
    "    ax1.yaxis.set_major_formatter(mpl.ticker.FuncFormatter(lambda y, _: '{:.16g}'.format(y)))\n",
    "\n",
    "    # ------------------------------------------------\n",
    "    # right plot Ha/[NII] over Ha/[SII]\n",
    "    # ------------------------------------------------\n",
    "    #mOIII = np.linspace(24,29)\n",
    "    #mu = 29.91\n",
    "    #OIII_Ha = 10**(-0.37*(mOIII-mu)-1.16)\n",
    "    #ax1.plot(mOIII,OIII_Ha)\n",
    "    \n",
    "    for t in ['HII','SNR','PN']:\n",
    "        tbl = table[table['type']==t]\n",
    "        ax2.scatter(np.log10(tbl['HA6562']/tbl['SII6716']),\n",
    "                    np.log10(tbl['HA6562']/tbl['NII6583']),**style[t],label=t)\n",
    "    ax2.legend()\n",
    "    \n",
    "    vert_SNR = np.array([[-0.1,-0.5],[-0.1,0.05],[0.3,0.25],[0.3,0.05],[0.1,-0.05],[0.1,-0.5]])\n",
    "    ax2.add_patch(mpl.patches.Polygon(vert_SNR,Fill=False,edgecolor='black'))\n",
    "    vert_SNR = np.array([[0.5,0.2],[0.5,0.7],[0.9,0.7],[0.9,0.2]])\n",
    "    ax2.add_patch(mpl.patches.Polygon(vert_SNR,Fill=False,edgecolor='black'))\n",
    "    ax2.plot([0.1,1.3],[-0.45,0.8],c='black',lw=0.6)\n",
    "    ax2.text(-0.1,-0.6,'SNR')\n",
    "    \n",
    "    ax2.set(xlim=[-1,1.5],\n",
    "           ylim=[-1,1],\n",
    "           #yscale='log',\n",
    "           xlabel=r'Log (H$\\alpha$ / [SII])',\n",
    "           ylabel=r'Log (H$\\alpha$ / [NII])')    \n",
    "    ax2.xaxis.set_major_locator(mpl.ticker.MultipleLocator(0.5))\n",
    "    ax2.yaxis.set_major_locator(mpl.ticker.MultipleLocator(0.5))\n",
    "    ax2.xaxis.set_minor_locator(mpl.ticker.MultipleLocator(0.1))\n",
    "    ax2.yaxis.set_minor_locator(mpl.ticker.MultipleLocator(0.1))    \n",
    "\n",
    "    plt.tight_layout()\n",
    "    plt.show()\n",
    "    \n",
    "plot_emission_line_ratio(tbl)"
   ]
  },
  {
   "cell_type": "markdown",
   "metadata": {},
   "source": [
    "### Compare classification to the results from Francesco Santoro"
   ]
  },
  {
   "cell_type": "code",
   "execution_count": null,
   "metadata": {},
   "outputs": [],
   "source": [
    "from pymuse.detection import match_catalogues"
   ]
  },
  {
   "cell_type": "code",
   "execution_count": 29,
   "metadata": {},
   "outputs": [],
   "source": [
    "with fits.open(basedir / 'data' / 'external' / 'FS_cat_v01.fits') as hdul:\n",
    "    cat_FS = Table(hdul[1].data)"
   ]
  },
  {
   "cell_type": "markdown",
   "metadata": {},
   "source": [
    "Search for PNe that were classified by Francescos in my catalogue"
   ]
  },
  {
   "cell_type": "code",
   "execution_count": 117,
   "metadata": {},
   "outputs": [
    {
     "name": "stdout",
     "output_type": "stream",
     "text": [
      "sep < 2 px: 80.00 %\n"
     ]
    },
    {
     "data": {
      "text/html": [
       "<i>QTable length=10</i>\n",
       "<table id=\"table2497766207104\" class=\"table-striped table-bordered table-condensed\">\n",
       "<thead><tr><th>id</th><th>x</th><th>y</th><th>fwhm</th><th>OIII5006</th><th>OIII5006_err</th><th>HA6562</th><th>HA6562_err</th><th>NII6583</th><th>NII6583_err</th><th>SII6716</th><th>SII6716_err</th><th>SkyCoord</th><th>mOIII</th><th>dmOIII</th><th>MOIII</th><th>type</th></tr></thead>\n",
       "<thead><tr><th></th><th></th><th></th><th></th><th></th><th></th><th></th><th></th><th></th><th></th><th></th><th></th><th>deg,deg</th><th></th><th></th><th></th><th></th></tr></thead>\n",
       "<thead><tr><th>int32</th><th>float64</th><th>float64</th><th>float32</th><th>float64</th><th>float64</th><th>float64</th><th>float64</th><th>float64</th><th>float64</th><th>float64</th><th>float64</th><th>object</th><th>float64</th><th>float64</th><th>float64</th><th>str3</th></tr></thead>\n",
       "<tr><td>1203</td><td>515.8400223989944</td><td>230.51828383480031</td><td>3.71</td><td>8798.7247</td><td>161.48597</td><td>2147.4258</td><td>124.94227</td><td>1139.8278</td><td>102.76278</td><td>26.639574</td><td>89.977459</td><td>24.18502150176532,15.754387463799295</td><td>26.174906</td><td>0.019926884</td><td>-3.7350941</td><td>PN</td></tr>\n",
       "<tr><td>734</td><td>512.7300932779223</td><td>404.21878309112424</td><td>3.56</td><td>4622.4033</td><td>181.36172</td><td>2648.326</td><td>143.39762</td><td>251.23616</td><td>105.07537</td><td>461.64496</td><td>100.72094</td><td>24.185200734852017,15.764037493818082</td><td>26.873786</td><td>0.042599266</td><td>-3.0362144</td><td>PN</td></tr>\n",
       "<tr><td>775</td><td>404.570194862005</td><td>474.02346231517816</td><td>3.56</td><td>6439.9185</td><td>173.41041</td><td>1473.5951</td><td>141.52946</td><td>27.083586</td><td>108.12712</td><td>-84.070433</td><td>101.70915</td><td>24.19144445698025,15.767915612149196</td><td>26.513754</td><td>0.029236079</td><td>-3.3962457</td><td>SNR</td></tr>\n",
       "<tr><td>474</td><td>244.0446228524939</td><td>519.9709363914146</td><td>3.38</td><td>8463.418</td><td>233.73131</td><td>16216.347</td><td>281.25284</td><td>7967.3535</td><td>174.9954</td><td>4150.4698</td><td>162.94962</td><td>24.200711370291085,15.770468041813396</td><td>26.217091</td><td>0.029984405</td><td>-3.6929093</td><td>HII</td></tr>\n",
       "<tr><td>1072</td><td>893.1702808237892</td><td>615.8227833198097</td><td>3.68</td><td>6104.6594</td><td>136.514</td><td>2386.5394</td><td>127.15418</td><td>412.47709</td><td>101.09274</td><td>149.83062</td><td>92.853306</td><td>24.163237549538902,15.775791569844612</td><td>26.571802</td><td>0.02427952</td><td>-3.3381984</td><td>PN</td></tr>\n",
       "<tr><td>1081</td><td>900.4393695746985</td><td>634.7573719841381</td><td>3.68</td><td>6410.313</td><td>136.88234</td><td>1694.7859</td><td>126.86034</td><td>-297.71214</td><td>100.12409</td><td>-600.43935</td><td>94.039009</td><td>24.16281775739706,15.77684343732281</td><td>26.518757</td><td>0.023184221</td><td>-3.3912429</td><td>SNR</td></tr>\n",
       "<tr><td>40</td><td>836.4752091758673</td><td>764.6123246533627</td><td>2.96</td><td>12663.02</td><td>164.54604</td><td>2447.5367</td><td>140.10024</td><td>511.4755</td><td>117.85986</td><td>182.43227</td><td>108.16984</td><td>24.166509553574897,15.784058047549488</td><td>25.779612</td><td>0.014108293</td><td>-4.130388</td><td>PN</td></tr>\n",
       "<tr><td>1438</td><td>585.4221415698565</td><td>844.7372108531783</td><td>3.82</td><td>2009.5344</td><td>312.37497</td><td>-2540.1542</td><td>190.65868</td><td>-3332.4169</td><td>168.55595</td><td>-2107.1256</td><td>158.86583</td><td>24.18100323270008,15.788510583297091</td><td>27.778217</td><td>0.16877383</td><td>-2.1317834</td><td>SNR</td></tr>\n",
       "<tr><td>1342</td><td>706.5095436061696</td><td>1038.5881354668688</td><td>3.71</td><td>10604.301</td><td>220.5136</td><td>6823.8429</td><td>171.82015</td><td>10132.598</td><td>164.57498</td><td>6094.1313</td><td>157.80397</td><td>24.174011497289396,15.799279641960968</td><td>25.97225</td><td>0.022577595</td><td>-3.9377499</td><td>SNR</td></tr>\n",
       "<tr><td>1360</td><td>592.4056106977171</td><td>1074.6124067955684</td><td>3.71</td><td>10602.026</td><td>246.11149</td><td>2674.7286</td><td>165.66807</td><td>-148.93849</td><td>144.69147</td><td>-624.29156</td><td>161.19171</td><td>24.180599384771185,15.80128140800104</td><td>25.972483</td><td>0.025203877</td><td>-3.937517</td><td>SNR</td></tr>\n",
       "</table>"
      ],
      "text/plain": [
       "<QTable length=10>\n",
       "  id          x                 y          ...    dmOIII     MOIII    type\n",
       "                                           ...                            \n",
       "int32      float64           float64       ...   float64    float64   str3\n",
       "----- ----------------- ------------------ ... ----------- ---------- ----\n",
       " 1203 515.8400223989944 230.51828383480031 ... 0.019926884 -3.7350941   PN\n",
       "  734 512.7300932779223 404.21878309112424 ... 0.042599266 -3.0362144   PN\n",
       "  775  404.570194862005 474.02346231517816 ... 0.029236079 -3.3962457  SNR\n",
       "  474 244.0446228524939  519.9709363914146 ... 0.029984405 -3.6929093  HII\n",
       " 1072 893.1702808237892  615.8227833198097 ...  0.02427952 -3.3381984   PN\n",
       " 1081 900.4393695746985  634.7573719841381 ... 0.023184221 -3.3912429  SNR\n",
       "   40 836.4752091758673  764.6123246533627 ... 0.014108293  -4.130388   PN\n",
       " 1438 585.4221415698565  844.7372108531783 ...  0.16877383 -2.1317834  SNR\n",
       " 1342 706.5095436061696 1038.5881354668688 ... 0.022577595 -3.9377499  SNR\n",
       " 1360 592.4056106977171 1074.6124067955684 ... 0.025203877  -3.937517  SNR"
      ]
     },
     "execution_count": 117,
     "metadata": {},
     "output_type": "execute_result"
    }
   ],
   "source": [
    "PNe_candidates = cat_FS[(cat_FS['gal_name']=='NGC628') & (cat_FS['PNe_candidate']==1)]\n",
    "idx, sep = match_catalogues(PNe_candidates[['cen_x','cen_y']],tbl[['x','y']])\n",
    "\n",
    "max_sep = 2\n",
    "print(f'sep < {max_sep} px: {sum(sep<max_sep)/len(sep)*100:.2f} %')\n",
    "tbl[(idx)]"
   ]
  },
  {
   "cell_type": "markdown",
   "metadata": {},
   "source": [
    "Search for HII regions that were classified by me in Francescos catalogue"
   ]
  },
  {
   "cell_type": "code",
   "execution_count": 109,
   "metadata": {},
   "outputs": [
    {
     "name": "stdout",
     "output_type": "stream",
     "text": [
      "sep < 1 px: 31.02 %\n"
     ]
    },
    {
     "data": {
      "text/html": [
       "<i>Table length=216</i>\n",
       "<table id=\"table2497777475536\" class=\"table-striped table-bordered table-condensed\">\n",
       "<thead><tr><th>gal_name</th><th>region_ID</th><th>type_ID</th><th>cen_x</th><th>cen_y</th><th>cen_ra</th><th>cen_dec</th><th>region_size_pixels</th><th>HB4861_FLUX</th><th>OIII5006_FLUX</th><th>HA6562_FLUX</th><th>NII6583_FLUX</th><th>SII6716_FLUX</th><th>SII6730_FLUX</th><th>SIII9068_FLUX</th><th>OI6300_FLUX</th><th>NII5754_FLUX</th><th>HB4861_FLUX_ERR</th><th>OIII5006_FLUX_ERR</th><th>HA6562_FLUX_ERR</th><th>NII6583_FLUX_ERR</th><th>SII6716_FLUX_ERR</th><th>SII6730_FLUX_ERR</th><th>SIII9068_FLUX_ERR</th><th>OI6300_FLUX_ERR</th><th>NII5754_FLUX_ERR</th><th>HB4861_SIGMA</th><th>OIII5006_SIGMA</th><th>HA6562_SIGMA</th><th>NII6583_SIGMA</th><th>SII6716_SIGMA</th><th>SII6730_SIGMA</th><th>SIII9068_SIGMA</th><th>OI6300_SIGMA</th><th>NII5754_SIGMA</th><th>stmass</th><th>Data_issue</th><th>BPT_outlier</th><th>SNR_candidate</th><th>PNe_candidate</th><th>HII_region_class</th></tr></thead>\n",
       "<thead><tr><th>str32</th><th>float64</th><th>float64</th><th>float64</th><th>float64</th><th>float64</th><th>float64</th><th>float64</th><th>float64</th><th>float64</th><th>float64</th><th>float64</th><th>float64</th><th>float64</th><th>float64</th><th>float64</th><th>float64</th><th>float64</th><th>float64</th><th>float64</th><th>float64</th><th>float64</th><th>float64</th><th>float64</th><th>float64</th><th>float64</th><th>float64</th><th>float64</th><th>float64</th><th>float64</th><th>float64</th><th>float64</th><th>float64</th><th>float64</th><th>float64</th><th>float64</th><th>int64</th><th>int64</th><th>int64</th><th>int64</th><th>int64</th></tr></thead>\n",
       "<tr><td>NGC628</td><td>1904.0</td><td>1.0</td><td>807.0919734399712</td><td>691.8162673866256</td><td>24.168206377301647</td><td>15.780014007099203</td><td>42.0</td><td>13898.220939792067</td><td>22179.174388030202</td><td>54860.354219685105</td><td>21865.481709200965</td><td>7860.789080240951</td><td>5524.043485300055</td><td>3446.8403060018327</td><td>1882.3019728544339</td><td>329.34548053079203</td><td>149.30161362008644</td><td>168.16432775689668</td><td>203.3809991626389</td><td>133.1093585501344</td><td>105.14940839697138</td><td>102.42568884260602</td><td>126.75738150519547</td><td>110.84804307463995</td><td>116.73269792268118</td><td>14.164156479306866</td><td>10.755744350100231</td><td>14.16415647930685</td><td>20.179578599773087</td><td>20.179578599773087</td><td>20.179578599773087</td><td>10.755744350100217</td><td>20.179578599773073</td><td>20.179578599773073</td><td>341.7103105404793</td><td>0</td><td>1</td><td>0</td><td>0</td><td>0</td></tr>\n",
       "<tr><td>NGC628</td><td>363.0</td><td>1.0</td><td>760.523793623436</td><td>686.6095520485351</td><td>24.170894846446547</td><td>15.77972501067408</td><td>134.0</td><td>161460.244420699</td><td>10102.155583502346</td><td>621297.916402833</td><td>142350.65939052132</td><td>49996.271075977056</td><td>33655.919377285565</td><td>16566.636081806835</td><td>3947.95910699525</td><td>718.8278066249193</td><td>404.94412418715757</td><td>223.09579323211275</td><td>618.5851085072849</td><td>290.2894549760248</td><td>220.00691450706057</td><td>203.7833693061603</td><td>255.64326899776455</td><td>191.7257831531854</td><td>215.1990192663616</td><td>18.28176249090659</td><td>15.314110888719425</td><td>18.281762490906566</td><td>20.47988262139271</td><td>20.479882621392704</td><td>20.479882621392704</td><td>15.314110888719437</td><td>20.479882621392704</td><td>20.479882621392704</td><td>338.26816119256847</td><td>0</td><td>0</td><td>0</td><td>0</td><td>1</td></tr>\n",
       "<tr><td>NGC628</td><td>2182.0</td><td>2.0</td><td>804.1968154561525</td><td>724.2050355834613</td><td>24.168373315988305</td><td>15.781813400401214</td><td>29.0</td><td>2336.2214827355356</td><td>2934.084767862217</td><td>9582.494143710388</td><td>6394.594610301521</td><td>2444.559989871721</td><td>1645.143388439672</td><td>363.1486101447261</td><td>749.4831380370165</td><td>365.71644249229837</td><td>112.87325487186803</td><td>112.45439531951682</td><td>114.48263506233926</td><td>94.83968096570018</td><td>84.24865130504126</td><td>84.24233072570881</td><td>108.20979965362758</td><td>88.84543612417151</td><td>96.68743118155817</td><td>22.570887305901085</td><td>20.751493411634762</td><td>22.5708873059011</td><td>23.395134580417633</td><td>23.395134580417633</td><td>23.395134580417604</td><td>20.751493411634776</td><td>23.395134580417633</td><td>23.395134580417604</td><td>300.9226598466344</td><td>0</td><td>1</td><td>0</td><td>0</td><td>0</td></tr>\n",
       "<tr><td>NGC628</td><td>143.0</td><td>1.0</td><td>753.8865657076118</td><td>819.0762773067587</td><td>24.171277298935056</td><td>15.787084307819002</td><td>116.0</td><td>100264.58625797555</td><td>11562.315505723316</td><td>444284.66495335306</td><td>118760.27560260452</td><td>42233.735855402614</td><td>29940.589476639452</td><td>16125.576807498537</td><td>3860.9663238046983</td><td>611.3644959426682</td><td>357.3915179035086</td><td>218.5441558786183</td><td>510.492464196615</td><td>267.12091159694427</td><td>205.70850029800638</td><td>193.5437339011309</td><td>239.65823775794192</td><td>186.53880532410358</td><td>206.86685181275007</td><td>23.29913632840191</td><td>17.61149234658291</td><td>23.299136328401907</td><td>25.54062760890115</td><td>25.54062760890114</td><td>25.54062760890115</td><td>17.611492346582917</td><td>25.54062760890115</td><td>25.54062760890115</td><td>350.3254644357622</td><td>0</td><td>0</td><td>0</td><td>0</td><td>1</td></tr>\n",
       "<tr><td>NGC628</td><td>1000.0</td><td>1.0</td><td>771.6805972183615</td><td>828.26675363613</td><td>24.170249938302803</td><td>15.787594793998386</td><td>41.0</td><td>7073.379136726285</td><td>6851.767702279054</td><td>23188.453680591123</td><td>15441.509832251451</td><td>6954.661169017006</td><td>4850.696719742446</td><td>869.3789235390876</td><td>1476.519356585721</td><td>426.08002859042256</td><td>143.55637970735248</td><td>140.8652025762401</td><td>146.55969448991792</td><td>122.91808010679014</td><td>103.9083135481756</td><td>101.05080312575774</td><td>119.36480063099353</td><td>111.08758016809588</td><td>118.1888492579784</td><td>27.768993429722418</td><td>1.0</td><td>27.768993429722414</td><td>27.89542937924963</td><td>27.89542937924963</td><td>27.89542937924963</td><td>0.9999999999998863</td><td>27.89542937924963</td><td>27.895429379249645</td><td>282.9412997184915</td><td>0</td><td>1</td><td>0</td><td>0</td><td>0</td></tr>\n",
       "<tr><td>NGC628</td><td>278.0</td><td>1.0</td><td>897.9562522434613</td><td>831.5068632381755</td><td>24.162959586790617</td><td>15.787773981623529</td><td>26.0</td><td>3323.590385841606</td><td>3192.975809918198</td><td>11875.190642842472</td><td>6316.167204592682</td><td>3202.7551188914545</td><td>2004.4393781105787</td><td>391.7422602525204</td><td>887.9740846258459</td><td>157.94621430892155</td><td>94.46683084622303</td><td>95.76996980583114</td><td>103.44160185095743</td><td>80.90617108318932</td><td>72.59043496967062</td><td>69.32777362307147</td><td>79.39959750730526</td><td>74.44712978901498</td><td>84.94494983499904</td><td>27.036550358042255</td><td>11.71967544026943</td><td>27.036550358042284</td><td>26.494767585927278</td><td>26.494767585927278</td><td>26.494767585927267</td><td>11.719675440269405</td><td>26.494767585927267</td><td>26.49476758592725</td><td>134.38156134643648</td><td>0</td><td>1</td><td>0</td><td>0</td><td>0</td></tr>\n",
       "<tr><td>NGC628</td><td>1137.0</td><td>1.0</td><td>614.2049047749658</td><td>459.5122914515649</td><td>24.179342746895298</td><td>15.767109116868616</td><td>29.0</td><td>8450.717450904882</td><td>5863.055448923594</td><td>27865.80526831419</td><td>10925.943868681536</td><td>6838.141431046108</td><td>4837.012611221999</td><td>805.0322134351837</td><td>1419.8603462518975</td><td>84.29422004511765</td><td>119.14743684591218</td><td>107.45198515022388</td><td>137.94505932132316</td><td>94.64074849244692</td><td>82.99051297243135</td><td>77.16537403376287</td><td>88.70347586448226</td><td>80.77512365050578</td><td>85.71475695029507</td><td>26.635173153319602</td><td>45.846377022602</td><td>26.63517315331963</td><td>38.694429697914394</td><td>38.694429697914394</td><td>38.694429697914394</td><td>45.846377022602</td><td>38.694429697914394</td><td>38.694429697914394</td><td>84.89428044380799</td><td>0</td><td>0</td><td>0</td><td>0</td><td>1</td></tr>\n",
       "<tr><td>NGC628</td><td>1014.0</td><td>1.0</td><td>564.1678793540215</td><td>503.09974541666054</td><td>24.182231157453494</td><td>15.769530778672163</td><td>25.0</td><td>12501.428487341895</td><td>2632.003929676369</td><td>58104.25176607207</td><td>20146.4722246264</td><td>6144.562361241012</td><td>4394.243815690353</td><td>4658.479193780126</td><td>682.0720251031181</td><td>29.3805688062902</td><td>122.3508730755811</td><td>79.73382454582021</td><td>177.9074211154881</td><td>99.93388975993126</td><td>73.67333604242502</td><td>70.06982196199404</td><td>92.07265475082158</td><td>65.80197464480307</td><td>76.71399241374493</td><td>17.010089605656823</td><td>16.86585450104686</td><td>17.010089605656834</td><td>21.522156658576424</td><td>21.52215665857643</td><td>21.522156658576424</td><td>16.865854501046847</td><td>21.522156658576424</td><td>21.522156658576424</td><td>87.84912054531907</td><td>0</td><td>0</td><td>0</td><td>0</td><td>1</td></tr>\n",
       "<tr><td>NGC628</td><td>433.0</td><td>1.0</td><td>530.1401642485434</td><td>570.1422579169442</td><td>24.184195391042742</td><td>15.773255433695482</td><td>35.0</td><td>4838.122296363689</td><td>3626.4569207573136</td><td>15692.588932457453</td><td>4296.387191468634</td><td>2837.027159190309</td><td>1784.7345135138848</td><td>150.35780310321763</td><td>588.6767518477077</td><td>16.384198671669516</td><td>123.47151326995301</td><td>105.57201839002653</td><td>121.96092799216513</td><td>85.83800927206616</td><td>84.90677962760675</td><td>83.71975453384215</td><td>90.47342698017401</td><td>84.82364136033944</td><td>103.36421648424353</td><td>48.334731749287045</td><td>1.0</td><td>48.33473174928706</td><td>47.187095979734444</td><td>47.18709597973446</td><td>47.187095979734444</td><td>0.9999999999998863</td><td>47.187095979734444</td><td>47.18709597973445</td><td>123.07438348304362</td><td>0</td><td>0</td><td>0</td><td>0</td><td>1</td></tr>\n",
       "<tr><td>NGC628</td><td>132.0</td><td>1.0</td><td>550.6301248283278</td><td>579.4415201066906</td><td>24.18301249808618</td><td>15.773772018450295</td><td>132.0</td><td>157809.27452585325</td><td>26804.846581151163</td><td>736572.7675800585</td><td>291853.64541651966</td><td>69610.1180579638</td><td>51884.441854931916</td><td>75465.46452700517</td><td>4785.204502216632</td><td>1260.1295243463132</td><td>402.43290482849426</td><td>209.71589234876907</td><td>728.9531037838491</td><td>362.6556140254701</td><td>212.90384797252696</td><td>195.35296438993083</td><td>303.33719166659154</td><td>154.50920673706582</td><td>178.86631352106906</td><td>13.750132397726787</td><td>18.419012167830886</td><td>13.750132397726802</td><td>16.637890262574064</td><td>16.637890262574064</td><td>16.637890262574064</td><td>18.41901216783091</td><td>16.63789026257408</td><td>16.637890262574064</td><td>113.15248719075333</td><td>0</td><td>0</td><td>0</td><td>0</td><td>1</td></tr>\n",
       "<tr><td>...</td><td>...</td><td>...</td><td>...</td><td>...</td><td>...</td><td>...</td><td>...</td><td>...</td><td>...</td><td>...</td><td>...</td><td>...</td><td>...</td><td>...</td><td>...</td><td>...</td><td>...</td><td>...</td><td>...</td><td>...</td><td>...</td><td>...</td><td>...</td><td>...</td><td>...</td><td>...</td><td>...</td><td>...</td><td>...</td><td>...</td><td>...</td><td>...</td><td>...</td><td>...</td><td>...</td><td>...</td><td>...</td><td>...</td><td>...</td><td>...</td></tr>\n",
       "<tr><td>NGC628</td><td>1273.0</td><td>1.0</td><td>1345.0688076500874</td><td>824.0179978203977</td><td>24.137146343177395</td><td>15.78735308344056</td><td>39.0</td><td>36116.97514368147</td><td>14903.231108861395</td><td>131331.83152985564</td><td>30051.50017432749</td><td>17561.97678475261</td><td>12059.987233752274</td><td>5476.4069120732975</td><td>1362.4861222568527</td><td>48.34350913722173</td><td>161.24514033433695</td><td>102.06046182233042</td><td>247.961734404013</td><td>110.1670956397955</td><td>94.81909358342979</td><td>83.77018119852745</td><td>91.66875822996725</td><td>62.359601182382285</td><td>74.45140223104713</td><td>17.797691689717897</td><td>18.674580324274974</td><td>17.797691689717897</td><td>19.459194912432544</td><td>19.45919491243255</td><td>19.459194912432533</td><td>18.67458032427496</td><td>19.45919491243255</td><td>19.459194912432533</td><td>29.047553879381603</td><td>0</td><td>0</td><td>0</td><td>0</td><td>1</td></tr>\n",
       "<tr><td>NGC628</td><td>1085.0</td><td>1.0</td><td>998.7608440457107</td><td>834.5777786155255</td><td>24.157139758958266</td><td>15.787943760320065</td><td>38.0</td><td>11043.1151960463</td><td>3648.9473546913323</td><td>60805.48357793453</td><td>22343.140985104026</td><td>10115.335363783679</td><td>7035.190438282292</td><td>5229.45019801359</td><td>1244.0387699878265</td><td>382.323825579934</td><td>113.95872686380349</td><td>89.40614192509813</td><td>180.77451338753534</td><td>116.03673284572551</td><td>97.71504265979456</td><td>92.26608121619759</td><td>131.87667185473012</td><td>76.1195409427877</td><td>91.87286032645594</td><td>22.895551498279115</td><td>23.89116396179347</td><td>22.895551498279133</td><td>23.289764793318685</td><td>23.289764793318668</td><td>23.289764793318675</td><td>23.891163961793477</td><td>23.28976479331866</td><td>23.289764793318675</td><td>155.74127252290333</td><td>0</td><td>0</td><td>0</td><td>0</td><td>1</td></tr>\n",
       "<tr><td>NGC628</td><td>403.0</td><td>1.0</td><td>1254.469007366728</td><td>905.4627057724051</td><td>24.142375881247066</td><td>15.791879016564934</td><td>127.0</td><td>103711.20572409796</td><td>38719.57442698789</td><td>379624.7173105298</td><td>111250.72933215456</td><td>36358.32356331986</td><td>25318.984988023254</td><td>29068.44861894461</td><td>2585.771580687483</td><td>661.8858057533911</td><td>275.3670030749281</td><td>180.38414649816798</td><td>408.5492963233973</td><td>198.23428496330664</td><td>145.78638051348582</td><td>131.92764723414922</td><td>184.9322641281551</td><td>102.42986068957788</td><td>119.38539530178168</td><td>17.914472539372397</td><td>18.33247104067085</td><td>17.91447253937239</td><td>20.380704054144573</td><td>20.38070405414456</td><td>20.38070405414456</td><td>18.332471040670868</td><td>20.38070405414456</td><td>20.38070405414456</td><td>65.53670677379085</td><td>0</td><td>0</td><td>0</td><td>0</td><td>1</td></tr>\n",
       "<tr><td>NGC628</td><td>193.0</td><td>1.0</td><td>1272.6467384476755</td><td>913.3083682249052</td><td>24.14132628966092</td><td>15.792314649950983</td><td>85.0</td><td>52217.35990815064</td><td>36655.148419864774</td><td>241208.13645298767</td><td>74420.06383191985</td><td>25343.70218557083</td><td>17994.75600777871</td><td>29718.860397199747</td><td>3279.0265305564517</td><td>874.1150584360105</td><td>205.56555999695706</td><td>162.45104486886606</td><td>335.62833116588047</td><td>169.0753934215281</td><td>116.68990874754945</td><td>106.43860205107886</td><td>170.23874773900215</td><td>85.95388377428348</td><td>102.89296867726982</td><td>17.32875339963759</td><td>26.13669250106106</td><td>17.32875339963759</td><td>20.917492257886956</td><td>20.917492257886952</td><td>20.917492257886973</td><td>26.13669250106105</td><td>20.917492257886956</td><td>20.917492257886956</td><td>57.24966707247927</td><td>0</td><td>0</td><td>0</td><td>0</td><td>1</td></tr>\n",
       "<tr><td>NGC628</td><td>193.0</td><td>1.0</td><td>1272.6467384476755</td><td>913.3083682249052</td><td>24.14132628966092</td><td>15.792314649950983</td><td>85.0</td><td>52217.35990815064</td><td>36655.148419864774</td><td>241208.13645298767</td><td>74420.06383191985</td><td>25343.70218557083</td><td>17994.75600777871</td><td>29718.860397199747</td><td>3279.0265305564517</td><td>874.1150584360105</td><td>205.56555999695706</td><td>162.45104486886606</td><td>335.62833116588047</td><td>169.0753934215281</td><td>116.68990874754945</td><td>106.43860205107886</td><td>170.23874773900215</td><td>85.95388377428348</td><td>102.89296867726982</td><td>17.32875339963759</td><td>26.13669250106106</td><td>17.32875339963759</td><td>20.917492257886956</td><td>20.917492257886952</td><td>20.917492257886973</td><td>26.13669250106105</td><td>20.917492257886956</td><td>20.917492257886956</td><td>57.24966707247927</td><td>0</td><td>0</td><td>0</td><td>0</td><td>1</td></tr>\n",
       "<tr><td>NGC628</td><td>266.0</td><td>1.0</td><td>1140.7493602020943</td><td>915.213892548764</td><td>24.148941329434802</td><td>15.792422114824538</td><td>135.0</td><td>163571.74719964535</td><td>48141.6608085786</td><td>623026.5555221504</td><td>164711.51763882564</td><td>83854.90593038127</td><td>57754.28437715138</td><td>23813.98611347611</td><td>5967.297502892558</td><td>1451.4652344615838</td><td>359.30194061022553</td><td>233.755168735724</td><td>534.508754277281</td><td>250.79137057708857</td><td>211.47425320918904</td><td>188.030739116623</td><td>198.04193375727368</td><td>140.7701035430006</td><td>163.8587149499518</td><td>28.25514133850907</td><td>18.885999086758538</td><td>28.255141338509052</td><td>25.352301120660485</td><td>25.352301120660492</td><td>25.352301120660485</td><td>18.885999086758552</td><td>25.352301120660485</td><td>25.352301120660492</td><td>63.31140770272169</td><td>0</td><td>0</td><td>0</td><td>0</td><td>1</td></tr>\n",
       "<tr><td>NGC628</td><td>814.0</td><td>1.0</td><td>1155.0465312747742</td><td>917.3232941432916</td><td>24.148115860461232</td><td>15.792539142876917</td><td>31.0</td><td>24385.675380106808</td><td>6523.459966528457</td><td>85998.11000848985</td><td>21906.831397161888</td><td>9517.357929269423</td><td>6574.516479292538</td><td>4447.586838638306</td><td>801.4101957633185</td><td>87.51669441315187</td><td>135.624864766449</td><td>89.2197961269184</td><td>187.47760648745404</td><td>90.67956287834386</td><td>76.16645224188973</td><td>69.56840745336915</td><td>82.43966394307618</td><td>56.28156548414324</td><td>65.63294556144243</td><td>19.991595096423588</td><td>17.8507354357502</td><td>19.991595096423573</td><td>20.783296736487266</td><td>20.783296736487273</td><td>20.783296736487273</td><td>17.85073543575022</td><td>20.783296736487273</td><td>20.783296736487266</td><td>42.53828039406409</td><td>0</td><td>0</td><td>0</td><td>0</td><td>1</td></tr>\n",
       "<tr><td>NGC628</td><td>922.0</td><td>1.0</td><td>1139.7003574732908</td><td>931.3737252263867</td><td>24.14900170653047</td><td>15.793319894741503</td><td>75.0</td><td>94820.89924994647</td><td>15851.471279934807</td><td>339603.98383832816</td><td>95323.68274265488</td><td>50609.42765519406</td><td>34954.04405678934</td><td>13787.299136741774</td><td>3041.089776246709</td><td>218.00946053407793</td><td>273.02469616885213</td><td>143.66389714719907</td><td>395.4345438675248</td><td>190.6169334822043</td><td>156.6943725119281</td><td>136.7254352062617</td><td>151.82414212487615</td><td>94.70104367786278</td><td>108.59196162581573</td><td>22.459755635253664</td><td>25.7722094083006</td><td>22.45975563525369</td><td>21.53649220766619</td><td>21.53649220766619</td><td>21.53649220766619</td><td>25.7722094083006</td><td>21.5364922076662</td><td>21.5364922076662</td><td>57.777984329351156</td><td>0</td><td>0</td><td>0</td><td>0</td><td>1</td></tr>\n",
       "<tr><td>NGC628</td><td>1630.0</td><td>1.0</td><td>1132.6124586787848</td><td>936.1474596025253</td><td>24.14941087198879</td><td>15.7935851806344</td><td>29.0</td><td>21141.536317141894</td><td>3607.6618386131663</td><td>109631.90767132402</td><td>34820.995185536995</td><td>16569.84670923623</td><td>11427.79531941021</td><td>9691.417079969946</td><td>1061.3683354430518</td><td>177.71708304681005</td><td>151.43838558321622</td><td>109.97655050088021</td><td>221.08643421140124</td><td>118.8399871085084</td><td>92.46793386690254</td><td>84.21063238980337</td><td>113.24589361006558</td><td>65.6914513986707</td><td>81.13183761354414</td><td>19.36177351022389</td><td>18.621105569070423</td><td>19.361773510223905</td><td>20.611162900792884</td><td>20.611162900792884</td><td>20.611162900792884</td><td>18.62110556907043</td><td>20.611162900792884</td><td>20.61116290079289</td><td>79.8359951991612</td><td>0</td><td>0</td><td>0</td><td>0</td><td>1</td></tr>\n",
       "<tr><td>NGC628</td><td>425.0</td><td>1.0</td><td>1185.2757004217508</td><td>1019.4475486185282</td><td>24.146369330454093</td><td>15.798212360323545</td><td>89.0</td><td>59170.25606693583</td><td>18348.243958149065</td><td>220944.1702983867</td><td>59462.35796858662</td><td>22658.08475721137</td><td>15410.075053329076</td><td>14948.442901886358</td><td>1727.708154650701</td><td>597.4846643175617</td><td>265.330518443114</td><td>195.76664919055952</td><td>384.3225106482844</td><td>216.3548513643473</td><td>175.65550485411885</td><td>166.2027810470847</td><td>235.96150883343395</td><td>139.985526203084</td><td>173.70076909124316</td><td>25.06961510262161</td><td>23.59009728661798</td><td>25.06961510262159</td><td>25.436758583612576</td><td>25.436758583612573</td><td>25.436758583612573</td><td>23.59009728661798</td><td>25.436758583612576</td><td>25.436758583612573</td><td>87.33513790602929</td><td>0</td><td>0</td><td>0</td><td>0</td><td>1</td></tr>\n",
       "</table>"
      ],
      "text/plain": [
       "<Table length=216>\n",
       "gal_name region_ID type_ID ... SNR_candidate PNe_candidate HII_region_class\n",
       " str32    float64  float64 ...     int64         int64          int64      \n",
       "-------- --------- ------- ... ------------- ------------- ----------------\n",
       "  NGC628    1904.0     1.0 ...             0             0                0\n",
       "  NGC628     363.0     1.0 ...             0             0                1\n",
       "  NGC628    2182.0     2.0 ...             0             0                0\n",
       "  NGC628     143.0     1.0 ...             0             0                1\n",
       "  NGC628    1000.0     1.0 ...             0             0                0\n",
       "  NGC628     278.0     1.0 ...             0             0                0\n",
       "  NGC628    1137.0     1.0 ...             0             0                1\n",
       "  NGC628    1014.0     1.0 ...             0             0                1\n",
       "  NGC628     433.0     1.0 ...             0             0                1\n",
       "  NGC628     132.0     1.0 ...             0             0                1\n",
       "     ...       ...     ... ...           ...           ...              ...\n",
       "  NGC628    1273.0     1.0 ...             0             0                1\n",
       "  NGC628    1085.0     1.0 ...             0             0                1\n",
       "  NGC628     403.0     1.0 ...             0             0                1\n",
       "  NGC628     193.0     1.0 ...             0             0                1\n",
       "  NGC628     193.0     1.0 ...             0             0                1\n",
       "  NGC628     266.0     1.0 ...             0             0                1\n",
       "  NGC628     814.0     1.0 ...             0             0                1\n",
       "  NGC628     922.0     1.0 ...             0             0                1\n",
       "  NGC628    1630.0     1.0 ...             0             0                1\n",
       "  NGC628     425.0     1.0 ...             0             0                1"
      ]
     },
     "execution_count": 109,
     "metadata": {},
     "output_type": "execute_result"
    }
   ],
   "source": [
    "HII_candidates = tbl[tbl['type'] == 'HII']\n",
    "catalogue = cat_FS[(~np.isnan(cat_FS['cen_x'])) & (~np.isnan(cat_FS['cen_y'])) & (cat_FS['gal_name']=='NGC628')]\n",
    "idx, sep = match_catalogues(HII_candidates[['x','y']],catalogue[['cen_x','cen_y']])\n",
    "\n",
    "print(f'sep < 1 px: {sum(sep<1)/len(sep)*100:.2f} %')\n",
    "catalogue[idx]"
   ]
  },
  {
   "cell_type": "markdown",
   "metadata": {},
   "source": [
    "## Planetary nebula luminosity function\n",
    "\n",
    "\n",
    "\n",
    "$$ \n",
    "\\begin{align}\n",
    "N(M) \\propto e^{0.307 M} \\left( 1- e^{3(M^*-M)} \\right)\n",
    "\\end{align}\n",
    "$$\n",
    "\n",
    "### With least square  fitting\n",
    "\n",
    " - to use a least square approach we need to bin the data. \n",
    " + easier to implement"
   ]
  },
  {
   "cell_type": "code",
   "execution_count": null,
   "metadata": {},
   "outputs": [],
   "source": [
    "from scipy.optimize import minimize, curve_fit\n",
    "from inspect import signature"
   ]
  },
  {
   "cell_type": "code",
   "execution_count": null,
   "metadata": {},
   "outputs": [],
   "source": [
    "def pnlf(m,mu,N0):\n",
    "    '''planetary nebula luminosity function\n",
    "    \n",
    "    Parameters\n",
    "    ----------\n",
    "        \n",
    "    m : ndarray\n",
    "        apparent magnitudes of the PNs\n",
    "        \n",
    "    mu : float\n",
    "        distance modulus\n",
    "    '''\n",
    "    \n",
    "    Mmax = -4.47\n",
    "    delta = 2.5\n",
    "    norm = np.exp(0.307*Mmax - 2.693*delta)*(0.371333 - 3.62866*np.exp(2.693*delta) + 3.25733 * np.exp(3*delta))\n",
    "    \n",
    "    return N0*np.exp(0.307*(m-mu)) * (1-np.exp(3*(Mmax-m+mu)))\n",
    "\n",
    "def fit_pnlf(table):\n",
    "    \n",
    "    #table = table[table['type']=='PN']\n",
    "    \n",
    "    binsize = 0.4\n",
    "    guess = np.array([25,10])\n",
    "    \n",
    "    mlow = np.floor(np.min(table))\n",
    "    mhigh = np.ceil(np.max(table))\n",
    "    hist,bins  = np.histogram(table,np.arange(mlow,mhigh,binsize))\n",
    "    \n",
    "    fit,sig = curve_fit(pnlf, bins[1:]+binsize/2,hist , guess)\n",
    "    mu, N0 = fit\n",
    "    print(f'mu={mu:.3f}, N0={N0:.2f}')\n",
    "    \n",
    "    fig, (ax1,ax2) = plt.subplots(1,2,figsize=(8,4))\n",
    "    \n",
    "    ax1.scatter(bins[:-1]+binsize/2,hist)\n",
    "    ax1.plot(bins[:-1]+binsize/2,pnlf(bins[:-1]+0.1,mu=mu,N0=N0),c='tab:orange',ls='--')\n",
    "    ax1.set_yscale('log')\n",
    "    ax1.set_xlim([25,28])\n",
    "    ax1.set_ylim([0.8,1.1*np.max(hist)])\n",
    "    ax1.set_xlabel('$m_{[\\mathrm{OIII}]}$')\n",
    "    ax1.set_ylabel('$N$')\n",
    "    \n",
    "    ax2.plot(bins[1:]+binsize/2,np.cumsum(hist))\n",
    "    ax2.plot(bins[1:]+binsize/2,np.cumsum(pnlf(bins[:-1]+binsize/2,mu=mu,N0=N0)),ls='--')\n",
    "    ax2.set_xlim([mlow,mhigh])\n",
    "    ax2.set_ylim([0,len(table)])\n",
    "    ax2.set_xlabel('$m_{[\\mathrm{OIII}]}$')\n",
    "    ax2.set_ylabel('Cumulative N')\n",
    "    \n",
    "fit_pnlf(tbl[tbl['type']=='PN']['mOIII'])"
   ]
  },
  {
   "cell_type": "markdown",
   "metadata": {},
   "source": [
    "### With maximum liklihood"
   ]
  },
  {
   "cell_type": "markdown",
   "metadata": {},
   "source": [
    "Maximum liklihood estimator"
   ]
  },
  {
   "cell_type": "code",
   "execution_count": null,
   "metadata": {},
   "outputs": [],
   "source": [
    "class MaximumLikelihood:\n",
    "    '''\n",
    "    \n",
    "    Parameters\n",
    "    ----------\n",
    "    func : function\n",
    "        PDF of the form `func(data,params)`. `func` must accept a\n",
    "        ndarray for `data` and can have any number of additional\n",
    "        parameters.\n",
    "        \n",
    "    data : ndarray\n",
    "        Measured data that are feed into `func`.\n",
    "    '''\n",
    "    \n",
    "    def __init__(self,func,data):\n",
    "        \n",
    "        self.data = data\n",
    "        if len(signature(func).parameters)<2:\n",
    "            raise ValueError(f'`func` must accept at least two arguments')\n",
    "        self.func = func\n",
    "\n",
    "    def loglik(self,params):\n",
    "        '''calculate the log liklihood of the given parameters\n",
    "        \n",
    "        This function takes the previously specified PDF and calculates\n",
    "        the sum of the logarithmic probabilities.\n",
    "        '''\n",
    "        \n",
    "        return np.sum(np.log(self.func(self.data,*params)))\n",
    "    \n",
    "    def fit(self,guess):\n",
    "        '''use scipy minimize to find the best parameters'''\n",
    "        \n",
    "        self.result = minimize(self.loglik,guess,method ='Nelder-Mead')\n",
    "        #for name,var in zip(list(signature(self.func).parameters)[1:],self.result.x):\n",
    "        #    print(f'{name}={var:.3g}')\n",
    "        return self.result.x\n",
    "    \n",
    "    def __call__(self,guess):\n",
    "        return self.fit(guess)\n",
    "        \n",
    "fitter = MaximumLikelihood(pnlf,tbl[tbl['type']=='PN']['mOIII'])\n",
    "fitter([25,20])\n"
   ]
  },
  {
   "cell_type": "markdown",
   "metadata": {},
   "source": [
    "### Distance in parsec\n",
    "\n",
    "$$\n",
    "d = 10^{\\frac{\\mu}{5}+1} = 10 \\cdot \\exp\\left( \\ln 10 \\frac{\\mu}{5} \\right) \\\\\n",
    "\\delta d = \\frac{\\ln 10}{5} 10 \\exp\\left( \\ln 10 \\frac{\\mu}{5} \\right) \\delta \\mu = 0.2 \\ln 10 d \\delta \\mu\n",
    "$$"
   ]
  },
  {
   "cell_type": "code",
   "execution_count": null,
   "metadata": {},
   "outputs": [],
   "source": []
  }
 ],
 "metadata": {
  "kernelspec": {
   "display_name": "Python 3",
   "language": "python",
   "name": "python3"
  },
  "language_info": {
   "codemirror_mode": {
    "name": "ipython",
    "version": 3
   },
   "file_extension": ".py",
   "mimetype": "text/x-python",
   "name": "python",
   "nbconvert_exporter": "python",
   "pygments_lexer": "ipython3",
   "version": "3.7.3"
  },
  "pycharm": {
   "stem_cell": {
    "cell_type": "raw",
    "metadata": {
     "collapsed": false
    },
    "source": []
   }
  },
  "toc": {
   "base_numbering": 1,
   "nav_menu": {},
   "number_sections": true,
   "sideBar": true,
   "skip_h1_title": false,
   "title_cell": "Table of Contents",
   "title_sidebar": "Contents",
   "toc_cell": false,
   "toc_position": {
    "height": "calc(100% - 180px)",
    "left": "10px",
    "top": "150px",
    "width": "341.333px"
   },
   "toc_section_display": true,
   "toc_window_display": true
  }
 },
 "nbformat": 4,
 "nbformat_minor": 2
}
