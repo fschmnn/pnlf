{
 "cells": [
  {
   "cell_type": "markdown",
   "metadata": {},
   "source": [
    "# Planetary Nebula <a class=\"tocSkip\">\n",
    "    \n",
    "This notebook is used to test and showcase the results of my first project. We use spectroscopic data from the [Multi Unit Spectroscopic Explorer](https://www.eso.org/sci/facilities/develop/instruments/muse.html) (MUSE) that has been observed as part of the [PHANGS](https://sites.google.com/view/phangs/home) collaboration.\n",
    "    \n",
    "## Basic Packages\n",
    "    \n",
    "First we load a bunch of common packages that are used across the project. More specific packages that are only used in one section are loaded later to make it clear where they belong to (this also applies to all custom moduls that were written for this project)."
   ]
  },
  {
   "cell_type": "code",
   "execution_count": null,
   "metadata": {},
   "outputs": [],
   "source": [
    "# reload modules after they have been modified\n",
    "%load_ext autoreload\n",
    "%autoreload 2\n",
    "\n",
    "# some basic packages\n",
    "import os                 # filesystem related stuff\n",
    "from pathlib import Path  # use instead of os.path and glob\n",
    "import sys                # system related stuff (e.g. exit)\n",
    "\n",
    "import errno      # more detailed error messages\n",
    "import warnings   # handles warnings\n",
    "import logging    # use logging instead of print\n",
    "\n",
    "from collections import OrderedDict  \n",
    "\n",
    "# packages for scientific computing\n",
    "import numpy as np\n",
    "import scipy as sp\n",
    "\n",
    "# packages for creating plots and figures\n",
    "import matplotlib as mpl\n",
    "import matplotlib.pyplot as plt\n",
    "\n",
    "%matplotlib inline\n",
    "%config InlineBackend.figure_format = 'retina'\n",
    "\n",
    "# special functions for astronomy \n",
    "from astropy.table import Table  # useful datastructure\n",
    "from astropy.table import vstack # combine multiple tables\n",
    "\n",
    "from astropy.io import fits      # open fits files\n",
    "from astropy.io import ascii     # handle normal files\n",
    "\n",
    "from astropy.wcs import WCS               # handle coordinates\n",
    "from astropy.coordinates import SkyCoord  # convert pixel to sky coordinates\n",
    "\n",
    "from astropy.stats import sigma_clipped_stats  # calcualte statistics of images\n",
    "\n",
    "import astropy.units as u        # handle units"
   ]
  },
  {
   "cell_type": "code",
   "execution_count": null,
   "metadata": {},
   "outputs": [],
   "source": [
    "logging.basicConfig(stream=sys.stdout,\n",
    "                    #format='(levelname)s %(name)s %(message)s',\n",
    "                    datefmt='%H:%M:%S',\n",
    "                    level=logging.INFO)"
   ]
  },
  {
   "cell_type": "markdown",
   "metadata": {},
   "source": [
    "## Reference files\n",
    "\n",
    "To test the detection routine we compare our results to those from Kreckel et al. (2017)\n",
    "\n",
    "**Requires** (both already loaded with standard packages)\n",
    " * `astropy.io.ascii`\n",
    " * `astropy.coordinates.SkyCoord`"
   ]
  },
  {
   "cell_type": "code",
   "execution_count": null,
   "metadata": {},
   "outputs": [],
   "source": [
    "pn_kreckel = ascii.read(os.path.join('..','data','external','kreckel_pn_2017.txt'))\n",
    "\n",
    "def string_to_ra(string):\n",
    "    '''convert coordinates from Kreckel et al. (2017) to astropy\n",
    "    \n",
    "    the right ascension in the paper is given as \n",
    "    \"01:36:42.212\" but astropy requires \"01h36m42.212s\".\n",
    "    This function replaces the \":\" with the appropriate character.\n",
    "    '''\n",
    "    return string.replace(':','h',1).replace(':','m') + 's'\n",
    "\n",
    "def string_to_dec(string):\n",
    "    '''convert coordinates from Kreckel et al. (2017) to astropy\n",
    "    \n",
    "    the declination in the paper is given as \"01:36:42.212\" \n",
    "    but astropy requires \"01d36m42.212s\".\n",
    "    This function replaces the \":\" with the appropriate character.\n",
    "    '''\n",
    "    return string.replace(':','d',1).replace(':','m') + 's'\n",
    "\n",
    "# convert string to astronomical coordinates\n",
    "pn_kreckel['RA'] = list(map(string_to_ra,pn_kreckel['RA']))\n",
    "pn_kreckel['DEC'] = list(map(string_to_dec,pn_kreckel['DEC']))\n",
    "pn_kreckel['SkyCoord'] = SkyCoord(pn_kreckel['RA'],pn_kreckel['DEC'])\n",
    "\n",
    "# select some subsets (PN from Hermann et al. 2008 or bright sources only)\n",
    "pn_herrmann = pn_kreckel[[True if i.endswith('a') else False for i in pn_kreckel['ID']]]\n",
    "pn_bright = pn_kreckel[pn_kreckel['mOIII']<27]"
   ]
  },
  {
   "cell_type": "markdown",
   "metadata": {},
   "source": [
    "## Read in data"
   ]
  },
  {
   "cell_type": "code",
   "execution_count": null,
   "metadata": {},
   "outputs": [],
   "source": [
    "# first we need to specify the path to the raw data\n",
    "data_raw = Path('d:\\downloads\\MUSEDAP')\n",
    "\n",
    "# list all files in the specified directory\n",
    "galaxies = [x.name for x in data_raw.iterdir() if x.is_dir()]\n",
    "print(', '.join(map(str,galaxies)))"
   ]
  },
  {
   "cell_type": "markdown",
   "metadata": {},
   "source": [
    "### Read single Galaxy\n",
    "\n",
    "this uses the `ReadLineMaps` class from the `pymuse.io` module "
   ]
  },
  {
   "cell_type": "code",
   "execution_count": null,
   "metadata": {},
   "outputs": [],
   "source": [
    "from pymuse.io import ReadLineMaps"
   ]
  },
  {
   "cell_type": "code",
   "execution_count": null,
   "metadata": {},
   "outputs": [],
   "source": [
    "NGC628 = ReadLineMaps(data_raw / 'NGC628')\n",
    "print(NGC628)"
   ]
  },
  {
   "cell_type": "markdown",
   "metadata": {},
   "source": [
    "## Source Detection"
   ]
  },
  {
   "cell_type": "markdown",
   "metadata": {},
   "source": [
    "### Based on IRAFStarFinder or DAPStarFinder\n",
    "\n",
    "the following function is based on this tutorial \n",
    "\n",
    "https://photutils.readthedocs.io/en/stable/detection.html\n",
    "\n",
    "https://photutils.readthedocs.io/en/stable/api/photutils.detection.DAOStarFinder.html#photutils.detection.DAOStarFinder\n",
    "\n",
    "**requires**\n",
    " * A `photutils` starfinder. This can be either `DAOStarFinder` or `IRAFStarFinder`\n",
    " * `detect_unresolved_sources`"
   ]
  },
  {
   "cell_type": "code",
   "execution_count": null,
   "metadata": {},
   "outputs": [],
   "source": [
    "from photutils import DAOStarFinder            # DAOFIND routine to detect sources\n",
    "from photutils import IRAFStarFinder           # IRAF starfind routine to detect star\n",
    "\n",
    "from pymuse.detection import detect_unresolved_sources"
   ]
  },
  {
   "cell_type": "code",
   "execution_count": null,
   "metadata": {},
   "outputs": [],
   "source": [
    "sources = detect_unresolved_sources(NGC628,\n",
    "                                    'OIII5006',\n",
    "                                    StarFinder=DAOStarFinder,\n",
    "                                    threshold=8,\n",
    "                                    PSF_size = 1.2,\n",
    "                                    save=True)"
   ]
  },
  {
   "cell_type": "markdown",
   "metadata": {},
   "source": [
    "#### Compare to Kreckel et al. 2017"
   ]
  },
  {
   "cell_type": "code",
   "execution_count": null,
   "metadata": {},
   "outputs": [],
   "source": [
    "from astropy.coordinates import match_coordinates_sky # match sources against existing catalog\n",
    "from astropy.coordinates import Angle                 # work with angles (e.g. 1°2′3″)"
   ]
  },
  {
   "cell_type": "code",
   "execution_count": null,
   "metadata": {},
   "outputs": [],
   "source": [
    "ID, angle, Quantity  = match_coordinates_sky(pn_bright['SkyCoord'],sources['SkyCoord'])\n",
    "within_1_arcsec = len(angle[angle.__lt__(Angle(\"0.5s\"))])\n",
    "\n",
    "print(f'{within_1_arcsec} of {len(angle)} match within 0.5\": {within_1_arcsec / len(angle)*100:.1f} %')\n",
    "print(f'mean seperation is {angle.mean().to_string(u.arcsec,decimal=True)}\"')"
   ]
  },
  {
   "cell_type": "markdown",
   "metadata": {},
   "source": [
    "#### Plot detected sources"
   ]
  },
  {
   "cell_type": "code",
   "execution_count": null,
   "metadata": {},
   "outputs": [],
   "source": [
    "from pymuse.plot import plot_sources\n",
    "from pymuse.plot import plot_detected_stars"
   ]
  },
  {
   "cell_type": "code",
   "execution_count": null,
   "metadata": {},
   "outputs": [],
   "source": [
    "position = np.transpose((sources['x'], sources['y']))\n",
    "positions_kk = np.transpose(pn_bright['SkyCoord'].to_pixel(wcs=NGC628.wcs))\n",
    "positions = (position,positions_kk)\n",
    "\n",
    "file = Path.cwd() / '..' / 'reports' / 'figures' / 'sources_DAO.pdf'\n",
    "\n",
    "plot_sources(data=NGC628.OIII5006,wcs=NGC628.wcs,positions=positions,filename=file)"
   ]
  },
  {
   "cell_type": "markdown",
   "metadata": {
    "heading_collapsed": true
   },
   "source": [
    "#### Cut out detected stars"
   ]
  },
  {
   "cell_type": "code",
   "execution_count": null,
   "metadata": {
    "hidden": true
   },
   "outputs": [],
   "source": [
    "file = Path.cwd() / '..' / 'reports' / 'figures' / 'stars.pdf'\n",
    "\n",
    "stars = plot_detected_stars(NGC628,filename=file)"
   ]
  },
  {
   "cell_type": "markdown",
   "metadata": {
    "heading_collapsed": true
   },
   "source": [
    "### Using SExtractor\n",
    "\n",
    "there is no Python implementation of SExtractor. Instead we run it from the command line\n",
    "\n",
    "```\n",
    "sextractor file.fits -c default.sex\n",
    "```\n",
    "\n",
    "this will produce a file `test.cat` which contains the position of the sources. We read this table and calculate the sky position wiht astropy"
   ]
  },
  {
   "cell_type": "code",
   "execution_count": null,
   "metadata": {
    "hidden": true
   },
   "outputs": [],
   "source": [
    "file = Path.cwd() / '..' / 'data' / 'interim' / 'test.cat'\n",
    "\n",
    "\n",
    "table = ascii.read(file)\n",
    "table['SkyCoord'] = SkyCoord.from_pixel(table['X_IMAGE'],table['Y_IMAGE'],NGC628.wcs)\n",
    "\n",
    "print(f'{len(table)} sources found')"
   ]
  },
  {
   "cell_type": "code",
   "execution_count": null,
   "metadata": {
    "hidden": true
   },
   "outputs": [],
   "source": [
    "sources = Table()\n",
    "sources['x'] = table['X_IMAGE']\n",
    "sources['y'] = table['Y_IMAGE']\n",
    "sources['SkyCoord'] = table['SkyCoord']\n",
    "sources['fwhm'] = 0.8\n",
    "NGC628.sources = sources"
   ]
  },
  {
   "cell_type": "markdown",
   "metadata": {
    "hidden": true
   },
   "source": [
    "#### Match with known sources"
   ]
  },
  {
   "cell_type": "code",
   "execution_count": null,
   "metadata": {
    "hidden": true
   },
   "outputs": [],
   "source": [
    "ID, angle, Quantity  = match_coordinates_sky(pn_bright['SkyCoord'],table['SkyCoord'])\n",
    "within_1_arcsec = len(angle[angle.__lt__(Angle(\"0.5s\"))])\n",
    "\n",
    "print(f'{within_1_arcsec} of {len(angle)} match within 0.5\": {within_1_arcsec / len(angle)*100:.1f} %')\n",
    "print(f'mean seperation is {angle.mean().to_string(u.arcsec,decimal=True)}\"')\n",
    "#print(f'mean angle: {angle.mean():.2f}')"
   ]
  },
  {
   "cell_type": "markdown",
   "metadata": {
    "hidden": true
   },
   "source": [
    "#### Plot detected sources\n",
    "\n",
    "this requires the previously loaded `plot_sources` from `pymuse.plot`"
   ]
  },
  {
   "cell_type": "code",
   "execution_count": null,
   "metadata": {
    "hidden": true
   },
   "outputs": [],
   "source": [
    "file = Path.cwd() / '..' / 'reports' / 'figures' / 'sources_sextractor.pdf'\n",
    "\n",
    "position = np.transpose((sources['x'], sources['y']))\n",
    "references = np.transpose(pn_bright['SkyCoord'].to_pixel(wcs=NGC628.wcs))\n",
    "positions = (position,references)\n",
    "\n",
    "plot_sources(data=NGC628.OIII5006,wcs=NGC628.wcs,positions=positions,filename=file)"
   ]
  },
  {
   "cell_type": "markdown",
   "metadata": {
    "heading_collapsed": true
   },
   "source": [
    "### Old line maps"
   ]
  },
  {
   "cell_type": "code",
   "execution_count": null,
   "metadata": {
    "hidden": true
   },
   "outputs": [],
   "source": [
    "from photutils import find_peaks"
   ]
  },
  {
   "cell_type": "code",
   "execution_count": null,
   "metadata": {
    "hidden": true
   },
   "outputs": [],
   "source": [
    "data_folder = os.path.join('d',os.sep,'downloads','MUSEDAP')\n",
    "with fits.open(os.path.join(data_folder,'NGC628p','NGC628p_MAPS.fits')) as hdul:\n",
    "    data = hdul[0].data\n",
    "    header = hdul[0].header\n",
    "\n",
    "with fits.open(os.path.join(data_folder,'NGC628p','NGC628p_MAPS_err.fits')) as hdul:\n",
    "    err = hdul[0].data\n"
   ]
  },
  {
   "cell_type": "code",
   "execution_count": null,
   "metadata": {
    "hidden": true
   },
   "outputs": [],
   "source": [
    "mean, median, std = sigma_clipped_stats(err[~np.isnan(err)], sigma=3.0)\n",
    "\n",
    "# initialize daofind \n",
    "# FWHM is given in arcsec. one pixel is 0.2\" \n",
    "StarFinder = DAOStarFinder(fwhm=0.8/0.17, \n",
    "                           threshold=8.*median,\n",
    "                           sharplo=0.1, \n",
    "                           sharphi=1.0,\n",
    "                           roundlo=-1,\n",
    "                           roundhi=1)\n",
    "\n",
    "# for the source detection we subtract the sigma clipped median\n",
    "#sources_old = find_peaks(data,12*median,box_size=6)\n",
    "sources_old = StarFinder(data)\n",
    "\n",
    "print(f'{len(sources_old):>5.0f}{mean:>8.3f}{median:>8.3f}{std:>8.3f}')\n",
    "\n",
    "# for consistent table output\n",
    "for col in sources_old.colnames:\n",
    "    sources_old[col].info.format = '%.8g'  \n",
    "\n",
    "sources_old.rename_column('xcentroid','x')\n",
    "sources_old.rename_column('ycentroid','y')\n",
    "    \n",
    "# calculate astronomical coordinates\n",
    "sources_old['SkyCoord'] = SkyCoord.from_pixel(sources_old['x'],sources_old['y'],WCS(header))\n",
    "#sources['RaDec'] = sources['SkyCoord'].to_string(style='hmsdms',precision=2)\n",
    "\n",
    "ID, angle, Quantity  = match_coordinates_sky(pn_bright['SkyCoord'],sources_old['SkyCoord'])\n",
    "within_1_arcsec = len(angle[angle.__lt__(Angle(\"0.5s\"))])\n",
    "\n",
    "print(f'{within_1_arcsec} of {len(angle)} match within 0.5\": {within_1_arcsec / len(angle)*100:.1f} %')\n",
    "print(f'mean seperation is {angle.mean().to_string(u.arcsec,decimal=True)}\"')"
   ]
  },
  {
   "cell_type": "code",
   "execution_count": null,
   "metadata": {
    "hidden": true
   },
   "outputs": [],
   "source": [
    "file = Path.cwd() / '..' / 'reports' / 'figures' / 'sources_old.pdf'\n",
    "\n",
    "position = np.transpose((sources_old['x'], sources_old['y']))\n",
    "references = np.transpose(pn_bright['SkyCoord'].to_pixel(wcs=WCS(header)))\n",
    "positions = (position,references)\n",
    "\n",
    "plot_sources(data=data,wcs=WCS(header),positions=positions)\n",
    "                          \n",
    "plt.xlim([1300,2900])\n",
    "plt.ylim([1800,3300])\n",
    "\n",
    "plt.savefig(file)"
   ]
  },
  {
   "cell_type": "markdown",
   "metadata": {
    "heading_collapsed": true
   },
   "source": [
    "### Find sources in mock data"
   ]
  },
  {
   "cell_type": "code",
   "execution_count": null,
   "metadata": {
    "hidden": true
   },
   "outputs": [],
   "source": [
    "from collections import OrderedDict\n",
    "from photutils.datasets import (make_random_gaussians_table,\n",
    "                                make_noise_image,\n",
    "                                make_gaussian_sources_image)\n",
    "from photutils import CircularAperture\n",
    "from astropy.stats import gaussian_sigma_to_fwhm"
   ]
  },
  {
   "cell_type": "code",
   "execution_count": null,
   "metadata": {
    "hidden": true
   },
   "outputs": [],
   "source": [
    "\n",
    "def test_detection(StarFinder_Algorithm,sigma_psf,amplitude):\n",
    "    \n",
    "    # create mock data\n",
    "    n_sources = 30\n",
    "    tshape = (256,256)\n",
    "\n",
    "    param_ranges = OrderedDict([\n",
    "                    ('amplitude', [amplitude, amplitude*1.2]),\n",
    "                    ('x_mean', [0,tshape[0]]),\n",
    "                    ('y_mean', [0,tshape[1]]),\n",
    "                    ('x_stddev', [sigma_psf,sigma_psf]),\n",
    "                    ('y_stddev', [sigma_psf, sigma_psf]),\n",
    "                    ('theta', [0, 0]) ])\n",
    "\n",
    "    sources = make_random_gaussians_table(n_sources, param_ranges,\n",
    "                                          random_state=123)\n",
    "\n",
    "    image = (make_gaussian_sources_image(tshape, sources) +\n",
    "             make_noise_image(tshape, type='poisson', mean=6.,\n",
    "                              random_state=1) +\n",
    "             make_noise_image(tshape, type='gaussian', mean=0.,\n",
    "                              stddev=2., random_state=1))\n",
    "\n",
    "    fwhm = gaussian_sigma_to_fwhm * sigma_psf\n",
    "\n",
    "    mean, median, std = sigma_clipped_stats(image, sigma=3.0)\n",
    "\n",
    "    StarFinder = StarFinder_Algorithm(fwhm=fwhm, \n",
    "                                      threshold=3.*std,\n",
    "                                      sharplo=0.1, \n",
    "                                      sharphi=1.0,\n",
    "                                      roundlo=-.2,\n",
    "                                      roundhi=.2)\n",
    "\n",
    "    sources_mock = StarFinder(image)\n",
    "\n",
    "    # for consistent table output\n",
    "    for col in sources_mock.colnames:\n",
    "        sources_mock[col].info.format = '%.8g'  \n",
    "\n",
    "    string = str(StarFinder_Algorithm).split('.')[-1][:-2] + f' sig={sigma_psf} A={amplitude}'\n",
    "    print(f'{string}: {len(sources_mock):} of {n_sources} sources found')\n",
    "\n",
    "    positions = np.transpose([sources_mock['xcentroid'],sources_mock['ycentroid']])\n",
    "    apertures = CircularAperture(positions, r=fwhm)    \n",
    "    \n",
    "    return image, apertures, sources, string\n",
    "\n",
    "\n",
    "nrows = 2\n",
    "ncols = 4\n",
    "fig, ax = plt.subplots(nrows=nrows, ncols=ncols, figsize=(20, 10),\n",
    "                        squeeze=True)\n",
    "ax = ax.ravel()\n",
    "\n",
    "\n",
    "amplitude_lst = [40,200]\n",
    "sigma_lst = [2.,4.]\n",
    "StarFinder_lst = [DAOStarFinder,IRAFStarFinder]\n",
    "\n",
    "\n",
    "settings = []\n",
    "for f in StarFinder_lst:\n",
    "    for s in sigma_lst:\n",
    "        for a in amplitude_lst:\n",
    "            settings.append((f,s,a))\n",
    "    \n",
    "    \n",
    "for i in range(nrows*ncols):\n",
    "    f,s,a = settings[i]\n",
    "    img, ap, sc, string = test_detection(f,s,a)\n",
    "    \n",
    "    norm = simple_norm(img, 'log', percent=99.)\n",
    "    ax[i].imshow(img, norm=norm, origin='lower', cmap='viridis')\n",
    "    ap.plot(color='red', lw=1., alpha=0.9,ax=ax[i])\n",
    "    ax[i].scatter(sc['x_mean'],sc['y_mean'],color='red',s=0.8)\n",
    "    ax[i].set_title(string)\n",
    "    \n",
    "plt.show()"
   ]
  },
  {
   "cell_type": "markdown",
   "metadata": {},
   "source": [
    "## Flux measurement\n",
    "\n",
    "we use the positions of the previously detected sources to measure the flux of different lines\n",
    "\n",
    "https://photutils.readthedocs.io/en/stable/aperture.html\n",
    "\n",
    "the values in the pixels are in units of $10^{-20} \\ \\mathrm{erg}  \\ \\mathrm{cm}^{-2} \\ \\mathrm{s}^{-1} / \\mathrm{spaxel}$. To convert into apparent magnitudes we can use\n",
    "\n",
    "$$\n",
    "m_{[\\mathrm{O\\ III}]} = -2.5 \\cdot \\log F_{[\\mathrm{O\\ III}]} - 13.74\n",
    "$$\n",
    "\n",
    "where $F_{[\\mathrm{O\\ III}]}$ is given measured in $\\mathrm{erg}  \\ \\mathrm{cm}^{-2} \\ \\mathrm{s}^{-1}$\n",
    "\n",
    "$$\n",
    "\\Delta m_{[\\mathrm{O\\ III}]} = \\sqrt{\\left(\\frac{-2.5 \\cdot \\Delta F_{[\\mathrm{O\\ III}]}}{\\ln 10 \\cdot F_{[\\mathrm{O\\ III}]}}\\right)^2 }\n",
    "$$"
   ]
  },
  {
   "cell_type": "markdown",
   "metadata": {},
   "source": [
    "### Percentage of flux in the aperture\n",
    "\n",
    "for the PSF we assume a 2D gaussian that is centered around the origin and has a variance of $\\sigma_x^2 = \\sigma_y^2 = \\sigma^2$ and an amplitude of $A$\n",
    "$$\n",
    "f(x,y) = A \\exp\\left(-\\frac{x^2+y^2}{2\\sigma^2}\\right)\n",
    "$$\n",
    "we can rewrite this in polar coordinates as \n",
    "$$\n",
    "f(r,\\phi) = A \\exp\\left(-\\frac{r^2}{2\\sigma^2}\\right)\n",
    "$$\n",
    "this allows us to evaluate the integral\n",
    "$$\n",
    "\\int_0^{2\\pi} \\int_0^R f(r,\\phi) \\mathrm{d} \\phi r \\mathrm{d} r = 2\\pi \\sigma^2 A \\left(1-\\exp \\left(-\\frac{R^2}{2\\sigma^2}\\right) \\right) \n",
    "$$\n",
    "\n",
    "if $R=x\\cdot \\mathrm{fwhm} / 2$ (there is a factor of 2 depending on whether the aperture radius or diameter is used) is given in terms of the full width at half maximum, the fraction of light inside the aperture can be written as \n",
    "\n",
    "$$\n",
    "p = 1-\\exp(- \\ln 2 \\cdot x_\\mathrm{fwhm}^2)\n",
    "$$"
   ]
  },
  {
   "cell_type": "code",
   "execution_count": null,
   "metadata": {},
   "outputs": [],
   "source": [
    "x = np.linspace(0.5,4)\n",
    "p = 1-np.exp(-x**2 * np.log(2))\n",
    "plt.plot(x,100*p)\n",
    "plt.xlabel('diameter in fwhm')\n",
    "plt.ylabel('light in aperture in %')\n",
    "plt.grid()"
   ]
  },
  {
   "cell_type": "markdown",
   "metadata": {},
   "source": [
    "### Growth curve analysis"
   ]
  },
  {
   "cell_type": "code",
   "execution_count": null,
   "metadata": {},
   "outputs": [],
   "source": [
    "from astropy.convolution import Gaussian2DKernel, Moffat2DKernel"
   ]
  },
  {
   "cell_type": "code",
   "execution_count": null,
   "metadata": {},
   "outputs": [],
   "source": [
    "from pymuse.plot import plot_single_stars\n",
    "from photutils import CircularAperture\n",
    "from photutils import CircularAnnulus\n",
    "from photutils import aperture_photometry\n",
    "\n",
    "import scipy.optimize as optimization\n",
    "from astropy.stats import gaussian_fwhm_to_sigma, gaussian_sigma_to_fwhm"
   ]
  },
  {
   "cell_type": "code",
   "execution_count": null,
   "metadata": {},
   "outputs": [],
   "source": [
    "sub = sources[(sources['flux']>3) & (sources['fwhm']==2.96)]"
   ]
  },
  {
   "cell_type": "code",
   "execution_count": null,
   "metadata": {},
   "outputs": [],
   "source": [
    "del sources['SkyCoord']\n",
    "sources.sort('flux',reverse=True)"
   ]
  },
  {
   "cell_type": "code",
   "execution_count": null,
   "metadata": {},
   "outputs": [],
   "source": [
    "PSF_fwhm = np.unique(sources['fwhm'])\n",
    "sub = sources[(sources['fwhm']==PSF_fwhm[1]) & (sources['flux']>5)]\n",
    "\n",
    "sub"
   ]
  },
  {
   "cell_type": "code",
   "execution_count": null,
   "metadata": {},
   "outputs": [],
   "source": [
    "# 9 \n",
    "i = 1\n",
    "x,y = sub[i][['x','y']]\n",
    "plot_single_stars(NGC628,'whitelight',x,y)\n",
    "sub[i]"
   ]
  },
  {
   "cell_type": "code",
   "execution_count": null,
   "metadata": {},
   "outputs": [],
   "source": [
    "fwhm = []\n",
    "sig = []\n",
    "\n",
    "for row in sub:\n",
    "    x,y = row[['x','y']]\n",
    "    try:\n",
    "        f,s = growth_curve(data,x,y,row['fwhm'])\n",
    "        if any(s<0.1):\n",
    "            fwhm.append(f[0])\n",
    "            sig.append(s[0])\n",
    "    except:\n",
    "        pass\n",
    "    \n",
    "print(f'{np.mean(fwhm):.2f} +- {np.std(fwhm):.2f}')"
   ]
  },
  {
   "cell_type": "code",
   "execution_count": null,
   "metadata": {},
   "outputs": [],
   "source": [
    "data = NGC628.whitelight\n",
    "\n",
    "# fit fwhm\n",
    "def light_in_aperture(radius,fwhm):\n",
    "    '''\n",
    "    Given a circular aperture with the specified radius, this function\n",
    "    calculates the fraction of light inside the aperture if the \n",
    "    underlying distribution is a 2D gaussian with the specified fwhm.     \n",
    "    '''\n",
    "    \n",
    "    return 1-np.exp(-radius**2 / (2*gaussian_fwhm_to_sigma**2*fwhm**2))\n",
    "\n",
    "def growth_curve(data,x,y,guess=5):\n",
    "    '''do a growth curve analysis on the given star\n",
    "    \n",
    "    \n",
    "    '''\n",
    "    \n",
    "    # we measure the flux for apertures of different radii\n",
    "    radius = np.arange(2,3.5*guess,1)\n",
    "    flux = []\n",
    "\n",
    "    for r in radius:\n",
    "        aperture = CircularAperture((x,y), r=r)\n",
    "        annulus_aperture = CircularAnnulus((x,y), r_in=r, r_out=2*r)\n",
    "        mask = annulus_aperture.to_mask(method='center')\n",
    "        annulus_data = mask.multiply(data)\n",
    "        annulus_data_1d = annulus_data[mask.data > 0]\n",
    "        _, bkg_median, _ = sigma_clipped_stats(annulus_data_1d[~np.isnan(annulus_data_1d)])\n",
    "        phot = aperture_photometry(data,aperture)\n",
    "        flux.append(phot['aperture_sum'][0]-aperture.area*bkg_median)\n",
    "    flux = np.array(flux)   \n",
    "    flux = flux/flux[-1]\n",
    "\n",
    "    guess = 4\n",
    "    fit = optimization.curve_fit(light_in_aperture, radius,flux , guess)\n",
    "    fwhm = fit[0]\n",
    "\n",
    "    '''\n",
    "    plt.plot(radius,flux,label='observed')\n",
    "    plt.plot(radius,light_in_aperture(radius,fwhm),label='fit')\n",
    "    plt.xlabel('radius in px')\n",
    "    plt.ylabel('light in aperture')\n",
    "    plt.legend()\n",
    "    plt.grid()\n",
    "    '''\n",
    "    \n",
    "    return fit\n",
    "    #print(f'fwhm={fwhm[0]:.2f} px')\n",
    "    \n",
    "growth_curve(data,x,y)"
   ]
  },
  {
   "cell_type": "code",
   "execution_count": null,
   "metadata": {},
   "outputs": [],
   "source": [
    "fwhm = sub[i]['fwhm']/0.2\n",
    "print(fwhm)\n",
    "\n",
    "radius_px = np.arange(1,20,0.1)\n",
    "flux = []\n",
    "\n",
    "for r in radius_px:\n",
    "    aperture = CircularAperture((x,y), r=r)\n",
    "    annulus_aperture = CircularAnnulus((x,y), r_in=r, r_out=2*r)\n",
    "    mask = annulus_aperture.to_mask(method='center')\n",
    "    annulus_data = mask.multiply(data)\n",
    "    annulus_data_1d = annulus_data[mask.data > 0]\n",
    "    _, bkg_median, _ = sigma_clipped_stats(annulus_data_1d[~np.isnan(annulus_data_1d)])\n",
    "    phot = aperture_photometry(data,aperture)\n",
    "    flux.append(phot['aperture_sum'][0]-aperture.area*bkg_median)\n",
    "    \n",
    "flux = np.array(flux) \n",
    "\n",
    "p = light_in_aperture(radius_px/fwhm,1)\n",
    "plt.plot(radius_px,flux/flux[-1]*100,label='observed')\n",
    "plt.plot(radius_px,100*p,label='theory')\n",
    "plt.legend()\n",
    "\n",
    "plt.xlabel('radius in px')\n",
    "plt.ylabel('light in aperture in %')\n",
    "plt.grid()\n"
   ]
  },
  {
   "cell_type": "markdown",
   "metadata": {},
   "source": [
    "### Aperture Photometry"
   ]
  },
  {
   "cell_type": "code",
   "execution_count": null,
   "metadata": {},
   "outputs": [],
   "source": [
    "from astropy.coordinates import match_coordinates_sky # match sources against existing catalog\n",
    "from astropy.coordinates import Angle                 # work with angles (e.g. 1°2′3″)\n",
    "\n",
    "from extinction import ccm89     # calculate extinction Cardelli et al. (1989)\n",
    "\n",
    "from pymuse.photometry import measure_flux"
   ]
  },
  {
   "cell_type": "code",
   "execution_count": null,
   "metadata": {},
   "outputs": [],
   "source": [
    "# use diferent OIII map\n",
    "#NGC628.OIII5006 = NGC628.OIII5006_bkg\n",
    "flux = measure_flux(NGC628,lines=['OIII5006','HA6562'],aperture_size=1.5)"
   ]
  },
  {
   "cell_type": "markdown",
   "metadata": {},
   "source": [
    "#### Compare to Kreckel et al. 2017\n",
    "\n",
    "we only correct for extinction in the milky way. therefor we use the extinction function from Cardelli, Clayton & Mathis (1989) with $A_V = 0.2$ and $R_V=3.1$. The extinction is calculated with the following package\n",
    "\n",
    "https://extinction.readthedocs.io/en/latest/"
   ]
  },
  {
   "cell_type": "code",
   "execution_count": null,
   "metadata": {},
   "outputs": [],
   "source": [
    "from astropy.coordinates import match_coordinates_sky # match sources against existing catalog\n",
    "from astropy.coordinates import Angle                 # work with angles (e.g. 1°2′3″)"
   ]
  },
  {
   "cell_type": "code",
   "execution_count": null,
   "metadata": {},
   "outputs": [],
   "source": [
    "ID, angle, Quantity  = match_coordinates_sky(pn_bright['SkyCoord'],sources['SkyCoord'])\n",
    "\n",
    "pn_bright['mOIII_measured']  = flux[ID]['mOIII']\n",
    "pn_bright['dmOIII_measured'] = flux[ID]['dmOIII']\n",
    "pn_bright['sep'] = angle\n",
    "\n",
    "# calculate extinction correction\n",
    "extinction = ccm89(wave=np.array([5007.]),a_v=0.2,r_v=3.1,unit='aa')[0]\n",
    "pn_bright['mOIII_measured'] -= extinction"
   ]
  },
  {
   "cell_type": "code",
   "execution_count": null,
   "metadata": {},
   "outputs": [],
   "source": [
    "fig,ax = plt.subplots(figsize=(7,7))\n",
    "\n",
    "tolerance = '0.4\"'\n",
    "\n",
    "dif = np.mean(np.abs(pn_bright[angle<Angle(tolerance)]['mOIII'] - pn_bright[angle<Angle(tolerance)]['mOIII_measured']))\n",
    "\n",
    "print(f'{len(pn_bright[angle<Angle(tolerance)])} PN match within {tolerance}')\n",
    "print(f'the mean deviation is {dif:.3f} dex')\n",
    "\n",
    "ax.errorbar(pn_bright[angle<Angle(tolerance)]['mOIII'],\n",
    "            pn_bright[angle<Angle(tolerance)]['mOIII_measured'],\n",
    "            yerr=pn_bright[angle<Angle(tolerance)]['dmOIII_measured'],\n",
    "            fmt='o')\n",
    "\n",
    "ax.plot([25.5,27.5],[25.5,27.5],color='black',lw=0.4)\n",
    "ax.set_xlabel(r'$\\mathrm{m}_{[\\mathrm{OIII}]}$ Kreckel et al. 2017',fontsize=16)\n",
    "ax.set_ylabel(r'$\\mathrm{m}_{[\\mathrm{OIII}]}$ new',fontsize=16)\n",
    "\n",
    "plt.show()"
   ]
  },
  {
   "cell_type": "markdown",
   "metadata": {},
   "source": [
    "## Emission line diagnostics\n",
    "\n",
    "We built a catalgoue of possible planetary nebula and measuerd different emission lines. However this catalogue still contains objects that are similar to PN like HII regions or supernova remenants (SNR). In this next step we use emission line diagnostics to eliminate those contanimations."
   ]
  },
  {
   "cell_type": "code",
   "execution_count": null,
   "metadata": {},
   "outputs": [],
   "source": []
  }
 ],
 "metadata": {
  "kernelspec": {
   "display_name": "Python 3",
   "language": "python",
   "name": "python3"
  },
  "language_info": {
   "codemirror_mode": {
    "name": "ipython",
    "version": 3
   },
   "file_extension": ".py",
   "mimetype": "text/x-python",
   "name": "python",
   "nbconvert_exporter": "python",
   "pygments_lexer": "ipython3",
   "version": "3.7.5"
  },
  "pycharm": {
   "stem_cell": {
    "cell_type": "raw",
    "metadata": {
     "collapsed": false
    },
    "source": []
   }
  },
  "toc": {
   "base_numbering": 1,
   "nav_menu": {},
   "number_sections": true,
   "sideBar": true,
   "skip_h1_title": false,
   "title_cell": "Table of Contents",
   "title_sidebar": "Contents",
   "toc_cell": false,
   "toc_position": {},
   "toc_section_display": true,
   "toc_window_display": false
  }
 },
 "nbformat": 4,
 "nbformat_minor": 2
}
