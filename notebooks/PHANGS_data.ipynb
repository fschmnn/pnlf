{
 "cells": [
  {
   "cell_type": "markdown",
   "metadata": {},
   "source": [
    "# Explore PHANGS data\n",
    "\n",
    "this Notebook explores the different data products that were produced by PHANGS. It is NOT ment for production but rather testing out things"
   ]
  },
  {
   "cell_type": "code",
   "execution_count": null,
   "metadata": {},
   "outputs": [],
   "source": [
    "# reload modules after they have been modified\n",
    "%load_ext autoreload\n",
    "%autoreload 2\n",
    "\n",
    "from pymuse.packages import *\n",
    "\n",
    "from pymuse.constants import tab10, single_column, two_column\n",
    "\n",
    "%matplotlib inline\n",
    "%config InlineBackend.figure_format = 'retina'"
   ]
  },
  {
   "cell_type": "code",
   "execution_count": null,
   "metadata": {},
   "outputs": [],
   "source": [
    "logging.basicConfig(stream=sys.stdout,\n",
    "                    #format='(levelname)s %(name)s %(message)s',\n",
    "                    datefmt='%H:%M:%S',\n",
    "                    level=logging.INFO)\n",
    "\n",
    "logger = logging.getLogger(__name__)"
   ]
  },
  {
   "cell_type": "markdown",
   "metadata": {},
   "source": [
    "## Read in Data"
   ]
  },
  {
   "cell_type": "code",
   "execution_count": null,
   "metadata": {},
   "outputs": [],
   "source": [
    "# NGC3351 or NGC1566\n",
    "name = 'NGC0628'\n",
    "\n",
    "# first we need to specify the path to the raw data\n",
    "basedir = Path('..')\n",
    "data_raw = basedir/'data'/'raw'/'MUSE'/'DR1'\n",
    "data_ext = basedir/'data'/'raw'\n",
    "#data_raw = Path('d:\\downloads\\MUSEDAP')\n",
    "#data_ext = Path('g:\\Archive')\n"
   ]
  },
  {
   "cell_type": "markdown",
   "metadata": {},
   "source": [
    "### MUSE Data"
   ]
  },
  {
   "cell_type": "code",
   "execution_count": null,
   "metadata": {},
   "outputs": [],
   "source": [
    "from pymuse.io import ReadLineMaps\n",
    "\n",
    "# read in the data we will be working with and print some information\n",
    "galaxy = ReadLineMaps(data_raw,name)"
   ]
  },
  {
   "cell_type": "markdown",
   "metadata": {},
   "source": [
    "### Sample Table"
   ]
  },
  {
   "cell_type": "code",
   "execution_count": null,
   "metadata": {},
   "outputs": [],
   "source": [
    "filename = basedir / 'data' / 'external' / 'phangs_sample_table_v1p5.fits'\n",
    "with fits.open(filename) as hdul:\n",
    "    sample_table = Table(hdul[1].data)\n",
    "    \n",
    "with open(basedir / 'data' / 'interim' / 'parameters.yml') as yml_file:\n",
    "    parameters = yaml.load(yml_file,Loader=yaml.FullLoader)    "
   ]
  },
  {
   "cell_type": "markdown",
   "metadata": {},
   "source": [
    "### MUSE Cubes"
   ]
  },
  {
   "cell_type": "code",
   "execution_count": null,
   "metadata": {},
   "outputs": [],
   "source": [
    "filename = data_ext / 'MUSE' / 'MOSAIC' / name / f'{name}_DATACUBE_FINAL.fits'\n",
    "\n",
    "with fits.open(filename , memmap=True, mode='denywrite') as hdul:\n",
    "    #cube=SpectralCube(data=hdul[1].data,wcs=WCS(hdul[1].header))\n",
    "    \n",
    "    #hdul.info()\n",
    "    data_cube   = hdul[1].data\n",
    "    cube_header = hdul[1].header\n",
    "    "
   ]
  },
  {
   "cell_type": "markdown",
   "metadata": {},
   "source": [
    "### Nebulae Catalogue"
   ]
  },
  {
   "cell_type": "code",
   "execution_count": null,
   "metadata": {},
   "outputs": [],
   "source": [
    "# nebulae catalogue from Francesco (mostly HII-regions)\n",
    "with fits.open(basedir / 'data' / 'external' / 'Nebulae_Catalogue.fits') as hdul:\n",
    "    nebulae = Table(hdul[1].data)\n",
    "\n",
    "nebulae = nebulae[nebulae['gal_name']==name]    \n",
    "nebulae.rename_columns(['cen_x','cen_y'],['x','y'])\n",
    "\n",
    "nebulae = filter_table(nebulae,BPT_NII=0,BPT_SII=0,BPT_OI=0,flag_star=0)"
   ]
  },
  {
   "cell_type": "code",
   "execution_count": null,
   "metadata": {},
   "outputs": [],
   "source": [
    "# the nebulae that were classified by myself (mostly PN)\n",
    "filename = basedir / 'data' / 'catalogues' / f'pn_candidates_{name}.txt'\n",
    "my_nebulae = ascii.read(filename,format='fixed_width',delimiter='\\t')\n",
    "\n",
    "pn  = my_nebulae[my_nebulae['type']=='PN']\n",
    "HII = my_nebulae[my_nebulae['type']=='HII']\n",
    "SNR = my_nebulae[my_nebulae['type']=='SNR']"
   ]
  },
  {
   "cell_type": "markdown",
   "metadata": {},
   "source": [
    "### HST Data"
   ]
  },
  {
   "cell_type": "code",
   "execution_count": null,
   "metadata": {},
   "outputs": [],
   "source": [
    "# cluster catalogues\n",
    "\n",
    "filename = data_ext / name / 'clusters_photometry_v0_9' / f'{name}_phangshst_cluster_allcandidates_v0_9.csv'\n",
    "\n",
    "if filename.is_file():\n",
    "    clusters = ascii.read(filename)\n",
    "else:\n",
    "    raise FileExistsError('no catalogue for ' + name)\n",
    "    \n",
    "clusters['SkyCoord'] = SkyCoord(clusters['PHANGS_RA']*u.degree,clusters['PHANGS_DEC']*u.degree)\n",
    "x,y= clusters['SkyCoord'].to_pixel(wcs=galaxy.wcs)\n",
    "clusters['x'] = x\n",
    "clusters['y'] = y\n",
    "clusters.rename_columns(['ID_PHANGS_CLUSTERS_V0_9','PHANGS_MASS_MINCHISQ','PHANGS_MASS_MINCHISQ_ERR',\n",
    "                         'PHANGS_AGE_MINCHISQ','PHANGS_AGE_BAYES_ERR',\n",
    "                         'PHANGS_EBV_MINCHISQ','PHANGS_EBV_MINCHISQ_ERR'],\n",
    "                        ['ID','mass','mass_err','age','age_err','Ebv','Ebv_err'])\n",
    "clusters = clusters['ID','x','y','mass','mass_err','age','age_err','Ebv','Ebv_err','SkyCoord']\n",
    "clusters['in_frame'] = False\n",
    "\n",
    "\n",
    "'''\n",
    "y_dim,x_dim = galaxy.shape\n",
    "for row in clusters:\n",
    "    if 0<=int(row['x'])<x_dim and 0<=int(row['y'])<y_dim:\n",
    "        if not np.isnan(galaxy.PSF[int(row['y']),int(row['y'])]):\n",
    "            row['in_frame'] = True\n",
    "'''\n",
    "#clusters = clusters[clusters['in_frame'] & (clusters['mass']>1e3)]"
   ]
  },
  {
   "cell_type": "code",
   "execution_count": null,
   "metadata": {},
   "outputs": [],
   "source": [
    "# whitelight image\n",
    "\n",
    "filename = data_ext / 'HST' / name / 'white_light' / f'{name.lower()}_white_24rgb.fits'\n",
    "\n",
    "with fits.open(filename) as hdul:\n",
    "    HST_whitelight = hdul[0].data\n",
    "    HST_whitelight_header = hdul[0].header"
   ]
  },
  {
   "cell_type": "markdown",
   "metadata": {},
   "source": [
    "### Sitelle Data\n",
    "\n",
    "(for [OII]$\\lambda 3726$ line)\n",
    "\n",
    "the data from this telescope is procesed in another notebook. The final images will then be used here."
   ]
  },
  {
   "cell_type": "markdown",
   "metadata": {},
   "source": [
    "## Compare MUSE and HST"
   ]
  },
  {
   "cell_type": "code",
   "execution_count": null,
   "metadata": {},
   "outputs": [],
   "source": [
    "from astropy.nddata import Cutout2D\n",
    "\n",
    "def compare_cutout(center,size,MUSE_data,HST_data,MUSE_wcs,HST_wcs):\n",
    "    '''Compare the resolution of MUSE to HST'''\n",
    "    \n",
    "    cutout_MUSE = Cutout2D(MUSE_data,center,size,wcs=MUSE_wcs)\n",
    "    cutout_HST  = Cutout2D(HST_data,center,size,wcs=HST_wcs)\n",
    "\n",
    "    fig = plt.figure(figsize=(6.974,6.974/2))\n",
    "    ax1 = fig.add_subplot(131,projection=MUSE_wcs)\n",
    "    ax2 = fig.add_subplot(132,projection=cutout_MUSE.wcs)\n",
    "    ax3 = fig.add_subplot(133,projection=cutout_HST.wcs)\n",
    "\n",
    "    norm = simple_norm(MUSE_data,'linear',clip=False,percent=95)\n",
    "    ax1.imshow(MUSE_data, origin='lower',norm=norm,cmap='Greys')\n",
    "\n",
    "    norm = simple_norm(cutout_MUSE.data,'linear',clip=False,percent=95)\n",
    "    ax2.imshow(cutout_MUSE.data, origin='lower',norm=norm,cmap='Greys')\n",
    "\n",
    "    norm = simple_norm(cutout_HST.data,'linear',clip=False,percent=99)\n",
    "    ax3.imshow(cutout_HST.data, origin='lower',norm=norm,cmap='Greys')\n",
    "\n",
    "    (ymin,ymax),(xmin,xmax) = cutout_MUSE.bbox_original\n",
    "    width  = xmax-xmin\n",
    "    height = ymax-ymin\n",
    "\n",
    "    ax1.add_patch(mpl.patches.Rectangle((xmin,ymin),width,height,linewidth=0.3,edgecolor='k',facecolor='none'))\n",
    "\n",
    "    # format ticks with wcs\n",
    "    # https://docs.astropy.org/en/stable/visualization/wcsaxes/ticks_labels_grid.html\n",
    "    ax1.coords[0].set_ticks(number=3)\n",
    "    ax1.coords[1].set_ticks(number=4)\n",
    "    #ax2.coords[0].set_ticks(number=3)\n",
    "    ax2.coords[1].set_ticklabel_visible(False)\n",
    "    ax3.coords[1].set_ticklabel_visible(False)\n",
    "    ax2.coords[0].set_ticklabel_visible(False)\n",
    "    ax3.coords[0].set_ticklabel_visible(False)\n",
    "    \n",
    "    ax1.set(title='MUSE',\n",
    "            xlabel='R.A. (J2000)',\n",
    "            ylabel='Dec. (J2000)')\n",
    "\n",
    "    ax2.set(title='MUSE cutout')\n",
    "    ax3.set(title='HST cutout')\n",
    "    \n",
    "    # it is a bit tricky to get the coordinates right (because data uses the wcs coordinates)\n",
    "    # the easiest thing is to use fractions from the figure size\n",
    "    # https://matplotlib.org/3.1.3/api/_as_gen/matplotlib.patches.ConnectionPatch.html\n",
    "\n",
    "    con = mpl.patches.ConnectionPatch(xyA=((xmax)/galaxy.shape[1],(ymax)/galaxy.shape[0]), xyB=(0,1), \n",
    "                                      coordsA=\"axes fraction\", coordsB=\"axes fraction\",\n",
    "                                      axesA=ax1, axesB=ax2, color=\"black\",linewidth=0.3)\n",
    "    ax2.add_artist(con)\n",
    "    con = mpl.patches.ConnectionPatch(xyA=((xmax)/galaxy.shape[1],(ymin)/galaxy.shape[0]), xyB=(0,0), \n",
    "                                      coordsA=\"axes fraction\", coordsB=\"axes fraction\",\n",
    "                                      axesA=ax1, axesB=ax2, color=\"black\",linewidth=0.3)\n",
    "    ax2.add_artist(con)\n",
    "    \n",
    "    filename = basedir / 'reports' / 'cluster' / 'cutout.pdf'\n",
    "    plt.savefig(filename,bbox_inches='tight',dpi=600)\n",
    "    plt.show()\n",
    "    \n",
    "    \n",
    "center = SkyCoord(ra='10h44m01.2s',dec='11d41m58.5s')\n",
    "center = clusters[clusters['ID']==1278]['SkyCoord']\n",
    "size   = 5*u.arcsec\n",
    "\n",
    "compare_cutout(center,size,galaxy.whitelight,HST_whitelight,galaxy.wcs,WCS(HST_whitelight_header))"
   ]
  },
  {
   "cell_type": "markdown",
   "metadata": {},
   "source": [
    "## Plot Spectra of different Objects"
   ]
  },
  {
   "cell_type": "code",
   "execution_count": null,
   "metadata": {},
   "outputs": [],
   "source": [
    "from functools import reduce\n",
    "from pymuse.auxiliary import circular_mask\n",
    "\n",
    "NOBJ = 5\n",
    "radius = 2\n",
    "pn.sort('mOIII')\n",
    "mask = mask = reduce((lambda x,y: x|y),[circular_mask(*galaxy.shape,(pn['x'][idx],pn['y'][idx]),radius=radius) for idx in range(NOBJ)])\n",
    "pn_spectra = np.sum(data_cube[...,mask],axis=1)\n",
    "print('PN done')\n",
    "\n",
    "HII.sort('mOIII')\n",
    "mask = mask = reduce((lambda x,y: x|y),[circular_mask(*galaxy.shape,(HII['x'][idx],HII['y'][idx]),radius=radius) for idx in range(20,20+NOBJ)])\n",
    "HII_spectra = np.sum(data_cube[...,mask],axis=1)\n",
    "print('HII done')\n",
    "\n",
    "SNR.sort('mOIII')\n",
    "mask = mask = reduce((lambda x,y: x|y),[circular_mask(*galaxy.shape,(SNR['x'][idx],SNR['y'][idx]),radius=radius) for idx in range(NOBJ)])\n",
    "SNR_spectra = np.sum(data_cube[...,mask],axis=1)\n",
    "print('SNR done')"
   ]
  },
  {
   "cell_type": "code",
   "execution_count": null,
   "metadata": {},
   "outputs": [],
   "source": [
    "WAVELMIN=  4749.8759765625       \n",
    "WAVELMAX=  9349.8759765625 \n",
    "\n",
    "wlen = np.linspace(WAVELMIN,WAVELMAX,data_cube.shape[0]) #* u.nanometer\n",
    "\n",
    "fig, (ax1, ax2, ax3) = plt.subplots(nrows=3, sharex=True,figsize=(two_column,two_column/1.618))\n",
    "\n",
    "\n",
    "ax1.plot(wlen,HII_spectra/NOBJ,label='HII-region',color=tab10[0])\n",
    "ax1.legend(loc=2)\n",
    "ax2.plot(wlen,pn_spectra/NOBJ,label='PN',color=tab10[1])\n",
    "ax2.legend(loc=2)\n",
    "ax3.plot(wlen,SNR_spectra/NOBJ,label='SNR',color=tab10[2])\n",
    "ax3.legend(loc=2)\n",
    "\n",
    "ylim = [200,6e3]\n",
    "xlim = [4750,7000]\n",
    "scale = 'log'\n",
    "ax1.set(ylabel=r'erg\\,/\\,s\\,/\\,\\AA',\n",
    "        yscale=scale,\n",
    "        xlim=xlim,\n",
    "        ylim=ylim\n",
    "      )\n",
    "ax2.set(ylabel=r'erg\\,/\\,s\\,/\\,\\AA',\n",
    "        yscale=scale,\n",
    "        xlim=xlim,\n",
    "        ylim=ylim\n",
    "      )\n",
    "ax3.set(xlabel=r'$\\lambda$ / \\AA',\n",
    "       ylabel=r'erg\\,/\\,s\\,/\\,\\AA',\n",
    "       yscale=scale,\n",
    "       xlim=xlim,\n",
    "       ylim=ylim\n",
    "      )\n",
    "\n",
    "ticks  = [4863,4960,5007,5197,5200,5877,6302,6366,6550,6565,6585,6718,6733] \n",
    "labels = [r'H$\\beta$','','[OIII]','[NI]','','HeI','[OI]','','',r'H$\\alpha$','','[SII]','']\n",
    "ax4 = ax1.twiny()\n",
    "ax4.set_xticks(ticks,minor=False)\n",
    "ax4.set_xticklabels(labels)\n",
    "ax4.set_xlim(xlim)\n",
    "    \n",
    "plt.subplots_adjust(hspace = .001)\n",
    "filename = basedir / 'reports' / 'cluster' / 'spectra_nebulae.pdf'\n",
    "plt.savefig(filename,bbox_inches='tight',dpi=600)"
   ]
  },
  {
   "cell_type": "markdown",
   "metadata": {},
   "source": [
    "## Spectra of one pixel"
   ]
  },
  {
   "cell_type": "code",
   "execution_count": null,
   "metadata": {},
   "outputs": [],
   "source": [
    "def cutout_spectrum(position,img,data_cube,wcs,title=None):\n",
    "    '''Plot one spectra of a MUSE data cube with Image\n",
    "    \n",
    "    Parameters\n",
    "    ----------\n",
    "    \n",
    "    position :\n",
    "        Tuple of coordinates or SkyCoord object. Object at\n",
    "        which the spectra is extracted.\n",
    "        \n",
    "    img : \n",
    "        2D Image that is displayed to illustrate the position\n",
    "        of the spectra\n",
    "        \n",
    "    data_cube :\n",
    "        3D data cube (spectra is first dimension) with the \n",
    "        same shape as img\n",
    "        \n",
    "    wcs : \n",
    "        World coordinate information for img and data_cube\n",
    "        \n",
    "    title : str (optional)\n",
    "        Set title for plot\n",
    "    '''\n",
    "    \n",
    "    \n",
    "    if isinstance(position,SkyCoord):\n",
    "        x,y = position.to_pixel(wcs=wcs)\n",
    "    else:\n",
    "        x,y = position\n",
    "        \n",
    "    # plot it\n",
    "    fig = plt.figure(figsize=(two_column,two_column/3)) \n",
    "    gs = mpl.gridspec.GridSpec(1, 2, width_ratios=[1,2]) \n",
    "    ax1 = fig.add_subplot(gs[0],projection=galaxy.wcs)\n",
    "\n",
    "    norm = simple_norm(img,'linear',clip=False,percent=95)\n",
    "    ax1.imshow(img, origin='lower',norm=norm,cmap='Greys')\n",
    "    \n",
    "    spectra = np.sum(data_cube[...,int(x)-1:int(x)+1,int(y)-1:int(y)+1],axis=(1,2))    \n",
    "    # the wavelenght coverage of MUSE\n",
    "    wavelength = np.linspace(4749.88,9349.88,data_cube.shape[0]) \n",
    "    \n",
    "    ax2 = fig.add_subplot(gs[1])\n",
    "    ax2.plot(wavelength,spectra,color=tab10[0])\n",
    "    \n",
    "    ax1.set(title=title,\n",
    "            xlabel='R.A. (J2000)',\n",
    "            ylabel='Dec. (J2000)')\n",
    "    \n",
    "    ax2.set(title='Spectrum',\n",
    "            yscale='log',\n",
    "            xlim=[4750,7000],\n",
    "            #ylim=[1e2,7e2],\n",
    "            xlabel=r'$\\lambda$\\,/\\,\\AA',\n",
    "            ylabel=r'erg\\,/\\,s\\,/\\,\\AA')\n",
    "    \n",
    "    ax2.yaxis.tick_right()\n",
    "    ax2.yaxis.set_ticks_position('both')\n",
    "    ax2.yaxis.set_label_position(\"right\")\n",
    "    \n",
    "    \n",
    "    ax1.add_patch(mpl.patches.Rectangle((x,y),1,1,linewidth=0.3,edgecolor='k',facecolor='none'))\n",
    "    plt.subplots_adjust(wspace=0.1)\n",
    "    \n",
    "    x = int(x)\n",
    "    y = int(y)\n",
    "    con = mpl.patches.ConnectionPatch(xyA=((x+1)/galaxy.shape[1],(y+1)/galaxy.shape[0]), xyB=(0,1), \n",
    "                                      coordsA=\"axes fraction\", coordsB=\"axes fraction\",\n",
    "                                      axesA=ax1, axesB=ax2, color=\"black\",linewidth=0.3)\n",
    "    ax2.add_artist(con)\n",
    "    con = mpl.patches.ConnectionPatch(xyA=((x+1)/galaxy.shape[1],(y)/galaxy.shape[0]), xyB=(0,0), \n",
    "                                      coordsA=\"axes fraction\", coordsB=\"axes fraction\",\n",
    "                                      axesA=ax1, axesB=ax2, color=\"black\",linewidth=0.3)\n",
    "    ax2.add_artist(con)\n",
    "    \n",
    "    filename = basedir / 'reports' / 'cluster' / 'cutout_spectrum.pdf'\n",
    "    plt.savefig(filename,bbox_inches='tight',dpi=800)\n",
    "    return 0\n",
    "   \n",
    "# position can be SkyCoord or (x,y) tuple\n",
    "position = clusters[clusters['ID']==167]['SkyCoord']\n",
    "position = pn[['x','y']][1]\n",
    "\n",
    "cutout_spectrum(position,galaxy.whitelight,data_cube,galaxy.wcs,galaxy.name)\n"
   ]
  },
  {
   "cell_type": "markdown",
   "metadata": {},
   "source": [
    "### Create RGB image"
   ]
  },
  {
   "cell_type": "code",
   "execution_count": null,
   "metadata": {},
   "outputs": [],
   "source": [
    "# data_cube must be loaded already\n",
    "\n",
    "WAVELMIN=  474.98759765625       \n",
    "WAVELMAX=  934.98759765625 \n",
    "\n",
    "wlen = np.linspace(WAVELMIN,WAVELMAX,data_cube.shape[0])\n",
    "\n",
    "filters = [(480,550),\n",
    "          (550,650),\n",
    "          (650,750)]\n",
    "\n",
    "slice1 = slice(0,None)\n",
    "slice2 = slice(0,None)\n",
    "subcube = data_cube[:,slice1,slice2]"
   ]
  },
  {
   "cell_type": "code",
   "execution_count": null,
   "metadata": {},
   "outputs": [],
   "source": [
    "# sum of subcube around each range defined in filters\n",
    "\n",
    "w1,w2 = filters[2]\n",
    "r = np.sum(subcube[(wlen>w1) & (wlen<w2),...],axis=0)\n",
    "print('finished r')\n",
    "w1,w2 = filters[1]\n",
    "g = np.sum(subcube[(wlen>w1) & (wlen<w2),...],axis=0)\n",
    "print('finished g')\n",
    "w1,w2 = filters[0]\n",
    "b = np.sum(subcube[(wlen>w1) & (wlen<w2),...],axis=0)\n",
    "print('finished b')"
   ]
  },
  {
   "cell_type": "code",
   "execution_count": null,
   "metadata": {},
   "outputs": [],
   "source": [
    "from pymuse.plot.plot import create_RGB\n",
    "\n",
    "single_column = 3.321 # in inch\n",
    "\n",
    "rgb = create_RGB(r,g,b,percentile=95)\n",
    "\n",
    "fig = plt.figure(figsize=(single_column,single_column))\n",
    "ax  = fig.add_subplot(111,projection=galaxy.wcs) \n",
    "ax.imshow(rgb)\n",
    "\n",
    "ax.set(xlabel='R.A. (J2000)',\n",
    "       ylabel='Dec. (J2000)')\n",
    "\n",
    "plt.show()\n",
    "#plt.savefig(f'{galaxy.name}_RGB.pdf',dpi=800)"
   ]
  },
  {
   "cell_type": "code",
   "execution_count": null,
   "metadata": {},
   "outputs": [],
   "source": [
    "filepath = data_raw / 'MUSE' / 'MOSAIC' / name\n",
    "\n",
    "def color_image(lst):\n",
    "    '''Create a RGB image from a list of files\n",
    "    \n",
    "    Parameters\n",
    "    ----------\n",
    "    \n",
    "    lst : list of Path objects\n",
    "    '''\n",
    "    \n",
    "    g_filter,header = fits.getdata(lst[0],header=True)\n",
    "    i_filter = fits.getdata(lst[1])\n",
    "    r_filter = fits.getdata(lst[2])\n",
    "    \n",
    "    rgb = create_RGB(g_filter,r_filter,i_filter,percentile=[97,98,97],weights=[1,1,1])\n",
    "\n",
    "    fig = plt.figure(figsize=(single_column,single_column))\n",
    "    ax  = fig.add_subplot(111,projection=WCS(header)) \n",
    "    ax.imshow(rgb)\n",
    "    ax.set(\n",
    "            xlabel='R.A. (J2000)',\n",
    "            ylabel='Dec. (J2000)')\n",
    "\n",
    "    plt.imshow(rgb)\n",
    "    plt.show()\n",
    "    #plt.savefig(f'{galaxy.name}_RGB.pdf',dpi=800)\n",
    "    \n",
    "\n",
    "color_image([\n",
    "    filepath / f'{galaxy.name}_IMAGE_FOV_SDSS_i.fits',\n",
    "    filepath / f'{galaxy.name}_IMAGE_FOV_SDSS_r.fits',\n",
    "    filepath / f'{galaxy.name}_IMAGE_FOV_SDSS_g.fits'\n",
    "            ])"
   ]
  },
  {
   "cell_type": "markdown",
   "metadata": {},
   "source": [
    "### RGB for all objects"
   ]
  },
  {
   "cell_type": "code",
   "execution_count": null,
   "metadata": {},
   "outputs": [],
   "source": [
    "from pymuse.plot.plot import create_RGB\n",
    "\n",
    "filepath = data_ext / 'MUSE' / 'MOSAIC'\n",
    "\n",
    "\n",
    "galaxies = [x.stem for x in data_raw.iterdir() if x.is_dir()]\n",
    "galaxies = galaxies[:12]\n",
    "ncols = 3\n",
    "nrows = len(galaxies) // ncols\n",
    "\n",
    "\n",
    "print(f'axes={len(galaxies)}, rows={nrows}, cols={ncols}')\n",
    "if len(galaxies) % ncols != 0:\n",
    "    nrows += 1\n",
    "\n",
    "\n",
    "fig = plt.figure(figsize=(two_column,two_column*nrows/ncols))\n",
    "\n",
    "for i, name in enumerate(galaxies):\n",
    "\n",
    "    g_filter,header = fits.getdata(filepath / name / f'{name}_IMAGE_FOV_SDSS_g.fits',header=True)\n",
    "    i_filter = fits.getdata(filepath / name / f'{name}_IMAGE_FOV_SDSS_i.fits')\n",
    "    r_filter = fits.getdata( filepath / name / f'{name}_IMAGE_FOV_SDSS_r.fits',)\n",
    "    \n",
    "    rgb = create_RGB(g_filter,r_filter,i_filter,percentile=[97,98,97],weights=[1,1,1])    \n",
    "    \n",
    "    row,col = (i//nrows)+1,(i%nrows)+1\n",
    "    ax = fig.add_subplot(nrows,ncols,i+1)#,projection=WCS(header))\n",
    "    ax.imshow(rgb,origin='lower')\n",
    "    ax.set_title(name)\n",
    "    \n",
    "    #ax.coords[0].set_ticklabel_visible(False)\n",
    "    #ax.coords[1].set_ticklabel_visible(False)\n",
    "    #ax.coords[0].set_ticks_visible(False)\n",
    "    #ax.coords[1].set_ticks_visible(False)\n",
    "    ax.axis('off')\n",
    "    \n",
    "    '''\n",
    "    if row ==nrows:\n",
    "        ax.set_xlabel('R.A. (J2000)')\n",
    "    if col == 1:\n",
    "        ax.set_ylabel('Dec. (J2000)')\n",
    "    '''\n",
    "    \n",
    "plt.savefig(basedir / 'reports' / 'all_objects_rgb.pdf' ,bbox_inches='tight',dpi=600)\n",
    "plt.show()"
   ]
  },
  {
   "cell_type": "markdown",
   "metadata": {},
   "source": [
    "## Look at overluminous sources"
   ]
  },
  {
   "cell_type": "code",
   "execution_count": null,
   "metadata": {},
   "outputs": [],
   "source": [
    "from pymuse.plot.spectrum import cutout_spectrum, spectrum_and_rgb\n",
    "from astropy.nddata import Cutout2D\n",
    "\n",
    "pn_candidates = ascii.read(basedir / 'data' / 'catalogues' / f'{name}_PN_candidates.txt',format='fixed_width_two_line',delimiter_pad=' ',position_char='=')\n",
    "pn_candidates['SkyCoord'] = SkyCoord(pn_candidates['R.A.'],pn_candidates['Dec.'])\n",
    "\n",
    "print(f'{len(pn_candidates)} objects in catalogue')"
   ]
  },
  {
   "cell_type": "code",
   "execution_count": null,
   "metadata": {},
   "outputs": [],
   "source": [
    "pn = pn_candidates[0]\n",
    "print(f'ID: {pn[\"ID\"]}, mOIII={pn[\"mOIII\"]}')\n",
    "filename = basedir / 'reports' / 'overluminous' / f'{galaxy.name}_{pn[\"ID\"]}.pdf'\n",
    "spectra,wavelength = spectrum_and_rgb(pn['SkyCoord'],galaxy,data_cube,galaxy.wcs,aperture_size=1.5,filename=filename)\n"
   ]
  },
  {
   "cell_type": "code",
   "execution_count": null,
   "metadata": {},
   "outputs": [],
   "source": [
    "HST_cutout = Cutout2D(HST_whitelight,pn_candidates['SkyCoord'][0],8*u.arcsec,wcs=WCS(HST_whitelight_header))"
   ]
  },
  {
   "cell_type": "code",
   "execution_count": null,
   "metadata": {},
   "outputs": [],
   "source": [
    "fig = plt.figure(figsize=(two_column,two_column))\n",
    "ax  = fig.add_subplot(projection=HST_cutout.wcs)\n",
    "\n",
    "norm = simple_norm(HST_cutout.data)\n",
    "ax.imshow(HST_cutout.data,norm=norm)\n",
    "\n",
    "plt.show()"
   ]
  },
  {
   "cell_type": "code",
   "execution_count": null,
   "metadata": {},
   "outputs": [],
   "source": [
    "spectra,wavelength = cutout_spectrum(pn_candidates['SkyCoord'][0],galaxy.OIII5006,data_cube,galaxy.wcs)"
   ]
  },
  {
   "cell_type": "code",
   "execution_count": null,
   "metadata": {},
   "outputs": [],
   "source": [
    "spectra,wavelength = cutout_spectrum(pn_candidates['SkyCoord'][1],galaxy.OIII5006,data_cube,galaxy.wcs)"
   ]
  },
  {
   "cell_type": "code",
   "execution_count": null,
   "metadata": {},
   "outputs": [],
   "source": [
    "# NGC1566\n",
    "spectra,wavelength = cutout_spectrum(pn_candidates['SkyCoord'][0],galaxy.OIII5006,data_cube,galaxy.wcs)"
   ]
  },
  {
   "cell_type": "code",
   "execution_count": null,
   "metadata": {},
   "outputs": [],
   "source": [
    "def Moffat(r,alpha,beta):\n",
    "    \n",
    "    return 2 * (beta-1)/(np.pi*alpha**2) * (1+(r/alpha)**2)**(-beta)\n",
    "\n",
    "alpha, beta = 1,4\n",
    "\n",
    "r = np.linspace(0,5)\n",
    "\n",
    "plt.plot(r,Moffat(r,alpha,beta))\n",
    "\n",
    "print(quad(Moffat,0,1e3,args=(alpha,beta)))"
   ]
  },
  {
   "cell_type": "code",
   "execution_count": null,
   "metadata": {},
   "outputs": [],
   "source": [
    "from scipy.integrate import quad"
   ]
  }
 ],
 "metadata": {
  "kernelspec": {
   "display_name": "Python 3",
   "language": "python",
   "name": "python3"
  },
  "language_info": {
   "codemirror_mode": {
    "name": "ipython",
    "version": 3
   },
   "file_extension": ".py",
   "mimetype": "text/x-python",
   "name": "python",
   "nbconvert_exporter": "python",
   "pygments_lexer": "ipython3",
   "version": "3.7.7"
  },
  "toc": {
   "base_numbering": 1,
   "nav_menu": {},
   "number_sections": true,
   "sideBar": true,
   "skip_h1_title": false,
   "title_cell": "Table of Contents",
   "title_sidebar": "Contents",
   "toc_cell": false,
   "toc_position": {
    "height": "calc(100% - 180px)",
    "left": "10px",
    "top": "150px",
    "width": "173.1px"
   },
   "toc_section_display": true,
   "toc_window_display": true
  }
 },
 "nbformat": 4,
 "nbformat_minor": 2
}
