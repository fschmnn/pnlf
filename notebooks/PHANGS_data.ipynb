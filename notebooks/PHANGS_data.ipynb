{
 "cells": [
  {
   "cell_type": "markdown",
   "metadata": {},
   "source": [
    "# Explore PHANGS data\n",
    "\n",
    "this Notebook explores the different data products that were produced by PHANGS."
   ]
  },
  {
   "cell_type": "code",
   "execution_count": null,
   "metadata": {},
   "outputs": [],
   "source": [
    "# reload modules after they have been modified\n",
    "%load_ext autoreload\n",
    "%autoreload 2\n",
    "\n",
    "from pymuse.packages import *\n",
    "\n",
    "from pymuse.constants import tab10, single_column, two_column\n",
    "\n",
    "%matplotlib inline\n",
    "%config InlineBackend.figure_format = 'retina'"
   ]
  },
  {
   "cell_type": "code",
   "execution_count": null,
   "metadata": {},
   "outputs": [],
   "source": [
    "logging.basicConfig(stream=sys.stdout,\n",
    "                    #format='(levelname)s %(name)s %(message)s',\n",
    "                    datefmt='%H:%M:%S',\n",
    "                    level=logging.INFO)\n",
    "\n",
    "logger = logging.getLogger(__name__)"
   ]
  },
  {
   "cell_type": "markdown",
   "metadata": {},
   "source": [
    "## Read in Data"
   ]
  },
  {
   "cell_type": "code",
   "execution_count": null,
   "metadata": {},
   "outputs": [],
   "source": [
    "# NGC3351 or NGC1566\n",
    "name = 'NGC2835'\n",
    "\n",
    "# first we need to specify the path to the raw data\n",
    "data_raw = Path('d:\\downloads\\MUSEDAP')\n",
    "data_ext = Path('g:\\Archive')\n",
    "basedir = Path('..')"
   ]
  },
  {
   "cell_type": "markdown",
   "metadata": {},
   "source": [
    "### MUSE Data"
   ]
  },
  {
   "cell_type": "code",
   "execution_count": null,
   "metadata": {},
   "outputs": [],
   "source": [
    "from pymuse.io import ReadLineMaps\n",
    "\n",
    "# read in the data we will be working with and print some information\n",
    "galaxy = ReadLineMaps(data_raw / name)"
   ]
  },
  {
   "cell_type": "markdown",
   "metadata": {
    "heading_collapsed": true
   },
   "source": [
    "### Sample Table"
   ]
  },
  {
   "cell_type": "code",
   "execution_count": null,
   "metadata": {
    "hidden": true
   },
   "outputs": [],
   "source": [
    "from pymuse.auxiliary import search_table\n",
    "\n",
    "filename = basedir / 'data' / 'external' / 'phangs_sample_table_v1p5.fits'\n",
    "with fits.open(filename) as hdul:\n",
    "    sample_table = Table(hdul[1].data)\n",
    "    \n",
    "#galaxies = sample_table[sample_table['HAS_MUSE']==1]['NAME']\n",
    "galaxies = sample_table[sample_table['survey_muse_status']!='not_in_survey']['name']\n",
    "\n",
    "latexdict = {'tabletype': 'table*',\n",
    "'header_start': '\\\\toprule\\\\toprule',\n",
    "'header_end': '\\\\midrule',\n",
    "'data_end': '\\\\bottomrule',\n",
    "'caption': f'Galaxy sample',\n",
    "'units': {'R.A.':'(J2000)','Dec.':'(J2000)','Inclination':'deg','Distance':'$\\si{\\mega\\parsec}$',\n",
    "          '$\\log_{10}(M_*)$':'\\si{\\Msun}','$\\log_{10}($SFR$)$':'\\si{\\Msun \\per \\year}'},\n",
    "'preamble': '\\\\centering',\n",
    "'tablefoot': f'\\\\label{{tbl:sample}}'\n",
    "            }\n",
    "\n",
    "sample_dict = {\n",
    "'Name': [],\n",
    "'Type':[],\n",
    "'R.A.': [],\n",
    "'Dec.': [],\n",
    "'Distance': [],\n",
    "'Inclination': [],\n",
    "'$\\log_{10}(M_*)$': [],\n",
    "'$\\log_{10}($SFR$)$': []\n",
    "}\n",
    "\n",
    "    \n",
    "for name in galaxies:\n",
    "    stbl = search_table(sample_table,name)\n",
    "    d = stbl[\"dist\"][0]\n",
    "    d_unc = stbl[\"dist_unc\"][0]\n",
    "\n",
    "    sample_dict['Type'].append(stbl['morph_string'])    \n",
    "    sample_dict['Name'].append(name.upper())\n",
    "    sample_dict['R.A.'].append(stbl['orient_ra'])\n",
    "    sample_dict['Dec.'].append(stbl['orient_dec'])\n",
    "    sample_dict['Distance'].append(f'{d:.2f}$\\pm${d_unc:.2f}')\n",
    "    sample_dict['Inclination'].append(stbl['orient_incl'])\n",
    "    sample_dict['$\\log_{10}(M_*)$'].append(stbl['props_mstar'])\n",
    "    sample_dict['$\\log_{10}($SFR$)$'].append(stbl['props_sfr'])\n",
    "    \n",
    "    '''\n",
    "    sample_dict['Name'].append(name)\n",
    "    sample_dict['R.A.'].append(stbl['ORIENT_RA'])\n",
    "    sample_dict['Dec.'].append(stbl['ORIENT_DEC'])\n",
    "    sample_dict['Distance'].append(stbl['DIST'])\n",
    "    sample_dict['Inclination'].append(stbl['ORIENT_INCL'])\n",
    "    sample_dict['$\\log_{10}(M_*)$'].append(stbl['MSTAR_LOGMSTAR'])\n",
    "    sample_dict['$\\log_{10}($SFR$)$'].append(stbl['SFR_LOGSFR'])\n",
    "    '''\n",
    "\n",
    "sample = Table(sample_dict)\n",
    "sample['$\\log_{10}(M_*)$'] = np.log10(sample['$\\log_{10}(M_*)$'])\n",
    "sample['$\\log_{10}($SFR$)$'] = np.log10(sample['$\\log_{10}($SFR$)$'])\n",
    "sample['$\\log_{10}(M_*)$'].info.format = '%.2f' \n",
    "sample['$\\log_{10}($SFR$)$'].info.format = '%.2f' \n",
    "coord = SkyCoord(sample['R.A.']*u.degree,sample['Dec.']*u.degree)\n",
    "sample['R.A.'], sample['Dec.'] = zip(*[x[0].split(' ') for x in coord.to_string(style='hmsdms',precision=2)])\n",
    "#sample.add_column('',index=1,name='Type')\n",
    "\n",
    "with open(basedir / 'reports' / 'sample.tex','w',newline='\\n') as f:\n",
    "    ascii.write(sample,f,Writer=ascii.Latex, latexdict=latexdict,overwrite=True)\n",
    "    \n",
    "sample"
   ]
  },
  {
   "cell_type": "markdown",
   "metadata": {},
   "source": [
    "### MUSE Cubes"
   ]
  },
  {
   "cell_type": "code",
   "execution_count": null,
   "metadata": {},
   "outputs": [],
   "source": [
    "filename = data_ext / 'MUSE' / 'MOSAIC' / name / f'{name}_DATACUBE_FINAL.fits'\n",
    "\n",
    "with fits.open(filename , memmap=True, mode='denywrite') as hdul:\n",
    "    #cube=SpectralCube(data=hdul[1].data,wcs=WCS(hdul[1].header))\n",
    "    \n",
    "    #hdul.info()\n",
    "    data_cube   = hdul[1].data\n",
    "    cube_header = hdul[1].header\n",
    "    "
   ]
  },
  {
   "cell_type": "markdown",
   "metadata": {},
   "source": [
    "### Nebulae Catalogue"
   ]
  },
  {
   "cell_type": "code",
   "execution_count": null,
   "metadata": {},
   "outputs": [],
   "source": [
    "# nebulae catalogue from Francesco (mostly HII-regions)\n",
    "with fits.open(basedir / 'data' / 'external' / 'Nebulae_Catalogue.fits') as hdul:\n",
    "    nebulae = Table(hdul[1].data)\n",
    "\n",
    "nebulae = nebulae[nebulae['gal_name']==name]    \n",
    "nebulae.rename_columns(['cen_x','cen_y'],['x','y'])\n",
    "\n",
    "nebulae = filter_table(nebulae,BPT_NII=0,BPT_SII=0,BPT_OI=0,flag_star=0)"
   ]
  },
  {
   "cell_type": "code",
   "execution_count": null,
   "metadata": {},
   "outputs": [],
   "source": [
    "# the nebulae that were classified by myself (mostly PN)\n",
    "filename = basedir / 'data' / 'catalogues' / f'pn_candidates_{name}.txt'\n",
    "my_nebulae = ascii.read(filename,format='fixed_width',delimiter='\\t')\n",
    "\n",
    "pn  = my_nebulae[my_nebulae['type']=='PN']\n",
    "HII = my_nebulae[my_nebulae['type']=='HII']\n",
    "SNR = my_nebulae[my_nebulae['type']=='SNR']"
   ]
  },
  {
   "cell_type": "markdown",
   "metadata": {},
   "source": [
    "### HST Data"
   ]
  },
  {
   "cell_type": "code",
   "execution_count": null,
   "metadata": {},
   "outputs": [],
   "source": [
    "# cluster catalogues\n",
    "\n",
    "filename = data_ext / name / 'clusters_photometry_v0_9' / f'{name}_phangshst_cluster_allcandidates_v0_9.csv'\n",
    "\n",
    "if filename.is_file():\n",
    "    clusters = ascii.read(filename)\n",
    "else:\n",
    "    raise FileExistsError('no catalogue for ' + name)\n",
    "    \n",
    "clusters['SkyCoord'] = SkyCoord(clusters['PHANGS_RA']*u.degree,clusters['PHANGS_DEC']*u.degree)\n",
    "x,y= clusters['SkyCoord'].to_pixel(wcs=galaxy.wcs)\n",
    "clusters['x'] = x\n",
    "clusters['y'] = y\n",
    "clusters.rename_columns(['ID_PHANGS_CLUSTERS_V0_9','PHANGS_MASS_MINCHISQ','PHANGS_MASS_MINCHISQ_ERR',\n",
    "                         'PHANGS_AGE_MINCHISQ','PHANGS_AGE_BAYES_ERR',\n",
    "                         'PHANGS_EBV_MINCHISQ','PHANGS_EBV_MINCHISQ_ERR'],\n",
    "                        ['ID','mass','mass_err','age','age_err','Ebv','Ebv_err'])\n",
    "clusters = clusters['ID','x','y','mass','mass_err','age','age_err','Ebv','Ebv_err','SkyCoord']\n",
    "clusters['in_frame'] = False\n",
    "\n",
    "\n",
    "'''\n",
    "y_dim,x_dim = galaxy.shape\n",
    "for row in clusters:\n",
    "    if 0<=int(row['x'])<x_dim and 0<=int(row['y'])<y_dim:\n",
    "        if not np.isnan(galaxy.PSF[int(row['y']),int(row['y'])]):\n",
    "            row['in_frame'] = True\n",
    "'''\n",
    "#clusters = clusters[clusters['in_frame'] & (clusters['mass']>1e3)]"
   ]
  },
  {
   "cell_type": "code",
   "execution_count": null,
   "metadata": {},
   "outputs": [],
   "source": [
    "# whitelight image\n",
    "\n",
    "filename = data_ext / 'HST' / name / 'white_light' / f'{name}_white_24rgb.fits'\n",
    "\n",
    "with fits.open(filename) as hdul:\n",
    "    HST_whitelight = hdul[0].data\n",
    "    HST_whitelight_header = hdul[0].header"
   ]
  },
  {
   "cell_type": "markdown",
   "metadata": {},
   "source": [
    "### Sitelle Data\n",
    "\n",
    "(for [OII]$\\lambda 3726$ line)\n",
    "\n",
    "the data from this telescope is procesed in another notebook. The final images will then be used here."
   ]
  },
  {
   "cell_type": "markdown",
   "metadata": {},
   "source": [
    "## Compare MUSE and HST"
   ]
  },
  {
   "cell_type": "code",
   "execution_count": null,
   "metadata": {},
   "outputs": [],
   "source": [
    "from astropy.nddata import Cutout2D\n",
    "\n",
    "def compare_cutout(center,size,MUSE_data,HST_data,MUSE_wcs,HST_wcs):\n",
    "    '''Compare the resolution of MUSE to HST'''\n",
    "    \n",
    "    cutout_MUSE = Cutout2D(MUSE_data,center,size,wcs=MUSE_wcs)\n",
    "    cutout_HST  = Cutout2D(HST_data,center,size,wcs=HST_wcs)\n",
    "\n",
    "    fig = plt.figure(figsize=(6.974,6.974/2))\n",
    "    ax1 = fig.add_subplot(131,projection=MUSE_wcs)\n",
    "    ax2 = fig.add_subplot(132,projection=cutout_MUSE.wcs)\n",
    "    ax3 = fig.add_subplot(133,projection=cutout_HST.wcs)\n",
    "\n",
    "    norm = simple_norm(MUSE_data,'linear',clip=False,percent=95)\n",
    "    ax1.imshow(MUSE_data, origin='lower',norm=norm,cmap='Greys')\n",
    "\n",
    "    norm = simple_norm(cutout_MUSE.data,'linear',clip=False,percent=95)\n",
    "    ax2.imshow(cutout_MUSE.data, origin='lower',norm=norm,cmap='Greys')\n",
    "\n",
    "    norm = simple_norm(cutout_HST.data,'linear',clip=False,percent=99)\n",
    "    ax3.imshow(cutout_HST.data, origin='lower',norm=norm,cmap='Greys')\n",
    "\n",
    "    (ymin,ymax),(xmin,xmax) = cutout_MUSE.bbox_original\n",
    "    width  = xmax-xmin\n",
    "    height = ymax-ymin\n",
    "\n",
    "    ax1.add_patch(mpl.patches.Rectangle((xmin,ymin),width,height,linewidth=0.3,edgecolor='k',facecolor='none'))\n",
    "\n",
    "    # format ticks with wcs\n",
    "    # https://docs.astropy.org/en/stable/visualization/wcsaxes/ticks_labels_grid.html\n",
    "    ax1.coords[0].set_ticks(number=3)\n",
    "    ax1.coords[1].set_ticks(number=4)\n",
    "    #ax2.coords[0].set_ticks(number=3)\n",
    "    ax2.coords[1].set_ticklabel_visible(False)\n",
    "    ax3.coords[1].set_ticklabel_visible(False)\n",
    "    ax2.coords[0].set_ticklabel_visible(False)\n",
    "    ax3.coords[0].set_ticklabel_visible(False)\n",
    "    \n",
    "    ax1.set(title='MUSE',\n",
    "            xlabel='R.A. (J2000)',\n",
    "            ylabel='Dec. (J2000)')\n",
    "\n",
    "    ax2.set(title='MUSE cutout')\n",
    "    ax3.set(title='HST cutout')\n",
    "    \n",
    "    # it is a bit tricky to get the coordinates right (because data uses the wcs coordinates)\n",
    "    # the easiest thing is to use fractions from the figure size\n",
    "    # https://matplotlib.org/3.1.3/api/_as_gen/matplotlib.patches.ConnectionPatch.html\n",
    "\n",
    "    con = mpl.patches.ConnectionPatch(xyA=((xmax)/galaxy.shape[1],(ymax)/galaxy.shape[0]), xyB=(0,1), \n",
    "                                      coordsA=\"axes fraction\", coordsB=\"axes fraction\",\n",
    "                                      axesA=ax1, axesB=ax2, color=\"black\",linewidth=0.3)\n",
    "    ax2.add_artist(con)\n",
    "    con = mpl.patches.ConnectionPatch(xyA=((xmax)/galaxy.shape[1],(ymin)/galaxy.shape[0]), xyB=(0,0), \n",
    "                                      coordsA=\"axes fraction\", coordsB=\"axes fraction\",\n",
    "                                      axesA=ax1, axesB=ax2, color=\"black\",linewidth=0.3)\n",
    "    ax2.add_artist(con)\n",
    "    \n",
    "    filename = basedir / 'reports' / 'cluster' / 'cutout.pdf'\n",
    "    plt.savefig(filename,bbox_inches='tight',dpi=600)\n",
    "    plt.show()\n",
    "    \n",
    "    \n",
    "center = SkyCoord(ra='10h44m01.2s',dec='11d41m58.5s')\n",
    "center = clusters[clusters['ID']==1278]['SkyCoord']\n",
    "size   = 5*u.arcsec\n",
    "\n",
    "compare_cutout(center,size,galaxy.whitelight,HST_whitelight,galaxy.wcs,WCS(HST_whitelight_header))"
   ]
  },
  {
   "cell_type": "markdown",
   "metadata": {},
   "source": [
    "## Combine Nebulae and Cluster catalogues"
   ]
  },
  {
   "cell_type": "code",
   "execution_count": null,
   "metadata": {},
   "outputs": [],
   "source": [
    "from astropy.coordinates import Distance\n",
    "\n",
    "with open(basedir / 'data' / 'interim' / 'parameters.json') as json_file:\n",
    "    parameters = json.load(json_file)\n",
    "    \n",
    "D = Distance(distmod=parameters[name]['mu'])"
   ]
  },
  {
   "cell_type": "code",
   "execution_count": null,
   "metadata": {},
   "outputs": [],
   "source": [
    "def diameter(D,delta):\n",
    "    '''Calculate physical diameter from angular diameter and distance\n",
    "    \n",
    "    Parameters\n",
    "    ----------\n",
    "    \n",
    "    D :\n",
    "        Distance\n",
    "        \n",
    "    delta :\n",
    "        Angular Diameter\n",
    "    \n",
    "    '''\n",
    "    \n",
    "    if not D.unit.is_equivalent(u.cm):\n",
    "        raise u.UnitsError('invalid unit for distance: '+D.unit)\n",
    "        \n",
    "    if not delta.unit.is_equivalent(u.degree):\n",
    "        raise u.UnitsError('invalid unit for distance: '+delta.unit)\n",
    "        \n",
    "    return (2 * np.tan(delta/2) * D).to(u.parsec)\n",
    "    \n",
    "    \n",
    "def angular_diameter(D,d):\n",
    "    '''Calculate angular diameter from real diameter and distance\n",
    "    \n",
    "    Parameters\n",
    "    ----------\n",
    "    \n",
    "    D :\n",
    "        Distance\n",
    "        \n",
    "    d :\n",
    "        physical diameter\n",
    "    \n",
    "    '''\n",
    "    \n",
    "    if not D.unit.is_equivalent(u.cm):\n",
    "        raise u.UnitsError(f'invalid unit for distance: {D.unit}')\n",
    "        \n",
    "    if not d.unit.is_equivalent(u.cm):\n",
    "        raise u.UnitsError(f'invalid unit for distance: {d.unit}')\n",
    "        \n",
    "    return 2 * np.arctan(d/(2*D)).to(u.arcsec)\n",
    "\n",
    "\n",
    "\n",
    "#diameter(Distance(distmod=31),0.2*u.arcsec)\n",
    "#tolerance = (angular_diameter(D,100*u.pc) / (0.2*u.arcsec)).value\n",
    "\n",
    "diameter(10*u.Mpc,0.7*u.arcsec)"
   ]
  },
  {
   "cell_type": "code",
   "execution_count": null,
   "metadata": {},
   "outputs": [],
   "source": [
    "def uncertainties(x,dp,dm):\n",
    "    Distance(distmod=x)-Distance(distmod=29.723-0.159)"
   ]
  },
  {
   "cell_type": "code",
   "execution_count": null,
   "metadata": {},
   "outputs": [],
   "source": [
    "catalogue = nebulae[['region_ID','x','y','met_scal','Delta_met']]\n",
    "catalogue['ionization'] = nebulae['logq_D91'] #nebulae['SIII6312_FLUX'] / nebulae['SII6716_FLUX']\n",
    "catalogue.rename_columns(['region_ID','met_scal','Delta_met'],['ID','Z','Z_local'])"
   ]
  },
  {
   "cell_type": "code",
   "execution_count": null,
   "metadata": {},
   "outputs": [],
   "source": [
    "\n",
    "nearby_cluster = []\n",
    "d_to_cluster   = []\n",
    "N_nearby_cluster = []\n",
    "#closest_cluster = []\n",
    "\n",
    "age = []\n",
    "mass = []\n",
    "mass_dis = []\n",
    "\n",
    "for row in nebulae:\n",
    "    \n",
    "    x,y = row[['x','y']]\n",
    "    distances = np.sqrt((x-clusters['x'])**2+(y-clusters['y'])**2)\n",
    "    \n",
    "    # we need at least one cluster within the tolerance\n",
    "    if np.sum(distances<tolerance) >0:\n",
    "        # sort the clusters by distance\n",
    "        dis,ID = (list(t) for t in zip(*sorted(zip(distances[distances<tolerance], clusters[distances<tolerance]['ID']))))\n",
    "        \n",
    "        a = clusters[clusters['ID']==ID[0]]['age'][0]\n",
    "        m = np.sum([clusters[clusters['ID']==ID[i]]['mass'][0] for i in range(len(ID))])\n",
    "        N = len(ID)\n",
    "        \n",
    "        # mass weighted by distance and only if age is smaller some threshold\n",
    "        m_d = np.sum([clusters[clusters['ID']==idx]['mass'][0]/d**3 if (clusters[clusters['ID']==idx]['age'][0]<10 and clusters[clusters['ID']==idx]['mass'][0]>0) else 0 for idx,d in zip(ID,dis)])\n",
    "        \n",
    "        ID = ','.join(map(str,ID))\n",
    "        dis = ','.join([format(x,'.4f') for x in dis])\n",
    "        \n",
    "    else:\n",
    "        a = 0\n",
    "        m = 0\n",
    "        N = 0\n",
    "        m_d = 0\n",
    "        ID,dis = '', ''\n",
    "\n",
    "    mass_dis.append(m_d)\n",
    "    age.append(a)\n",
    "    mass.append(m)\n",
    "    N_nearby_cluster.append(N)\n",
    "    nearby_cluster.append(ID)\n",
    "    d_to_cluster.append(dis)\n",
    "    \n",
    "catalogue['nearby_clusters'] = nearby_cluster\n",
    "catalogue['d_to_cluster'] = d_to_cluster\n",
    "catalogue['N_nearby_cluster'] = N_nearby_cluster\n",
    "catalogue['age'] = age\n",
    "catalogue['mass'] = mass\n",
    "catalogue['mass_dis'] = mass_dis"
   ]
  },
  {
   "cell_type": "code",
   "execution_count": null,
   "metadata": {},
   "outputs": [],
   "source": [
    "catalogue[(catalogue['N_nearby_cluster']>0) & (catalogue['mass']>5e3) & (catalogue['age']<10) & (catalogue['age']>0)]"
   ]
  },
  {
   "cell_type": "code",
   "execution_count": null,
   "metadata": {},
   "outputs": [],
   "source": [
    "def plot_corner(table,rows,columns):\n",
    "    '''plot rows against columns'''\n",
    "    \n",
    "    if set(rows)-set(table.columns):\n",
    "        raise ValueError(f'missing column: {set(rows)-set(table.columns)}')\n",
    "    if set(columns)-set(table.columns):\n",
    "        raise ValueError(f'missing column: {set(columns)-set(table.columns)}')\n",
    "        \n",
    "        \n",
    "    fig, axes = plt.subplots(nrows=len(rows),ncols=len(columns),\n",
    "                             sharex='col',sharey='row',\n",
    "                             figsize=(2*two_column,2*two_column*len(rows)/len(columns)))\n",
    "    \n",
    "    for i,col in enumerate(columns):\n",
    "        for j,row in enumerate(rows):\n",
    "            tmp = table[(table[col]>0)]\n",
    "            \n",
    "            ax = axes[j,i]\n",
    "            ax.scatter(tmp[col],tmp[row])\n",
    "                \n",
    "            if j==len(rows)-1:\n",
    "                ax.set_xlabel(col.replace('_',''))\n",
    "                ax.set_xscale('log')\n",
    "            if i%len(columns)==0:\n",
    "                ax.set_ylabel(row.replace('_',''))\n",
    "                #ax.set_ylim([np.nanpercentile(tmp[row],1),np.nanpercentile(tmp[row],99)])\n",
    "                \n",
    "    plt.subplots_adjust(hspace = .001)      \n",
    "    plt.subplots_adjust(wspace = .001)      \n",
    "\n",
    "    plt.show()\n",
    "            \n",
    "    \n",
    "plot_corner(catalogue,rows=['Z_local','ionization'],columns=['mass','age','N_nearby_cluster','mass_dis'])"
   ]
  },
  {
   "cell_type": "code",
   "execution_count": null,
   "metadata": {},
   "outputs": [],
   "source": [
    "from pymuse.detection import match_catalogues\n",
    "\n",
    "idx, sep = match_catalogues(clusters[['x','y']],nebulae[['x','y']])\n",
    "\n",
    "tolerance = 5\n",
    "within_tolerance = len(sep[sep<tolerance])\n",
    "\n",
    "print(f'{within_tolerance} of {len(sep)} clusters have an HII-region within {tolerance} pixel ({within_tolerance / len(sep)*100:.1f} %)')\n",
    "print(f'mean seperation is {sep[sep<tolerance].mean():.2f} pixel')\n",
    "\n",
    "clusters['sep'] = sep\n",
    "clusters['Z'] = nebulae[idx]['met_scal']\n",
    "clusters['ionization'] = nebulae[idx]['met_scal']\n",
    "clusters['Z_without_radial'] = nebulae[idx]['Delta_met']"
   ]
  },
  {
   "cell_type": "code",
   "execution_count": null,
   "metadata": {},
   "outputs": [],
   "source": [
    "from pymuse.plot.plot import create_RGB\n",
    "\n",
    "#HII = nebulae[nebulae['HII_region_class']==1]\n",
    "\n",
    "fig = plt.figure(figsize=(8,8))\n",
    "ax  = fig.add_subplot(projection=galaxy.wcs)\n",
    "\n",
    "norm = simple_norm(galaxy.OIII5006_DAP,clip=False,percent=99)\n",
    "#img = create_RGB(galaxy.HA6562,galaxy.OIII5006_DAP,galaxy.SII6716,weights=[0.6,1,0.6],percentile=[95,99.,95])\n",
    "#ax.imshow(galaxy.OIII5006_DAP,norm=norm,cmap=plt.cm.Blues)\n",
    "#ax.imshow(img)\n",
    "\n",
    "ax.scatter(clusters['x'],clusters['y'],marker='o',s=3,lw=0.3,color='black',alpha=0.9,label='cluster')\n",
    "im = ax.scatter(nebulae['x'],nebulae['y'],marker='o',s=5,lw=0.3,\n",
    "           c=nebulae['Delta_met'], cmap=plt.cm.coolwarm,alpha=0.9,label='nebulae')\n",
    "plt.colorbar(im)\n",
    "plt.legend()\n",
    "print(f'{len(nebulae)} HII regions\\n{len(clusters)} Clusters')\n",
    "\n",
    "filename = basedir / 'reports' / 'cluster' / 'clusters+HII.pdf'\n",
    "plt.savefig(filename,bbox_inches='tight',dpi=600)"
   ]
  },
  {
   "cell_type": "code",
   "execution_count": null,
   "metadata": {},
   "outputs": [],
   "source": [
    "crit = clusters['sep']<5\n",
    "plt.scatter(clusters[crit]['mass'],clusters[crit]['Z'])\n",
    "plt.xscale('log')\n",
    "plt.show()"
   ]
  },
  {
   "cell_type": "markdown",
   "metadata": {},
   "source": [
    "## Plot Spectra of different Objects"
   ]
  },
  {
   "cell_type": "code",
   "execution_count": null,
   "metadata": {},
   "outputs": [],
   "source": [
    "from functools import reduce\n",
    "from pymuse.auxiliary import circular_mask\n",
    "\n",
    "NOBJ = 5\n",
    "radius = 2\n",
    "pn.sort('mOIII')\n",
    "mask = mask = reduce((lambda x,y: x|y),[circular_mask(*galaxy.shape,(pn['x'][idx],pn['y'][idx]),radius=radius) for idx in range(NOBJ)])\n",
    "pn_spectra = np.sum(data_cube[...,mask],axis=1)\n",
    "print('PN done')\n",
    "\n",
    "HII.sort('mOIII')\n",
    "mask = mask = reduce((lambda x,y: x|y),[circular_mask(*galaxy.shape,(HII['x'][idx],HII['y'][idx]),radius=radius) for idx in range(20,20+NOBJ)])\n",
    "HII_spectra = np.sum(data_cube[...,mask],axis=1)\n",
    "print('HII done')\n",
    "\n",
    "SNR.sort('mOIII')\n",
    "mask = mask = reduce((lambda x,y: x|y),[circular_mask(*galaxy.shape,(SNR['x'][idx],SNR['y'][idx]),radius=radius) for idx in range(NOBJ)])\n",
    "SNR_spectra = np.sum(data_cube[...,mask],axis=1)\n",
    "print('SNR done')"
   ]
  },
  {
   "cell_type": "code",
   "execution_count": null,
   "metadata": {},
   "outputs": [],
   "source": [
    "WAVELMIN=  4749.8759765625       \n",
    "WAVELMAX=  9349.8759765625 \n",
    "\n",
    "wlen = np.linspace(WAVELMIN,WAVELMAX,data_cube.shape[0]) #* u.nanometer\n",
    "\n",
    "fig, (ax1, ax2, ax3) = plt.subplots(nrows=3, sharex=True,figsize=(two_column,two_column/1.618))\n",
    "\n",
    "\n",
    "ax1.plot(wlen,HII_spectra/NOBJ,label='HII-region',color=tab10[0])\n",
    "ax1.legend(loc=2)\n",
    "ax2.plot(wlen,pn_spectra/NOBJ,label='PN',color=tab10[1])\n",
    "ax2.legend(loc=2)\n",
    "ax3.plot(wlen,SNR_spectra/NOBJ,label='SNR',color=tab10[2])\n",
    "ax3.legend(loc=2)\n",
    "\n",
    "ylim = [200,6e3]\n",
    "xlim = [4750,7000]\n",
    "scale = 'log'\n",
    "ax1.set(ylabel=r'erg\\,/\\,s\\,/\\,\\AA',\n",
    "        yscale=scale,\n",
    "        xlim=xlim,\n",
    "        ylim=ylim\n",
    "      )\n",
    "ax2.set(ylabel=r'erg\\,/\\,s\\,/\\,\\AA',\n",
    "        yscale=scale,\n",
    "        xlim=xlim,\n",
    "        ylim=ylim\n",
    "      )\n",
    "ax3.set(xlabel=r'$\\lambda$ / \\AA',\n",
    "       ylabel=r'erg\\,/\\,s\\,/\\,\\AA',\n",
    "       yscale=scale,\n",
    "       xlim=xlim,\n",
    "       ylim=ylim\n",
    "      )\n",
    "\n",
    "ticks  = [4863,4960,5007,5197,5200,5877,6302,6366,6550,6565,6585,6718,6733] \n",
    "labels = [r'H$\\beta$','','[OIII]','[NI]','','HeI','[OI]','','',r'H$\\alpha$','','[SII]','']\n",
    "ax4 = ax1.twiny()\n",
    "ax4.set_xticks(ticks,minor=False)\n",
    "ax4.set_xticklabels(labels)\n",
    "ax4.set_xlim(xlim)\n",
    "    \n",
    "plt.subplots_adjust(hspace = .001)\n",
    "filename = basedir / 'reports' / 'cluster' / 'spectra_nebulae.pdf'\n",
    "plt.savefig(filename,bbox_inches='tight',dpi=600)"
   ]
  },
  {
   "cell_type": "markdown",
   "metadata": {},
   "source": [
    "## Spectra of one pixel"
   ]
  },
  {
   "cell_type": "code",
   "execution_count": null,
   "metadata": {},
   "outputs": [],
   "source": [
    "def cutout_spectrum(position,img,data_cube,wcs,title=None):\n",
    "    '''Plot one spectra of a MUSE data cube with Image\n",
    "    \n",
    "    Parameters\n",
    "    ----------\n",
    "    \n",
    "    position :\n",
    "        Tuple of coordinates or SkyCoord object. Object at\n",
    "        which the spectra is extracted.\n",
    "        \n",
    "    img : \n",
    "        2D Image that is displayed to illustrate the position\n",
    "        of the spectra\n",
    "        \n",
    "    data_cube :\n",
    "        3D data cube (spectra is first dimension) with the \n",
    "        same shape as img\n",
    "        \n",
    "    wcs : \n",
    "        World coordinate information for img and data_cube\n",
    "        \n",
    "    title : str (optional)\n",
    "        Set title for plot\n",
    "    '''\n",
    "    \n",
    "    \n",
    "    if isinstance(position,SkyCoord):\n",
    "        x,y = position.to_pixel(wcs=wcs)\n",
    "    else:\n",
    "        x,y = position\n",
    "        \n",
    "    # plot it\n",
    "    fig = plt.figure(figsize=(two_column,two_column/3)) \n",
    "    gs = mpl.gridspec.GridSpec(1, 2, width_ratios=[1,2]) \n",
    "    ax1 = fig.add_subplot(gs[0],projection=galaxy.wcs)\n",
    "\n",
    "    norm = simple_norm(img,'linear',clip=False,percent=95)\n",
    "    ax1.imshow(img, origin='lower',norm=norm,cmap='Greys')\n",
    "    \n",
    "    spectra = np.sum(data_cube[...,int(x)-1:int(x)+1,int(y)-1:int(y)+1],axis=(1,2))    \n",
    "    # the wavelenght coverage of MUSE\n",
    "    wavelength = np.linspace(4749.88,9349.88,data_cube.shape[0]) \n",
    "    \n",
    "    ax2 = fig.add_subplot(gs[1])\n",
    "    ax2.plot(wavelength,spectra,color=tab10[0])\n",
    "    \n",
    "    ax1.set(title=title,\n",
    "            xlabel='R.A. (J2000)',\n",
    "            ylabel='Dec. (J2000)')\n",
    "    \n",
    "    ax2.set(title='Spectrum',\n",
    "            yscale='log',\n",
    "            xlim=[4750,7000],\n",
    "            #ylim=[1e2,7e2],\n",
    "            xlabel=r'$\\lambda$\\,/\\,\\AA',\n",
    "            ylabel=r'erg\\,/\\,s\\,/\\,\\AA')\n",
    "    \n",
    "    ax2.yaxis.tick_right()\n",
    "    ax2.yaxis.set_ticks_position('both')\n",
    "    ax2.yaxis.set_label_position(\"right\")\n",
    "    \n",
    "    \n",
    "    ax1.add_patch(mpl.patches.Rectangle((x,y),1,1,linewidth=0.3,edgecolor='k',facecolor='none'))\n",
    "    plt.subplots_adjust(wspace=0.1)\n",
    "    \n",
    "    x = int(x)\n",
    "    y = int(y)\n",
    "    con = mpl.patches.ConnectionPatch(xyA=((x+1)/galaxy.shape[1],(y+1)/galaxy.shape[0]), xyB=(0,1), \n",
    "                                      coordsA=\"axes fraction\", coordsB=\"axes fraction\",\n",
    "                                      axesA=ax1, axesB=ax2, color=\"black\",linewidth=0.3)\n",
    "    ax2.add_artist(con)\n",
    "    con = mpl.patches.ConnectionPatch(xyA=((x+1)/galaxy.shape[1],(y)/galaxy.shape[0]), xyB=(0,0), \n",
    "                                      coordsA=\"axes fraction\", coordsB=\"axes fraction\",\n",
    "                                      axesA=ax1, axesB=ax2, color=\"black\",linewidth=0.3)\n",
    "    ax2.add_artist(con)\n",
    "    \n",
    "    filename = basedir / 'reports' / 'cluster' / 'cutout_spectrum.pdf'\n",
    "    plt.savefig(filename,bbox_inches='tight',dpi=800)\n",
    "    return 0\n",
    "   \n",
    "# position can be SkyCoord or (x,y) tuple\n",
    "position = clusters[clusters['ID']==167]['SkyCoord']\n",
    "position = pn[['x','y']][1]\n",
    "\n",
    "cutout_spectrum(position,galaxy.whitelight,data_cube,galaxy.wcs,galaxy.name)\n"
   ]
  },
  {
   "cell_type": "markdown",
   "metadata": {},
   "source": [
    "### Create RGB image"
   ]
  },
  {
   "cell_type": "code",
   "execution_count": null,
   "metadata": {},
   "outputs": [],
   "source": [
    "# data_cube must be loaded already\n",
    "\n",
    "WAVELMIN=  474.98759765625       \n",
    "WAVELMAX=  934.98759765625 \n",
    "\n",
    "wlen = np.linspace(WAVELMIN,WAVELMAX,data_cube.shape[0])\n",
    "\n",
    "filters = [(480,550),\n",
    "          (550,650),\n",
    "          (650,750)]\n",
    "\n",
    "slice1 = slice(0,None)\n",
    "slice2 = slice(0,None)\n",
    "subcube = data_cube[:,slice1,slice2]"
   ]
  },
  {
   "cell_type": "code",
   "execution_count": null,
   "metadata": {},
   "outputs": [],
   "source": [
    "# sum of subcube around each range defined in filters\n",
    "\n",
    "w1,w2 = filters[2]\n",
    "r = np.sum(subcube[(wlen>w1) & (wlen<w2),...],axis=0)\n",
    "print('finished r')\n",
    "w1,w2 = filters[1]\n",
    "g = np.sum(subcube[(wlen>w1) & (wlen<w2),...],axis=0)\n",
    "print('finished g')\n",
    "w1,w2 = filters[0]\n",
    "b = np.sum(subcube[(wlen>w1) & (wlen<w2),...],axis=0)\n",
    "print('finished b')"
   ]
  },
  {
   "cell_type": "code",
   "execution_count": null,
   "metadata": {},
   "outputs": [],
   "source": [
    "from pymuse.plot.plot import create_RGB\n",
    "\n",
    "single_column = 3.321 # in inch\n",
    "\n",
    "rgb = create_RGB(r,g,b,percentile=95)\n",
    "\n",
    "fig = plt.figure(figsize=(single_column,single_column))\n",
    "ax  = fig.add_subplot(111,projection=galaxy.wcs) \n",
    "ax.imshow(rgb)\n",
    "\n",
    "ax.set(xlabel='R.A. (J2000)',\n",
    "       ylabel='Dec. (J2000)')\n",
    "\n",
    "plt.show()\n",
    "#plt.savefig(f'{galaxy.name}_RGB.pdf',dpi=800)"
   ]
  },
  {
   "cell_type": "code",
   "execution_count": null,
   "metadata": {},
   "outputs": [],
   "source": [
    "filepath = data_raw / 'MUSE' / 'MOSAIC' / name\n",
    "\n",
    "def color_image(lst):\n",
    "    '''Create a RGB image from a list of files\n",
    "    \n",
    "    Parameters\n",
    "    ----------\n",
    "    \n",
    "    lst : list of Path objects\n",
    "    '''\n",
    "    \n",
    "    g_filter,header = fits.getdata(lst[0],header=True)\n",
    "    i_filter = fits.getdata(lst[1])\n",
    "    r_filter = fits.getdata(lst[2])\n",
    "    \n",
    "    rgb = create_RGB(g_filter,r_filter,i_filter,percentile=[97,98,97],weights=[1,1,1])\n",
    "\n",
    "    fig = plt.figure(figsize=(single_column,single_column))\n",
    "    ax  = fig.add_subplot(111,projection=WCS(header)) \n",
    "    ax.imshow(rgb)\n",
    "    ax.set(\n",
    "            xlabel='R.A. (J2000)',\n",
    "            ylabel='Dec. (J2000)')\n",
    "\n",
    "    plt.imshow(rgb)\n",
    "    plt.show()\n",
    "    #plt.savefig(f'{galaxy.name}_RGB.pdf',dpi=800)\n",
    "    \n",
    "\n",
    "color_image([\n",
    "    filepath / f'{galaxy.name}_IMAGE_FOV_SDSS_i.fits',\n",
    "    filepath / f'{galaxy.name}_IMAGE_FOV_SDSS_r.fits',\n",
    "    filepath / f'{galaxy.name}_IMAGE_FOV_SDSS_g.fits'\n",
    "            ])"
   ]
  },
  {
   "cell_type": "markdown",
   "metadata": {},
   "source": [
    "### RGB for all objects"
   ]
  },
  {
   "cell_type": "code",
   "execution_count": null,
   "metadata": {},
   "outputs": [],
   "source": [
    "from pymuse.plot.plot import create_RGB\n",
    "\n",
    "filepath = data_ext / 'MUSE' / 'MOSAIC'\n",
    "\n",
    "\n",
    "galaxies = [x.stem for x in data_raw.iterdir() if x.is_dir()]\n",
    "galaxies = galaxies[:12]\n",
    "ncols = 3\n",
    "nrows = len(galaxies) // ncols\n",
    "\n",
    "\n",
    "print(f'axes={len(galaxies)}, rows={nrows}, cols={ncols}')\n",
    "if len(galaxies) % ncols != 0:\n",
    "    nrows += 1\n",
    "\n",
    "\n",
    "fig = plt.figure(figsize=(two_column,two_column*nrows/ncols))\n",
    "\n",
    "for i, name in enumerate(galaxies):\n",
    "\n",
    "    g_filter,header = fits.getdata(filepath / name / f'{name}_IMAGE_FOV_SDSS_g.fits',header=True)\n",
    "    i_filter = fits.getdata(filepath / name / f'{name}_IMAGE_FOV_SDSS_i.fits')\n",
    "    r_filter = fits.getdata( filepath / name / f'{name}_IMAGE_FOV_SDSS_r.fits',)\n",
    "    \n",
    "    rgb = create_RGB(g_filter,r_filter,i_filter,percentile=[97,98,97],weights=[1,1,1])    \n",
    "    \n",
    "    row,col = (i//nrows)+1,(i%nrows)+1\n",
    "    ax = fig.add_subplot(nrows,ncols,i+1)#,projection=WCS(header))\n",
    "    ax.imshow(rgb,origin='lower')\n",
    "    ax.set_title(name)\n",
    "    \n",
    "    #ax.coords[0].set_ticklabel_visible(False)\n",
    "    #ax.coords[1].set_ticklabel_visible(False)\n",
    "    #ax.coords[0].set_ticks_visible(False)\n",
    "    #ax.coords[1].set_ticks_visible(False)\n",
    "    ax.axis('off')\n",
    "    \n",
    "    '''\n",
    "    if row ==nrows:\n",
    "        ax.set_xlabel('R.A. (J2000)')\n",
    "    if col == 1:\n",
    "        ax.set_ylabel('Dec. (J2000)')\n",
    "    '''\n",
    "    \n",
    "plt.savefig(basedir / 'reports' / 'all_objects_rgb.pdf' ,bbox_inches='tight',dpi=600)\n",
    "plt.show()"
   ]
  },
  {
   "cell_type": "markdown",
   "metadata": {},
   "source": [
    "## Look at overluminous sources"
   ]
  },
  {
   "cell_type": "code",
   "execution_count": null,
   "metadata": {},
   "outputs": [],
   "source": [
    "from pymuse.plot.spectrum import cutout_spectrum, spectrum_and_rgb\n",
    "\n",
    "pn_candidates = ascii.read(basedir / 'data' / 'catalogues' / f'{name}_PN_candidates.txt',format='fixed_width_two_line',delimiter_pad=' ',position_char='=')\n",
    "pn_candidates['SkyCoord'] = SkyCoord(pn_candidates['R.A.'],pn_candidates['Dec.'])\n",
    "\n",
    "print(f'{len(pn_candidates)} objects in catalogue')"
   ]
  },
  {
   "cell_type": "code",
   "execution_count": null,
   "metadata": {},
   "outputs": [],
   "source": [
    "pn = pn_candidates[6]\n",
    "print(f'ID: {pn[\"ID\"]}, mOIII={pn[\"mOIII\"]}')\n",
    "position = pn['SkyCoord']\n",
    "spectra,wavelength = spectrum_and_rgb(position,galaxy,data_cube,galaxy.wcs,aperture_size=1.5)"
   ]
  },
  {
   "cell_type": "code",
   "execution_count": null,
   "metadata": {},
   "outputs": [],
   "source": [
    "spectra,wavelength = cutout_spectrum(pn_candidates['SkyCoord'][0],galaxy.OIII5006,data_cube,galaxy.wcs)"
   ]
  },
  {
   "cell_type": "code",
   "execution_count": null,
   "metadata": {},
   "outputs": [],
   "source": [
    "spectra,wavelength = cutout_spectrum(pn_candidates['SkyCoord'][1],galaxy.OIII5006,data_cube,galaxy.wcs)"
   ]
  },
  {
   "cell_type": "code",
   "execution_count": null,
   "metadata": {},
   "outputs": [],
   "source": [
    "# NGC1566\n",
    "spectra,wavelength = cutout_spectrum(pn_candidates['SkyCoord'][0],galaxy.OIII5006,data_cube,galaxy.wcs)"
   ]
  },
  {
   "cell_type": "markdown",
   "metadata": {},
   "source": [
    "## Starburst99\n"
   ]
  },
  {
   "cell_type": "code",
   "execution_count": null,
   "metadata": {},
   "outputs": [],
   "source": [
    "try:\n",
    "    from starburst99.io import Cluster  \n",
    "except ImportError:\n",
    "    print('Package `starburst99` not installed')\n",
    "    \n",
    "star_path = Path('../../Starburst99/data')\n",
    "noutput = 'cluster'\n",
    "\n",
    "cluster1e4 = Cluster(star_path / 'GENEVA_v40_0.014_1e4Msun' / noutput)\n",
    "cluster1e6 = Cluster(star_path / 'GENEVA_v40_0.014_1e6Msun' / noutput)\n",
    "cluster_new = cluster1e4.scale(1e6)"
   ]
  },
  {
   "cell_type": "markdown",
   "metadata": {},
   "source": [
    "### Compare results of the scaling"
   ]
  },
  {
   "cell_type": "code",
   "execution_count": null,
   "metadata": {},
   "outputs": [],
   "source": [
    "fig = plt.figure(figsize=(8,6))\n",
    "ax = fig.add_subplot()\n",
    "\n",
    "tablename = 'yields'\n",
    "\n",
    "tbl1 = getattr(cluster1e4,tablename)\n",
    "tbl2 = getattr(cluster1e6,tablename)\n",
    "tbl3 = getattr(cluster_new,tablename)\n",
    "\n",
    "for col in tbl1.columns[1:]:\n",
    "    color = next(ax._get_lines.prop_cycler)['color']\n",
    "    \n",
    "    ax.plot(tbl1['Time'],tbl1[col],color=color,ls='--',label=col.replace('_',''))\n",
    "    ax.plot(tbl2['Time'],tbl2[col],color=color,ls=':',lw=2)\n",
    "    ax.plot(tbl3['Time'],tbl3[col],color=color,lw=0.5)\n",
    "\n",
    "print('-- : 1e4, .. : 1e6, __ : scaled')\n",
    "#ax.set_yscale('log')\n",
    "plt.legend()\n",
    "plt.show()"
   ]
  },
  {
   "cell_type": "code",
   "execution_count": null,
   "metadata": {},
   "outputs": [],
   "source": [
    "fig = plt.figure(figsize=(8,6))\n",
    "ax = fig.add_subplot()\n",
    "\n",
    "tablename = 'yields'\n",
    "column = 'O'\n",
    "tbl1 = getattr(cluster1e4,tablename)\n",
    "tbl2 = getattr(cluster1e6,tablename)\n",
    "tbl3 = getattr(cluster_new,tablename)\n",
    "\n",
    "\n",
    "\n",
    "color = next(ax._get_lines.prop_cycler)['color']\n",
    "    \n",
    "ax.plot(tbl1['Time'],tbl1[column],color=color,ls='--',label='1e4')\n",
    "ax.plot(tbl2['Time'],tbl2[column],color=color,ls=':',lw=2,label='1e6')\n",
    "ax.plot(tbl3['Time'],tbl3[column],color=color,lw=0.5,label='scaled')\n",
    "\n",
    "plt.legend()\n",
    "ax.set_yscale('log')\n",
    "#plt.legend()\n",
    "plt.show()"
   ]
  },
  {
   "cell_type": "markdown",
   "metadata": {},
   "source": [
    "## Investigate scaling relations"
   ]
  },
  {
   "cell_type": "code",
   "execution_count": null,
   "metadata": {},
   "outputs": [],
   "source": [
    "catalogue = filter_table(nebulae,BPT_NII=0,BPT_SII=0,BPT_OI=0,flag_star=0)\n",
    "catalogue = catalogue[catalogue['SIII6312_FLUX']>0]"
   ]
  },
  {
   "cell_type": "code",
   "execution_count": null,
   "metadata": {},
   "outputs": [],
   "source": [
    "tmp = catalogue[catalogue]\n",
    "\n",
    "plt.scatter(catalogue['SIII6312_FLUX'] / catalogue['SII6716_FLUX'],catalogue['Delta_met'])\n",
    "\n",
    "plt.xscale('log')"
   ]
  },
  {
   "cell_type": "code",
   "execution_count": null,
   "metadata": {},
   "outputs": [],
   "source": [
    "import pandas as pd"
   ]
  }
 ],
 "metadata": {
  "kernelspec": {
   "display_name": "Python 3",
   "language": "python",
   "name": "python3"
  },
  "language_info": {
   "codemirror_mode": {
    "name": "ipython",
    "version": 3
   },
   "file_extension": ".py",
   "mimetype": "text/x-python",
   "name": "python",
   "nbconvert_exporter": "python",
   "pygments_lexer": "ipython3",
   "version": "3.7.7"
  },
  "toc": {
   "base_numbering": 1,
   "nav_menu": {},
   "number_sections": true,
   "sideBar": true,
   "skip_h1_title": false,
   "title_cell": "Table of Contents",
   "title_sidebar": "Contents",
   "toc_cell": false,
   "toc_position": {
    "height": "calc(100% - 180px)",
    "left": "10px",
    "top": "150px",
    "width": "173.1px"
   },
   "toc_section_display": true,
   "toc_window_display": true
  }
 },
 "nbformat": 4,
 "nbformat_minor": 2
}
