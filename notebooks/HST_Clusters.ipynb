{
 "cells": [
  {
   "cell_type": "markdown",
   "metadata": {},
   "source": [
    "# HST Clusters"
   ]
  },
  {
   "cell_type": "code",
   "execution_count": null,
   "metadata": {},
   "outputs": [],
   "source": [
    "# reload modules after they have been modified\n",
    "%load_ext autoreload\n",
    "%autoreload 2\n",
    "\n",
    "# some basic packages\n",
    "import os                 # filesystem related stuff\n",
    "import json\n",
    "from pathlib import Path  # use instead of os.path and glob\n",
    "import sys                # mostly replaced by pathlib\n",
    "\n",
    "import errno      # more detailed error messages\n",
    "import warnings   # handles warnings\n",
    "import logging    # use logging instead of print\n",
    "\n",
    "from collections import OrderedDict  \n",
    "\n",
    "# packages for scientific computing\n",
    "import numpy as np\n",
    "import scipy as sp\n",
    "\n",
    "# packages for creating plots and figures\n",
    "import matplotlib as mpl\n",
    "import matplotlib.pyplot as plt\n",
    "\n",
    "%matplotlib inline\n",
    "%config InlineBackend.figure_format = 'retina'\n",
    "\n",
    "# special functions for astronomy \n",
    "from astropy.table import Table  # useful datastructure\n",
    "from astropy.table import vstack # combine multiple tables\n",
    "\n",
    "from astropy.io import fits      # open fits files\n",
    "from astropy.io import ascii     # handle normal files\n",
    "\n",
    "from astropy.wcs import WCS               # handle coordinates\n",
    "from astropy.coordinates import Angle     # work with angles (e.g. 1°2′3″)\n",
    "from astropy.coordinates import SkyCoord  # convert pixel to sky coordinates\n",
    "from astropy.visualization import simple_norm\n",
    "\n",
    "from astropy.stats import sigma_clipped_stats  # calcualte statistics of images\n",
    "\n",
    "import astropy.units as u        # handle units\n",
    "\n",
    "from photutils import CircularAperture\n",
    "\n",
    "from pymuse.constants import tab10, single_column, two_column\n",
    "plt.style.use('TeX.mplstyle')"
   ]
  },
  {
   "cell_type": "code",
   "execution_count": null,
   "metadata": {},
   "outputs": [],
   "source": [
    "logging.basicConfig(stream=sys.stdout,\n",
    "                    #format='(levelname)s %(name)s %(message)s',\n",
    "                    datefmt='%H:%M:%S',\n",
    "                    level=logging.INFO)\n",
    "\n",
    "logger = logging.getLogger(__name__)"
   ]
  },
  {
   "cell_type": "markdown",
   "metadata": {},
   "source": [
    "## Read in Data\n",
    "\n",
    "### MUSE Data"
   ]
  },
  {
   "cell_type": "code",
   "execution_count": null,
   "metadata": {},
   "outputs": [],
   "source": [
    "from pymuse.io import ReadLineMaps\n",
    "\n",
    "name = 'NGC3351'\n",
    "\n",
    "# first we need to specify the path to the raw data\n",
    "data_raw = Path('d:\\downloads\\MUSEDAP')\n",
    "basedir = Path('..')\n",
    "\n",
    "# read in the data we will be working with and print some information\n",
    "galaxy = ReadLineMaps(data_raw / name)\n",
    "\n"
   ]
  },
  {
   "cell_type": "markdown",
   "metadata": {},
   "source": [
    "### Cluster Catalogue"
   ]
  },
  {
   "cell_type": "code",
   "execution_count": null,
   "metadata": {},
   "outputs": [],
   "source": [
    "with fits.open(basedir / 'data' / 'external' / 'nebula_catalogue_FS_v01.fits') as hdul:\n",
    "    nebulae = Table(hdul[1].data)\n",
    "\n",
    "nebulae = nebulae[nebulae['gal_name']==name]    \n",
    "nebulae.rename_columns(['cen_x','cen_y'],['x','y'])"
   ]
  },
  {
   "cell_type": "markdown",
   "metadata": {},
   "source": [
    "### HST Data"
   ]
  },
  {
   "cell_type": "code",
   "execution_count": null,
   "metadata": {},
   "outputs": [],
   "source": [
    "extern = Path('g:\\Archive\\HST')\n",
    "\n",
    "filename = extern / name / 'clusters_photometry_v0_9' / f'{name}_phangshst_cluster_allcandidates_v0_9.csv'\n",
    "\n",
    "if filename.is_file():\n",
    "    clusters = ascii.read(filename)\n",
    "else:\n",
    "    raise FileExistsError('no catalogue for ' + name)\n",
    "    \n",
    "clusters['SkyCoord'] = SkyCoord(clusters['PHANGS_RA']*u.degree,clusters['PHANGS_DEC']*u.degree)\n",
    "x,y= clusters['SkyCoord'].to_pixel(wcs=galaxy.wcs)\n",
    "clusters['x'] = x\n",
    "clusters['y'] = y\n",
    "clusters.rename_columns(['PHANGS_MASS_MINCHISQ','PHANGS_AGE_MINCHISQ','PHANGS_EBV_MINCHISQ'],['mass','age','Ebv'])\n",
    "clusters = clusters['x','y','mass','age','Ebv']\n",
    "clusters['in_frame'] = False\n",
    "\n",
    "y_dim,x_dim = galaxy.shape\n",
    "for row in clusters:\n",
    "    if 0<=int(row['x'])<x_dim and 0<=int(row['y'])<y_dim:\n",
    "        if not np.isnan(galaxy.PSF[int(row['y']),int(row['y'])]):\n",
    "            row['in_frame'] = True\n",
    "            \n",
    "clusters = clusters[clusters['in_frame'] & (clusters['mass']>1e3)]"
   ]
  },
  {
   "cell_type": "code",
   "execution_count": null,
   "metadata": {},
   "outputs": [],
   "source": [
    "filename = extern / name / 'white_light_12nov2019' / f'{name}_white_24rgb.fits'\n",
    "\n",
    "with fits.open(filename) as hdul:\n",
    "    whitelight = hdul[0].data\n",
    "    whitelight_header = hdul[0]"
   ]
  },
  {
   "cell_type": "markdown",
   "metadata": {},
   "source": [
    "## Combine data"
   ]
  },
  {
   "cell_type": "code",
   "execution_count": null,
   "metadata": {},
   "outputs": [],
   "source": [
    "from pymuse.plot.plot import create_RGB\n",
    "\n",
    "HII = nebulae[nebulae['HII_region_class']==1]\n",
    "\n",
    "fig = plt.figure(figsize=(8,8))\n",
    "ax  = fig.add_subplot(projection=galaxy.wcs)\n",
    "\n",
    "norm = simple_norm(galaxy.OIII5006_DAP,clip=False,percent=99)\n",
    "#img = create_RGB(galaxy.HA6562,galaxy.OIII5006_DAP,galaxy.SII6716,weights=[0.6,1,0.6],percentile=[95,99.,95])\n",
    "ax.imshow(galaxy.OIII5006_DAP,norm=norm,cmap=plt.cm.Blues)\n",
    "#ax.imshow(img)\n",
    "\n",
    "ax.scatter(clusters['x'],clusters['y'],marker='o',s=1,lw=0.3,edgecolor='orange',facecolors='none')\n",
    "ax.scatter(HII['x'],HII['y'],marker='o',s=1,lw=0.3,edgecolor='red',facecolors='none')\n",
    "\n",
    "print(f'{len(HII)} HII regions\\n{len(clusters)} Clusters')\n",
    "\n",
    "plt.savefig('clusters+HII.pdf',dpi=500)"
   ]
  },
  {
   "cell_type": "code",
   "execution_count": null,
   "metadata": {},
   "outputs": [],
   "source": [
    "#img = create_RGB(galaxy.HA6562,galaxy.OIII5006_DAP,galaxy.SII6716,weights=[0.6,1,0.6],percentile=[95,99.,95])\n",
    "\n",
    "fig = plt.figure(figsize=(8,8))\n",
    "ax  = fig.add_subplot(projection=galaxy.wcs)\n",
    "\n",
    "img = galaxy.OIII5006\n",
    "norm = simple_norm(img,'linear',clip=False,percent=99)\n",
    "ax.imshow(img,norm=norm,cmap=plt.cm.Greens)\n",
    "ax.scatter(x,y,marker='o',s=1,lw=0.5,edgecolor='orange',facecolors='none')\n",
    "\n",
    "PN = tbl[c_PN & c_limit]\n",
    "ax.scatter(PN['x'],PN['y'],marker='o',s=3,lw=0.3,edgecolor='tab:red',facecolors='none')\n",
    "\n",
    "plt.savefig('clusters.pdf',dpi=1000)\n",
    "#norm = simple_norm(galaxy.OIII5006_DAP,clip=False,max_percent=95)\n"
   ]
  }
 ],
 "metadata": {
  "kernelspec": {
   "display_name": "Python 3",
   "language": "python",
   "name": "python3"
  },
  "language_info": {
   "codemirror_mode": {
    "name": "ipython",
    "version": 3
   },
   "file_extension": ".py",
   "mimetype": "text/x-python",
   "name": "python",
   "nbconvert_exporter": "python",
   "pygments_lexer": "ipython3",
   "version": "3.7.3"
  },
  "toc": {
   "base_numbering": 1,
   "nav_menu": {},
   "number_sections": true,
   "sideBar": true,
   "skip_h1_title": false,
   "title_cell": "Table of Contents",
   "title_sidebar": "Contents",
   "toc_cell": false,
   "toc_position": {},
   "toc_section_display": true,
   "toc_window_display": false
  }
 },
 "nbformat": 4,
 "nbformat_minor": 2
}
