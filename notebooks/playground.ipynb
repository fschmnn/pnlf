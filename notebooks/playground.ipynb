{
 "cells": [
  {
   "cell_type": "markdown",
   "metadata": {},
   "source": [
    "Query NASA/Ads from python\n",
    "\n",
    "https://github.com/adsabs/adsabs-dev-api/blob/master/README.md"
   ]
  },
  {
   "cell_type": "code",
   "execution_count": 1,
   "metadata": {},
   "outputs": [],
   "source": [
    "from astroquery.ned import Ned\n",
    "from astroquery.nasa_ads import ADS\n",
    "ADS.TOKEN = open('ADS_DEV_KEY','r').read()\n",
    "token = open('ADS_DEV_KEY','r').read()\n",
    "import requests\n",
    "import urllib\n",
    "import json"
   ]
  },
  {
   "cell_type": "code",
   "execution_count": 3,
   "metadata": {},
   "outputs": [
    {
     "data": {
      "text/html": [
       "<i>Table length=60</i>\n",
       "<table id=\"table2640699130632\" class=\"table-striped table-bordered table-condensed\">\n",
       "<thead><tr><th>No.</th><th>RA</th><th>DEC</th><th>Frequency</th><th>Uncertainty Ellipse Semi-Major Axis</th><th>Uncertainty Ellipse Semi-Minor Axis</th><th>Uncertainty Ellipse PA</th><th>Refcode</th><th>Published Name</th><th>Published RA</th><th>Published Dec</th><th>Published RA Uncertainty</th><th>Published Dec Uncertainty</th><th>Published PA Uncertainty</th><th>Uncertainty Significance</th><th>Published Equinox</th><th>Published Epoch</th><th>NED Frequency</th><th>Published System Coordinate</th><th>Published Unit</th><th>Published Frame</th><th>Published Frequence Mode</th><th>Qualifiers</th></tr></thead>\n",
       "<thead><tr><th></th><th></th><th></th><th></th><th>arcsec</th><th>arcsec</th><th></th><th></th><th></th><th></th><th></th><th></th><th></th><th></th><th></th><th></th><th></th><th>Hz</th><th></th><th></th><th></th><th></th><th></th></tr></thead>\n",
       "<thead><tr><th>int32</th><th>object</th><th>object</th><th>object</th><th>float64</th><th>float64</th><th>object</th><th>object</th><th>object</th><th>object</th><th>object</th><th>object</th><th>object</th><th>object</th><th>object</th><th>object</th><th>object</th><th>float64</th><th>object</th><th>object</th><th>object</th><th>object</th><th>object</th></tr></thead>\n",
       "<tr><td>0</td><td>01h36m41.747s</td><td>+15d47m01.18s</td><td></td><td>0.32</td><td>0.32</td><td>0</td><td>2010ApJS..189...37E</td><td></td><td></td><td></td><td></td><td></td><td></td><td></td><td></td><td></td><td>--</td><td></td><td></td><td></td><td></td><td></td></tr>\n",
       "<tr><td>1</td><td>01h36m41.8000s</td><td>+15d47m01.000s</td><td></td><td>--</td><td>--</td><td></td><td>2014ApJS..212...18B</td><td>NGC 0628</td><td>013641.8</td><td>+154701.</td><td></td><td></td><td></td><td>Uncertainty in arcseconds</td><td>J2000.0</td><td></td><td>--</td><td>Equatorial</td><td>Sexagesimal</td><td></td><td></td><td>Uncertain origin</td></tr>\n",
       "<tr><td>2</td><td>01h36m41.8000s</td><td>+15d47m17.000s</td><td></td><td>--</td><td>--</td><td></td><td>2014MNRAS.439.2542G</td><td>NGC 0628</td><td>013641.8</td><td>+154717.</td><td></td><td></td><td></td><td>Uncertainty in arcseconds</td><td>J2000.0</td><td></td><td>--</td><td>Equatorial</td><td>Sexagesimal</td><td></td><td></td><td>Uncertain origin</td></tr>\n",
       "<tr><td>3</td><td>01h36m41.7600s</td><td>+15d47m00.000s</td><td></td><td>--</td><td>--</td><td></td><td>2014MNRAS.441.3570G</td><td>Messier 074</td><td>013641.76</td><td>+154700.0</td><td></td><td></td><td></td><td>Uncertainty in arcseconds</td><td>J2000.0</td><td></td><td>--</td><td>Equatorial</td><td>Sexagesimal</td><td></td><td></td><td>Uncertain origin</td></tr>\n",
       "<tr><td>4</td><td>01h36m41.7000s</td><td>+15d47m01.000s</td><td></td><td>--</td><td>--</td><td></td><td>2014PASJ...66...66T</td><td>MESSIER 074</td><td>013641.7</td><td>+154701.00</td><td></td><td></td><td></td><td>Uncertainty in arcseconds</td><td>J2000.0</td><td></td><td>--</td><td>Equatorial</td><td>Sexagesimal</td><td></td><td></td><td>Uncertain origin</td></tr>\n",
       "<tr><td>5</td><td>01h36m41.7600s</td><td>+15d47m00.384s</td><td></td><td>--</td><td>--</td><td></td><td>2011MNRAS.412.1419L</td><td></td><td>013641.7600</td><td>+154700.384</td><td></td><td></td><td></td><td></td><td>J2000.0</td><td></td><td>--</td><td>Equatorial</td><td>Sexagesimal</td><td></td><td></td><td>Uncertain origin</td></tr>\n",
       "<tr><td>6</td><td>01h36m41.8099s</td><td>+15d47m00.301s</td><td></td><td>--</td><td>--</td><td></td><td>2014MNRAS.442.3711G</td><td></td><td>013641.81</td><td>+154700.3</td><td></td><td></td><td></td><td></td><td>J2000.0</td><td></td><td>--</td><td>Equatorial</td><td>Sexagesimal</td><td></td><td></td><td>Uncertain origin</td></tr>\n",
       "<tr><td>7</td><td>01h36m41.7000s</td><td>+15d47m01.000s</td><td></td><td>--</td><td>--</td><td></td><td>2014MNRAS.443..186H</td><td></td><td>013641.7</td><td>+154701.</td><td></td><td></td><td></td><td></td><td>J2000.0</td><td></td><td>--</td><td>Equatorial</td><td>Sexagesimal</td><td></td><td></td><td>Uncertain origin</td></tr>\n",
       "<tr><td>8</td><td>01h36m41.7499s</td><td>+15d47m01.201s</td><td></td><td>--</td><td>--</td><td></td><td>2014MNRAS.445..881C</td><td></td><td>013641.75</td><td>+154701.2</td><td></td><td></td><td></td><td></td><td>J2000.0</td><td></td><td>--</td><td>Equatorial</td><td>Sexagesimal</td><td></td><td></td><td>Uncertain origin</td></tr>\n",
       "<tr><td>...</td><td>...</td><td>...</td><td>...</td><td>...</td><td>...</td><td>...</td><td>...</td><td>...</td><td>...</td><td>...</td><td>...</td><td>...</td><td>...</td><td>...</td><td>...</td><td>...</td><td>...</td><td>...</td><td>...</td><td>...</td><td>...</td><td>...</td></tr>\n",
       "<tr><td>50</td><td>01h36m41.8s</td><td>+15d47m00s</td><td></td><td>15.0</td><td>15.0</td><td>0</td><td>2013MNRAS.428..625S</td><td>NGC 0628</td><td>013641.8</td><td>+154700.</td><td>15.</td><td>15.</td><td></td><td>Uncertainty in arcseconds</td><td>J2000.0</td><td></td><td>--</td><td>Equatorial</td><td>Sexagesimal</td><td></td><td></td><td>Uncertain origin</td></tr>\n",
       "<tr><td>51</td><td>01h36m41.8s</td><td>+15d47m00s</td><td></td><td>15.0</td><td>15.0</td><td>0</td><td>2013MNRAS.428.3355H</td><td>NGC 0628</td><td>013641.77</td><td>+154700.5</td><td>15.</td><td>15.</td><td></td><td>Uncertainty in arcseconds</td><td>J2000.0</td><td></td><td>--</td><td>Equatorial</td><td>Sexagesimal</td><td></td><td></td><td>Uncertain origin</td></tr>\n",
       "<tr><td>52</td><td>01h36m42.0s</td><td>+15d47m01s</td><td></td><td>15.0</td><td>15.0</td><td>0</td><td>2013MNRAS.432.3097H</td><td>NGC 0628</td><td>013642.</td><td>+154701.</td><td>15.</td><td>15.</td><td></td><td>Uncertainty in arcseconds</td><td>J2000.0</td><td></td><td>--</td><td>Equatorial</td><td>Sexagesimal</td><td></td><td></td><td>Uncertain origin</td></tr>\n",
       "<tr><td>53</td><td>01h36m41.7s</td><td>+15d47m01s</td><td></td><td>15.0</td><td>15.0</td><td>0</td><td>2014AJ....147..131P</td><td>NGC 0628</td><td>013641.7470</td><td>+154701.179</td><td>15.</td><td>15.</td><td></td><td>Uncertainty in arcseconds</td><td>J2000.0</td><td></td><td>--</td><td>Equatorial</td><td>Sexagesimal</td><td></td><td></td><td>Uncertain origin</td></tr>\n",
       "<tr><td>54</td><td>01h36m41.7s</td><td>+15d46m59s</td><td></td><td>15.0</td><td>15.0</td><td>0</td><td>2011MNRAS.415..753S</td><td>NGC 0628</td><td>013641.70</td><td>+154659.4</td><td>15.</td><td>15.</td><td></td><td>Uncertainty in arcseconds</td><td>J2000.0</td><td></td><td>--</td><td>Equatorial</td><td>Sexagesimal</td><td></td><td></td><td>Uncertain origin</td></tr>\n",
       "<tr><td>55</td><td>01h36m41.7s</td><td>+15d47m01s</td><td></td><td>15.0</td><td>15.0</td><td>0</td><td>2012A&amp;A...546A...2S</td><td>NGC 0628</td><td>013641.7</td><td>+154701.0</td><td>15.</td><td>15.</td><td></td><td>Uncertainty in arcseconds</td><td>J2000.0</td><td></td><td>--</td><td>Equatorial</td><td>Sexagesimal</td><td></td><td></td><td>Uncertain origin</td></tr>\n",
       "<tr><td>56</td><td>01h36m44.4s</td><td>+15d47m32s</td><td></td><td>50.0</td><td>50.0</td><td>0</td><td>2018ApJ...861...49H</td><td></td><td>013644.4</td><td>+154732.</td><td>20</td><td>20</td><td></td><td>Uncertainty in arcseconds; 68% confidence level</td><td>J2000</td><td></td><td>--</td><td>Equatorial</td><td>Sexagesimal</td><td>FK5</td><td></td><td>Uncertain origin</td></tr>\n",
       "<tr><td>57</td><td>01h36m41.8s</td><td>+15d46m33s</td><td>4.85 GHz</td><td>50.0</td><td>50.0</td><td>0</td><td>1991ApJS...75....1B</td><td>87GB[BWE91] 0134+1531</td><td>013400.5</td><td>+153116.</td><td>50.</td><td>50.</td><td></td><td>Uncertainty in arcseconds; 95% confidence level</td><td>B1950.0</td><td></td><td>4850000000.0</td><td>Equatorial</td><td>Sexagesimal</td><td>FK4</td><td>Broad-band measurement</td><td>From reprocessed raw data</td></tr>\n",
       "<tr><td>58</td><td>01h36m41.3s</td><td>+15d46m36s</td><td>4.85 GHz</td><td>57.5</td><td>50.599998</td><td>0</td><td>1991ApJS...75.1011G</td><td>87GB 013400.0+153119</td><td>013400.0</td><td>+153119.</td><td>1.4</td><td>23.</td><td></td><td>Uncertainty in time seconds and arcseconds; rms uncertainty</td><td>B1950.0</td><td></td><td>4850000000.0</td><td>Equatorial</td><td>Sexagesimal</td><td>FK4</td><td>Broad-band measurement</td><td>From new, raw data</td></tr>\n",
       "<tr><td>59</td><td>01h36m41s</td><td>+15d47.3m</td><td>Photographic</td><td>150.0</td><td>150.0</td><td>0</td><td>1965CGCG5.C...0000Z</td><td>CGCG 0134.0+1532</td><td>013400.</td><td>+153200.</td><td>60.</td><td>60.</td><td></td><td>Uncertainty in arcseconds;   1 sigma</td><td>B1950.0</td><td></td><td>681000000000000.0</td><td>Equatorial</td><td>Sexagesimal</td><td>FK3</td><td>Broad-band measurement</td><td>From new, raw data</td></tr>\n",
       "</table>"
      ],
      "text/plain": [
       "<Table length=60>\n",
       " No.        RA       ... Published Frequence Mode         Qualifiers       \n",
       "                     ...                                                   \n",
       "int32     object     ...          object                    object         \n",
       "----- -------------- ... ------------------------ -------------------------\n",
       "    0  01h36m41.747s ...                                                   \n",
       "    1 01h36m41.8000s ...                                   Uncertain origin\n",
       "    2 01h36m41.8000s ...                                   Uncertain origin\n",
       "    3 01h36m41.7600s ...                                   Uncertain origin\n",
       "    4 01h36m41.7000s ...                                   Uncertain origin\n",
       "    5 01h36m41.7600s ...                                   Uncertain origin\n",
       "    6 01h36m41.8099s ...                                   Uncertain origin\n",
       "    7 01h36m41.7000s ...                                   Uncertain origin\n",
       "    8 01h36m41.7499s ...                                   Uncertain origin\n",
       "  ...            ... ...                      ...                       ...\n",
       "   50    01h36m41.8s ...                                   Uncertain origin\n",
       "   51    01h36m41.8s ...                                   Uncertain origin\n",
       "   52    01h36m42.0s ...                                   Uncertain origin\n",
       "   53    01h36m41.7s ...                                   Uncertain origin\n",
       "   54    01h36m41.7s ...                                   Uncertain origin\n",
       "   55    01h36m41.7s ...                                   Uncertain origin\n",
       "   56    01h36m44.4s ...                                   Uncertain origin\n",
       "   57    01h36m41.8s ...   Broad-band measurement From reprocessed raw data\n",
       "   58    01h36m41.3s ...   Broad-band measurement        From new, raw data\n",
       "   59      01h36m41s ...   Broad-band measurement        From new, raw data"
      ]
     },
     "execution_count": 3,
     "metadata": {},
     "output_type": "execute_result"
    }
   ],
   "source": [
    "result_table = Ned.get_table(\"NGC628\", table='positions')\n",
    "\n",
    "result_table"
   ]
  },
  {
   "cell_type": "code",
   "execution_count": 5,
   "metadata": {},
   "outputs": [
    {
     "ename": "TypeError",
     "evalue": "'NoneType' object is not callable",
     "output_type": "error",
     "traceback": [
      "\u001b[1;31m---------------------------------------------------------------------------\u001b[0m",
      "\u001b[1;31mTypeError\u001b[0m                                 Traceback (most recent call last)",
      "\u001b[1;32m<ipython-input-5-12da1b941ca6>\u001b[0m in \u001b[0;36m<module>\u001b[1;34m\u001b[0m\n\u001b[0;32m     10\u001b[0m \u001b[1;33m\u001b[0m\u001b[0m\n\u001b[0;32m     11\u001b[0m \u001b[1;33m\u001b[0m\u001b[0m\n\u001b[1;32m---> 12\u001b[1;33m \u001b[0madd\u001b[0m\u001b[1;33m(\u001b[0m\u001b[1;36m1\u001b[0m\u001b[1;33m,\u001b[0m\u001b[1;34m\"2\"\u001b[0m\u001b[1;33m)\u001b[0m\u001b[1;33m\u001b[0m\u001b[1;33m\u001b[0m\u001b[0m\n\u001b[0m",
      "\u001b[1;31mTypeError\u001b[0m: 'NoneType' object is not callable"
     ]
    }
   ],
   "source": [
    "def check_type(func):\n",
    "    def inner(x,y):\n",
    "        print()\n",
    "\n",
    "\n",
    "@check_type\n",
    "def add(x,y):\n",
    "    return x+y\n",
    "\n",
    "\n",
    "add(1,\"2\")\n"
   ]
  },
  {
   "cell_type": "code",
   "execution_count": 14,
   "metadata": {},
   "outputs": [],
   "source": [
    "query = 'id:2019ApJ...887...80K'\n",
    "query = urllib.parse.quote(query)\n",
    "\n",
    "start=0\n",
    "cache_rows=200\n",
    "sort='pubdate+desc'\n",
    "\n",
    "r = requests.get('https://api.adsabs.harvard.edu/v1/search/query?'\n",
    "              f'q={query}&start={start}&rows={cache_rows}'\n",
    "               f'&sort={sort}&fl=title,author,year,bibcode,pub',\n",
    "               headers={'Authorization': f'Bearer {token}'})\n",
    "    \n",
    "resp = r.json()  \n"
   ]
  },
  {
   "cell_type": "code",
   "execution_count": 66,
   "metadata": {},
   "outputs": [],
   "source": [
    "def get_bibtex(bibcodes):\n",
    "    '''retrive the bibtex entry from ads\n",
    "    \n",
    "    '''\n",
    "    \n",
    "    if not isinstance(bibcodes,list):\n",
    "        bibcodes = [bibcodes]\n",
    "        \n",
    "    bibcode = {\"bibcode\":bibcodes}\n",
    "    r = requests.post(\"https://api.adsabs.harvard.edu/v1/export/bibtex\", \\\n",
    "                     headers={\"Authorization\": \"Bearer \" + token, \"Content-type\": \"application/json\"}, \\\n",
    "                     data=json.dumps(bibcode))\n",
    "    \n",
    "    # in case of an error\n",
    "    if not r.ok:\n",
    "        if r.status_code == 401:\n",
    "            raise ValueError('Unauthorized access to ADS. Check that the ADS token is valid.')\n",
    "        try:\n",
    "            reason = r.json()['error']\n",
    "        except:\n",
    "            reason = r.text\n",
    "        raise ValueError(f'HTTP request failed ({r.status_code}): {reason}')\n",
    "    \n",
    "    return r.json()['export']\n",
    "\n",
    "bib = get_bibtex(['2019ApJ...887...80K'])"
   ]
  },
  {
   "cell_type": "code",
   "execution_count": 53,
   "metadata": {},
   "outputs": [
    {
     "data": {
      "text/plain": [
       "False"
      ]
     },
     "execution_count": 53,
     "metadata": {},
     "output_type": "execute_result"
    }
   ],
   "source": [
    "r = requests.get(\"https://api.adsabs.harvard.edu/v1/search/query?q='references(id:2019ApJ...887...80K)'\",\\\n",
    "                headers={'Authorization': 'Bearer ' + token})\n",
    "# the requests package returns an object; to get just the JSON API response, you have to specify this\n",
    "#print(r.json())\n",
    "r.ok"
   ]
  },
  {
   "cell_type": "markdown",
   "metadata": {},
   "source": [
    "https://github.com/andycasey/ads"
   ]
  },
  {
   "cell_type": "code",
   "execution_count": 54,
   "metadata": {},
   "outputs": [],
   "source": [
    "import ads"
   ]
  },
  {
   "cell_type": "code",
   "execution_count": 55,
   "metadata": {},
   "outputs": [],
   "source": [
    "ads.config.token = open('ADS_DEV_KEY','r').read()"
   ]
  },
  {
   "cell_type": "code",
   "execution_count": 70,
   "metadata": {},
   "outputs": [],
   "source": [
    "bibcode = '2019ApJ...887...80K'"
   ]
  },
  {
   "cell_type": "code",
   "execution_count": 73,
   "metadata": {},
   "outputs": [],
   "source": [
    "ads.SearchQuery?"
   ]
  },
  {
   "cell_type": "code",
   "execution_count": 74,
   "metadata": {},
   "outputs": [
    {
     "data": {
      "text/plain": [
       "[<ads.search.Article at 0x164c90df2b0>]"
      ]
     },
     "execution_count": 74,
     "metadata": {},
     "output_type": "execute_result"
    }
   ],
   "source": [
    "list(ads.SearchQuery(bibcode=bibcode))"
   ]
  },
  {
   "cell_type": "code",
   "execution_count": 59,
   "metadata": {},
   "outputs": [],
   "source": [
    "articles = [list(ads.SearchQuery(bibcode=bibcode))[0] for bibcode in bibcodes]"
   ]
  },
  {
   "cell_type": "code",
   "execution_count": 76,
   "metadata": {},
   "outputs": [
    {
     "data": {
      "text/plain": [
       "['1989ApJ...345..245C',\n",
       " '2003MNRAS.344.1000B',\n",
       " '2018A&A...616A...1G',\n",
       " '2009ARA&A..47..481A',\n",
       " '1998ARA&A..36..189K',\n",
       " '1981PASP...93....5B',\n",
       " '2004ApJ...613..898T',\n",
       " '2003MNRAS.346.1055K',\n",
       " '1999PASP..111...63F',\n",
       " '2004PASP..116..138C',\n",
       " '2004ARA&A..42..603K',\n",
       " '2015ApJ...798....7B',\n",
       " '2005ASPC..347...29T',\n",
       " '2008ApJ...681.1183K',\n",
       " '1994ApJ...420...87Z',\n",
       " '2012A&A...538A...8S',\n",
       " '2017MNRAS.466..798C',\n",
       " '2002ApJS..142...35K',\n",
       " '2006MNRAS.366.1151S',\n",
       " '2007ApJS..173..185G',\n",
       " '2018ApJ...860..172S',\n",
       " '2013A&A...559A.114M',\n",
       " '2014A&A...563A..49S',\n",
       " '2010SPIE.7735E..08B',\n",
       " '2018ApJ...863L..21K',\n",
       " '2018ApJ...861L..18U',\n",
       " '2015MNRAS.447.2857B',\n",
       " '2009RvMP...81..969H',\n",
       " '2017MNRAS.469..151B',\n",
       " '2001ApJS..132...37K',\n",
       " '1992MNRAS.259..121V',\n",
       " '2006A&A...459...85N',\n",
       " '2014ApJS..212...14L',\n",
       " '1997ApJ...489...63G',\n",
       " '2019MNRAS.484.5009E',\n",
       " '2018MNRAS.479.5235P',\n",
       " '2018MNRAS.479.1866K',\n",
       " '2016Ap&SS.361...61D',\n",
       " '2012MNRAS.424..157V',\n",
       " '2002ApJ...581.1019G',\n",
       " '1996AJ....111.2265F',\n",
       " '1999PASP..111..919H',\n",
       " '1999MNRAS.307..857B',\n",
       " '1997A&A...322..598S',\n",
       " '2012ApJ...755...40P',\n",
       " '2015ApJ...798...99B',\n",
       " '1996MNRAS.280..720V',\n",
       " '2018MNRAS.478.2315E',\n",
       " '2008ApJ...675.1213R',\n",
       " '2005ApJ...627..477M']"
      ]
     },
     "execution_count": 76,
     "metadata": {},
     "output_type": "execute_result"
    }
   ],
   "source": [
    "articles[0].reference"
   ]
  },
  {
   "cell_type": "code",
   "execution_count": 1,
   "metadata": {},
   "outputs": [],
   "source": [
    "import numpy as np\n",
    "import matplotlib.pyplot as plt"
   ]
  },
  {
   "cell_type": "code",
   "execution_count": 10,
   "metadata": {},
   "outputs": [
    {
     "data": {
      "image/png": "[encoded data removed]",
      "text/plain": [
       "<Figure size 432x288 with 1 Axes>"
      ]
     },
     "metadata": {
      "needs_background": "light"
     },
     "output_type": "display_data"
    }
   ],
   "source": [
    "x = np.linspace(0,10)\n",
    "\n",
    "y1 = (1-np.exp(3*(-4.47-x)))\n",
    "y2 = np.exp(0.307*x)\n",
    "\n",
    "y = y1*y2\n",
    "plt.plot(x,y1)\n",
    "plt.plot(x,y2)\n",
    "plt.plot(x,y)\n",
    "\n",
    "plt.yscale('log')"
   ]
  }
 ],
 "metadata": {
  "kernelspec": {
   "display_name": "Python 3",
   "language": "python",
   "name": "python3"
  },
  "language_info": {
   "codemirror_mode": {
    "name": "ipython",
    "version": 3
   },
   "file_extension": ".py",
   "mimetype": "text/x-python",
   "name": "python",
   "nbconvert_exporter": "python",
   "pygments_lexer": "ipython3",
   "version": "3.7.7"
  },
  "toc": {
   "base_numbering": 1,
   "nav_menu": {},
   "number_sections": true,
   "sideBar": true,
   "skip_h1_title": false,
   "title_cell": "Table of Contents",
   "title_sidebar": "Contents",
   "toc_cell": false,
   "toc_position": {},
   "toc_section_display": true,
   "toc_window_display": false
  }
 },
 "nbformat": 4,
 "nbformat_minor": 2
}
