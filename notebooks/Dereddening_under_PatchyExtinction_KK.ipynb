{
 "cells": [
  {
   "cell_type": "markdown",
   "metadata": {},
   "source": [
    "The question is how well the Balmer-decrement-derived mean extinction, can correct line-flux ratios at other wavelength combinations; after discussion with LVM team"
   ]
  },
  {
   "cell_type": "code",
   "execution_count": null,
   "metadata": {},
   "outputs": [],
   "source": [
    "import numpy as np\n",
    "import matplotlib\n",
    "from astropy.io import fits as fits\n",
    "from astropy.table import Table\n",
    "from matplotlib.colors import LogNorm\n",
    "import scipy.stats as stats\n",
    "\n",
    "# Set up matplotlib\n",
    "import matplotlib.pyplot as plt\n",
    "\n",
    "#reddening curves KK\n",
    "from dust_extinction.parameter_averages import CCM89, F99\n",
    "import astropy.units as u"
   ]
  },
  {
   "cell_type": "code",
   "execution_count": null,
   "metadata": {},
   "outputs": [],
   "source": [
    "#define a few extinction-related quanbtities (REF)\n",
    "def kl(lam):   # get the extinction at wavelength lambda [in microns], to be multiplied by E(B-V)\n",
    "    if (lam <0.6):\n",
    "        return -5.726 + 4.004/lam - 0.525/lam**2 +0.029/lam**3 + 2.505\n",
    "    else:\n",
    "        return -2.672 -  0.010/lam + 1.532/lam**2  - 0.412/lam**3 +2.505"
   ]
  },
  {
   "cell_type": "code",
   "execution_count": null,
   "metadata": {},
   "outputs": [],
   "source": [
    "#define a few extinction-related quanbtities (REF) ##KK edited\n",
    "def k_dust(lam):   # get the extinction at wavelength lambda [in microns], to be multiplied by E(B-V)\n",
    "    lam2=(lam*u.micron)\n",
    "    #ext_model = CCM89(Rv=3.1)\n",
    "    #ext_model = F99(Rv=3.1)\n",
    "    #return ext_model(lam2)\n",
    "    return F99.evaluate(F99,lam2,Rv=3.1)*3.1\n",
    "    #return CCM89.evaluate(lam2,3.1)*3.1"
   ]
  },
  {
   "cell_type": "code",
   "execution_count": null,
   "metadata": {},
   "outputs": [],
   "source": [
    "print(kl(0.3727), kl(0.4868), kl(0.5007), kl(0.6564))   # just testing"
   ]
  },
  {
   "cell_type": "code",
   "execution_count": null,
   "metadata": {},
   "outputs": [],
   "source": [
    "print(k_dust(0.3727), k_dust(0.4868), k_dust(0.5007), k_dust(0.6564))   # just testing KK"
   ]
  },
  {
   "cell_type": "markdown",
   "metadata": {},
   "source": [
    "#### Now define  the true change in the line ratio (at $\\lambda_1$ vs $\\lambda_2$), caused by patchy dust-extinction with E(B-V), except for a clear (area) fraction of $\\epsilon$. And define the estimated E(B-V) from the observed Balmer decrement (or any other line ratio, assuming homogeneity)"
   ]
  },
  {
   "cell_type": "code",
   "execution_count": null,
   "metadata": {},
   "outputs": [],
   "source": []
  },
  {
   "cell_type": "code",
   "execution_count": null,
   "metadata": {},
   "outputs": [],
   "source": [
    "def line_ratio_reddening(lam1,lam2,EBV,eps):\n",
    "    exp_alam1 = np.exp(-k_dust(lam1)*EBV) #KK\n",
    "    exp_alam2 = np.exp(-k_dust(lam2)*EBV) #KK\n",
    "    return (eps*(1-exp_alam1)+exp_alam1) / (eps*(1-exp_alam2)+exp_alam2)\n",
    "\n",
    "def estimate_EBV(lam1,lam2,line_ratio_change):  # \"line_ratio_change\" is the ratio by \n",
    "    #which the observed line ratio differs from the expected (unreddened) one; e.g. 2.86 for the Balmer decrement\n",
    "    if (line_ratio_change>1.):\n",
    "        print('wrong line ratio regime')\n",
    "    else:\n",
    "        return -np.log((line_ratio_change))/(k_dust(lam1)-k_dust(lam2)) #KK dust\n",
    "    \n",
    "def sys_err(lam1,lam2,EBV,eps):  #  systematic error in dereddening line ratios at lam1 and lam2,\n",
    "                                 #  using the Balmer decrement, when E(B-V) and epsilon\n",
    "    BD_obs = line_ratio_reddening(0.4868,0.6564,EBV,eps) # true amount by which the Balmer decretent is altered\n",
    "    EBV_estimated = estimate_EBV(0.4868,0.6564,BD_obs)  # actually estimated B.d. to be from the observed line ratios\n",
    "    line_ratio_obs = line_ratio_reddening(lam1,lam2,EBV,eps)\n",
    "    line_ratio_after_inferred_correction = line_ratio_reddening(lam1,lam2,EBV_estimated,0.)\n",
    "    return line_ratio_obs/line_ratio_after_inferred_correction\n",
    "\n",
    "\n",
    "def sys_err_array(lam1,lam2,X,Y):   # get the previous function for a 2D array\n",
    "    Z = 0*X\n",
    "    for i in range(len(X[0,:])):\n",
    "        for j in range(len(Y[:,0])):\n",
    "            Z[i,j] = np.log10( np.abs( sys_err(lam1,lam2,X[i,j],Y[i,j]) ) ) #log to log10\n",
    "    return Z\n",
    "  "
   ]
  },
  {
   "cell_type": "markdown",
   "metadata": {},
   "source": [
    "Now assume there is a certain foreground absorption of E(B-V), that covers all but $\\epsilon$ of the spaxel (where the flux emerges unattenuated).\n",
    "Let's make a 2D plot of the systematic error incurred when using the Balmer decrement to de-reddene [OII]/[OIII], as a function of E(B-V) and $\\epsilon$"
   ]
  },
  {
   "cell_type": "code",
   "execution_count": null,
   "metadata": {},
   "outputs": [],
   "source": [
    "x = np.linspace(0.05, 1.1, 50)\n",
    "y = np.linspace(0.01, 0.3, 50)\n",
    "\n",
    "X, Y = np.meshgrid(x, y)\n",
    "Z = sys_err_array(0.3727,0.5007,X,Y)  # this is specific to 3727 / 5007\n",
    "\n",
    "#plt.contourf(X, Y, Z, 20, cmap='RdGy');\n",
    "#plt.contourf(X, Y, Z, 20, cmap='nipy_spectral'); #orig\n",
    "plt.contourf(X, Y, Z, 20, cmap='nipy_spectral',vmin=0,vmax=0.2); #KK\n",
    "#plt.colorbar();\n",
    "plt.xlabel('E(B-V)',fontsize=18,labelpad=0)\n",
    "plt.tick_params(labelsize=14)\n",
    "plt.ylabel('$\\epsilon_{unobscured}$',fontsize=18,labelpad=0)\n",
    "cbar = plt.colorbar()\n",
    "cbar.set_label('log(sys. [OII]/[OIII] error)', rotation=270,fontsize=16,labelpad=23)\n",
    "plt.savefig('systematic_dereddening_error_F99.pdf')"
   ]
  },
  {
   "cell_type": "code",
   "execution_count": null,
   "metadata": {},
   "outputs": [],
   "source": [
    "x[26]"
   ]
  },
  {
   "cell_type": "code",
   "execution_count": null,
   "metadata": {},
   "outputs": [],
   "source": [
    "tmparr=Z[:,26]\n",
    "print(tmparr)\n",
    "np.median(tmparr)"
   ]
  },
  {
   "cell_type": "code",
   "execution_count": null,
   "metadata": {},
   "outputs": [],
   "source": []
  },
  {
   "cell_type": "markdown",
   "metadata": {},
   "source": [
    "The following uses HWs original code:"
   ]
  },
  {
   "cell_type": "code",
   "execution_count": null,
   "metadata": {},
   "outputs": [],
   "source": [
    "##original from HW\n",
    "def line_ratio_reddening_orig(lam1,lam2,EBV,eps):\n",
    "    exp_alam1 = np.exp(-kl(lam1)*EBV) \n",
    "    exp_alam2 = np.exp(-kl(lam2)*EBV) \n",
    "    return (eps*(1-exp_alam1)+exp_alam1) / (eps*(1-exp_alam2)+exp_alam2)\n",
    "\n",
    "def estimate_EBV_orig(lam1,lam2,line_ratio_change):  # \"line_ratio_change\" is the ratio by \n",
    "    #which the observed line ratio differs from the expected (unreddened) one; e.g. 3.86 for the Balmer decrement\n",
    "    if (line_ratio_change>1.):\n",
    "        print('wrong line ration regime')\n",
    "    else:\n",
    "        return -np.log(line_ratio_change)/(kl(lam1)-kl(lam2))\n",
    "    \n",
    "def sys_err_orig(lam1,lam2,EBV,eps):  #  systematic error in dereddening line ratios at lam1 and lam2,\n",
    "                                 #  using the Balmer decrement, when E(B-V) and epsilon\n",
    "    BD_obs = line_ratio_reddening_orig(0.4868,0.6564,EBV,eps) # true amount by which the Balmer decretent is altered\n",
    "    EBV_estimated = estimate_EBV_orig(0.4868,0.6564,BD_obs)  # actually estimated B.d. to be from the observed line ratios\n",
    "    line_ratio_obs = line_ratio_reddening_orig(lam1,lam2,EBV,eps)\n",
    "    line_ratio_after_inferred_correction = line_ratio_reddening_orig(lam1,lam2,EBV_estimated,0.)\n",
    "    return line_ratio_obs/line_ratio_after_inferred_correction\n",
    "\n",
    "def sys_err_array_orig(lam1,lam2,X,Y):   # get the previous function for a 2D array\n",
    "    Z = 0*X\n",
    "    for i in range(len(X[0,:])):\n",
    "        for j in range(len(Y[:,0])):\n",
    "            Z[i,j] = np.log10( np.abs( sys_err_orig(lam1,lam2,X[i,j],Y[i,j]) ) ) #log to log10\n",
    "    return Z\n",
    "    "
   ]
  },
  {
   "cell_type": "code",
   "execution_count": null,
   "metadata": {},
   "outputs": [],
   "source": [
    "x = np.linspace(0.05, 1.1, 50)\n",
    "y = np.linspace(0.01, 0.3, 50)\n",
    "\n",
    "X, Y = np.meshgrid(x, y)\n",
    "Z = sys_err_array_orig(0.3727,0.5007,X,Y)  # this is specific to 3727 / 5007\n",
    "\n",
    "#plt.contourf(X, Y, Z, 20, cmap='RdGy');\n",
    "#plt.contourf(X, Y, Z, 20, cmap='nipy_spectral'); #orig\n",
    "plt.contourf(X, Y, Z, 20, cmap='nipy_spectral',vmin=0,vmax=0.2); #KK\n",
    "#plt.colorbar();\n",
    "plt.xlabel('E(B-V)',fontsize=18,labelpad=10)\n",
    "plt.tick_params(labelsize=14)\n",
    "plt.ylabel('$\\epsilon_{unobscured}$',fontsize=18,labelpad=10)\n",
    "plt.clim([0,.2])#KK\n",
    "cbar = plt.colorbar()\n",
    "cbar.set_label('log(sys. [OII]/[OIII] error)', rotation=270,fontsize=16,labelpad=23)\n",
    "plt.savefig('systematic_dereddening_error_orig.pdf')"
   ]
  },
  {
   "cell_type": "code",
   "execution_count": null,
   "metadata": {},
   "outputs": [],
   "source": []
  },
  {
   "cell_type": "markdown",
   "metadata": {},
   "source": [
    "Now assume there is a certain foreground absorption of E(B-V), that covers all but $\\epsilon$ of the spaxel (where the flux emerges unattenuated).\n",
    "Let's make a 2D plot of the systematic error incurred when using the Balmer decrement to de-reddene [SII]/[SIII], as a function of E(B-V) and $\\epsilon$"
   ]
  },
  {
   "cell_type": "code",
   "execution_count": null,
   "metadata": {},
   "outputs": [],
   "source": [
    "x = np.linspace(0.05, 1.1, 50)\n",
    "y = np.linspace(0.01, 0.3, 50)\n",
    "\n",
    "X, Y = np.meshgrid(x, y)\n",
    "Z = sys_err_array(0.9069,0.6716,X,Y)  # this is specific to 3727 / 5007\n",
    "\n",
    "#plt.contourf(X, Y, Z, 20, cmap='RdGy');\n",
    "#plt.contourf(X, Y, Z, 20, cmap='nipy_spectral'); #orig\n",
    "plt.contourf(X, Y, Z, 20, cmap='nipy_spectral',vmin=0,vmax=0.2); #KK\n",
    "#plt.colorbar();\n",
    "plt.xlabel('E(B-V)',fontsize=18,labelpad=0)\n",
    "plt.tick_params(labelsize=14)\n",
    "plt.ylabel('$\\epsilon_{unobscured}$',fontsize=18,labelpad=0)\n",
    "cbar = plt.colorbar()\n",
    "cbar.set_label('log(sys. [SIII]/[SII] error)', rotation=270,fontsize=16,labelpad=23)\n",
    "plt.savefig('systematic_dereddening_error_F99_Sulphur.pdf')"
   ]
  },
  {
   "cell_type": "code",
   "execution_count": null,
   "metadata": {},
   "outputs": [],
   "source": [
    "tmparr=Z[:,26]\n",
    "np.median(tmparr)"
   ]
  },
  {
   "cell_type": "code",
   "execution_count": null,
   "metadata": {},
   "outputs": [],
   "source": []
  }
 ],
 "metadata": {
  "kernelspec": {
   "display_name": "Python 3",
   "language": "python",
   "name": "python3"
  },
  "language_info": {
   "codemirror_mode": {
    "name": "ipython",
    "version": 3
   },
   "file_extension": ".py",
   "mimetype": "text/x-python",
   "name": "python",
   "nbconvert_exporter": "python",
   "pygments_lexer": "ipython3",
   "version": "3.7.3"
  },
  "toc": {
   "base_numbering": 1,
   "nav_menu": {},
   "number_sections": true,
   "sideBar": true,
   "skip_h1_title": false,
   "title_cell": "Table of Contents",
   "title_sidebar": "Contents",
   "toc_cell": false,
   "toc_position": {},
   "toc_section_display": true,
   "toc_window_display": false
  }
 },
 "nbformat": 4,
 "nbformat_minor": 2
}
