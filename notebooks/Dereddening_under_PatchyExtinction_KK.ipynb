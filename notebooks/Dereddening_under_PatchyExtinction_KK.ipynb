{
 "cells": [
  {
   "cell_type": "markdown",
   "metadata": {},
   "source": [
    "The question is how well the Balmer-decrement-derived mean extinction, can correct line-flux ratios at other wavelength combinations; after discussion with LVM team"
   ]
  },
  {
   "cell_type": "code",
   "execution_count": 1,
   "metadata": {},
   "outputs": [],
   "source": [
    "import numpy as np\n",
    "import matplotlib\n",
    "from astropy.io import fits as fits\n",
    "from astropy.table import Table\n",
    "from matplotlib.colors import LogNorm\n",
    "import scipy.stats as stats\n",
    "\n",
    "# Set up matplotlib\n",
    "import matplotlib.pyplot as plt\n",
    "\n",
    "#reddening curves KK\n",
    "from dust_extinction.parameter_averages import CCM89, F99\n",
    "import astropy.units as u"
   ]
  },
  {
   "cell_type": "code",
   "execution_count": 2,
   "metadata": {},
   "outputs": [],
   "source": [
    "#define a few extinction-related quanbtities (REF)\n",
    "def kl(lam):   # get the extinction at wavelength lambda [in microns], to be multiplied by E(B-V)\n",
    "    if (lam <0.6):\n",
    "        return -5.726 + 4.004/lam - 0.525/lam**2 +0.029/lam**3 + 2.505\n",
    "    else:\n",
    "        return -2.672 -  0.010/lam + 1.532/lam**2  - 0.412/lam**3 +2.505"
   ]
  },
  {
   "cell_type": "code",
   "execution_count": 3,
   "metadata": {},
   "outputs": [],
   "source": [
    "#define a few extinction-related quanbtities (REF) ##KK edited\n",
    "def k_dust(lam):   # get the extinction at wavelength lambda [in microns], to be multiplied by E(B-V)\n",
    "    lam2=(lam*u.micron)\n",
    "    #ext_model = CCM89(Rv=3.1)\n",
    "    #ext_model = F99(Rv=3.1)\n",
    "    #return ext_model(lam2)\n",
    "    return F99.evaluate(F99,lam2,Rv=3.1)*3.1\n",
    "    #return CCM89.evaluate(lam2,3.1)*3.1"
   ]
  },
  {
   "cell_type": "code",
   "execution_count": 47,
   "metadata": {},
   "outputs": [
    {
     "name": "stdout",
     "output_type": "stream",
     "text": [
      "4.302841399454492 3.0401021341509247 2.912700470713361 1.9166650939965764\n"
     ]
    }
   ],
   "source": [
    "print(kl(0.3727), kl(0.4868), kl(0.5007), kl(0.6564))   # just testing"
   ]
  },
  {
   "cell_type": "code",
   "execution_count": 48,
   "metadata": {},
   "outputs": [
    {
     "name": "stdout",
     "output_type": "stream",
     "text": [
      "[4.66682226] [3.60855013] [3.47029817] [2.356559]\n"
     ]
    }
   ],
   "source": [
    "print(k_dust(0.3727), k_dust(0.4868), k_dust(0.5007), k_dust(0.6564))   # just testing KK"
   ]
  },
  {
   "cell_type": "markdown",
   "metadata": {},
   "source": [
    "#### Now define  the true change in the line ratio (at $\\lambda_1$ vs $\\lambda_2$), caused by patchy dust-extinction with E(B-V), except for a clear (area) fraction of $\\epsilon$. And define the estimated E(B-V) from the observed Balmer decrement (or any other line ratio, assuming homogeneity)"
   ]
  },
  {
   "cell_type": "code",
   "execution_count": null,
   "metadata": {},
   "outputs": [],
   "source": []
  },
  {
   "cell_type": "code",
   "execution_count": 13,
   "metadata": {},
   "outputs": [],
   "source": [
    "def line_ratio_reddening(lam1,lam2,EBV,eps):\n",
    "    exp_alam1 = np.exp(-k_dust(lam1)*EBV) #KK\n",
    "    exp_alam2 = np.exp(-k_dust(lam2)*EBV) #KK\n",
    "    return (eps*(1-exp_alam1)+exp_alam1) / (eps*(1-exp_alam2)+exp_alam2)\n",
    "\n",
    "def estimate_EBV(lam1,lam2,line_ratio_change):  # \"line_ratio_change\" is the ratio by \n",
    "    #which the observed line ratio differs from the expected (unreddened) one; e.g. 2.86 for the Balmer decrement\n",
    "    if (line_ratio_change>1.):\n",
    "        print('wrong line ratio regime')\n",
    "    else:\n",
    "        return -np.log((line_ratio_change))/(k_dust(lam1)-k_dust(lam2)) #KK dust\n",
    "    \n",
    "def sys_err(lam1,lam2,EBV,eps):  #  systematic error in dereddening line ratios at lam1 and lam2,\n",
    "                                 #  using the Balmer decrement, when E(B-V) and epsilon\n",
    "    BD_obs = line_ratio_reddening(0.4868,0.6564,EBV,eps) # true amount by which the Balmer decretent is altered\n",
    "    EBV_estimated = estimate_EBV(0.4868,0.6564,BD_obs)  # actually estimated B.d. to be from the observed line ratios\n",
    "    line_ratio_obs = line_ratio_reddening(lam1,lam2,EBV,eps)\n",
    "    line_ratio_after_inferred_correction = line_ratio_reddening(lam1,lam2,EBV_estimated,0.)\n",
    "    return line_ratio_obs/line_ratio_after_inferred_correction\n",
    "\n",
    "\n",
    "def sys_err_array(lam1,lam2,X,Y):   # get the previous function for a 2D array\n",
    "    Z = 0*X\n",
    "    for i in range(len(X[0,:])):\n",
    "        for j in range(len(Y[:,0])):\n",
    "            Z[i,j] = np.log10( np.abs( sys_err(lam1,lam2,X[i,j],Y[i,j]) ) ) #log to log10\n",
    "    return Z\n",
    "  "
   ]
  },
  {
   "cell_type": "markdown",
   "metadata": {},
   "source": [
    "Now assume there is a certain foreground absorption of E(B-V), that covers all but $\\epsilon$ of the spaxel (where the flux emerges unattenuated).\n",
    "Let's make a 2D plot of the systematic error incurred when using the Balmer decrement to de-reddene [OII]/[OIII], as a function of E(B-V) and $\\epsilon$"
   ]
  },
  {
   "cell_type": "code",
   "execution_count": 12,
   "metadata": {},
   "outputs": [
    {
     "ename": "KeyboardInterrupt",
     "evalue": "",
     "output_type": "error",
     "traceback": [
      "\u001b[1;31m---------------------------------------------------------------------------\u001b[0m",
      "\u001b[1;31mKeyboardInterrupt\u001b[0m                         Traceback (most recent call last)",
      "\u001b[1;32m<ipython-input-12-6e895a93e2ee>\u001b[0m in \u001b[0;36m<module>\u001b[1;34m\u001b[0m\n\u001b[0;32m      3\u001b[0m \u001b[1;33m\u001b[0m\u001b[0m\n\u001b[0;32m      4\u001b[0m \u001b[0mX\u001b[0m\u001b[1;33m,\u001b[0m \u001b[0mY\u001b[0m \u001b[1;33m=\u001b[0m \u001b[0mnp\u001b[0m\u001b[1;33m.\u001b[0m\u001b[0mmeshgrid\u001b[0m\u001b[1;33m(\u001b[0m\u001b[0mx\u001b[0m\u001b[1;33m,\u001b[0m \u001b[0my\u001b[0m\u001b[1;33m)\u001b[0m\u001b[1;33m\u001b[0m\u001b[1;33m\u001b[0m\u001b[0m\n\u001b[1;32m----> 5\u001b[1;33m \u001b[0mZ\u001b[0m \u001b[1;33m=\u001b[0m \u001b[0msys_err_array\u001b[0m\u001b[1;33m(\u001b[0m\u001b[1;36m0.3727\u001b[0m\u001b[1;33m,\u001b[0m\u001b[1;36m0.5007\u001b[0m\u001b[1;33m,\u001b[0m\u001b[0mX\u001b[0m\u001b[1;33m,\u001b[0m\u001b[0mY\u001b[0m\u001b[1;33m)\u001b[0m  \u001b[1;31m# this is specific to 3727 / 5007\u001b[0m\u001b[1;33m\u001b[0m\u001b[1;33m\u001b[0m\u001b[0m\n\u001b[0m\u001b[0;32m      6\u001b[0m \u001b[1;33m\u001b[0m\u001b[0m\n\u001b[0;32m      7\u001b[0m \u001b[1;31m#plt.contourf(X, Y, Z, 20, cmap='RdGy');\u001b[0m\u001b[1;33m\u001b[0m\u001b[1;33m\u001b[0m\u001b[1;33m\u001b[0m\u001b[0m\n",
      "\u001b[1;32mC:\\tools\\anaconda3\\envs\\pymuse\\lib\\site-packages\\numpy\\lib\\function_base.py\u001b[0m in \u001b[0;36m__call__\u001b[1;34m(self, *args, **kwargs)\u001b[0m\n\u001b[0;32m   2089\u001b[0m             \u001b[0mvargs\u001b[0m\u001b[1;33m.\u001b[0m\u001b[0mextend\u001b[0m\u001b[1;33m(\u001b[0m\u001b[1;33m[\u001b[0m\u001b[0mkwargs\u001b[0m\u001b[1;33m[\u001b[0m\u001b[0m_n\u001b[0m\u001b[1;33m]\u001b[0m \u001b[1;32mfor\u001b[0m \u001b[0m_n\u001b[0m \u001b[1;32min\u001b[0m \u001b[0mnames\u001b[0m\u001b[1;33m]\u001b[0m\u001b[1;33m)\u001b[0m\u001b[1;33m\u001b[0m\u001b[1;33m\u001b[0m\u001b[0m\n\u001b[0;32m   2090\u001b[0m \u001b[1;33m\u001b[0m\u001b[0m\n\u001b[1;32m-> 2091\u001b[1;33m         \u001b[1;32mreturn\u001b[0m \u001b[0mself\u001b[0m\u001b[1;33m.\u001b[0m\u001b[0m_vectorize_call\u001b[0m\u001b[1;33m(\u001b[0m\u001b[0mfunc\u001b[0m\u001b[1;33m=\u001b[0m\u001b[0mfunc\u001b[0m\u001b[1;33m,\u001b[0m \u001b[0margs\u001b[0m\u001b[1;33m=\u001b[0m\u001b[0mvargs\u001b[0m\u001b[1;33m)\u001b[0m\u001b[1;33m\u001b[0m\u001b[1;33m\u001b[0m\u001b[0m\n\u001b[0m\u001b[0;32m   2092\u001b[0m \u001b[1;33m\u001b[0m\u001b[0m\n\u001b[0;32m   2093\u001b[0m     \u001b[1;32mdef\u001b[0m \u001b[0m_get_ufunc_and_otypes\u001b[0m\u001b[1;33m(\u001b[0m\u001b[0mself\u001b[0m\u001b[1;33m,\u001b[0m \u001b[0mfunc\u001b[0m\u001b[1;33m,\u001b[0m \u001b[0margs\u001b[0m\u001b[1;33m)\u001b[0m\u001b[1;33m:\u001b[0m\u001b[1;33m\u001b[0m\u001b[1;33m\u001b[0m\u001b[0m\n",
      "\u001b[1;32mC:\\tools\\anaconda3\\envs\\pymuse\\lib\\site-packages\\numpy\\lib\\function_base.py\u001b[0m in \u001b[0;36m_vectorize_call\u001b[1;34m(self, func, args)\u001b[0m\n\u001b[0;32m   2165\u001b[0m                       for a in args]\n\u001b[0;32m   2166\u001b[0m \u001b[1;33m\u001b[0m\u001b[0m\n\u001b[1;32m-> 2167\u001b[1;33m             \u001b[0moutputs\u001b[0m \u001b[1;33m=\u001b[0m \u001b[0mufunc\u001b[0m\u001b[1;33m(\u001b[0m\u001b[1;33m*\u001b[0m\u001b[0minputs\u001b[0m\u001b[1;33m)\u001b[0m\u001b[1;33m\u001b[0m\u001b[1;33m\u001b[0m\u001b[0m\n\u001b[0m\u001b[0;32m   2168\u001b[0m \u001b[1;33m\u001b[0m\u001b[0m\n\u001b[0;32m   2169\u001b[0m             \u001b[1;32mif\u001b[0m \u001b[0mufunc\u001b[0m\u001b[1;33m.\u001b[0m\u001b[0mnout\u001b[0m \u001b[1;33m==\u001b[0m \u001b[1;36m1\u001b[0m\u001b[1;33m:\u001b[0m\u001b[1;33m\u001b[0m\u001b[1;33m\u001b[0m\u001b[0m\n",
      "\u001b[1;32mC:\\tools\\anaconda3\\envs\\pymuse\\lib\\site-packages\\numpy\\lib\\function_base.py\u001b[0m in \u001b[0;36mfunc\u001b[1;34m(*vargs)\u001b[0m\n\u001b[0;32m   2084\u001b[0m                     \u001b[0mthe_args\u001b[0m\u001b[1;33m[\u001b[0m\u001b[0m_i\u001b[0m\u001b[1;33m]\u001b[0m \u001b[1;33m=\u001b[0m \u001b[0mvargs\u001b[0m\u001b[1;33m[\u001b[0m\u001b[0m_n\u001b[0m\u001b[1;33m]\u001b[0m\u001b[1;33m\u001b[0m\u001b[1;33m\u001b[0m\u001b[0m\n\u001b[0;32m   2085\u001b[0m                 \u001b[0mkwargs\u001b[0m\u001b[1;33m.\u001b[0m\u001b[0mupdate\u001b[0m\u001b[1;33m(\u001b[0m\u001b[0mzip\u001b[0m\u001b[1;33m(\u001b[0m\u001b[0mnames\u001b[0m\u001b[1;33m,\u001b[0m \u001b[0mvargs\u001b[0m\u001b[1;33m[\u001b[0m\u001b[0mlen\u001b[0m\u001b[1;33m(\u001b[0m\u001b[0minds\u001b[0m\u001b[1;33m)\u001b[0m\u001b[1;33m:\u001b[0m\u001b[1;33m]\u001b[0m\u001b[1;33m)\u001b[0m\u001b[1;33m)\u001b[0m\u001b[1;33m\u001b[0m\u001b[1;33m\u001b[0m\u001b[0m\n\u001b[1;32m-> 2086\u001b[1;33m                 \u001b[1;32mreturn\u001b[0m \u001b[0mself\u001b[0m\u001b[1;33m.\u001b[0m\u001b[0mpyfunc\u001b[0m\u001b[1;33m(\u001b[0m\u001b[1;33m*\u001b[0m\u001b[0mthe_args\u001b[0m\u001b[1;33m,\u001b[0m \u001b[1;33m**\u001b[0m\u001b[0mkwargs\u001b[0m\u001b[1;33m)\u001b[0m\u001b[1;33m\u001b[0m\u001b[1;33m\u001b[0m\u001b[0m\n\u001b[0m\u001b[0;32m   2087\u001b[0m \u001b[1;33m\u001b[0m\u001b[0m\n\u001b[0;32m   2088\u001b[0m             \u001b[0mvargs\u001b[0m \u001b[1;33m=\u001b[0m \u001b[1;33m[\u001b[0m\u001b[0margs\u001b[0m\u001b[1;33m[\u001b[0m\u001b[0m_i\u001b[0m\u001b[1;33m]\u001b[0m \u001b[1;32mfor\u001b[0m \u001b[0m_i\u001b[0m \u001b[1;32min\u001b[0m \u001b[0minds\u001b[0m\u001b[1;33m]\u001b[0m\u001b[1;33m\u001b[0m\u001b[1;33m\u001b[0m\u001b[0m\n",
      "\u001b[1;32m<ipython-input-11-03c36c289d57>\u001b[0m in \u001b[0;36msys_err\u001b[1;34m(lam1, lam2, EBV, eps)\u001b[0m\n\u001b[0;32m     15\u001b[0m     \u001b[0mBD_obs\u001b[0m \u001b[1;33m=\u001b[0m \u001b[0mline_ratio_reddening\u001b[0m\u001b[1;33m(\u001b[0m\u001b[1;36m0.4868\u001b[0m\u001b[1;33m,\u001b[0m\u001b[1;36m0.6564\u001b[0m\u001b[1;33m,\u001b[0m\u001b[0mEBV\u001b[0m\u001b[1;33m,\u001b[0m\u001b[0meps\u001b[0m\u001b[1;33m)\u001b[0m \u001b[1;31m# true amount by which the Balmer decretent is altered\u001b[0m\u001b[1;33m\u001b[0m\u001b[1;33m\u001b[0m\u001b[0m\n\u001b[0;32m     16\u001b[0m     \u001b[0mEBV_estimated\u001b[0m \u001b[1;33m=\u001b[0m \u001b[0mestimate_EBV\u001b[0m\u001b[1;33m(\u001b[0m\u001b[1;36m0.4868\u001b[0m\u001b[1;33m,\u001b[0m\u001b[1;36m0.6564\u001b[0m\u001b[1;33m,\u001b[0m\u001b[0mBD_obs\u001b[0m\u001b[1;33m)\u001b[0m  \u001b[1;31m# actually estimated B.d. to be from the observed line ratios\u001b[0m\u001b[1;33m\u001b[0m\u001b[1;33m\u001b[0m\u001b[0m\n\u001b[1;32m---> 17\u001b[1;33m     \u001b[0mline_ratio_obs\u001b[0m \u001b[1;33m=\u001b[0m \u001b[0mline_ratio_reddening\u001b[0m\u001b[1;33m(\u001b[0m\u001b[0mlam1\u001b[0m\u001b[1;33m,\u001b[0m\u001b[0mlam2\u001b[0m\u001b[1;33m,\u001b[0m\u001b[0mEBV\u001b[0m\u001b[1;33m,\u001b[0m\u001b[0meps\u001b[0m\u001b[1;33m)\u001b[0m\u001b[1;33m\u001b[0m\u001b[1;33m\u001b[0m\u001b[0m\n\u001b[0m\u001b[0;32m     18\u001b[0m     \u001b[0mline_ratio_after_inferred_correction\u001b[0m \u001b[1;33m=\u001b[0m \u001b[0mline_ratio_reddening\u001b[0m\u001b[1;33m(\u001b[0m\u001b[0mlam1\u001b[0m\u001b[1;33m,\u001b[0m\u001b[0mlam2\u001b[0m\u001b[1;33m,\u001b[0m\u001b[0mEBV_estimated\u001b[0m\u001b[1;33m,\u001b[0m\u001b[1;36m0.\u001b[0m\u001b[1;33m)\u001b[0m\u001b[1;33m\u001b[0m\u001b[1;33m\u001b[0m\u001b[0m\n\u001b[0;32m     19\u001b[0m     \u001b[1;32mreturn\u001b[0m \u001b[0mline_ratio_obs\u001b[0m\u001b[1;33m/\u001b[0m\u001b[0mline_ratio_after_inferred_correction\u001b[0m\u001b[1;33m\u001b[0m\u001b[1;33m\u001b[0m\u001b[0m\n",
      "\u001b[1;32m<ipython-input-11-03c36c289d57>\u001b[0m in \u001b[0;36mline_ratio_reddening\u001b[1;34m(lam1, lam2, EBV, eps)\u001b[0m\n\u001b[0;32m      1\u001b[0m \u001b[1;32mdef\u001b[0m \u001b[0mline_ratio_reddening\u001b[0m\u001b[1;33m(\u001b[0m\u001b[0mlam1\u001b[0m\u001b[1;33m,\u001b[0m\u001b[0mlam2\u001b[0m\u001b[1;33m,\u001b[0m\u001b[0mEBV\u001b[0m\u001b[1;33m,\u001b[0m\u001b[0meps\u001b[0m\u001b[1;33m)\u001b[0m\u001b[1;33m:\u001b[0m\u001b[1;33m\u001b[0m\u001b[1;33m\u001b[0m\u001b[0m\n\u001b[0;32m      2\u001b[0m     \u001b[0mexp_alam1\u001b[0m \u001b[1;33m=\u001b[0m \u001b[0mnp\u001b[0m\u001b[1;33m.\u001b[0m\u001b[0mexp\u001b[0m\u001b[1;33m(\u001b[0m\u001b[1;33m-\u001b[0m\u001b[0mk_dust\u001b[0m\u001b[1;33m(\u001b[0m\u001b[0mlam1\u001b[0m\u001b[1;33m)\u001b[0m\u001b[1;33m*\u001b[0m\u001b[0mEBV\u001b[0m\u001b[1;33m)\u001b[0m \u001b[1;31m#KK\u001b[0m\u001b[1;33m\u001b[0m\u001b[1;33m\u001b[0m\u001b[0m\n\u001b[1;32m----> 3\u001b[1;33m     \u001b[0mexp_alam2\u001b[0m \u001b[1;33m=\u001b[0m \u001b[0mnp\u001b[0m\u001b[1;33m.\u001b[0m\u001b[0mexp\u001b[0m\u001b[1;33m(\u001b[0m\u001b[1;33m-\u001b[0m\u001b[0mk_dust\u001b[0m\u001b[1;33m(\u001b[0m\u001b[0mlam2\u001b[0m\u001b[1;33m)\u001b[0m\u001b[1;33m*\u001b[0m\u001b[0mEBV\u001b[0m\u001b[1;33m)\u001b[0m \u001b[1;31m#KK\u001b[0m\u001b[1;33m\u001b[0m\u001b[1;33m\u001b[0m\u001b[0m\n\u001b[0m\u001b[0;32m      4\u001b[0m     \u001b[1;32mreturn\u001b[0m \u001b[1;33m(\u001b[0m\u001b[0meps\u001b[0m\u001b[1;33m*\u001b[0m\u001b[1;33m(\u001b[0m\u001b[1;36m1\u001b[0m\u001b[1;33m-\u001b[0m\u001b[0mexp_alam1\u001b[0m\u001b[1;33m)\u001b[0m\u001b[1;33m+\u001b[0m\u001b[0mexp_alam1\u001b[0m\u001b[1;33m)\u001b[0m \u001b[1;33m/\u001b[0m \u001b[1;33m(\u001b[0m\u001b[0meps\u001b[0m\u001b[1;33m*\u001b[0m\u001b[1;33m(\u001b[0m\u001b[1;36m1\u001b[0m\u001b[1;33m-\u001b[0m\u001b[0mexp_alam2\u001b[0m\u001b[1;33m)\u001b[0m\u001b[1;33m+\u001b[0m\u001b[0mexp_alam2\u001b[0m\u001b[1;33m)\u001b[0m\u001b[1;33m\u001b[0m\u001b[1;33m\u001b[0m\u001b[0m\n\u001b[0;32m      5\u001b[0m \u001b[1;33m\u001b[0m\u001b[0m\n",
      "\u001b[1;32m<ipython-input-3-845c64b31432>\u001b[0m in \u001b[0;36mk_dust\u001b[1;34m(lam)\u001b[0m\n\u001b[0;32m      5\u001b[0m     \u001b[1;31m#ext_model = F99(Rv=3.1)\u001b[0m\u001b[1;33m\u001b[0m\u001b[1;33m\u001b[0m\u001b[1;33m\u001b[0m\u001b[0m\n\u001b[0;32m      6\u001b[0m     \u001b[1;31m#return ext_model(lam2)\u001b[0m\u001b[1;33m\u001b[0m\u001b[1;33m\u001b[0m\u001b[1;33m\u001b[0m\u001b[0m\n\u001b[1;32m----> 7\u001b[1;33m     \u001b[1;32mreturn\u001b[0m \u001b[0mF99\u001b[0m\u001b[1;33m.\u001b[0m\u001b[0mevaluate\u001b[0m\u001b[1;33m(\u001b[0m\u001b[0mF99\u001b[0m\u001b[1;33m,\u001b[0m\u001b[0mlam2\u001b[0m\u001b[1;33m,\u001b[0m\u001b[0mRv\u001b[0m\u001b[1;33m=\u001b[0m\u001b[1;36m3.1\u001b[0m\u001b[1;33m)\u001b[0m\u001b[1;33m*\u001b[0m\u001b[1;36m3.1\u001b[0m\u001b[1;33m\u001b[0m\u001b[1;33m\u001b[0m\u001b[0m\n\u001b[0m\u001b[0;32m      8\u001b[0m     \u001b[1;31m#return CCM89.evaluate(lam2,3.1)*3.1\u001b[0m\u001b[1;33m\u001b[0m\u001b[1;33m\u001b[0m\u001b[1;33m\u001b[0m\u001b[0m\n",
      "\u001b[1;32mC:\\tools\\anaconda3\\envs\\pymuse\\lib\\site-packages\\dust_extinction\\parameter_averages.py\u001b[0m in \u001b[0;36mevaluate\u001b[1;34m(self, in_x, Rv)\u001b[0m\n\u001b[0;32m    415\u001b[0m             \u001b[0moptnir_axebv_y\u001b[0m \u001b[1;33m/\u001b[0m \u001b[0mRv\u001b[0m\u001b[1;33m,\u001b[0m\u001b[1;33m\u001b[0m\u001b[1;33m\u001b[0m\u001b[0m\n\u001b[0;32m    416\u001b[0m             \u001b[0mself\u001b[0m\u001b[1;33m.\u001b[0m\u001b[0mx_range\u001b[0m\u001b[1;33m,\u001b[0m\u001b[1;33m\u001b[0m\u001b[1;33m\u001b[0m\u001b[0m\n\u001b[1;32m--> 417\u001b[1;33m             \u001b[1;34m\"F99\"\u001b[0m\u001b[1;33m,\u001b[0m\u001b[1;33m\u001b[0m\u001b[1;33m\u001b[0m\u001b[0m\n\u001b[0m\u001b[0;32m    418\u001b[0m         )\n\u001b[0;32m    419\u001b[0m \u001b[1;33m\u001b[0m\u001b[0m\n",
      "\u001b[1;32mC:\\tools\\anaconda3\\envs\\pymuse\\lib\\site-packages\\dust_extinction\\shapes.py\u001b[0m in \u001b[0;36m_curve_F99_method\u001b[1;34m(in_x, Rv, C1, C2, C3, C4, xo, gamma, optnir_axav_x, optnir_axav_y, valid_x_range, model_name)\u001b[0m\n\u001b[0;32m    130\u001b[0m \u001b[1;33m\u001b[0m\u001b[0m\n\u001b[0;32m    131\u001b[0m         \u001b[0mspline_x\u001b[0m \u001b[1;33m=\u001b[0m \u001b[0mnp\u001b[0m\u001b[1;33m.\u001b[0m\u001b[0mconcatenate\u001b[0m\u001b[1;33m(\u001b[0m\u001b[1;33m[\u001b[0m\u001b[0mx_splineval_optir\u001b[0m\u001b[1;33m,\u001b[0m \u001b[0mx_splineval_uv\u001b[0m\u001b[1;33m]\u001b[0m\u001b[1;33m)\u001b[0m\u001b[1;33m\u001b[0m\u001b[1;33m\u001b[0m\u001b[0m\n\u001b[1;32m--> 132\u001b[1;33m         \u001b[0mspline_y\u001b[0m \u001b[1;33m=\u001b[0m \u001b[0mnp\u001b[0m\u001b[1;33m.\u001b[0m\u001b[0mconcatenate\u001b[0m\u001b[1;33m(\u001b[0m\u001b[1;33m[\u001b[0m\u001b[0my_splineval_optir\u001b[0m\u001b[1;33m,\u001b[0m \u001b[0my_splineval_uv\u001b[0m\u001b[1;33m]\u001b[0m\u001b[1;33m)\u001b[0m\u001b[1;33m\u001b[0m\u001b[1;33m\u001b[0m\u001b[0m\n\u001b[0m\u001b[0;32m    133\u001b[0m         \u001b[0mspline_rep\u001b[0m \u001b[1;33m=\u001b[0m \u001b[0minterpolate\u001b[0m\u001b[1;33m.\u001b[0m\u001b[0msplrep\u001b[0m\u001b[1;33m(\u001b[0m\u001b[0mspline_x\u001b[0m\u001b[1;33m,\u001b[0m \u001b[0mspline_y\u001b[0m\u001b[1;33m)\u001b[0m\u001b[1;33m\u001b[0m\u001b[1;33m\u001b[0m\u001b[0m\n\u001b[0;32m    134\u001b[0m         \u001b[0maxav\u001b[0m\u001b[1;33m[\u001b[0m\u001b[0mindxs_opir\u001b[0m\u001b[1;33m]\u001b[0m \u001b[1;33m=\u001b[0m \u001b[0minterpolate\u001b[0m\u001b[1;33m.\u001b[0m\u001b[0msplev\u001b[0m\u001b[1;33m(\u001b[0m\u001b[0mx\u001b[0m\u001b[1;33m[\u001b[0m\u001b[0mindxs_opir\u001b[0m\u001b[1;33m]\u001b[0m\u001b[1;33m,\u001b[0m \u001b[0mspline_rep\u001b[0m\u001b[1;33m,\u001b[0m \u001b[0mder\u001b[0m\u001b[1;33m=\u001b[0m\u001b[1;36m0\u001b[0m\u001b[1;33m)\u001b[0m\u001b[1;33m\u001b[0m\u001b[1;33m\u001b[0m\u001b[0m\n",
      "\u001b[1;32m<__array_function__ internals>\u001b[0m in \u001b[0;36mconcatenate\u001b[1;34m(*args, **kwargs)\u001b[0m\n",
      "\u001b[1;31mKeyboardInterrupt\u001b[0m: "
     ]
    }
   ],
   "source": [
    "x = np.linspace(0.05, 1.1, 50)\n",
    "y = np.linspace(0.01, 0.3, 50)\n",
    "\n",
    "X, Y = np.meshgrid(x, y)\n",
    "Z = sys_err_array(0.3727,0.5007,X,Y)  # this is specific to 3727 / 5007\n",
    "\n",
    "#plt.contourf(X, Y, Z, 20, cmap='RdGy');\n",
    "#plt.contourf(X, Y, Z, 20, cmap='nipy_spectral'); #orig\n",
    "plt.contourf(X, Y, Z, 20, cmap='nipy_spectral',vmin=0,vmax=0.2); #KK\n",
    "#plt.colorbar();\n",
    "plt.xlabel('E(B-V)',fontsize=18,labelpad=0)\n",
    "plt.tick_params(labelsize=14)\n",
    "plt.ylabel('$\\epsilon_{unobscured}$',fontsize=18,labelpad=0)\n",
    "cbar = plt.colorbar()\n",
    "cbar.set_label('log(sys. [OII]/[OIII] error)', rotation=270,fontsize=16,labelpad=23)\n",
    "plt.savefig('systematic_dereddening_error_F99.pdf')"
   ]
  },
  {
   "cell_type": "code",
   "execution_count": 35,
   "metadata": {},
   "outputs": [
    {
     "data": {
      "text/plain": [
       "0.6071428571428572"
      ]
     },
     "execution_count": 35,
     "metadata": {},
     "output_type": "execute_result"
    }
   ],
   "source": [
    "x[26]"
   ]
  },
  {
   "cell_type": "code",
   "execution_count": 38,
   "metadata": {},
   "outputs": [
    {
     "name": "stdout",
     "output_type": "stream",
     "text": [
      "[0.01545847 0.02237865 0.02804622 0.03269961 0.03652403 0.03966527\n",
      " 0.04223945 0.04433998 0.04604273 0.04740979 0.04849236 0.04933295\n",
      " 0.04996706 0.0504245  0.05073042 0.05090615 0.05096984 0.05093701\n",
      " 0.05082095 0.05063313 0.0503834  0.05008033 0.04973132 0.04934283\n",
      " 0.04892047 0.04846914 0.04799314 0.04749622 0.04698167 0.04645238\n",
      " 0.04591091 0.04535948 0.04480006 0.0442344  0.04366402 0.04309027\n",
      " 0.04251434 0.04193728 0.04136    0.04078333 0.04020797 0.03963456\n",
      " 0.03906365 0.03849572 0.03793119 0.03737043 0.03681377 0.03626146\n",
      " 0.03571377 0.03517088]\n"
     ]
    },
    {
     "data": {
      "text/plain": [
       "0.04457002369620801"
      ]
     },
     "execution_count": 38,
     "metadata": {},
     "output_type": "execute_result"
    }
   ],
   "source": [
    "tmparr=Z[:,26]\n",
    "print(tmparr)\n",
    "np.median(tmparr)"
   ]
  },
  {
   "cell_type": "code",
   "execution_count": null,
   "metadata": {},
   "outputs": [],
   "source": []
  },
  {
   "cell_type": "markdown",
   "metadata": {},
   "source": [
    "The following uses HWs original code:"
   ]
  },
  {
   "cell_type": "code",
   "execution_count": 8,
   "metadata": {},
   "outputs": [],
   "source": [
    "##original from HW\n",
    "def line_ratio_reddening_orig(lam1,lam2,EBV,eps):\n",
    "    exp_alam1 = np.exp(-kl(lam1)*EBV) \n",
    "    exp_alam2 = np.exp(-kl(lam2)*EBV) \n",
    "    return (eps*(1-exp_alam1)+exp_alam1) / (eps*(1-exp_alam2)+exp_alam2)\n",
    "\n",
    "def estimate_EBV_orig(lam1,lam2,line_ratio_change):  # \"line_ratio_change\" is the ratio by \n",
    "    #which the observed line ratio differs from the expected (unreddened) one; e.g. 3.86 for the Balmer decrement\n",
    "    if (line_ratio_change>1.):\n",
    "        print('wrong line ration regime')\n",
    "    else:\n",
    "        return -np.log(line_ratio_change)/(kl(lam1)-kl(lam2))\n",
    "    \n",
    "def sys_err_orig(lam1,lam2,EBV,eps):  #  systematic error in dereddening line ratios at lam1 and lam2,\n",
    "                                 #  using the Balmer decrement, when E(B-V) and epsilon\n",
    "    BD_obs = line_ratio_reddening_orig(0.4868,0.6564,EBV,eps) # true amount by which the Balmer decretent is altered\n",
    "    EBV_estimated = estimate_EBV_orig(0.4868,0.6564,BD_obs)  # actually estimated B.d. to be from the observed line ratios\n",
    "    line_ratio_obs = line_ratio_reddening_orig(lam1,lam2,EBV,eps)\n",
    "    line_ratio_after_inferred_correction = line_ratio_reddening_orig(lam1,lam2,EBV_estimated,0.)\n",
    "    return line_ratio_obs/line_ratio_after_inferred_correction\n",
    "\n",
    "def sys_err_array_orig(lam1,lam2,X,Y):   # get the previous function for a 2D array\n",
    "    Z = 0*X\n",
    "    for i in range(len(X[0,:])):\n",
    "        for j in range(len(Y[:,0])):\n",
    "            Z[i,j] = np.log10( np.abs( sys_err_orig(lam1,lam2,X[i,j],Y[i,j]) ) ) #log to log10\n",
    "    return Z\n",
    "    "
   ]
  },
  {
   "cell_type": "code",
   "execution_count": 9,
   "metadata": {},
   "outputs": [
    {
     "data": {
      "image/png": "[encoded data removed]",
      "text/plain": [
       "<Figure size 432x288 with 2 Axes>"
      ]
     },
     "metadata": {
      "needs_background": "light"
     },
     "output_type": "display_data"
    }
   ],
   "source": [
    "x = np.linspace(0.05, 1.1, 50)\n",
    "y = np.linspace(0.01, 0.3, 50)\n",
    "\n",
    "X, Y = np.meshgrid(x, y)\n",
    "Z = sys_err_array_orig(0.3727,0.5007,X,Y)  # this is specific to 3727 / 5007\n",
    "\n",
    "#plt.contourf(X, Y, Z, 20, cmap='RdGy');\n",
    "#plt.contourf(X, Y, Z, 20, cmap='nipy_spectral'); #orig\n",
    "plt.contourf(X, Y, Z, 20, cmap='nipy_spectral',vmin=0,vmax=0.2); #KK\n",
    "#plt.colorbar();\n",
    "plt.xlabel('E(B-V)',fontsize=18,labelpad=10)\n",
    "plt.tick_params(labelsize=14)\n",
    "plt.ylabel('$\\epsilon_{unobscured}$',fontsize=18,labelpad=10)\n",
    "plt.clim([0,.2])#KK\n",
    "cbar = plt.colorbar()\n",
    "cbar.set_label('log(sys. [OII]/[OIII] error)', rotation=270,fontsize=16,labelpad=23)\n",
    "plt.savefig('systematic_dereddening_error_orig.pdf')"
   ]
  },
  {
   "cell_type": "code",
   "execution_count": null,
   "metadata": {},
   "outputs": [],
   "source": []
  },
  {
   "cell_type": "markdown",
   "metadata": {},
   "source": [
    "Now assume there is a certain foreground absorption of E(B-V), that covers all but $\\epsilon$ of the spaxel (where the flux emerges unattenuated).\n",
    "Let's make a 2D plot of the systematic error incurred when using the Balmer decrement to de-reddene [SII]/[SIII], as a function of E(B-V) and $\\epsilon$"
   ]
  },
  {
   "cell_type": "code",
   "execution_count": 39,
   "metadata": {},
   "outputs": [
    {
     "name": "stderr",
     "output_type": "stream",
     "text": [
      "WARNING: AstropyDeprecationWarning: Class FM90 defines class attributes ``inputs``.\n",
      "            This has been deprecated in v4.0 and support will be removed in v4.1.\n",
      "            Starting with v4.0 classes must define a class attribute ``n_inputs``.\n",
      "            Please consult the documentation for details.\n",
      "             [astropy.modeling.core]\n"
     ]
    },
    {
     "data": {
      "image/png": "[encoded data removed]",
      "text/plain": [
       "<Figure size 432x288 with 2 Axes>"
      ]
     },
     "metadata": {
      "needs_background": "light"
     },
     "output_type": "display_data"
    }
   ],
   "source": [
    "x = np.linspace(0.05, 1.1, 50)\n",
    "y = np.linspace(0.01, 0.3, 50)\n",
    "\n",
    "X, Y = np.meshgrid(x, y)\n",
    "Z = sys_err_array(0.9069,0.6716,X,Y)  # this is specific to 3727 / 5007\n",
    "\n",
    "#plt.contourf(X, Y, Z, 20, cmap='RdGy');\n",
    "#plt.contourf(X, Y, Z, 20, cmap='nipy_spectral'); #orig\n",
    "plt.contourf(X, Y, Z, 20, cmap='nipy_spectral',vmin=0,vmax=0.2); #KK\n",
    "#plt.colorbar();\n",
    "plt.xlabel('E(B-V)',fontsize=18,labelpad=0)\n",
    "plt.tick_params(labelsize=14)\n",
    "plt.ylabel('$\\epsilon_{unobscured}$',fontsize=18,labelpad=0)\n",
    "cbar = plt.colorbar()\n",
    "cbar.set_label('log(sys. [SIII]/[SII] error)', rotation=270,fontsize=16,labelpad=23)\n",
    "plt.savefig('systematic_dereddening_error_F99_Sulphur.pdf')"
   ]
  },
  {
   "cell_type": "code",
   "execution_count": 41,
   "metadata": {},
   "outputs": [
    {
     "data": {
      "text/plain": [
       "0.03821199487020278"
      ]
     },
     "execution_count": 41,
     "metadata": {},
     "output_type": "execute_result"
    }
   ],
   "source": [
    "tmparr=Z[:,26]\n",
    "np.median(tmparr)"
   ]
  },
  {
   "cell_type": "code",
   "execution_count": null,
   "metadata": {},
   "outputs": [],
   "source": []
  }
 ],
 "metadata": {
  "kernelspec": {
   "display_name": "Python 3",
   "language": "python",
   "name": "python3"
  },
  "language_info": {
   "codemirror_mode": {
    "name": "ipython",
    "version": 3
   },
   "file_extension": ".py",
   "mimetype": "text/x-python",
   "name": "python",
   "nbconvert_exporter": "python",
   "pygments_lexer": "ipython3",
   "version": "3.7.3"
  },
  "toc": {
   "base_numbering": 1,
   "nav_menu": {},
   "number_sections": true,
   "sideBar": true,
   "skip_h1_title": false,
   "title_cell": "Table of Contents",
   "title_sidebar": "Contents",
   "toc_cell": false,
   "toc_position": {},
   "toc_section_display": true,
   "toc_window_display": false
  }
 },
 "nbformat": 4,
 "nbformat_minor": 2
}
