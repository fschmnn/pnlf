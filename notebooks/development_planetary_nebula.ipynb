{
 "cells": [
  {
   "cell_type": "markdown",
   "metadata": {},
   "source": [
    "# Planetary Nebula <a class=\"tocSkip\">\n",
    "    \n",
    "This notebook is used to test and showcase the results of my first project. I use spectroscopic data from the [Multi Unit Spectroscopic Explorer](https://www.eso.org/sci/facilities/develop/instruments/muse.html) (MUSE) that has been observed as part of the [PHANGS](https://sites.google.com/view/phangs/home) collaboration.\n",
    "    \n",
    "I will use a set of line maps of emission lines to identify Planetary Nebula in the data an measure their brightness. This can then be used to fit an empiric relation and hence measure the distance to the galaxy.\n",
    "    \n",
    "This notebook is used for developement. Final code is moved to the `pymuse` packge in the `src` folder. Any production scripts reside in the `scripts` folder."
   ]
  },
  {
   "cell_type": "markdown",
   "metadata": {},
   "source": [
    "## Preparation\n",
    " \n",
    "### Load Basic Packages\n",
    "    \n",
    "First we load a bunch of common packages that are used across the project. More specific packages that are only used in one section are loaded later to make it clear where they belong to (this also applies to all custom moduls that were written for this project)."
   ]
  },
  {
   "cell_type": "code",
   "execution_count": 1,
   "metadata": {},
   "outputs": [],
   "source": [
    "# reload modules after they have been modified\n",
    "%load_ext autoreload\n",
    "%autoreload 2\n",
    "\n",
    "# some basic packages\n",
    "import os                 # filesystem related stuff\n",
    "import json\n",
    "from pathlib import Path  # use instead of os.path and glob\n",
    "import sys                # mostly replaced by pathlib\n",
    "import re\n",
    "\n",
    "import errno      # more detailed error messages\n",
    "import warnings   # handles warnings\n",
    "import logging    # use logging instead of print\n",
    "\n",
    "from collections import OrderedDict  \n",
    "\n",
    "# packages for scientific computing\n",
    "import numpy as np\n",
    "import scipy as sp\n",
    "\n",
    "# packages for creating plots and figures\n",
    "import matplotlib as mpl\n",
    "import matplotlib.pyplot as plt\n",
    "\n",
    "%matplotlib inline\n",
    "%config InlineBackend.figure_format = 'retina'\n",
    "\n",
    "# special functions for astronomy \n",
    "import astropy\n",
    "from astropy.table import Table  # useful datastructure\n",
    "from astropy.table import vstack # combine multiple tables\n",
    "\n",
    "from astropy.io import fits      # open fits files\n",
    "from astropy.io import ascii     # handle normal files\n",
    "\n",
    "from astropy.wcs import WCS               # handle coordinates\n",
    "from astropy.coordinates import SkyCoord  # convert pixel to sky coordinates\n",
    "from astropy.visualization import simple_norm\n",
    "\n",
    "from astropy.stats import sigma_clipped_stats  # calcualte statistics of images\n",
    "\n",
    "import astropy.units as u        # handle units\n",
    "\n",
    "# first we need to specify the path to the raw data\n",
    "data_raw = Path('d:\\downloads\\MUSEDAP')\n",
    "basedir = Path('..')\n",
    "\n",
    "tab10 = ['#e15759','#4e79a7','#f28e2b','#76b7b2','#59a14e','#edc949','#b07aa2','#ff9da7','#9c755f','#bab0ac']    \n",
    "plt.style.use('TeX.mplstyle')"
   ]
  },
  {
   "cell_type": "markdown",
   "metadata": {},
   "source": [
    "we use the `logging` module to handle informations and warnings (this does not always work as expected in jupyter notebooks)."
   ]
  },
  {
   "cell_type": "code",
   "execution_count": 2,
   "metadata": {},
   "outputs": [],
   "source": [
    "logging.basicConfig(stream=sys.stdout,\n",
    "                    #format='(levelname)s %(name)s %(message)s',\n",
    "                    datefmt='%H:%M:%S',\n",
    "                    level=logging.INFO)\n",
    "\n",
    "logger = logging.getLogger(__name__)"
   ]
  },
  {
   "cell_type": "markdown",
   "metadata": {},
   "source": [
    "### Reference files\n",
    "\n",
    "Here are some previous studies that detected PN in some of our galaxies"
   ]
  },
  {
   "cell_type": "code",
   "execution_count": 3,
   "metadata": {},
   "outputs": [],
   "source": [
    "from pymuse.auxiliary import search_table, Distance\n",
    "\n",
    "filename = basedir / 'data' / 'raw' / 'phangs_sample_table_v1p4.fits'\n",
    "with fits.open(filename) as hdul:\n",
    "    sample_table = Table(hdul[1].data)"
   ]
  },
  {
   "cell_type": "code",
   "execution_count": 4,
   "metadata": {},
   "outputs": [
    {
     "data": {
      "text/html": [
       "<i>Table length=1</i>\n",
       "<table id=\"table2734000559720\" class=\"table-striped table-bordered table-condensed\">\n",
       "<thead><tr><th>NAME</th><th>PGC</th><th>ALIAS</th><th>TAGS</th><th>HAS_ALMA</th><th>HAS_ALMA_COMMENT</th><th>HAS_ASTROSAT</th><th>HAS_ASTROSAT_COMMENT</th><th>HAS_DENSE</th><th>HAS_DENSE_COMMENT</th><th>HAS_GALEX</th><th>HAS_GALEX_COMMENT</th><th>HAS_HALPHA</th><th>HAS_HALPHA_COMMENT</th><th>HAS_HERSCHEL</th><th>HAS_HERSCHEL_COMMENT</th><th>HAS_HI</th><th>HAS_HI_COMMENT</th><th>HAS_HST</th><th>HAS_HST_COMMENT</th><th>HAS_OTHERCO</th><th>HAS_OTHERCO_COMMENT</th><th>HAS_IRAC</th><th>HAS_IRAC_COMMENT</th><th>HAS_MUSE</th><th>HAS_MUSE_COMMENT</th><th>HAS_WISE</th><th>HAS_WISE_COMMENT</th><th>DIST</th><th>DIST_UNC</th><th>DIST_CODE</th><th>DIST_LABEL</th><th>DIST_REF</th><th>DIST_COMMENT</th><th>ORIENT_RA</th><th>ORIENT_DEC</th><th>ORIENT_CENTER_LABEL</th><th>ORIENT_POSANG</th><th>ORIENT_POSANG_UNC</th><th>ORIENT_POSANG_LABEL</th><th>ORIENT_INCL</th><th>ORIENT_INCL_UNC</th><th>ORIENT_INCL_LABEL</th><th>ORIENT_VLSR</th><th>ORIENT_VLSR_UNC</th><th>ORIENT_VLSR_LABEL</th><th>ORIENT_COMMENT</th><th>MWAV_SFD98</th><th>MWAV_SF11</th><th>MWAV_COMMENT</th><th>MORPH_T</th><th>MORPH_T_LABEL</th><th>MORPH_STRING</th><th>MORPH_STRING_LABEL</th><th>MORPH_NUC</th><th>MORPH_NUC_LABEL</th><th>MORPH_BAR</th><th>MORPH_BAR_LABEL</th><th>MORPH_COMMENT</th><th>MSTAR_LOGW1</th><th>MSTAR_LOGW1_UNC</th><th>MSTAR_MTOLW1</th><th>MSTAR_MTOLW1_UNC</th><th>MSTAR_LOGMSTAR</th><th>MSTAR_LOGMSTAR_UNC</th><th>MSTAR_LABEL</th><th>MSTAR_COMMENT</th><th>SFR_LOGSFR</th><th>SFR_LOGSFR_UNC</th><th>SFR_LOGSFR_LABEL</th><th>SFR_LOGLFIR</th><th>SFR_LFIR_UNC</th><th>SFR_LOGLFIR_LABEL</th><th>SFR_COMMENT</th><th>DELTAMS</th><th>DELTAMS_UNC</th><th>DELTAMS_MSLOGSFR</th><th>DELTAMS_COMMENT</th><th>CO_LOGLCO</th><th>CO_LOGLCO_UNC</th><th>CO_APPCORR</th><th>CO_APPCORR_UNC</th><th>CO_ALPHACO</th><th>CO_ALPHACO_UNC</th><th>CO_ALPHACO_LABEL</th><th>CO_LOGMH2</th><th>CO_LOGMH2_UNC</th><th>CO_COMMENT</th><th>HI_LOGMHI</th><th>HI_LOGMHI_UNC</th><th>HI_LOGMHI_LABEL</th><th>HI_COMMENT</th><th>SIZE_OPT_R25</th><th>SIZE_OPT_R25_UNC</th><th>SIZE_OPT_R25_LABEL</th><th>SIZE_W1_R50</th><th>SIZE_W1_R50_UNC</th><th>SIZE_W1_R90</th><th>SIZE_W1_R90_UNC</th><th>SIZE_W1_LABEL</th><th>SIZE_SFR_R50</th><th>SIZE_SFR_R50_UNC</th><th>SIZE_SFR_R90</th><th>SIZE_SFR_R90_UNC</th><th>SIZE_SFR_LABEL</th><th>SIZE_CO_R50</th><th>SIZE_CO_R50_UNC</th><th>SIZE_APPCORR_CO_R50</th><th>SIZE_CO_R90</th><th>SIZE_CO_R90_UNC</th><th>SIZE_APPCORR_CO_R90</th><th>SIZE_CO_LABEL</th><th>SIZE_HI</th><th>SIZE_HI_UNC</th><th>SIZE_HI_LABEL</th><th>METAL_OBS</th><th>METAL_OBS_UNC</th><th>METAL_OBS_LABEL</th><th>METAL_PRED</th><th>METAL_PRED_UNC</th><th>METAL_PRED_LABEL</th><th>METAL_COMMENT</th><th>VERSION</th><th>DATE</th></tr></thead>\n",
       "<thead><tr><th>str10</th><th>int32</th><th>str369</th><th>str1</th><th>uint8</th><th>str1</th><th>uint8</th><th>str10</th><th>uint8</th><th>str1</th><th>uint8</th><th>str8</th><th>uint8</th><th>str13</th><th>uint8</th><th>str29</th><th>uint8</th><th>str12</th><th>uint8</th><th>str19</th><th>uint8</th><th>str1</th><th>uint8</th><th>str16</th><th>uint8</th><th>str12</th><th>uint8</th><th>str12</th><th>float32</th><th>float32</th><th>int32</th><th>str7</th><th>str1</th><th>str1</th><th>float32</th><th>float32</th><th>str4</th><th>float32</th><th>float32</th><th>str13</th><th>float32</th><th>float32</th><th>str13</th><th>float32</th><th>float32</th><th>str11</th><th>str1</th><th>float32</th><th>float32</th><th>str1</th><th>float32</th><th>str4</th><th>str1</th><th>str1</th><th>str1</th><th>str1</th><th>uint8</th><th>str4</th><th>str1</th><th>float32</th><th>float32</th><th>float32</th><th>float32</th><th>float32</th><th>float32</th><th>str21</th><th>str1</th><th>float32</th><th>float32</th><th>str1</th><th>float32</th><th>float32</th><th>str1</th><th>str1</th><th>float32</th><th>float32</th><th>float32</th><th>str1</th><th>float32</th><th>float32</th><th>float32</th><th>float32</th><th>float32</th><th>float32</th><th>str1</th><th>float32</th><th>float32</th><th>str1</th><th>float32</th><th>float32</th><th>str4</th><th>str1</th><th>float32</th><th>float32</th><th>str4</th><th>float32</th><th>float32</th><th>float32</th><th>float32</th><th>str16</th><th>float32</th><th>float32</th><th>float32</th><th>float32</th><th>str16</th><th>float32</th><th>float32</th><th>float32</th><th>float32</th><th>float32</th><th>float32</th><th>str18</th><th>float32</th><th>float32</th><th>str13</th><th>float32</th><th>float32</th><th>str1</th><th>float32</th><th>float32</th><th>str1</th><th>str1</th><th>int16</th><th>str28</th></tr></thead>\n",
       "<tr><td>NGC1512</td><td>14391</td><td>2MASXJ04035428-4320558;AGC023162;ESO250-004;ESOLV2500040;HIPASSJ0403-43;IRAS04022-4329;LGG108:[G93]003;MCG-07-09-007;NGC1512;PGC014391;PGC14391</td><td></td><td>1</td><td></td><td>1</td><td>archive</td><td>0</td><td></td><td>1</td><td>NUV;FUV;</td><td>1</td><td>WFI/SINGS/LVL</td><td>1</td><td>PACS70;PACS100;PACS160;SPIRE;</td><td>0</td><td></td><td>0</td><td></td><td>0</td><td></td><td>1</td><td>S4G</td><td>1</td><td>observed</td><td>1</td><td>W1;W2;W3;W4;</td><td>16.8</td><td>0.125</td><td>0</td><td>OTHER</td><td></td><td></td><td>60.975574</td><td>-43.348724</td><td>LEDA</td><td>263.8</td><td>2.0</td><td>LANGMEIDT19</td><td>42.5</td><td>6.0</td><td>LANGMEIDT19</td><td>871.42554</td><td>5.0</td><td>LANGMEIDT19</td><td></td><td>0.032807086</td><td>0.032807037</td><td></td><td>1.2</td><td>LEDA</td><td></td><td></td><td></td><td></td><td>1</td><td>LEDA</td><td></td><td>10.880576</td><td>nan</td><td>0.48404998</td><td>nan</td><td>10.565467</td><td>nan</td><td>LOCAL_M/L_Z0MGS_WISE1</td><td></td><td>nan</td><td>nan</td><td></td><td>nan</td><td>nan</td><td></td><td></td><td>nan</td><td>nan</td><td>nan</td><td></td><td>nan</td><td>nan</td><td>nan</td><td>nan</td><td>nan</td><td>nan</td><td></td><td>nan</td><td>nan</td><td></td><td>9.78073</td><td>nan</td><td>LEDA</td><td></td><td>253.00044</td><td>nan</td><td>LEDA</td><td>46.347046</td><td>nan</td><td>162.77306</td><td>nan</td><td>FIT_TO_MAJORAXIS</td><td>69.90501</td><td>nan</td><td>258.97064</td><td>nan</td><td>FIT_TO_MAJORAXIS</td><td>48.52832</td><td>nan</td><td>nan</td><td>89.75462</td><td>nan</td><td>nan</td><td>INTEGRATED_PROFILE</td><td>556.11584</td><td>nan</td><td>WANG16SCALING</td><td>nan</td><td>nan</td><td></td><td>nan</td><td>nan</td><td></td><td></td><td>1</td><td>Thu Dec  5 08:55:37 EST 2019</td></tr>\n",
       "</table>"
      ],
      "text/plain": [
       "<Table length=1>\n",
       "   NAME     PGC  ... VERSION             DATE            \n",
       "  str10    int32 ...  int16             str28            \n",
       "---------- ----- ... ------- ----------------------------\n",
       "NGC1512    14391 ...       1 Thu Dec  5 08:55:37 EST 2019"
      ]
     },
     "execution_count": 4,
     "metadata": {},
     "output_type": "execute_result"
    }
   ],
   "source": [
    "search_table(sample_table,'NGC1512')"
   ]
  },
  {
   "cell_type": "code",
   "execution_count": 3,
   "metadata": {},
   "outputs": [],
   "source": [
    "from pymuse.load_references import pn_NGC628_kreckel, \\\n",
    "                                   snr_NGC628_kreckel, \\\n",
    "                                   pn_NGC628_herrmann, \\\n",
    "                                   pn_NGC5068_herrmann, \\\n",
    "                                   pn_NGC3351_ciardullo, \\\n",
    "                                   pn_NGC3627_ciardullo"
   ]
  },
  {
   "cell_type": "markdown",
   "metadata": {},
   "source": [
    "### Read in data\n",
    "\n",
    "this uses the `ReadLineMaps` class from the `pymuse.io` module. To use it, we first need to specify the path to the data folder"
   ]
  },
  {
   "cell_type": "code",
   "execution_count": 4,
   "metadata": {},
   "outputs": [],
   "source": [
    "extensions=['OIII5006', 'HA6562', 'NII6583', 'SII6716','HB4861','OIII4958']"
   ]
  },
  {
   "cell_type": "code",
   "execution_count": 5,
   "metadata": {},
   "outputs": [
    {
     "name": "stdout",
     "output_type": "stream",
     "text": [
      "INFO:pymuse.io:loading NGC628\n",
      "INFO:pymuse.io:replacing OIII5006 map\n",
      "INFO:pymuse.io:file loaded with 6 extensions\n"
     ]
    }
   ],
   "source": [
    "from pymuse.io import ReadLineMaps\n",
    "\n",
    "name = 'NGC628'\n",
    "\n",
    "# list all files in the specified directory\n",
    "galaxies = [x.name for x in data_raw.iterdir() if x.is_dir()]\n",
    "\n",
    "# read in the data we will be working with and print some information\n",
    "galaxy = ReadLineMaps(data_raw / name,extensions=extensions)\n",
    "\n",
    "with fits.open(data_raw / name / f'{name}_starmask.fits') as hdul:\n",
    "    star_mask = hdul[0].data\n",
    "    \n",
    "mask = np.zeros(galaxy.shape,dtype=bool)\n",
    "mask |= star_mask.astype(bool)"
   ]
  },
  {
   "cell_type": "markdown",
   "metadata": {},
   "source": [
    "## Source Detection\n",
    "\n",
    "There are two different approaches to identifying sources in an image. The first utilizes PSF fitting and uses implementations from astropy. The other uses the external `SExtractor` package which detects peaks and classifies them with a neural network."
   ]
  },
  {
   "cell_type": "markdown",
   "metadata": {},
   "source": [
    "### Based on IRAFStarFinder or DAOStarFinder\n",
    "\n",
    "The sources we are searching for are unresolved. However due to seeing, they will be smeared out. This PSF has the form of a Gaussian (or Moffat). The subsequent algorithms use this and try to fit a theoretical curve to the observed peaks in the image. If the fit aggrees within some threshold, it reports the peak as a source. The advantage is that for crowded fields, the algorithm will try to fit an individual function to each peak and thus enable us correctly identfiy objects that are closeby.\n",
    "\n",
    "The following function is based on this tutorial \n",
    "\n",
    "https://photutils.readthedocs.io/en/stable/detection.html\n",
    "\n",
    "https://photutils.readthedocs.io/en/stable/api/photutils.detection.DAOStarFinder.html#photutils.detection.DAOStarFinder\n",
    "\n",
    "**Requires**\n",
    " * A `photutils` starfinder. This can be either `DAOStarFinder` or `IRAFStarFinder`\n",
    " * `detect_unresolved_sources`\n",
    " \n",
    "**Returns**\n",
    " * `sources` a table with the position of all identified sources"
   ]
  },
  {
   "cell_type": "code",
   "execution_count": 6,
   "metadata": {},
   "outputs": [],
   "source": [
    "from photutils import DAOStarFinder            # DAOFIND routine to detect sources\n",
    "from photutils import IRAFStarFinder           # IRAF starfind routine to detect star\n",
    "\n",
    "from pymuse.detection import detect_unresolved_sources"
   ]
  },
  {
   "cell_type": "code",
   "execution_count": 7,
   "metadata": {
    "scrolled": true
   },
   "outputs": [
    {
     "name": "stdout",
     "output_type": "stream",
     "text": [
      "threshold: 3.5\n",
      "round:     0.7\n",
      "sharplo:   0.1\n",
      "sharphi:   0.6\n",
      "masking 51.75 % of the image\n",
      "INFO:pymuse.detection:searching for sources in NGC628 with [OIII5006_DAP] line map (using DAOStarFinder)\n",
      "\n",
      "INFO:pymuse.detection:searching for sources in 10 pointings\n",
      "INFO:pymuse.detection:     fwhm   #N    mean  median     std\n",
      "INFO:pymuse.detection:  2.965px   43  52.891  47.587  42.174\n",
      "INFO:pymuse.detection:  3.170px  149  60.882  53.915  47.245\n",
      "INFO:pymuse.detection:  3.380px   80  56.896  49.327  50.321\n",
      "INFO:pymuse.detection:  3.560px   85  43.732  38.230  37.349\n",
      "INFO:pymuse.detection:  3.565px   74  78.176  67.861  69.437\n",
      "INFO:pymuse.detection:  3.685px   51  43.085  38.339  33.530\n",
      "INFO:pymuse.detection:  3.715px  199  43.931  38.169  37.439\n",
      "INFO:pymuse.detection:  3.815px   98  64.686  56.461  53.556\n",
      "INFO:pymuse.detection:  3.875px   93  48.961  43.426  38.521\n",
      "INFO:pymuse.detection:  4.090px   72  43.104  37.612  34.527\n",
      "INFO:pymuse.detection:  total    944\n"
     ]
    }
   ],
   "source": [
    "with open(basedir / 'data' / 'interim' / 'parameters.json') as json_file:\n",
    "    parameters = json.load(json_file)\n",
    "    \n",
    "setattr(galaxy,'binsize',parameters[galaxy.name]['binsize'])\n",
    "setattr(galaxy,'mu',parameters[galaxy.name]['mu'])\n",
    "setattr(galaxy,'alpha',parameters[galaxy.name]['power_index'])\n",
    "setattr(galaxy,'completeness_limit',parameters[galaxy.name]['completeness_limit'])\n",
    "setattr(galaxy,'roundness',parameters[galaxy.name]['roundness'])\n",
    "setattr(galaxy,'sharplo',parameters[galaxy.name]['sharplo'])\n",
    "setattr(galaxy,'sharphi',parameters[galaxy.name]['sharphi'])\n",
    "setattr(galaxy,'threshold',parameters[galaxy.name]['threshold'])\n",
    "setattr(galaxy,'zoomin',parameters[galaxy.name]['zoomin'])\n",
    "\n",
    "\n",
    "threshold = galaxy.threshold\n",
    "oversize  = 1.\n",
    "\n",
    "roundness = galaxy.roundness\n",
    "sharplo   = galaxy.sharplo\n",
    "sharphi   = galaxy.sharphi\n",
    "\n",
    "print(f'threshold: {threshold}\\nround:     {roundness}\\nsharplo:   {sharplo}\\nsharphi:   {sharphi}')\n",
    "\n",
    "sources = detect_unresolved_sources(galaxy,\n",
    "                                    'OIII5006_DAP',\n",
    "                                    StarFinder=DAOStarFinder,\n",
    "                                    threshold=threshold,\n",
    "                                    exclude_region=mask,\n",
    "                                    oversize=oversize,\n",
    "                                    roundlo=-roundness,\n",
    "                                    roundhi=roundness,\n",
    "                                    sharplo=sharplo,\n",
    "                                    sharphi=sharphi,\n",
    "                                    exclude_border=True,\n",
    "                                    save=False)"
   ]
  },
  {
   "cell_type": "markdown",
   "metadata": {},
   "source": [
    "#### Compare to Kreckel et al. 2017\n",
    "\n",
    "As mentioned in the beginning, we compare the newly detected sources to those from Kreckel et al. (2017). \n",
    "\n",
    "**Requires**\n",
    " * `match_coordinates_sky` from `astropy.coordinates` to compare the two catalogues.\n",
    " * `Angle` from `astropy.coordinates` to set a maximum seperation in units of arcseconds."
   ]
  },
  {
   "cell_type": "code",
   "execution_count": 13,
   "metadata": {},
   "outputs": [
    {
     "name": "stdout",
     "output_type": "stream",
     "text": [
      "42 of 63 match within 0.5s\": 66.7 %\n",
      "mean seperation is 0.202412\"\n"
     ]
    }
   ],
   "source": [
    "from astropy.coordinates import match_coordinates_sky # match sources against existing catalog\n",
    "from astropy.coordinates import Angle                 # work with angles (e.g. 1°2′3″)\n",
    "\n",
    "tolerance = '0.5s'\n",
    "ID, angle, Quantity  = match_coordinates_sky(pn_NGC628_kreckel['SkyCoord'],sources['SkyCoord'])\n",
    "within_tolerance = len(angle[angle.__lt__(Angle(tolerance))])\n",
    "\n",
    "print(f'{within_tolerance} of {len(angle)} match within {tolerance}\": {within_tolerance / len(angle)*100:.1f} %')\n",
    "print(f'mean seperation is {angle[angle.__lt__(Angle(tolerance))].mean().to_string(u.arcsec,decimal=True)}\"')"
   ]
  },
  {
   "cell_type": "markdown",
   "metadata": {
    "heading_collapsed": true
   },
   "source": [
    "#### Compare to Herrmann 2008 for NGC628"
   ]
  },
  {
   "cell_type": "code",
   "execution_count": null,
   "metadata": {
    "hidden": true
   },
   "outputs": [],
   "source": [
    "matchcoord = search_table(pn_herrmann,'M74')\n",
    "matchcoord['x'],matchcoord['y']= matchcoord['SkyCoord'].to_pixel(wcs=galaxy.wcs)\n",
    "\n",
    "matchcoord['in_frame'] = False\n",
    "x_dim,y_dim = galaxy.shape\n",
    "\n",
    "for row in matchcoord:\n",
    "    txt,x,y = row['ID'], row['x'], row['y']    \n",
    "    if 0<=int(x)<x_dim and 0<=int(y)<y_dim:\n",
    "        if not np.isnan(galaxy.PSF[int(x),int(y)]):\n",
    "            row['in_frame'] = True\n",
    "\n",
    "matchcoord = matchcoord[matchcoord['in_frame']]\n",
    "#matchcoord = matchcoord[matchcoord['in_frame']]\n",
    "#data = [d for d in matchcoord['m5007']]\n",
    "#data = matchcoord[matchcoord['in_frame']]['m5007']"
   ]
  },
  {
   "cell_type": "code",
   "execution_count": null,
   "metadata": {
    "hidden": true
   },
   "outputs": [],
   "source": [
    "fig = plt.figure(figsize=(6.974,6.974))\n",
    "ax1 = fig.add_subplot(111,projection=galaxy.wcs)\n",
    "\n",
    "norm = simple_norm(galaxy.OIII5006_DAP,'linear',clip=False,max_percent=95)\n",
    "ax1.imshow(galaxy.OIII5006_DAP,norm=norm,cmap=plt.cm.Blues_r)\n",
    "\n",
    "ax1.scatter(matchcoord['x'],matchcoord['y'],marker='o',s=2,c='tab:red')\n",
    "for row in matchcoord:\n",
    "    txt,x,y = row['ID'], row['x']+5, row['y']    \n",
    "    ax1.annotate(txt, (x, y),fontsize=4,color='tab:red')\n",
    "    \n",
    "plt.savefig(basedir / 'reports' / 'NGC628_Herrmann.pdf',dpi=600)"
   ]
  },
  {
   "cell_type": "code",
   "execution_count": null,
   "metadata": {
    "hidden": true
   },
   "outputs": [],
   "source": [
    "from astropy.coordinates import match_coordinates_sky # match sources against existing catalog\n",
    "from astropy.coordinates import Angle                 # work with angles (e.g. 1°2′3″)\n",
    "\n",
    "# ((tbl['type']=='PN') | (tbl['type']=='SNR')) & \n",
    "catalogcoord = tbl[(tbl['mOIII']<27.5)]\n",
    "    \n",
    "tolerance = '1s'\n",
    "ID, angle, Quantity  = match_coordinates_sky(matchcoord['SkyCoord'],catalogcoord['SkyCoord'])\n",
    "within_tolerance = len(angle[angle.__lt__(Angle(tolerance))])\n",
    "\n",
    "print(f'{within_tolerance} of {len(angle)} match within {tolerance}\": {within_tolerance / len(angle)*100:.1f} %')\n",
    "print(f'mean seperation is {angle[angle.__lt__(Angle(tolerance))].mean().to_string(u.arcsec,decimal=True)}\"')"
   ]
  },
  {
   "cell_type": "code",
   "execution_count": null,
   "metadata": {
    "hidden": true
   },
   "outputs": [],
   "source": [
    "idx, angle, quan = match_coordinates_sky(SkyCoord('01h36m41.76s','15d47m57.4s'),catalogcoord['SkyCoord'])\n",
    "catalogcoord[idx]"
   ]
  },
  {
   "cell_type": "code",
   "execution_count": null,
   "metadata": {
    "hidden": true
   },
   "outputs": [],
   "source": [
    "from photutils import CircularAperture\n",
    "from pymuse.plot.plot import create_RGB\n",
    "rgb = create_RGB(galaxy.SII6716,galaxy.HA6562,galaxy.OIII5006_DAP,percentile=96)\n",
    "\n",
    "fig = plt.figure(figsize=(6.974,6.974))\n",
    "ax1 = fig.add_subplot(111,projection=galaxy.wcs)\n",
    "\n",
    "norm = simple_norm(galaxy.OIII5006_DAP,'linear',clip=False,max_percent=95)\n",
    "#ax1.imshow(galaxy.OIII5006_DAP,norm=norm,cmap=plt.cm.Blues)\n",
    "ax1.imshow(rgb)\n",
    "\n",
    "positions = np.transpose([matchcoord['x'],matchcoord['y']])\n",
    "apertures = CircularAperture(positions, r=6)\n",
    "apertures.plot(color='tab:red',lw=.3, alpha=1,ax=ax1)\n",
    "\n",
    "positions = np.transpose([catalogcoord['x'],catalogcoord['y']])\n",
    "apertures = CircularAperture(positions, r=6)\n",
    "apertures.plot(color='tab:orange',lw=.3, alpha=1,ax=ax1)\n",
    "\n",
    "for row in matchcoord:\n",
    "    txt,x,y = row['ID'], row['x']+5, row['y']    \n",
    "    ax1.annotate(txt, (x, y),fontsize=4,color='tab:red')\n",
    "    \n",
    "plt.savefig(basedir / 'reports' / 'NGC628_Herrmann.pdf',dpi=600)"
   ]
  },
  {
   "cell_type": "code",
   "execution_count": null,
   "metadata": {
    "hidden": true
   },
   "outputs": [],
   "source": [
    "matchcoord['type'] = catalogcoord[ID]['type']\n",
    "matchcoord['sep']  = angle\n",
    "matchcoord['mOIII'] = catalogcoord[ID]['mOIII']\n",
    "matchcoord['dmOIII'] = catalogcoord[ID]['dmOIII']\n",
    "\n",
    "fig,ax = plt.subplots(figsize=(7,7))\n",
    "\n",
    "# we only use sources when their position agrees within this tolerance\n",
    "tolerance = '1.0\"'\n",
    "\n",
    "ax.errorbar(matchcoord[matchcoord['sep'].__lt__(Angle(tolerance))]['m5007'],\n",
    "            matchcoord[matchcoord['sep'].__lt__(Angle(tolerance))]['mOIII'],\n",
    "            yerr=3*matchcoord[matchcoord['sep'].__lt__(Angle(tolerance))]['dmOIII'],\n",
    "            xerr=0.15,\n",
    "            fmt='o')\n",
    "\n",
    "ax.scatter(matchcoord[matchcoord['sep'].__gt__(Angle(tolerance))]['m5007'],\n",
    "           matchcoord[matchcoord['sep'].__gt__(Angle(tolerance))]['m5007'],color='tab:red')\n",
    "\n",
    "ax.plot([25.3,27.5],[25.3,27.5],color='black',lw=0.4)\n",
    "ax.plot([25.3,27.5],[24.8,27.],color='black',lw=0.2,ls='--')\n",
    "ax.plot([25.3,27.5],[25.8,28.],color='black',lw=0.2,ls='--')\n",
    "ax.set_xlabel(r'$\\mathrm{m}_{[\\mathrm{OIII}]}$ Herrmann et al. 2008',fontsize=16)\n",
    "ax.set_ylabel(r'$\\mathrm{m}_{[\\mathrm{OIII}]}$ this work',fontsize=16)\n",
    "\n",
    "plt.show()"
   ]
  },
  {
   "cell_type": "markdown",
   "metadata": {
    "heading_collapsed": true
   },
   "source": [
    "#### Compare to Herrmann 2008 for NGC5068"
   ]
  },
  {
   "cell_type": "code",
   "execution_count": null,
   "metadata": {
    "hidden": true
   },
   "outputs": [],
   "source": [
    "matchcoord = pn_NGC5068\n",
    "matchcoord['x'],matchcoord['y']= matchcoord['SkyCoord'].to_pixel(wcs=galaxy.wcs)\n",
    "\n",
    "matchcoord['in_frame'] = False\n",
    "x_dim,y_dim = galaxy.shape\n",
    "\n",
    "for row in matchcoord:\n",
    "    txt,x,y = row['ID'], row['x'], row['y']    \n",
    "    if 0<=int(x)<x_dim and 0<=int(y)<y_dim:\n",
    "        if not np.isnan(galaxy.PSF[int(x),int(y)]):\n",
    "            row['in_frame'] = True\n",
    "\n",
    "matchcoord = matchcoord[matchcoord['in_frame']]\n",
    "#matchcoord = matchcoord[matchcoord['in_frame']]\n",
    "#data = [d for d in matchcoord['m5007']]\n",
    "#data = matchcoord[matchcoord['in_frame']]['m5007']"
   ]
  },
  {
   "cell_type": "code",
   "execution_count": null,
   "metadata": {
    "hidden": true
   },
   "outputs": [],
   "source": [
    "from astropy.coordinates import match_coordinates_sky # match sources against existing catalog\n",
    "from astropy.coordinates import Angle                 # work with angles (e.g. 1°2′3″)\n",
    "\n",
    "# ((tbl['type']=='PN') | (tbl['type']=='SNR')) & \n",
    "catalogcoord = tbl[(tbl['mOIII']<28.5)]\n",
    "    \n",
    "tolerance = '1s'\n",
    "ID, angle, Quantity  = match_coordinates_sky(matchcoord['SkyCoord'],catalogcoord['SkyCoord'])\n",
    "within_tolerance = len(angle[angle.__lt__(Angle(tolerance))])\n",
    "\n",
    "print(f'{within_tolerance} of {len(angle)} match within {tolerance}\": {within_tolerance / len(angle)*100:.1f} %')\n",
    "print(f'mean seperation is {angle[angle.__lt__(Angle(tolerance))].mean().to_string(u.arcsec,decimal=True)}\"')"
   ]
  },
  {
   "cell_type": "code",
   "execution_count": null,
   "metadata": {
    "hidden": true
   },
   "outputs": [],
   "source": [
    "angle"
   ]
  },
  {
   "cell_type": "code",
   "execution_count": null,
   "metadata": {
    "hidden": true
   },
   "outputs": [],
   "source": [
    "fig = plt.figure(figsize=(6.974,6.974))\n",
    "ax1 = fig.add_subplot(111,projection=galaxy.wcs)\n",
    "\n",
    "norm = simple_norm(galaxy.OIII5006_DAP,'linear',clip=False,max_percent=95)\n",
    "ax1.imshow(galaxy.OIII5006_DAP,norm=norm,cmap=plt.cm.Blues_r)\n",
    "\n",
    "ax1.scatter(matchcoord['x'],matchcoord['y'],marker='o',s=2,c='tab:red')\n",
    "for row in matchcoord:\n",
    "    txt,x,y = row['ID'], row['x']+5, row['y']    \n",
    "    ax1.annotate(txt, (x, y),fontsize=4,color='tab:red')\n",
    "    \n",
    "#plt.savefig(basedir / 'reports' / 'NGC5068_Herrmann.pdf',dpi=600)"
   ]
  },
  {
   "cell_type": "code",
   "execution_count": null,
   "metadata": {
    "hidden": true
   },
   "outputs": [],
   "source": [
    "from photutils import CircularAperture\n",
    "from pymuse.plot.plot import create_RGB\n",
    "rgb = create_RGB(galaxy.SII6716,galaxy.HA6562,galaxy.OIII5006_DAP,percentile=96)\n",
    "\n",
    "fig = plt.figure(figsize=(6.974,6.974))\n",
    "ax1 = fig.add_subplot(111,projection=galaxy.wcs)\n",
    "\n",
    "norm = simple_norm(galaxy.OIII5006_DAP,'linear',clip=False,max_percent=95)\n",
    "#ax1.imshow(galaxy.OIII5006_DAP,norm=norm,cmap=plt.cm.Blues)\n",
    "ax1.imshow(rgb)\n",
    "\n",
    "positions = np.transpose([matchcoord['x'],matchcoord['y']])\n",
    "apertures = CircularAperture(positions, r=6)\n",
    "apertures.plot(color='tab:red',lw=.3, alpha=1,ax=ax1)\n",
    "\n",
    "positions = np.transpose([catalogcoord['x'],catalogcoord['y']])\n",
    "apertures = CircularAperture(positions, r=6)\n",
    "apertures.plot(color='tab:orange',lw=.3, alpha=1,ax=ax1)\n",
    "\n",
    "for row in matchcoord:\n",
    "    txt,x,y = row['ID'], row['x']+5, row['y']    \n",
    "    ax1.annotate(txt, (x, y),fontsize=4,color='tab:red')\n",
    "    \n",
    "plt.savefig(basedir / 'reports' / 'NGC5068_Herrmann.pdf',dpi=600)"
   ]
  },
  {
   "cell_type": "markdown",
   "metadata": {
    "heading_collapsed": true
   },
   "source": [
    "#### Plot detected sources"
   ]
  },
  {
   "cell_type": "code",
   "execution_count": null,
   "metadata": {
    "hidden": true
   },
   "outputs": [],
   "source": [
    "from pymuse.plot.plot import plot_sky_with_detected_stars"
   ]
  },
  {
   "cell_type": "code",
   "execution_count": null,
   "metadata": {
    "hidden": true
   },
   "outputs": [],
   "source": [
    "position = np.transpose((sources['x'], sources['y']))\n",
    "positions_kk = np.transpose(pn_bright['SkyCoord'].to_pixel(wcs=galaxy.wcs))\n",
    "positions = (position,positions_kk)\n",
    "\n",
    "save_file = Path.cwd() / '..' / 'reports' / 'figures' / f'{galaxy.name}_sky_sources_DAO.pdf'\n",
    "plot_sky_with_detected_stars(data=galaxy.OIII5006_DAP,\n",
    "                             wcs=galaxy.wcs,\n",
    "                             positions=positions,\n",
    "                             filename=save_file)"
   ]
  },
  {
   "cell_type": "markdown",
   "metadata": {
    "heading_collapsed": true
   },
   "source": [
    "#### Cut out detected stars"
   ]
  },
  {
   "cell_type": "code",
   "execution_count": null,
   "metadata": {
    "hidden": true
   },
   "outputs": [],
   "source": [
    "from pymuse.plot.plot import sample_cutouts"
   ]
  },
  {
   "cell_type": "code",
   "execution_count": null,
   "metadata": {
    "hidden": true
   },
   "outputs": [],
   "source": [
    "save_file = Path.cwd() / '..' / 'reports' / 'figures' / f'{galaxy.name}_stars.pdf'\n",
    "\n",
    "stars = sample_cutouts(galaxy.OIII5006_DAP,sources,galaxy.wcs,nrows=4,ncols=4)"
   ]
  },
  {
   "cell_type": "markdown",
   "metadata": {},
   "source": [
    "### Using SExtractor\n",
    "\n",
    "there is no Python implementation of SExtractor. Instead we run it from the command line\n",
    "\n",
    "```\n",
    "sextractor file.fits -c default.sex\n",
    "```\n",
    "\n",
    "this will produce a file `test.cat` which contains the position of the sources. We read this table and calculate the sky position wiht astropy"
   ]
  },
  {
   "cell_type": "code",
   "execution_count": null,
   "metadata": {},
   "outputs": [],
   "source": [
    "file = Path.cwd() / '..' / 'data' / 'interim' / 'NGC628.cat'\n",
    "\n",
    "table = ascii.read(file)\n",
    "table['SkyCoord'] = SkyCoord.from_pixel(table['X_IMAGE'],table['Y_IMAGE'],NGC628.wcs)\n",
    "\n",
    "print(f'{len(table)} sources found')"
   ]
  },
  {
   "cell_type": "code",
   "execution_count": null,
   "metadata": {},
   "outputs": [],
   "source": [
    "file = Path.cwd() / '..' / 'data' / 'interim' / 'NGC628.cat'\n",
    "\n",
    "table = ascii.read(file)\n",
    "table['SkyCoord'] = SkyCoord.from_pixel(table['X_IMAGE'],table['Y_IMAGE'],NGC628.wcs)\n",
    "\n",
    "print(f'{len(table)} sources found')\n",
    "\n",
    "sources = Table()\n",
    "sources['x'] = table['X_IMAGE']\n",
    "sources['y'] = table['Y_IMAGE']\n",
    "sources['SkyCoord'] = table['SkyCoord']\n",
    "sources['fwhm'] = 0.8\n",
    "NGC628.peaks_tbl = sources"
   ]
  },
  {
   "cell_type": "markdown",
   "metadata": {},
   "source": [
    "#### Match with known sources"
   ]
  },
  {
   "cell_type": "code",
   "execution_count": null,
   "metadata": {},
   "outputs": [],
   "source": [
    "ID, angle, Quantity  = match_coordinates_sky(pn_bright['SkyCoord'],table['SkyCoord'])\n",
    "within_1_arcsec = len(angle[angle.__lt__(Angle(\"0.5s\"))])\n",
    "\n",
    "print(f'{within_1_arcsec} of {len(angle)} match within 0.5\": {within_1_arcsec / len(angle)*100:.1f} %')\n",
    "print(f'mean seperation is {angle.mean().to_string(u.arcsec,decimal=True)}\"')\n",
    "#print(f'mean angle: {angle.mean():.2f}')"
   ]
  },
  {
   "cell_type": "markdown",
   "metadata": {},
   "source": [
    "#### Plot detected sources\n",
    "\n",
    "this requires the previously loaded `plot_sources` from `pymuse.plot`"
   ]
  },
  {
   "cell_type": "code",
   "execution_count": null,
   "metadata": {},
   "outputs": [],
   "source": [
    "file = Path.cwd() / '..' / 'reports' / 'figures' / f'{NGC628.name}_sources_sextractor.pdf'\n",
    "\n",
    "position = np.transpose((sources['x'], sources['y']))\n",
    "references = np.transpose(pn_bright['SkyCoord'].to_pixel(wcs=NGC628.wcs))\n",
    "positions = (position,references)\n",
    "\n",
    "sky_with_detected_stars(data=NGC628.OIII5006_old,wcs=NGC628.wcs,positions=positions,filename=file)"
   ]
  },
  {
   "cell_type": "markdown",
   "metadata": {
    "heading_collapsed": true
   },
   "source": [
    "## Completeness limit"
   ]
  },
  {
   "cell_type": "code",
   "execution_count": null,
   "metadata": {
    "hidden": true
   },
   "outputs": [],
   "source": [
    "from pymuse.detection import completeness_limit"
   ]
  },
  {
   "cell_type": "code",
   "execution_count": null,
   "metadata": {
    "hidden": true
   },
   "outputs": [],
   "source": [
    "mock_sources = completeness_limit(\n",
    "                    galaxy,\n",
    "                    'OIII5006',\n",
    "                    DAOStarFinder,\n",
    "                    iterations=10,\n",
    "                    threshold=threshold,\n",
    "                    exclude_region=mask,\n",
    "                    oversize=oversize,\n",
    "                    roundlo=-roundness,\n",
    "                    roundhi=roundness,\n",
    "                    sharplo=sharplo,\n",
    "                    sharphi=sharphi,\n",
    "                    exclude_border=True,\n",
    "                    )"
   ]
  },
  {
   "cell_type": "markdown",
   "metadata": {},
   "source": [
    "## Flux measurement\n",
    "\n",
    "In the previous step we detected potential PN candidates by their [OIII] emission. This means we know their position but lack exact flux measurments. In this section we measure the flux of the identified objects in different emission lines that are used in later steps. "
   ]
  },
  {
   "cell_type": "markdown",
   "metadata": {
    "heading_collapsed": true
   },
   "source": [
    "### Growth curve analysis\n",
    "\n",
    "\n",
    "\n",
    "#### Gaussian\n",
    "\n",
    "A shape that is commonly used for the PSF is that of a 2D gaussian (we assume  variance of $\\sigma_x^2 = \\sigma_y^2 = \\sigma^2$). If we center the peak at the origin the PSF is described by\n",
    "$$\n",
    "f(x,y) = A \\exp\\left(-\\frac{x^2+y^2}{2\\sigma^2}\\right)\n",
    "$$\n",
    "with some amplitude $A$. We can rewrite this in polar coordinates as \n",
    "$$\n",
    "f(r,\\phi) = A \\exp\\left(-\\frac{r^2}{2\\sigma^2}\\right)\n",
    "$$\n",
    "The light inside an aperture of radius $P(R)$ is given by the integral\n",
    "$$\n",
    "P(R) = \\int_0^{2\\pi} \\int_0^R f(r,\\phi) \\mathrm{d} \\phi r \\mathrm{d} r = 2\\pi \\sigma^2 A \\left(1-\\exp \\left(-\\frac{R^2}{2\\sigma^2}\\right) \\right) \n",
    "$$\n",
    "We are interested in the ratio $p(R) = P(R) / P(\\infty)$. If we use the relation between the standard deviation and the $\\mathrm{FWHM}$ of a Gaussian $\\sigma = \\frac{\\mathrm{FWHM}}{2\\sqrt{2\\ln2}}$, we can write\n",
    "$$\n",
    "\\begin{align}p(R) = 1-\\exp\\left(- \\frac{4 \\ln 2 \\cdot R^2}{\\mathrm{fwhm}^2} \\right)\\end{align}\n",
    "$$\n",
    "\n",
    "\n",
    "#### Moffat\n",
    "\n",
    "The measured FWHM are systematically larger than the reported values. A possible cause is that the shape of the PSF is not a perfect Gaussian, but rather described by a [Moffat](https://en.wikipedia.org/wiki/Moffat_distribution). This distribution is larger towards the wings and fitting a Gaussian to such a shape should result in a larger FWHM\n",
    "\n",
    "$$\n",
    "f(R;\\alpha,\\gamma) = A \\left[1 + \\left(\\frac{R}{\\gamma}\\right)^2 \\right]^{- \\alpha}\n",
    "$$\n",
    "\n",
    "**Note**: this nomenclature follows `astropy` and contradicts the commonly used scheme which uses $\\gamma=\\alpha$ and $\\alpha=\\beta$.\n",
    "\n",
    "The Full Width Half Maximum of this function is given by\n",
    "$$\n",
    "\\mathrm{FWHM} = 2\\gamma \\sqrt{2^{1/\\alpha}-1}\n",
    "$$\n",
    "\n",
    "like we did for the Gaussian we can calculate the amount of flux within a radius R as \n",
    "\n",
    "$$\n",
    "\\begin{align}\n",
    "P(R) = \\int_0^{2\\pi} \\int_0^R f(r,\\phi) \\mathrm{d} \\phi r \\mathrm{d} r = 2\\pi \\int_0^R A \\left[1 + \\left(\\frac{r}{\\gamma}\\right)^2 \\right]^{- \\alpha} r \\mathrm{d} r\n",
    "\\end{align}\n",
    "$$\n",
    "\n",
    "to solve this we substitute $u=1+\\left(\\frac{r}{\\gamma} \\right)^2 $ with $\\frac{\\mathrm{d} u}{\\mathrm{d} r} = \\frac{2r}{\\gamma^2}$. \n",
    "\n",
    "$$\n",
    "\\begin{align}\n",
    "P(R) = A \\frac{\\gamma^2}{2(1-\\alpha)} \\left[1 + \\left( \\frac{R}{\\gamma} \\right)^2 \\right]^{1-\\alpha}- A\\frac{\\gamma^2}{2(1-\\alpha)}\n",
    "\\end{align}\n",
    "$$\n",
    "\n",
    "\n",
    "again we are interested in the ratio $p(R) = P(R) / P(\\infty)$. If we assume that $\\alpha>1$, the first term will be $0$ for $R\\rightarrow \\infty$ and so we end up with \n",
    "\n",
    "$$\n",
    "p(r) = \\left[ 1+\\left( \\frac{R}{\\gamma}\\right)^2\\right]^{1-\\alpha} - 1\n",
    "$$"
   ]
  },
  {
   "cell_type": "code",
   "execution_count": null,
   "metadata": {
    "hidden": true
   },
   "outputs": [],
   "source": [
    "from pymuse.photometry import light_in_gaussian, light_in_moffat, fwhm_moffat\n",
    "\n",
    "alpha = 4\n",
    "gamma = 10\n",
    "fwhm = fwhm_moffat(alpha,gamma)\n",
    "print(f'alpha={alpha:.2f}, gamma={gamma:.2f}, fwhm={fwhm:.2f}')\n",
    "\n",
    "d = np.arange(0,20,0.2)\n",
    "g = light_in_gaussian(d,fwhm)\n",
    "m = light_in_moffat(d,alpha,gamma)\n",
    "plt.plot(d/fwhm,100*g,label='Gaussian')\n",
    "plt.plot(d/fwhm,100*m,label='Moffat')\n",
    "\n",
    "plt.legend()\n",
    "plt.xlabel('diameter in fwhm')\n",
    "plt.ylabel('light in aperture in %')\n",
    "plt.grid()"
   ]
  },
  {
   "cell_type": "markdown",
   "metadata": {
    "hidden": true
   },
   "source": [
    "#### Create an ideal Gaussian/Moffat source and measure growth curve"
   ]
  },
  {
   "cell_type": "code",
   "execution_count": null,
   "metadata": {
    "hidden": true
   },
   "outputs": [],
   "source": [
    "from astropy.modeling import models, fitting \n",
    "from astropy.nddata import Cutout2D\n",
    "from astropy.stats import gaussian_sigma_to_fwhm, gaussian_fwhm_to_sigma\n",
    "\n",
    "from pymuse.photometry import growth_curve\n",
    "from pymuse.auxiliary import fwhm_moffat"
   ]
  },
  {
   "cell_type": "code",
   "execution_count": null,
   "metadata": {
    "hidden": true
   },
   "outputs": [],
   "source": [
    "size=64\n",
    "fwhm = 10\n",
    "bkg = 0.5\n",
    "print(f'fwhm={fwhm}')\n",
    "\n",
    "std =  fwhm * gaussian_fwhm_to_sigma\n",
    "gaussian = models.Gaussian2D(x_mean=size/2,y_mean=size/2,x_stddev=std,y_stddev=std)\n",
    "img = gaussian(*np.indices((size,size))) + np.random.uniform(0,bkg,(size,size))\n",
    "plt.imshow(img, origin='lower')\n",
    "plt.show()\n"
   ]
  },
  {
   "cell_type": "code",
   "execution_count": null,
   "metadata": {
    "hidden": true
   },
   "outputs": [],
   "source": [
    "fwhm_fit = growth_curve(img,size/2,size/2,model='gaussian',plot=True)[0]\n",
    "print(f'fwhm={fwhm}, measured={fwhm_fit:.2f}')"
   ]
  },
  {
   "cell_type": "code",
   "execution_count": null,
   "metadata": {
    "hidden": true
   },
   "outputs": [],
   "source": [
    "size=64\n",
    "alpha = 4.765\n",
    "gamma = 6/(2*np.sqrt(2**(1/4.76)-1))\n",
    "bkg = 0.01\n",
    "\n",
    "fwhm = 2*gamma * np.sqrt(2**(1/alpha)-1)\n",
    "print(f'alpha={alpha:.2f}, gamma={gamma:.2f}, fwhm={fwhm:.2f}')\n",
    "\n",
    "std = 4 * gaussian_fwhm_to_sigma\n",
    "moffat = models.Moffat2D(x_0=size/2,y_0=size/2,alpha=alpha,gamma=gamma)\n",
    "\n",
    "img = moffat(*np.indices((size,size))) + np.random.uniform(0,bkg,(size,size))\n",
    "plt.imshow(img, origin='lower')\n",
    "plt.show()"
   ]
  },
  {
   "cell_type": "code",
   "execution_count": null,
   "metadata": {
    "hidden": true
   },
   "outputs": [],
   "source": [
    "fit = growth_curve(img,size/2,size/2,model='gaussian',plot=True,length=10)\n",
    "fwhm_fit = fit[0]\n",
    "#fwhm_fit = fwhm_moffat(*fit)\n",
    "\n",
    "print(f'fwhm={fwhm:.2f}, fit={fwhm_fit:.2f}')"
   ]
  },
  {
   "cell_type": "markdown",
   "metadata": {
    "hidden": true
   },
   "source": [
    "#### Apply to real data\n",
    "\n",
    "We saw that we can predict the aperture size dependence of the flux for mock sources. Now we pick real objects and try to do the same. \n",
    "\n",
    "Stars should have much larger stellar velocities. We use this to identify potential foreground stars in our source catalogue. We cannot use the peaks of the velocity maps as they seem to be displaced from the center of the star."
   ]
  },
  {
   "cell_type": "code",
   "execution_count": null,
   "metadata": {
    "hidden": true
   },
   "outputs": [],
   "source": [
    "from scipy.signal import convolve\n",
    "\n",
    "from astropy.nddata import Cutout2D\n",
    "from astropy.stats import gaussian_fwhm_to_sigma\n",
    "\n",
    "from pymuse.plot import single_cutout\n",
    "from pymuse.photometry import growth_curve, correct_PSF, fwhm_moffat"
   ]
  },
  {
   "cell_type": "markdown",
   "metadata": {
    "hidden": true
   },
   "source": [
    "we find stars due to their high velocity dispersion"
   ]
  },
  {
   "cell_type": "code",
   "execution_count": null,
   "metadata": {
    "hidden": true
   },
   "outputs": [],
   "source": [
    "# define kernel for smoothing\n",
    "smoothing_length = 10 \n",
    "kernel = np.ones((smoothing_length,smoothing_length))\n",
    "\n",
    "# find stars by their large velocity dispersion\n",
    "star_mask = np.zeros(NGC628.V_STARS.shape,dtype='f8')\n",
    "star_mask[np.abs(NGC628.V_STARS)>200] = 1\n",
    "\n",
    "# smooth ouput with convolution\n",
    "star_mask = convolve(star_mask,kernel,mode='same')\n",
    "star_mask[star_mask>0.1] = 1\n",
    "star_mask[star_mask<0.1] = 0\n",
    "star_mask[np.isnan(NGC628.V_STARS)] = np.nan"
   ]
  },
  {
   "cell_type": "code",
   "execution_count": null,
   "metadata": {
    "hidden": true
   },
   "outputs": [],
   "source": [
    "stars = detect_unresolved_sources(NGC628,\n",
    "                                  'whitelight',\n",
    "                                   StarFinder=DAOStarFinder,\n",
    "                                   threshold=5,\n",
    "                                   oversize_PSF = 1.,\n",
    "                                   save=False)\n",
    "    \n",
    "stars = stars[star_mask[stars['y'].astype(int),stars['x'].astype(int)]==1]"
   ]
  },
  {
   "cell_type": "code",
   "execution_count": null,
   "metadata": {
    "hidden": true
   },
   "outputs": [],
   "source": [
    "stars"
   ]
  },
  {
   "cell_type": "code",
   "execution_count": null,
   "metadata": {
    "hidden": true
   },
   "outputs": [],
   "source": [
    "i = 0\n",
    "size = 20\n",
    "x,y,fwhm = stars[i][['x','y','fwhm']]\n",
    "single_cutout(NGC628,'whitelight',x,y,size=size)\n",
    "print(fwhm)"
   ]
  },
  {
   "cell_type": "code",
   "execution_count": null,
   "metadata": {
    "hidden": true
   },
   "outputs": [],
   "source": [
    "data = NGC628.HA6562\n",
    "\n",
    "aperture = 25\n",
    "fit = growth_curve(data,x,y,model='moffat',rmax=15,plot=True,length=10)\n",
    "#fwhm_fit=fit[0]\n",
    "fwhm_fit = fwhm_moffat(*fit)\n",
    "\n",
    "radius = np.arange(0,10,0.5)\n",
    "plt.plot(radius,light_in_gaussian(radius,fwhm),label='gaussian',ls='--',color='tab:red')\n",
    "plt.legend()\n",
    "\n",
    "print(f'reported={fwhm:.2f}, measured={fwhm_fit:.2f}, ratio={fwhm_fit/fwhm:.2f}')"
   ]
  },
  {
   "cell_type": "markdown",
   "metadata": {
    "hidden": true
   },
   "source": [
    "we have 6 objects classified as stars in our field of view. For each of them we do a growth curve analysis"
   ]
  },
  {
   "cell_type": "code",
   "execution_count": null,
   "metadata": {
    "hidden": true
   },
   "outputs": [],
   "source": [
    "size = 20\n",
    "data = NGC628.whitelight\n",
    "\n",
    "fig,ax = plt.subplots(figsize=(8,5))\n",
    "\n",
    "for i in range(len(stars)):\n",
    "    x,y,fwhm = stars[i][['x','y','fwhm']]\n",
    "\n",
    "    fit = growth_curve(data,x,y,model='moffat',rmax=30,plot=True,length=10)\n",
    "    fwhm_fit = fwhm_moffat(*fit)\n",
    "    print(f'alpha={fit[0]:.2f}, gamma={fit[1]:.2f}, reported={fwhm:.2f}, measured={fwhm_fit:.2f}, ratio={fwhm_fit/fwhm:.2f}')"
   ]
  },
  {
   "cell_type": "markdown",
   "metadata": {
    "heading_collapsed": true,
    "hidden": true
   },
   "source": [
    "#### Fit 2D Function\n",
    "\n",
    "So far we didn't fit the PSF shape directly but took a slight detour with the light inside an aperture. Here we try to fit the 2D functions to the observed data"
   ]
  },
  {
   "cell_type": "code",
   "execution_count": null,
   "metadata": {
    "hidden": true
   },
   "outputs": [],
   "source": [
    "size = 16\n",
    "\n",
    "#sub = sources[sources['peak']>500]\n",
    "#x,y,fwhm = sub[8][['x','y','fwhm']]\n",
    "\n",
    "for line, cmap in zip(['whitelight','OIII5006','HA6562'],[plt.cm.viridis,plt.cm.Blues_r,plt.cm.Reds_r]):\n",
    "    # defien the size of the cutout region\n",
    "    star = Cutout2D(getattr(NGC628,line), (x,y), u.Quantity((size, size), u.pixel))\n",
    "\n",
    "    fitter = fitting.LevMarLSQFitter()\n",
    "    data = star.data\n",
    "    fig ,(ax1,ax2,ax3,ax4) = plt.subplots(1,4,figsize=(12,3))\n",
    "    #cmap = plt.cm.Blues\n",
    "\n",
    "    ax1.imshow(data,origin='lower',cmap=cmap)\n",
    "    ax1.set_title(f'image {line}')\n",
    "\n",
    "    std = fwhm * gaussian_fwhm_to_sigma\n",
    "    gaussian_theory = models.Gaussian2D(x_mean=size/2,y_mean=size/2,x_stddev=std,y_stddev=std)\n",
    "    ax2.imshow(gaussian_theory(*np.indices(data.shape)), origin='lower',cmap=cmap)\n",
    "    ax2.set_title('Gaussian reported')\n",
    "    \n",
    "    model = models.Gaussian2D()\n",
    "    gaussian = fitter(model,*np.indices(data.shape),data,maxiter=1000)\n",
    "    ax3.imshow(gaussian(*np.indices(data.shape)), origin='lower',cmap=cmap)\n",
    "    ax3.set_title('Gaussian fit')\n",
    "\n",
    "    model = models.Moffat2D(alpha=4.765,fixed={'alpha':True}) \n",
    "    moffat = fitter(model,*np.indices(data.shape),data,maxiter=2000)\n",
    "    fwhm_moffat = 2*moffat.gamma.value * np.sqrt(2**(1/moffat.alpha.value)-1)\n",
    "    ax4.imshow(moffat(*np.indices(data.shape)), origin='lower',cmap=cmap)\n",
    "    ax4.set_title('Moffat fit')\n",
    "    \n",
    "    plt.tight_layout()\n",
    "    xstd = gaussian.x_stddev * gaussian_sigma_to_fwhm\n",
    "    ystd = gaussian.y_stddev * gaussian_sigma_to_fwhm\n",
    "\n",
    "    print(f'{line}: reported: {fwhm:.3f}, gaussian={xstd:.3f} ,{ystd:.3f}, moffat={fwhm_moffat:.3f}')\n"
   ]
  },
  {
   "cell_type": "code",
   "execution_count": null,
   "metadata": {
    "hidden": true
   },
   "outputs": [],
   "source": [
    "def fast_photometry(data,x,y,r,r_in,r_out):\n",
    "    '''\n",
    "    performe aperture photometry with backround subtraction for one source\n",
    "    \n",
    "    Parameters\n",
    "    ----------\n",
    "    data : ndarray\n",
    "        image data\n",
    "        \n",
    "    x : float\n",
    "        x cooridinate of the source\n",
    "    \n",
    "    y : float\n",
    "        y cooridinate of the source\n",
    "        \n",
    "    r : float\n",
    "        radius of the main aperture\n",
    "    \n",
    "    r_in : float\n",
    "        inner radius of the annulus that is used for the background        \n",
    "    \n",
    "    r_out : float\n",
    "        outer radius of the annulus that is used for the background\n",
    "    \n",
    "    '''\n",
    "    \n",
    "    aperture = CircularAperture((x,y), r=r)\n",
    "    annulus_aperture = CircularAnnulus((x,y), r_in=r_in, r_out=r_out)\n",
    "    mask = annulus_aperture.to_mask(method='center')\n",
    "    annulus_data = mask.multiply(data)\n",
    "    annulus_data_1d = annulus_data[mask.data > 0]\n",
    "    _, bkg_median, _ = sigma_clipped_stats(annulus_data_1d[~np.isnan(annulus_data_1d)])\n",
    "    phot = aperture_photometry(data,aperture)\n",
    "    \n",
    "    return phot['aperture_sum'][0]-aperture.area*bkg_median\n",
    "\n",
    "def aperture_correction(data,positions,r_aperture):\n",
    "    \n",
    "    fluxes = [fast_photometry(data,x,y,r,r_in,r_out) for x,y in positions]\n",
    "    \n",
    "    apertures = CircularAperture(positions,r_aperture)\n",
    "    "
   ]
  },
  {
   "cell_type": "code",
   "execution_count": null,
   "metadata": {
    "hidden": true
   },
   "outputs": [],
   "source": [
    "from scipy.spatial import cKDTree\n",
    "from pymuse.plot import single_cutout\n",
    "\n",
    "positions = np.transpose([sources['x'],sources['y']])\n",
    "\n",
    "tree = cKDTree(positions)\n",
    "dists = tree.query(positions, 2)\n",
    "nn_dist = dists[0][:, 1]\n",
    "\n",
    "sub = sources[(nn_dist>16)]"
   ]
  },
  {
   "cell_type": "markdown",
   "metadata": {},
   "source": [
    "### Aperture Photometry\n",
    "\n",
    "we use the positions of the previously detected sources to measure the flux of different lines\n",
    "\n",
    "https://photutils.readthedocs.io/en/stable/aperture.html\n",
    "\n",
    "the values in the pixels are in units of $10^{-20} \\ \\mathrm{erg}  \\ \\mathrm{cm}^{-2} \\ \\mathrm{s}^{-1} / \\mathrm{spaxel}$. For the [OIII] line, this flux is then converted to an apparent magnitude\n",
    "$$\n",
    "m_{[\\mathrm{O\\ III}]} = -2.5 \\cdot \\log F_{[\\mathrm{O\\ III}]} - 13.74\n",
    "$$\n",
    "\n",
    "where $F_{[\\mathrm{O\\ III}]}$ is given in $\\mathrm{erg}  \\ \\mathrm{cm}^{-2} \\ \\mathrm{s}^{-1}$. Error propagation gives the error of the magnitude as\n",
    "\n",
    "$$\n",
    "\\Delta m_{[\\mathrm{O\\ III}]} = \\sqrt{\\left(\\frac{-2.5 \\cdot \\Delta F_{[\\mathrm{O\\ III}]}}{\\ln 10 \\cdot F_{[\\mathrm{O\\ III}]}}\\right)^2 }\n",
    "$$\n",
    "\n",
    "We only correct for extinction in the milky way. therefor we use the extinction function from Cardelli, Clayton & Mathis (1989) with $A_V = 0.2$ and $R_V=3.1$. The extinction is calculated with the following package\n",
    "\n",
    "https://extinction.readthedocs.io/en/latest/\n",
    "\n",
    "(Note: the DAP products are already extinction corrected).\n",
    "\n",
    "**Requires**\n",
    " * `extinction` a python package to account for the extinction in the Milky Way.\n",
    " * `measure_flux` from `pymuse.photometry`\n",
    " \n",
    "**Returns**\n",
    " * `flux` a Table with the measured line fluxes."
   ]
  },
  {
   "cell_type": "code",
   "execution_count": 14,
   "metadata": {},
   "outputs": [],
   "source": [
    "from astropy.coordinates import match_coordinates_sky # match sources against existing catalog\n",
    "from astropy.coordinates import Angle                 # work with angles (e.g. 1°2′3″)\n",
    "from astropy.coordinates import SkyCoord\n",
    "\n",
    "from extinction import ccm89     # calculate extinction Cardelli et al. (1989)\n",
    "from dust_extinction.parameter_averages import CCM89\n",
    "\n",
    "from pymuse.photometry import measure_flux"
   ]
  },
  {
   "cell_type": "code",
   "execution_count": 15,
   "metadata": {},
   "outputs": [
    {
     "name": "stdout",
     "output_type": "stream",
     "text": [
      "INFO:pymuse.photometry:measuring fluxes in NGC628 for 944 sources\n",
      "INFO:pymuse.photometry:measuring fluxes in [OIII5006] line map\n",
      "INFO:pymuse.photometry:measuring fluxes in [HA6562] line map\n",
      "INFO:pymuse.photometry:measuring fluxes in [NII6583] line map\n",
      "INFO:pymuse.photometry:measuring fluxes in [SII6716] line map\n",
      "INFO:pymuse.photometry:measuring fluxes in [HB4861] line map\n",
      "INFO:pymuse.photometry:measuring fluxes in [OIII4958] line map\n",
      "INFO:pymuse.photometry:correcting for MW-extinction\n",
      "INFO:pymuse.photometry:lambda5006: Av=0.22\n",
      "INFO:pymuse.photometry:lambda6562: Av=0.16\n",
      "INFO:pymuse.photometry:lambda6583: Av=0.16\n",
      "INFO:pymuse.photometry:lambda6716: Av=0.15\n",
      "INFO:pymuse.photometry:lambda4861: Av=0.22\n",
      "INFO:pymuse.photometry:lambda4958: Av=0.22\n",
      "INFO:pymuse.photometry:all flux measurements completed\n"
     ]
    }
   ],
   "source": [
    "#lines = ['OIII5006', 'HA6562', 'NII6583', 'SII6716', 'HB4861', 'OIII4958','OIII5006_DAP']\n",
    "Rv  = 3.1\n",
    "Ebv = 0.062\n",
    "\n",
    "flux = measure_flux(galaxy,sources,alpha=galaxy.alpha,Rv=Rv,Ebv=Ebv,aperture_size=2)\n",
    "\n",
    "#calculate astronomical coordinates for comparison\n",
    "flux['SkyCoord'] = SkyCoord.from_pixel(flux['x'],flux['y'],galaxy.wcs)\n",
    "\n",
    "# calculate magnitudes from measured fluxes\n",
    "flux['mOIII'] = -2.5*np.log10(flux['OIII5006']*1e-20) - 13.74\n",
    "flux['dmOIII'] = np.abs( 2.5/np.log(10) * flux['OIII5006_err'] / flux['OIII5006'] )\n",
    "\n",
    "# correct for milky way extinction\n",
    "#flux['mOIII1'] = flux['mOIII'] - ccm89(wave=np.array([5007.]),a_v=Rv*Ebv,r_v=Rv,unit='aa')[0]\n",
    "\n",
    "# with Astropy\n",
    "#extinction_model = CCM89(Rv=Rv)\n",
    "#extinction = -2.5*np.log10(extinction_model.extinguish(500.7*u.nanometer,Ebv=Ebv))\n",
    "#print(f'Av = {extinction:.2f}')\n",
    "#flux['mOIII'] = flux['mOIII'] - extinction"
   ]
  },
  {
   "cell_type": "code",
   "execution_count": null,
   "metadata": {},
   "outputs": [],
   "source": [
    "plt.scatter(-2.5*np.log10(flux['OIII5006']*1e-20) - 13.74,-2.5*np.log10(flux['OIII5006_DAP']*1e-20) - 13.74)\n",
    "plt.plot([24,29],[24,29],color='grey',ls='--')\n",
    "plt.xlim([24,29])\n",
    "plt.ylim([24,29])\n",
    "plt.title('mOIII for sources in NGC628')\n",
    "plt.xlabel('sum')\n",
    "plt.ylabel('fit (DAP)')\n",
    "plt.show()"
   ]
  },
  {
   "cell_type": "markdown",
   "metadata": {},
   "source": [
    "#### Compare to Kreckel et al. 2017"
   ]
  },
  {
   "cell_type": "code",
   "execution_count": 16,
   "metadata": {},
   "outputs": [],
   "source": [
    "from astropy.coordinates import match_coordinates_sky # match sources against existing catalog\n",
    "from astropy.coordinates import Angle                 # work with angles (e.g. 1°2′3″)\n",
    "from astropy.table import hstack"
   ]
  },
  {
   "cell_type": "code",
   "execution_count": 20,
   "metadata": {
    "collapsed": true
   },
   "outputs": [
    {
     "data": {
      "text/html": [
       "<i>QTable length=42</i>\n",
       "<table id=\"table1610078864552-41348\" class=\"table-striped table-bordered table-condensed\">\n",
       "<thead><tr><th>idx</th><th>id</th><th>x</th><th>y</th><th>fwhm</th><th>Av</th><th>OIII5006</th><th>OIII5006_apsum</th><th>OIII5006_apbkg</th><th>OIII5006_err</th><th>OIII5006_bkg</th><th>OIII5006_SIGMA</th><th>HA6562</th><th>HA6562_apsum</th><th>HA6562_apbkg</th><th>HA6562_err</th><th>HA6562_bkg</th><th>HA6562_SIGMA</th><th>NII6583</th><th>NII6583_apsum</th><th>NII6583_apbkg</th><th>NII6583_err</th><th>NII6583_bkg</th><th>NII6583_SIGMA</th><th>SII6716</th><th>SII6716_apsum</th><th>SII6716_apbkg</th><th>SII6716_err</th><th>SII6716_bkg</th><th>SII6716_SIGMA</th><th>HB4861</th><th>HB4861_apsum</th><th>HB4861_apbkg</th><th>HB4861_err</th><th>HB4861_bkg</th><th>HB4861_SIGMA</th><th>OIII4958</th><th>OIII4958_apsum</th><th>OIII4958_apbkg</th><th>OIII4958_err</th><th>OIII4958_bkg</th><th>OIII4958_SIGMA</th><th>SkyCoord</th><th>mOIII</th><th>dmOIII</th><th>type</th><th>OIII5006_detection</th><th>HA6562_detection</th><th>NII6583_detection</th><th>SII6716_detection</th><th>MOIII</th><th>v_SIGMA</th><th>R</th><th>dR</th><th>SNRorPN</th></tr></thead>\n",
       "<thead><tr><th></th><th></th><th></th><th></th><th></th><th></th><th></th><th></th><th></th><th></th><th></th><th></th><th></th><th></th><th></th><th></th><th></th><th></th><th></th><th></th><th></th><th></th><th></th><th></th><th></th><th></th><th></th><th></th><th></th><th></th><th></th><th></th><th></th><th></th><th></th><th></th><th></th><th></th><th></th><th></th><th></th><th></th><th>deg,deg</th><th></th><th></th><th></th><th></th><th></th><th></th><th></th><th></th><th></th><th></th><th></th><th></th></tr></thead>\n",
       "<tr><td>0</td><td>726</td><td>594.921120836878</td><td>842.9520154780897</td><td>3.82</td><td>0</td><td>16955.14</td><td>10595.637</td><td>-687.46748</td><td>201.87354</td><td>-13.184937</td><td>49.509774</td><td>685.20646</td><td>10947.445</td><td>10466.369</td><td>122.26919</td><td>231.33504</td><td>40.235088</td><td>827.74034</td><td>6638.2615</td><td>6056.7809</td><td>108.90941</td><td>134.13728</td><td>42.925634</td><td>508.06392</td><td>3944.8549</td><td>3586.6458</td><td>105.94364</td><td>80.440928</td><td>42.925634</td><td>-812.7985</td><td>3686.1063</td><td>4222.8245</td><td>189.60206</td><td>79.96562</td><td>40.235088</td><td>6987.425</td><td>5728.6613</td><td>1090.3116</td><td>70.145653</td><td>20.823007</td><td>49.509774</td><td>24.18045482675006,15.788411379604018</td><td>25.686747</td><td>0.012927137</td><td>PN</td><td>True</td><td>False</td><td>False</td><td>False</td><td>-4.2232534</td><td>49.509774</td><td>1.0494777</td><td>0.047285678</td><td>False</td></tr>\n",
       "<tr><td>1</td><td>727</td><td>591.18746777873</td><td>843.8679456881124</td><td>3.82</td><td>0</td><td>17608.73</td><td>10894.174</td><td>-823.87451</td><td>199.94257</td><td>-15.801086</td><td>50.5529</td><td>3272.2548</td><td>11198.592</td><td>8901.1785</td><td>126.06409</td><td>196.74009</td><td>35.71358</td><td>224.95445</td><td>5899.9942</td><td>5741.9656</td><td>109.7311</td><td>127.16518</td><td>39.154639</td><td>107.09435</td><td>3533.2653</td><td>3547.9986</td><td>107.09435</td><td>79.574152</td><td>39.154639</td><td>-281.65804</td><td>3914.0055</td><td>4099.9938</td><td>183.2846</td><td>77.639632</td><td>35.71358</td><td>6673.6497</td><td>5607.0593</td><td>1176.9979</td><td>69.434551</td><td>22.478562</td><td>50.5529</td><td>24.18067038160328,15.788462275066596</td><td>25.64568</td><td>0.012328254</td><td>PN</td><td>True</td><td>True</td><td>False</td><td>False</td><td>-4.2643201</td><td>50.5529</td><td>0.70200642</td><td>0.021332752</td><td>False</td></tr>\n",
       "<tr><td>2</td><td>826</td><td>608.9760294717715</td><td>424.6391907514167</td><td>3.88</td><td>0</td><td>17185.167</td><td>12941.693</td><td>1505.5123</td><td>75.338048</td><td>27.986969</td><td>33.474386</td><td>63397.736</td><td>76522.313</td><td>32011.474</td><td>103.1143</td><td>685.79879</td><td>26.370851</td><td>18371.697</td><td>22933.522</td><td>10027.562</td><td>58.673506</td><td>215.25272</td><td>26.500191</td><td>7054.5109</td><td>10800.274</td><td>5826.5108</td><td>49.597258</td><td>126.66097</td><td>26.500191</td><td>20931.339</td><td>23272.916</td><td>9451.2477</td><td>91.766584</td><td>173.47428</td><td>26.370851</td><td>6869.3891</td><td>5529.1316</td><td>969.13573</td><td>26.159663</td><td>17.940028</td><td>33.474386</td><td>24.179644707534433,15.76517173882349</td><td>25.672116</td><td>0.0047597585</td><td>HII</td><td>True</td><td>True</td><td>True</td><td>True</td><td>-4.2378844</td><td>26.370851</td><td>-0.67743722</td><td>0.0020054657</td><td>False</td></tr>\n",
       "<tr><td>3</td><td>765</td><td>390.3814339965133</td><td>949.9173909490781</td><td>3.82</td><td>0</td><td>11643.858</td><td>9664.6287</td><td>1916.0122</td><td>187.50855</td><td>36.747192</td><td>27.296965</td><td>18105.117</td><td>23032.681</td><td>10321.282</td><td>148.6358</td><td>228.12821</td><td>26.137551</td><td>9355.8097</td><td>12429.757</td><td>5857.3803</td><td>116.78766</td><td>129.72122</td><td>28.100638</td><td>865.17405</td><td>4263.6016</td><td>3653.6131</td><td>97.500525</td><td>81.942863</td><td>28.100638</td><td>6706.1832</td><td>7838.2885</td><td>3409.9697</td><td>168.82453</td><td>64.572975</td><td>26.137551</td><td>5044.7432</td><td>4884.8523</td><td>1536.0817</td><td>65.129124</td><td>29.336422</td><td>27.296965</td><td>24.192263685636018,15.794354160225021</td><td>26.094758</td><td>0.01748431</td><td>HII</td><td>True</td><td>True</td><td>True</td><td>False</td><td>-3.8152423</td><td>26.137551</td><td>-0.37261827</td><td>0.0076058689</td><td>False</td></tr>\n",
       "<tr><td>4</td><td>732</td><td>537.7070601394827</td><td>853.2107854489353</td><td>3.82</td><td>0</td><td>11669.857</td><td>7433.5164</td><td>-332.40123</td><td>196.79512</td><td>-6.3751221</td><td>59.898137</td><td>7536.9213</td><td>14766.58</td><td>9474.9918</td><td>131.14093</td><td>209.42292</td><td>36.814337</td><td>1902.7768</td><td>5744.431</td><td>4407.7465</td><td>108.21749</td><td>97.616725</td><td>41.912199</td><td>65.09132</td><td>3064.1639</td><td>3018.2714</td><td>103.91315</td><td>67.693484</td><td>41.912199</td><td>1093.0719</td><td>4939.2109</td><td>4217.4187</td><td>180.26564</td><td>79.863252</td><td>36.814337</td><td>4305.5598</td><td>4041.2323</td><td>1183.1419</td><td>68.399582</td><td>22.595901</td><td>59.898137</td><td>24.183757983579532,15.788981448123184</td><td>26.092336</td><td>0.018309358</td><td>HII</td><td>True</td><td>True</td><td>True</td><td>False</td><td>-3.8176638</td><td>59.898137</td><td>0.092107425</td><td>0.010715776</td><td>False</td></tr>\n",
       "<tr><td>5</td><td>718</td><td>288.6770857358031</td><td>828.3840302374884</td><td>3.82</td><td>0</td><td>5265.9191</td><td>7910.0942</td><td>4405.7929</td><td>178.33997</td><td>84.498688</td><td>50.833684</td><td>41917.01</td><td>63249.291</td><td>33819.829</td><td>176.00146</td><td>747.50958</td><td>29.716838</td><td>21943.447</td><td>25560.674</td><td>10145.59</td><td>115.58496</td><td>224.6906</td><td>33.657196</td><td>7278.348</td><td>12088.548</td><td>6956.9693</td><td>114.19641</td><td>156.0302</td><td>33.657196</td><td>14143.265</td><td>20263.337</td><td>10924.062</td><td>198.4184</td><td>206.86377</td><td>29.716838</td><td>2643.4704</td><td>3846.6074</td><td>2091.835</td><td>61.936133</td><td>39.950319</td><td>50.833684</td><td>24.19813539122286,15.787602198844974</td><td>26.956315</td><td>0.036770439</td><td>HII</td><td>True</td><td>True</td><td>True</td><td>True</td><td>-2.9536855</td><td>33.657196</td><td>-1.0837578</td><td>0.014777718</td><td>False</td></tr>\n",
       "<tr><td>6</td><td>558</td><td>515.7979639062531</td><td>230.47425808516675</td><td>3.71</td><td>0</td><td>11311.639</td><td>8224.4992</td><td>696.9643</td><td>116.74727</td><td>14.09639</td><td>22.807003</td><td>2721.5557</td><td>4908.904</td><td>2998.1303</td><td>82.26814</td><td>69.882325</td><td>23.086501</td><td>1178.6029</td><td>2383.8925</td><td>1555.934</td><td>68.354802</td><td>36.338774</td><td>36.226739</td><td>58.006706</td><td>1379.8296</td><td>1409.674</td><td>58.006706</td><td>33.341009</td><td>36.226739</td><td>671.72682</td><td>1673.438</td><td>1229.8742</td><td>97.829316</td><td>24.56023</td><td>23.086501</td><td>4404.6357</td><td>3595.8431</td><td>671.98481</td><td>40.548659</td><td>13.533925</td><td>22.807003</td><td>24.185023929623036,15.754385017993295</td><td>26.126186</td><td>0.011205868</td><td>PN</td><td>True</td><td>True</td><td>True</td><td>False</td><td>-3.7838138</td><td>22.807003</td><td>0.46244327</td><td>0.012725839</td><td>False</td></tr>\n",
       "<tr><td>7</td><td>664</td><td>592.2674082654821</td><td>1074.825803299065</td><td>3.71</td><td>0</td><td>13874.233</td><td>7970.742</td><td>-1262.118</td><td>169.78624</td><td>-25.526855</td><td>27.47226</td><td>3036.3409</td><td>8127.876</td><td>5996.0951</td><td>117.16746</td><td>139.76079</td><td>64.466658</td><td>95.614551</td><td>1950.0911</td><td>2322.0805</td><td>95.614551</td><td>54.232094</td><td>57.932566</td><td>103.22386</td><td>1750.5046</td><td>2187.8575</td><td>103.22386</td><td>51.746275</td><td>57.932566</td><td>1044.5811</td><td>3509.2977</td><td>2819.5256</td><td>149.85658</td><td>56.305108</td><td>64.466658</td><td>5653.2264</td><td>4201.5553</td><td>448.86509</td><td>59.012837</td><td>9.0402435</td><td>27.47226</td><td>24.180607363593285,15.801293263747292</td><td>25.904478</td><td>0.013286721</td><td>PN</td><td>True</td><td>True</td><td>False</td><td>False</td><td>-4.0055225</td><td>27.47226</td><td>0.64639343</td><td>0.02163332</td><td>False</td></tr>\n",
       "<tr><td>8</td><td>582</td><td>705.3739735589887</td><td>809.884781007814</td><td>3.71</td><td>0</td><td>8003.8432</td><td>2486.1326</td><td>-2840.1698</td><td>140.38769</td><td>-57.443604</td><td>30.144653</td><td>3609.666</td><td>18442.263</td><td>15907.957</td><td>112.09533</td><td>370.79277</td><td>33.016437</td><td>713.42729</td><td>9862.9482</td><td>9361.7717</td><td>102.08656</td><td>218.64379</td><td>39.517083</td><td>98.744744</td><td>4639.2953</td><td>4750.0379</td><td>98.744744</td><td>112.34588</td><td>39.517083</td><td>1316.2525</td><td>6993.2975</td><td>6124.1316</td><td>140.0624</td><td>122.29713</td><td>33.016437</td><td>3752.0342</td><td>3868.0376</td><td>1377.3852</td><td>48.766548</td><td>27.740847</td><td>30.144653</td><td>24.174078133435042,15.786573905859461</td><td>26.501754</td><td>0.019043852</td><td>PN</td><td>True</td><td>True</td><td>False</td><td>False</td><td>-3.4082464</td><td>30.144653</td><td>0.26750397</td><td>0.017029773</td><td>False</td></tr>\n",
       "<tr><td>9</td><td>549</td><td>594.0446317030691</td><td>213.42155371995128</td><td>3.71</td><td>0</td><td>8962.4825</td><td>6706.3162</td><td>742.0698</td><td>109.0618</td><td>15.008667</td><td>33.233468</td><td>1951.8364</td><td>5857.9317</td><td>4487.5693</td><td>86.248053</td><td>104.59911</td><td>24.239682</td><td>280.02909</td><td>2219.239</td><td>2022.521</td><td>64.628098</td><td>47.235894</td><td>23.162298</td><td>59.397533</td><td>1427.9861</td><td>1713.8177</td><td>59.397533</td><td>40.534488</td><td>23.162298</td><td>192.29224</td><td>2047.9423</td><td>1920.9653</td><td>92.933101</td><td>38.361119</td><td>24.239682</td><td>4053.4322</td><td>3276.9151</td><td>586.19055</td><td>37.899704</td><td>11.806009</td><td>33.233468</td><td>24.180507270661618,15.75343747270181</td><td>26.378929</td><td>0.013212003</td><td>PN</td><td>True</td><td>True</td><td>False</td><td>False</td><td>-3.5310708</td><td>33.233468</td><td>0.6037603</td><td>0.021627419</td><td>False</td></tr>\n",
       "<tr><td>10</td><td>589</td><td>720.628426010098</td><td>842.1596972025468</td><td>3.71</td><td>0</td><td>10369.119</td><td>5102.4296</td><td>-1797.8886</td><td>124.7242</td><td>-36.363037</td><td>32.667795</td><td>95.056221</td><td>7746.4285</td><td>7765.357</td><td>95.056221</td><td>180.99987</td><td>44.252989</td><td>47.275459</td><td>4771.908</td><td>4738.6974</td><td>86.085054</td><td>110.67208</td><td>53.98618</td><td>83.746676</td><td>2476.4095</td><td>2841.7436</td><td>83.746676</td><td>67.211712</td><td>53.98618</td><td>38.926026</td><td>3025.3538</td><td>2999.6496</td><td>110.28624</td><td>59.902132</td><td>44.252989</td><td>4030.2454</td><td>3543.5053</td><td>868.17234</td><td>43.346218</td><td>17.485186</td><td>32.667795</td><td>24.17319728689133,15.788366886106505</td><td>26.220645</td><td>0.0130597</td><td>PN</td><td>True</td><td>False</td><td>False</td><td>False</td><td>-3.6893547</td><td>32.667795</td><td>1.8624403</td><td>0.39134142</td><td>False</td></tr>\n",
       "<tr><td>11</td><td>646</td><td>596.471866529871</td><td>1038.3421774221772</td><td>3.71</td><td>0</td><td>10296.154</td><td>7359.5464</td><td>507.78406</td><td>141.57056</td><td>10.270142</td><td>23.269754</td><td>35443.637</td><td>39387.74</td><td>14503.16</td><td>158.1023</td><td>338.04886</td><td>25.213403</td><td>13996.855</td><td>14832.656</td><td>4999.9844</td><td>107.43696</td><td>116.77443</td><td>30.478603</td><td>7649.6275</td><td>9420.0149</td><td>4026.6665</td><td>101.57195</td><td>95.237003</td><td>30.478603</td><td>10542.881</td><td>11801.948</td><td>4840.1284</td><td>155.89637</td><td>96.655959</td><td>25.213403</td><td>4102.5035</td><td>3746.8583</td><td>1023.5595</td><td>49.179618</td><td>20.614718</td><td>23.269754</td><td>24.180364717482053,15.79926638389393</td><td>26.228312</td><td>0.014928708</td><td>HII</td><td>True</td><td>True</td><td>True</td><td>True</td><td>-3.6816876</td><td>30.478603</td><td>-0.68140775</td><td>0.0062030665</td><td>False</td></tr>\n",
       "<tr><td>12</td><td>689</td><td>327.53554090226436</td><td>739.9452779887471</td><td>3.82</td><td>0</td><td>7923.8437</td><td>6154.0543</td><td>880.98896</td><td>175.30851</td><td>16.896484</td><td>48.159102</td><td>8171.3128</td><td>13894.647</td><td>8157.6601</td><td>127.34076</td><td>180.30633</td><td>26.919245</td><td>2333.7082</td><td>5027.4615</td><td>3388.0513</td><td>101.06786</td><td>75.033914</td><td>42.556607</td><td>533.28324</td><td>3263.9208</td><td>2887.931</td><td>88.448948</td><td>64.770223</td><td>42.556607</td><td>1910.8632</td><td>3930.9418</td><td>2669.1344</td><td>163.67523</td><td>50.544128</td><td>26.919245</td><td>3580.235</td><td>3184.8887</td><td>808.27892</td><td>60.899562</td><td>15.436686</td><td>48.159102</td><td>24.1958918445195,15.78268899474332</td><td>26.51266</td><td>0.024021019</td><td>HII</td><td>True</td><td>True</td><td>True</td><td>False</td><td>-3.3973397</td><td>26.919245</td><td>-0.12246103</td><td>0.011725801</td><td>False</td></tr>\n",
       "<tr><td>13</td><td>767</td><td>310.15485883401897</td><td>951.4018897439518</td><td>3.82</td><td>0</td><td>7757.7547</td><td>5550.5265</td><td>387.98813</td><td>184.16935</td><td>7.4412231</td><td>41.433949</td><td>987.04794</td><td>11007.714</td><td>10314.719</td><td>123.19775</td><td>227.98316</td><td>26.364426</td><td>97.06745</td><td>3369.5702</td><td>3475.5948</td><td>97.06745</td><td>76.972708</td><td>36.529618</td><td>99.981193</td><td>2705.549</td><td>2905.6461</td><td>99.981193</td><td>65.167536</td><td>36.529618</td><td>739.31343</td><td>3606.9844</td><td>3118.7908</td><td>177.45048</td><td>59.059058</td><td>26.364426</td><td>3331.882</td><td>3161.5135</td><td>949.76395</td><td>64.006843</td><td>18.138798</td><td>41.433949</td><td>24.19689559850185,15.794436560256546</td><td>26.53566</td><td>0.025775413</td><td>PN</td><td>True</td><td>False</td><td>False</td><td>False</td><td>-3.3743401</td><td>41.433949</td><td>0.85466053</td><td>0.063671355</td><td>False</td></tr>\n",
       "<tr><td>14</td><td>605</td><td>564.3453762106614</td><td>946.8991350301089</td><td>3.71</td><td>0</td><td>11736.734</td><td>7705.9964</td><td>-104.42609</td><td>181.50479</td><td>-2.1120605</td><td>106.49827</td><td>12198.673</td><td>18684.672</td><td>10120.12</td><td>123.30959</td><td>235.88618</td><td>34.965925</td><td>5923.4776</td><td>7898.3075</td><td>3737.115</td><td>100.89261</td><td>87.280166</td><td>49.748956</td><td>2557.7028</td><td>4948.4747</td><td>3145.1734</td><td>106.416</td><td>74.388305</td><td>49.748956</td><td>5515.0088</td><td>7836.0077</td><td>4194.2615</td><td>157.68798</td><td>83.758186</td><td>34.965925</td><td>4735.8192</td><td>3845.9191</td><td>702.21655</td><td>63.029289</td><td>14.142799</td><td>106.49827</td><td>24.182219821513538,15.794186298835925</td><td>26.086132</td><td>0.016790558</td><td>HII</td><td>True</td><td>True</td><td>True</td><td>True</td><td>-3.8238682</td><td>34.965925</td><td>-0.18866246</td><td>0.0077256949</td><td>False</td></tr>\n",
       "<tr><td>15</td><td>651</td><td>600.8881148096426</td><td>1044.7908281730097</td><td>3.71</td><td>0</td><td>8977.1311</td><td>6453.276</td><td>479.28145</td><td>135.07824</td><td>9.6936646</td><td>20.410392</td><td>17746.489</td><td>24882.321</td><td>12422.71</td><td>136.20662</td><td>289.55642</td><td>21.650472</td><td>12354.887</td><td>13131.701</td><td>4452.4984</td><td>104.91702</td><td>103.98792</td><td>21.217986</td><td>5452.0093</td><td>7073.5533</td><td>3229.6294</td><td>94.311204</td><td>76.385822</td><td>21.217986</td><td>4446.3727</td><td>7768.6656</td><td>4832.5759</td><td>143.16727</td><td>96.505138</td><td>21.650472</td><td>3679.7161</td><td>3349.6317</td><td>906.98504</td><td>46.920669</td><td>18.266882</td><td>20.410392</td><td>24.180109718043358,15.799624629500142</td><td>26.377156</td><td>0.016336994</td><td>HII</td><td>True</td><td>True</td><td>True</td><td>True</td><td>-3.5328439</td><td>21.650472</td><td>-0.52544878</td><td>0.0069897593</td><td>False</td></tr>\n",
       "<tr><td>16</td><td>584</td><td>706.0118975490259</td><td>818.0429456945075</td><td>3.71</td><td>0</td><td>7259.5587</td><td>2634.6289</td><td>-2196.376</td><td>146.99216</td><td>-44.422607</td><td>52.844121</td><td>115.34764</td><td>14552.253</td><td>17028.844</td><td>115.34764</td><td>396.9191</td><td>44.03909</td><td>1775.1051</td><td>10207.689</td><td>8960.6924</td><td>103.76324</td><td>209.2766</td><td>42.488092</td><td>91.89257</td><td>4162.6313</td><td>4445.673</td><td>91.89257</td><td>105.14717</td><td>42.488092</td><td>-2310.9882</td><td>4850.9766</td><td>6377</td><td>134.63677</td><td>127.34684</td><td>44.03909</td><td>2556.737</td><td>3085.0612</td><td>1387.8637</td><td>51.067777</td><td>27.951886</td><td>52.844121</td><td>24.174041265758277,15.787027134330158</td><td>26.607724</td><td>0.021984079</td><td>PN</td><td>True</td><td>False</td><td>True</td><td>False</td><td>-3.3022756</td><td>52.844121</td><td>0.58434441</td><td>0.03671168</td><td>False</td></tr>\n",
       "<tr><td>17</td><td>703</td><td>425.8691400021871</td><td>790.9991014255163</td><td>3.82</td><td>0</td><td>4409.9703</td><td>3601.1615</td><td>666.46685</td><td>184.63202</td><td>12.782166</td><td>72.023111</td><td>8628.6265</td><td>15245.003</td><td>9186.9417</td><td>124.73116</td><td>203.05623</td><td>27.283487</td><td>3763.8846</td><td>7002.5993</td><td>4358.5024</td><td>98.145984</td><td>96.526134</td><td>27.139678</td><td>91.354758</td><td>3091.3573</td><td>3100.2994</td><td>91.354758</td><td>69.5332</td><td>27.139678</td><td>3182.4318</td><td>5001.4433</td><td>2899.9763</td><td>175.7553</td><td>54.915473</td><td>27.283487</td><td>2244.271</td><td>2630.5433</td><td>1140.765</td><td>64.129164</td><td>21.786577</td><td>72.023111</td><td>24.190214831761132,15.785525367000988</td><td>27.148911</td><td>0.045456467</td><td>HII</td><td>True</td><td>True</td><td>True</td><td>False</td><td>-2.7610892</td><td>27.283487</td><td>-0.44872365</td><td>0.019014312</td><td>False</td></tr>\n",
       "<tr><td>18</td><td>587</td><td>704.3262824926306</td><td>831.6082097489353</td><td>3.71</td><td>0</td><td>8213.1221</td><td>3389.5366</td><td>-2076.0343</td><td>126.49482</td><td>-41.988647</td><td>38.431212</td><td>6335.6667</td><td>13401.336</td><td>8953.1359</td><td>106.1425</td><td>208.68538</td><td>44.823678</td><td>1160.3982</td><td>6346.7152</td><td>5531.5453</td><td>93.651205</td><td>129.18901</td><td>46.075304</td><td>87.109996</td><td>3246.1097</td><td>3290.0515</td><td>87.109996</td><td>77.814898</td><td>46.075304</td><td>2829.9266</td><td>5229.2963</td><td>3360.6004</td><td>129.20102</td><td>67.110214</td><td>44.823678</td><td>3312.6051</td><td>3144.5233</td><td>945.57001</td><td>43.949232</td><td>19.043992</td><td>38.431212</td><td>24.174138518474134,15.787780767673443</td><td>26.473729</td><td>0.016722022</td><td>HII</td><td>True</td><td>True</td><td>True</td><td>False</td><td>-3.4362707</td><td>38.431212</td><td>0.039674936</td><td>0.010582815</td><td>False</td></tr>\n",
       "<tr><td>19</td><td>759</td><td>449.62522066708</td><td>925.1181620280817</td><td>3.82</td><td>0</td><td>10618.931</td><td>7537.9684</td><td>471.40827</td><td>202.19383</td><td>9.0411377</td><td>79.001837</td><td>21174.853</td><td>35157.814</td><td>20291.187</td><td>161.74655</td><td>448.49006</td><td>34.463655</td><td>5827.5947</td><td>10387.489</td><td>6293.6538</td><td>105.88643</td><td>139.38321</td><td>36.025648</td><td>485.1025</td><td>4534.9598</td><td>4192.9397</td><td>97.966904</td><td>94.038825</td><td>36.025648</td><td>6638.1603</td><td>10552.816</td><td>6169.4153</td><td>190.69693</td><td>116.82728</td><td>34.463655</td><td>4278.489</td><td>3857.2652</td><td>1017.1448</td><td>70.286859</td><td>19.425652</td><td>79.001837</td><td>24.188843239866113,15.792976415603187</td><td>26.194798</td><td>0.020673376</td><td>HII</td><td>True</td><td>True</td><td>True</td><td>False</td><td>-3.715202</td><td>34.463655</td><td>-0.40532232</td><td>0.0088345924</td><td>False</td></tr>\n",
       "<tr><td>20</td><td>609</td><td>607.0475171047601</td><td>953.5953287022363</td><td>3.71</td><td>0</td><td>6970.0557</td><td>3968.2623</td><td>-670.0875</td><td>170.14832</td><td>-13.552795</td><td>54.158456</td><td>107.9156</td><td>8016.1258</td><td>8925.4313</td><td>107.9156</td><td>208.03962</td><td>51.839637</td><td>21314.68</td><td>18385.681</td><td>3412.2996</td><td>113.88405</td><td>79.694117</td><td>49.278159</td><td>99.818457</td><td>2343.4127</td><td>2522.0636</td><td>99.818457</td><td>59.650776</td><td>49.278159</td><td>-802.59849</td><td>4115.6895</td><td>4645.6723</td><td>154.15603</td><td>92.772728</td><td>51.839637</td><td>3400.9596</td><td>2794.6562</td><td>537.05203</td><td>59.178897</td><td>10.816348</td><td>54.158456</td><td>24.179754378999803,15.794558194788415</td><td>26.651909</td><td>0.026504263</td><td>HII</td><td>True</td><td>False</td><td>True</td><td>False</td><td>-3.2580906</td><td>54.158456</td><td>-0.48763584</td><td>0.011068544</td><td>False</td></tr>\n",
       "<tr><td>21</td><td>595</td><td>669.515346509321</td><td>889.786373305892</td><td>3.71</td><td>0</td><td>7124.694</td><td>3665.1465</td><td>-1076.1101</td><td>116.89789</td><td>-21.764771</td><td>27.444081</td><td>110.97687</td><td>29565.743</td><td>30487.744</td><td>110.97687</td><td>710.6277</td><td>28.321481</td><td>76.701037</td><td>6099.5289</td><td>7187.9228</td><td>76.701037</td><td>167.87364</td><td>30.87624</td><td>73.106947</td><td>3674.3117</td><td>4241.3543</td><td>73.106947</td><td>100.31471</td><td>30.87624</td><td>304.43475</td><td>10987.504</td><td>10786.475</td><td>127.02276</td><td>215.40278</td><td>28.321481</td><td>2816.6761</td><td>2666.0604</td><td>796.31172</td><td>40.608196</td><td>16.037897</td><td>27.444081</td><td>24.176148035531664,15.79101303497019</td><td>26.628084</td><td>0.017814136</td><td>PN</td><td>True</td><td>False</td><td>False</td><td>False</td><td>-3.2819155</td><td>27.444081</td><td>1.5793531</td><td>0.31225328</td><td>False</td></tr>\n",
       "<tr><td>22</td><td>706</td><td>535.6624566532163</td><td>796.1219656741885</td><td>3.82</td><td>0</td><td>2613.1655</td><td>2690.1518</td><td>951.17351</td><td>203.68982</td><td>18.242554</td><td>45.606125</td><td>3062.764</td><td>21257.615</td><td>19107.283</td><td>144.66934</td><td>422.32257</td><td>29.860529</td><td>114.32657</td><td>6879.3212</td><td>6991.7337</td><td>114.32657</td><td>154.84333</td><td>35.277967</td><td>111.90788</td><td>4210.7099</td><td>4377.9613</td><td>111.90788</td><td>98.188471</td><td>35.277967</td><td>1272.7148</td><td>7623.6885</td><td>6783.272</td><td>197.72222</td><td>128.4516</td><td>29.860529</td><td>1225.6594</td><td>2405.328</td><td>1591.7183</td><td>70.838577</td><td>30.398981</td><td>45.606125</td><td>24.183876140593423,15.785809851021787</td><td>27.717083</td><td>0.084630466</td><td>PN</td><td>True</td><td>True</td><td>False</td><td>False</td><td>-2.1929173</td><td>29.860529</td><td>-0.084862685</td><td>0.042205217</td><td>False</td></tr>\n",
       "<tr><td>23</td><td>534</td><td>519.8341233410752</td><td>184.74629823568887</td><td>3.71</td><td>0</td><td>4494.8638</td><td>4560.4225</td><td>1569.234</td><td>99.095551</td><td>31.738403</td><td>27.536942</td><td>2491.4664</td><td>12494.087</td><td>10744.857</td><td>101.88985</td><td>250.44795</td><td>29.877354</td><td>1358.3504</td><td>5040.0093</td><td>4085.7798</td><td>72.648865</td><td>95.423217</td><td>31.403791</td><td>134.60198</td><td>3664.6445</td><td>3569.7438</td><td>64.594399</td><td>84.430062</td><td>31.403791</td><td>-163.05835</td><td>4341.5479</td><td>4449.2208</td><td>97.272215</td><td>88.849648</td><td>29.877354</td><td>1542.0134</td><td>2057.0228</td><td>1033.4129</td><td>34.427761</td><td>20.813168</td><td>27.536942</td><td>24.184791026452388,15.75184457013328</td><td>27.128209</td><td>0.023936571</td><td>PN</td><td>True</td><td>True</td><td>True</td><td>False</td><td>-2.7817913</td><td>27.536942</td><td>0.067276476</td><td>0.017057358</td><td>False</td></tr>\n",
       "<tr><td>24</td><td>624</td><td>673.1400626607264</td><td>989.0678380057044</td><td>3.71</td><td>0</td><td>6268.5615</td><td>3602.2164</td><td>-569.31138</td><td>158.07783</td><td>-11.514557</td><td>48.285405</td><td>3887.4874</td><td>10457.765</td><td>7728.4039</td><td>112.61783</td><td>180.13855</td><td>27.495824</td><td>91.979397</td><td>3577.8563</td><td>3910.3208</td><td>91.979397</td><td>91.32538</td><td>31.965803</td><td>94.912077</td><td>2966.1985</td><td>2899.281</td><td>91.565399</td><td>68.572562</td><td>31.965803</td><td>996.48851</td><td>4273.8687</td><td>3615.8538</td><td>134.22506</td><td>72.20755</td><td>27.495824</td><td>2839.4219</td><td>2560.0288</td><td>675.18116</td><td>54.929873</td><td>13.5983</td><td>48.285405</td><td>24.175938349979564,15.796528657189478</td><td>26.76708</td><td>0.027379619</td><td>PN</td><td>True</td><td>True</td><td>False</td><td>False</td><td>-3.1429197</td><td>48.285405</td><td>0.197343</td><td>0.01928108</td><td>False</td></tr>\n",
       "<tr><td>25</td><td>564</td><td>625.6014357283516</td><td>246.16314306612304</td><td>3.71</td><td>0</td><td>5784.9302</td><td>4116.4916</td><td>266.80497</td><td>110.69727</td><td>5.3962402</td><td>47.176424</td><td>87.855926</td><td>4478.4143</td><td>5494.5164</td><td>87.855926</td><td>128.06968</td><td>26.126104</td><td>282.24223</td><td>2447.692</td><td>2249.4192</td><td>67.793989</td><td>52.535093</td><td>25.044716</td><td>60.768479</td><td>1521.8435</td><td>1923.5876</td><td>60.768479</td><td>45.495877</td><td>25.044716</td><td>-1140.7031</td><td>1439.8996</td><td>2193.1443</td><td>94.401756</td><td>43.796455</td><td>26.126104</td><td>2355.931</td><td>2135.1031</td><td>571.20341</td><td>38.463152</td><td>11.504165</td><td>47.176424</td><td>24.178685582911648,15.755256353006047</td><td>26.854255</td><td>0.020776056</td><td>PN</td><td>True</td><td>False</td><td>False</td><td>False</td><td>-3.0557453</td><td>47.176424</td><td>1.1939812</td><td>0.13048533</td><td>False</td></tr>\n",
       "<tr><td>26</td><td>723</td><td>553.862837113225</td><td>836.7359444790359</td><td>3.82</td><td>0</td><td>2294.9751</td><td>1720.2737</td><td>193.04094</td><td>187.8211</td><td>3.7023315</td><td>50.959075</td><td>120.78934</td><td>7029.6944</td><td>9929.4588</td><td>120.78934</td><td>219.46787</td><td>39.152407</td><td>109.78356</td><td>3046.1503</td><td>4899.9717</td><td>109.78356</td><td>108.51785</td><td>48.294264</td><td>109.54549</td><td>1944.4444</td><td>3170.6962</td><td>109.54549</td><td>71.112053</td><td>48.294264</td><td>-2579.8636</td><td>1927.278</td><td>3630.8489</td><td>179.41451</td><td>68.755659</td><td>39.152407</td><td>1241.3161</td><td>2176.89</td><td>1352.8871</td><td>65.331302</td><td>25.837732</td><td>50.959075</td><td>24.182825286365514,15.788066145595208</td><td>27.858055</td><td>0.088856812</td><td>PN</td><td>True</td><td>False</td><td>False</td><td>False</td><td>-2.0519449</td><td>50.959075</td><td>0.9979697</td><td>0.3094899</td><td>False</td></tr>\n",
       "<tr><td>27</td><td>606</td><td>693.0658712768351</td><td>946.3871965711318</td><td>3.71</td><td>0</td><td>4563.8493</td><td>2756.304</td><td>-280.79222</td><td>153.96524</td><td>-5.6791382</td><td>29.255167</td><td>130.40173</td><td>15448.52</td><td>16272.192</td><td>130.40173</td><td>379.28259</td><td>36.139743</td><td>102.13383</td><td>5565.2542</td><td>6368.1024</td><td>102.13383</td><td>148.72677</td><td>40.438928</td><td>97.105214</td><td>3451.7834</td><td>4004.5938</td><td>97.105214</td><td>94.714949</td><td>40.438928</td><td>-384.15821</td><td>6597.1395</td><td>6850.8121</td><td>157.5331</td><td>136.80873</td><td>36.139743</td><td>2160.4026</td><td>2188.4705</td><td>754.36523</td><td>53.522748</td><td>15.193085</td><td>29.255167</td><td>24.17478810564248,15.794157427415934</td><td>27.111672</td><td>0.036628211</td><td>PN</td><td>True</td><td>False</td><td>False</td><td>False</td><td>-2.7983282</td><td>29.255167</td><td>1.2928419</td><td>0.30970008</td><td>False</td></tr>\n",
       "<tr><td>28</td><td>745</td><td>465.46953352760494</td><td>877.0906836541875</td><td>3.82</td><td>0</td><td>4592.1611</td><td>3499.4887</td><td>443.55197</td><td>177.08278</td><td>8.5068817</td><td>61.849682</td><td>796.4849</td><td>7055.8717</td><td>6496.6686</td><td>117.02638</td><td>143.59393</td><td>37.36317</td><td>96.486011</td><td>3268.5062</td><td>3471.7837</td><td>96.486011</td><td>76.888303</td><td>39.777403</td><td>96.041935</td><td>2028.0361</td><td>2589.1746</td><td>96.041935</td><td>58.069745</td><td>39.777403</td><td>-80.599132</td><td>2798.6854</td><td>2851.9077</td><td>166.26915</td><td>54.005221</td><td>37.36317</td><td>1843.2371</td><td>2085.4776</td><td>861.91119</td><td>61.508266</td><td>16.460967</td><td>61.849682</td><td>24.187928511639427,15.790308210715507</td><td>27.104957</td><td>0.041868128</td><td>PN</td><td>True</td><td>False</td><td>False</td><td>False</td><td>-2.8050428</td><td>61.849682</td><td>0.7111798</td><td>0.075643076</td><td>False</td></tr>\n",
       "<tr><td>29</td><td>580</td><td>668.8849656313085</td><td>794.4083344134416</td><td>3.71</td><td>0</td><td>4279.5047</td><td>-732.12654</td><td>-3580.0005</td><td>149.71325</td><td>-72.406982</td><td>64.519619</td><td>17354.964</td><td>32038.451</td><td>19853.725</td><td>129.05696</td><td>462.76324</td><td>27.606357</td><td>4873.4035</td><td>11917.133</td><td>8493.6082</td><td>106.57293</td><td>198.36787</td><td>35.799632</td><td>1384.6667</td><td>5099.5409</td><td>4123.2855</td><td>94.554279</td><td>97.522194</td><td>35.799632</td><td>4219.2314</td><td>10167.638</td><td>7381.5372</td><td>142.71812</td><td>147.40715</td><td>27.606357</td><td>1416.5871</td><td>2090.8788</td><td>1150.5286</td><td>51.999801</td><td>23.171905</td><td>64.519619</td><td>24.17618482215736,15.785714257713634</td><td>27.181516</td><td>0.037983156</td><td>HII</td><td>True</td><td>True</td><td>True</td><td>True</td><td>-2.7284838</td><td>27.606357</td><td>-0.71551406</td><td>0.015541195</td><td>False</td></tr>\n",
       "<tr><td>30</td><td>510</td><td>599.7693959421091</td><td>142.56230520271578</td><td>3.71</td><td>0</td><td>4491.6271</td><td>3931.8841</td><td>942.8495</td><td>110.39793</td><td>19.069519</td><td>73.958868</td><td>93.444224</td><td>8157.4683</td><td>8301.6785</td><td>93.444224</td><td>193.50079</td><td>20.632897</td><td>1732.8082</td><td>4595.3086</td><td>3378.0256</td><td>69.369615</td><td>78.893648</td><td>25.430915</td><td>64.033096</td><td>3242.0144</td><td>3336.4136</td><td>64.033096</td><td>78.911437</td><td>25.430915</td><td>-559.76691</td><td>2943.5892</td><td>3313.2222</td><td>97.678668</td><td>66.164086</td><td>20.632897</td><td>1609.7488</td><td>1851.6381</td><td>783.06447</td><td>38.360162</td><td>15.771094</td><td>73.958868</td><td>24.180177029651297,15.749500833222656</td><td>27.128991</td><td>0.026685882</td><td>PN</td><td>True</td><td>False</td><td>True</td><td>False</td><td>-2.7810092</td><td>73.958868</td><td>0.39084288</td><td>0.029662746</td><td>False</td></tr>\n",
       "<tr><td>31</td><td>618</td><td>610.0303923939433</td><td>980.2403115580867</td><td>3.71</td><td>0</td><td>4560.0983</td><td>2988.685</td><td>-45.915007</td><td>154.88111</td><td>-0.9286499</td><td>69.499881</td><td>3122.2227</td><td>14648.593</td><td>12456.516</td><td>123.59709</td><td>290.34438</td><td>37.639251</td><td>93.192255</td><td>3591.5465</td><td>4577.1182</td><td>93.192255</td><td>106.8984</td><td>34.710894</td><td>92.936957</td><td>3131.9945</td><td>3735.6304</td><td>92.936957</td><td>88.353543</td><td>34.710894</td><td>114.42249</td><td>5529.9375</td><td>5454.3805</td><td>143.50382</td><td>108.92239</td><td>37.639251</td><td>2717.0754</td><td>2339.8787</td><td>536.24623</td><td>53.786412</td><td>10.800119</td><td>69.499881</td><td>24.179582076759985,15.796038462508086</td><td>27.112564</td><td>0.036876405</td><td>PN</td><td>True</td><td>True</td><td>False</td><td>False</td><td>-2.7974355</td><td>69.499881</td><td>0.15173718</td><td>0.025587079</td><td>False</td></tr>\n",
       "<tr><td>32</td><td>555</td><td>456.3259539343171</td><td>227.70018686490604</td><td>3.71</td><td>0</td><td>3828.3333</td><td>4703.6127</td><td>2155.9789</td><td>107.7741</td><td>43.60556</td><td>82.193557</td><td>110.57581</td><td>18962.02</td><td>22151.922</td><td>110.57581</td><td>516.33106</td><td>33.389746</td><td>72.977927</td><td>5848.5122</td><td>7244.3999</td><td>72.977927</td><td>169.19266</td><td>30.516579</td><td>70.42285</td><td>4413.0721</td><td>5093.9531</td><td>70.42285</td><td>120.48001</td><td>30.516579</td><td>-3300.4329</td><td>5675.9933</td><td>7855.3803</td><td>107.53426</td><td>156.86967</td><td>33.389746</td><td>1525.4461</td><td>2195.6356</td><td>1183.0233</td><td>37.469806</td><td>23.826354</td><td>82.193557</td><td>24.188456892655225,15.754230972388676</td><td>27.302476</td><td>0.030565323</td><td>PN</td><td>True</td><td>False</td><td>False</td><td>False</td><td>-2.6075244</td><td>82.193557</td><td>1.3192465</td><td>0.313707</td><td>False</td></tr>\n",
       "<tr><td>33</td><td>616</td><td>808.1393532678289</td><td>975.2202368815896</td><td>3.71</td><td>0</td><td>2825.5871</td><td>1456.6843</td><td>-423.65383</td><td>85.868475</td><td>-8.568573</td><td>26.196636</td><td>2485.7366</td><td>9870.1719</td><td>8124.9641</td><td>77.242273</td><td>189.38182</td><td>28.917704</td><td>1201.0263</td><td>4091.9969</td><td>3248.2862</td><td>59.948229</td><td>75.863589</td><td>29.458601</td><td>268.74851</td><td>2707.8747</td><td>2518.3943</td><td>56.835113</td><td>59.563992</td><td>29.458601</td><td>-137.32337</td><td>3654.6278</td><td>3745.307</td><td>86.829425</td><td>74.792694</td><td>28.917704</td><td>1414.7106</td><td>1484.5105</td><td>545.40596</td><td>29.830917</td><td>10.984598</td><td>26.196636</td><td>24.168144121387385,15.795758664343268</td><td>27.632228</td><td>0.032995094</td><td>PN</td><td>True</td><td>True</td><td>True</td><td>False</td><td>-2.2777718</td><td>26.196636</td><td>-0.1155365</td><td>0.017517112</td><td>False</td></tr>\n",
       "<tr><td>34</td><td>592</td><td>732.7639081046455</td><td>881.3056894749318</td><td>3.71</td><td>0</td><td>3204.5453</td><td>860.53519</td><td>-1271.9875</td><td>109.8249</td><td>-25.726471</td><td>34.372877</td><td>17672.182</td><td>19155.031</td><td>6747.5898</td><td>97.952237</td><td>157.27711</td><td>20.676797</td><td>3011.5184</td><td>5589.6525</td><td>3474.0865</td><td>74.239822</td><td>81.137147</td><td>28.015359</td><td>1086.9386</td><td>2884.3878</td><td>2118.0447</td><td>69.24769</td><td>50.095093</td><td>28.015359</td><td>5754.3269</td><td>6145.5402</td><td>2345.7642</td><td>112.81579</td><td>46.84423</td><td>20.676797</td><td>1520.6596</td><td>1577.6745</td><td>568.23956</td><td>38.149468</td><td>11.444472</td><td>34.372877</td><td>24.172496460725764,15.79054160466545</td><td>27.495584</td><td>0.037209919</td><td>HII</td><td>True</td><td>True</td><td>True</td><td>True</td><td>-2.414416</td><td>20.676797</td><td>-0.80986183</td><td>0.015106038</td><td>False</td></tr>\n",
       "<tr><td>35</td><td>659</td><td>625.6357700282646</td><td>1063.8914028914492</td><td>3.71</td><td>0</td><td>632.79818</td><td>1762.5827</td><td>1341.4756</td><td>143.65022</td><td>27.131897</td><td>70.770696</td><td>3942.8297</td><td>11647.803</td><td>8879.5862</td><td>108.4477</td><td>206.97103</td><td>36.497645</td><td>2690.209</td><td>5893.456</td><td>4003.6071</td><td>87.996946</td><td>93.504078</td><td>32.298203</td><td>1222.6194</td><td>3606.9101</td><td>2744.9057</td><td>94.726572</td><td>64.921343</td><td>32.298203</td><td>-296.70261</td><td>4370.9373</td><td>4566.86</td><td>138.34338</td><td>91.198869</td><td>36.497645</td><td>991.7713</td><td>1709.5736</td><td>1051.2221</td><td>49.932597</td><td>21.171848</td><td>70.770696</td><td>24.178680800616483,15.80068569552277</td><td>29.256837</td><td>0.24647076</td><td>HII</td><td>False</td><td>True</td><td>True</td><td>True</td><td>-0.65316305</td><td>32.298203</td><td>-1.0204473</td><td>0.099011449</td><td>False</td></tr>\n",
       "<tr><td>36</td><td>649</td><td>800.648583257268</td><td>1043.9574072921519</td><td>3.71</td><td>0</td><td>3063.3672</td><td>2833.8821</td><td>795.30887</td><td>95.197696</td><td>16.085449</td><td>34.275662</td><td>122.62544</td><td>34604.107</td><td>36307.058</td><td>122.62544</td><td>846.26795</td><td>23.983769</td><td>74.272153</td><td>9036.8551</td><td>9667.536</td><td>74.272153</td><td>225.7849</td><td>20.521202</td><td>67.373864</td><td>5819.5812</td><td>6065.7739</td><td>67.373864</td><td>143.4651</td><td>20.521202</td><td>178.74174</td><td>10729.457</td><td>10611.428</td><td>109.72201</td><td>211.90714</td><td>23.983769</td><td>1071.3033</td><td>1614.8888</td><td>903.74277</td><td>33.066449</td><td>18.201582</td><td>34.275662</td><td>24.168576180774416,15.799577440750705</td><td>27.544502</td><td>0.033740514</td><td>PN</td><td>True</td><td>False</td><td>False</td><td>False</td><td>-2.3654976</td><td>34.275662</td><td>1.1919587</td><td>0.31650489</td><td>False</td></tr>\n",
       "<tr><td>37</td><td>601</td><td>730.3555612649934</td><td>918.6376218193789</td><td>3.71</td><td>0</td><td>4895.4117</td><td>2003.04</td><td>-1254.7004</td><td>100.55112</td><td>-25.376831</td><td>62.030333</td><td>79.952182</td><td>5895.5461</td><td>6157.1634</td><td>79.952182</td><td>143.51507</td><td>40.329836</td><td>65.972694</td><td>2917.7716</td><td>3010.3088</td><td>65.972694</td><td>70.305636</td><td>35.931036</td><td>265.27769</td><td>2287.7952</td><td>2100.7619</td><td>63.226653</td><td>49.686327</td><td>35.931036</td><td>262.63721</td><td>2612.0858</td><td>2438.6576</td><td>94.989312</td><td>48.699284</td><td>40.329836</td><td>1668.5107</td><td>1532.4823</td><td>424.90174</td><td>34.929582</td><td>8.5576163</td><td>62.030333</td><td>24.172635315130453,15.792615612617961</td><td>27.035527</td><td>0.02230088</td><td>PN</td><td>True</td><td>False</td><td>False</td><td>False</td><td>-2.8744731</td><td>62.030333</td><td>1.5256599</td><td>0.30862746</td><td>False</td></tr>\n",
       "<tr><td>38</td><td>666</td><td>602.7301701663868</td><td>1081.0232859026985</td><td>3.71</td><td>0</td><td>1430.6388</td><td>513.72897</td><td>-438.31555</td><td>163.23544</td><td>-8.8651123</td><td>75.405988</td><td>1061.5022</td><td>6296.3477</td><td>5551.0789</td><td>108.41155</td><td>129.38807</td><td>44.371483</td><td>580.97324</td><td>2432.9777</td><td>2024.8489</td><td>100.83782</td><td>47.290263</td><td>58.728426</td><td>629.32658</td><td>2402.0273</td><td>1958.3224</td><td>102.68797</td><td>46.317408</td><td>58.728426</td><td>-232.8012</td><td>3269.3086</td><td>3423.0351</td><td>140.08109</td><td>68.357017</td><td>44.371483</td><td>1590.752</td><td>1612.2582</td><td>556.29493</td><td>56.699529</td><td>11.203905</td><td>75.405988</td><td>24.180003252573382,15.80163753829062</td><td>28.371175</td><td>0.12388216</td><td>PN</td><td>False</td><td>True</td><td>False</td><td>False</td><td>-1.538825</td><td>44.371483</td><td>-0.059968875</td><td>0.063151547</td><td>False</td></tr>\n",
       "<tr><td>39</td><td>590</td><td>742.2131987226436</td><td>857.7177183594241</td><td>3.71</td><td>0</td><td>2376.1097</td><td>64.45778</td><td>-1516.7675</td><td>126.14614</td><td>-30.677246</td><td>74.800492</td><td>4417.1446</td><td>13694.49</td><td>10593.263</td><td>90.160115</td><td>246.91449</td><td>26.553267</td><td>72.115306</td><td>4196.3672</td><td>4756.9029</td><td>72.115306</td><td>111.09727</td><td>28.285028</td><td>68.571583</td><td>2278.3944</td><td>2802.6216</td><td>68.571583</td><td>66.286415</td><td>28.285028</td><td>427.58747</td><td>4378.3467</td><td>4095.9963</td><td>103.60928</td><td>81.795857</td><td>26.553267</td><td>860.25546</td><td>1310.9484</td><td>739.89887</td><td>43.840749</td><td>14.901729</td><td>74.800492</td><td>24.171951037127027,15.78923111465351</td><td>27.820334</td><td>0.057641037</td><td>PN</td><td>True</td><td>True</td><td>False</td><td>False</td><td>-2.0896662</td><td>26.553267</td><td>-0.27630826</td><td>0.025619246</td><td>False</td></tr>\n",
       "<tr><td>40</td><td>546</td><td>631.4513888059629</td><td>209.64119823519457</td><td>3.71</td><td>0</td><td>1565.2263</td><td>2021.9984</td><td>980.39026</td><td>125.24933</td><td>19.828796</td><td>104.80681</td><td>21690.363</td><td>27285.244</td><td>12056.684</td><td>130.33054</td><td>281.02485</td><td>12.628286</td><td>3254.1174</td><td>6388.6369</td><td>4102.6472</td><td>76.836193</td><td>95.817155</td><td>18.732271</td><td>2081.1601</td><td>4590.7941</td><td>3123.478</td><td>69.541881</td><td>73.875174</td><td>18.732271</td><td>5488.7394</td><td>7814.1636</td><td>4189.7639</td><td>117.40767</td><td>83.66837</td><td>12.628286</td><td>1241.8363</td><td>1465.895</td><td>641.54688</td><td>43.480491</td><td>12.920898</td><td>104.80681</td><td>24.178348027317686,15.753227337374625</td><td>28.273557</td><td>0.086880559</td><td>HII</td><td>True</td><td>True</td><td>True</td><td>True</td><td>-1.6364428</td><td>18.732271</td><td>-1.2023973</td><td>0.034851908</td><td>False</td></tr>\n",
       "<tr><td>41</td><td>656</td><td>632.7670369808321</td><td>1056.3016387169678</td><td>3.71</td><td>0</td><td>1331.224</td><td>1217.0516</td><td>331.16444</td><td>168.2184</td><td>6.697937</td><td>77.503555</td><td>107.62832</td><td>7854.2189</td><td>10239.054</td><td>107.62832</td><td>238.65837</td><td>41.821003</td><td>92.319222</td><td>2827.4054</td><td>3965.4111</td><td>92.319222</td><td>92.612012</td><td>48.573115</td><td>98.020484</td><td>2476.4382</td><td>3132.664</td><td>98.020484</td><td>74.092436</td><td>48.573115</td><td>-560.70658</td><td>3935.237</td><td>4305.4905</td><td>141.17226</td><td>85.979395</td><td>41.821003</td><td>1231.5016</td><td>1529.6734</td><td>712.18555</td><td>58.465734</td><td>14.343577</td><td>77.503555</td><td>24.178269088327834,15.800264018076511</td><td>28.449372</td><td>0.13719765</td><td>PN</td><td>False</td><td>False</td><td>False</td><td>False</td><td>-1.4606279</td><td>77.503555</td><td>0.82333507</td><td>0.31284246</td><td>False</td></tr>\n",
       "</table><style>table.dataTable {clear: both; width: auto !important; margin: 0 !important;}\n",
       ".dataTables_info, .dataTables_length, .dataTables_filter, .dataTables_paginate{\n",
       "display: inline-block; margin-right: 1em; }\n",
       ".paginate_button { margin-right: 5px; }\n",
       "</style>\n",
       "<script>\n",
       "\n",
       "var astropy_sort_num = function(a, b) {\n",
       "    var a_num = parseFloat(a);\n",
       "    var b_num = parseFloat(b);\n",
       "\n",
       "    if (isNaN(a_num) && isNaN(b_num))\n",
       "        return ((a < b) ? -1 : ((a > b) ? 1 : 0));\n",
       "    else if (!isNaN(a_num) && !isNaN(b_num))\n",
       "        return ((a_num < b_num) ? -1 : ((a_num > b_num) ? 1 : 0));\n",
       "    else\n",
       "        return isNaN(a_num) ? -1 : 1;\n",
       "}\n",
       "\n",
       "require.config({paths: {\n",
       "    datatables: 'https://cdn.datatables.net/1.10.12/js/jquery.dataTables.min'\n",
       "}});\n",
       "require([\"datatables\"], function(){\n",
       "    console.log(\"$('#table1610078864552-41348').dataTable()\");\n",
       "    \n",
       "jQuery.extend( jQuery.fn.dataTableExt.oSort, {\n",
       "    \"optionalnum-asc\": astropy_sort_num,\n",
       "    \"optionalnum-desc\": function (a,b) { return -astropy_sort_num(a, b); }\n",
       "});\n",
       "\n",
       "    $('#table1610078864552-41348').dataTable({\n",
       "        order: [],\n",
       "        pageLength: 50,\n",
       "        lengthMenu: [[10, 25, 50, 100, 500, 1000, -1], [10, 25, 50, 100, 500, 1000, 'All']],\n",
       "        pagingType: \"full_numbers\",\n",
       "        columnDefs: [{targets: [0, 1, 2, 3, 4, 5, 6, 7, 8, 9, 10, 11, 12, 13, 14, 15, 16, 17, 18, 19, 20, 21, 22, 23, 24, 25, 26, 27, 28, 29, 30, 31, 32, 33, 34, 35, 36, 37, 38, 39, 40, 41, 43, 44, 50, 51, 52, 53], type: \"optionalnum\"}]\n",
       "    });\n",
       "});\n",
       "</script>\n"
      ],
      "text/plain": [
       "<IPython.core.display.HTML object>"
      ]
     },
     "execution_count": 20,
     "metadata": {},
     "output_type": "execute_result"
    }
   ],
   "source": [
    "ID, angle, Quantity  = match_coordinates_sky(pn_NGC628_kreckel['SkyCoord'],tbl['SkyCoord'])\n",
    "#tbl[ID][angle.__lt__(Angle('0.5\"'))].show_in_notebook()"
   ]
  },
  {
   "cell_type": "code",
   "execution_count": 21,
   "metadata": {},
   "outputs": [
    {
     "name": "stdout",
     "output_type": "stream",
     "text": [
      "42 PN match within 0.5\"\n",
      "the mean deviation is 0.302 dex\n",
      "INFO:matplotlib.texmanager:No LaTeX-compatible font found for the serif font family in rcParams. Using default.\n",
      "INFO:matplotlib.texmanager:No LaTeX-compatible font found for the sans-serif font family in rcParams. Using default.\n",
      "INFO:matplotlib.texmanager:No LaTeX-compatible font found for the monospace font family in rcParams. Using default.\n",
      "INFO:matplotlib.texmanager:No LaTeX-compatible font found for the serif font family in rcParams. Using default.\n",
      "INFO:matplotlib.texmanager:No LaTeX-compatible font found for the sans-serif font family in rcParams. Using default.\n",
      "INFO:matplotlib.texmanager:No LaTeX-compatible font found for the monospace font family in rcParams. Using default.\n"
     ]
    },
    {
     "data": {
      "image/png": "[encoded data removed]",
      "text/plain": [
       "<Figure size 504x504 with 1 Axes>"
      ]
     },
     "metadata": {
      "image/png": {
       "height": 426,
       "width": 438
      },
      "needs_background": "light"
     },
     "output_type": "display_data"
    }
   ],
   "source": [
    "pn_bright = pn_NGC628_kreckel[pn_NGC628_kreckel['mOIII']<28]\n",
    "\n",
    "ID, angle, Quantity  = match_coordinates_sky(pn_bright['SkyCoord'],flux['SkyCoord'])\n",
    "\n",
    "# for each object from Kreckel et al. 2017, we search for the nearest source\n",
    "# and copy our measured quantities to compare the two\n",
    "pn_bright['mOIII_measured']  = flux[ID]['mOIII']\n",
    "pn_bright['dmOIII_measured'] = flux[ID]['dmOIII']\n",
    "pn_bright['sep'] = angle\n",
    "\n",
    "fig,ax = plt.subplots(figsize=(7,7))\n",
    "\n",
    "# we only use sources when their position agrees within this tolerance\n",
    "tolerance = '0.5\"'\n",
    "\n",
    "# calculate the difference in magnitude for those objects\n",
    "dif = np.mean(np.abs(pn_bright[angle<Angle(tolerance)]['mOIII'] - pn_bright[angle<Angle(tolerance)]['mOIII_measured']))\n",
    "\n",
    "print(f'{len(pn_bright[angle<Angle(tolerance)])} PN match within {tolerance}')\n",
    "print(f'the mean deviation is {dif:.3f} dex')\n",
    "\n",
    "ax.errorbar(pn_bright[angle<Angle(tolerance)]['mOIII'],\n",
    "            pn_bright[angle<Angle(tolerance)]['mOIII_measured'],\n",
    "            yerr=pn_bright[angle<Angle(tolerance)]['dmOIII_measured'],\n",
    "            fmt='o')\n",
    "\n",
    "ax.scatter(pn_bright[angle>Angle(tolerance)]['mOIII'],pn_bright[angle>Angle(tolerance)]['mOIII'],color='tab:orange')\n",
    "\n",
    "ax.plot([25.5,27.5],[25.5,27.5],color='black',lw=0.4)\n",
    "ax.plot([25.5,27.5],[25.,27.],color='black',lw=0.2,ls='--')\n",
    "ax.plot([25.5,27.5],[26.,28.],color='black',lw=0.2,ls='--')\n",
    "ax.set_xlabel(r'$\\mathrm{m}_{[\\mathrm{OIII}]}$ Kreckel et al. 2017',fontsize=16)\n",
    "ax.set_ylabel(r'$\\mathrm{m}_{[\\mathrm{OIII}]}$ this work',fontsize=16)\n",
    "\n",
    "plt.show()"
   ]
  },
  {
   "cell_type": "code",
   "execution_count": null,
   "metadata": {},
   "outputs": [],
   "source": [
    "from pymuse.plot.plot import single_cutout\n",
    "x,y=pn_kreckel[np.argmax(pn_kreckel['mOIII'])]['SkyCoord'].to_pixel(wcs=galaxy.wcs)\n",
    "\n",
    "single_cutout(galaxy,'OIII5006_DAP',x,y)"
   ]
  },
  {
   "cell_type": "markdown",
   "metadata": {},
   "source": [
    "while the OIII magnitudes agree fairly well, we see a huge discrepancy in the H$\\alpha$ fluxes."
   ]
  },
  {
   "cell_type": "code",
   "execution_count": null,
   "metadata": {
    "scrolled": false
   },
   "outputs": [],
   "source": [
    "table = hstack([pn_bright,flux[ID]])\n",
    "\n",
    "for col in ['OIII5006','HA6562','SII6716','NII6583']:\n",
    "    table[col][table[col]<0] = table[f'{col}_err'][table[col]<0] \n",
    "    \n",
    "table['OIII/Ha_measured'] = table['OIII5006'] / table['HA6562']\n",
    "table['Ha/SII_measured'] = table['HA6562'] / table['SII6716']\n",
    "table['Ha/NII_measured'] = table['HA6562'] / table['NII6583']\n",
    "\n",
    "    \n",
    "# print all relevant columns\n",
    "table[table['sep']<Angle('0.5s')][['mOIII_1','mOIII_2','OIII/Ha','OIII/Ha_measured','Ha/SII','Ha/SII_measured','Ha/NII','Ha/NII_measured']]"
   ]
  },
  {
   "cell_type": "code",
   "execution_count": null,
   "metadata": {},
   "outputs": [],
   "source": [
    "plt.scatter(tbl['HA6562_apbkg'],tbl['HA6562']/tbl['HA6562_err'])\n",
    "plt.xlabel(r'$\\mathrm{H}\\alpha$ Background',fontsize=16)\n",
    "plt.ylabel(r'$\\mathrm{H}\\alpha / \\mathrm{H}\\alpha_\\mathrm{err}$',fontsize=16)\n",
    "plt.show()"
   ]
  },
  {
   "cell_type": "code",
   "execution_count": null,
   "metadata": {},
   "outputs": [],
   "source": [
    "plt.scatter(tbl['HA6562_apbkg'],tbl['HA6562']/tbl['HA6562_apbkg'])\n",
    "plt.xlabel(r'$\\mathrm{H}\\alpha$ Background',fontsize=16)\n",
    "plt.ylabel(r'$\\mathrm{H}\\alpha / \\mathrm{H}\\alpha_\\mathrm{err}$',fontsize=16)\n",
    "plt.show()"
   ]
  },
  {
   "cell_type": "code",
   "execution_count": null,
   "metadata": {},
   "outputs": [],
   "source": [
    "np.sum(tbl['HA6562']/tbl['HA6562_err']<3)"
   ]
  },
  {
   "cell_type": "markdown",
   "metadata": {},
   "source": [
    "## Emission line diagnostics\n",
    "\n",
    "We built a catalgoue of possible planetary nebula and measuerd different emission lines. However this catalogue still contains objects that are similar to PN like HII regions or supernova remenants (SNR). In this next step we use emission line diagnostics to eliminate those contanimations. The distance modulus $\\mu$ is defined as the difference between the apparent and the absolute magnitude. By definition of the absolute magnitude, this relates to the distance $d$ in parsec as \n",
    "$$\n",
    "\\begin{align}\n",
    "\\mu = m - M \\\\\n",
    "d = 10^{1+\\frac{\\mu}{5}}\n",
    "\\end{align}\n",
    "$$\n",
    "\n",
    " 1. filter out HII regions\n",
    "    $$\n",
    "     4 > \\log_{10} \\frac{[\\mathrm{OIII}]}{\\mathrm{H}\\alpha +[\\mathrm{NII}]} > -0.37 M_{[\\mathrm{OIII}]} - 1.16\n",
    "    $$\n",
    " 2. filter out SNR\n",
    "    $$\n",
    "     \\mathrm{H}\\alpha / [\\mathrm{SII}] < 2.5\n",
    "    $$\n",
    "    \n",
    " 3. estimate completness limit and remove fainter sources\n",
    "    "
   ]
  },
  {
   "cell_type": "code",
   "execution_count": 19,
   "metadata": {},
   "outputs": [
    {
     "name": "stdout",
     "output_type": "stream",
     "text": [
      "INFO:pymuse.analyse:944 entries in initial catalogue\n",
      "INFO:pymuse.analyse:using mu=29.91\n",
      "INFO:pymuse.analyse:451 not detected in OIII5006\n",
      "INFO:pymuse.analyse:416 not detected in HA6562\n",
      "INFO:pymuse.analyse:481 not detected in NII6583\n",
      "INFO:pymuse.analyse:533 not detected in SII6716\n",
      "INFO:pymuse.analyse:v_sigma: median=49.92, median=32.75, sig=34.51\n",
      "INFO:pymuse.analyse:240 rows contain NaN values\n",
      "INFO:pymuse.analyse:472 objects below the completness limit of 28\n",
      "INFO:pymuse.analyse:0 objects classified as 4<log [OIII]/Ha\n",
      "INFO:pymuse.analyse:347 (317) objects classified as HII\n",
      "INFO:pymuse.analyse:123 (49) objects classified as SNR\n",
      "INFO:pymuse.analyse:234 (106) objects classified as PN\n"
     ]
    }
   ],
   "source": [
    "from pymuse.analyse import emission_line_diagnostics\n",
    "    \n",
    "tbl = emission_line_diagnostics(flux,galaxy.mu,galaxy.completeness_limit)"
   ]
  },
  {
   "cell_type": "code",
   "execution_count": null,
   "metadata": {},
   "outputs": [],
   "source": [
    "filename = basedir / 'data' / 'catalogues' / f'pn_candidates_{galaxy.name}.txt'\n",
    "with open(filename,'w',newline='\\n') as f:\n",
    "    tbl['RaDec'] = tbl['SkyCoord'].to_string(style='hmsdms',precision=2)\n",
    "    for col in tbl.colnames:\n",
    "        if col not in ['id','RaDec','type']:\n",
    "            tbl[col].info.format = '%.3f' \n",
    "    ascii.write(tbl[['id','type','x','y','RaDec','OIII5006','OIII5006_err','mOIII','dmOIII',\n",
    "                     'HA6562','HA6562_err','HA6562_detection','NII6583','NII6583_err','NII6583_detection',\n",
    "                     'SII6716','SII6716_err','SII6716_detection']][tbl['type']!='NaN'],\n",
    "                f,format='fixed_width',delimiter='\\t',overwrite=True)"
   ]
  },
  {
   "cell_type": "markdown",
   "metadata": {
    "heading_collapsed": true
   },
   "source": [
    "### Compare velocity dispersion of PN to HII-regions and SNR"
   ]
  },
  {
   "cell_type": "code",
   "execution_count": null,
   "metadata": {
    "hidden": true
   },
   "outputs": [],
   "source": [
    "completeness = 27.5\n",
    "m = np.nanmean(tbl[tbl['mOIII']<completeness]['OIII5006_SIGMA'])\n",
    "print(f'all: v_sig = {m}')\n",
    "\n",
    "for t in ['PN','HII','SNR']:\n",
    "    m = np.nanmean(tbl[(tbl['type']==t) & (tbl['mOIII']<completeness)]['OIII5006_SIGMA'])\n",
    "    std = np.nanstd(tbl[(tbl['type']==t) & (tbl['mOIII']<completeness)]['OIII5006_SIGMA'])\n",
    "\n",
    "    print(f'{t}: v_sig = {m:.2f} +- {std:.2f}')"
   ]
  },
  {
   "cell_type": "markdown",
   "metadata": {},
   "source": [
    "### Visualize the result of the classification"
   ]
  },
  {
   "cell_type": "code",
   "execution_count": null,
   "metadata": {
    "scrolled": true
   },
   "outputs": [],
   "source": [
    "from pymuse.plot.pnlf import plot_emission_line_ratio\n",
    "plot_emission_line_ratio(tbl,mu = 29.91,completeness=27.5)"
   ]
  },
  {
   "cell_type": "markdown",
   "metadata": {
    "heading_collapsed": true
   },
   "source": [
    "### Plot sky with source type"
   ]
  },
  {
   "cell_type": "code",
   "execution_count": null,
   "metadata": {
    "hidden": true
   },
   "outputs": [],
   "source": [
    "from photutils import CircularAperture\n",
    "from astropy.visualization import simple_norm\n",
    "\n",
    "# ====== define input parameters =============================\n",
    "galaxy = NGC628\n",
    "labels=['SII6716','HA6562','OIII5006']\n",
    "wcs=NGC628.wcs\n",
    "# ============================================================\n",
    "\n",
    "table = tbl\n",
    "\n",
    "fig, (ax1,ax2) = plt.subplots(ncols=2,figsize=(20,10),subplot_kw={'projection':wcs})\n",
    "\n",
    "norm = simple_norm(galaxy.HA6562,'linear',clip=False,max_percent=95)\n",
    "ax1.imshow(galaxy.HA6562,norm=norm,cmap=plt.cm.Greens_r)\n",
    "\n",
    "norm = simple_norm(galaxy.OIII5006_DAP,'linear',clip=False,max_percent=95)\n",
    "ax2.imshow(galaxy.OIII5006_DAP,norm=norm,cmap=plt.cm.Blues_r)\n",
    "\n",
    "for t,c in zip(['HII','SNR','PN'],['black','red','yellow']):\n",
    "    \n",
    "    sub = table[table['type']==t]\n",
    "    positions = np.transpose([sub['x'],sub['y']])\n",
    "    apertures = CircularAperture(positions, r=6)\n",
    "    apertures.plot(color=c,lw=.5, alpha=1,ax=ax1)\n",
    "    apertures.plot(color=c,lw=.5, alpha=1,ax=ax2)\n",
    "\n",
    "ax1.set_title('HA6562')\n",
    "ax2.set_title('OIII5006')\n",
    "\n",
    "plt.savefig(basedir / 'reports' / 'figures' / 'NGC628_detections_classification.pdf')"
   ]
  },
  {
   "cell_type": "markdown",
   "metadata": {
    "heading_collapsed": true
   },
   "source": [
    "### Compare classification to the results from Francesco Santoro"
   ]
  },
  {
   "cell_type": "code",
   "execution_count": null,
   "metadata": {
    "hidden": true
   },
   "outputs": [],
   "source": [
    "from pymuse.detection import match_catalogues"
   ]
  },
  {
   "cell_type": "code",
   "execution_count": null,
   "metadata": {
    "hidden": true
   },
   "outputs": [],
   "source": [
    "with fits.open(basedir / 'data' / 'external' / 'FS_cat_v01.fits') as hdul:\n",
    "    cat_FS = Table(hdul[1].data)"
   ]
  },
  {
   "cell_type": "markdown",
   "metadata": {
    "hidden": true
   },
   "source": [
    "Search for PNe that were classified by Francescos in my catalogue"
   ]
  },
  {
   "cell_type": "code",
   "execution_count": null,
   "metadata": {
    "hidden": true
   },
   "outputs": [],
   "source": [
    "del tbl['SkyCoord']\n",
    "PNe_candidates = cat_FS[(cat_FS['gal_name']=='NGC628') & (cat_FS['PNe_candidate']==1)]\n",
    "idx, sep = match_catalogues(PNe_candidates[['cen_x','cen_y']],tbl[['x','y']])\n",
    "\n",
    "max_sep = 2\n",
    "print(f'sep < {max_sep} px: {sum(sep<max_sep)/len(sep)*100:.2f} %')\n",
    "tbl[(idx)][sep<max_sep]"
   ]
  },
  {
   "cell_type": "markdown",
   "metadata": {
    "hidden": true
   },
   "source": [
    "#### Compare the measured fluxes"
   ]
  },
  {
   "cell_type": "code",
   "execution_count": null,
   "metadata": {
    "hidden": true
   },
   "outputs": [],
   "source": [
    "tmp = hstack([PNe_candidates,tbl[(idx)][sep<max_sep]])\n",
    "\n",
    "tmp[['OIII5006_FLUX', 'OIII5006', 'HA6562_FLUX', 'HA6562', 'NII6583_FLUX','NII6583', 'SII6716_FLUX' ,'SII6716']]"
   ]
  },
  {
   "cell_type": "markdown",
   "metadata": {
    "hidden": true
   },
   "source": [
    "Search for HII regions that were classified by me in Francescos catalogue"
   ]
  },
  {
   "cell_type": "code",
   "execution_count": null,
   "metadata": {
    "hidden": true
   },
   "outputs": [],
   "source": [
    "HII_candidates = tbl[tbl['type'] == 'HII']\n",
    "catalogue = cat_FS[(~np.isnan(cat_FS['cen_x'])) & (~np.isnan(cat_FS['cen_y'])) & (cat_FS['gal_name']=='NGC628')]\n",
    "idx, sep = match_catalogues(HII_candidates[['x','y']],catalogue[['cen_x','cen_y']])\n",
    "\n",
    "max_sep = 2\n",
    "print(f'sep < 1 px: {sum(sep<1)/len(sep)*100:.2f} %')\n",
    "catalogue[idx][sep<max_sep]"
   ]
  },
  {
   "cell_type": "markdown",
   "metadata": {},
   "source": [
    "## Planetary nebula luminosity function\n",
    "\n",
    "The absolute magnitude of PN is described by (this is an empirical relation)\n",
    "$$ \n",
    "\\begin{align}\n",
    "N(M) &\\propto e^{0.307 M} \\left( 1- e^{3(M^*-M)} \\right) \\\\\n",
    "&\\propto e^{0.307 (m-\\mu)} \\left( 1- e^{3(M^*-m+\\mu)} \\right) \\\\\n",
    "&\\propto e^{0.307 (m-\\mu)} - e^{3M^*-2.693(m-\\mu)} \n",
    "\\end{align}\n",
    "$$\n",
    "To use this function in our Maximum Likelihood we need to normalize it. The indefinite integral is\n",
    "$$\n",
    "\\begin{align}\n",
    "\\int N(m)\\; \\mathrm{d} m \\propto \\frac{e^{0.307(m-\\mu)}}{0.307} + \\frac{e^{3M^* - 2.693(m-\\mu)}}{2.693}\n",
    "\\end{align}\n",
    "$$\n",
    "The luminosity function has a root when $M^* - m + \\mu =0$. We use this for the lower bound normalization. For the upper bound we use the luminosity for which we are confindent to detect all sources (=completeness limit).\n",
    "\n",
    "We can already use the normalized luminosity function for the maximum likelihood fitting. However we cannot really illustrate the result. To do this we need to introduce some binning. Then we can show the fit similar to a curve fit. Because we sum the PN in the bins, we don't plot the luminosity function but the integrated function. \n",
    "\n",
    "### With maximum likelihood\n",
    "\n",
    "**Note**: the function which is used for the likelihood must be normalized\n",
    "\n",
    "useful site: \n",
    "\n",
    "https://towardsdatascience.com/probability-concepts-explained-maximum-likelihood-estimation-c7b4342fdbb1\n",
    "\n",
    "https://en.wikipedia.org/wiki/Expectation%E2%80%93maximization_algorithm \n",
    "\n",
    "http://personal.psu.edu/abs12/stat504/Lecture/lec3_4up.pdf\n",
    "\n",
    "https://emcee.readthedocs.io/en/stable/tutorials/line/"
   ]
  },
  {
   "cell_type": "code",
   "execution_count": null,
   "metadata": {},
   "outputs": [],
   "source": [
    "def prior(mu):\n",
    "    mu0 = 29.91\n",
    "    std = 0.1\n",
    "    \n",
    "    return 1 / (std*np.sqrt(2*np.pi)) * np.exp(-(mu-mu0)**2 / (2*std**2))"
   ]
  },
  {
   "cell_type": "code",
   "execution_count": null,
   "metadata": {
    "scrolled": true
   },
   "outputs": [],
   "source": [
    "from pymuse.analyse import MaximumLikelihood1D, PNLF, pnlf\n",
    "\n",
    "completeness = 28.5\n",
    "\n",
    "criteria = ((tbl['type']=='PN'))\n",
    "data = tbl[np.where(criteria & (tbl['mOIII']<completeness))]['mOIII']\n",
    "err  = tbl[np.where(criteria & (tbl['mOIII']<completeness))]['dmOIII']\n",
    "#data = data[data>27]\n",
    "\n",
    "fitter = MaximumLikelihood1D(pnlf,\n",
    "                           data,\n",
    "                           #prior=prior,\n",
    "                           #err=err,\n",
    "                           mhigh=completeness)\n",
    "\n",
    "# a good guess would be mu_guess = min(data)-Mmax\n",
    "galaxy.mu,dp,dm = fitter([28])\n",
    "fitter.plot()"
   ]
  },
  {
   "cell_type": "code",
   "execution_count": null,
   "metadata": {},
   "outputs": [],
   "source": [
    "from pymuse.plot.pnlf import plot_pnlf\n",
    "\n",
    "completeness= 27.5\n",
    "\n",
    "raw = vstack([pn_kreckel['mOIII'], snr_kreckel['mOIII']])['mOIII']\n",
    "data = raw[raw<completeness]\n",
    "fitter = MaximumLikelihood1D(pnlf,\n",
    "                           data,\n",
    "                           #prior=prior,\n",
    "                           #err=err,\n",
    "                           mhigh=completeness)\n",
    "\n",
    "# a good guess would be mu_guess = min(data)-Mmax\n",
    "mu,dp,dm = fitter([28])\n",
    "\n",
    "plot_pnlf(raw,mu,completeness,binsize=0.4,mhigh=29)"
   ]
  },
  {
   "cell_type": "markdown",
   "metadata": {},
   "source": [
    "### Plot the fit\n",
    "\n",
    "to plot the fit we need to bin the data"
   ]
  },
  {
   "cell_type": "code",
   "execution_count": null,
   "metadata": {},
   "outputs": [],
   "source": [
    "from pymuse.plot.pnlf import plot_pnlf\n",
    "filename = basedir / 'reports' / f'{galaxy.name}_PNLF'\n",
    "\n",
    "plot_pnlf(tbl[criteria]['mOIII'],galaxy.mu,completeness,binsize=0.5,mhigh=31)"
   ]
  },
  {
   "cell_type": "code",
   "execution_count": null,
   "metadata": {},
   "outputs": [],
   "source": [
    "from pymuse.plot.plot import plot_sky_with_detected_stars, sample_cutouts"
   ]
  },
  {
   "cell_type": "code",
   "execution_count": null,
   "metadata": {},
   "outputs": [],
   "source": [
    "from photutils import CircularAperture"
   ]
  },
  {
   "cell_type": "code",
   "execution_count": null,
   "metadata": {},
   "outputs": [],
   "source": [
    "tmp = tbl[np.where(criteria & (tbl['mOIII']<28.5))]\n",
    "pos = np.transpose((tmp['x'],tmp['y']))\n",
    "\n",
    "save_file = Path.cwd() / '..' / 'reports' / f'{galaxy.name}_map_PNLF.pdf'\n",
    "plot_sky_with_detected_stars(data=galaxy.OIII5006_DAP,\n",
    "                             wcs=galaxy.wcs,\n",
    "                             positions=pos,\n",
    "                             filename=save_file)"
   ]
  },
  {
   "cell_type": "code",
   "execution_count": null,
   "metadata": {},
   "outputs": [],
   "source": [
    "sample_cutouts(galaxy.OIII5006_DAP,tmp,galaxy.wcs,nrows=5,ncols=5)"
   ]
  },
  {
   "cell_type": "code",
   "execution_count": null,
   "metadata": {},
   "outputs": [],
   "source": [
    "from pymuse.plot.pnlf import compare_distances\n",
    "\n",
    "filename = basedir / 'reports' / f'{galaxy.name}_distances'\n",
    "compare_distances(galaxy.name,galaxy.mu,dp,dm,filename)"
   ]
  },
  {
   "cell_type": "markdown",
   "metadata": {},
   "source": [
    "### With data from Kreckel et al. 2017"
   ]
  },
  {
   "cell_type": "code",
   "execution_count": null,
   "metadata": {},
   "outputs": [],
   "source": [
    "fitter = MaximumLikelihood1D(pnlf,pn_bright['mOIII'],mhigh=27)\n",
    "mu = fitter([25])\n",
    "plot_pnlf(pn_kreckel['mOIII'],mu=29.91,completeness=27,binsize=0.4)"
   ]
  },
  {
   "cell_type": "markdown",
   "metadata": {
    "heading_collapsed": true
   },
   "source": [
    "### With least square  fitting\n",
    "\n",
    " - to use a least square approach we need to bin the data. \n",
    " + easier to implement"
   ]
  },
  {
   "cell_type": "code",
   "execution_count": null,
   "metadata": {
    "hidden": true
   },
   "outputs": [],
   "source": [
    "from scipy.optimize import curve_fit\n",
    "\n",
    "def pnlf(m,mu,N0):\n",
    "    '''planetary nebula luminosity function for curve_fit\n",
    "    \n",
    "    N(m) ~ e^0.307(m-mu) * (1-e^3(Mmax-m+mu))\n",
    "    \n",
    "    Parameters\n",
    "    ----------\n",
    "    m : ndarray\n",
    "        apparent magnitudes of the PNs\n",
    "        \n",
    "    mu : float\n",
    "        distance modulus\n",
    "        \n",
    "    N0 : float\n",
    "    '''\n",
    "    \n",
    "    m = np.atleast_1d(m)\n",
    "    \n",
    "    Mmax = -4.47\n",
    "    completneness = 28\n",
    "    normalization = -3.62866*np.exp(0.307*Mmax) + 3.25733*np.exp(0.307*completneness-0.307*mu) + 0.371333 * np.exp(3*Mmax - 2.693 * completneness + 2.693 * mu)\n",
    "    \n",
    "    out = N0*np.exp(0.307*(m-mu)) * (1-np.exp(3*(Mmax-m+mu))) / normalization\n",
    "    out[m>completneness] = 0\n",
    "    out[m<Mmax+mu] = 0\n",
    "    \n",
    "    return out\n",
    "\n",
    "def fit_pnlf(table):\n",
    "    \n",
    "    #table = table[table['type']=='PN']\n",
    "    \n",
    "    binsize = 0.2\n",
    "\n",
    "    guess = np.array([25,10])\n",
    "    \n",
    "    mlow = np.floor(np.min(table))\n",
    "    mhigh = np.ceil(np.max(table))\n",
    "    hist,bins  = np.histogram(table,np.arange(mlow,mhigh,binsize))\n",
    "    \n",
    "    \n",
    "    fit,sig = curve_fit(pnlf, bins[1:]+binsize/2,hist , guess)\n",
    "    mu, N0 = fit\n",
    "    print(f'mu={mu:.3f}, N0={N0:.2f}')\n",
    "    \n",
    "    fig, (ax1,ax2) = plt.subplots(1,2,figsize=(8,4))\n",
    "    \n",
    "    ax1.scatter(bins[:-1]+binsize/2,hist)\n",
    "    ax1.plot(bins[:-1]+binsize/2,pnlf(bins[:-1]+0.1,mu=mu,N0=N0),c='tab:orange',ls='--')\n",
    "    ax1.set_yscale('log')\n",
    "    ax1.set_xlim([25,28])\n",
    "    ax1.set_ylim([0.8,1.1*np.max(hist)])\n",
    "    ax1.set_xlabel('$m_{[\\mathrm{OIII}]}$')\n",
    "    ax1.set_ylabel('$N$')\n",
    "    \n",
    "    ax2.plot(bins[1:]+binsize/2,np.cumsum(hist))\n",
    "    ax2.plot(bins[1:]+binsize/2,np.cumsum(pnlf(bins[:-1]+binsize/2,mu=mu,N0=N0)),ls='--')\n",
    "    ax2.set_xlim([mlow,mhigh])\n",
    "    ax2.set_ylim([0,len(table)])\n",
    "    ax2.set_xlabel('$m_{[\\mathrm{OIII}]}$')\n",
    "    ax2.set_ylabel('Cumulative N')\n",
    "    \n",
    "fit_pnlf(tbl[tbl['type']=='PN']['mOIII'])"
   ]
  },
  {
   "cell_type": "markdown",
   "metadata": {},
   "source": [
    "### Distance in parsec\n",
    "\n",
    "the measured distances are in the form of the distance modulus $\\mu = m-M$ which is the difference between apparent and absolute magnitude. By defintion of the absolte magnitude, we can convert this number into a distance in pc\n",
    "$$\n",
    "d = 10^{\\frac{\\mu}{5}+1} = 10 \\cdot \\exp\\left( \\ln 10 \\frac{\\mu}{5} \\right) \\\\\n",
    "\\delta d = \\frac{\\ln 10}{5} 10 \\exp\\left( \\ln 10 \\frac{\\mu}{5} \\right) \\delta \\mu = 0.2 \\ln 10 \\; d \\; \\delta \\mu\n",
    "$$"
   ]
  },
  {
   "cell_type": "code",
   "execution_count": null,
   "metadata": {},
   "outputs": [],
   "source": [
    "def distance_modulus_to_parsec(mu,mu_err=np.array([])):\n",
    "    \n",
    "    d = 10 * np.exp(np.log(10)*mu/5)\n",
    "    if len(mu_err) > 0:\n",
    "        d_err = 0.2 * np.log(10) * d * mu_err\n",
    "    print(f'd = ({d/1e6:.2f} + {d_err[0]/1e6:.2f} - {d_err[1]/1e6:.2f}) Mpc')\n",
    "    \n",
    "    return d, d_err\n",
    "\n",
    "d,d_err = distance_modulus_to_parsec(30.033,np.array([0.014,0.015]))"
   ]
  },
  {
   "cell_type": "markdown",
   "metadata": {},
   "source": [
    "## Playground"
   ]
  },
  {
   "cell_type": "code",
   "execution_count": null,
   "metadata": {},
   "outputs": [],
   "source": [
    "  \n",
    "completeness = 29\n",
    "\n",
    "data = tbl[(tbl['type']=='PN') & (tbl['mOIII']<completeness)]['mOIII']\n",
    "err = tbl[(tbl['type']=='PN') & (tbl['mOIII']<completeness)]['dmOIII']\n",
    "\n",
    "fitter = MaximumLikelihood1D(pnlf,\n",
    "                             data,\n",
    "                             err=err,\n",
    "                             prior = prior,\n",
    "                             # additional parameters\n",
    "                             mhigh=completeness)\n",
    "\n",
    "# a good guess would be mu_guess = min(data)-Mmax\n",
    "mu = fitter([28])\n",
    "fitter.plot([29.5,30.25])\n"
   ]
  },
  {
   "cell_type": "markdown",
   "metadata": {},
   "source": [
    "no prior, no error:     29.966+0.031-0.095\n",
    "no prior, with error:   29.965+0.032-0.094\n",
    "with prior, no error:   29.950+0.038-0.071\n",
    "with prior, with error: 29.949+0.039-0.071"
   ]
  },
  {
   "cell_type": "code",
   "execution_count": null,
   "metadata": {},
   "outputs": [],
   "source": [
    "plot_pnlf(tbl[criteria]['mOIII'],mu=mu,completeness=completeness,binsize=0.4)"
   ]
  },
  {
   "cell_type": "code",
   "execution_count": null,
   "metadata": {},
   "outputs": [],
   "source": [
    "xmin = 29.6\n",
    "xmax = 30.2\n",
    "x = np.linspace(xmin,xmax,1000)\n",
    "likelihood = np.exp([-fitter.likelihood(_) for _ in x])\n",
    "\n",
    "normalization = np.trapz(likelihood,x)\n",
    "\n",
    "integral = np.array([np.trapz(likelihood[x<=xp],x[x<=xp])/normalization for xp in x[1:]])\n",
    "\n",
    "plt.plot(x[1:],integral,label='cumulative likelihood')\n",
    "plt.axvline(mu,ls='--',c='k',lw=0.5)\n",
    "plt.axhline(0.5,ls='--',c='k',lw=0.5)\n",
    "\n",
    "plt.axhline(0.5+0.683/2,ls='--',c='k',lw=0.5)\n",
    "plt.axhline(0.5-0.683/2,ls='--',c='k',lw=0.5)\n",
    "\n",
    "\n",
    "mid = np.argmin(np.abs(integral-0.5))\n",
    "high = np.argmin(np.abs(integral-0.8415))\n",
    "low = np.argmin(np.abs(integral-0.1585))\n",
    "\n",
    "dp = x[high]-x[mid]\n",
    "dm = x[mid]-x[low]\n",
    "\n",
    "print(f'{x[mid]:.3f}+{dp:.3f}-{dm:.3f}')\n",
    "\n",
    "\n",
    "normal = gaussian(x,x[mid],dm)\n",
    "integral2 = np.array([np.trapz(normal[x<=xp],x[x<=xp]) for xp in x[1:]])\n",
    "plt.plot(x[1:],integral2,label=f'gaussian {dm:.2f}',ls='--')\n",
    "\n",
    "normal2 = gaussian(x,x[mid],dp)\n",
    "integral3 = np.array([np.trapz(normal2[x<=xp],x[x<=xp]) for xp in x[1:]])\n",
    "plt.plot(x[1:],integral3,label=f'gaussian {dp:.2f}',ls='--')\n",
    "\n",
    "plt.legend();"
   ]
  },
  {
   "cell_type": "code",
   "execution_count": null,
   "metadata": {},
   "outputs": [],
   "source": [
    "fitter = MaximumLikelihood(pnlf,\n",
    "                           data,\n",
    "                           prior=None,\n",
    "                           mhigh=completeness)\n",
    "\n",
    "def prior(mu):\n",
    "    mu0 = 29.91\n",
    "    std = 0.8\n",
    "    \n",
    "    return 1 / (std*np.sqrt(2*np.pi)) * np.exp(-(mu-mu0)**2 / (2*std**2))\n",
    "\n",
    "sample_size = 0.5\n",
    "\n",
    "\n",
    "print(f'initial sample size {len(fitter.data)}')\n",
    "mu = np.linspace(29.5,30.5,500)\n",
    "full = np.exp(np.array([-fitter._loglike([_],fitter.data) for _ in mu]))\n",
    "\n",
    "data_sample = np.random.choice(fitter.data,int(sample_size*len(fitter.data)))\n",
    "sample = np.exp(np.array([-fitter._loglike([_],data_sample) for _ in mu]))\n",
    "\n",
    "valid = ~np.isnan(full) & ~np.isnan(sample)\n",
    "full /= np.abs(np.trapz(full[valid],mu[valid]))\n",
    "sample /= np.abs(np.trapz(sample[valid],mu[valid]))\n",
    "\n",
    "fig = plt.figure()\n",
    "ax  = fig.add_subplot()\n",
    "ax.plot(mu[valid],full[valid],label='full')\n",
    "ax.plot(mu[valid],sample[valid],label='sample')\n",
    "\n",
    "\n",
    "ax.legend()\n",
    "ax.set_label('log likelihood')"
   ]
  },
  {
   "cell_type": "code",
   "execution_count": null,
   "metadata": {},
   "outputs": [],
   "source": [
    "def symmetric_confidence_interval(quantile):\n",
    "    mid = np.argmin(np.abs(integral-0.5))\n",
    "    high = np.argmin(np.abs(integral-(0.5+quantile/2)))\n",
    "    low = np.argmin(np.abs(integral-(0.5-quantile/2)))\n",
    "\n",
    "    dp = integral[high]-integral[mid]\n",
    "    dm = integral[mid]-integral[low]\n",
    "\n",
    "    print(f'+{dp:.3f}-{dm:.3f}')\n",
    "    \n",
    "symmetric_confidence_interval(0.99)"
   ]
  },
  {
   "cell_type": "code",
   "execution_count": null,
   "metadata": {},
   "outputs": [],
   "source": [
    "width = 5\n",
    "size = 1000\n",
    "param = 29.9\n",
    "kwargs = {'mhigh':27}\n",
    "\n",
    "\n",
    "idx_low = np.argmin(data)\n",
    "idx_high = np.argmax(data)\n",
    "grid = np.linspace(data[idx_low]-width*err[idx_low],data[idx_high]+width*err[idx_high],size)\n",
    "pnlf_grid = pnlf(grid,param,**kwargs)\n",
    "\n",
    "-np.sum(np.log([np.trapz(pnlf(grid,param,**kwargs)*gaussian(grid,d,e),grid) for d,e in zip(data,err)]))"
   ]
  },
  {
   "cell_type": "code",
   "execution_count": null,
   "metadata": {},
   "outputs": [],
   "source": [
    "%%timeit\n",
    "\n",
    "-np.sum(np.log([np.trapz(pnlf(grid,param,**kwargs)*gaussian(grid,d,e),grid) for d,e in zip(data,err)]))"
   ]
  },
  {
   "cell_type": "code",
   "execution_count": null,
   "metadata": {},
   "outputs": [],
   "source": [
    "%%timeit\n",
    "\n",
    "-np.sum(np.log([quad(lambda x: pnlf(x,param,**kwargs)*gaussian(x,d,e),d-width*e,d+width*e)[0] for d,e in zip(data,err)]))\n",
    "\n"
   ]
  },
  {
   "cell_type": "code",
   "execution_count": null,
   "metadata": {},
   "outputs": [],
   "source": [
    "%%timeit\n",
    "print(len(fitter.data))\n",
    "fitter.evidence(29)"
   ]
  },
  {
   "cell_type": "markdown",
   "metadata": {},
   "source": [
    "input\n",
    "\n",
    "`fit_function`\n",
    "\n",
    "`prior`\n",
    "\n",
    "`data`\n",
    "\n",
    "`error`\n",
    "\n",
    "what to do\n",
    "\n",
    "integrate `fit_function` * `gaussian`(data,error)\n",
    "\n",
    "calculate -sum log integrated function\n",
    "\n",
    "minimize"
   ]
  },
  {
   "cell_type": "code",
   "execution_count": null,
   "metadata": {},
   "outputs": [],
   "source": [
    "from pymuse.plot import create_RGB\n",
    "\n",
    "# ====== define input parameters =============================\n",
    "rgb = create_RGB(NGC628.SII6716,NGC628.HA6562,NGC628.OIII5006)\n",
    "labels=['SII6716','HA6562','OIII5006']\n",
    "wcs=NGC628.wcs\n",
    "# ============================================================\n",
    "\n",
    "# create an empty figure with correct projection\n",
    "fig, ax = plt.subplots(figsize=(20,20),subplot_kw={'projection':wcs})\n",
    "\n",
    "# plot the image\n",
    "plt.imshow(rgb,origin='lower')\n",
    "\n",
    "# create a legend\n",
    "if labels:\n",
    "    # first we create a legend with three invisible handles\n",
    "    handles = 3*[mpl.patches.Rectangle((0, 0), 0, 0, alpha=0.0)]\n",
    "    leg = ax.legend(handles,labels, frameon=False,handlelength=0,prop={'size': 16})\n",
    "\n",
    "    # next we set the color of the three labels\n",
    "    for color,text in zip(['red','green','blue'],leg.get_texts()):\n",
    "        text.set_color(color)\n",
    "\n",
    "plt.savefig(basedir / 'reports' / f'{NGC628.name}_rgb.pdf')\n",
    "plt.show()"
   ]
  },
  {
   "cell_type": "markdown",
   "metadata": {},
   "source": [
    "## emcee"
   ]
  },
  {
   "cell_type": "code",
   "execution_count": null,
   "metadata": {},
   "outputs": [],
   "source": [
    "import emcee\n",
    "from scipy.optimize import minimize\n",
    "from inspect import signature\n",
    "import corner\n",
    "\n",
    "class MaximumLikelihood:\n",
    "    '''\n",
    "\n",
    "    for uncertainties \n",
    "    https://erikbern.com/2018/10/08/the-hackers-guide-to-uncertainty-estimates.html\n",
    "    \n",
    "    Parameters\n",
    "    ----------\n",
    "    func : function\n",
    "        PDF of the form `func(data,params)`. `func` must accept a\n",
    "        ndarray for `data` and can have any number of additional\n",
    "        parameters (at least one).\n",
    "        \n",
    "    data : ndarray\n",
    "        Measured data that are feed into `func`.\n",
    "\n",
    "    err : ndarray\n",
    "        Error associated with data.\n",
    "\n",
    "    prior : function\n",
    "        Prior probabilities for the parameters of func.\n",
    "\n",
    "    method : \n",
    "        algorithm that is used for the minimization.\n",
    "\n",
    "    **kwargs\n",
    "       additional fixed key word arguments that are passed to func.\n",
    "    '''\n",
    "    \n",
    "    def __init__(self,func,data,err=None,prior=None,method='Nelder-Mead',**kwargs):\n",
    "        \n",
    "        if len(signature(func).parameters)-len(kwargs)<2:\n",
    "            raise ValueError(f'`func` must have at least one free argument')\n",
    "        \n",
    "        self.func   = func\n",
    "        self.labels = list(signature(func).parameters.keys())[1:]\n",
    "        self.data   = data\n",
    "        self.err    = err\n",
    "        self.prior  = prior\n",
    "        self.method = method\n",
    "        self.kwargs = kwargs\n",
    "\n",
    "        logger.info(f'searching best parameters for {self.labels} with {len(self.data)} data points')\n",
    "\n",
    "    def log_likelihood(self,params,data):\n",
    "        '''calculate the log liklihood of the given parameters\n",
    "        \n",
    "        This function takes the previously specified PDF and calculates\n",
    "        the sum of the logarithmic probabilities. If key word arguments\n",
    "        were initially passed to the class, they are also passed to the\n",
    "        function\n",
    "        '''\n",
    "        return np.sum(np.log(self.func(data,*params,**self.kwargs)))\n",
    "    \n",
    "    def log_prior(self,params):\n",
    "        '''log of priors'''\n",
    "        \n",
    "        lp = self.prior(*params)\n",
    "        if lp == 0:\n",
    "            return -np.inf\n",
    "        else:\n",
    "            return np.log(lp)\n",
    "\n",
    "    def log_probability(self,params,data):\n",
    "        if self.prior:\n",
    "            return self.log_likelihood(params,data)+self.log_prior(params)\n",
    "        else:\n",
    "            return self.log_likelihood(params,data)\n",
    "        \n",
    "    def neg_log_probability(self,params,data):\n",
    "        if self.prior:\n",
    "            return -self.log_likelihood(params,data)+self.log_prior(params)\n",
    "        else:\n",
    "            return -self.log_likelihood(params,data)\n",
    "        \n",
    "    def fit(self,guess,nwalkers=10,nsteps=1000):\n",
    "        '''use scipy minimize to find the best parameters'''\n",
    "        \n",
    "        self.soln = minimize(self.neg_log_probability,guess,args=(self.data,),method=self.method)\n",
    "        if not self.soln.success:\n",
    "            raise RuntimeError('fit was not successful')\n",
    "        self.x = self.soln.x\n",
    "\n",
    "        ndim = len(guess)\n",
    "        pos = np.random.normal(self.soln.x,0.1,size=(nwalkers,ndim))\n",
    "\n",
    "        self.sampler = emcee.EnsembleSampler(nwalkers, ndim,self.log_probability,args=(self.data,))\n",
    "        state = self.sampler.run_mcmc(pos, 100)\n",
    "        self.sampler.reset()\n",
    "        self.sampler.run_mcmc(state,nsteps,progress=True)\n",
    "\n",
    "        flat_samples = self.sampler.get_chain(discard=100,thin=5, flat=True)\n",
    "\n",
    "        for i in range(ndim):\n",
    "            mcmc = np.percentile(flat_samples[:, i], [16, 50, 84])\n",
    "            mcmc[1] = self.soln.x[i]\n",
    "            q = np.diff(mcmc)\n",
    "            #truth.append(mcmc[1])\n",
    "            print(f'{self.labels[i]}= {mcmc[1]:.3f}+{q[1]:.3f}-{q[0]:.3f}') \n",
    "        \n",
    "        fig = corner.corner(flat_samples,bins=100, labels=self.labels,truths=self.x)\n",
    "        \n",
    "        return self.x\n",
    "\n",
    "    def __call__(self,guess,**kwargs):\n",
    "        '''use scipy minimize to find the best parameters'''\n",
    "\n",
    "        return self.fit(guess,**kwargs)\n"
   ]
  },
  {
   "cell_type": "code",
   "execution_count": null,
   "metadata": {},
   "outputs": [],
   "source": [
    "MLE = MaximumLikelihood(pnlf,\n",
    "                        data,\n",
    "                        mhigh=27)\n",
    "                        #err=err,\n",
    "                        #mhigh=galaxy.completeness_limit)\n",
    "\n",
    "MLE.fit([29],nwalkers=100)    "
   ]
  },
  {
   "cell_type": "markdown",
   "metadata": {},
   "source": [
    "## HST Data"
   ]
  },
  {
   "cell_type": "code",
   "execution_count": null,
   "metadata": {},
   "outputs": [],
   "source": []
  },
  {
   "cell_type": "code",
   "execution_count": null,
   "metadata": {},
   "outputs": [],
   "source": [
    "file = data_raw / '..' / 'HST' / 'NGC628_HST' / 'ngc628_acs_f435w_exp_drc_sci.fits'\n",
    "\n",
    "with fits.open(file) as hdul:\n",
    "    #hdul.info()\n",
    "    data = hdul[0].data\n",
    "    header = hdul[0].header\n",
    "    \n",
    "data[data==0] = np.nan"
   ]
  },
  {
   "cell_type": "code",
   "execution_count": null,
   "metadata": {},
   "outputs": [],
   "source": [
    "fig = plt.figure(figsize=(10,10))\n",
    "ax  = fig.add_subplot(111,projection=WCS(header))\n",
    "\n",
    "norm = simple_norm(data,'log',clip=False,min_percent=3,max_percent=99)\n",
    "ax.imshow(data,norm=norm)\n",
    "ax.set_xlim([3000,10000])\n",
    "ax.set_ylim([3000,10000])\n",
    "\n",
    "filename = basedir / 'reports' / f'NGC628_HST.pdf'\n",
    "plt.savefig(filename,dpi=1000)"
   ]
  },
  {
   "cell_type": "code",
   "execution_count": null,
   "metadata": {},
   "outputs": [],
   "source": [
    "with fits.open(data_raw/'NGC628'/'NGC628_MAPS.fits') as hdul:\n",
    "    h1 = hdul[0].header\n",
    "    h2 = hdul[1].header"
   ]
  },
  {
   "cell_type": "code",
   "execution_count": null,
   "metadata": {},
   "outputs": [],
   "source": [
    "references = ascii.read(basedir / 'data' / 'external' / f'{name}ref.csv',encoding='utf8')"
   ]
  },
  {
   "cell_type": "markdown",
   "metadata": {},
   "source": [
    "## astroquery"
   ]
  },
  {
   "cell_type": "code",
   "execution_count": null,
   "metadata": {},
   "outputs": [],
   "source": [
    "ads_base = \"https://ui.adsabs.harvard.edu/abs/\""
   ]
  },
  {
   "cell_type": "code",
   "execution_count": null,
   "metadata": {},
   "outputs": [],
   "source": [
    "from astroquery.ned import Ned\n",
    "from astroquery.nasa_ads import ADS\n",
    "ADS.TOKEN = open('ADS_DEV_KEY','r').read()\n"
   ]
  }
 ],
 "metadata": {
  "kernelspec": {
   "display_name": "Python 3",
   "language": "python",
   "name": "python3"
  },
  "language_info": {
   "codemirror_mode": {
    "name": "ipython",
    "version": 3
   },
   "file_extension": ".py",
   "mimetype": "text/x-python",
   "name": "python",
   "nbconvert_exporter": "python",
   "pygments_lexer": "ipython3",
   "version": "3.7.3"
  },
  "pycharm": {
   "stem_cell": {
    "cell_type": "raw",
    "metadata": {
     "collapsed": false
    },
    "source": []
   }
  },
  "toc": {
   "base_numbering": 1,
   "nav_menu": {},
   "number_sections": true,
   "sideBar": true,
   "skip_h1_title": false,
   "title_cell": "Table of Contents",
   "title_sidebar": "Contents",
   "toc_cell": false,
   "toc_position": {
    "height": "calc(100% - 180px)",
    "left": "10px",
    "top": "150px",
    "width": "209.867px"
   },
   "toc_section_display": true,
   "toc_window_display": true
  }
 },
 "nbformat": 4,
 "nbformat_minor": 2
}
