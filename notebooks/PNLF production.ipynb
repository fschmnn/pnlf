{
 "cells": [
  {
   "cell_type": "markdown",
   "metadata": {},
   "source": [
    "# Planetary Nebula Luminosity Function – Production <a class=\"tocSkip\">\n",
    "   \n",
    "The goal of this project is to measure the planetary nebula luminosity function (PNLF), using integral field unit (IFU) data, that was observed with MUSE for the [PHANGS](https://sites.google.com/view/phangs/home) collaboration. This notebook is used for the analysis of the individual galaxies in the following steps:\n",
    "    \n",
    "1. Read in the data products from PHANGS–MUSE.\n",
    "2. Search for point like objects in the [OIII] linemap\n",
    "3. Measure their fluxes with aperture photometry\n",
    "4. Use emission line diagnostics to remove contaminants\n",
    "5. Fit the PNLF.\n",
    "6. Do some post procesing and safe the output.\n",
    "   \n",
    "The final figures for the paper are produced with the notebook `Project1 PNLF postproduction.ipynb`."
   ]
  },
  {
   "cell_type": "markdown",
   "metadata": {},
   "source": [
    "## Preparation\n",
    " \n",
    "### Load Basic Packages\n",
    "    \n",
    "First we load a bunch of common packages that are used across the project. More specific packages that are only used in one section are loaded later to make it clear where they belong to (this also applies to all custom moduls that were written for this project).\n",
    "\n",
    "we use the `logging` module to handle informations and warnings (this does not always work as expected in jupyter notebooks)."
   ]
  },
  {
   "cell_type": "code",
   "execution_count": null,
   "metadata": {},
   "outputs": [],
   "source": [
    "# reload modules after they have been modified\n",
    "%load_ext autoreload\n",
    "%autoreload 2\n",
    "\n",
    "# this imports packages like numpy or astropy \n",
    "from pnlf.packages import *\n",
    "from pnlf.constants import tab10, single_column, two_column\n",
    "\n",
    "%matplotlib inline\n",
    "%config InlineBackend.figure_format = 'retina'\n",
    "\n",
    "logging.basicConfig(stream=sys.stdout,format='%(levelname)s: %(message)s',level=logging.INFO)\n",
    "logger = logging.getLogger(__name__)\n",
    "logging.getLogger('matplotlib').setLevel(logging.WARNING)"
   ]
  },
  {
   "cell_type": "code",
   "execution_count": null,
   "metadata": {},
   "outputs": [],
   "source": [
    "# first we need to specify the path to the raw data\n",
    "basedir = Path('..')\n",
    "data_ext = Path('a:')/'Archive'\n",
    "\n",
    "# table to save all results\n",
    "results = ascii.read(basedir/'data'/'interim'/ 'results.txt',format='fixed_width_two_line',delimiter_pad=' ',position_char='=')\n",
    "results.add_index('name')    \n",
    "\n",
    "sample_table = ascii.read(basedir/'data'/'interim'/'sample.txt')\n",
    "sample_table.add_index('name')\n",
    "sample_table['SkyCoord'] = SkyCoord(sample_table['R.A.'],sample_table['Dec.'])"
   ]
  },
  {
   "cell_type": "markdown",
   "metadata": {},
   "source": [
    "### Read in data\n",
    "\n",
    "this uses the `ReadLineMaps` class from the `pnlf.io` module. To use it, we first need to specify the path to the data folder"
   ]
  },
  {
   "cell_type": "code",
   "execution_count": null,
   "metadata": {},
   "outputs": [],
   "source": [
    "from pnlf.io import ReadLineMaps, ParameterClass\n",
    "\n",
    "DR = 'DR2.1'\n",
    "name = 'NGC1087'\n",
    "\n",
    "with open(basedir / 'data' / 'interim' / 'parameters.yml') as yml_file:\n",
    "    parameters = yaml.load(yml_file,Loader=yaml.FullLoader)\n",
    "    \n",
    "lines = ['HB4861','OIII5006', 'HA6562', 'NII6583', 'SII6716', 'SII6730']\n",
    "\n",
    "# read in the data we will be working with and print some information\n",
    "galaxy = ReadLineMaps(data_ext/f'MUSE'/DR/'MUSEDAP',name,extensions=lines,**parameters[name])\n",
    "#galaxy = ParameterClass(name,**parameters[name])\n",
    "galaxy.center = sample_table.loc[name]['SkyCoord'].to_pixel(galaxy.wcs)\n",
    "galaxy.Ebv = sample_table.loc[name]['E(B-V)']\n",
    "galaxy.posang = sample_table.loc[name]['posang']\n",
    "galaxy.inclination = sample_table.loc[name]['Inclination']\n",
    "galaxy.r25 = sample_table.loc[name]['r25']*u.arcmin"
   ]
  },
  {
   "cell_type": "markdown",
   "metadata": {},
   "source": [
    "### Mask unwanted regions\n",
    "\n",
    "Galaxies with mask\n",
    "\n",
    "https://panetix.com/astronomy/galaxies/NGC1566.htm\n",
    "* 'NGC1300', ringed, barred spiral (6.75%)\n",
    "* 'NGC1365', barred spiral with dust lanes in bar and has Seyfert type activity. (9%)\n",
    "* 'NGC1512', barred spiral with arms/matter extending in all directions as far out as NGC5010 (8.9%)\n",
    "* 'NGC1566', 'intermediate spiral galaxy' also classed as a \"Seyfert\" galaxy (9.92%)\n",
    "* 'NGC1672', Barred spiral galaxy also classed as \"Seyfert type2 (7.4%)\n",
    "* 'NGC3351', Barred Spiral galaxy with inner ring and an almost complete outer ring (7.1%)\n",
    "* 'NGC3627', barred spiral LINER type galaxy. (13.61%)\n",
    "* 'NGC4303', barred spiral galaxy that is face on. Classed as a 'Seyfert type2\" (8.7%)\n",
    "* 'NGC4321', weakly barred LINER type spiral galaxy (6.21%)\n",
    "* 'NGC4535', Weakly barred spiral LINER galaxy. (11.63%)\n",
    "* 'NGC7496', barred spiral galaxy with Seyfert type 2 activity. (6.5%)\n",
    "\n",
    "\n",
    "should check NGC1300, NGC3351, NGC3627, NGC4321, NGC4535"
   ]
  },
  {
   "cell_type": "code",
   "execution_count": null,
   "metadata": {
    "scrolled": true
   },
   "outputs": [],
   "source": [
    "from pnlf.plot import create_RGB\n",
    "from regions import PixCoord,EllipsePixelRegion\n",
    "\n",
    "eccentricity = np.sin(galaxy.inclination*u.deg).value\n",
    "width = 0.2*(galaxy.r25/u.arcmin*300).value  # convert arcmin to pixel\n",
    "# angle uses x-axis but posang is defined from north pole (y-axis)\n",
    "aperture = EllipsePixelRegion(PixCoord(*galaxy.center),\n",
    "                              width=width,\n",
    "                              height=np.sqrt((width)**2 * (1-eccentricity**2)),\n",
    "                              angle=(galaxy.posang-90)*u.deg)\n",
    "center_mask = aperture.to_mask().to_image(galaxy.shape).astype(bool)\n",
    "\n",
    "# all galaxies have a star mask\n",
    "mask = np.zeros(galaxy.shape,dtype=bool)\n",
    "mask |= galaxy.star_mask.astype(bool)\n",
    "mask &= ~np.isnan(galaxy.OIII5006)\n",
    "\n",
    "# for some galaxies we also mask the center\n",
    "if hasattr(galaxy,'mask'):\n",
    "    mask[galaxy.HA6562>getattr(galaxy,'HAmask',np.nanpercentile(galaxy.HA6562,95))]=True\n",
    "    mask |=center_mask\n",
    "    print(f'masking parts of the image ({100*np.sum(mask) / np.sum(~np.isnan(galaxy.OIII5006)):.2f}%)')\n",
    "    \n",
    "img = create_RGB(galaxy.HA6562,galaxy.OIII5006_DAP,galaxy.SII6716,weights=[0.6,1,0.6],percentile=[95,99.,95])\n",
    "img[mask,...] = (1,1,0.)\n",
    "\n",
    "fig = plt.figure(figsize=(8,8))\n",
    "ax  = fig.add_subplot(projection=galaxy.wcs)\n",
    "ax.imshow(img,origin='lower')\n",
    "plt.savefig(basedir/'reports'/name/f'{name}_mask.pdf',dpi=600)\n",
    "plt.show()"
   ]
  },
  {
   "cell_type": "markdown",
   "metadata": {},
   "source": [
    "## Source Detection\n",
    "\n",
    "we use the DAP maps because they should have a better signal to noise"
   ]
  },
  {
   "cell_type": "code",
   "execution_count": null,
   "metadata": {},
   "outputs": [],
   "source": [
    "from photutils import DAOStarFinder            # DAOFIND routine to detect sources\n",
    "from photutils import IRAFStarFinder           # IRAF starfind routine to detect star\n",
    "from pnlf.detection import detect_unresolved_sources\n",
    "\n",
    "sources = detect_unresolved_sources(LineMaps=galaxy,\n",
    "                                    line='OIII5006_DAP',\n",
    "                                    StarFinder=DAOStarFinder,\n",
    "                                    threshold=galaxy.threshold,\n",
    "                                    exclude_region=mask,\n",
    "                                    oversize=1., # we remove those objects later\n",
    "                                    roundlo=-1,  #\n",
    "                                    roundhi=1,   #\n",
    "                                    sharplo=0,   #\n",
    "                                    sharphi=1,   #\n",
    "                                    save=False)"
   ]
  },
  {
   "cell_type": "markdown",
   "metadata": {
    "heading_collapsed": true
   },
   "source": [
    "## Completeness limit\n",
    "\n",
    "to test the completeness of our sample, we randomly inject sources into the image and record how many we are able to recover"
   ]
  },
  {
   "cell_type": "code",
   "execution_count": null,
   "metadata": {
    "hidden": true
   },
   "outputs": [],
   "source": [
    "from pnlf.detection import completeness_limit, plot_completeness_limit"
   ]
  },
  {
   "cell_type": "code",
   "execution_count": null,
   "metadata": {
    "hidden": true
   },
   "outputs": [],
   "source": [
    "print(f'for {galaxy.name}')\n",
    "mock_sources = completeness_limit(\n",
    "                    galaxy,\n",
    "                    'OIII5006_DAP',\n",
    "                    DAOStarFinder,\n",
    "                    threshold=galaxy.threshold,\n",
    "                    distance_modulus=parameters[name]['mu'],\n",
    "                    max_sep=0.3,\n",
    "                    limit=0.8,\n",
    "                    iterations=10,\n",
    "                    n_sources = 500,\n",
    "                    exclude_region=mask,\n",
    "                    roundlo=-.8,\n",
    "                    roundhi=.8,\n",
    "                    sharplo=0.2,\n",
    "                    sharphi=1.0,\n",
    "                    exclude_border=True,\n",
    "                    plot=False\n",
    "                                 )\n",
    "\n",
    "filename = basedir / 'data' / 'interim' / f'{galaxy.name}_mock_sources.txt'\n",
    "with open(filename,'w',newline='\\n') as f:\n",
    "    ascii.write(mock_sources,f,format='fixed_width_two_line',overwrite=True,delimiter_pad=' ',position_char='=')"
   ]
  },
  {
   "cell_type": "code",
   "execution_count": null,
   "metadata": {
    "hidden": true
   },
   "outputs": [],
   "source": [
    "for x_std in np.unique(mock_sources['x_stddev']):\n",
    "    sub_sample = mock_sources[mock_sources['x_stddev']==x_std]\n",
    "    \n",
    "    for a in np.unique(sub_sample['amplitude']):\n",
    "        sub_sub = sub_sample[sub_sample['amplitude']==a]\n",
    "\n",
    "        found = np.sum(sub_sub['sep']<0.5)\n",
    "        total = len(sub_sub)\n",
    "        print(f'a={a:.2f}: {found} of {total} recovered ({found/total*100:.2f})')\n",
    "        \n",
    "    print(30*'-')"
   ]
  },
  {
   "cell_type": "markdown",
   "metadata": {},
   "source": [
    "## Flux measurement\n",
    "\n",
    "In the previous step we detected potential PN candidates by their [OIII] emission. This means we know their position but lack exact flux measurments. In this section we measure the flux of the identified objects in different emission lines that are used in later steps. \n",
    "\n",
    "The uncertainties in the line maps are underestimated. To estimate by how much, use:\n",
    "```\n",
    "from pnlf.analyse import estimate_uncertainties_from_SII\n",
    "\n",
    "std = estimate_uncertainties_from_SII(nebulae,plot=True)\n",
    "```"
   ]
  },
  {
   "cell_type": "code",
   "execution_count": null,
   "metadata": {
    "scrolled": true
   },
   "outputs": [],
   "source": [
    "from pnlf.photometry import measure_flux \n",
    "\n",
    "aperture_size = 2.5\n",
    "\n",
    "flux = measure_flux(galaxy,\n",
    "                    sources,\n",
    "                    alpha=galaxy.power_index,\n",
    "                    Rv=3.1,\n",
    "                    Ebv=galaxy.Ebv,\n",
    "                    aperture_size=aperture_size)\n",
    "\n",
    "# we just assume an uncertainty of 0.1 mag due to the PSF\n",
    "dPSF = 0.1 #getattr(galaxy,'dPSF')\n",
    "# we underestimate the errors. This value comes from a theoreticla SII ratio (see function)\n",
    "for col in flux.columns:\n",
    "    if col.endswith('_err'):\n",
    "        flux[col] *= 1.67\n",
    "        #flux[col] = np.sqrt( (np.log(10)/2.5* dPSF * flux[col[:-4]])**2 + flux[col]**2 )\n",
    "    \n",
    "# calculate magnitudes from measured fluxes\n",
    "flux['mOIII'] = -2.5*np.log10(flux['OIII5006_flux']*1e-20) - 13.74\n",
    "flux['dmOIII'] = np.abs( 2.5/np.log(10) * flux['OIII5006_flux_err'] / flux['OIII5006_flux'] )\n",
    "flux['dmOIII'] = np.sqrt(flux['dmOIII']**2 + dPSF**2)\n",
    "# create additional columns that are needed later\n",
    "flux['sharp'] = sources['sharpness']\n",
    "flux['round'] = sources['roundness2']\n",
    "skycoord = SkyCoord.from_pixel(flux['x'],flux['y'],galaxy.wcs)\n",
    "flux.add_column(skycoord.to_string(style='hmsdms',precision=2),name='RaDec',index=3)\n",
    "\n",
    "primary_hdu = fits.PrimaryHDU()\n",
    "table_hdu   = fits.BinTableHDU(flux)\n",
    "hdul = fits.HDUList([primary_hdu, table_hdu])\n",
    "hdul.writeto(basedir/'data'/'interim'/'fluxes'/f'{name}_fluxes.fits',overwrite=True)"
   ]
  },
  {
   "cell_type": "markdown",
   "metadata": {},
   "source": [
    "read in existing file with fluxes"
   ]
  },
  {
   "cell_type": "code",
   "execution_count": null,
   "metadata": {},
   "outputs": [],
   "source": [
    "with fits.open(basedir/'data'/'interim'/'fluxes'/f'{name}_fluxes.fits') as hdul:\n",
    "    flux = Table(hdul[1].data)\n",
    "flux['SkyCoord'] = SkyCoord(flux['RaDec'])\n",
    "\n",
    "mu_m = 0.15 # lower error of (m-M). Used in classification\n",
    "\n",
    "# use mean for background\n",
    "#for line in [x.split('_')[0] for x in flux.columns if x.endswith('_flux')]:\n",
    "#    print('warning: you are using mean background')\n",
    "#    flux[f'{line}_flux'] = flux[f'{line}_flux_raw'] - flux[f'{line}_bkg_mean']\n",
    "galaxy.mu=results.loc[name]['(m-M)']"
   ]
  },
  {
   "cell_type": "markdown",
   "metadata": {
    "heading_collapsed": true
   },
   "source": [
    "### Account for PSF uncertainty"
   ]
  },
  {
   "cell_type": "code",
   "execution_count": null,
   "metadata": {
    "hidden": true
   },
   "outputs": [],
   "source": [
    "class DisableLogger():\n",
    "    def __enter__(self):\n",
    "       logging.disable(logging.CRITICAL)\n",
    "    def __exit__(self, exit_type, exit_value, exit_traceback):\n",
    "       logging.disable(logging.NOTSET)\n",
    "        \n",
    "def est_err(tbl,aperture_size=2,delta=0.5):\n",
    "    '''estimate the flux error resulting from an uncertainy PSF\n",
    "    \n",
    "    The fwhm of the PSF is difficult to measure and the values we and for\n",
    "    the values we use we assume an uncertainty of dFWHM = 0.1\" = 0.5 px.\n",
    "    '''\n",
    "    tbl = tbl.copy()\n",
    "    print(f'aperture size = {aperture_size}')\n",
    "    \n",
    "    with DisableLogger():\n",
    "        \n",
    "        #print('using measured PSF')\n",
    "        flux1 = measure_flux(galaxy,tbl,lines=['OIII5006'],alpha=galaxy.power_index,Rv=3.1,Ebv=galaxy.Ebv,\n",
    "                            extinction='MW',background='local',aperture_size=aperture_size)\n",
    "        mOIII = -2.5*np.log10(flux1['OIII5006_flux']*1e-20) - 13.74\n",
    "        dmOIII = 2.5/np.log(10) * flux1['OIII5006_flux_err']/flux1['OIII5006_flux']\n",
    "\n",
    "        #print(f'using PSF-{delta}')\n",
    "        tbl['fwhm'] -= delta\n",
    "        flux3 = measure_flux(galaxy,tbl,lines=['OIII5006'],alpha=galaxy.power_index,Rv=3.1,Ebv=galaxy.Ebv,\n",
    "                            extinction='MW',background='local',aperture_size=aperture_size)\n",
    "        mOIIIm = -2.5*np.log10(flux3['OIII5006_flux']*1e-20) - 13.74\n",
    "        \n",
    "        #print(f'using PSF+{delta}')\n",
    "        tbl['fwhm'] += 2*delta\n",
    "        flux2 = measure_flux(galaxy,tbl,lines=['OIII5006'],alpha=galaxy.power_index,Rv=3.1,Ebv=galaxy.Ebv,\n",
    "                            extinction='MW',background='local',aperture_size=aperture_size)\n",
    "        mOIIIp = -2.5*np.log10(flux2['OIII5006_flux']*1e-20) - 13.74\n",
    "    \n",
    "    #print(f'PSF-(PSF+delta): {np.nanmean(mOIII[mOIII<28]-mOIIIp[mOIII<28]):.3f}')\n",
    "    #print(f'PSF-(PSF-delta): {np.nanmean(mOIII[mOIII<28]-mOIIIm[mOIII<28]):.3f}')\n",
    "    print(f'(PSF-delta)+(PSF-delta): {np.nanmean(mOIIIm[mOIII<28]-mOIIIp[mOIII<28])/2:.3f}')\n",
    "\n",
    "    return mOIII,dmOIII,mOIIIp,mOIIIm\n",
    "\n",
    "\n",
    "aperture_size = [0.5,1,1.5,2,2.5,3,3.5]\n",
    "#aperture_size = [1.25,1.5,1.75,2,2.25,2.5,2.75,3,3.25]\n",
    "\n",
    "error_phot = []\n",
    "error_psf = []\n",
    "print(name)\n",
    "for a in aperture_size:\n",
    "    mOIII,dmOIII,mOIIIp,mOIIIm = est_err(sources,a,delta=0.2)\n",
    "    \n",
    "    error_phot.append(np.nanmean(dmOIII[mOIII<28]))\n",
    "    error_psf.append(np.nanmean(mOIIIm[mOIII<28]-mOIIIp[mOIII<28])/2)\n",
    "    "
   ]
  },
  {
   "cell_type": "code",
   "execution_count": null,
   "metadata": {
    "hidden": true
   },
   "outputs": [],
   "source": [
    "fig,ax=plt.subplots(figsize=(single_column,single_column))\n",
    "\n",
    "ax.plot(aperture_size,error_psf,label='error from PSF',color='black',ls=':')\n",
    "ax.plot(aperture_size,error_phot,label='error from photometry',color='black',ls='--')\n",
    "ax.plot(aperture_size,np.sqrt(np.power(error_phot,2)+np.power(error_psf,2)),label='total error',\n",
    "        color='tab:red')\n",
    "ax.legend()\n",
    "ax.set_title(f'error\\_PSF(fwhm=2.5)={error_psf[aperture_size.index(2.5)]:.3f}')\n",
    "ax.set(xlabel='aperture size / fwhm',ylabel='dmOIII / mag')\n",
    "plt.savefig(basedir/'reports'/galaxy.name/f'{galaxy.name}_aperture_size.pdf')\n",
    "plt.show()"
   ]
  },
  {
   "cell_type": "markdown",
   "metadata": {
    "hidden": true
   },
   "source": [
    "check if different aperture sizes lead to the same fluxes"
   ]
  },
  {
   "cell_type": "code",
   "execution_count": null,
   "metadata": {
    "hidden": true
   },
   "outputs": [],
   "source": [
    "tbl = sources\n",
    "tbl['fwhm'] += 1\n",
    "\n",
    "flux1 = measure_flux(galaxy,tbl,lines=['OIII5006'],alpha=galaxy.power_index,Rv=3.1,Ebv=galaxy.Ebv,\n",
    "                    extinction='MW',background='local',aperture_size=1.5)\n",
    "mOIII1 = -2.5*np.log10(flux1['OIII5006_flux']*1e-20) - 13.74\n",
    "\n",
    "flux2 = measure_flux(galaxy,tbl,lines=['OIII5006'],alpha=galaxy.power_index,Rv=3.1,Ebv=galaxy.Ebv,\n",
    "                    extinction='MW',background='local',aperture_size=2.0)\n",
    "mOIII2 = -2.5*np.log10(flux2['OIII5006_flux']*1e-20) - 13.74\n",
    "\n",
    "flux3 = measure_flux(galaxy,tbl,lines=['OIII5006'],alpha=galaxy.power_index,Rv=3.1,Ebv=galaxy.Ebv,\n",
    "                    extinction='MW',background='local',aperture_size=2.5)\n",
    "mOIII3 = -2.5*np.log10(flux3['OIII5006_flux']*1e-20) - 13.74"
   ]
  },
  {
   "cell_type": "code",
   "execution_count": null,
   "metadata": {
    "hidden": true
   },
   "outputs": [],
   "source": [
    "fig,ax=plt.subplots(figsize=(6,6))\n",
    "lim = [23,28]\n",
    "ax.scatter(mOIII1,mOIII3)\n",
    "ax.plot(lim,lim,color='black')\n",
    "ax.set(xlim=lim,ylim=lim,ylabel='mOIII 2.5FWHM',xlabel='mOIII 1.5FWHM')\n",
    "plt.show()"
   ]
  },
  {
   "cell_type": "markdown",
   "metadata": {},
   "source": [
    "## Emission line diagnostics    "
   ]
  },
  {
   "cell_type": "code",
   "execution_count": null,
   "metadata": {},
   "outputs": [],
   "source": [
    "from pnlf.analyse import emission_line_diagnostics\n",
    "\n",
    "print(f'emission line diagnostics for {galaxy.name}')\n",
    "tbl = emission_line_diagnostics(flux,galaxy.mu,\n",
    "                                galaxy.completeness_limit,\n",
    "                                distance_modulus_err=mu_m) \n",
    "\n",
    "# create additional columns that are needed for the classification\n",
    "tbl['exclude'] = False\n",
    "tbl['overluminous'] = False\n",
    "\n",
    "slow  = .2 #galaxy.sharplo  \n",
    "shigh = 1. #galaxy.sharphi \n",
    "r     = .8 #galaxy.roundness \n",
    "\n",
    "# table contains all detected objects. here we mask all undesired objects.\n",
    "c_shape = ((tbl['sharp']>slow) & (tbl['sharp']<shigh) & (np.abs(tbl['round'])<r)) \n",
    "c_PN    = (tbl['type']=='PN')\n",
    "c_SNR   = (tbl['SNRorPN'] & (tbl['type']=='SNR'))\n",
    "c_detec = tbl['OIII5006_detection'] \n",
    "c_limit = (tbl['mOIII']<galaxy.completeness_limit) "
   ]
  },
  {
   "cell_type": "markdown",
   "metadata": {},
   "source": [
    "### Visually inspect objects"
   ]
  },
  {
   "cell_type": "markdown",
   "metadata": {},
   "source": [
    "#### for median background"
   ]
  },
  {
   "cell_type": "code",
   "execution_count": null,
   "metadata": {},
   "outputs": [],
   "source": [
    "# for median background\n",
    "exclude = {\n",
    " 'IC5332'  : [1338,495],\n",
    " 'NGC0628' : [886],\n",
    " 'NGC1087' : [878],\n",
    " 'NGC1300' : [1813,2702,2578,2466,2523],\n",
    " 'NGC1365' : [733, 1056, 1020, 745, 1309, 744, 1121, 883, 954, 854,120,33,938,872,690],\n",
    " 'NGC1385' : [585,674,578,29,605,669,106],\n",
    " 'NGC1433' : [4873,4859,4883,4860,4873],\n",
    " 'NGC1566' : [872,25],\n",
    " 'NGC1672' : [275,199],\n",
    " 'NGC2835' : [416,807,659,79,94],\n",
    " 'NGC3627' : [1230],\n",
    " 'NGC4254' : [1943,1948,1947],\n",
    " 'NGC4303' : [919,411,781],\n",
    " 'NGC5068' : [212,214,216,708,661,1065,503,576,982,34,302,814,633,1023],\n",
    " 'NGC7496' : [353],\n",
    "}\n",
    "\n",
    "overluminous = {\n",
    " 'NGC1566' : [199,871],\n",
    " 'NGC1672' : [42,225],\n",
    " 'NGC3627' : [594],\n",
    " 'NGC4254' : [990],\n",
    " 'NGC4303' : [355],\n",
    " 'NGC4321' : [],\n",
    " 'NGC7496' : [408],\n",
    "}\n",
    "\n",
    "indices = np.where(np.in1d(tbl['id'], exclude.get(galaxy.name,[])))[0]\n",
    "tbl['exclude'][indices]=True\n",
    "indices = np.where(np.in1d(tbl['id'], overluminous.get(galaxy.name,[])))[0]\n",
    "tbl['overluminous'][indices]=True"
   ]
  },
  {
   "cell_type": "markdown",
   "metadata": {
    "heading_collapsed": true
   },
   "source": [
    "#### with mean background"
   ]
  },
  {
   "cell_type": "code",
   "execution_count": null,
   "metadata": {
    "hidden": true
   },
   "outputs": [],
   "source": [
    "# remove all objects defined here from the sample\n",
    "# define masks as slices\n",
    "exclude = {\n",
    " 'IC5332'  : [1338],\n",
    " 'NGC0628' : [886,309],\n",
    " 'NGC1300' : [2702,2578,2466,2523,1813],\n",
    " 'NGC1365' : [730],\n",
    " 'NGC1385' : [542,25,44,582,677,585,654],\n",
    " 'NGC1512' : [272],\n",
    " 'NGC1566' : [25,168],\n",
    " 'NGC1672' : [275,199,],\n",
    " 'NGC2835' : [179,416,287,807],\n",
    " 'NGC4254' : [496,1948,1947,624,1941,473,206,285,573,482],\n",
    " 'NGC4303' : [411,380,327],\n",
    " 'NGC5068' : [554,557],\n",
    " 'NGC7496' : [353],\n",
    "}\n",
    "\n",
    "overluminous = {\n",
    " 'NGC1087' : [878],\n",
    " 'NGC1300' : [3066,3179],\n",
    " 'NGC1512' : [277],\n",
    " 'NGC1566' : [199,103],\n",
    " 'NGC1672' : [204,42],\n",
    " 'NGC2835' : [],\n",
    " 'NGC4254' : [447,345,1104],\n",
    " 'NGC4303' : [370],\n",
    " 'NGC4321' : [2571],\n",
    " 'NGC7496' : [408,350],\n",
    "}\n",
    "\n",
    "indices = np.where(np.in1d(tbl['id'], exclude.get(galaxy.name,[])))[0]\n",
    "tbl['exclude'][indices]=True\n",
    "indices = np.where(np.in1d(tbl['id'], overluminous.get(galaxy.name,[])))[0]\n",
    "tbl['overluminous'][indices]=True"
   ]
  },
  {
   "cell_type": "markdown",
   "metadata": {
    "heading_collapsed": true
   },
   "source": [
    "#### Plot cutouts"
   ]
  },
  {
   "cell_type": "code",
   "execution_count": null,
   "metadata": {
    "hidden": true
   },
   "outputs": [],
   "source": [
    "from pnlf.plot.cutouts import cutout_with_profile\n",
    "print(name)\n",
    "\n",
    "tmp = tbl[c_shape & (c_PN|c_SNR) & c_detec].copy()\n",
    "tmp.sort('mOIII')\n",
    "\n",
    "filename = basedir / 'reports' / name / f'{name}_growth_curve'\n",
    "cutout_with_profile(galaxy,table=tmp[0:30],size=40,diagnostics=False,filename=filename)"
   ]
  },
  {
   "cell_type": "markdown",
   "metadata": {},
   "source": [
    "## Planetary nebula luminosity function"
   ]
  },
  {
   "cell_type": "code",
   "execution_count": null,
   "metadata": {},
   "outputs": [],
   "source": [
    "from pnlf.analyse import MaximumLikelihood1D, pnlf, cdf\n",
    "from pnlf.plot.pnlf import plot_pnlf\n",
    "from pnlf.auxiliary import mu_to_parsec\n",
    "from scipy.stats import kstest\n",
    "\n",
    "Mmax = -4.47\n",
    "\n",
    "criteria = c_shape & c_detec & (c_PN) & ~tbl['exclude'] & ~np.isnan(tbl['mOIII'])\n",
    "data = tbl[np.where(criteria & c_limit)]['mOIII']\n",
    "err = tbl[np.where(criteria & c_limit)]['dmOIII']\n",
    "ol_mask = tbl[np.where(criteria & c_limit)]['overluminous']\n",
    "\n",
    "print(f'analysing {galaxy.name} (sample table: {parameters[name][\"mu\"]})')\n",
    "print(f'completeness limit = {galaxy.completeness_limit}')\n",
    "fitter = MaximumLikelihood1D(pnlf,data[~ol_mask],err=err[~ol_mask],mhigh=galaxy.completeness_limit,Mmax=Mmax)\n",
    "galaxy.mu,mu_p,mu_m = fitter([29])\n",
    "#mu_p, mu_m = [np.sqrt(err_m**2+np.nanmean(err)**2+dPSF**2) for err_m in [mu_p, mu_m]]\n",
    "\n",
    "d,(dp,dm)=mu_to_parsec(galaxy.mu,[mu_p,mu_m])\n",
    "print('{:.2f} + {:.2f} - {:.2f}'.format(galaxy.mu,mu_p,mu_m))\n",
    "print('{:.2f} + {:.2f} - {:.2f}'.format(d,dp,dm))\n",
    "\n",
    "ks,pv = kstest(data,cdf,args=(galaxy.mu,galaxy.completeness_limit))\n",
    "print(f'{galaxy.name}: statistic={ks:.3f}, pvalue={pv:.3f}')\n",
    "\n",
    "binsize = (galaxy.completeness_limit-Mmax-galaxy.mu) / galaxy.nbins\n",
    "#Plot PNLF. here we include the overluminous object\n",
    "filename = basedir / 'reports' / f'{galaxy.name}' / f'{galaxy.name}_PNLF'\n",
    "axes = plot_pnlf(data,galaxy.mu,galaxy.completeness_limit,mask=ol_mask,\n",
    "                 binsize=binsize,mhigh=28.5,Mmax=Mmax,filename=filename,color=tab10[0])"
   ]
  },
  {
   "cell_type": "markdown",
   "metadata": {
    "heading_collapsed": true
   },
   "source": [
    "### What happend to the missing PNe"
   ]
  },
  {
   "cell_type": "code",
   "execution_count": null,
   "metadata": {
    "hidden": true
   },
   "outputs": [],
   "source": [
    "# the catalogue with the PNe (and SNRs)\n",
    "with fits.open(basedir/'data'/'catalogues'/'submitted'/'nebulae.fits') as hdul:\n",
    "    catalogue = Table(hdul[1].data)\n",
    "catalogue['overluminous'] = catalogue['note']=='OL'\n",
    "catalogue['exclude'] = catalogue['note']=='EX'\n",
    "catalogue['SkyCoord'] = SkyCoord(catalogue['RA'],catalogue['DEC'])"
   ]
  },
  {
   "cell_type": "code",
   "execution_count": null,
   "metadata": {
    "hidden": true
   },
   "outputs": [],
   "source": [
    "new_sample = tbl[np.where(criteria & c_limit)]\n",
    "new_sample.sort('mOIII')\n",
    "old_sample"
   ]
  },
  {
   "cell_type": "code",
   "execution_count": null,
   "metadata": {
    "hidden": true
   },
   "outputs": [],
   "source": [
    "from astropy.coordinates import match_coordinates_sky\n",
    "from astropy.table import hstack\n",
    "\n",
    "old_sample = catalogue[(catalogue['gal_name']==name) \n",
    "                      & (catalogue['type']=='PN') \n",
    "                      & (catalogue['mOIII']<28) \n",
    "                      & ~(catalogue['overluminous'])\n",
    "                      & ~(catalogue['exclude'])].copy()\n",
    "old_sample = catalogue[(catalogue['gal_name']==name) & (catalogue['type']=='PN')]\n",
    "old_sample.sort('mOIII')\n",
    "idx,sep,_=match_coordinates_sky(old_sample['SkyCoord'],tbl['SkyCoord'])\n"
   ]
  },
  {
   "cell_type": "code",
   "execution_count": null,
   "metadata": {
    "hidden": true
   },
   "outputs": [],
   "source": [
    "\n",
    "from pnlf.plot.cutouts import cutout_with_profile\n",
    "\n",
    "t = hstack([old_sample['id','mOIII','HA6562','HA6562_err','type'],tbl[idx][['id','mOIII','HA6562_flux','HA6562_flux_err','HA6562_detection','type']]],\n",
    "     table_names=['old','new'])\n",
    "\n",
    "tmp = tbl[idx][(t['type_old']=='PN') & (t['type_new']!='PN') & (sep<0.05*u.arcsec)]\n",
    "tmp.sort('mOIII')\n",
    "\n",
    "cutout_with_profile(galaxy,table=tmp[:10],size=40,diagnostics=False,filename=None)"
   ]
  },
  {
   "cell_type": "code",
   "execution_count": null,
   "metadata": {
    "hidden": true
   },
   "outputs": [],
   "source": [
    "t[(t['type_old']=='PN') & (t['type_new']!='PN') & (sep<0.05*u.arcsec)]"
   ]
  },
  {
   "cell_type": "markdown",
   "metadata": {
    "heading_collapsed": true
   },
   "source": [
    "### Compare to literature\n",
    "\n",
    "**WARNING**: this changes the backend to PGF. Some plotting functions may not work afterwards"
   ]
  },
  {
   "cell_type": "code",
   "execution_count": null,
   "metadata": {
    "hidden": true
   },
   "outputs": [],
   "source": [
    "from pnlf.plot import compile_distances, plot_distances\n",
    "\n",
    "print(galaxy.name)\n",
    "filename = basedir / 'reports' / galaxy.name / f'{galaxy.name}_distances'\n",
    "distances = compile_distances(name)\n",
    "plot_distances(galaxy.name,galaxy.mu,mu_p,mu_m,distances,filename=filename)"
   ]
  },
  {
   "cell_type": "markdown",
   "metadata": {
    "heading_collapsed": true
   },
   "source": [
    "### Save catalogue to file"
   ]
  },
  {
   "cell_type": "code",
   "execution_count": null,
   "metadata": {
    "hidden": true
   },
   "outputs": [],
   "source": [
    "# this saves the entire table  \n",
    "tbl_out = tbl[c_shape & (tbl['type']!='NaN')].copy()\n",
    "del tbl_out['SkyCoord']\n",
    "\n",
    "for col in tbl_out.colnames:\n",
    "    if col not in ['id','RaDec','type','SNRorPN','SkyCoord']:\n",
    "        if not col.endswith('detection'):\n",
    "            tbl_out[col].info.format = '%.3f' \n",
    "            \n",
    "primary_hdu = fits.PrimaryHDU()\n",
    "table_hdu   = fits.BinTableHDU(tbl_out)\n",
    "hdul = fits.HDUList([primary_hdu, table_hdu])\n",
    "filename = basedir/'data'/'catalogues'/f'{galaxy.name}_classifications.fits'\n",
    "hdul.writeto(filename,overwrite=True)\n",
    "\n",
    "#with open(filename,'w',newline='\\n') as f:\n",
    "#    ascii.write(tbl_out,f,format='fixed_width_two_line',overwrite=True,delimiter_pad=' ',position_char='=')\n",
    "print(f'{len(tbl_out)} objects saved to ' + str(filename))   "
   ]
  },
  {
   "cell_type": "markdown",
   "metadata": {
    "heading_collapsed": true
   },
   "source": [
    "### Visualize the result of the classification"
   ]
  },
  {
   "cell_type": "code",
   "execution_count": null,
   "metadata": {
    "hidden": true
   },
   "outputs": [],
   "source": [
    "from pnlf.plot.pnlf import plot_emission_line_ratio\n",
    "\n",
    "for t in ['PN','SNR','HII']:\n",
    "    print(f\"{t}: v_sig = {np.nanmean(tbl[(tbl['type']==t) &  (tbl['mOIII']<galaxy.completeness_limit) & (tbl['v_SIGMA_S/N']>9)]['v_SIGMA']):.2f}\")\n",
    "\n",
    "filename = basedir / 'reports' / galaxy.name / f'{galaxy.name}_emission_line'\n",
    "plot_emission_line_ratio(tbl[c_shape & c_limit & ~tbl['exclude']],\n",
    "                         galaxy.mu,\n",
    "                         completeness=galaxy.completeness_limit,\n",
    "                         filename=filename)\n"
   ]
  },
  {
   "cell_type": "code",
   "execution_count": null,
   "metadata": {
    "hidden": true
   },
   "outputs": [],
   "source": [
    "from pnlf.plot.map import classification_map\n",
    "#parameters[galaxy.name]['zoomin'] = [400,500,400]\n",
    "print(galaxy.name)\n",
    "filename = None # basedir / 'reports' / galaxy.name / f'{galaxy.name}_detections_classification.pdf'\n",
    "classification_map(galaxy,parameters,tbl[c_shape & c_detec & c_limit],filename)"
   ]
  },
  {
   "cell_type": "markdown",
   "metadata": {},
   "source": [
    "### With and without SNR\n",
    "\n",
    "the uncertainty from the PSF is added before the fit"
   ]
  },
  {
   "cell_type": "code",
   "execution_count": null,
   "metadata": {
    "scrolled": true
   },
   "outputs": [],
   "source": [
    "from pnlf.analyse import MaximumLikelihood1D, PNLF, pnlf\n",
    "from pnlf.plot.pnlf import plot_pnlf\n",
    "\n",
    "\n",
    "criteria1 = c_shape & (c_PN) & c_detec & ~tbl['exclude'] & ~tbl['overluminous']\n",
    "data1 = tbl[np.where(c_limit & criteria1)]['mOIII']\n",
    "err1  = tbl[np.where(c_limit & criteria1)]['dmOIII']\n",
    "\n",
    "criteria2 = c_shape & (c_PN|c_SNR)  & c_detec & ~tbl['exclude'] & ~tbl['overluminous']\n",
    "data2 = tbl[np.where(c_limit & criteria2)]['mOIII']\n",
    "err2  = tbl[np.where(c_limit & criteria2)]['dmOIII']\n",
    "\n",
    "print(f'{galaxy.name}: literature {galaxy.mu:.3f}')\n",
    "\n",
    "fitter = MaximumLikelihood1D(pnlf,data1,err=err1,mhigh=galaxy.completeness_limit)\n",
    "mu1,dp1,dm1 = fitter([28])\n",
    "#dp1 = np.sqrt(dp1**2+np.nanmean(err1)**2+dPSF**2)\n",
    "#dm1 = np.sqrt(dm1**2+np.nanmean(err1)**2+dPSF**2)\n",
    "ks1,pv1 = kstest(data1,cdf,args=(mu1,galaxy.completeness_limit))\n",
    "print(f'without SNR: statistic={ks1:.3f}, pvalue={pv1:.3f}')\n",
    "\n",
    "fitter = MaximumLikelihood1D(pnlf,data2,err=err2,mhigh=galaxy.completeness_limit)\n",
    "mu2,dp2,dm2 = fitter([28])\n",
    "#dp2 = np.sqrt(dp2**2+np.nanmean(err2)**2+dPSF**2)\n",
    "#dm2 = np.sqrt(dm2**2+np.nanmean(err2)**2+dPSF**2)\n",
    "ks2,pv2 = kstest(data1,cdf,args=(mu2,galaxy.completeness_limit))\n",
    "print(f'with SNR: statistic={ks2:.3f}, pvalue={pv2:.3f}')\n",
    "\n",
    "print(f'without SNR: {mu1:.2f}+{dp1:.2f}-{dm1:.2f}\\nwith SNR:    {mu2:.2f}+{dp2:.2f}-{dm2:.2f} ({mu1-mu2:.2f})')\n",
    "\n",
    "filename = basedir / 'reports' / galaxy.name / f'{galaxy.name}_PNLF_with_SNR'\n",
    "#axes = plot_pnlf(tbl[criteria1]['mOIII'],mu1,galaxy.completeness_limit,binsize=binsize,mhigh=28.5,color=tab10[0])\n",
    "#axes = plot_pnlf(tbl[criteria2]['mOIII'],mu2,galaxy.completeness_limit,binsize=binsize,mhigh=30,filename=filename,color='grey',alpha=0.7)\n",
    "plt.show()"
   ]
  },
  {
   "cell_type": "markdown",
   "metadata": {},
   "source": [
    "### Calculate bolometric lumionsity\n",
    "\n",
    "https://en.wikipedia.org/wiki/Apparent_magnitude\n",
    "\n",
    "https://en.wikipedia.org/wiki/AB_magnitude\n",
    "\n",
    "https://archive.is/20121204144725/http://www.astro.utoronto.ca/~patton/astro/mags.html#selection-161.0-161.27\n",
    "\n",
    "https://www.stsci.edu/ftp/instrument_news/WFPC2/Wfpc2_phot/wfpc2_cookbook.html\n",
    "\n",
    "use zeropoints from here (page 13): \n",
    "\n",
    "http://web.ipac.caltech.edu/staff/fmasci/home/astro_refs/magsystems.pdf"
   ]
  },
  {
   "cell_type": "code",
   "execution_count": null,
   "metadata": {},
   "outputs": [],
   "source": [
    "from pnlf.utils import get_bolometric_luminosity\n",
    "\n",
    "with fits.open(data_ext / f'MUSE'/DR/ 'filterImages' / f'{name}_IMAGE_FOV_Johnson_V_WCS_Pall_mad.fits') as hdul:\n",
    "    V_band = hdul[1].data\n",
    "    V_band_header = hdul[1].header\n",
    "\n",
    "Lbol = get_bolometric_luminosity(V_band,mu1,mask)\n",
    "\n",
    "from pnlf.analyse import N25\n",
    "import datetime\n",
    "date = datetime.date.today().strftime('%Y.%m.%d')\n",
    "\n",
    "NPN25 = N25(mu1,galaxy.completeness_limit,data1,2.5)\n",
    "\n",
    "row = [name,\n",
    "       date,\n",
    "       np.sum(criteria & c_limit),\n",
    "       np.sum(c_shape & (tbl['type']=='SNR') & c_limit),\n",
    "       np.sum(c_shape & c_SNR & c_limit),\n",
    "       np.sum(tbl['exclude']),\n",
    "       mu1,dp1,dm1,\n",
    "       mu2,dp2,dm2,\n",
    "       Distance(distmod=mu1).to(u.Mpc).value,\n",
    "       2*np.log(10)*10**(mu1/5) * dp1 / 1e6,\n",
    "       2*np.log(10)*10**(mu1/5) * dm1 / 1e6,\n",
    "       ks,pv,\n",
    "       np.sum(~mask),\n",
    "       (Lbol/u.Lsun).value,\n",
    "       NPN25,\n",
    "       np.log10(NPN25/Lbol*u.Lsun).value,\n",
    "       ]\n",
    "\n",
    "results.loc[name] = row\n",
    "\n",
    "# save results to output table\n",
    "for col in results.colnames[2:]:\n",
    "    if col.startswith('N_'):\n",
    "        results[col].info.format = '%.0f'\n",
    "    else:\n",
    "        results[col].info.format = '%.3f'\n",
    "results['Lbol'].info.format = '%.2e'    \n",
    "    \n",
    "with open(basedir/'data'/'interim'/ 'results.txt','w',newline='\\n') as f:\n",
    "    ascii.write(results,f,format='fixed_width_two_line',overwrite=True,delimiter_pad=' ',position_char='=')"
   ]
  },
  {
   "cell_type": "markdown",
   "metadata": {
    "heading_collapsed": true
   },
   "source": [
    "## Compare to stellar mass density"
   ]
  },
  {
   "cell_type": "code",
   "execution_count": null,
   "metadata": {
    "hidden": true
   },
   "outputs": [],
   "source": [
    "from photutils import EllipticalAnnulus\n",
    "from regions import PixCoord,EllipseAnnulusPixelRegion,EllipsePixelRegion\n",
    "\n",
    "sample_table = ascii.read(basedir/'data'/'interim'/'sample.txt')\n",
    "sample_table.add_index('Name')\n",
    "sample_table['SkyCoord'] = SkyCoord(sample_table['R.A.'],sample_table['Dec.'])"
   ]
  },
  {
   "cell_type": "code",
   "execution_count": null,
   "metadata": {
    "hidden": true
   },
   "outputs": [],
   "source": [
    "x,y = sample_table.loc[name]['SkyCoord'].to_pixel(galaxy.wcs)\n",
    "angle = sample_table.loc[name]['posang']\n",
    "eccentricity = np.sin(sample_table.loc[name]['Inclination']*u.deg).value\n",
    "r25 = sample_table.loc[name]['r25']\n",
    "\n",
    "criteria = c_shape & (c_PN) & c_detec & ~tbl['exclude'] & ~tbl['overluminous']\n",
    "data = tbl[np.where(criteria & c_limit)]"
   ]
  },
  {
   "cell_type": "code",
   "execution_count": null,
   "metadata": {
    "hidden": true
   },
   "outputs": [],
   "source": [
    "data = tbl[np.where(criteria & c_limit)]\n",
    "\n",
    "def sort_elliptical_bins(positions,center,eccentricity=1,angle=0*u.deg,n_per_bin=10):\n",
    "\n",
    "    bins = []\n",
    "    radius = []\n",
    "    \n",
    "    r_in  = 0\n",
    "    r_out = 5\n",
    "    found = 0\n",
    "    \n",
    "    while True:\n",
    "        \n",
    "        if r_in==0:\n",
    "            aperture = EllipsePixelRegion(center,\n",
    "                                         width=r_out,\n",
    "                                         height=np.sqrt((r_out)**2 * (1-eccentricity**2)),\n",
    "                                         angle=angle)\n",
    "        else:\n",
    "            aperture = EllipseAnnulusPixelRegion(center,\n",
    "                                         inner_width  = r_in,\n",
    "                                         inner_height = np.sqrt((r_in)**2 * (1-eccentricity**2)),\n",
    "                                         outer_width  = r_out,\n",
    "                                         outer_height = np.sqrt(r_out**2 * (1-eccentricity**2)),\n",
    "                                         angle=angle)\n",
    "        \n",
    "        N = np.sum(aperture.contains(positions))\n",
    "\n",
    "        if N>n_per_bin or N+found>=len(positions):\n",
    "            found += N\n",
    "            r_in  = r_out\n",
    "            r_out = r_in+5\n",
    "            bins.append(aperture)\n",
    "            radius.append((r_in+r_out)/2)\n",
    "        else:\n",
    "            r_out+=1\n",
    "                                                 \n",
    "        if found>=len(positions):\n",
    "            print('all objects found')\n",
    "            break\n",
    "        if r_out>1.4*np.max(galaxy.whitelight.shape):\n",
    "            print('maximum radius reached')\n",
    "            break\n",
    "            \n",
    "    return bins, np.array(radius)\n",
    "\n",
    "bins, radius = sort_elliptical_bins(\n",
    "                                    positions=PixCoord(data['x'],data['y']),\n",
    "                                    center=PixCoord(x,y),\n",
    "                                    eccentricity=eccentricity,\n",
    "                                    angle=angle*u.deg,\n",
    "                                    n_per_bin=20,\n",
    "                                    )"
   ]
  },
  {
   "cell_type": "code",
   "execution_count": null,
   "metadata": {
    "hidden": true
   },
   "outputs": [],
   "source": [
    "def measure_radial(bins,radius,positions,data):\n",
    "    \n",
    "    data = data.copy()\n",
    "    \n",
    "    fig = plt.figure(figsize=(two_column,two_column/2))\n",
    "    ax1 = fig.add_subplot(121,projection=galaxy.wcs)\n",
    "    ax2 = fig.add_subplot(122)\n",
    "    ax3 = ax2.twinx()\n",
    "    \n",
    "    norm = simple_norm(data,'linear',clip=False,max_percent=95)\n",
    "    ax1.imshow(data,norm=norm,cmap=plt.cm.Greens_r)\n",
    "    \n",
    "    count = []\n",
    "    mass  = []\n",
    "    area  = []\n",
    "    Lbol  = []\n",
    "    \n",
    "    dummy = np.zeros_like(data)\n",
    "    dummy[~np.isnan(data)] = 1\n",
    "    data[np.isnan(data)] = 0\n",
    "\n",
    "    for aperture,r in zip(bins,radius):\n",
    "\n",
    "        patch = aperture.as_artist(facecolor='none', edgecolor='black', lw=1,ls='--')\n",
    "        ax1.add_patch(patch)\n",
    "        \n",
    "        count.append(np.sum(aperture.contains(positions)))\n",
    "        mass.append(np.sum(aperture.to_mask().multiply(data)))\n",
    "        flux = np.sum(aperture.to_mask().multiply(data))*1e-20 * u.erg / (u.s*u.cm**2*u.AA)\n",
    "        Lbol.append(V_band_to_bolometric(flux))\n",
    "        #area.append(np.sum(aperture.to_mask().multiply(dummy)))\n",
    "        area.append(aperture.area)\n",
    "        \n",
    "    count = np.array(count)\n",
    "    mass = np.array(mass)\n",
    "    area = np.array(area)\n",
    "    Lbol = np.array([L/u.Lsun for L in Lbol])\n",
    "    \n",
    "    ax2.scatter(radius/5,count/area,color=tab10[0])\n",
    "    ax3.scatter(radius/5,Lbol/area,color=tab10[1])\n",
    "    \n",
    "    ax2.set(xlabel='radius / arcsec',ylim=[min(count/area)*0.8,max(count/area)*1.2],yscale='log')\n",
    "    ax2.set_ylabel(ylabel=r'$N_{PN} / arcsec^2$',color=tab10[0])\n",
    "    ax2.tick_params(axis='y', labelcolor=tab10[0])\n",
    "    \n",
    "    ax3.set(ylim=[min(Lbol/area)*0.8,max(Lbol/area)*1.2],yscale='log')\n",
    "    ax3.set_ylabel(ylabel='flux / $arcsec^2$',color=tab10[1])\n",
    "    ax3.tick_params(axis='y', labelcolor=tab10[1])\n",
    "\n",
    "    plt.tight_layout()\n",
    "    plt.savefig(basedir/'reports'/galaxy.name/f'{galaxy.name}_PN_profile.pdf')\n",
    "    plt.show()\n",
    "    \n",
    "    return count,mass,area\n",
    " \n",
    "count,mass,area = measure_radial(bins[2:],radius[2:],positions=PixCoord(data['x'],data['y']),data=galaxy.whitelight)"
   ]
  },
  {
   "cell_type": "markdown",
   "metadata": {
    "heading_collapsed": true
   },
   "source": [
    "## Look at spectrum"
   ]
  },
  {
   "cell_type": "code",
   "execution_count": null,
   "metadata": {
    "hidden": true
   },
   "outputs": [],
   "source": [
    "from pnlf.plot.spectrum import spectrum_and_rgb\n",
    "\n",
    "filename = data_ext / 'MUSE' / 'DR1' / 'MOSAIC' / name / f'{name}_DATACUBE_FINAL.fits'\n",
    "\n",
    "with fits.open(filename , memmap=True, mode='denywrite') as hdul:\n",
    "    data_cube   = hdul[1].data\n",
    "    cube_header = hdul[1].header"
   ]
  },
  {
   "cell_type": "code",
   "execution_count": null,
   "metadata": {
    "hidden": true
   },
   "outputs": [],
   "source": [
    "from spectral_cube import SpectralCube"
   ]
  },
  {
   "cell_type": "code",
   "execution_count": null,
   "metadata": {
    "hidden": true
   },
   "outputs": [],
   "source": [
    "filename = data_ext / 'MUSE' / 'DR1' / 'MOSAIC' / name / f'{name}_DATACUBE_FINAL.fits'\n",
    "cube = SpectralCube.read(filename,format='fits',hdu='DATA',memmap=True, mode='denywrite')"
   ]
  },
  {
   "cell_type": "code",
   "execution_count": null,
   "metadata": {
    "hidden": true
   },
   "outputs": [],
   "source": [
    "from regions import CircleSkyRegion"
   ]
  },
  {
   "cell_type": "code",
   "execution_count": null,
   "metadata": {
    "hidden": true
   },
   "outputs": [],
   "source": [
    "region = CircleSkyRegion(pn['SkyCoord'], 5*u.arcsecond)\n",
    "\n",
    "subcube = cube.subcube_from_regions([region])"
   ]
  },
  {
   "cell_type": "code",
   "execution_count": null,
   "metadata": {
    "hidden": true
   },
   "outputs": [],
   "source": [
    "subcube.write(f'{galaxy.name}_{pn[\"id\"]}.fits')"
   ]
  },
  {
   "cell_type": "code",
   "execution_count": null,
   "metadata": {
    "hidden": true
   },
   "outputs": [],
   "source": [
    "tbl.sort(['mOIII'])\n",
    "pn = tbl[tbl['id']==1266][0]\n",
    "\n",
    "print(f'ID: {pn[\"id\"]}, mOIII={pn[\"mOIII\"]:.2f}')\n",
    "filename = basedir / 'reports' / 'spectra' / f'{galaxy.name}_{pn[\"id\"]}.pdf'\n",
    "spectra,wavelength = spectrum_and_rgb(pn['SkyCoord'],galaxy,data_cube,galaxy.wcs,aperture_size=1.5,filename=filename)\n"
   ]
  },
  {
   "cell_type": "markdown",
   "metadata": {},
   "source": [
    "## Compare to existing Studies\n",
    "\n",
    "For 4 galaxies in our sample, the PNLF has previously been measured. Here we compare oure results to theirs."
   ]
  },
  {
   "cell_type": "code",
   "execution_count": null,
   "metadata": {},
   "outputs": [],
   "source": [
    "from astropy.coordinates import match_coordinates_sky # match sources against existing catalog\n",
    "from astropy.coordinates import Angle                 # work with angles (e.g. 1°2′3″)\n",
    "from astropy.table import vstack\n",
    "\n",
    "from pnlf.load_references import NGC628, \\\n",
    "                                   pn_NGC628_kreckel, \\\n",
    "                                   snr_NGC628_kreckel, \\\n",
    "                                   pn_NGC628_herrmann, \\\n",
    "                                   NGC628_kreckel, \\\n",
    "                                   pn_NGC5068_herrmann, \\\n",
    "                                   pn_NGC3351_ciardullo, \\\n",
    "                                   pn_NGC3627_ciardullo,\\\n",
    "                                   pn_NGC0628_roth\n",
    "\n",
    "def get_fwhm(x,y):\n",
    "    try:\n",
    "        return galaxy.PSF[int(y),int(x)]\n",
    "    except:\n",
    "        return 0\n",
    "\n",
    "for table in [NGC628,pn_NGC628_kreckel,snr_NGC628_kreckel,NGC628_kreckel,\n",
    "              pn_NGC628_herrmann,pn_NGC5068_herrmann,pn_NGC3351_ciardullo,pn_NGC3627_ciardullo]:\n",
    "    table['x'],table['y']= table['SkyCoord'].to_pixel(wcs=galaxy.wcs)\n",
    "    table['fwhm'] = np.array([get_fwhm(x,y) for x,y in zip(table['x'],table['y'])])"
   ]
  },
  {
   "cell_type": "code",
   "execution_count": null,
   "metadata": {},
   "outputs": [],
   "source": [
    "tbl = Table(fits.getdata(basedir/'data'/'catalogues'/'NGC0628_classifications.fits'))"
   ]
  },
  {
   "cell_type": "markdown",
   "metadata": {},
   "source": [
    "exclude objects that lie outside our field of view"
   ]
  },
  {
   "cell_type": "code",
   "execution_count": null,
   "metadata": {},
   "outputs": [],
   "source": [
    "# select the correct catalogue here\n",
    "matchcoord = pn_NGC0628_roth\n",
    "\n",
    "catalogcoord = tbl[tbl['mOIII']<galaxy.completeness_limit].copy()\n",
    "#catalogcoord['SkyCoord'] = \n",
    "\n",
    "matchcoord['in_frame'] = False\n",
    "y_dim,x_dim = galaxy.shape\n",
    "\n",
    "for row in matchcoord:\n",
    "    x,y = row['x'], row['y']    \n",
    "    if 0<=int(x)<x_dim and 0<=int(y)<y_dim:\n",
    "        if not np.isnan(galaxy.PSF[int(y),int(x)]):\n",
    "            row['in_frame'] = True\n",
    "           \n",
    "print(f\"{np.sum(~matchcoord['in_frame'])} objects outside of our field of view\")\n",
    "print(f\"{np.sum(matchcoord['in_frame'])} objects inside of our field of view\")\n",
    "#matchcoord   = matchcoord[matchcoord['in_frame'] & (matchcoord['mOIII']<27.5)]"
   ]
  },
  {
   "cell_type": "markdown",
   "metadata": {},
   "source": [
    "plot the detections from the paper and our own detections"
   ]
  },
  {
   "cell_type": "code",
   "execution_count": null,
   "metadata": {},
   "outputs": [],
   "source": [
    "fig = plt.figure(figsize=(single_column,single_column))\n",
    "ax1 = fig.add_subplot(111,projection=galaxy.wcs)\n",
    "\n",
    "norm = simple_norm(galaxy.OIII5006_DAP,'linear',clip=False,max_percent=95)\n",
    "ax1.imshow(galaxy.OIII5006_DAP,norm=norm,cmap=plt.cm.Greens)\n",
    "\n",
    "ax1.scatter(matchcoord['x'],matchcoord['y'],marker='o',s=6,lw=0.2,edgecolor='tab:red',facecolors='none')\n",
    "ax1.scatter(catalogcoord['x'],catalogcoord['y'],marker='o',s=6,lw=0.2,edgecolor='tab:orange',facecolors='none')\n",
    "\n",
    "for row in matchcoord:\n",
    "    txt,x,y = row['ID'], row['x']+5, row['y']    \n",
    "    \n",
    "    ax1.annotate(txt, (x, y),fontsize=4,color='tab:red')\n",
    "\n",
    "plt.savefig(basedir / 'reports' / galaxy.name /f'{galaxy.name}_PN_position_comparison.pdf',dpi=600)"
   ]
  },
  {
   "cell_type": "markdown",
   "metadata": {},
   "source": [
    "see how many match within 1\""
   ]
  },
  {
   "cell_type": "code",
   "execution_count": null,
   "metadata": {},
   "outputs": [],
   "source": [
    "tolerance = '1.\"'\n",
    "ID, angle, Quantity  = match_coordinates_sky(matchcoord['SkyCoord'],SkyCoord.from_pixel(catalogcoord['x'],catalogcoord['y'],galaxy.wcs))\n",
    "within_tolerance = len(angle[angle.__lt__(Angle(tolerance))])\n",
    "\n",
    "print(f'{within_tolerance} of {len(angle)} match within {tolerance}\": {within_tolerance / len(angle)*100:.1f} %')\n",
    "print(f'mean seperation is {angle[angle.__lt__(Angle(tolerance))].mean().to_string(u.arcsec,decimal=True)}')"
   ]
  },
  {
   "cell_type": "markdown",
   "metadata": {},
   "source": [
    "here are the matched catalogues for NGC3351, NGC3627 and NGC5068\n",
    "\n",
    "```\n",
    "NGC3351: delta mOIII = -0.10 +- 0.22\n",
    " ID id_PHANGS      RA          DEC     mOIII    mOIII_PHANGS    type\n",
    "--- --------- ------------ ----------- ----- ------------------ ----\n",
    "  1      2474 10h44m00.33s 11d43m30.1s 25.67  25.82174331735881   PN\n",
    "  4      2378 10h44m01.19s 11d43m21.2s 25.95 25.990355973060872   PN\n",
    "  5      1216 10h43m53.53s 11d41m54.7s  26.0 25.863632214315892  SNR\n",
    "  6      2788 10h43m55.88s 11d43m20.5s 26.06 26.042295204650962  HII\n",
    " 12       187 10h43m58.18s 11d41m31.7s 26.29  26.30072573690913   PN\n",
    " 13      1514 10h44m03.55s 11d40m57.8s 26.35 26.911162217478413   PN\n",
    "```\n",
    "\n",
    "the separation here is 0.7\"\n",
    "```\n",
    "NGC3627: delta mOIII = 0.06 +- 0.00\n",
    " ID id_PHANGS      RA          DEC     mOIII    mOIII_PHANGS   type\n",
    "--- --------- ------------ ----------- ----- ----------------- ----\n",
    " 35       749 11h20m18.27s 12d57m06.8s  26.1 26.04217334763355  SNR\n",
    "```\n",
    "\n",
    "\n",
    "```\n",
    "NGC5068: delta mOIII = 0.28+-0.1\n",
    "    ID     id_PHANGS      RA          DEC      mOIII    mOIII_PHANGS    type\n",
    "---------- --------- ------------ ------------ ----- ------------------ ----\n",
    "NGC 5068-7       107 13h18m48.73s -21d00m09.3s 25.28 25.565706552405125   PN\n",
    "\n",
    "```\n"
   ]
  },
  {
   "cell_type": "markdown",
   "metadata": {},
   "source": [
    "### Compare [OIII] and Ha fluxes"
   ]
  },
  {
   "cell_type": "code",
   "execution_count": null,
   "metadata": {},
   "outputs": [],
   "source": [
    "from pnlf.load_references import pn_NGC0628_roth,pn_NGC628_herrmann,pn_NGC628_kreckel,\\\n",
    "                                 snr_NGC628_kreckel, NGC628_kreckel\n",
    "\n",
    "\n",
    "#catalogue = ascii.read(basedir/'data'/'catalogues'/f'NGC0628_nebulae.txt',format='fixed_width_two_line')\n",
    "catalogue = tbl[c_shape & (tbl['type']!='NaN') & c_detec]\n",
    "\n",
    "catalogue['exclude'] = catalogue['exclude'].astype(bool)\n",
    "catalogue['overluminous'] = catalogue['overluminous'].astype(bool)\n",
    "catalogue['SNRorPN'] = catalogue['SNRorPN']=='True'\n",
    "#catalogue['SkyCoord'] = SkyCoord(catalogue['RaDec'])\n",
    "#catalogue['RA'],catalogue['DEC'] = zip(*[x.split(' ') for x in catalogue['SkyCoord'].to_string(style='hmsdms',precision=2)])\n",
    "#catalogue.add_index('id')\n",
    "catalogue['HaNII'] = catalogue['HA6562_flux']+catalogue['NII6583_flux']\n",
    "catalogue['dHaNII'] = catalogue['HaNII'] *np.sqrt((catalogue['HA6562_flux_err']/catalogue['HA6562_flux'])**2+(catalogue['NII6583_flux_err']/catalogue['NII6583_flux'])**2)\n",
    "\n",
    "catalogcoord = catalogue[catalogue['mOIII']<28.5]\n",
    "pn_NGC628_herrmann['dmOIII'] = 0\n",
    "pn_NGC628_kreckel['dmOIII'] = 0\n",
    "NGC628_kreckel['dmOIII'] = 0\n",
    "snr_NGC628_kreckel['dmOIII']= 0 \n",
    "\n",
    "pn_NGC628_kreckel['Ha'] = pn_NGC628_kreckel['OIII']/pn_NGC628_kreckel['OIII/Ha']\n",
    "snr_NGC628_kreckel['Ha'] = snr_NGC628_kreckel['OIII']/snr_NGC628_kreckel['OIII/Ha']\n",
    "\n",
    "pn_NGC628_kreckel['NII'] = pn_NGC628_kreckel['Ha']/pn_NGC628_kreckel['Ha/NII']\n",
    "snr_NGC628_kreckel['NII'] = snr_NGC628_kreckel['Ha']/snr_NGC628_kreckel['Ha/NII']\n",
    "\n",
    "pn_NGC628_kreckel['HaNII'] = pn_NGC628_kreckel['Ha'] + pn_NGC628_kreckel['NII']\n",
    "snr_NGC628_kreckel['HaNII'] = snr_NGC628_kreckel['Ha'] + snr_NGC628_kreckel['NII']\n",
    "\n",
    "pn_NGC628_herrmann['HaNII'] = pn_NGC628_herrmann['OIII']/pn_NGC628_herrmann['R']\n",
    "pn_NGC0628_roth['HaNIII'] = 0\n",
    "\n",
    "# Herrmann+2008 has a different VOF. We only use the PN that we can actually observer\n",
    "from cluster.regions import find_sky_region\n",
    "\n",
    "galaxy = ReadLineMaps(data_ext/f'MUSE'/DR/'MUSEDAP','NGC0628',extensions=['OIII5006'])\n",
    "\n",
    "mask = np.isnan(galaxy.OIII5006)\n",
    "mask[:,0] = True\n",
    "mask[:,-1] = True\n",
    "mask[0,:] = True\n",
    "mask[-1,:] = True\n",
    "\n",
    "reg_muse_pix, reg_muse_sky = find_sky_region(mask,wcs=galaxy.wcs)\n",
    "\n",
    "pn_NGC628_herrmann = pn_NGC628_herrmann[reg_muse_sky.contains(pn_NGC628_herrmann['SkyCoord'],galaxy.wcs)]"
   ]
  },
  {
   "cell_type": "code",
   "execution_count": null,
   "metadata": {},
   "outputs": [],
   "source": [
    "from astropy.coordinates import match_coordinates_sky\n",
    "\n",
    "catalogcoord['R2'] = catalogcoord['OIII5006_flux'] / (catalogcoord['HA6562_flux']+catalogcoord['NII6583_flux'])\n",
    "catalogcoord['dR2'] = catalogcoord['R2']  * np.sqrt(catalogcoord['OIII5006_flux_err']/catalogcoord['OIII5006_flux']**2 + 1/(catalogcoord['HA6562_flux']+catalogcoord['NII6583_flux'])**2 * (catalogcoord['HA6562_flux_err']**2+catalogcoord['NII6583_flux_err']**2) )                                  \n",
    "\n",
    "fig,(ax1,ax2) = plt.subplots(nrows=2,ncols=1,figsize=(single_column,single_column*2.2))\n",
    "\n",
    "colors = ['black',tab10[0], tab10[2],tab10[1]]\n",
    "literature = (pn_NGC0628_roth,pn_NGC628_kreckel,snr_NGC628_kreckel,pn_NGC628_herrmann)\n",
    "labels = ('Roth+21','Kreckel+17 (PN)','Kreckel+17 (SNR)','Herrmann+08')\n",
    "for matchcoord,color,label in zip(literature,colors,labels):\n",
    "\n",
    "    idx, sep, _  = match_coordinates_sky(matchcoord['SkyCoord'],catalogcoord['SkyCoord'])\n",
    "    matchcoord['mOIII_measured'] = catalogcoord[idx]['mOIII']\n",
    "    matchcoord['dmOIII_measured'] = catalogcoord[idx]['dmOIII']\n",
    "        \n",
    "    matchcoord['HaNII_measured'] = 1e-20*catalogcoord[idx]['HaNII']\n",
    "    matchcoord['dHaNII_measured'] = 1e-20*catalogcoord[idx]['dHaNII']\n",
    "\n",
    "    tmp = matchcoord[sep<Angle('0.5\"')]\n",
    "    print(f'{len(tmp)} of {len(matchcoord)} matches for {label}')\n",
    "    sc = ax1.errorbar(tmp['mOIII'],tmp['mOIII_measured'],\n",
    "                 xerr=tmp['dmOIII'],yerr = tmp['dmOIII_measured'],elinewidth=0.5,\n",
    "                 marker='o',ms=1.5,ls='none',mec=color,mfc=color,ecolor=color,label=label)\n",
    "\n",
    "    dmOIII = tmp[\"mOIII\"]-tmp[\"mOIII_measured\"]\n",
    "    print(f'  {label}: d mOIII: {np.nanmean(dmOIII):.2f}+-{np.nanstd(dmOIII):.2f}')\n",
    "\n",
    "    if label!='Roth+21':\n",
    "        detected = tmp['HaNII_measured']>3*tmp['dHaNII_measured']\n",
    "        t = tmp[detected]\n",
    "        \n",
    "        dHa = (tmp[\"HaNII\"]-tmp[\"HaNII_measured\"])/tmp[\"HaNII\"]\n",
    "        #print(f'{label}: d Ha: {np.nanmean(dHa):.2f}+-{np.nanstd(dHa):.2f}')\n",
    "    \n",
    "        ax2.errorbar(t['HaNII'],t['HaNII_measured'],\n",
    "                     yerr = t['dHaNII_measured'],\n",
    "                     fmt='o',ms=2.5,mew=0.7,mec=color,mfc=color,ecolor=color,label=label)\n",
    "        t = tmp[~detected]\n",
    "        #ax2.errorbar(t['HaNII'],t['HaNII_measured'],yerr=t['dHaNII_measured'],fmt='o',\n",
    "        #             ms=2.5,mew=0.7,mec=color,mfc='white',ecolor=color,label=label)\n",
    "        \n",
    "        \n",
    "#plt.errorbar(matchcoord[crit]['mOIII'],matchcoord[crit]['mOIII_measured'],\n",
    "#             yerr = matchcoord[crit]['dmOIII_measured'],\n",
    "#             marker='o',ms=4,ls='none',mec=color,mfc=color,ecolor=color,label=s)\n",
    "\n",
    "xmin = 24.8\n",
    "xmax = 28\n",
    "ymin = 24.8\n",
    "ymax = 28\n",
    "\n",
    "ax1.plot([xmin,xmax],[xmin,xmax],color='black',lw=0.4)\n",
    "\n",
    "ax1.set_xlabel(r'$m_{[\\mathrm{O}\\,\\tiny{\\textsc{iii}}]}$ / mag (literature)')\n",
    "ax1.set_ylabel(r'$m_{[\\mathrm{O}\\,\\tiny{\\textsc{iii}}]}$ / mag (this work)')\n",
    "ax1.set(xlim=[xmin,xmax],ylim=[xmin,xmax])\n",
    "handles,labels = ax1.get_legend_handles_labels()\n",
    "labels.append(labels.pop(0))\n",
    "handles.append(handles.pop(0))\n",
    "ax1.legend(handles,labels)\n",
    "\n",
    "xmin,xmax = 8e-18,3e-15\n",
    "ymin,ymax = 8e-18,3e-15\n",
    "\n",
    "ax2.plot([xmin,xmax],[xmin,xmax],color='black',lw=0.4)\n",
    "ax2.set_xlim([xmin,xmax])\n",
    "ax2.set_ylim([ymin,ymax])\n",
    "#ax.set_xlabel(r'$\\mathrm{m}_{[\\mathrm{OIII}]}$' + f' {link}')\n",
    "ax2.set(xscale='log',yscale='log')\n",
    "#ax2.set_xlabel(r'$I_{[\\mathrm{O}\\,\\tiny{\\textsc{iii}}]}\\;/\\;(I_{\\mathrm{H}\\,\\alpha}+I_{[\\mathrm{N}\\,\\tiny{\\textsc{ii}}]})$ existing studies')\n",
    "#ax2.set_ylabel(r'$I_{[\\mathrm{O}\\,\\tiny{\\textsc{iii}}]}\\;/\\;(I_{\\mathrm{H}\\,\\alpha}+I_{[\\mathrm{N}\\,\\tiny{\\textsc{ii}}]})$ this work')\n",
    "ax2.set_xlabel(r'$I_{\\mathrm{H}\\,\\alpha}+I_{[\\mathrm{N}\\,\\tiny{\\textsc{ii}}]}$ / erg s$^{-1}$ cm$^{-2}$ (literature)')\n",
    "ax2.set_ylabel(r'$I_{\\mathrm{H}\\,\\alpha}+I_{[\\mathrm{N}\\,\\tiny{\\textsc{ii}}]}$ / erg s$^{-1}$ cm$^{-2}$ (this work)')\n",
    "\n",
    "plt.savefig(basedir / 'reports' / f'flux_comparison.pdf',dpi=600)\n",
    "plt.show()\n"
   ]
  },
  {
   "cell_type": "code",
   "execution_count": null,
   "metadata": {},
   "outputs": [],
   "source": [
    "matchcoord = NGC628_kreckel\n",
    "\n",
    "idx, sep, _  = match_coordinates_sky(matchcoord['SkyCoord'],catalogcoord['SkyCoord'])\n",
    "matchcoord['mOIII_measured'] = catalogcoord[idx]['mOIII']\n",
    "matchcoord['dmOIII_measured'] = catalogcoord[idx]['dmOIII']\n",
    "\n",
    "tmp = matchcoord[sep<Angle('0.5\"')]\n",
    "print(f'{len(tmp)} of {len(matchcoord)} matches for NGC0628')\n",
    "dmOIII = tmp[\"mOIII\"]-tmp[\"mOIII_measured\"]\n",
    "print(f'd mOIII: {np.nanmean(dmOIII):.2f}+-{np.nanstd(dmOIII):.2f}')\n"
   ]
  },
  {
   "cell_type": "markdown",
   "metadata": {},
   "source": [
    "### Did the classification change?"
   ]
  },
  {
   "cell_type": "code",
   "execution_count": null,
   "metadata": {},
   "outputs": [],
   "source": [
    "for matchcoord,label in zip(literature,labels):\n",
    "    idx, sep, _  = match_coordinates_sky(matchcoord['SkyCoord'],catalogcoord['SkyCoord'])\n",
    "    tmp = matchcoord[sep<Angle('0.5\"')]\n",
    "    \n",
    "    matchcoord['sep'] = sep.to(u.arcsec)\n",
    "    matchcoord['found'] = sep<Angle('0.5\"')\n",
    "    matchcoord['sep'].info.format = '%.3f'\n",
    "    \n",
    "    print(label)\n",
    "    print(matchcoord[['ID','mOIII','sep','found']][:20])"
   ]
  },
  {
   "cell_type": "code",
   "execution_count": null,
   "metadata": {},
   "outputs": [],
   "source": [
    "matchcoord   = pn_NGC3351_ciardullo.copy()\n",
    "catalogcoord = tbl \n",
    "\n",
    "idx, sep, _  = match_coordinates_sky(matchcoord['SkyCoord'],tbl['SkyCoord'])\n",
    "matchcoord['sep'] = sep.to(u.arcsec)\n",
    "matchcoord['found'] = sep<Angle('0.5\"')\n",
    "matchcoord['sep'].info.format = '%.3f'\n",
    "matchcoord['id_FS'] = tbl[idx]['id']\n",
    "matchcoord['type_FS'] = tbl[idx]['type']\n",
    "matchcoord['mOIII_FS'] = tbl[idx]['mOIII']"
   ]
  },
  {
   "cell_type": "code",
   "execution_count": null,
   "metadata": {},
   "outputs": [],
   "source": [
    "matchcoord[matchcoord['found']][['ID','id_FS','mOIII','mOIII_FS','type_FS']]"
   ]
  },
  {
   "cell_type": "code",
   "execution_count": null,
   "metadata": {},
   "outputs": [],
   "source": [
    "np.mean(matchcoord[matchcoord['found']]['mOIII']-matchcoord[matchcoord['found']]['mOIII_FS'])"
   ]
  },
  {
   "cell_type": "code",
   "execution_count": null,
   "metadata": {},
   "outputs": [],
   "source": [
    "# the catalogue with the PNe (and SNRs)\n",
    "with fits.open(basedir/'data'/'catalogues'/'nebulae.fits') as hdul:\n",
    "    catalogue = Table(hdul[1].data)\n",
    "catalogue['overluminous'] = catalogue['note']=='OL'\n",
    "catalogue['exclude'] = catalogue['note']=='EX'\n",
    "catalogue['SkyCoord'] = SkyCoord(catalogue['RA'],catalogue['DEC'])\n",
    "matchcoord = catalogue[catalogue['gal_name']=='NGC0628']"
   ]
  },
  {
   "cell_type": "code",
   "execution_count": null,
   "metadata": {},
   "outputs": [],
   "source": [
    "catalogcoord = tbl \n",
    "\n",
    "idx, sep, _  = match_coordinates_sky(matchcoord['SkyCoord'],tbl['SkyCoord'])\n",
    "matchcoord['sep'] = sep.to(u.arcsec)\n",
    "matchcoord['found'] = sep<Angle('0.5\"')\n",
    "matchcoord['sep'].info.format = '%.3f'\n",
    "matchcoord['type_FS'] = tbl[idx]['type']\n",
    "matchcoord['mOIII_FS'] = tbl[idx]['mOIII']"
   ]
  },
  {
   "cell_type": "code",
   "execution_count": null,
   "metadata": {},
   "outputs": [],
   "source": [
    "matchcoord[(matchcoord['found']) & (matchcoord['type']=='PN')][['id','mOIII','mOIII_FS','type','type_FS']][:20]"
   ]
  },
  {
   "cell_type": "code",
   "execution_count": null,
   "metadata": {},
   "outputs": [],
   "source": [
    "catalogcoord = NGC628_kreckel.copy()\n",
    "matchcoord   = tbl.copy()\n",
    "\n",
    "idx, sep, _  = match_coordinates_sky(matchcoord['SkyCoord'],catalogcoord['SkyCoord'])\n",
    "matchcoord['sep'] = sep.to(u.arcsec)\n",
    "matchcoord['found'] = sep<Angle('0.5\"')\n",
    "matchcoord['sep'].info.format = '%.3f'\n",
    "matchcoord['type_KK'] = catalogcoord[idx]['type']\n",
    "matchcoord['mOIII_KK'] = catalogcoord[idx]['mOIII']"
   ]
  },
  {
   "cell_type": "code",
   "execution_count": null,
   "metadata": {},
   "outputs": [],
   "source": [
    "matchcoord.sort('mOIII')\n",
    "matchcoord[matchcoord['type']=='PN'][['id','mOIII','mOIII_KK','type','type_KK','found']]"
   ]
  },
  {
   "cell_type": "markdown",
   "metadata": {},
   "source": [
    "### Redo their fit"
   ]
  },
  {
   "cell_type": "code",
   "execution_count": null,
   "metadata": {},
   "outputs": [],
   "source": [
    "from pnlf.analyse import MaximumLikelihood1D, pnlf,cdf\n",
    "from scipy.stats import kstest\n",
    "from pnlf.auxiliary import mu_to_parsec\n",
    "from pnlf.plot.pnlf import plot_pnlf\n",
    "\n",
    "# calculate the change in M* due ot metallicity\n",
    "logOH_sun = 8.87\n",
    "logOH = 8.32\n",
    "\n",
    "OH = logOH-logOH_sun\n",
    "\n",
    "dM = 0.928*OH**2 + 0.225*OH+0.014\n",
    "#dM=0\n",
    "\n",
    "data = pn_NGC0628_roth['mOIII'][1:]\n",
    "err = pn_NGC0628_roth['dmOIII'][1:]\n",
    "\n",
    "completeness = 27.\n",
    "binsize=0.4\n",
    "\n",
    "fitter = MaximumLikelihood1D(pnlf,data[data<completeness],err=err[data<completeness],\n",
    "                             mhigh=completeness,Mmax=-4.53)\n",
    "mu,mu_p,mu_m = fitter([29])\n",
    "\n",
    "d,(dp,dm)=mu_to_parsec(mu,[mu_p,mu_m])\n",
    "print('{:.2f} + {:.2f} - {:.2f}'.format(mu,mu_p,mu_m))\n",
    "print('{:.2f} + {:.2f} - {:.2f}'.format(d,dp,dm))\n",
    "\n",
    "ks,pv = kstest(data[data<completeness],cdf,args=(mu,completeness))\n",
    "print(f'statistic={ks:.3f}, pvalue={pv:.3f}')\n",
    "\n",
    "\n",
    "#Plot PNLF\n",
    "axes = plot_pnlf(data,mu,completeness,\n",
    "                 binsize=binsize,mhigh=28,filename=None,color=tab10[0])"
   ]
  },
  {
   "cell_type": "markdown",
   "metadata": {},
   "source": [
    "### Francesco's Nebula catalogue"
   ]
  },
  {
   "cell_type": "code",
   "execution_count": null,
   "metadata": {},
   "outputs": [],
   "source": [
    "# new catalogue\n",
    "with fits.open(data_ext /'MUSE_DR2'/'Nebulae catalogue' / 'Nebulae_Catalogue_DR2_native.fits') as hdul:\n",
    "    nebulae = Table(hdul[1].data)\n",
    "nebulae=nebulae[(nebulae['gal_name']==name) & (nebulae['flag_point_source']==1)]\n",
    "nebulae['SkyCoord'] = SkyCoord.from_pixel(nebulae['cen_x'],nebulae['cen_y'],galaxy.wcs)\n",
    "nebulae['mOIII'] = -2.5*np.log10(nebulae['OIII5006_FLUX']*1e-20) - 13.74\n",
    "nebulae=nebulae[nebulae['mOIII']<galaxy.completeness_limit]"
   ]
  },
  {
   "cell_type": "code",
   "execution_count": null,
   "metadata": {},
   "outputs": [],
   "source": [
    "# old version\n",
    "with fits.open(basedir / 'data' / 'external' / 'nebula_catalogue_FS_v01.fits') as hdul:\n",
    "    nebula_catalogue = Table(hdul[1].data)\n",
    "    \n",
    "PNe_candidate = nebula_catalogue[(nebula_catalogue['gal_name']==galaxy.name) & (nebula_catalogue['PNe_candidate']==1)]\n",
    "PNe_candidate['SkyCoord'] = SkyCoord.from_pixel(PNe_candidate['cen_x'],PNe_candidate['cen_y'],galaxy.wcs)"
   ]
  },
  {
   "cell_type": "code",
   "execution_count": null,
   "metadata": {},
   "outputs": [],
   "source": [
    "HII = tbl[tbl['type']=='HII']"
   ]
  },
  {
   "cell_type": "code",
   "execution_count": null,
   "metadata": {},
   "outputs": [],
   "source": [
    "from astropy.coordinates import match_coordinates_sky # match sources against existing catalog\n",
    "\n",
    "tolerance = '0.8\"'\n",
    "ID, angle, Quantity  = match_coordinates_sky(HII['SkyCoord'],nebulae['SkyCoord'])\n",
    "within_tolerance = len(angle[angle.__lt__(Angle(tolerance))])\n",
    "\n",
    "print(f'I recover {within_tolerance} of Francescos {len(angle)} sources')"
   ]
  },
  {
   "cell_type": "code",
   "execution_count": null,
   "metadata": {},
   "outputs": [],
   "source": [
    "ID, angle, Quantity  = match_coordinates_sky(nebulae['SkyCoord'],tbl['SkyCoord'])\n",
    "within_tolerance = len(angle[angle.__lt__(Angle(tolerance))])\n",
    "\n",
    "print(f'Search in Francescos catalogue: {within_tolerance} of {len(angle)} of  match within {tolerance}\": {within_tolerance / len(angle)*100:.1f} %')\n"
   ]
  },
  {
   "cell_type": "code",
   "execution_count": null,
   "metadata": {},
   "outputs": [],
   "source": [
    "from photutils import CircularAperture\n",
    "\n",
    "with fits.open(basedir / 'data' / 'external' / 'nebula_catalogue_FS_v01.fits') as hdul:\n",
    "    nebula_catalogue = Table(hdul[1].data)\n",
    "\n",
    "# (nebula_catalogue['region_size_pixels']<100) &\n",
    "PNe_candidate = nebula_catalogue[(nebula_catalogue['gal_name']==galaxy.name) & (nebula_catalogue['PNe_candidate']==1)]\n",
    "print(f'{len(PNe_candidate)} candidates from FS')\n",
    "\n",
    "fig = plt.figure(figsize=(7,7))\n",
    "ax  = fig.add_subplot(projection=galaxy.wcs)\n",
    "norm = simple_norm(galaxy.OIII5006_DAP,'linear',clip=False,max_percent=95)\n",
    "ax.imshow(galaxy.OIII5006_DAP,norm=norm,cmap=plt.cm.Greens)\n",
    "\n",
    "cat = tbl[c_PN & c_limit]\n",
    "\n",
    "#positions = np.transpose([PNe_candidate['cen_x'],PNe_candidate['cen_y']])\n",
    "#apertures = CircularAperture(positions, r=6)\n",
    "ax.scatter(PNe_candidate['cen_x'],PNe_candidate['cen_y'],marker='o',s=5,lw=0.4,edgecolor='red',facecolors='none')\n",
    "ax.scatter(cat['x'],cat['y'],marker='o',s=5,lw=0.4,edgecolor='blue',facecolors='none')\n",
    "\n",
    "#apertures.plot(color='red',lw=.2, alpha=1)\n",
    "plt.savefig(basedir / 'reports' / f'{galaxy.name}_FS_comparison.pdf',dpi=600)"
   ]
  },
  {
   "cell_type": "code",
   "execution_count": null,
   "metadata": {},
   "outputs": [],
   "source": [
    "data = -2.5*np.log10(PNe_candidate['OIII5006_FLUX']*1e-20) - 13.74\n",
    "\n",
    "fitter = MaximumLikelihood1D(pnlf,\n",
    "                             data[data<28],\n",
    "                             mhigh=galaxy.completeness_limit)\n",
    "mu,dp,dm = fitter([24])\n",
    "print(f'literature: {galaxy.mu:.2f}')\n",
    "axes = plot_pnlf(data,\n",
    "                 mu,\n",
    "                 galaxy.completeness_limit,\n",
    "                 binsize=0.4,\n",
    "                 mhigh=30,\n",
    "                 color=tab10[0])\n"
   ]
  },
  {
   "cell_type": "markdown",
   "metadata": {},
   "source": [
    "### Enrico's Catalogue"
   ]
  },
  {
   "cell_type": "code",
   "execution_count": null,
   "metadata": {},
   "outputs": [],
   "source": [
    "with fits.open(basedir / 'data' / 'external' / 'clumpfind_cat_v02.fits') as hdul:\n",
    "    nebula_catalogue = Table(hdul[1].data)\n",
    "nebula_catalogue = nebula_catalogue[(nebula_catalogue['gal_name']==galaxy.name)]"
   ]
  },
  {
   "cell_type": "code",
   "execution_count": null,
   "metadata": {},
   "outputs": [],
   "source": [
    "from photutils import CircularAperture\n",
    "\n",
    "with fits.open(basedir / 'data' / 'external' / 'clumpfind_cat_v02.fits') as hdul:\n",
    "    nebula_catalogue = Table(hdul[1].data)\n",
    "nebula_catalogue = nebula_catalogue[(nebula_catalogue['gal_name']==galaxy.name)]\n",
    "\n",
    "nebula_catalogue.rename_column('cen_x','x')\n",
    "nebula_catalogue.rename_column('cen_y','y')\n",
    "nebula_catalogue = nebula_catalogue[~np.isnan(nebula_catalogue['x']) & ~np.isnan(nebula_catalogue['y'])]\n",
    "nebula_catalogue['fwhm'] = np.array([galaxy.PSF[int(y),int(x)] for x,y in zip(nebula_catalogue['x'],nebula_catalogue['y'])])\n",
    "nebula_catalogue['SkyCoord'] = SkyCoord.from_pixel(nebula_catalogue['x'],nebula_catalogue['y'],galaxy.wcs)\n",
    "nebula_catalogue['mOIII'] = -2.5*np.log10(nebula_catalogue['OIII5006_FLUX']*1e-20) - 13.74\n"
   ]
  },
  {
   "cell_type": "code",
   "execution_count": null,
   "metadata": {},
   "outputs": [],
   "source": [
    "ID, angle, Quantity  = match_coordinates_sky(nebula_catalogue['SkyCoord'],tbl['SkyCoord'])\n",
    "within_tolerance = len(angle[angle.__lt__(Angle(tolerance))])\n",
    "\n",
    "print(f'{within_tolerance} of {len(angle)} of  match within {tolerance}\": {within_tolerance / len(angle)*100:.1f} %')\n"
   ]
  },
  {
   "cell_type": "code",
   "execution_count": null,
   "metadata": {},
   "outputs": [],
   "source": [
    "nebula_catalogue['FHA'] = tbl[ID]['HA6562']"
   ]
  },
  {
   "cell_type": "code",
   "execution_count": null,
   "metadata": {},
   "outputs": [],
   "source": [
    "match = nebula_catalogue[angle.__lt__(Angle(tolerance))]\n",
    "plt.scatter(match['HA6562_FLUX'],match['FHA'])\n",
    "plt.plot([0,1e6],[0,1e6])"
   ]
  },
  {
   "cell_type": "markdown",
   "metadata": {},
   "source": [
    "#### Use flux measurements from Enrico"
   ]
  },
  {
   "cell_type": "code",
   "execution_count": null,
   "metadata": {},
   "outputs": [],
   "source": [
    "for col in nebula_catalogue.colnames:\n",
    "    if col.endswith('_FLUX'):\n",
    "        nebula_catalogue.rename_column(col,col[:-5])\n",
    "    if col.endswith('_FLUX_ERR'):\n",
    "        nebula_catalogue.rename_column(col,col[:-9]+'_err')\n",
    "        \n",
    "nebula_catalogue['mOIII'] = -2.5*np.log10(nebula_catalogue['OIII5006']*1e-20) - 13.74\n",
    "nebula_catalogue['dmOIII'] = np.abs( 2.5/np.log(10) * nebula_catalogue['OIII5006_err'] / nebula_catalogue['OIII5006'])\n",
    "\n",
    "nebula_catalogue = emission_line_diagnostics(nebula_catalogue,galaxy.mu,galaxy.completeness_limit) \n",
    "pn_candidates = nebula_catalogue[nebula_catalogue['type']=='PN']"
   ]
  },
  {
   "cell_type": "markdown",
   "metadata": {},
   "source": [
    "#### Measure flux with background subtraction"
   ]
  },
  {
   "cell_type": "code",
   "execution_count": null,
   "metadata": {},
   "outputs": [],
   "source": [
    "flux = measure_flux(galaxy,\n",
    "                    nebula_catalogue,\n",
    "                    alpha=galaxy.alpha,\n",
    "                    Rv=3.1,\n",
    "                    Ebv=0.062, # for NGC0628\n",
    "                    extinction='MW',\n",
    "                    aperture_size=1.5)\n",
    "\n",
    "# calculate magnitudes from measured fluxes\n",
    "flux['mOIII'] = -2.5*np.log10(flux['OIII5006']*1e-20) - 13.74\n",
    "flux['dmOIII'] = np.abs( 2.5/np.log(10) * flux['OIII5006_err'] / flux['OIII5006'] )\n",
    "\n",
    "emd = emission_line_diagnostics(flux,galaxy.mu,galaxy.completeness_limit) \n",
    "pn_candidates = emd[(emd['type']=='PN') & (emd['mOIII']<28)]\n"
   ]
  },
  {
   "cell_type": "markdown",
   "metadata": {},
   "source": [
    "#### Visualize the result"
   ]
  },
  {
   "cell_type": "code",
   "execution_count": null,
   "metadata": {},
   "outputs": [],
   "source": [
    "print(f'{len(pn_candidates)} nebulae from Enrico')\n",
    "\n",
    "fig = plt.figure(figsize=(7,7))\n",
    "ax  = fig.add_subplot(projection=galaxy.wcs)\n",
    "\n",
    "norm = simple_norm(galaxy.OIII5006_DAP,'linear',clip=False,max_percent=95)\n",
    "ax.imshow(galaxy.OIII5006_DAP,norm=norm,cmap=plt.cm.Greens)\n",
    "\n",
    "cat = tbl[c_PN & c_limit]\n",
    "\n",
    "#positions = np.transpose([PNe_candidate['cen_x'],PNe_candidate['cen_y']])\n",
    "#apertures = CircularAperture(positions, r=6)\n",
    "ax.scatter(pn_candidates['x'],pn_candidates['y'],marker='o',s=4,lw=0.4,edgecolor='tab:orange',facecolors='none')\n",
    "ax.scatter(cat['x'],cat['y'],marker='o',s=6,lw=0.4,edgecolor='tab:blue',facecolors='none')\n",
    "\n",
    "#apertures.plot(color='red',lw=.2, alpha=1)\n",
    "plt.savefig(basedir / 'reports' / f'{galaxy.name}_Enrico_comparison.pdf',dpi=600)"
   ]
  },
  {
   "cell_type": "code",
   "execution_count": null,
   "metadata": {},
   "outputs": [],
   "source": [
    "from astropy.coordinates import match_coordinates_sky\n",
    "\n",
    "matchcoord   = pn_candidates\n",
    "matchcoord['SkyCoord'] = SkyCoord.from_pixel(matchcoord['x'],matchcoord['y'],galaxy.wcs)\n",
    "cat['SkyCoord'] = SkyCoord.from_pixel(cat['x'],cat['y'],galaxy.wcs)\n",
    "\n",
    "tolerance = '2s'\n",
    "ID, angle, Quantity  = match_coordinates_sky(matchcoord['SkyCoord'],cat['SkyCoord'])\n",
    "within_tolerance = len(angle[angle.__lt__(Angle(tolerance))])\n",
    "\n",
    "print(f'{within_tolerance} of {len(angle)} match within {tolerance}\": {within_tolerance / len(angle)*100:.1f} %')\n",
    "print(f'mean seperation is {angle[angle.__lt__(Angle(tolerance))].mean().to_string(u.arcsec,decimal=True)}\"')"
   ]
  },
  {
   "cell_type": "code",
   "execution_count": null,
   "metadata": {},
   "outputs": [],
   "source": [
    "fitter = MaximumLikelihood1D(pnlf,\n",
    "                             pn_candidates[(pn_candidates['mOIII']<28) & (pn_candidates['mOIII']>10)]['mOIII'],\n",
    "                             mhigh=galaxy.completeness_limit)\n",
    "mu,dp,dm = fitter([24])\n",
    "print(f'literature: {galaxy.mu:.2f}')\n",
    "axes = plot_pnlf(pn_candidates['mOIII'],\n",
    "                 mu,\n",
    "                 galaxy.completeness_limit,\n",
    "                 binsize=0.4,\n",
    "                 mhigh=30,\n",
    "                 color=tab10[0])\n"
   ]
  },
  {
   "cell_type": "markdown",
   "metadata": {},
   "source": [
    "### Roth+2021"
   ]
  },
  {
   "cell_type": "code",
   "execution_count": null,
   "metadata": {},
   "outputs": [],
   "source": [
    "from pnlf.load_references import NGC628_kreckel, pn_NGC0628_roth, snr_NGC628_kreckel\n",
    "\n",
    "catalogue = ascii.read(basedir/'data'/'catalogues'/f'NGC0628_nebulae.txt',format='fixed_width_two_line')\n",
    "catalogue['exclude'] = catalogue['exclude'].astype(bool)\n",
    "catalogue['overluminous'] = catalogue['overluminous'].astype(bool)\n",
    "catalogue['SNRorPN'] = catalogue['SNRorPN']=='True'\n",
    "catalogue['SkyCoord'] = SkyCoord(catalogue['RaDec'])\n",
    "catalogue['RA'],catalogue['DEC'] = zip(*[x.split(' ') for x in catalogue['SkyCoord'].to_string(style='hmsdms',precision=2)])\n",
    "catalogue.add_index('id')"
   ]
  },
  {
   "cell_type": "code",
   "execution_count": null,
   "metadata": {},
   "outputs": [],
   "source": [
    "from pnlf.analyse import MaximumLikelihood1D, pnlf, cdf\n",
    "from pnlf.plot.pnlf import plot_pnlf\n",
    "from pnlf.auxiliary import mu_to_parsec\n",
    "from scipy.stats import kstest\n",
    "\n",
    "Mmax = -4.53\n",
    "\n",
    "data = roth['mOIII']\n",
    "err = roth['dmOIII']\n",
    "completeness = 27.1\n",
    "\n",
    "fitter = MaximumLikelihood1D(pnlf,data[data<completeness],err=err[data<completeness],mhigh=completeness,Mmax=Mmax)\n",
    "mu,mu_p,mu_m = fitter([29])\n",
    "print('{:.2f} + {:.2f} - {:.2f}'.format(mu,mu_p,mu_m))\n",
    "\n",
    "ks,pv = kstest(data[data<completeness],cdf,args=(mu,completeness))\n",
    "print(f'statistic={ks:.3f}, pvalue={pv:.3f}')\n",
    "\n",
    "binsize = (completeness-Mmax-mu) / 8\n",
    "axes = plot_pnlf(data,mu,completeness,\n",
    "                 binsize=binsize,mhigh=28.5,Mmax=Mmax,color=tab10[0])"
   ]
  },
  {
   "cell_type": "code",
   "execution_count": null,
   "metadata": {},
   "outputs": [],
   "source": [
    "from matplotlib.backends.backend_pdf import PdfPages\n",
    "\n",
    "sample = roth[:60]\n",
    "nrows,ncols=4,5\n",
    "width = 8.27\n",
    "N = len(sample)\n",
    "Npage  = nrows*ncols            # subplots per page\n",
    "Npages = int(np.ceil(N/Npage))  # number of pages\n",
    "filename = basedir/'reports'/'NGC0628'/'roth2021.pdf'\n",
    "with PdfPages(filename) as pdf:\n",
    "\n",
    "    for i in range(Npages):\n",
    "        print(f'working on page {i+1} of {Npages}')\n",
    "\n",
    "        sub = sample[i*Npage:(i+1)*Npage]\n",
    "\n",
    "        fig, axes = plt.subplots(nrows=nrows,ncols=ncols,figsize=(width,width/ncols*nrows))\n",
    "        axes_iter = iter(axes.flatten())\n",
    "        \n",
    "        for row in sub:\n",
    "            ax = next(axes_iter)\n",
    "            \n",
    "            cutout = Cutout2D(galaxy.OIII5006_DAP,row['SkyCoord'],6*u.arcsec,wcs=galaxy.wcs)\n",
    "            norm = simple_norm(cutout.data,clip=False,percent=99)\n",
    "            ax.imshow(cutout.data,norm=norm,cmap=plt.cm.Greys,origin='lower')\n",
    "            \n",
    "            t = ax.text(0.06,0.87,row['ID'].split('-')[0], transform=ax.transAxes,color='black',fontsize=8)\n",
    "            t.set_bbox(dict(facecolor='white', alpha=1, ec='white'))\n",
    "            \n",
    "            tmp1 = roth[cutout.wcs.footprint_contains(roth['SkyCoord'])]\n",
    "            x,y = tmp1['SkyCoord'].to_pixel(cutout.wcs)\n",
    "            apertures = CircularAperture(np.transpose([x,y]), r=2.5)\n",
    "            apertures.plot(color='tab:blue',lw=.5, alpha=1,axes=ax)\n",
    "            for row in tmp1:\n",
    "                x,y = row['SkyCoord'].to_pixel(cutout.wcs)\n",
    "                ax.text(x,y,row['No'],color='tab:blue',fontsize=3,ha='center',va='center')\n",
    "            \n",
    "            \n",
    "            tmp2 = catalogue[cutout.wcs.footprint_contains(catalogue['SkyCoord'])]\n",
    "            x,y = tmp2['SkyCoord'].to_pixel(cutout.wcs)\n",
    "            apertures = CircularAperture(np.transpose([x,y]), r=2.5)\n",
    "            apertures.plot(color='tab:red',lw=.5, alpha=1,axes=ax)\n",
    "            for row in tmp2:\n",
    "                x,y = row['SkyCoord'].to_pixel(cutout.wcs)\n",
    "                ax.text(x,y,row['id'],color='tab:red',fontsize=4,ha='center',va='center')\n",
    "            \n",
    "            ax.axis('off')\n",
    "\n",
    "        plt.subplots_adjust(wspace=0.05, hspace=0.05)\n",
    "\n",
    "        # only the last page has subplots that need to be removed\n",
    "        if i == int(np.ceil(N/Npage))-1:\n",
    "            for i in range(nrows*ncols-len(sub)):\n",
    "                # remove the empty axes at the bottom\n",
    "                ax = next(axes_iter)\n",
    "                ax.axis('off')    \n",
    "\n",
    "        pdf.savefig()  # saves the current figure into a pdf page\n",
    "        plt.close()\n"
   ]
  },
  {
   "cell_type": "code",
   "execution_count": null,
   "metadata": {},
   "outputs": [],
   "source": [
    "from astropy.coordinates import match_coordinates_sky\n",
    "\n",
    "matchcoord   = catalogue[(catalogue['type']=='PN') & (catalogue['mOIII']<28)].copy()\n",
    "catalogcoord = roth\n",
    "\n",
    "idx,sep,_=match_coordinates_sky(matchcoord['SkyCoord'],catalogcoord['SkyCoord'])\n",
    "\n",
    "matchcoord['mOIII_2']  = catalogcoord[idx]['mOIII']\n",
    "matchcoord['dmOIII_2'] = catalogcoord[idx]['dmOIII']\n",
    "#matchcoord['type'] = catalogcoord[idx]['type']\n",
    "matchcoord['sep'] = sep.to(u.arcsec)\n",
    "matchcoord = matchcoord[matchcoord['sep']<Angle('0.25\"')]\n",
    "print(f'{len(matchcoord)} match with 0.25\"')\n",
    "\n",
    "fig,ax=plt.subplots(figsize=(5,5))\n",
    "\n",
    "ax.errorbar(matchcoord['mOIII'],matchcoord['mOIII_2'],\n",
    "            xerr=matchcoord['dmOIII'],yerr=matchcoord['dmOIII_2'],fmt='o',color='tab:red',ms=3)\n",
    "\n",
    "ax.plot([25,28],[25,28],c='k')\n",
    "ax.set(xlabel='mOIII roth+2021',ylabel='mOIII Scheuermann+2021',xlim=[25,28],ylim=[25,28])\n",
    "plt.show()"
   ]
  },
  {
   "cell_type": "code",
   "execution_count": null,
   "metadata": {},
   "outputs": [],
   "source": [
    "from matplotlib.lines import Line2D\n",
    "\n",
    "position = roth[roth['IDHe']=='M74-33']['SkyCoord']\n",
    "\n",
    "fig,ax=plt.subplots(figsize=(6,6))\n",
    "cutout = Cutout2D(galaxy.OIII5006_DAP,position,4*u.arcsec,wcs=galaxy.wcs)\n",
    "norm = simple_norm(cutout.data,clip=False,percent=99)\n",
    "ax.imshow(cutout.data,norm=norm,cmap=plt.cm.Greys,origin='lower')\n",
    "\n",
    "tmp1 = roth[cutout.wcs.footprint_contains(roth['SkyCoord'])]\n",
    "x,y = tmp1['SkyCoord'].to_pixel(cutout.wcs)\n",
    "apertures = CircularAperture(np.transpose([x,y]), r=2.5)\n",
    "apertures.plot(color='tab:blue',lw=.8, alpha=1,axes=ax)\n",
    "for row in tmp1:\n",
    "    x,y = row['SkyCoord'].to_pixel(cutout.wcs)\n",
    "    ax.text(x,y,row['No'],color='tab:blue',fontsize=10,ha='center',va='center')\n",
    "\n",
    "tmp2 = catalogue[cutout.wcs.footprint_contains(catalogue['SkyCoord'])]\n",
    "x,y = tmp2['SkyCoord'].to_pixel(cutout.wcs)\n",
    "apertures = CircularAperture(np.transpose([x,y]), r=2.5)\n",
    "apertures.plot(color='tab:red',lw=.8, alpha=1,axes=ax)\n",
    "for row in tmp2:\n",
    "    x,y = row['SkyCoord'].to_pixel(cutout.wcs)\n",
    "    ax.text(x,y,row['id'],color='tab:red',fontsize=10,ha='center',va='center')\n",
    "\n",
    "tmp3 = NGC628_kreckel[cutout.wcs.footprint_contains(NGC628_kreckel['SkyCoord'])]\n",
    "x,y = tmp3['SkyCoord'].to_pixel(cutout.wcs)\n",
    "apertures = CircularAperture(np.transpose([x,y]), r=2.5)\n",
    "apertures.plot(color='tab:orange',lw=.8, alpha=1,axes=ax)\n",
    "for row in tmp3:\n",
    "    x,y = row['SkyCoord'].to_pixel(cutout.wcs)\n",
    "    ax.text(x,y,row['ID'],color='tab:orange',fontsize=10,ha='center',va='center')\n",
    "    \n",
    "ax.axis('off')\n",
    "\n",
    "\n",
    "legend_elements = [Line2D([0],[0],color='tab:blue',  lw=1, label='Roth'),\n",
    "                   Line2D([0],[0],color='tab:red',   lw=1, label='Scheuermann'),\n",
    "                   Line2D([0],[0],color='tab:orange',lw=1, label='Kreckel')]\n",
    "ax.legend(handles=legend_elements)\n",
    "\n",
    "plt.show()"
   ]
  },
  {
   "cell_type": "markdown",
   "metadata": {},
   "source": [
    "|ref|id|mOIII|\n",
    "|:--|:--|:----|\n",
    "|Herrmann:  |  M74-33 | 26.13 |\n",
    "|Kreckel:   |  PN2a   | 25.58 |\n",
    "|Roth:      |  PN22   | 26.20+-0.04 |\n",
    "|Scheuermann:| 1652   | 25.50+-0.11 |\n",
    "| | | |\n",
    "|Herrmann:  | - | |\n",
    "|Kreckel:   |  PN1    | 25.55 |\n",
    "|Roth:      |  PN20   | 26.19+-0.04 |\n",
    "|Scheuermann:| 1650   | 25.51+-0.11 |"
   ]
  },
  {
   "cell_type": "code",
   "execution_count": null,
   "metadata": {},
   "outputs": [],
   "source": [
    "from pnlf.load_references import pn_NGC628_kreckel,snr_NGC628_kreckel\n",
    "\n",
    "pn_NGC628_kreckel['ID'] = [f'PN{x}' for x in pn_NGC628_kreckel['ID']]\n",
    "snr_NGC628_kreckel['ID'] = [f'SNR{x}' for x in snr_NGC628_kreckel['ID']]\n",
    "NGC628_kreckel = vstack([pn_NGC628_kreckel,snr_NGC628_kreckel])\n",
    "NGC628_kreckel.sort('mOIII')"
   ]
  },
  {
   "cell_type": "code",
   "execution_count": null,
   "metadata": {},
   "outputs": [],
   "source": [
    "from matplotlib.lines import Line2D\n",
    "\n",
    "position = roth[roth['ID']=='P7-38']['SkyCoord']\n",
    "\n",
    "fig,ax=plt.subplots(figsize=(8,8))\n",
    "cutout = Cutout2D(galaxy.OIII5006_DAP,position,6*u.arcsec,wcs=galaxy.wcs)\n",
    "norm = simple_norm(cutout.data,clip=False,percent=99)\n",
    "ax.imshow(cutout.data,norm=norm,cmap=plt.cm.Greys,origin='lower')\n",
    "\n",
    "tmp1 = roth[cutout.wcs.footprint_contains(roth['SkyCoord'])]\n",
    "x,y = tmp1['SkyCoord'].to_pixel(cutout.wcs)\n",
    "apertures = CircularAperture(np.transpose([x,y]), r=2.5)\n",
    "apertures.plot(color='tab:blue',lw=.8, alpha=1,axes=ax)\n",
    "for row in tmp1:\n",
    "    x,y = row['SkyCoord'].to_pixel(cutout.wcs)\n",
    "    ax.text(x,y,row['No'],color='tab:blue',fontsize=10,ha='center',va='center')\n",
    "\n",
    "tmp2 = catalogue[cutout.wcs.footprint_contains(catalogue['SkyCoord'])]\n",
    "x,y = tmp2['SkyCoord'].to_pixel(cutout.wcs)\n",
    "apertures = CircularAperture(np.transpose([x,y]), r=2.5)\n",
    "apertures.plot(color='tab:red',lw=.8, alpha=1,axes=ax)\n",
    "for row in tmp2:\n",
    "    x,y = row['SkyCoord'].to_pixel(cutout.wcs)\n",
    "    ax.text(x,y,row['id'],color='tab:red',fontsize=10,ha='center',va='center')\n",
    "\n",
    "tmp3 = NGC628_kreckel[cutout.wcs.footprint_contains(NGC628_kreckel['SkyCoord'])]\n",
    "x,y = tmp3['SkyCoord'].to_pixel(cutout.wcs)\n",
    "apertures = CircularAperture(np.transpose([x,y]), r=2.5)\n",
    "apertures.plot(color='tab:orange',lw=.8, alpha=1,axes=ax)\n",
    "for row in tmp3:\n",
    "    x,y = row['SkyCoord'].to_pixel(cutout.wcs)\n",
    "    ax.text(x,y,row['ID'],color='tab:orange',fontsize=10,ha='center',va='center')\n",
    "    \n",
    "ax.axis('off')\n",
    "\n",
    "\n",
    "legend_elements = [Line2D([0],[0],color='tab:blue',  lw=1, label='Roth'),\n",
    "                   Line2D([0],[0],color='tab:red',   lw=1, label='Scheuermann'),\n",
    "                   Line2D([0],[0],color='tab:orange',lw=1, label='Kreckel')]\n",
    "ax.legend(handles=legend_elements)\n",
    "\n",
    "plt.show()"
   ]
  },
  {
   "cell_type": "markdown",
   "metadata": {},
   "source": [
    "## PSF stuff"
   ]
  },
  {
   "cell_type": "code",
   "execution_count": null,
   "metadata": {},
   "outputs": [],
   "source": [
    "from pnlf.photometry import measure_single_flux\n",
    "\n",
    "x,y,fwhm = tbl[tbl['id']==67][['x','y','fwhm']][0]\n",
    "\n",
    "def compare_fwhm(x,y,fwhm):\n",
    "    \n",
    "    alpha = galaxy.power_index\n",
    "    gamma = fwhm/(2*np.sqrt(2**(1/alpha)-1))\n",
    "    f0 = measure_single_flux(galaxy.OIII5006,[x,y],3.5,alpha,gamma)\n",
    "\n",
    "    fig, axes = plt.subplots(nrows=1,ncols=5,figsize=(12,2.5))\n",
    "    axes_iter = iter(axes.flatten())\n",
    "\n",
    "    for dfwhm in [-0.5,-0.25,0.0,0.25,0.5]:\n",
    "        fwhm = 2 * gamma * np.sqrt(2**(1/alpha)-1) + dfwhm\n",
    "        flux = []\n",
    "        radii = np.arange(1,3.75,0.5)\n",
    "        for aperture_size in radii:\n",
    "            flux.append(measure_single_flux(galaxy.OIII5006,[x,y],aperture_size,alpha,fwhm/(2*np.sqrt(2**(1/alpha)-1))))\n",
    "        flux=np.array(flux) \n",
    "\n",
    "        #print(f'{np.max(np.abs((flux[radii>=1.5]-f0)/f0*100)):.2f}')\n",
    "\n",
    "        ax = next(axes_iter)\n",
    "        ax.axvline(2,color='black',lw=0.8)\n",
    "        ax.axhline(-1,color='black',lw=0.8)\n",
    "        ax.axhline(1,color='black',lw=0.8)\n",
    "\n",
    "        ax.plot(radii,(flux-flux[-1])/flux[-1]*100)\n",
    "\n",
    "        ax.set_title(f'FWHM={fwhm:.2f}')\n",
    "        ax.set(xlabel='aperture radius / fwhm',ylim=[-15,15])\n",
    "\n",
    "    plt.tight_layout()\n",
    "    plt.show()\n",
    "    \n",
    "for row in tmp[:5]:\n",
    "    x,y,fwhm = row[['x','y','fwhm']]\n",
    "    compare_fwhm(x,y,fwhm)"
   ]
  },
  {
   "cell_type": "code",
   "execution_count": null,
   "metadata": {},
   "outputs": [],
   "source": [
    "mag = lambda f: -2.5*np.log10(f*1e-20) - 13.74\n",
    "f0 = 5919\n",
    "print(mag(f0)-mag(1.1*f0))\n"
   ]
  },
  {
   "cell_type": "code",
   "execution_count": null,
   "metadata": {},
   "outputs": [],
   "source": [
    "from pnlf.auxiliary import light_in_moffat\n",
    "\n",
    "aperture_size = 3\n",
    "alpha = 2.3\n",
    "\n",
    "gamma = fwhm / (2 * np.sqrt(2**(1/alpha)-1))\n",
    "r = aperture_size * (fwhm) / 2 \n",
    "light_in_moffat(r,alpha,gamma)"
   ]
  },
  {
   "cell_type": "code",
   "execution_count": null,
   "metadata": {},
   "outputs": [],
   "source": [
    "from pnlf.auxiliary import light_in_moffat\n",
    "\n",
    "fwhm = 4\n",
    "aperture_size = np.arange(1,3.25,0.25)\n",
    "\n",
    "fig, (ax1) = plt.subplots(ncols=1,figsize=(6,4))\n",
    "\n",
    "for alpha in [2.3,2.8]:\n",
    "\n",
    "    gamma = fwhm / (2 * np.sqrt(2**(1/alpha)-1))\n",
    "    r = aperture_size * (fwhm) / 2 \n",
    "    l = light_in_moffat(r,alpha,gamma)\n",
    "    \n",
    "    ax1.plot(aperture_size,l,label=r'$\\alpha=$'+f'{alpha}')\n",
    "\n",
    "ax1.grid()\n",
    "ax1.legend()  \n",
    "ax1.set(xlabel='aperture diameter / FWHM',ylabel='flux in aperture')\n",
    "\n",
    "\n",
    "\n",
    "plt.show()"
   ]
  },
  {
   "cell_type": "code",
   "execution_count": null,
   "metadata": {},
   "outputs": [],
   "source": [
    "# https://github.com/astropy/photutils/issues/558\n",
    "from photutils.psf import IterativelySubtractedPSFPhotometry, BasicPSFPhotometry, DAOPhotPSFPhotometry\n",
    "from photutils.psf import IntegratedGaussianPRF, DAOGroup\n",
    "from photutils.background import MMMBackground, MADStdBackgroundRMS\n",
    "from astropy.modeling.fitting import LevMarLSQFitter"
   ]
  },
  {
   "cell_type": "code",
   "execution_count": null,
   "metadata": {},
   "outputs": [],
   "source": [
    "fwhm = np.unique(tbl['fwhm'])[0]\n",
    "tmp = tbl[(tbl['type']=='PN') & (tbl['fwhm']==fwhm) & (~tbl['exclude'])]\n",
    "tmp.sort('mOIII')\n",
    "pos = Table(names=['x_0', 'y_0'], data=[tmp['x'],tmp['y']])\n",
    "pos['id'] = np.arange(1,len(pos)+1)"
   ]
  },
  {
   "cell_type": "code",
   "execution_count": null,
   "metadata": {},
   "outputs": [],
   "source": [
    "from astropy.modeling.models import Moffat2D\n",
    "from photutils.psf import prepare_psf_model\n",
    "\n",
    "alpha = galaxy.power_index\n",
    "gamma = fwhm / 2 /  np.sqrt(2**(1/alpha)-1)\n",
    "\n",
    "psffunc = Moffat2D(amplitude=1, gamma=gamma, alpha=alpha, x_0=0, y_0=0)\n",
    "psffunc.amplitude.fixed=True\n",
    "psffunc.gamma.fixed=True\n",
    "psffunc.alpha.fixed=True\n",
    "psfmodel = prepare_psf_model(psffunc, xname='x_0', yname='y_0', fluxname=None) "
   ]
  },
  {
   "cell_type": "code",
   "execution_count": null,
   "metadata": {},
   "outputs": [],
   "source": [
    "photometry = BasicPSFPhotometry(group_maker     = DAOGroup(np.nanmax(galaxy.PSF)/2*5),\n",
    "                                bkg_estimator   = MMMBackground(),\n",
    "                                psf_model       = psfmodel,\n",
    "                                fitter          = LevMarLSQFitter(),\n",
    "                                fitshape        = (15,15),\n",
    "                                aperture_radius = 1.1*fwhm)\n",
    "result_tab = photometry(image=galaxy.OIII5006, init_guesses=pos)"
   ]
  },
  {
   "cell_type": "code",
   "execution_count": null,
   "metadata": {},
   "outputs": [],
   "source": [
    "mean, median, std = sigma_clipped_stats(galaxy.OIII5006_DAP, sigma=3.0,maxiters=5,mask=~(galaxy.PSF==fwhm))\n",
    "\n",
    "finder = DAOStarFinder(galaxy.threshold*std,fwhm=fwhm)"
   ]
  },
  {
   "cell_type": "code",
   "execution_count": null,
   "metadata": {},
   "outputs": [],
   "source": [
    "photometry = IterativelySubtractedPSFPhotometry(\n",
    "                                group_maker     = DAOGroup(np.nanmax(galaxy.PSF)/2*5),\n",
    "                                bkg_estimator   = MMMBackground(),\n",
    "                                psf_model       = psfmodel,\n",
    "                                finder          = finder,\n",
    "                                fitter          = LevMarLSQFitter(),\n",
    "                                fitshape        = (11,11),\n",
    "                                aperture_radius = 1.5*fwhm)\n",
    "result_tab = photometry(image=galaxy.OIII5006, init_guesses=pos[0:10])"
   ]
  },
  {
   "cell_type": "code",
   "execution_count": null,
   "metadata": {},
   "outputs": [],
   "source": [
    "photometry = DAOPhotPSFPhotometry(crit_separation = np.nanmax(galaxy.PSF)/2*5,\n",
    "                                  threshold       = 150,\n",
    "                                  fwhm            = fwhm,\n",
    "                                  psf_model       = psfmodel,\n",
    "                                  fitter          = LevMarLSQFitter(),\n",
    "                                  fitshape        = (11,11),\n",
    "                                  aperture_radius = fwhm*1.5)\n",
    "result_tab = photometry(image=galaxy.OIII5006, init_guesses=pos[0:30])"
   ]
  },
  {
   "cell_type": "code",
   "execution_count": null,
   "metadata": {},
   "outputs": [],
   "source": [
    "Rv  = 3.1\n",
    "tmp = tbl[(tbl['type']=='PN') & (tbl['mOIII']<28.5)]\n",
    "    \n",
    "for aperture_size in [1,2,3]:\n",
    "    \n",
    "    fl = measure_flux(galaxy,\n",
    "                        tmp,\n",
    "                        alpha=galaxy.power_index,\n",
    "                        Rv=Rv,\n",
    "                        Ebv=galaxy.Ebv,\n",
    "                        extinction='MW',\n",
    "                        lines = ['OIII5006'],\n",
    "                        background='local',\n",
    "                        aperture_size=aperture_size)\n",
    "\n",
    "    # calculate astronomical coordinates for comparison\n",
    "\n",
    "    # calculate magnitudes from measured fluxes\n",
    "    fl['mOIII'] = -2.5*np.log10(fl['OIII5006']*1e-20) - 13.74\n",
    "    fl['dmOIII'] = np.abs( 2.5/np.log(10) * fl['OIII5006_err'] / fl['OIII5006'])\n",
    "    \n",
    "    plt.scatter(tmp['mOIII'],fl['OIII5006']/fl['OIII5006_err'],label=aperture_size)\n",
    "\n",
    "plt.ylim([1,400])\n",
    "plt.xlim([25.5,28.5])\n",
    "plt.ylabel('S/N')\n",
    "plt.xlabel('mOIII')\n",
    "plt.yscale('log')\n",
    "plt.legend()\n",
    "plt.savefig('StoN.pdf',dpi=600)\n",
    "plt.show()"
   ]
  },
  {
   "cell_type": "markdown",
   "metadata": {},
   "source": [
    "## Distance in parsec\n",
    "\n",
    "the measured distances are in the form of the distance modulus $\\mu = m-M$ which is the difference between apparent and absolute magnitude. By defintion of the absolte magnitude, we can convert this number into a distance in pc\n",
    "$$\n",
    "d = 10^{\\frac{\\mu}{5}+1} = 10 \\cdot \\exp\\left( \\ln 10 \\frac{\\mu}{5} \\right) \\\\\n",
    "\\delta d = \\frac{\\ln 10}{5} 10 \\exp\\left( \\ln 10 \\frac{\\mu}{5} \\right) \\delta \\mu = 0.2 \\ln 10 \\; d \\; \\delta \\mu\n",
    "$$"
   ]
  },
  {
   "cell_type": "code",
   "execution_count": null,
   "metadata": {},
   "outputs": [],
   "source": [
    "def distance_modulus_to_parsec(mu,mu_err=np.array([])):\n",
    "    \n",
    "    d = 10 * np.exp(np.log(10)*mu/5)\n",
    "    if len(mu_err) > 0:\n",
    "        d_err = 0.2 * np.log(10) * d * mu_err\n",
    "    print(f'd = ({d/1e6:.2f} + {d_err[0]/1e6:.2f} - {d_err[1]/1e6:.2f}) Mpc')\n",
    "    \n",
    "    return d, d_err\n",
    "\n",
    "d,d_err = distance_modulus_to_parsec(30.033,np.array([0.014,0.015]))"
   ]
  },
  {
   "cell_type": "code",
   "execution_count": null,
   "metadata": {},
   "outputs": [],
   "source": [
    "def area(mu,Npixel,inclination,**kwargs):\n",
    "    '''Calculate the survey area from parameters\n",
    "    \n",
    "    one can also pass the parameter dict as\n",
    "    area(**parameters[name])\n",
    "    additional parameters will be ignored\n",
    "    '''\n",
    "    \n",
    "    size_of_pixel = 0.2*u.arcsec\n",
    "\n",
    "    distance = Distance(distmod=mu)\n",
    "    pixel_area = (size_of_pixel/u.arcsec * distance/206265)**2\n",
    "        \n",
    "    return pixel_area.to(u.kpc**2) *Npixel / np.cos(inclination*u.deg)\n",
    "    \n",
    "\n",
    "area(**parameters['NGC0628'])"
   ]
  }
 ],
 "metadata": {
  "kernelspec": {
   "display_name": "Python 3",
   "language": "python",
   "name": "python3"
  },
  "language_info": {
   "codemirror_mode": {
    "name": "ipython",
    "version": 3
   },
   "file_extension": ".py",
   "mimetype": "text/x-python",
   "name": "python",
   "nbconvert_exporter": "python",
   "pygments_lexer": "ipython3",
   "version": "3.7.7"
  },
  "latex_envs": {
   "LaTeX_envs_menu_present": true,
   "autoclose": false,
   "autocomplete": true,
   "bibliofile": "biblio.bib",
   "cite_by": "apalike",
   "current_citInitial": 1,
   "eqLabelWithNumbers": true,
   "eqNumInitial": 1,
   "hotkeys": {
    "equation": "Ctrl-E",
    "itemize": "Ctrl-I"
   },
   "labels_anchors": false,
   "latex_user_defs": false,
   "report_style_numbering": false,
   "user_envs_cfg": false
  },
  "pycharm": {
   "stem_cell": {
    "cell_type": "raw",
    "metadata": {
     "collapsed": false
    },
    "source": []
   }
  },
  "toc": {
   "base_numbering": 1,
   "nav_menu": {},
   "number_sections": true,
   "sideBar": true,
   "skip_h1_title": false,
   "title_cell": "Table of Contents",
   "title_sidebar": "Contents",
   "toc_cell": false,
   "toc_position": {
    "height": "678.667px",
    "left": "27px",
    "top": "158.167px",
    "width": "252.267px"
   },
   "toc_section_display": true,
   "toc_window_display": true
  }
 },
 "nbformat": 4,
 "nbformat_minor": 2
}
