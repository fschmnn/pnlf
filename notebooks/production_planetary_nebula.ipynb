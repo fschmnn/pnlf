{
 "cells": [
  {
   "cell_type": "markdown",
   "metadata": {},
   "source": [
    "# Planetary Nebula Production <a class=\"tocSkip\">\n",
    "    \n",
    "This notebook is used to test and showcase the results of my first project. I use spectroscopic data from the [Multi Unit Spectroscopic Explorer](https://www.eso.org/sci/facilities/develop/instruments/muse.html) (MUSE) that has been observed as part of the [PHANGS](https://sites.google.com/view/phangs/home) collaboration.\n",
    "    \n",
    "I will use a set of line maps of emission lines to identify Planetary Nebula in the data an measure their brightness. This can then be used to fit an empiric relation and hence measure the distance to the galaxy.\n",
    "    \n",
    "This notebook is used for developement. Final code is moved to the `pymuse` packge in the `src` folder. Any production scripts reside in the `scripts` folder."
   ]
  },
  {
   "cell_type": "markdown",
   "metadata": {},
   "source": [
    "## Preparation\n",
    " \n",
    "### Load Basic Packages\n",
    "    \n",
    "First we load a bunch of common packages that are used across the project. More specific packages that are only used in one section are loaded later to make it clear where they belong to (this also applies to all custom moduls that were written for this project)."
   ]
  },
  {
   "cell_type": "code",
   "execution_count": null,
   "metadata": {},
   "outputs": [],
   "source": [
    "# reload modules after they have been modified\n",
    "%load_ext autoreload\n",
    "%autoreload 2\n",
    "\n",
    "# some basic packages\n",
    "import os                 # filesystem related stuff\n",
    "import json\n",
    "from pathlib import Path  # use instead of os.path and glob\n",
    "import sys                # mostly replaced by pathlib\n",
    "\n",
    "import errno      # more detailed error messages\n",
    "import warnings   # handles warnings\n",
    "import logging    # use logging instead of print\n",
    "\n",
    "from collections import OrderedDict  \n",
    "\n",
    "# packages for scientific computing\n",
    "import numpy as np\n",
    "import scipy as sp\n",
    "\n",
    "# packages for creating plots and figures\n",
    "import matplotlib as mpl\n",
    "import matplotlib.pyplot as plt\n",
    "\n",
    "%matplotlib inline\n",
    "%config InlineBackend.figure_format = 'retina'\n",
    "\n",
    "# special functions for astronomy \n",
    "from astropy.table import Table  # useful datastructure\n",
    "from astropy.table import vstack # combine multiple tables\n",
    "\n",
    "from astropy.io import fits      # open fits files\n",
    "from astropy.io import ascii     # handle normal files\n",
    "\n",
    "from astropy.wcs import WCS               # handle coordinates\n",
    "from astropy.coordinates import SkyCoord  # convert pixel to sky coordinates\n",
    "from astropy.visualization import simple_norm\n",
    "\n",
    "from astropy.stats import sigma_clipped_stats  # calcualte statistics of images\n",
    "\n",
    "import astropy.units as u        # handle units\n",
    "\n",
    "tab10 = ['#e15759','#4e79a7','#f28e2b','#76b7b2','#59a14e','#edc949','#b07aa2','#ff9da7','#9c755f','#bab0ac']    \n",
    "plt.style.use('TeX.mplstyle')"
   ]
  },
  {
   "cell_type": "markdown",
   "metadata": {},
   "source": [
    "we use the `logging` module to handle informations and warnings (this does not always work as expected in jupyter notebooks)."
   ]
  },
  {
   "cell_type": "code",
   "execution_count": null,
   "metadata": {},
   "outputs": [],
   "source": [
    "logging.basicConfig(stream=sys.stdout,\n",
    "                    #format='(levelname)s %(name)s %(message)s',\n",
    "                    datefmt='%H:%M:%S',\n",
    "                    level=logging.INFO)\n",
    "\n",
    "logger = logging.getLogger(__name__)"
   ]
  },
  {
   "cell_type": "markdown",
   "metadata": {},
   "source": [
    "### Read in data\n",
    "\n",
    "this uses the `ReadLineMaps` class from the `pymuse.io` module. To use it, we first need to specify the path to the data folder\n",
    "\n",
    "IC5332, NGC1087, NGC1365, NGC1512, NGC1566, NGC1672, NGC2835, NGC3351, NGC3627, NGC4254, NGC4535, NGC5068, NGC628"
   ]
  },
  {
   "cell_type": "code",
   "execution_count": null,
   "metadata": {},
   "outputs": [],
   "source": [
    "from pymuse.io import ReadLineMaps\n",
    "\n",
    "name = 'IC5332'\n",
    "\n",
    "# first we need to specify the path to the raw data\n",
    "data_raw = Path('d:\\downloads\\MUSEDAP')\n",
    "basedir = Path('..')\n",
    "\n",
    "# list all files in the specified directory\n",
    "galaxies = [x.name for x in data_raw.iterdir() if x.is_dir()]\n",
    "#print(', '.join(map(str,galaxies)))\n",
    "\n",
    "# read in the data we will be working with and print some information\n",
    "galaxy = ReadLineMaps(data_raw / name)\n",
    "\n",
    "with fits.open(data_raw / name / f'{name}_starmask.fits') as hdul:\n",
    "    star_mask = hdul[0].data\n",
    "    \n",
    "mask = np.zeros(galaxy.shape,dtype=bool)\n",
    "mask |= star_mask.astype(bool)"
   ]
  },
  {
   "cell_type": "code",
   "execution_count": null,
   "metadata": {},
   "outputs": [],
   "source": [
    "# look at the masks\n",
    "\n",
    "#mask[300:650,500:900]=True # NGC1365\n",
    "#mask[600:900,250:450]=True #NGC3627\n",
    "\n",
    "img = galaxy.OIII5006_DAP.copy()\n",
    "\n",
    "img[mask] = np.nan\n",
    "\n",
    "fig = plt.figure(figsize=(8,8))\n",
    "ax  = fig.add_subplot()\n",
    "\n",
    "norm = simple_norm(galaxy.OIII5006_DAP,clip=False,max_percent=95)\n",
    "ax.imshow(img,norm=norm,origin='lower')"
   ]
  },
  {
   "cell_type": "markdown",
   "metadata": {},
   "source": [
    "## Source Detection"
   ]
  },
  {
   "cell_type": "code",
   "execution_count": null,
   "metadata": {},
   "outputs": [],
   "source": [
    "from photutils import DAOStarFinder            # DAOFIND routine to detect sources\n",
    "from photutils import IRAFStarFinder           # IRAF starfind routine to detect star\n",
    "\n",
    "from pymuse.detection import detect_unresolved_sources"
   ]
  },
  {
   "cell_type": "code",
   "execution_count": null,
   "metadata": {},
   "outputs": [],
   "source": [
    "with open(basedir / 'data' / 'interim' / 'parameters.json') as json_file:\n",
    "    parameters = json.load(json_file)\n",
    "    \n",
    "setattr(galaxy,'binsize',parameters[galaxy.name]['binsize'])\n",
    "setattr(galaxy,'mu',parameters[galaxy.name]['mu'])\n",
    "setattr(galaxy,'alpha',parameters[galaxy.name]['power_index'])\n",
    "setattr(galaxy,'completeness_limit',parameters[galaxy.name]['completeness_limit'])\n",
    "setattr(galaxy,'roundness',parameters[galaxy.name]['roundness'])\n",
    "setattr(galaxy,'sharplo',parameters[galaxy.name]['sharplo'])\n",
    "setattr(galaxy,'sharphi',parameters[galaxy.name]['sharphi'])\n",
    "setattr(galaxy,'threshold',parameters[galaxy.name]['threshold'])\n",
    "setattr(galaxy,'zoomin',parameters[galaxy.name]['zoomin'])\n",
    "\n",
    "\n",
    "threshold = galaxy.threshold\n",
    "oversize  = 1.\n",
    "\n",
    "roundness = galaxy.roundness\n",
    "sharplo   = galaxy.sharplo\n",
    "sharphi   = galaxy.sharphi\n",
    "\n",
    "print(f'threshold: {threshold}\\nround:     {roundness}\\nsharplo:   {sharplo}\\nsharphi:   {sharphi}')\n",
    "\n",
    "sources = detect_unresolved_sources(galaxy,\n",
    "                                    'OIII5006',\n",
    "                                    StarFinder=DAOStarFinder,\n",
    "                                    threshold=threshold,\n",
    "                                    exclude_region=mask,\n",
    "                                    oversize=oversize,\n",
    "                                    roundlo=-roundness,\n",
    "                                    roundhi=roundness,\n",
    "                                    sharplo=sharplo,\n",
    "                                    sharphi=sharphi,\n",
    "                                    exclude_border=True,\n",
    "                                    save=False)"
   ]
  },
  {
   "cell_type": "markdown",
   "metadata": {},
   "source": [
    "## Completeness limit"
   ]
  },
  {
   "cell_type": "code",
   "execution_count": null,
   "metadata": {},
   "outputs": [],
   "source": [
    "from pymuse.detection import completeness_limit"
   ]
  },
  {
   "cell_type": "code",
   "execution_count": null,
   "metadata": {},
   "outputs": [],
   "source": [
    "print(f'for {galaxy.name}')\n",
    "mock_sources = completeness_limit(\n",
    "                   galaxy,\n",
    "                   'OIII5006',\n",
    "                   DAOStarFinder,\n",
    "                   threshold=threshold,\n",
    "                   oversize=oversize,\n",
    "                   iterations=5,\n",
    "                   stars_per_mag=50,\n",
    "                   roundlo=-roundness,\n",
    "                   roundhi=roundness,\n",
    "                   sharplo=sharplo,\n",
    "                   sharphi=sharphi,\n",
    "                                 )"
   ]
  },
  {
   "cell_type": "markdown",
   "metadata": {},
   "source": [
    "## Flux measurement\n",
    "\n",
    "In the previous step we detected potential PN candidates by their [OIII] emission. This means we know their position but lack exact flux measurments. In this section we measure the flux of the identified objects in different emission lines that are used in later steps. "
   ]
  },
  {
   "cell_type": "code",
   "execution_count": null,
   "metadata": {},
   "outputs": [],
   "source": [
    "from astropy.coordinates import match_coordinates_sky # match sources against existing catalog\n",
    "from astropy.coordinates import Angle                 # work with angles (e.g. 1°2′3″)\n",
    "from astropy.coordinates import SkyCoord\n",
    "\n",
    "from extinction import ccm89     # calculate extinction Cardelli et al. (1989)\n",
    "\n",
    "a_v = 0.2\n",
    "r_v = 3.1\n",
    "\n",
    "from pymuse.photometry import measure_flux"
   ]
  },
  {
   "cell_type": "code",
   "execution_count": null,
   "metadata": {},
   "outputs": [],
   "source": [
    "flux = measure_flux(galaxy,sources,galaxy.alpha,aperture_size=2,background='local')\n",
    "\n",
    "# calculate astronomical coordinates for comparison\n",
    "flux['SkyCoord'] = SkyCoord.from_pixel(flux['x'],flux['y'],galaxy.wcs)\n",
    "\n",
    "# calculate magnitudes from measured fluxes\n",
    "flux['mOIII'] = -2.5*np.log10(flux['OIII5006']*1e-20) - 13.74\n",
    "flux['dmOIII'] = np.abs( 2.5/np.log(10) * flux['OIII5006_err'] / flux['OIII5006'] )\n",
    "\n",
    "# correct for milky way extinction\n",
    "extinction = ccm89(wave=np.array([5007.]),a_v=a_v,r_v=r_v,unit='aa')[0]\n",
    "flux['mOIII'] -= extinction"
   ]
  },
  {
   "cell_type": "markdown",
   "metadata": {},
   "source": [
    "## Emission line diagnostics    "
   ]
  },
  {
   "cell_type": "code",
   "execution_count": null,
   "metadata": {},
   "outputs": [],
   "source": [
    "#galaxy.completeness_limit = 28.\n",
    "SNR = True\n",
    "\n",
    "from pymuse.analyse import emission_line_diagnostics\n",
    "print(f'mu={galaxy.mu:.2f}, cl={galaxy.completeness_limit}')\n",
    "print(f'emission line diagnostics for {galaxy.name}')\n",
    "tbl = emission_line_diagnostics(flux,galaxy.mu,galaxy.completeness_limit,SNR=SNR)\n",
    "\n",
    "if False:\n",
    "    filename = basedir / 'data' / 'catalogues' / f'pn_candidates_{galaxy.name}.txt'\n",
    "    with open(filename,'w',newline='\\n') as f:\n",
    "        tbl['RaDec'] = tbl['SkyCoord'].to_string(style='hmsdms',precision=2)\n",
    "        for col in tbl.colnames:\n",
    "            if col not in ['id','RaDec','type']:\n",
    "                tbl[col].info.format = '%.3f' \n",
    "        ascii.write(tbl[['id','type','x','y','RaDec','OIII5006','OIII5006_err','mOIII','dmOIII',\n",
    "                         'HA6562','HA6562_err','HA6562_detection','NII6583','NII6583_err','NII6583_detection',\n",
    "                         'SII6716','SII6716_err','SII6716_detection']][tbl['type']!='NaN'],\n",
    "                    f,format='fixed_width',delimiter='\\t',overwrite=True)\n",
    "    print('data saved to ' + str(filename))   "
   ]
  },
  {
   "cell_type": "markdown",
   "metadata": {},
   "source": [
    "### Visualize the result of the classification"
   ]
  },
  {
   "cell_type": "code",
   "execution_count": null,
   "metadata": {},
   "outputs": [],
   "source": [
    "from pymuse.plot.pnlf import plot_emission_line_ratio\n",
    "filename = basedir / 'reports' / f'{galaxy.name}_emission_line'\n",
    "plot_emission_line_ratio(tbl,galaxy.mu,filename=filename)"
   ]
  },
  {
   "cell_type": "code",
   "execution_count": null,
   "metadata": {},
   "outputs": [],
   "source": [
    "from pymuse.plot.classification import classification_map\n",
    "parameters[galaxy.name]['zoomin'] = [100,500,400,800]\n",
    "filename = basedir / 'reports' / f'{galaxy.name}_detections_classification.pdf'\n",
    "classification_map(galaxy,parameters,tbl,filename)"
   ]
  },
  {
   "cell_type": "markdown",
   "metadata": {},
   "source": [
    "## Planetary nebula luminosity function"
   ]
  },
  {
   "cell_type": "code",
   "execution_count": null,
   "metadata": {},
   "outputs": [],
   "source": [
    "from pymuse.analyse import MaximumLikelihood1D, PNLF, pnlf\n",
    "\n",
    "#galaxy.completeness_limit = 28.5\n",
    "\n",
    "print(f'completeness limit = {galaxy.completeness_limit}')\n",
    "criteria = (tbl['type']=='PN')# | (tbl['type']=='SNR')\n",
    "data = tbl[np.where(criteria & (tbl['mOIII']<galaxy.completeness_limit))]['mOIII']\n",
    "err  = tbl[np.where(criteria & (tbl['mOIII']<galaxy.completeness_limit))]['dmOIII']\n",
    "#data = data[data>25.5]\n",
    "\n",
    "fitter = MaximumLikelihood1D(pnlf,\n",
    "                             data,\n",
    "                             #err=err,\n",
    "                             mhigh=galaxy.completeness_limit)\n",
    "\n",
    "# a good guess would be mu_guess = min(data)-Mmax\n",
    "print(f'{galaxy.name}: literature {galaxy.mu:.3f}')\n",
    "galaxy.mu = fitter([24])\n",
    "mu,dm_p,dm_m = fitter.plot()\n",
    "dm_p, dm_m = np.sqrt(np.mean(err)**2+np.array([dm_p,dm_m])**2)"
   ]
  },
  {
   "cell_type": "markdown",
   "metadata": {},
   "source": [
    "### Plot the fit\n",
    "\n",
    "to plot the fit we need to bin the data"
   ]
  },
  {
   "cell_type": "code",
   "execution_count": null,
   "metadata": {},
   "outputs": [],
   "source": [
    "from pymuse.plot.pnlf import plot_pnlf\n",
    "binsize = 0.5#galaxy.binsize\n",
    "print(f'plotting result for {galaxy.name}')\n",
    "filename = basedir / 'reports' / f'{galaxy.name}_PNLF'\n",
    "plot_pnlf(tbl[criteria]['mOIII'],mu,galaxy.completeness_limit,binsize=binsize,mhigh=32,filename=filename,color=tab10[0])"
   ]
  },
  {
   "cell_type": "markdown",
   "metadata": {},
   "source": [
    "### Compare to literature"
   ]
  },
  {
   "cell_type": "code",
   "execution_count": null,
   "metadata": {},
   "outputs": [],
   "source": [
    "from pymuse.plot.pnlf import compare_distances\n",
    "\n",
    "filename = basedir / 'reports' / f'{name}_distances'\n",
    "compare_distances(galaxy.name,mu,dm_p,dm_m,filename)"
   ]
  },
  {
   "cell_type": "markdown",
   "metadata": {},
   "source": [
    "### Look at brightest objects"
   ]
  },
  {
   "cell_type": "code",
   "execution_count": null,
   "metadata": {},
   "outputs": [],
   "source": [
    "from pymuse.plot.plot import single_cutout\n",
    "k = 10\n",
    "tmp = tbl[criteria].copy()\n",
    "\n",
    "if 'SkyCoord' in tmp.colnames:\n",
    "    del tmp['SkyCoord']\n",
    "\n",
    "tmp.sort('mOIII')\n",
    "print(tmp[:k][['id','mOIII','x','y','type']])"
   ]
  },
  {
   "cell_type": "code",
   "execution_count": null,
   "metadata": {},
   "outputs": [],
   "source": [
    "idx = 230\n",
    "row = tmp[tmp['id']==idx]\n",
    "rgb = single_cutout(galaxy,row['x'],row['y'],size=16)"
   ]
  },
  {
   "cell_type": "markdown",
   "metadata": {},
   "source": [
    "## Plot all objects in one figure"
   ]
  },
  {
   "cell_type": "code",
   "execution_count": null,
   "metadata": {},
   "outputs": [],
   "source": [
    "with open(basedir / 'data' / 'interim' / 'parameters.json') as json_file:\n",
    "    parameters = json.load(json_file)"
   ]
  },
  {
   "cell_type": "markdown",
   "metadata": {},
   "source": [
    "### Measure distance to all objects"
   ]
  },
  {
   "cell_type": "code",
   "execution_count": null,
   "metadata": {},
   "outputs": [],
   "source": [
    "d_dic = {}\n",
    "for name in galaxies:\n",
    "    \n",
    "    completeness = parameters[name]['completeness_limit']\n",
    "    \n",
    "    filename = basedir / 'data' / 'catalogues' / f'pn_candidates_{name}.txt'\n",
    "    tbl = ascii.read(str(filename),format='fixed_width',delimiter='\\t')\n",
    "    data = tbl[(tbl['type']=='PN') & (tbl['mOIII']<completeness)]['mOIII']\n",
    "    err  = tbl[(tbl['type']=='PN') & (tbl['mOIII']<completeness)]['dmOIII']\n",
    "    #data = data[data>26]\n",
    "    \n",
    "    if 'cut' in parameters[name]:\n",
    "        print(f'removing points brighter than {parameters[name][\"cut\"]}')\n",
    "        data = data[data>parameters[name]['cut']]\n",
    "    \n",
    "    fitter = MaximumLikelihood1D(pnlf,\n",
    "                               data[data<completeness],\n",
    "                               mhigh=completeness)\n",
    "    \n",
    "    if 'range' in parameters[name]:\n",
    "        r = parameters[name]['range']\n",
    "    else:\n",
    "        r = [28,32]\n",
    "    \n",
    "    # a good guess would be mu_guess = min(data)-Mmax\n",
    "    mu = fitter([24])\n",
    "    d_dic[name] = fitter.plot(r)\n",
    "    "
   ]
  },
  {
   "cell_type": "code",
   "execution_count": null,
   "metadata": {
    "scrolled": true
   },
   "outputs": [],
   "source": [
    "from pymuse.auxiliary import Distance\n",
    "\n",
    "for k,v in d_dic.items():\n",
    "    mu, mp, mm = v\n",
    "    mu_pc = Distance(mu,'mu').to_parsec()/1e6\n",
    "    mp_pc = 0.2*np.log(10) * mu_pc * mp\n",
    "    mm_pc = 0.2*np.log(10) * mu_pc * mm\n",
    "    print(f'{k} & $\\\\uncertainty{{{mu:.3f}}}{{{mp:.3f}}}{{{mm:.3f}}}$ & $\\\\uncertainty{{{mu_pc:.3f}}}{{{mp_pc:.3f}}}{{{mm_pc:.3f}}}$ \\\\\\\\')"
   ]
  },
  {
   "cell_type": "markdown",
   "metadata": {},
   "source": [
    "### Plot PNLF"
   ]
  },
  {
   "cell_type": "code",
   "execution_count": null,
   "metadata": {},
   "outputs": [],
   "source": [
    "from pymuse.analyse import MaximumLikelihood, PNLF, pnlf\n",
    "\n",
    "Mmax = -4.47\n",
    "names = galaxies\n",
    "#names = ['IC5332', 'NGC1087', 'NGC1365', 'NGC1512', 'NGC1672', 'NGC2835', 'NGC3351', 'NGC3627', 'NGC4254', 'NGC4535', 'NGC5068', 'NGC628']\n",
    "color = 'tab:red'\n",
    "\n",
    "fig, axes = plt.subplots(nrows=4,ncols=3,figsize=(6.974,6.974/3*4))\n",
    "\n",
    "for i, ax in enumerate(fig.axes):\n",
    "    \n",
    "    if i < len(names):\n",
    "        name = names[i]\n",
    "    else:\n",
    "        break\n",
    "        \n",
    "    if 'binsize' in parameters[name]:\n",
    "        binsize=parameters[name]['binsize']\n",
    "    else:\n",
    "        binsize=0.4\n",
    "    \n",
    "    completeness = parameters[name]['completeness_limit']\n",
    "    \n",
    "    filename = basedir / 'data' / 'catalogues' / f'pn_candidates_{name}.txt'\n",
    "    tbl = ascii.read(str(filename),format='fixed_width',delimiter='\\t')\n",
    "    data = tbl[(tbl['type']=='PN')]['mOIII']\n",
    "    err  = tbl[(tbl['type']=='PN')]['dmOIII']\n",
    "    \n",
    "    if 'cut' in parameters[name]:\n",
    "        print(f'removing points brighter than {parameters[name][\"cut\"]}')\n",
    "        data = data[data>parameters[name]['cut']]\n",
    "\n",
    "    fitter = MaximumLikelihood(pnlf,\n",
    "                               data[data<completeness],\n",
    "                               mhigh=completeness)\n",
    "    \n",
    "    # a good guess would be mu_guess = min(data)-Mmax\n",
    "    mu = fitter([24])\n",
    "    \n",
    "    #mu = parameters[name]['mu']\n",
    "    \n",
    "    mlow = Mmax+mu\n",
    "    mhigh = 32\n",
    "\n",
    "    N = len(data[data<completeness])\n",
    "    \n",
    "    hist, bins  = np.histogram(data,np.arange(mlow,mhigh,binsize),normed=False)\n",
    "    err = np.sqrt(hist)\n",
    "    # midpoint of the bins is used as position for the plots\n",
    "    m = (bins[1:]+bins[:-1]) / 2\n",
    "    \n",
    "    # for the fit line we use a smaller binsize\n",
    "    binsize_fine = 0.05\n",
    "    bins_fine = np.arange(mlow,mhigh,binsize_fine)\n",
    "    m_fine = (bins_fine[1:]+bins_fine[:-1]) /2\n",
    "\n",
    "    # scatter plot\n",
    "    ax.errorbar(m[m<completeness],hist[m<completeness],yerr=err[m<completeness],\n",
    "                 marker='o',ms=6,mec=color,mfc=color,ls='none',ecolor=color)\n",
    "    ax.errorbar(m[m>=completeness],hist[m>=completeness],yerr=err[m>completeness],\n",
    "                 marker='o',ms=6,mec=color,mfc='white',ls='none',ecolor=color)\n",
    "    ax.plot(m_fine,binsize/binsize_fine*N*PNLF(bins_fine,mu=mu,mhigh=completeness),c=color,ls='dotted')\n",
    "    #ax.axvline(completeness,c='black',lw=0.2)\n",
    "    #ax.axvline(mu+Mmax,c='black',lw=0.2)\n",
    "\n",
    "    # adjust plot\n",
    "    ax.set_yscale('log')\n",
    "    ax.set_xlim([1.1*mlow-0.1*mhigh,mhigh])\n",
    "    ax.set_ylim([0.8,1.5*np.max(hist)])\n",
    "    ax.set_xlabel(r'$m_{[\\mathrm{OIII}]}$ / mag')\n",
    "    ax.set_ylabel(r'$N$')\n",
    "    \n",
    "    ax.yaxis.set_major_formatter(mpl.ticker.FuncFormatter(lambda y, _: '{:.2g}'.format(y)))\n",
    "    ax.xaxis.set_major_locator(mpl.ticker.MultipleLocator(1))\n",
    "    ax.xaxis.set_minor_locator(mpl.ticker.MultipleLocator(0.25))\n",
    "    ax.set_title(name)\n",
    "    \n",
    "plt.tight_layout()\n",
    "filename = basedir / 'reports' / f'all_objects_PNLF'\n",
    "plt.savefig(filename.with_suffix('.pdf'),bbox_inches='tight')\n",
    "plt.show()"
   ]
  },
  {
   "cell_type": "markdown",
   "metadata": {},
   "source": [
    "### Plot cumulative PNLF"
   ]
  },
  {
   "cell_type": "code",
   "execution_count": null,
   "metadata": {},
   "outputs": [],
   "source": [
    "from pymuse.analyse import MaximumLikelihood1D, PNLF, pnlf\n",
    "\n",
    "binsize=0.2\n",
    "Mmax = -4.47\n",
    "color = 'tab:red'\n",
    "\n",
    "fig, axes = plt.subplots(nrows=4,ncols=3,figsize=(6.974,6.974/3*4))\n",
    "\n",
    "for i, ax in enumerate(fig.axes):\n",
    "    \n",
    "    if i < len(galaxies):\n",
    "        name = galaxies[i]\n",
    "    else:\n",
    "        break\n",
    "        \n",
    "    completeness = parameters[name]['completeness_limit']\n",
    "    \n",
    "    filename = basedir / 'data' / 'catalogues' / f'pn_candidates_{name}.txt'\n",
    "    tbl = ascii.read(str(filename),format='fixed_width',delimiter='\\t')\n",
    "    data = tbl[(tbl['type']=='PN')]['mOIII']\n",
    "    err  = tbl[(tbl['type']=='PN')]['dmOIII']\n",
    "    #data = data[data>26]\n",
    "\n",
    "    if 'cut' in parameters[name]:\n",
    "        print(f'removing points brighter than {parameters[name][\"cut\"]}')\n",
    "        data = data[data>parameters[name]['cut']]\n",
    "    \n",
    "    fitter = MaximumLikelihood(pnlf,\n",
    "                               data[data<completeness],\n",
    "                               mhigh=completeness)\n",
    "    \n",
    "    # a good guess would be mu_guess = min(data)-Mmax\n",
    "    mu = fitter([24])[0]\n",
    "    \n",
    "    mlow = Mmax+mu\n",
    "    mhigh = 32\n",
    "\n",
    "    N = len(data[data<completeness])\n",
    "    \n",
    "    hist, bins  = np.histogram(data,np.arange(mlow,mhigh,binsize),normed=False)\n",
    "    err = np.sqrt(hist)\n",
    "    # midpoint of the bins is used as position for the plots\n",
    "    m = (bins[1:]+bins[:-1]) / 2\n",
    "    \n",
    "    # for the fit line we use a smaller binsize\n",
    "    binsize_fine = 0.05\n",
    "    bins_fine = np.arange(mlow,mhigh,binsize_fine)\n",
    "    m_fine = (bins_fine[1:]+bins_fine[:-1]) /2\n",
    "\n",
    "    # scatter plot\n",
    "    ax.plot(m[m<completeness],np.cumsum(hist[m<completeness]),ls='none',mfc=color,mec=color,ms=4,marker='o')\n",
    "    ax.plot(m,N*np.cumsum(PNLF(bins,mu=mu,mhigh=completeness)),ls='dotted',color=color)\n",
    "\n",
    "    \n",
    "    # adjust plot    \n",
    "    ax.set_xlim([mlow,completeness])\n",
    "    ax.set_ylim([-0.1*N,1.1*N])\n",
    "    ax.set_xlabel(r'$m_{[\\mathrm{OIII}]}$ / mag')\n",
    "    ax.set_ylabel(r'Cumulative N')\n",
    "    \n",
    "    ax.xaxis.set_major_locator(mpl.ticker.MultipleLocator(1.0))\n",
    "    ax.xaxis.set_minor_locator(mpl.ticker.MultipleLocator(0.25))\n",
    "    ax.yaxis.set_major_formatter(mpl.ticker.FuncFormatter(lambda y, _: '{:.16g}'.format(y)))\n",
    "    ax.set_title(name)\n",
    "    \n",
    "plt.tight_layout()\n",
    "filename = basedir / 'reports' / f'all_objects_PNLF_cum'\n",
    "plt.savefig(filename.with_suffix('.pdf'),bbox_inches='tight')\n",
    "plt.show()"
   ]
  },
  {
   "cell_type": "markdown",
   "metadata": {},
   "source": [
    "## Distance in parsec\n",
    "\n",
    "the measured distances are in the form of the distance modulus $\\mu = m-M$ which is the difference between apparent and absolute magnitude. By defintion of the absolte magnitude, we can convert this number into a distance in pc\n",
    "$$\n",
    "d = 10^{\\frac{\\mu}{5}+1} = 10 \\cdot \\exp\\left( \\ln 10 \\frac{\\mu}{5} \\right) \\\\\n",
    "\\delta d = \\frac{\\ln 10}{5} 10 \\exp\\left( \\ln 10 \\frac{\\mu}{5} \\right) \\delta \\mu = 0.2 \\ln 10 \\; d \\; \\delta \\mu\n",
    "$$"
   ]
  },
  {
   "cell_type": "code",
   "execution_count": null,
   "metadata": {},
   "outputs": [],
   "source": [
    "def distance_modulus_to_parsec(mu,mu_err=np.array([])):\n",
    "    \n",
    "    d = 10 * np.exp(np.log(10)*mu/5)\n",
    "    if len(mu_err) > 0:\n",
    "        d_err = 0.2 * np.log(10) * d * mu_err\n",
    "    print(f'd = ({d/1e6:.2f} + {d_err[0]/1e6:.2f} - {d_err[1]/1e6:.2f}) Mpc')\n",
    "    \n",
    "    return d, d_err\n",
    "\n",
    "d,d_err = distance_modulus_to_parsec(30.033,np.array([0.014,0.015]))"
   ]
  },
  {
   "cell_type": "code",
   "execution_count": null,
   "metadata": {},
   "outputs": [],
   "source": []
  },
  {
   "cell_type": "markdown",
   "metadata": {},
   "source": [
    "## Fit with emcee"
   ]
  },
  {
   "cell_type": "code",
   "execution_count": null,
   "metadata": {},
   "outputs": [],
   "source": [
    "import emcee\n",
    "from scipy.optimize import minimize\n",
    "from inspect import signature\n",
    "import corner\n",
    "\n",
    "class MaximumLikelihood:\n",
    "    '''\n",
    "\n",
    "    for uncertainties \n",
    "    https://erikbern.com/2018/10/08/the-hackers-guide-to-uncertainty-estimates.html\n",
    "    \n",
    "    Parameters\n",
    "    ----------\n",
    "    func : function\n",
    "        PDF of the form `func(data,params)`. `func` must accept a\n",
    "        ndarray for `data` and can have any number of additional\n",
    "        parameters (at least one).\n",
    "        \n",
    "    data : ndarray\n",
    "        Measured data that are feed into `func`.\n",
    "\n",
    "    err : ndarray\n",
    "        Error associated with data.\n",
    "\n",
    "    prior : function\n",
    "        Prior probabilities for the parameters of func.\n",
    "\n",
    "    method : \n",
    "        algorithm that is used for the minimization.\n",
    "\n",
    "    **kwargs\n",
    "       additional fixed key word arguments that are passed to func.\n",
    "    '''\n",
    "    \n",
    "    def __init__(self,func,data,err=None,prior=None,method='Nelder-Mead',**kwargs):\n",
    "        \n",
    "        if len(signature(func).parameters)-len(kwargs)<2:\n",
    "            raise ValueError(f'`func` must have at least one free argument')\n",
    "        \n",
    "        self.func   = func\n",
    "        self.labels = list(signature(func).parameters.keys())[1:]\n",
    "        self.data   = data\n",
    "        self.err    = err\n",
    "        self.prior  = prior\n",
    "        self.method = method\n",
    "        self.kwargs = kwargs\n",
    "\n",
    "        logger.info(f'searching best parameters for {self.labels} with {len(self.data)} data points')\n",
    "\n",
    "    def log_likelihood(self,params,data):\n",
    "        '''calculate the log liklihood of the given parameters\n",
    "        \n",
    "        This function takes the previously specified PDF and calculates\n",
    "        the sum of the logarithmic probabilities. If key word arguments\n",
    "        were initially passed to the class, they are also passed to the\n",
    "        function\n",
    "        '''\n",
    "        return np.sum(np.log(self.func(data,*params,**self.kwargs)))\n",
    "    \n",
    "    def log_prior(self,params):\n",
    "        '''log of priors'''\n",
    "        \n",
    "        lp = self.prior(*params)\n",
    "        if lp == 0:\n",
    "            return -np.inf\n",
    "        else:\n",
    "            return np.log(lp)\n",
    "\n",
    "    def log_probability(self,params,data):\n",
    "        if self.prior:\n",
    "            return self.log_likelihood(params,data)+self.log_prior(params)\n",
    "        else:\n",
    "            return self.log_likelihood(params,data)\n",
    "        \n",
    "    def neg_log_probability(self,params,data):\n",
    "        if self.prior:\n",
    "            return -self.log_likelihood(params,data)+self.log_prior(params)\n",
    "        else:\n",
    "            return -self.log_likelihood(params,data)\n",
    "        \n",
    "    def fit(self,guess,nwalkers=10,nsteps=1000):\n",
    "        '''use scipy minimize to find the best parameters'''\n",
    "        \n",
    "        self.soln = minimize(self.neg_log_probability,guess,args=(self.data,),method=self.method)\n",
    "        if not self.soln.success:\n",
    "            raise RuntimeError('fit was not successful')\n",
    "        self.x = self.soln.x\n",
    "\n",
    "        ndim = len(guess)\n",
    "        pos = np.random.normal(self.soln.x,0.1,size=(nwalkers,ndim))\n",
    "\n",
    "        self.sampler = emcee.EnsembleSampler(nwalkers, ndim,self.log_probability,args=(self.data,))\n",
    "        state = self.sampler.run_mcmc(pos, 100)\n",
    "        self.sampler.reset()\n",
    "        self.sampler.run_mcmc(state,nsteps,progress=True)\n",
    "\n",
    "        flat_samples = self.sampler.get_chain(discard=100,thin=5, flat=True)\n",
    "\n",
    "        for i in range(ndim):\n",
    "            mcmc = np.percentile(flat_samples[:, i], [16, 50, 84])\n",
    "            mcmc[1] = self.soln.x[i]\n",
    "            q = np.diff(mcmc)\n",
    "            #truth.append(mcmc[1])\n",
    "            print(f'{self.labels[i]}= {mcmc[1]:.3f}+{q[1]:.3f}-{q[0]:.3f}') \n",
    "        \n",
    "        fig = corner.corner(flat_samples,bins=100, labels=self.labels,truths=self.x)\n",
    "        \n",
    "        return self.x\n",
    "\n",
    "    def __call__(self,guess,**kwargs):\n",
    "        '''use scipy minimize to find the best parameters'''\n",
    "\n",
    "        return self.fit(guess,**kwargs)\n"
   ]
  },
  {
   "cell_type": "code",
   "execution_count": null,
   "metadata": {},
   "outputs": [],
   "source": [
    "MLE = MaximumLikelihood(pnlf,\n",
    "                        data,\n",
    "                        mhigh=27)\n",
    "                        #err=err,\n",
    "                        #mhigh=galaxy.completeness_limit)\n",
    "\n",
    "MLE.fit([29],nwalkers=100)    "
   ]
  },
  {
   "cell_type": "code",
   "execution_count": null,
   "metadata": {},
   "outputs": [],
   "source": [
    "data = galaxy.OIII5006_DAP\n",
    "fig, ax = plt.subplots(figsize=(10,10),subplot_kw={'projection':galaxy.wcs})\n",
    "\n",
    "\n",
    "norm = simple_norm(data,'linear',clip=False,max_percent=95)\n",
    "\n",
    "x,y,d = 30,600,50\n",
    "mask = slice(x,x+d),slice(y,y+d)\n",
    "ax.imshow(data,norm=norm,cmap=plt.cm.Blues_r)\n",
    "rect = mpl.patches.Rectangle((x,y),d,d,linewidth=0.8,edgecolor='r',facecolor='none')\n",
    "ax.add_patch(rect)\n",
    "plt.show()"
   ]
  },
  {
   "cell_type": "code",
   "execution_count": null,
   "metadata": {},
   "outputs": [],
   "source": [
    "data = galaxy.HA6562\n",
    "fig, ax = plt.subplots(figsize=(10,10),subplot_kw={'projection':galaxy.wcs})\n",
    "\n",
    "x,y,d = 200,680,100\n",
    "mask = slice(x,x+d),slice(y,y+d)\n",
    "\n",
    "norm = simple_norm(data[mask],'linear',clip=False,max_percent=95)\n",
    "\n",
    "ax.imshow(data[mask],norm=norm,cmap=plt.cm.Blues_r)\n",
    "#rect = mpl.patches.Rectangle((x,y),d,d,linewidth=0.8,edgecolor='r',facecolor='none')\n",
    "#ax.add_patch(rect)\n",
    "plt.show()"
   ]
  },
  {
   "cell_type": "code",
   "execution_count": null,
   "metadata": {},
   "outputs": [],
   "source": [
    "sigma_clipped_stats(data[mask])"
   ]
  },
  {
   "cell_type": "code",
   "execution_count": null,
   "metadata": {},
   "outputs": [],
   "source": [
    "sigma_clipped_stats(galaxy.HA6562_err[mask])"
   ]
  },
  {
   "cell_type": "markdown",
   "metadata": {},
   "source": [
    "## HST Data"
   ]
  },
  {
   "cell_type": "code",
   "execution_count": null,
   "metadata": {},
   "outputs": [],
   "source": [
    "file = data_raw / 'NGC628_HST' / 'ngc628_acs_f435w_exp_drc_sci.fits'\n",
    "\n",
    "with fits.open(file) as hdul:\n",
    "    #hdul.info()\n",
    "    data = hdul[0].data\n",
    "    header = hdul[0].header\n",
    "    \n",
    "data[data==0] = np.nan"
   ]
  },
  {
   "cell_type": "code",
   "execution_count": null,
   "metadata": {},
   "outputs": [],
   "source": [
    "fig = plt.figure(figsize=(10,10))\n",
    "ax  = fig.add_subplot(111,projection=WCS(header))\n",
    "\n",
    "norm = simple_norm(data,'log',clip=False,min_percent=3,max_percent=99)\n",
    "ax.imshow(data,norm=norm)\n",
    "ax.set_xlim([3000,10000])\n",
    "ax.set_ylim([3000,10000])\n",
    "\n",
    "filename = basedir / 'reports' / f'NGC628_HST.pdf'\n",
    "plt.savefig(filename,dpi=1000)"
   ]
  },
  {
   "cell_type": "markdown",
   "metadata": {},
   "source": [
    "## Compare to other papers"
   ]
  },
  {
   "cell_type": "code",
   "execution_count": null,
   "metadata": {},
   "outputs": [],
   "source": [
    "from pymuse.auxiliary import search_table, Distance\n",
    "from photutils import CircularAperture\n",
    "\n",
    "raw = ascii.read(basedir / 'data' / 'external' / 'Herrmann_2008_pn_candidates.txt')\n",
    "\n",
    "raw['RA'] = 12*' '\n",
    "raw['DEC'] = 13*' '\n",
    "\n",
    "for row in raw:\n",
    "    row['RA'] = f'{row[\"RAh\"]:02d}h{row[\"RAm\"]:02d}m{row[\"RAs\"]:.0f}s'\n",
    "    row['DEC'] = f'{row[\"DEd\"]:02d}d{row[\"DEm\"]:02d}m{row[\"DEs\"]:0f}s'\n",
    "\n",
    "raw['SkyCoord'] = SkyCoord(raw['RA'],raw['DEC'])"
   ]
  },
  {
   "cell_type": "code",
   "execution_count": null,
   "metadata": {},
   "outputs": [],
   "source": [
    "catalogcoord = tbl[tbl['type']=='PN']\n",
    "\n",
    "matchcoord   = search_table(raw,'M74')\n",
    "matchcoord['x'],matchcoord['y']= matchcoord['SkyCoord'].to_pixel(wcs=galaxy.wcs)"
   ]
  },
  {
   "cell_type": "code",
   "execution_count": null,
   "metadata": {},
   "outputs": [],
   "source": [
    "matchcoord['in_frame'] = False\n",
    "y_dim,x_dim = galaxy.shape\n",
    "\n",
    "for row in matchcoord:\n",
    "    txt,x,y = row['ID'], row['x']+5, row['y']    \n",
    "    if 0<=int(x)<x_dim and 0<=int(y)<y_dim:\n",
    "        if not np.isnan(galaxy.PSF[int(y),int(x)]):\n",
    "            row['in_frame'] = True\n",
    "\n",
    "data = [d for d in matchcoord['m5007']]\n",
    "data = matchcoord[matchcoord['in_frame']]['m5007']"
   ]
  },
  {
   "cell_type": "code",
   "execution_count": null,
   "metadata": {},
   "outputs": [],
   "source": [
    "completeness = 26.6\n",
    "\n",
    "data = matchcoord[matchcoord['in_frame']]['m5007']\n",
    "data = data[data<completeness]\n",
    "random.shuffle(data)\n",
    "fitter = MaximumLikelihood1D(pnlf,\n",
    "                             np.array(data),\n",
    "                             mhigh=completeness)\n",
    "\n",
    "\n",
    "mu,dm_p,dm_m = fitter.plot()"
   ]
  },
  {
   "cell_type": "code",
   "execution_count": null,
   "metadata": {},
   "outputs": [],
   "source": [
    "binsize = 0.25\n",
    "plot_pnlf(matchcoord['m5007'],29.91,26.5,binsize=binsize,mhigh=28)"
   ]
  },
  {
   "cell_type": "code",
   "execution_count": null,
   "metadata": {},
   "outputs": [],
   "source": [
    "binsize = 0.25\n",
    "plot_pnlf(matchcoord[matchcoord['in_frame']]['m5007'],29.91,26.5,binsize=binsize,mhigh=28)"
   ]
  },
  {
   "cell_type": "code",
   "execution_count": null,
   "metadata": {},
   "outputs": [],
   "source": [
    "matchcoord=matchcoord[:40]\n",
    "\n",
    "fig = plt.figure(figsize=(6.974,6.974))\n",
    "ax1 = fig.add_subplot(111,projection=galaxy.wcs)\n",
    "\n",
    "norm = simple_norm(galaxy.OIII5006_DAP,'linear',clip=False,max_percent=95)\n",
    "ax1.imshow(galaxy.OIII5006_DAP,norm=norm,cmap=plt.cm.Blues_r)\n",
    "\n",
    "ax1.scatter(matchcoord['x'],matchcoord['y'],marker='o',s=2,c='tab:red')\n",
    "for row in matchcoord:\n",
    "    txt,x,y = row['ID'], row['x']+5, row['y']    \n",
    "    ax1.annotate(txt, (x, y),fontsize=4,color='tab:red')\n",
    "    \n",
    "plt.savefig('test.pdf',dpi=600)"
   ]
  },
  {
   "cell_type": "code",
   "execution_count": null,
   "metadata": {},
   "outputs": [],
   "source": [
    "matchcoord = matchcoord[matchcoord['in_frame']][:40]\n",
    "\n",
    "fig = plt.figure(figsize=(6.974,6.974))\n",
    "ax1 = fig.add_subplot(111,projection=galaxy.wcs)\n",
    "\n",
    "norm = simple_norm(galaxy.whitelight,'linear',clip=False,max_percent=95)\n",
    "ax1.imshow(galaxy.whitelight,norm=norm,cmap=plt.cm.Blues)\n",
    "\n",
    "positions = np.transpose([matchcoord['x'],matchcoord['y']])\n",
    "apertures = CircularAperture(positions, r=6)\n",
    "apertures.plot(color='tab:red',lw=.3, alpha=1,ax=ax1)\n",
    "\n",
    "positions = np.transpose([catalogcoord['x'],catalogcoord['y']])\n",
    "apertures = CircularAperture(positions, r=6)\n",
    "apertures.plot(color='tab:orange',lw=.3, alpha=1,ax=ax1)\n",
    "\n",
    "for row in matchcoord:\n",
    "    txt,x,y = row['ID'], row['x']+5, row['y']    \n",
    "    ax1.annotate(txt, (x, y),fontsize=4,color='tab:red')\n",
    "    \n",
    "plt.savefig('test.pdf',dpi=600)"
   ]
  },
  {
   "cell_type": "code",
   "execution_count": null,
   "metadata": {},
   "outputs": [],
   "source": [
    "from astropy.coordinates import match_coordinates_sky # match sources against existing catalog\n",
    "from astropy.coordinates import Angle                 # work with angles (e.g. 1°2′3″)\n",
    "\n",
    "tolerance = '0.5s'\n",
    "ID, angle, Quantity  = match_coordinates_sky(matchcoord['SkyCoord'],catalogcoord['SkyCoord'])\n",
    "within_tolerance = len(angle[angle.__lt__(Angle(tolerance))])\n",
    "\n",
    "print(f'{within_tolerance} of {len(angle)} match within {tolerance}\": {within_tolerance / len(angle)*100:.1f} %')\n",
    "print(f'mean seperation is {angle.mean().to_string(u.arcsec,decimal=True)}\"')"
   ]
  }
 ],
 "metadata": {
  "kernelspec": {
   "display_name": "Python 3",
   "language": "python",
   "name": "python3"
  },
  "language_info": {
   "codemirror_mode": {
    "name": "ipython",
    "version": 3
   },
   "file_extension": ".py",
   "mimetype": "text/x-python",
   "name": "python",
   "nbconvert_exporter": "python",
   "pygments_lexer": "ipython3",
   "version": "3.7.3"
  },
  "pycharm": {
   "stem_cell": {
    "cell_type": "raw",
    "metadata": {
     "collapsed": false
    },
    "source": []
   }
  },
  "toc": {
   "base_numbering": 1,
   "nav_menu": {},
   "number_sections": true,
   "sideBar": true,
   "skip_h1_title": false,
   "title_cell": "Table of Contents",
   "title_sidebar": "Contents",
   "toc_cell": false,
   "toc_position": {
    "height": "calc(100% - 180px)",
    "left": "10px",
    "top": "150px",
    "width": "297.667px"
   },
   "toc_section_display": true,
   "toc_window_display": true
  }
 },
 "nbformat": 4,
 "nbformat_minor": 2
}
