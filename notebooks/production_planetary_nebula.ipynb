{
 "cells": [
  {
   "cell_type": "markdown",
   "metadata": {},
   "source": [
    "# Planetary Nebula Production <a class=\"tocSkip\">\n",
    "    \n",
    "This notebook is used to test and showcase the results of my first project. I use spectroscopic data from the [Multi Unit Spectroscopic Explorer](https://www.eso.org/sci/facilities/develop/instruments/muse.html) (MUSE) that has been observed as part of the [PHANGS](https://sites.google.com/view/phangs/home) collaboration.\n",
    "    \n",
    "I will use a set of line maps of emission lines to identify Planetary Nebula in the data an measure their brightness. This can then be used to fit an empiric relation and hence measure the distance to the galaxy.\n",
    "    \n",
    "This notebook is used for developement. Final code is moved to the `pymuse` packge in the `src` folder. Any production scripts reside in the `scripts` folder."
   ]
  },
  {
   "cell_type": "markdown",
   "metadata": {},
   "source": [
    "## Preparation\n",
    " \n",
    "### Load Basic Packages\n",
    "    \n",
    "First we load a bunch of common packages that are used across the project. More specific packages that are only used in one section are loaded later to make it clear where they belong to (this also applies to all custom moduls that were written for this project)."
   ]
  },
  {
   "cell_type": "code",
   "execution_count": null,
   "metadata": {},
   "outputs": [],
   "source": [
    "# reload modules after they have been modified\n",
    "%load_ext autoreload\n",
    "%autoreload 2\n",
    "\n",
    "from pymuse.packages import *\n",
    "\n",
    "from pymuse.constants import tab10, single_column, two_column\n",
    "\n",
    "%matplotlib inline\n",
    "%config InlineBackend.figure_format = 'retina'"
   ]
  },
  {
   "cell_type": "markdown",
   "metadata": {},
   "source": [
    "we use the `logging` module to handle informations and warnings (this does not always work as expected in jupyter notebooks)."
   ]
  },
  {
   "cell_type": "code",
   "execution_count": null,
   "metadata": {},
   "outputs": [],
   "source": [
    "logging.basicConfig(stream=sys.stdout,\n",
    "                    #format='(levelname)s %(name)s %(message)s',\n",
    "                    datefmt='%H:%M:%S',\n",
    "                    level=logging.INFO)\n",
    "\n",
    "logger = logging.getLogger(__name__)"
   ]
  },
  {
   "cell_type": "markdown",
   "metadata": {},
   "source": [
    "### Read in data\n",
    "\n",
    "this uses the `ReadLineMaps` class from the `pymuse.io` module. To use it, we first need to specify the path to the data folder\n",
    "\n",
    "IC5332, NGC628, NGC1087, NGC1365, NGC1512, NGC1566, NGC1672, NGC2835, NGC3351, NGC3627, NGC4254, NGC4535, NGC5068"
   ]
  },
  {
   "cell_type": "code",
   "execution_count": null,
   "metadata": {},
   "outputs": [],
   "source": [
    "from pymuse.io import ReadLineMaps\n",
    "\n",
    "name = 'NGC628'\n",
    "\n",
    "# first we need to specify the path to the raw data\n",
    "data_raw = Path('d:\\downloads\\MUSEDAP')\n",
    "basedir = Path('..')\n",
    "\n",
    "# list all files in the specified directory\n",
    "galaxies = [x.name for x in data_raw.iterdir() if x.is_dir()]\n",
    "\n",
    "extensions = ['OIII5006', 'HA6562', 'NII6583', 'SII6716']\n",
    "\n",
    "# read in the data we will be working with and print some information\n",
    "galaxy = ReadLineMaps(data_raw / name,extensions)\n",
    "\n",
    "mask = np.zeros(galaxy.shape,dtype=bool)\n",
    "mask |= galaxy.star_mask.astype(bool)"
   ]
  },
  {
   "cell_type": "markdown",
   "metadata": {},
   "source": [
    "### Mask unwanted regions"
   ]
  },
  {
   "cell_type": "code",
   "execution_count": null,
   "metadata": {},
   "outputs": [],
   "source": [
    "from pymuse.auxiliary import circular_mask\n",
    "from pymuse.plot.plot import create_RGB\n",
    "    \n",
    "mask = np.zeros(galaxy.shape,dtype=bool)\n",
    "mask |= galaxy.star_mask.astype(bool)\n",
    "\n",
    "# define masks as slices\n",
    "masks = {\n",
    " 'NGC1365' : circular_mask(*galaxy.shape,(720,420),radius=210),\n",
    " 'NGC1512' : circular_mask(*galaxy.shape,radius=80),\n",
    " 'NGC1566' : circular_mask(*galaxy.shape,(450,450),radius=100),\n",
    " 'NGC1672' : circular_mask(*galaxy.shape,(600,310),radius=100),\n",
    " 'NGC3627' : circular_mask(*galaxy.shape,(330,740),radius=100),\n",
    " 'NGC3351' : circular_mask(*galaxy.shape,radius=200),\n",
    " 'NGC4535' : circular_mask(*galaxy.shape,(300,520),radius=100)\n",
    "}\n",
    "\n",
    "mask[masks.get(galaxy.name,(slice(-1,0),slice(-1,0)))] = True\n",
    "\n",
    "#img = galaxy.OIII5006_DAP.copy()\n",
    "img = create_RGB(galaxy.HA6562,galaxy.OIII5006_DAP,galaxy.SII6716,weights=[0.6,1,0.6],percentile=[95,99.,95])\n",
    "img[mask,...] = (1,1,1)\n",
    "\n",
    "fig = plt.figure(figsize=(8,8))\n",
    "ax  = fig.add_subplot()\n",
    "\n",
    "#norm = simple_norm(galaxy.OIII5006_DAP,clip=False,max_percent=95)\n",
    "ax.imshow(img,origin='lower')"
   ]
  },
  {
   "cell_type": "markdown",
   "metadata": {},
   "source": [
    "## Source Detection"
   ]
  },
  {
   "cell_type": "code",
   "execution_count": null,
   "metadata": {},
   "outputs": [],
   "source": [
    "from photutils import DAOStarFinder            # DAOFIND routine to detect sources\n",
    "from photutils import IRAFStarFinder           # IRAF starfind routine to detect star\n",
    "\n",
    "from pymuse.detection import detect_unresolved_sources"
   ]
  },
  {
   "cell_type": "code",
   "execution_count": null,
   "metadata": {},
   "outputs": [],
   "source": [
    "with open(basedir / 'data' / 'interim' / 'parameters.json') as json_file:\n",
    "    parameters = json.load(json_file)\n",
    "\n",
    "setattr(galaxy,'aperturesize',parameters[galaxy.name]['aperturesize'])\n",
    "setattr(galaxy,'binsize',parameters[galaxy.name]['binsize'])\n",
    "setattr(galaxy,'mu',parameters[galaxy.name]['mu'])\n",
    "setattr(galaxy,'alpha',parameters[galaxy.name]['power_index'])\n",
    "setattr(galaxy,'completeness_limit',parameters[galaxy.name]['completeness_limit'])\n",
    "setattr(galaxy,'roundness',parameters[galaxy.name]['roundness'])\n",
    "setattr(galaxy,'sharplo',parameters[galaxy.name]['sharplo'])\n",
    "setattr(galaxy,'sharphi',parameters[galaxy.name]['sharphi'])\n",
    "setattr(galaxy,'threshold',parameters[galaxy.name]['threshold'])\n",
    "setattr(galaxy,'zoomin',parameters[galaxy.name]['zoomin'])\n",
    "\n",
    "\n",
    "threshold = galaxy.threshold\n",
    "oversize  = 1.\n",
    "\n",
    "sharplo   = 0.0 #galaxy.sharplo\n",
    "sharphi   = 1.0 #galaxy.sharphi\n",
    "roundness = 1.0 #galaxy.roundness\n",
    "\n",
    "print(f'threshold: {threshold}\\nround:     {roundness}\\nsharplo:   {sharplo}\\nsharphi:   {sharphi}')\n",
    "\n",
    "sources = detect_unresolved_sources(galaxy,\n",
    "                                    'OIII5006_DAP',\n",
    "                                    StarFinder=DAOStarFinder,\n",
    "                                    threshold=threshold,\n",
    "                                    exclude_region=mask,\n",
    "                                    oversize=oversize,\n",
    "                                    roundlo=-roundness,\n",
    "                                    roundhi=roundness,\n",
    "                                    sharplo=sharplo,\n",
    "                                    sharphi=sharphi,\n",
    "                                    exclude_border=True,\n",
    "                                    save=False)"
   ]
  },
  {
   "cell_type": "markdown",
   "metadata": {
    "heading_collapsed": true
   },
   "source": [
    "## Completeness limit"
   ]
  },
  {
   "cell_type": "code",
   "execution_count": null,
   "metadata": {
    "hidden": true
   },
   "outputs": [],
   "source": [
    "from pymuse.detection import completeness_limit"
   ]
  },
  {
   "cell_type": "code",
   "execution_count": null,
   "metadata": {
    "hidden": true
   },
   "outputs": [],
   "source": [
    "with open(basedir / 'data' / 'interim' / 'parameters.json') as json_file:\n",
    "    parameters = json.load(json_file)\n",
    "    \n",
    "setattr(galaxy,'binsize',parameters[galaxy.name]['binsize'])\n",
    "setattr(galaxy,'mu',parameters[galaxy.name]['mu'])\n",
    "setattr(galaxy,'alpha',parameters[galaxy.name]['power_index'])\n",
    "setattr(galaxy,'completeness_limit',parameters[galaxy.name]['completeness_limit'])\n",
    "setattr(galaxy,'roundness',parameters[galaxy.name]['roundness'])\n",
    "setattr(galaxy,'sharplo',parameters[galaxy.name]['sharplo'])\n",
    "setattr(galaxy,'sharphi',parameters[galaxy.name]['sharphi'])\n",
    "setattr(galaxy,'threshold',parameters[galaxy.name]['threshold'])\n",
    "setattr(galaxy,'zoomin',parameters[galaxy.name]['zoomin'])\n",
    "\n",
    "roundness = galaxy.roundness\n",
    "sharplo   = galaxy.sharplo\n",
    "sharphi   = galaxy.sharphi\n",
    "\n",
    "print(f'for {galaxy.name}')\n",
    "mock_sources = completeness_limit(\n",
    "                    galaxy,\n",
    "                    'OIII5006_DAP',\n",
    "                    DAOStarFinder,\n",
    "                    threshold=threshold,\n",
    "                    iterations=5,\n",
    "                    stars_per_mag=50,\n",
    "                    exclude_region=mask,\n",
    "                    oversize=oversize,\n",
    "                    roundlo=-roundness,\n",
    "                    roundhi=roundness,\n",
    "                    sharplo=sharplo,\n",
    "                    sharphi=sharphi,\n",
    "                    exclude_border=True,\n",
    "                    plot=False\n",
    "                                 )"
   ]
  },
  {
   "cell_type": "markdown",
   "metadata": {},
   "source": [
    "## Flux measurement\n",
    "\n",
    "In the previous step we detected potential PN candidates by their [OIII] emission. This means we know their position but lack exact flux measurments. In this section we measure the flux of the identified objects in different emission lines that are used in later steps. "
   ]
  },
  {
   "cell_type": "code",
   "execution_count": null,
   "metadata": {},
   "outputs": [],
   "source": [
    "from pymuse.photometry import measure_flux, light_in_moffat, growth_curve"
   ]
  },
  {
   "cell_type": "code",
   "execution_count": null,
   "metadata": {},
   "outputs": [],
   "source": [
    "Rv  = 3.1\n",
    "Ebv = 0.062\n",
    "aperture_size = 1.7 #galaxy.aperturesize\n",
    "\n",
    "flux = measure_flux(galaxy,\n",
    "                    sources,\n",
    "                    alpha=galaxy.alpha,\n",
    "                    Rv=Rv,\n",
    "                    Ebv=Ebv,\n",
    "                    extinction='MW',\n",
    "                    background='local',\n",
    "                    aperture_size=aperture_size)\n",
    "\n",
    "# calculate astronomical coordinates for comparison\n",
    "\n",
    "# calculate magnitudes from measured fluxes\n",
    "flux['mOIII'] = -2.5*np.log10(flux['OIII5006']*1e-20) - 13.74\n",
    "flux['dmOIII'] = np.abs( 2.5/np.log(10) * flux['OIII5006_err'] / flux['OIII5006'] )"
   ]
  },
  {
   "cell_type": "markdown",
   "metadata": {},
   "source": [
    "## Emission line diagnostics    "
   ]
  },
  {
   "cell_type": "code",
   "execution_count": null,
   "metadata": {},
   "outputs": [],
   "source": [
    "from pymuse.analyse import emission_line_diagnostics\n",
    "\n",
    "#galaxy.completeness_limit = 28\n",
    "#galaxy.mu = 31.29\n",
    "\n",
    "print(f'emission line diagnostics for {galaxy.name}')\n",
    "print(f'mu={galaxy.mu:.2f}, cl={galaxy.completeness_limit}')\n",
    "tbl = emission_line_diagnostics(flux,galaxy.mu,galaxy.completeness_limit) \n",
    "\n",
    "tbl['sharp'] = sources['sharpness']\n",
    "tbl['round'] = sources['roundness2']"
   ]
  },
  {
   "cell_type": "markdown",
   "metadata": {
    "heading_collapsed": true
   },
   "source": [
    "### Save catalogue to file"
   ]
  },
  {
   "cell_type": "code",
   "execution_count": null,
   "metadata": {
    "hidden": true
   },
   "outputs": [],
   "source": [
    "from pymuse.io import write_LaTeX\n",
    "\n",
    "filename = basedir / 'data' / 'catalogues' \n",
    "write_LaTeX(tbl[c_shape &  c_detec & c_limit],galaxy,filename)"
   ]
  },
  {
   "cell_type": "code",
   "execution_count": null,
   "metadata": {
    "hidden": true
   },
   "outputs": [],
   "source": [
    "# this saves the entire table  \n",
    "tbl_out = tbl[c_shape & (tbl['type']!='NaN') & c_detec]\n",
    "skycoord = SkyCoord.from_pixel(tbl_out['x'],tbl_out['y'],galaxy.wcs)\n",
    "tbl_out['RaDec'] = skycoord.to_string(style='hmsdms',precision=2)\n",
    "\n",
    "for col in tbl_out.colnames:\n",
    "    if col not in ['id','RaDec','type','SNRorPN']:\n",
    "        if not col.endswith('detection'):\n",
    "            tbl_out[col].info.format = '%.3f' \n",
    "            \n",
    "filename = basedir / 'data' / 'catalogues' / f'{galaxy.name}_nebulae.txt'\n",
    "\n",
    "with open(filename,'w',newline='\\n') as f:\n",
    "    ascii.write(tbl_out,f,format='fixed_width',delimiter='\\t',overwrite=True)\n",
    "print(f'{len(tbl_out)} objects saved to ' + str(filename))   "
   ]
  },
  {
   "cell_type": "markdown",
   "metadata": {},
   "source": [
    "### Visualize the result of the classification"
   ]
  },
  {
   "cell_type": "code",
   "execution_count": null,
   "metadata": {},
   "outputs": [],
   "source": [
    "from pymuse.plot.pnlf import plot_emission_line_ratio\n",
    "\n",
    "for t in ['PN','SNR','HII']:\n",
    "    print(f\"{t}: v_sig = {np.nanmean(tbl[(tbl['type']==t) & (tbl['mOIII']<galaxy.completeness_limit)]['v_SIGMA']):.2f}\")\n",
    "\n",
    "filename = basedir / 'reports' / f'{galaxy.name}_emission_line'\n",
    "plot_emission_line_ratio(tbl[c_shape & c_detec & c_limit],galaxy.mu,completeness=galaxy.completeness_limit,filename=filename)\n"
   ]
  },
  {
   "cell_type": "code",
   "execution_count": null,
   "metadata": {},
   "outputs": [],
   "source": [
    "from pymuse.plot.classification import classification_map\n",
    "#parameters[galaxy.name]['zoomin'] = [180,570,250]\n",
    "#del parameters[galaxy.name]['zoomin']\n",
    "print(galaxy.name)\n",
    "filename = basedir / 'reports' / f'{galaxy.name}_detections_classification.pdf'\n",
    "classification_map(galaxy,parameters,tbl[c_shape & c_detec & c_limit],filename)"
   ]
  },
  {
   "cell_type": "markdown",
   "metadata": {},
   "source": [
    "## Planetary nebula luminosity function\n",
    "\n",
    "NGC1365,NGC1566,NGC2835,NGC4254 have overluminous sources\n",
    "\n",
    "{'IC5332'  : 9,\n",
    " 'NGC628'  : 9.84,\n",
    " 'NGC3351' : 9.96,\n",
    " 'NGC3627' : 11.07,\n",
    " 'NGC5068' : 5.16,\n",
    " \n",
    " 'NGC1365' : 18.7,\n",
    " 'NGC2835' : 12.22,\n",
    " \n",
    " 'NGC1512' : 11.6,\n",
    " 'NGC1566' : 17.69,\n",
    " 'NGC4254' : 13.1,\n",
    " 'NGC4535' : 15.77\n",
    "}"
   ]
  },
  {
   "cell_type": "code",
   "execution_count": null,
   "metadata": {},
   "outputs": [],
   "source": [
    "def prior(mu):\n",
    "    mu0 = 29.91\n",
    "    std = 0.13\n",
    "    \n",
    "    return 1 / (std*np.sqrt(2*np.pi)) * np.exp(-(mu-mu0)**2 / (2*std**2))"
   ]
  },
  {
   "cell_type": "code",
   "execution_count": null,
   "metadata": {},
   "outputs": [],
   "source": [
    "from pymuse.analyse import MaximumLikelihood1D, PNLF, pnlf\n",
    "from pymuse.plot.pnlf import plot_pnlf\n",
    "from pymuse.auxiliary import uncertainties\n",
    "\n",
    "binsize= 0.4# galaxy.binsize\n",
    "cut = 26.5\n",
    "#galaxy.completeness_limit = 28\n",
    "slow  = 0.2 #galaxy.sharplo  #2 / 10\n",
    "shigh = 0.9 #galaxy.sharphi #9 / 10\n",
    "r     = 0.9 #galaxy.roundness #9 / 10\n",
    "\n",
    "# table contains all detected objects. here we mask all undesired objects.\n",
    "c_shape = ((tbl['sharp']>slow) & (tbl['sharp']<shigh) & (np.abs(tbl['round'])<r))\n",
    "c_PN    = (tbl['type']=='PN')\n",
    "c_SNR   = (tbl['SNRorPN'] & (tbl['type']=='SNR'))\n",
    "c_AV    = ((tbl['Av']<0.4) | np.isnan(tbl['Av']))\n",
    "c_cut   = (cut<tbl['mOIII'])\n",
    "c_detec = tbl['OIII5006_detection'] #| tbl['HA6562_detection'] \n",
    "c_limit = (tbl['mOIII']<galaxy.completeness_limit)\n",
    "\n",
    "criteria = c_shape & c_cut & (c_PN|c_SNR) & c_detec \n",
    "data = tbl[np.where(criteria & c_limit)]['mOIII']\n",
    "err = tbl[np.where(criteria & c_limit)]['dmOIII']\n",
    "\n",
    "print(f'analysing {galaxy.name}')\n",
    "print(f'completeness limit = {galaxy.completeness_limit}, binsize = {binsize}')\n",
    "fitter = MaximumLikelihood1D(pnlf,data,mhigh=galaxy.completeness_limit,Mmax=-4.47)\n",
    "galaxy.mu,dp,dm = fitter([28])\n",
    "print('{:.2f} + {:.2f} - {:.2f}'.format(*uncertainties(galaxy.mu,dp,dm)))\n",
    "\n",
    "\n",
    "\n",
    "#Plot PNLF\n",
    "meta = {'Subject':f'slow={slow},shigh={shigh},r={r}','Title':f'PNLF for {galaxy.name}','Author':'FS'}\n",
    "filename = basedir / 'reports' / f'{galaxy.name}_PNLF'\n",
    "axes = plot_pnlf(tbl[criteria]['mOIII'],\n",
    "                 galaxy.mu,\n",
    "                 galaxy.completeness_limit,\n",
    "                 binsize=binsize,\n",
    "                 mhigh=30,\n",
    "                 filename=filename,\n",
    "                 color=tab10[0])\n"
   ]
  },
  {
   "cell_type": "markdown",
   "metadata": {},
   "source": [
    "### Compare to literature"
   ]
  },
  {
   "cell_type": "code",
   "execution_count": null,
   "metadata": {},
   "outputs": [],
   "source": [
    "from pymuse.plot.pnlf import compare_distances\n",
    "print(galaxy.name)\n",
    "filename = basedir / 'reports' / f'{galaxy.name}_distances'\n",
    "compare_distances(galaxy.name,galaxy.mu,dp,dm,filename=None)"
   ]
  },
  {
   "cell_type": "markdown",
   "metadata": {},
   "source": [
    "### With and without SNR"
   ]
  },
  {
   "cell_type": "code",
   "execution_count": null,
   "metadata": {},
   "outputs": [],
   "source": [
    "from pymuse.analyse import MaximumLikelihood1D, PNLF, pnlf\n",
    "from pymuse.plot.pnlf import plot_pnlf\n",
    "\n",
    "criteria1 = c_shape & c_cut & (c_PN) & c_detec #& c_AV\n",
    "data1 = tbl[np.where(c_limit & criteria1)]['mOIII']\n",
    "err1  = tbl[np.where(c_limit & criteria1)]['dmOIII']\n",
    "\n",
    "criteria2 = c_shape & c_cut & (c_PN|c_SNR)  & c_detec# & c_AV\n",
    "data2 = tbl[np.where(c_limit & criteria2)]['mOIII']\n",
    "err2  = tbl[np.where(c_limit & criteria2)]['dmOIII']\n",
    "\n",
    "print(f'{galaxy.name}: literature {galaxy.mu:.3f}')\n",
    "print(f'completeness limit = {galaxy.completeness_limit}')\n",
    "\n",
    "fitter = MaximumLikelihood1D(pnlf,data1,mhigh=galaxy.completeness_limit)\n",
    "mu1,dp1,dm1 = fitter([28])\n",
    "fitter = MaximumLikelihood1D(pnlf,data2,mhigh=galaxy.completeness_limit)\n",
    "mu2,dp2,dm2 = fitter([28])\n",
    "\n",
    "print(f'plotting result for {galaxy.name} (binsize={binsize})')\n",
    "filename = basedir / 'reports' / f'{galaxy.name}_PNLF_with_SNR'\n",
    "axes = plot_pnlf(tbl[criteria1]['mOIII'],mu1,galaxy.completeness_limit,binsize=binsize,mhigh=30,color=tab10[0])\n",
    "axes = plot_pnlf(tbl[criteria2]['mOIII'],mu2,galaxy.completeness_limit,binsize=binsize,mhigh=30,filename=filename,color='grey',alpha=0.7,axes=axes)\n",
    "plt.show()"
   ]
  },
  {
   "cell_type": "markdown",
   "metadata": {},
   "source": [
    "### Look at brightest objects"
   ]
  },
  {
   "cell_type": "code",
   "execution_count": null,
   "metadata": {},
   "outputs": [],
   "source": [
    "from pymuse.plot.plot import single_cutout\n",
    "from pymuse.photometry import growth_curve\n",
    "\n",
    "tmp = tbl[criteria].copy()\n",
    "\n",
    "tmp['SkyCoord'] = SkyCoord.from_pixel(tmp['x'],tmp['y'],galaxy.wcs)\n",
    "tmp['RaDec'] = tmp['SkyCoord'].to_string(style='hmsdms',precision=2)\n",
    "# smaller 0 is HII region\n",
    "tmp['HII'] = tmp['R'] + tmp['dR'] + 0.37*tmp['MOIII'] + 1.16 \n",
    "if 'SkyCoord' in tmp.colnames:\n",
    "    del tmp['SkyCoord']\n",
    "\n",
    "# 'x','y','R','dR','MOIII'\n",
    "columns = ['id','type','sharp','round','Av','mOIII','HII','RaDec','fwhm']\n",
    "for col in columns[2:-2]:\n",
    "    tmp[col].info.format = '%.3f'  \n",
    "\n",
    "tmp.sort('mOIII')\n",
    "print(tmp[0:10][columns])"
   ]
  },
  {
   "cell_type": "code",
   "execution_count": null,
   "metadata": {},
   "outputs": [],
   "source": [
    "idx = 191   \n",
    "\n",
    "s = 32\n",
    "row = tmp[tmp['id']==idx]\n",
    "ax1,ax2,ax3 = single_cutout(galaxy,row['x'],row['y'],size=s,percentile=95,aperture_size=aperture_size*row['fwhm'][0]/2)\n",
    "\n",
    "\n",
    "fit,pcov = growth_curve(galaxy.OIII5006,row['x'][0],row['y'][0],'moffat',rmax=4*row['fwhm'][0],plot=True)\n",
    "alpha, gamma = fit[0], fit[1]\n",
    "fwhm = 2*gamma * np.sqrt(2**(1/alpha)-1)\n",
    "print(f'measured: {fwhm:.2f} vs reported:{row[\"fwhm\"][0]:.2f}')"
   ]
  },
  {
   "cell_type": "code",
   "execution_count": null,
   "metadata": {},
   "outputs": [],
   "source": [
    "def point_like(data,sources):\n",
    "    \n",
    "    shape = np.zeros(len(sources),dtype=bool)\n",
    "    \n",
    "    for i,row in enumerate(sources):\n",
    "    \n",
    "        try:\n",
    "            fit,pcov = growth_curve(data,row['x'],row['y'],'moffat',rmax=6*row['fwhm'],plot=True)\n",
    "            #err = np.sqrt(np.diag(pcov))\n",
    "        except:\n",
    "            continue\n",
    "        \n",
    "        alpha, gamma = fit[0], fit[1]\n",
    "        fwhm = 2*gamma * np.sqrt(2**(1/alpha)-1)\n",
    "        \n",
    "        if np.abs(fwhm-row['fwhm'])/ row['fwhm'] <1:\n",
    "            shape[i] = True\n",
    "        \n",
    "    return shape\n",
    "    #print(err)\n",
    "    #print(f'measured: {fwhm:.2f} vs reported:{row[\"fwhm\"][0]:.2f}')\n",
    "          \n",
    "shape = point_like(data,sources)"
   ]
  },
  {
   "cell_type": "markdown",
   "metadata": {},
   "source": [
    "## Compare to existing Studies"
   ]
  },
  {
   "cell_type": "code",
   "execution_count": null,
   "metadata": {},
   "outputs": [],
   "source": [
    "from astropy.coordinates import match_coordinates_sky # match sources against existing catalog\n",
    "from astropy.coordinates import Angle                 # work with angles (e.g. 1°2′3″)\n",
    "from astropy.table import vstack\n",
    "\n",
    "from pymuse.load_references import NGC628, \\\n",
    "                                   pn_NGC628_kreckel, \\\n",
    "                                   snr_NGC628_kreckel, \\\n",
    "                                   pn_NGC628_herrmann, \\\n",
    "                                   NGC628_kreckel, \\\n",
    "                                   pn_NGC5068_herrmann, \\\n",
    "                                   pn_NGC3351_ciardullo, \\\n",
    "                                   pn_NGC3627_ciardullo\n",
    "\n",
    "\n",
    "def get_fwhm(x,y):\n",
    "    try:\n",
    "        return galaxy.PSF[int(y),int(x)]\n",
    "    except:\n",
    "        return 0\n",
    "\n",
    "for table in [NGC628,pn_NGC628_kreckel,snr_NGC628_kreckel,NGC628_kreckel,\n",
    "              pn_NGC628_herrmann,pn_NGC5068_herrmann,pn_NGC3351_ciardullo,pn_NGC3627_ciardullo]:\n",
    "    table['x'],table['y']= table['SkyCoord'].to_pixel(wcs=galaxy.wcs)\n",
    "    table['fwhm'] = np.array([get_fwhm(x,y) for x,y in zip(table['x'],table['y'])])\n"
   ]
  },
  {
   "cell_type": "markdown",
   "metadata": {},
   "source": [
    "exclude objects that lie outside our field of view"
   ]
  },
  {
   "cell_type": "code",
   "execution_count": null,
   "metadata": {},
   "outputs": [],
   "source": [
    "matchcoord = NGC628 \n",
    "\n",
    "catalogcoord = tbl[tbl['mOIII']<galaxy.completeness_limit]\n",
    "\n",
    "matchcoord['in_frame'] = False\n",
    "y_dim,x_dim = galaxy.shape\n",
    "\n",
    "for row in matchcoord:\n",
    "    x,y = row['x'], row['y']    \n",
    "    if 0<=int(x)<x_dim and 0<=int(y)<y_dim:\n",
    "        if not np.isnan(galaxy.PSF[int(y),int(x)]):\n",
    "            row['in_frame'] = True\n",
    "           \n",
    "print(f\"{np.sum(~matchcoord['in_frame'])} objects outside of our field of view\")\n",
    "matchcoord   = matchcoord[matchcoord['in_frame'] & (matchcoord['mOIII']<27.5)]"
   ]
  },
  {
   "cell_type": "markdown",
   "metadata": {},
   "source": [
    "plot the detections from the paper and our own detections"
   ]
  },
  {
   "cell_type": "code",
   "execution_count": null,
   "metadata": {},
   "outputs": [],
   "source": [
    "fig = plt.figure(figsize=(single_column,single_column))\n",
    "ax1 = fig.add_subplot(111,projection=galaxy.wcs)\n",
    "\n",
    "norm = simple_norm(galaxy.OIII5006_DAP,'linear',clip=False,max_percent=95)\n",
    "ax1.imshow(galaxy.OIII5006_DAP,norm=norm,cmap=plt.cm.Greens)\n",
    "\n",
    "ax1.scatter(matchcoord['x'],matchcoord['y'],marker='o',s=6,lw=0.2,edgecolor='tab:red',facecolors='none')\n",
    "ax1.scatter(catalogcoord['x'],catalogcoord['y'],marker='o',s=6,lw=0.2,edgecolor='tab:orange',facecolors='none')\n",
    "\n",
    "for row in matchcoord:\n",
    "    txt,x,y = row['ID'], row['x']+5, row['y']    \n",
    "    \n",
    "    ax1.annotate(txt, (x, y),fontsize=4,color='tab:red')\n",
    "\n",
    "plt.savefig(basedir / 'reports' / f'{galaxy.name}_PN_position_comparison.pdf',dpi=600)"
   ]
  },
  {
   "cell_type": "markdown",
   "metadata": {},
   "source": [
    "see how many match within 1\""
   ]
  },
  {
   "cell_type": "code",
   "execution_count": null,
   "metadata": {},
   "outputs": [],
   "source": [
    "tolerance = '0.8\"'\n",
    "ID, angle, Quantity  = match_coordinates_sky(matchcoord['SkyCoord'],catalogcoord['SkyCoord'])\n",
    "within_tolerance = len(angle[angle.__lt__(Angle(tolerance))])\n",
    "\n",
    "print(f'{within_tolerance} of {len(angle)} match within {tolerance}\": {within_tolerance / len(angle)*100:.1f} %')\n",
    "print(f'mean seperation is {angle[angle.__lt__(Angle(tolerance))].mean().to_string(u.arcsec,decimal=True)}')"
   ]
  },
  {
   "cell_type": "markdown",
   "metadata": {},
   "source": [
    "### Compare H$\\alpha$ fluxes"
   ]
  },
  {
   "cell_type": "code",
   "execution_count": null,
   "metadata": {},
   "outputs": [],
   "source": [
    "tolerance = '0.8\"'\n",
    "\n",
    "ID, angle, Quantity  = match_coordinates_sky(matchcoord['SkyCoord'],SkyCoord.from_pixel(catalogcoord['x'],catalogcoord['y'],galaxy.wcs))\n",
    "within_tolerance = len(angle[angle.__lt__(Angle(tolerance))])\n",
    "\n",
    "print(f'{within_tolerance} of {len(angle)} match within {tolerance}\": {within_tolerance / len(angle)*100:.1f} %')\n",
    "print(f'mean seperation is {angle[angle.__lt__(Angle(tolerance))].mean().to_string(u.arcsec,decimal=True)}')"
   ]
  },
  {
   "cell_type": "code",
   "execution_count": null,
   "metadata": {},
   "outputs": [],
   "source": [
    "def compare_OIII_fluxes():\n",
    "    mpl.use('pgf')\n",
    "    plt.style.use('TeX.mplstyle')\n",
    "    \n",
    "    mpl.rcParams['pgf.preamble'] = [r'\\usepackage[hidelinks]{hyperref}', ]\n",
    "    \n",
    "    matchcoord['mOIII_measured'] = catalogcoord[ID]['mOIII']\n",
    "    matchcoord['dmOIII_measured'] = catalogcoord[ID]['dmOIII']\n",
    "    \n",
    "    crit = angle.__lt__(Angle(\"1s\"))\n",
    "\n",
    "    fig,ax = plt.subplots(figsize=(single_column,single_column))\n",
    "\n",
    "    color=tab10[0]\n",
    "    for s in ['Kreckel PN','Kreckel SNR','Herrmann PN']:\n",
    "        color = next(ax._get_lines.prop_cycler)['color']\n",
    "        tmp = matchcoord[(matchcoord['source']==s) & crit]\n",
    "        plt.errorbar(tmp['mOIII'],tmp['mOIII_measured'],\n",
    "                     yerr = tmp['dmOIII_measured'],\n",
    "                     marker='o',ms=2,ls='none',mec=color,mfc=color,ecolor=color,label=s)\n",
    "\n",
    "    #plt.errorbar(matchcoord[crit]['mOIII'],matchcoord[crit]['mOIII_measured'],\n",
    "    #             yerr = matchcoord[crit]['dmOIII_measured'],\n",
    "    #             marker='o',ms=4,ls='none',mec=color,mfc=color,ecolor=color,label=s)\n",
    "\n",
    "        \n",
    "    base_url = 'https://ui.adsabs.harvard.edu/abs/'\n",
    "    link = f'\\href{{{base_url + matchcoord.meta[\"bibcode\"]}}}{{{matchcoord.meta[\"reference\"]}}}'\n",
    "\n",
    "    xmin = np.floor(2*np.min(matchcoord['mOIII']))/2\n",
    "    xmax = np.ceil(2*np.max(matchcoord['mOIII']))/2\n",
    "    ymin = np.floor(2*np.min(matchcoord['mOIII_measured']))/2\n",
    "    ymax = np.ceil(2*np.max(matchcoord['mOIII_measured']))/2\n",
    "    \n",
    "    plt.plot([xmin,xmax],[xmin,xmax],color='black',lw=0.4)\n",
    "    plt.plot([xmin,xmax],[xmin-0.5,xmax-0.5],color='gray',lw=0.5,ls='--')\n",
    "    plt.plot([xmin,xmax],[xmin+0.5,xmax+0.5],color='gray',lw=0.5,ls='--')\n",
    "    #ax.set_xlabel(r'$\\mathrm{m}_{[\\mathrm{OIII}]}$' + f' {link}')\n",
    "    ax.set_xlabel(r'$\\mathrm{m}_{[\\mathrm{OIII}]}$ existing studies')\n",
    "    ax.set_ylabel(r'$\\mathrm{m}_{[\\mathrm{OIII}]}$ this work')\n",
    "    plt.legend()\n",
    "    \n",
    "    #plt.savefig(basedir / 'reports' / f'flux_comparison_OIII.pdf',dpi=600)\n",
    "    plt.show()\n",
    "    \n",
    "compare_OIII_fluxes()"
   ]
  },
  {
   "cell_type": "code",
   "execution_count": null,
   "metadata": {},
   "outputs": [],
   "source": [
    "def compare_HA_fluxes():\n",
    "    \n",
    "    mpl.use('pgf')\n",
    "    plt.style.use('TeX.mplstyle')\n",
    "    \n",
    "    mpl.rcParams['pgf.preamble'] = [r'\\usepackage[hidelinks]{hyperref}', ]\n",
    "    \n",
    "    catalogcoord['R2'] = catalogcoord['OIII5006'] / (catalogcoord['HA6562']+catalogcoord['NII6583'])\n",
    "    catalogcoord['dR2'] = catalogcoord['R2']  * np.sqrt(catalogcoord['OIII5006_err']/catalogcoord['OIII5006_err']**2 + 1/(catalogcoord['HA6562']+catalogcoord['NII6583'])**2 * (catalogcoord['HA6562_err']**2+catalogcoord['NII6583_err']**2) )                                  \n",
    "    \n",
    "    matchcoord['R_measured'] = catalogcoord[ID]['R2']\n",
    "    matchcoord['dR_measured'] = catalogcoord[ID]['dR2']\n",
    "\n",
    "    crit = angle.__lt__(Angle(\"1s\"))\n",
    "\n",
    "    fig,ax = plt.subplots(figsize=(single_column,single_column))\n",
    "\n",
    "    color=tab10[0]\n",
    "    for s in ['Kreckel PN','Kreckel SNR','Herrmann PN']:\n",
    "        color = next(ax._get_lines.prop_cycler)['color']\n",
    "        tmp = matchcoord[(matchcoord['source']==s) & crit]\n",
    "        print(f\"{s}: {np.sum(tmp['R'] > tmp['R_measured']) / len(tmp) * 100:.2f} % under\")\n",
    "        plt.errorbar(tmp['R'],tmp['R_measured'],\n",
    "                     #xerr = tmp['dR'],\n",
    "                     #yerr = tmp['dR_measured'],\n",
    "                     marker='o',ms=2,ls='none',mec=color,mfc=color,ecolor=color,label=s)\n",
    "\n",
    "    xmin,xmax = 0,10\n",
    "    ymin,ymax = 0,10\n",
    "    \n",
    "    plt.plot([xmin,xmax],[xmin,xmax],color='black',lw=0.4)\n",
    "    plt.plot([xmin,xmax],[xmin-0.5,xmax-0.5],color='gray',lw=0.5,ls='--')\n",
    "    plt.plot([xmin,xmax],[xmin+0.5,xmax+0.5],color='gray',lw=0.5,ls='--')\n",
    "    ax.set_xlim([0,10])\n",
    "    ax.set_ylim([0,10])\n",
    "    #ax.set_xlabel(r'$\\mathrm{m}_{[\\mathrm{OIII}]}$' + f' {link}')\n",
    "    ax.set_xlabel(r'[OIII]/(H$\\alpha$+[NII]) existing studies')\n",
    "    ax.set_ylabel(r'[OIII]/(H$\\alpha$+[NII]) this study')\n",
    "    plt.legend(loc=1)\n",
    "    \n",
    "    \n",
    "    plt.savefig(basedir / 'reports' / f'flux_comparison_HA.pdf',dpi=600)\n",
    "    \n",
    "    plt.show()\n",
    "    \n",
    "catalogcoord = tbl[tbl['mOIII']<galaxy.completeness_limit]\n",
    "compare_HA_fluxes()"
   ]
  },
  {
   "cell_type": "markdown",
   "metadata": {},
   "source": [
    "### Francesco's Nebula catalogue"
   ]
  },
  {
   "cell_type": "code",
   "execution_count": null,
   "metadata": {},
   "outputs": [],
   "source": [
    "from photutils import CircularAperture\n",
    "\n",
    "with fits.open(basedir / 'data' / 'external' / 'nebula_catalogue_FS_v01.fits') as hdul:\n",
    "    nebula_catalogue = Table(hdul[1].data)\n",
    "\n",
    "# (nebula_catalogue['region_size_pixels']<100) &\n",
    "PNe_candidate = nebula_catalogue[(nebula_catalogue['gal_name']==galaxy.name) & (nebula_catalogue['PNe_candidate']==1)]\n",
    "print(f'{len(PNe_candidate)} candidates from FS')\n",
    "\n",
    "fig = plt.figure(figsize=(7,7))\n",
    "ax  = fig.add_subplot(projection=galaxy.wcs)\n",
    "norm = simple_norm(galaxy.OIII5006_DAP,'linear',clip=False,max_percent=95)\n",
    "ax.imshow(galaxy.OIII5006_DAP,norm=norm,cmap=plt.cm.Greens)\n",
    "\n",
    "cat = tbl[c_PN & c_limit]\n",
    "\n",
    "#positions = np.transpose([PNe_candidate['cen_x'],PNe_candidate['cen_y']])\n",
    "#apertures = CircularAperture(positions, r=6)\n",
    "ax.scatter(PNe_candidate['cen_x'],PNe_candidate['cen_y'],marker='o',s=5,lw=0.4,edgecolor='red',facecolors='none')\n",
    "ax.scatter(cat['x'],cat['y'],marker='o',s=5,lw=0.4,edgecolor='blue',facecolors='none')\n",
    "\n",
    "#apertures.plot(color='red',lw=.2, alpha=1)\n",
    "plt.savefig(basedir / 'reports' / f'{galaxy.name}_FS_comparison.pdf',dpi=600)"
   ]
  },
  {
   "cell_type": "code",
   "execution_count": null,
   "metadata": {},
   "outputs": [],
   "source": [
    "data = -2.5*np.log10(PNe_candidate['OIII5006_FLUX']*1e-20) - 13.74\n",
    "\n",
    "fitter = MaximumLikelihood1D(pnlf,\n",
    "                             data[data<28],\n",
    "                             mhigh=galaxy.completeness_limit)\n",
    "mu,dp,dm = fitter([24])\n",
    "print(f'literature: {galaxy.mu:.2f}')\n",
    "axes = plot_pnlf(data,\n",
    "                 mu,\n",
    "                 galaxy.completeness_limit,\n",
    "                 binsize=0.4,\n",
    "                 mhigh=30,\n",
    "                 color=tab10[0])\n"
   ]
  },
  {
   "cell_type": "markdown",
   "metadata": {},
   "source": [
    "### Enrico's Catalogue"
   ]
  },
  {
   "cell_type": "code",
   "execution_count": null,
   "metadata": {},
   "outputs": [],
   "source": [
    "from photutils import CircularAperture\n",
    "\n",
    "with fits.open(basedir / 'data' / 'external' / 'clumpfind_cat_v02.fits') as hdul:\n",
    "    nebula_catalogue = Table(hdul[1].data)\n",
    "nebula_catalogue = nebula_catalogue[(nebula_catalogue['gal_name']==galaxy.name)]\n",
    "\n",
    "nebula_catalogue.rename_column('cen_x','x')\n",
    "nebula_catalogue.rename_column('cen_y','y')\n",
    "nebula_catalogue = nebula_catalogue[~np.isnan(nebula_catalogue['x']) & ~np.isnan(nebula_catalogue['y'])]\n",
    "nebula_catalogue['fwhm'] = np.array([galaxy.PSF[int(y),int(x)] for x,y in zip(nebula_catalogue['x'],nebula_catalogue['y'])])"
   ]
  },
  {
   "cell_type": "markdown",
   "metadata": {},
   "source": [
    "#### Use flux measurements from Enrico"
   ]
  },
  {
   "cell_type": "code",
   "execution_count": null,
   "metadata": {},
   "outputs": [],
   "source": [
    "for col in nebula_catalogue.colnames:\n",
    "    if col.endswith('_FLUX'):\n",
    "        nebula_catalogue.rename_column(col,col[:-5])\n",
    "    if col.endswith('_FLUX_ERR'):\n",
    "        nebula_catalogue.rename_column(col,col[:-9]+'_err')\n",
    "        \n",
    "nebula_catalogue['mOIII'] = -2.5*np.log10(nebula_catalogue['OIII5006']*1e-20) - 13.74\n",
    "nebula_catalogue['dmOIII'] = np.abs( 2.5/np.log(10) * nebula_catalogue['OIII5006_err'] / nebula_catalogue['OIII5006'])\n",
    "\n",
    "nebula_catalogue = emission_line_diagnostics(nebula_catalogue,galaxy.mu,galaxy.completeness_limit) \n",
    "pn_candidates = nebula_catalogue[nebula_catalogue['type']=='PN']"
   ]
  },
  {
   "cell_type": "markdown",
   "metadata": {},
   "source": [
    "#### Measure flux with background subtraction"
   ]
  },
  {
   "cell_type": "code",
   "execution_count": null,
   "metadata": {},
   "outputs": [],
   "source": [
    "flux = measure_flux(galaxy,\n",
    "                    nebula_catalogue,\n",
    "                    alpha=galaxy.alpha,\n",
    "                    Rv=3.1,\n",
    "                    Ebv=0.062,\n",
    "                    extinction='MW',\n",
    "                    aperture_size=1.5)\n",
    "\n",
    "# calculate magnitudes from measured fluxes\n",
    "flux['mOIII'] = -2.5*np.log10(flux['OIII5006']*1e-20) - 13.74\n",
    "flux['dmOIII'] = np.abs( 2.5/np.log(10) * flux['OIII5006_err'] / flux['OIII5006'] )\n",
    "\n",
    "emd = emission_line_diagnostics(flux,galaxy.mu,galaxy.completeness_limit) \n",
    "pn_candidates = emd[(emd['type']=='PN') & (emd['mOIII']<28)]\n"
   ]
  },
  {
   "cell_type": "markdown",
   "metadata": {},
   "source": [
    "#### Visualize the result"
   ]
  },
  {
   "cell_type": "code",
   "execution_count": null,
   "metadata": {},
   "outputs": [],
   "source": [
    "print(f'{len(pn_candidates)} nebulae from Enrico')\n",
    "\n",
    "fig = plt.figure(figsize=(7,7))\n",
    "ax  = fig.add_subplot(projection=galaxy.wcs)\n",
    "\n",
    "norm = simple_norm(galaxy.OIII5006_DAP,'linear',clip=False,max_percent=95)\n",
    "ax.imshow(galaxy.OIII5006_DAP,norm=norm,cmap=plt.cm.Greens)\n",
    "\n",
    "cat = tbl[c_PN & c_limit]\n",
    "\n",
    "#positions = np.transpose([PNe_candidate['cen_x'],PNe_candidate['cen_y']])\n",
    "#apertures = CircularAperture(positions, r=6)\n",
    "ax.scatter(pn_candidates['x'],pn_candidates['y'],marker='o',s=4,lw=0.4,edgecolor='tab:orange',facecolors='none')\n",
    "ax.scatter(cat['x'],cat['y'],marker='o',s=6,lw=0.4,edgecolor='tab:blue',facecolors='none')\n",
    "\n",
    "#apertures.plot(color='red',lw=.2, alpha=1)\n",
    "plt.savefig(basedir / 'reports' / f'{galaxy.name}_Enrico_comparison.pdf',dpi=600)"
   ]
  },
  {
   "cell_type": "code",
   "execution_count": null,
   "metadata": {},
   "outputs": [],
   "source": [
    "from astropy.coordinates import match_coordinates_sky\n",
    "\n",
    "matchcoord   = pn_candidates\n",
    "matchcoord['SkyCoord'] = SkyCoord.from_pixel(matchcoord['x'],matchcoord['y'],galaxy.wcs)\n",
    "cat['SkyCoord'] = SkyCoord.from_pixel(cat['x'],cat['y'],galaxy.wcs)\n",
    "\n",
    "tolerance = '2s'\n",
    "ID, angle, Quantity  = match_coordinates_sky(matchcoord['SkyCoord'],cat['SkyCoord'])\n",
    "within_tolerance = len(angle[angle.__lt__(Angle(tolerance))])\n",
    "\n",
    "print(f'{within_tolerance} of {len(angle)} match within {tolerance}\": {within_tolerance / len(angle)*100:.1f} %')\n",
    "print(f'mean seperation is {angle[angle.__lt__(Angle(tolerance))].mean().to_string(u.arcsec,decimal=True)}\"')"
   ]
  },
  {
   "cell_type": "code",
   "execution_count": null,
   "metadata": {},
   "outputs": [],
   "source": [
    "fitter = MaximumLikelihood1D(pnlf,\n",
    "                             pn_candidates[(pn_candidates['mOIII']<28) & (pn_candidates['mOIII']>10)]['mOIII'],\n",
    "                             mhigh=galaxy.completeness_limit)\n",
    "mu,dp,dm = fitter([24])\n",
    "print(f'literature: {galaxy.mu:.2f}')\n",
    "axes = plot_pnlf(pn_candidates['mOIII'],\n",
    "                 mu,\n",
    "                 galaxy.completeness_limit,\n",
    "                 binsize=0.4,\n",
    "                 mhigh=30,\n",
    "                 color=tab10[0])\n"
   ]
  },
  {
   "cell_type": "markdown",
   "metadata": {},
   "source": [
    "## Distance in parsec\n",
    "\n",
    "the measured distances are in the form of the distance modulus $\\mu = m-M$ which is the difference between apparent and absolute magnitude. By defintion of the absolte magnitude, we can convert this number into a distance in pc\n",
    "$$\n",
    "d = 10^{\\frac{\\mu}{5}+1} = 10 \\cdot \\exp\\left( \\ln 10 \\frac{\\mu}{5} \\right) \\\\\n",
    "\\delta d = \\frac{\\ln 10}{5} 10 \\exp\\left( \\ln 10 \\frac{\\mu}{5} \\right) \\delta \\mu = 0.2 \\ln 10 \\; d \\; \\delta \\mu\n",
    "$$"
   ]
  },
  {
   "cell_type": "code",
   "execution_count": null,
   "metadata": {},
   "outputs": [],
   "source": [
    "def distance_modulus_to_parsec(mu,mu_err=np.array([])):\n",
    "    \n",
    "    d = 10 * np.exp(np.log(10)*mu/5)\n",
    "    if len(mu_err) > 0:\n",
    "        d_err = 0.2 * np.log(10) * d * mu_err\n",
    "    print(f'd = ({d/1e6:.2f} + {d_err[0]/1e6:.2f} - {d_err[1]/1e6:.2f}) Mpc')\n",
    "    \n",
    "    return d, d_err\n",
    "\n",
    "d,d_err = distance_modulus_to_parsec(30.033,np.array([0.014,0.015]))"
   ]
  },
  {
   "cell_type": "markdown",
   "metadata": {},
   "source": [
    "## Dust extinction etc.\n",
    "\n",
    "The V-band extinction $A_V$ and the color excess $E(B-V)=(B-V)_\\text{obs} - (B-V)_\\text{int}$ are related via the selective extinction\n",
    "$$\n",
    "A_V = R_V E(B-V)\n",
    "$$\n",
    "The extinction at wavelength $\\lambda$ can be obtained with the extinction curve\n",
    "$$\n",
    "k(\\lambda) = \\frac{A_\\lambda}{E(B-V)}\\quad \\rightarrow\\quad A_\\lambda = k(\\lambda) E(B-V)\n",
    "$$\n",
    "or \n",
    "$$\n",
    "k(\\lambda) = \\frac{A_\\lambda}{A_V} R_V\n",
    "$$\n",
    "The color excess can be calculated if the intrinsic ratio of two lines is known\n",
    "$$\n",
    "\\begin{align}\n",
    "E(B-V) &= \\frac{E(F_2-F_1)}{k(\\lambda_2) -k(\\lambda_1)} \\\\\n",
    "&=\\frac{2.5}{k(\\lambda_2) - k(\\lambda_1)} \\log_{10} \\left[ \\frac{(F_1 / F_2)_\\text{obs}}{(F_1 / F_2)_\\text{int}} \\right] \n",
    "\\end{align}\n",
    "$$\n",
    "\n",
    "\n",
    "\n",
    "`dust_extinction.evaluate` returns $A_\\lambda / A_V$, hence we need to multiply with $R_V$ to get $k(\\lambda)$\n",
    "\n",
    "\n",
    "`dust_extinction.extinguish` returns the fractional extinction $f_\\lambda$. To get $A_\\lambda$ we need to $-2.5\\log_{10} f_\\lambda$\n",
    "\n",
    "$$\n",
    "E(B-V)_\\text{star} = 0.44 E(B-V)_\\text{nebula}\n",
    "$$\n",
    "\n",
    "### Attenuation vs extinction\n",
    "\n",
    "extinction only considers one ray of light. Therefor it will only decrease the intensity. For attenuation, a larger area and a bundle of light rays is considered. It is possible that light is scattered from one line of sight into another one."
   ]
  },
  {
   "cell_type": "code",
   "execution_count": null,
   "metadata": {},
   "outputs": [],
   "source": [
    "from dust_extinction.parameter_averages import CCM89, F99"
   ]
  },
  {
   "cell_type": "code",
   "execution_count": null,
   "metadata": {},
   "outputs": [],
   "source": [
    "Rv=3.1\n",
    "\n",
    "ext_model = CCM89(Rv=Rv)\n",
    "k = lambda lam: ext_model.evaluate(lam*u.angstrom,Rv) * Rv\n",
    "\n",
    "def calculateEbv(F1,F2,lam1,lam2,Rint):\n",
    "    '''\n",
    "    \n",
    "    Rint : float\n",
    "        intrinsic flux ratio flux1/flux2\n",
    "    '''\n",
    "        \n",
    "    with np.errstate(divide='ignore', invalid='ignore'):\n",
    "        Ebv = 2.5 / (k(lam2)-k(lam1)) * np.log10(F1/F2/Rint)\n",
    "    \n",
    "    Ebv[~np.isfinite(Ebv)] = np.nan\n",
    "    \n",
    "    return Ebv\n",
    "\n",
    "Ebv = calculateEbv(galaxy.HA6562,galaxy.HB4861,6562,4861,2.86)\n",
    "Ebv[(galaxy.HB4861 / galaxy.HB4861_err < 5) & (galaxy.HA6562 / galaxy.HA6562_err < 15)] = np.nan\n",
    "\n",
    "Av = Ebv * Rv\n",
    "\n",
    "\n",
    "norm = simple_norm(Av,'linear',clip=False,min_cut=-5,max_cut=5)\n",
    "im = plt.imshow(Av,origin='lower',norm=norm)\n",
    "plt.colorbar(im)\n",
    "plt.show()"
   ]
  },
  {
   "cell_type": "code",
   "execution_count": null,
   "metadata": {},
   "outputs": [],
   "source": [
    "row = sources[1]\n",
    "\n",
    "Av = np.array([galaxy.Av[int(row['x']),int(row['y'])] for row in sources])"
   ]
  },
  {
   "cell_type": "code",
   "execution_count": null,
   "metadata": {},
   "outputs": [],
   "source": [
    "ext_model.extinguish(5007*u.angstrom,Av=Av)"
   ]
  },
  {
   "cell_type": "code",
   "execution_count": null,
   "metadata": {},
   "outputs": [],
   "source": [
    "x*ext_model.evaluate(5007*u.angstrom,Rv=3.1)"
   ]
  },
  {
   "cell_type": "code",
   "execution_count": null,
   "metadata": {},
   "outputs": [],
   "source": [
    "x=0.\n",
    "10**(-0.4*x*k(5007)/Rv)"
   ]
  },
  {
   "cell_type": "code",
   "execution_count": null,
   "metadata": {},
   "outputs": [],
   "source": [
    "ext_model.extinguish(5007*u.angstrom,Av=x)"
   ]
  },
  {
   "cell_type": "code",
   "execution_count": null,
   "metadata": {},
   "outputs": [],
   "source": [
    "external = Path('g:/Archive')\n",
    "\n",
    "with fits.open(external / 'MUSE' / 'AUXILIARY' / 'AVmaps' / 'fits' / f'{galaxy.name}_AV_caseB_negnan_conv_broad_Ha15_Hb5.fits') as hdul:\n",
    "    AVmap = hdul[0].data"
   ]
  },
  {
   "cell_type": "code",
   "execution_count": null,
   "metadata": {},
   "outputs": [],
   "source": [
    "#norm = simple_norm(AVmap,'linear',clip=False,percent=99.9)\n",
    "im = plt.imshow(AVmap,origin='lower',norm=norm)\n",
    "plt.colorbar(im)\n",
    "plt.show()"
   ]
  },
  {
   "cell_type": "code",
   "execution_count": null,
   "metadata": {},
   "outputs": [],
   "source": [
    "dif = np.abs((AVmap-Av)/Av)\n",
    "norm = simple_norm(dif,'linear',clip=False,min_cut=0,max_cut=1)\n",
    "fig = plt.figure(figsize=(10,10))\n",
    "im = plt.imshow(dif,origin='lower',norm=norm)\n",
    "plt.colorbar(im)\n",
    "plt.show()"
   ]
  },
  {
   "cell_type": "code",
   "execution_count": null,
   "metadata": {},
   "outputs": [],
   "source": [
    "box_size = 4\n",
    "xmax, ymax = Av.shape\n",
    "\n",
    "out = np.zeros(Av.shape)\n",
    "\n",
    "for i in range(xmax):\n",
    "    for j in range(ymax):\n",
    "        mask = slice(max(0,i-box_size),min(i+box_size,xmax)),slice(max(0,j-box_size),min(j+box_size,ymax))        \n",
    "        out[i,j] = np.nanmean(Av[mask])"
   ]
  },
  {
   "cell_type": "code",
   "execution_count": null,
   "metadata": {},
   "outputs": [],
   "source": [
    "np.nanmean(out[(out<np.inf) & (out>-np.inf)])"
   ]
  },
  {
   "cell_type": "code",
   "execution_count": null,
   "metadata": {},
   "outputs": [],
   "source": [
    "lam = 5007\n",
    "Alam =  ext_model.evaluate(lam*u.angstrom,Rv) * AVmap"
   ]
  },
  {
   "cell_type": "code",
   "execution_count": null,
   "metadata": {},
   "outputs": [],
   "source": [
    "def presentation(galaxy,parameters,filename):\n",
    "    '''\n",
    "    Plot data in galaxy for different lines and overplot the position\n",
    "    of detected sources\n",
    "    '''\n",
    "\n",
    "    if \"zoomin\" in parameters[galaxy.name]:\n",
    "        x,y,width = 380,400,200\n",
    "        height = width * galaxy.shape[0] / galaxy.shape[1]\n",
    "\n",
    "        if x+width > galaxy.shape[1]:\n",
    "            print(f'cutout is too wide')\n",
    "            new_width =  galaxy.shape[1] - x\n",
    "            height *= new_width / width \n",
    "            width = new_width\n",
    "\n",
    "        if y+height > galaxy.shape[0]:\n",
    "            print(f'cutout is to high')\n",
    "            new_height =  galaxy.shape[0] - y\n",
    "            width *= new_height / height\n",
    "            height = new_height\n",
    "\n",
    "    else:\n",
    "        x,y=0,0\n",
    "        height,width = galaxy.shape\n",
    "\n",
    "    # ====== define input parameters =============================\n",
    "    labels=['SII6716','HA6562','OIII5006']\n",
    "    wcs=galaxy.wcs\n",
    "    # ============================================================\n",
    "\n",
    "    from pymuse.plot.plot import create_RGB\n",
    "    #rgb = create_RGB(galaxy.HA6562,galaxy.OIII5006,galaxy.SII6716,percentile=97)\n",
    "    rgb = create_RGB(galaxy.HA6562,galaxy.OIII5006_DAP,galaxy.SII6716,weights=[0.8,1,0.9],percentile=[97,97,97])\n",
    "\n",
    "    table = tbl\n",
    "    #table = tbl[tbl['mOIII']<galaxy.completeness_limit]\n",
    "\n",
    "    fig = plt.figure(figsize=(6.974,6.974/2))\n",
    "    ax1 = fig.add_subplot(121,projection=wcs)\n",
    "    ax2 = fig.add_subplot(122)\n",
    "\n",
    "    norm = simple_norm(galaxy.OIII5006_DAP,'linear',clip=False,max_percent=98)\n",
    "    ax1.imshow(galaxy.OIII5006_DAP,norm=norm,cmap=plt.cm.Greens)\n",
    "\n",
    "    norm = simple_norm(galaxy.OIII5006_DAP,'linear',clip=False,max_percent=98)\n",
    "    ax2.imshow(galaxy.OIII5006_DAP,norm=norm,cmap=plt.cm.Greens)\n",
    "\n",
    "    \n",
    "    \n",
    "    ax1.add_patch(mpl.patches.Rectangle((x,y),width,height,linewidth=0.3,edgecolor='k',facecolor='none'))\n",
    "    ax2.set_xlim([x,x+width])\n",
    "    ax2.set_ylim([y,y+height])\n",
    "\n",
    "    ax1.set(title=r'O[III]',\n",
    "            xlabel='R.A. (J2000)',\n",
    "            ylabel='Dec. (J2000)')\n",
    "\n",
    "            \n",
    "    ax2.set_xticks([])\n",
    "    ax2.set_yticks([])\n",
    "\n",
    "    # format ticks with wcs\n",
    "    # https://docs.astropy.org/en/stable/visualization/wcsaxes/ticks_labels_grid.html\n",
    "    ax1.coords[0].set_ticks(number=3)\n",
    "    ax1.coords[1].set_ticks(number=4)\n",
    "\n",
    "\n",
    "    # https://matplotlib.org/3.1.3/api/_as_gen/matplotlib.patches.ConnectionPatch.html\n",
    "    con = mpl.patches.ConnectionPatch(xyA=((x+width)/galaxy.shape[1],(y+height)/galaxy.shape[0]), xyB=(0,1), \n",
    "                                      coordsA=\"axes fraction\", coordsB=\"axes fraction\",\n",
    "                                      axesA=ax1, axesB=ax2, color=\"black\",linewidth=0.3)\n",
    "    ax2.add_artist(con)\n",
    "    con = mpl.patches.ConnectionPatch(xyA=((x+width)/galaxy.shape[1],(y)/galaxy.shape[0]), xyB=(0,0), \n",
    "                                      coordsA=\"axes fraction\", coordsB=\"axes fraction\",\n",
    "                                      axesA=ax1, axesB=ax2, color=\"black\",linewidth=0.3)\n",
    "    ax2.add_artist(con)\n",
    "\n",
    "    plt.show()\n",
    "    #plt.savefig(filename,bbox_inches='tight',dpi=600)\n",
    "\n",
    "presentation(galaxy,parameters,'test.pdf')"
   ]
  },
  {
   "cell_type": "code",
   "execution_count": null,
   "metadata": {},
   "outputs": [],
   "source": [
    "import yaml"
   ]
  },
  {
   "cell_type": "code",
   "execution_count": null,
   "metadata": {},
   "outputs": [],
   "source": [
    "with open('parameters.yml', 'w') as outfile:\n",
    "    yaml.dump(parameters, outfile, default_flow_style=False)"
   ]
  },
  {
   "cell_type": "code",
   "execution_count": null,
   "metadata": {},
   "outputs": [],
   "source": [
    "with open(\"parameters.yml\", 'r') as stream:\n",
    "    parameters_loaded = yaml.safe_load(stream)"
   ]
  },
  {
   "cell_type": "code",
   "execution_count": null,
   "metadata": {},
   "outputs": [],
   "source": [
    "filename = basedir / 'data' / 'external' / 'phangs_sample_table_v1p5.fits'\n",
    "with fits.open(filename) as hdul:\n",
    "    sample_table = Table(hdul[1].data)\n",
    "\n",
    "muse_sample = sample_table[sample_table['survey_muse_status']!='not_in_survey']\n"
   ]
  }
 ],
 "metadata": {
  "kernelspec": {
   "display_name": "Python 3",
   "language": "python",
   "name": "python3"
  },
  "language_info": {
   "codemirror_mode": {
    "name": "ipython",
    "version": 3
   },
   "file_extension": ".py",
   "mimetype": "text/x-python",
   "name": "python",
   "nbconvert_exporter": "python",
   "pygments_lexer": "ipython3",
   "version": "3.7.7"
  },
  "pycharm": {
   "stem_cell": {
    "cell_type": "raw",
    "metadata": {
     "collapsed": false
    },
    "source": []
   }
  },
  "toc": {
   "base_numbering": 1,
   "nav_menu": {},
   "number_sections": true,
   "sideBar": true,
   "skip_h1_title": false,
   "title_cell": "Table of Contents",
   "title_sidebar": "Contents",
   "toc_cell": false,
   "toc_position": {
    "height": "678.667px",
    "left": "23px",
    "top": "143.333px",
    "width": "212px"
   },
   "toc_section_display": true,
   "toc_window_display": true
  }
 },
 "nbformat": 4,
 "nbformat_minor": 2
}
