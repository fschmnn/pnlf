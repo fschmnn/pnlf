{
 "cells": [
  {
   "cell_type": "markdown",
   "metadata": {},
   "source": [
    "# Planetary Nebula Production <a class=\"tocSkip\">\n",
    "    \n",
    "This notebook is used to test and showcase the results of my first project. I use spectroscopic data from the [Multi Unit Spectroscopic Explorer](https://www.eso.org/sci/facilities/develop/instruments/muse.html) (MUSE) that has been observed as part of the [PHANGS](https://sites.google.com/view/phangs/home) collaboration.\n",
    "    \n",
    "I will use a set of line maps of emission lines to identify Planetary Nebula in the data an measure their brightness. This can then be used to fit an empiric relation and hence measure the distance to the galaxy.\n",
    "    \n",
    "This notebook is used for developement. Final code is moved to the `pnlf` packge in the `src` folder. Any production scripts reside in the `scripts` folder."
   ]
  },
  {
   "cell_type": "markdown",
   "metadata": {},
   "source": [
    "## Preparation\n",
    " \n",
    "### Load Basic Packages\n",
    "    \n",
    "First we load a bunch of common packages that are used across the project. More specific packages that are only used in one section are loaded later to make it clear where they belong to (this also applies to all custom moduls that were written for this project)."
   ]
  },
  {
   "cell_type": "code",
   "execution_count": null,
   "metadata": {},
   "outputs": [],
   "source": [
    "# reload modules after they have been modified\n",
    "%load_ext autoreload\n",
    "%autoreload 2\n",
    "\n",
    "# this imports packages like numpy or astropy \n",
    "from pnlf.packages import *\n",
    "# constants that are used across multiple functions\n",
    "from pnlf.constants import tab10, single_column, two_column\n",
    "\n",
    "%matplotlib inline\n",
    "%config InlineBackend.figure_format = 'retina'"
   ]
  },
  {
   "cell_type": "markdown",
   "metadata": {},
   "source": [
    "we use the `logging` module to handle informations and warnings (this does not always work as expected in jupyter notebooks)."
   ]
  },
  {
   "cell_type": "code",
   "execution_count": null,
   "metadata": {},
   "outputs": [],
   "source": [
    "logging.basicConfig(stream=sys.stdout,format='%(levelname)s: %(message)s',level=logging.INFO)\n",
    "logger = logging.getLogger(__name__)\n",
    "logging.getLogger('matplotlib').setLevel(logging.WARNING)"
   ]
  },
  {
   "cell_type": "markdown",
   "metadata": {},
   "source": [
    "### Read in data\n",
    "\n",
    "this uses the `ReadLineMaps` class from the `pnlf.io` module. To use it, we first need to specify the path to the data folder\n",
    "\n",
    "IC5332, NGC628, NGC1087, NGC1365, NGC1512, NGC1566, NGC1672, NGC2835, NGC3351, NGC3627, NGC4254, NGC4535, NGC5068"
   ]
  },
  {
   "cell_type": "code",
   "execution_count": null,
   "metadata": {},
   "outputs": [],
   "source": [
    "from pnlf.io import ReadLineMaps\n",
    "\n",
    "name = 'NGC1512'\n",
    "\n",
    "#with open(basedir / 'data' / 'interim' / 'parameters.json') as json_file:\n",
    "#    parameters = json.load(json_file)\n",
    "with open(basedir / 'data' / 'interim' / 'parameters.yml') as yml_file:\n",
    "    parameters = yaml.load(yml_file,Loader=yaml.FullLoader)\n",
    "    \n",
    "# table to save all results\n",
    "results = ascii.read(basedir/'data'/'interim'/ 'results.txt',format='fixed_width_two_line',delimiter_pad=' ',position_char='=')\n",
    "results.add_index('name')    \n",
    "\n",
    "sample_table = ascii.read(basedir/'data'/'interim'/'sample.txt')\n",
    "sample_table.add_index('Name')\n",
    "sample_table['SkyCoord'] = SkyCoord(sample_table['R.A.'],sample_table['Dec.'])\n",
    "\n",
    "# first we need to specify the path to the raw data\n",
    "basedir = Path('..')\n",
    "data_raw = basedir / 'data' / 'raw' / 'MUSE' / 'DR2'\n",
    "#data_raw = Path('d:\\downloads\\MUSEDAP')\n",
    "data_ext = Path('g:\\Archive')\n",
    "\n",
    "# read in the data we will be working with and print some information\n",
    "galaxy = ReadLineMaps(data_raw,name,**parameters[name])\n",
    "galaxy.center = sample_table.loc[name]['SkyCoord'].to_pixel(galaxy.wcs)"
   ]
  },
  {
   "cell_type": "markdown",
   "metadata": {},
   "source": [
    "### Mask unwanted regions"
   ]
  },
  {
   "cell_type": "code",
   "execution_count": null,
   "metadata": {},
   "outputs": [],
   "source": [
    "from regions import PixCoord,EllipseAnnulusPixelRegion,EllipsePixelRegion\n",
    "\n",
    "angle = sample_table.loc[name]['posang']-90\n",
    "eccentricity = np.sin(sample_table.loc[name]['Inclination']*u.deg).value\n",
    "r25 = sample_table.loc[name]['r25']\n",
    "\n",
    "aperture = EllipsePixelRegion(PixCoord(*galaxy.center),\n",
    "                              width=r25,\n",
    "                              height=np.sqrt((r25)**2 * (1-eccentricity**2)),\n",
    "                              angle=angle*u.deg)\n",
    "\n",
    "center_mask = aperture.to_mask().to_image(galaxy.shape).astype(bool)\n",
    "\n",
    "from pnlf.auxiliary import circular_mask\n",
    "from pnlf.plot.plot import create_RGB\n",
    "    \n",
    "mask = np.zeros(galaxy.shape,dtype=bool)\n",
    "mask |= galaxy.star_mask.astype(bool)\n",
    "mask[galaxy.HA6562>getattr(galaxy,'HAmask',np.nanpercentile(galaxy.HA6562,95))]=True\n",
    "mask |=center_mask\n",
    "\n",
    "#if hasattr(galaxy,'mask'):\n",
    "#    mask[circular_mask(*galaxy.shape,galaxy.center,radius=galaxy.mask)] = True\n",
    "\n",
    "img = create_RGB(galaxy.HA6562,galaxy.OIII5006_DAP,galaxy.SII6716,weights=[0.6,1,0.6],percentile=[95,99.,95])\n",
    "img[mask,...] = (1,0.7,0.1)\n",
    "\n",
    "fig = plt.figure(figsize=(8,8))\n",
    "ax  = fig.add_subplot()\n",
    "\n",
    "#norm = simple_norm(galaxy.OIII5006_DAP,clip=False,max_percent=95)\n",
    "ax.imshow(img,origin='lower')\n",
    "plt.show()"
   ]
  },
  {
   "cell_type": "markdown",
   "metadata": {},
   "source": [
    "## Source Detection\n",
    "\n",
    "we use the DAP maps because they should have a better signal to noise"
   ]
  },
  {
   "cell_type": "code",
   "execution_count": null,
   "metadata": {},
   "outputs": [],
   "source": [
    "from photutils import DAOStarFinder            # DAOFIND routine to detect sources\n",
    "from photutils import IRAFStarFinder           # IRAF starfind routine to detect star\n",
    "\n",
    "from pnlf.detection import detect_unresolved_sources"
   ]
  },
  {
   "cell_type": "code",
   "execution_count": null,
   "metadata": {},
   "outputs": [],
   "source": [
    "sources = detect_unresolved_sources(galaxy,\n",
    "                                    'OIII5006_DAP',\n",
    "                                    StarFinder=DAOStarFinder,\n",
    "                                    threshold=galaxy.threshold,\n",
    "                                    exclude_region=mask,\n",
    "                                    oversize=1.,\n",
    "                                    roundlo=-1,\n",
    "                                    roundhi=1,\n",
    "                                    sharplo=0,\n",
    "                                    sharphi=1,\n",
    "                                    save=False)"
   ]
  },
  {
   "cell_type": "markdown",
   "metadata": {
    "heading_collapsed": true
   },
   "source": [
    "## Completeness limit"
   ]
  },
  {
   "cell_type": "code",
   "execution_count": null,
   "metadata": {
    "hidden": true
   },
   "outputs": [],
   "source": [
    "from pnlf.detection import completeness_limit"
   ]
  },
  {
   "cell_type": "code",
   "execution_count": null,
   "metadata": {
    "hidden": true
   },
   "outputs": [],
   "source": [
    "print(f'for {galaxy.name}')\n",
    "mock_sources = completeness_limit(\n",
    "                    galaxy,\n",
    "                    'OIII5006_DAP',\n",
    "                    DAOStarFinder,\n",
    "                    threshold=galaxy.threshold,\n",
    "                    iterations=5,\n",
    "                    stars_per_mag=50,\n",
    "                    exclude_region=mask,\n",
    "                    roundlo=-galaxy.roundness,\n",
    "                    roundhi=galaxy.roundness,\n",
    "                    sharplo=galaxy.sharplo,\n",
    "                    sharphi=galaxy.sharphi,\n",
    "                    exclude_border=True,\n",
    "                    plot=False\n",
    "                                 )"
   ]
  },
  {
   "cell_type": "code",
   "execution_count": null,
   "metadata": {
    "hidden": true
   },
   "outputs": [],
   "source": [
    "for x_std in np.unique(mock_sources['x_stddev']):\n",
    "    sub_sample = mock_sources[mock_sources['x_stddev']==x_std]\n",
    "    \n",
    "    for a in np.unique(sub_sample['amplitude']):\n",
    "        sub_sub = sub_sample[sub_sample['amplitude']==a]\n",
    "\n",
    "        found = np.sum(sub_sub['sep']<0.5)\n",
    "        total = len(sub_sub)\n",
    "        print(f'a={a:.2f}: {found} of {total} recovered ({found/total*100:.2f})')\n",
    "        \n",
    "    print(30*'-')"
   ]
  },
  {
   "cell_type": "markdown",
   "metadata": {},
   "source": [
    "## Flux measurement\n",
    "\n",
    "In the previous step we detected potential PN candidates by their [OIII] emission. This means we know their position but lack exact flux measurments. In this section we measure the flux of the identified objects in different emission lines that are used in later steps. "
   ]
  },
  {
   "cell_type": "code",
   "execution_count": null,
   "metadata": {},
   "outputs": [],
   "source": [
    "from pnlf.photometry import measure_flux "
   ]
  },
  {
   "cell_type": "code",
   "execution_count": null,
   "metadata": {},
   "outputs": [],
   "source": [
    "Rv  = 3.1\n",
    "aperture_size = 2.5 #galaxy.aperturesize\n",
    "\n",
    "flux = measure_flux(galaxy,\n",
    "                    sources,\n",
    "                    alpha=galaxy.power_index,\n",
    "                    Rv=Rv,\n",
    "                    Ebv=galaxy.Ebv,\n",
    "                    extinction='MW',\n",
    "                    background='local',\n",
    "                    aperture_size=aperture_size)\n",
    "\n",
    "# calculate magnitudes from measured fluxes\n",
    "flux['mOIII'] = -2.5*np.log10(flux['OIII5006']*1e-20) - 13.74\n",
    "flux['dmOIII'] = np.abs( 2.5/np.log(10) * flux['OIII5006_err'] / flux['OIII5006'] )"
   ]
  },
  {
   "cell_type": "code",
   "execution_count": null,
   "metadata": {},
   "outputs": [],
   "source": [
    "tmp = tbl[tbl['type']=='PN']"
   ]
  },
  {
   "cell_type": "code",
   "execution_count": null,
   "metadata": {},
   "outputs": [],
   "source": [
    "plt.scatter(tmp['OIII5006_bkg_global'],tmp['OIII5006_bkg_local'])\n",
    "#plt.scatter(tmp['mOIII'],100*np.abs((tmp['OIII5006_bkg_local']-tmp['OIII5006_bkg_global'])/tmp['OIII5006_bkg_global']))\n",
    "lim = [-4000,2e3]\n",
    "plt.plot(lim,lim,color='black')\n",
    "plt.xlim(lim)\n",
    "plt.ylim(lim)\n",
    "plt.show()"
   ]
  },
  {
   "cell_type": "markdown",
   "metadata": {},
   "source": [
    "## Emission line diagnostics    "
   ]
  },
  {
   "cell_type": "code",
   "execution_count": null,
   "metadata": {},
   "outputs": [],
   "source": [
    "from pnlf.analyse import emission_line_diagnostics\n",
    "\n",
    "print(f'emission line diagnostics for {galaxy.name}')\n",
    "print(f'mu={galaxy.mu:.2f}, cl={galaxy.completeness_limit}')\n",
    "tbl = emission_line_diagnostics(flux,galaxy.mu,galaxy.completeness_limit) \n",
    "\n",
    "# create additional columns that are needed for the classification\n",
    "tbl['sharp'] = sources['sharpness']\n",
    "tbl['round'] = sources['roundness2']\n",
    "tbl['SkyCoord'] = SkyCoord.from_pixel(tbl['x'],tbl['y'],galaxy.wcs)\n",
    "tbl['exclude'] = False\n",
    "tbl['overluminous'] = False\n",
    "\n",
    "slow  = galaxy.sharplo  \n",
    "shigh = galaxy.sharphi \n",
    "r     = galaxy.roundness \n",
    "\n",
    "# table contains all detected objects. here we mask all undesired objects.\n",
    "c_shape = ((tbl['sharp']>slow) & (tbl['sharp']<shigh) & (np.abs(tbl['round'])<r)) \n",
    "c_PN    = (tbl['type']=='PN')\n",
    "c_SNR   = (tbl['SNRorPN'] & (tbl['type']=='SNR'))\n",
    "c_detec = tbl['OIII5006_detection'] \n",
    "c_limit = (tbl['mOIII']<galaxy.completeness_limit) "
   ]
  },
  {
   "cell_type": "code",
   "execution_count": null,
   "metadata": {},
   "outputs": [],
   "source": [
    "from pnlf.plot.plot import single_cutout\n",
    "\n",
    "tmp = tbl[c_shape & (c_PN|c_SNR) & c_detec & ~tbl['exclude']].copy()\n",
    "tmp.sort('mOIII')\n",
    "\n",
    "s = 32\n",
    "for row in tmp[:5]:\n",
    "    try:\n",
    "        ax1,ax2,ax3 = single_cutout(galaxy,row['x'],row['y'],size=s,percentile=95,aperture_size=aperture_size*row['fwhm']/2)\n",
    "    except:\n",
    "        print(f'error for {row[\"id\"]}')\n",
    "    ax1.set_title(row['id'])\n",
    "    ax2.set_title(f'mOIII = {row[\"mOIII\"]:.2f}')\n",
    "    ax3.set_title(f'r={row[\"round\"]:.2f}, s={row[\"sharp\"]:.2f}, {row[\"type\"]}')"
   ]
  },
  {
   "cell_type": "code",
   "execution_count": null,
   "metadata": {},
   "outputs": [],
   "source": [
    "# remove all objects defined here from the sample\n",
    "# define masks as slices\n",
    "exclude = {\n",
    " 'IC5332'  : [1665,665,1335,1432,495,873,1333],\n",
    " 'NGC0628' : [882,593],\n",
    " #'NGC0628' : [1264,1260],\n",
    " 'NGC1087' : [877,559,338,109],\n",
    " 'NGC1300' : [1863,2622,2779,2648,3489,2522,2586,2593],\n",
    " 'NGC1365' : [824,1110,996,176,1169,803],\n",
    " 'NGC1385' : [209,294,54],\n",
    " 'NGC1433' : [4864,4932],\n",
    " #'NGC1512' : [4477],\n",
    " 'NGC1512' : [3791,3808,3799,3837,277,456,1307],\n",
    " 'NGC1566' : [16,442,518],\n",
    " 'NGC1672' : [462,295,401,250],\n",
    " 'NGC2835' : [178,416,287,673,806,210],\n",
    " #'NGC3627' : [407,423,377,471,459,975,809],\n",
    " 'NGC3627' : [622,652,816],\n",
    " 'NGC4254' : [448,346,1099,474,1963],\n",
    " 'NGC4303' : [363,1220,432],\n",
    " 'NGC4535' : [770],\n",
    " 'NGC5068' : [153],\n",
    " 'NGC7496' : [465,142,467,36,478]\n",
    "}\n",
    "\n",
    "overluminous = {\n",
    " 'NGC1300' : [3444],\n",
    " 'NGC1433' : [4942],\n",
    " 'NGC1512' : [41],\n",
    " 'NGC1566' : [700,316]\n",
    "}\n",
    "\n",
    "indices = np.where(np.in1d(tbl['id'], exclude.get(galaxy.name,[])))[0]\n",
    "tbl['exclude'][indices]=True\n",
    "indices = np.where(np.in1d(tbl['id'], overluminous.get(galaxy.name,[])))[0]\n",
    "tbl['overluminous'][indices]=True"
   ]
  },
  {
   "cell_type": "markdown",
   "metadata": {},
   "source": [
    "## Planetary nebula luminosity function\n",
    "\n",
    "**error budget:**\n",
    "\n",
    "* PSF shape: power index +- 0.1 -> mu+-0.01\n",
    "             FWHM += 0.1 px -> mu+-0.02\n",
    "* Photometry: mu+-0.04"
   ]
  },
  {
   "cell_type": "code",
   "execution_count": null,
   "metadata": {},
   "outputs": [],
   "source": [
    "from pnlf.analyse import MaximumLikelihood1D, PNLF, pnlf\n",
    "from pnlf.plot.pnlf import plot_pnlf\n",
    "from pnlf.auxiliary import mu_to_parsec\n",
    "\n",
    "dPSF = getattr(galaxy,'dFWHM',0.05)\n",
    "binsize = galaxy.binsize\n",
    "\n",
    "criteria = c_shape & (c_PN) & c_detec & ~tbl['exclude'] & ~tbl['overluminous']\n",
    "data = tbl[np.where(criteria & c_limit)]['mOIII']\n",
    "err = tbl[np.where(criteria & c_limit)]['dmOIII']\n",
    "    \n",
    "print(f'analysing {galaxy.name}')\n",
    "print(f'completeness limit = {galaxy.completeness_limit}, binsize = {binsize}')\n",
    "fitter = MaximumLikelihood1D(pnlf,data,mhigh=galaxy.completeness_limit,Mmax=-4.47)\n",
    "galaxy.mu,mu_p,mu_m = fitter([29])\n",
    "mu_p = np.sqrt(mu_p**2+np.nanmean(err)**2+dPSF**2)\n",
    "mu_m = np.sqrt(mu_m**2+np.nanmean(err)**2+dPSF**2)\n",
    "\n",
    "print(f'sample table: {parameters[name][\"mu\"]}')\n",
    "d,(dp,dm)=mu_to_parsec(galaxy.mu,[mu_p,mu_m])\n",
    "print('{:.2f} + {:.2f} - {:.2f}'.format(d,dp,dm))\n",
    "#print('{:.2f} + {:.2f} - {:.2f}'.format(*mu_to_parsec(galaxy.mu,[dp,dm])))\n",
    "\n",
    "#Plot PNLF\n",
    "filename = basedir / 'reports' / f'{galaxy.name}' / f'{galaxy.name}_PNLF'\n",
    "axes = plot_pnlf(tbl[criteria]['mOIII'],\n",
    "                 galaxy.mu,\n",
    "                 galaxy.completeness_limit,\n",
    "                 binsize=binsize,\n",
    "                 mhigh=29,\n",
    "                 #filename=filename,\n",
    "                 color=tab10[0])\n"
   ]
  },
  {
   "cell_type": "code",
   "execution_count": null,
   "metadata": {},
   "outputs": [],
   "source": [
    "from scipy.stats import ks_2samp\n",
    "from pnlf.analyse import sample_pnlf\n",
    "\n",
    "sampled_data = sample_pnlf(10000,galaxy.mu,galaxy.completeness_limit)\n",
    "ks_2samp(data,sampled_data)\n"
   ]
  },
  {
   "cell_type": "markdown",
   "metadata": {},
   "source": [
    "### Compare to literature"
   ]
  },
  {
   "cell_type": "code",
   "execution_count": null,
   "metadata": {},
   "outputs": [],
   "source": [
    "from pnlf.plot.pnlf import compare_distances\n",
    "print(galaxy.name)\n",
    "filename = basedir / 'reports' / galaxy.name / f'{galaxy.name}_distances'\n",
    "distances = compare_distances(galaxy.name,galaxy.mu,mu_p,mu_m,filename=filename)"
   ]
  },
  {
   "cell_type": "markdown",
   "metadata": {},
   "source": [
    "### Save catalogue to file"
   ]
  },
  {
   "cell_type": "code",
   "execution_count": null,
   "metadata": {},
   "outputs": [],
   "source": [
    "from pnlf.io import write_table\n",
    "\n",
    "filename = basedir / 'data' / 'catalogues' \n",
    "t = write_table(tbl[c_shape &  c_detec & c_limit & ~tbl['exclude']],galaxy.name,filename)"
   ]
  },
  {
   "cell_type": "code",
   "execution_count": null,
   "metadata": {},
   "outputs": [],
   "source": [
    "# this saves the entire table  \n",
    "tbl_out = tbl[c_shape & (tbl['type']!='NaN') & c_detec]\n",
    "skycoord = SkyCoord.from_pixel(tbl_out['x'],tbl_out['y'],galaxy.wcs)\n",
    "tbl_out['RaDec'] = skycoord.to_string(style='hmsdms',precision=2)\n",
    "\n",
    "for col in tbl_out.colnames:\n",
    "    if col not in ['id','RaDec','type','SNRorPN','SkyCoord']:\n",
    "        if not col.endswith('detection'):\n",
    "            tbl_out[col].info.format = '%.3f' \n",
    "            \n",
    "filename = basedir / 'data' / 'catalogues' / f'{galaxy.name}_nebulae.txt'\n",
    "\n",
    "with open(filename,'w',newline='\\n') as f:\n",
    "    ascii.write(tbl_out,f,format='fixed_width_two_line',overwrite=True,delimiter_pad=' ',position_char='=')\n",
    "print(f'{len(tbl_out)} objects saved to ' + str(filename))   "
   ]
  },
  {
   "cell_type": "markdown",
   "metadata": {},
   "source": [
    "### Visualize the result of the classification"
   ]
  },
  {
   "cell_type": "code",
   "execution_count": null,
   "metadata": {},
   "outputs": [],
   "source": [
    "from pnlf.plot.pnlf import plot_emission_line_ratio\n",
    "\n",
    "for t in ['PN','SNR','HII']:\n",
    "    print(f\"{t}: v_sig = {np.nanmean(tbl[(tbl['type']==t) &  (tbl['mOIII']<galaxy.completeness_limit) & (tbl['v_SIGMA_S/N']>9)]['v_SIGMA']):.2f}\")\n",
    "\n",
    "filename = basedir / 'reports' / galaxy.name / f'{galaxy.name}_emission_line'\n",
    "plot_emission_line_ratio(tbl[c_shape & c_limit & ~tbl['exclude']],galaxy.mu,completeness=galaxy.completeness_limit,filename=filename)\n"
   ]
  },
  {
   "cell_type": "code",
   "execution_count": null,
   "metadata": {},
   "outputs": [],
   "source": [
    "from pnlf.plot.classification import classification_map\n",
    "#parameters[galaxy.name]['zoomin'] = [400,500,400]\n",
    "print(galaxy.name)\n",
    "filename = basedir / 'reports' / galaxy.name / f'{galaxy.name}_detections_classification.pdf'\n",
    "classification_map(galaxy,parameters,tbl[c_shape & c_detec & c_limit],filename)"
   ]
  },
  {
   "cell_type": "markdown",
   "metadata": {},
   "source": [
    "### With and without SNR"
   ]
  },
  {
   "cell_type": "code",
   "execution_count": null,
   "metadata": {},
   "outputs": [],
   "source": [
    "from pnlf.analyse import MaximumLikelihood1D, PNLF, pnlf\n",
    "from pnlf.plot.pnlf import plot_pnlf\n",
    "\n",
    "criteria1 = c_shape & (c_PN) & c_detec & ~tbl['exclude'] & ~tbl['overluminous']\n",
    "data1 = tbl[np.where(c_limit & criteria1)]['mOIII']\n",
    "err1  = tbl[np.where(c_limit & criteria1)]['dmOIII']\n",
    "\n",
    "criteria2 = c_shape & (c_PN|c_SNR)  & c_detec & ~tbl['exclude'] & ~tbl['overluminous']\n",
    "data2 = tbl[np.where(c_limit & criteria2)]['mOIII']\n",
    "err2  = tbl[np.where(c_limit & criteria2)]['dmOIII']\n",
    "\n",
    "print(f'{galaxy.name}: literature {galaxy.mu:.3f}')\n",
    "print(f'completeness limit = {galaxy.completeness_limit}')\n",
    "\n",
    "fitter = MaximumLikelihood1D(pnlf,data1,err=err1,mhigh=galaxy.completeness_limit)\n",
    "mu1,dp1,dm1 = fitter([28])\n",
    "dp1 = np.sqrt(dp1**2+np.nanmean(err1)**2+dPSF**2)\n",
    "dm1 = np.sqrt(dm1**2+np.nanmean(err1)**2+dPSF**2)\n",
    "fitter = MaximumLikelihood1D(pnlf,data2,err=err2,mhigh=galaxy.completeness_limit)\n",
    "mu2,dp2,dm2 = fitter([28])\n",
    "dp2 = np.sqrt(dp2**2+np.nanmean(err2)**2+dPSF**2)\n",
    "dm2 = np.sqrt(dm2**2+np.nanmean(err2)**2+dPSF**2)\n",
    "\n",
    "print(f'plotting result for {galaxy.name} (binsize={binsize})')\n",
    "filename = basedir / 'reports' / galaxy.name / f'{galaxy.name}_PNLF_with_SNR'\n",
    "axes = plot_pnlf(tbl[criteria1]['mOIII'],mu1,galaxy.completeness_limit,binsize=binsize,mhigh=30,color=tab10[0])\n",
    "axes = plot_pnlf(tbl[criteria2]['mOIII'],mu2,galaxy.completeness_limit,binsize=binsize,mhigh=30,filename=filename,color='grey',alpha=0.7,axes=axes)\n",
    "plt.show()"
   ]
  },
  {
   "cell_type": "markdown",
   "metadata": {},
   "source": [
    "### Calculate bolometric lumionsity\n",
    "\n",
    "https://en.wikipedia.org/wiki/Apparent_magnitude\n",
    "\n",
    "https://en.wikipedia.org/wiki/AB_magnitude\n",
    "\n",
    "https://archive.is/20121204144725/http://www.astro.utoronto.ca/~patton/astro/mags.html#selection-161.0-161.27\n",
    "\n",
    "https://www.stsci.edu/ftp/instrument_news/WFPC2/Wfpc2_phot/wfpc2_cookbook.html\n",
    "\n",
    "use zeropoints from here (page 13): \n",
    "\n",
    "http://web.ipac.caltech.edu/staff/fmasci/home/astro_refs/magsystems.pdf"
   ]
  },
  {
   "cell_type": "code",
   "execution_count": null,
   "metadata": {},
   "outputs": [],
   "source": [
    "import astropy.constants as c\n",
    "\n",
    "def V_band_to_bolometric(flux):\n",
    "    '''Convert V-band flux to Lbol\n",
    "    \n",
    "    Parameters\n",
    "    ----------\n",
    "    flux : flux in erg/s/cm2/AA\n",
    "    '''\n",
    "    \n",
    "    # we can (roughly) convert this to erg / s / cm^2 / Hz via\n",
    "    F_nu = ((550*u.nm)**2/c.c * flux).to(u.erg / (u.s*u.cm**2*u.Hz))\n",
    "\n",
    "    # define zero point in different units\n",
    "    V0_lam = 363.1e-11 * u.erg / (u.s*u.cm**2*u.AA)\n",
    "    V0_nu  = 3.64e-20 * u.erg / (u.s*u.cm**2*u.Hz)\n",
    "    B0_lam = 632e-11 * u.erg / (u.s*u.cm**2*u.AA)\n",
    "    B0_nu  = 4.26e-20 * u.erg / (u.s*u.cm**2*u.Hz)\n",
    "\n",
    "    AV = 0\n",
    "\n",
    "    # bolometric correction\n",
    "    BC_V = -0.85\n",
    "    BC_B = -1.5\n",
    "\n",
    "    mV = -2.5*np.log10(flux/V0_lam)\n",
    "    mV_nu  = -2.5*np.log10(F_nu/V0_nu)\n",
    "\n",
    "    MV = mV - results.loc[name]['(m-M)'] - AV\n",
    "\n",
    "    Lbol = 10**(-0.4*(MV-4.79)) * 10**(-0.4*(BC_V+0.07)) * u.Lsun\n",
    "    \n",
    "    return Lbol\n",
    "    \n",
    "def get_bolometric_luminosity(V_band,mask=None):\n",
    "\n",
    "    if not isinstance(mask,np.ndarray):\n",
    "        mask = np.zeros_like(V_band)\n",
    "\n",
    "    # from the DAP we have the spectral flux density in erg / s / cm^2 / AA\n",
    "    F_lam = np.nansum(V_band[~mask])*1e-20 * u.erg / (u.s*u.cm**2*u.AA)\n",
    "    \n",
    "    Lbol = V_band_to_bolometric(F_lam)\n",
    "\n",
    "    return Lbol\n",
    "\n",
    "with fits.open(data_raw/'AUXILIARY'/'Johnson'/ name / f'{name}_IMAGE_FOV_Johnson_V_WCS_Pall_mad.fits') as hdul:\n",
    "    V_band = hdul[1].data\n",
    "    V_band_header = hdul[1].header\n",
    "        \n",
    "Lbol = get_bolometric_luminosity(V_band,mask)"
   ]
  },
  {
   "cell_type": "code",
   "execution_count": null,
   "metadata": {},
   "outputs": [],
   "source": [
    "from pnlf.analyse import N25\n",
    "import datetime\n",
    "date = datetime.date.today().strftime('%Y.%m.%d')\n",
    "\n",
    "NPN25 = N25(mu1,galaxy.completeness_limit,data1,2.5)\n",
    "\n",
    "row = [name,\n",
    "       date,\n",
    "       np.sum(criteria & c_limit),\n",
    "       NPN25,\n",
    "       np.sum(c_shape & (tbl['type']=='SNR') & c_limit),\n",
    "       np.sum(c_shape & c_SNR & c_limit),\n",
    "       np.sum(tbl['exclude']),\n",
    "       Lbol/u.Lsun,\n",
    "       np.log10(NPN25/Lbol*u.Lsun),\n",
    "       Distance(distmod=mu1).to(u.Mpc).value,\n",
    "       mu1,dp1,dm1,\n",
    "       mu2,dp2,dm2,\n",
    "       np.sum(~mask)\n",
    "       ]\n",
    "\n",
    "results.loc[name] = row\n",
    "\n",
    "# save results to output table\n",
    "for col in results.colnames[2:]:\n",
    "    if col.startswith('N_'):\n",
    "        results[col].info.format = '%.0f'\n",
    "    else:\n",
    "        results[col].info.format = '%.3f'\n",
    "results['Lbol'].info.format = '%.2e'    \n",
    "    \n",
    "with open(basedir/'data'/'interim'/ 'results.txt','w',newline='\\n') as f:\n",
    "    ascii.write(results,f,format='fixed_width_two_line',overwrite=True,delimiter_pad=' ',position_char='=')"
   ]
  },
  {
   "cell_type": "code",
   "execution_count": null,
   "metadata": {},
   "outputs": [],
   "source": [
    "# save results to output table\n",
    "for col in results.colnames[2:]:\n",
    "    if col.startswith('N_'):\n",
    "        results[col].info.format = '%.0f'\n",
    "    else:\n",
    "        results[col].info.format = '%.3f'\n",
    "        \n",
    "results['err+d/Mpc'] = 2*np.log(10)*10**(results['(m-M)']/5) * results['err+(m-M)'] / 1e6\n",
    "results['err-d/Mpc'] = 2*np.log(10)*10**(results['(m-M)']/5) * results['err-(m-M)'] / 1e6\n",
    "\n",
    "with open(basedir/'data'/'interim'/ 'PHANGS_PNLF_distances.txt','w',newline='\\n') as f:\n",
    "    ascii.write(results[['name','date','(m-M)','err+(m-M)','err-(m-M)','d/Mpc','err+d/Mpc','err-d/Mpc']],f,format='fixed_width_two_line',overwrite=True,delimiter_pad=' ',position_char='=')"
   ]
  },
  {
   "cell_type": "markdown",
   "metadata": {},
   "source": [
    "## Compare to stellar mass density"
   ]
  },
  {
   "cell_type": "code",
   "execution_count": null,
   "metadata": {},
   "outputs": [],
   "source": [
    "from photutils import EllipticalAnnulus\n",
    "from regions import PixCoord,EllipseAnnulusPixelRegion,EllipsePixelRegion\n",
    "\n",
    "sample_table = ascii.read(basedir/'data'/'interim'/'sample.txt')\n",
    "sample_table.add_index('Name')\n",
    "sample_table['SkyCoord'] = SkyCoord(sample_table['R.A.'],sample_table['Dec.'])"
   ]
  },
  {
   "cell_type": "code",
   "execution_count": null,
   "metadata": {},
   "outputs": [],
   "source": [
    "x,y = sample_table.loc[name]['SkyCoord'].to_pixel(galaxy.wcs)\n",
    "angle = sample_table.loc[name]['posang']\n",
    "eccentricity = np.sin(sample_table.loc[name]['Inclination']*u.deg).value\n",
    "r25 = sample_table.loc[name]['r25']\n",
    "\n",
    "criteria = c_shape & (c_PN) & c_detec & ~tbl['exclude'] & ~tbl['overluminous']\n",
    "data = tbl[np.where(criteria & c_limit)]"
   ]
  },
  {
   "cell_type": "code",
   "execution_count": null,
   "metadata": {},
   "outputs": [],
   "source": [
    "data = tbl[np.where(criteria & c_limit)]\n",
    "\n",
    "def sort_elliptical_bins(positions,center,eccentricity=1,angle=0*u.deg,n_per_bin=10):\n",
    "\n",
    "    bins = []\n",
    "    radius = []\n",
    "    \n",
    "    r_in  = 0\n",
    "    r_out = 5\n",
    "    found = 0\n",
    "    \n",
    "    while True:\n",
    "        \n",
    "        if r_in==0:\n",
    "            aperture = EllipsePixelRegion(center,\n",
    "                                         width=r_out,\n",
    "                                         height=np.sqrt((r_out)**2 * (1-eccentricity**2)),\n",
    "                                         angle=angle)\n",
    "        else:\n",
    "            aperture = EllipseAnnulusPixelRegion(center,\n",
    "                                         inner_width  = r_in,\n",
    "                                         inner_height = np.sqrt((r_in)**2 * (1-eccentricity**2)),\n",
    "                                         outer_width  = r_out,\n",
    "                                         outer_height = np.sqrt(r_out**2 * (1-eccentricity**2)),\n",
    "                                         angle=angle)\n",
    "        \n",
    "        N = np.sum(aperture.contains(positions))\n",
    "\n",
    "        if N>n_per_bin or N+found>=len(positions):\n",
    "            found += N\n",
    "            r_in  = r_out\n",
    "            r_out = r_in+5\n",
    "            bins.append(aperture)\n",
    "            radius.append((r_in+r_out)/2)\n",
    "        else:\n",
    "            r_out+=1\n",
    "                                                 \n",
    "        if found>=len(positions):\n",
    "            print('all objects found')\n",
    "            break\n",
    "        if r_out>1.4*np.max(galaxy.whitelight.shape):\n",
    "            print('maximum radius reached')\n",
    "            break\n",
    "            \n",
    "    return bins, np.array(radius)\n",
    "\n",
    "bins, radius = sort_elliptical_bins(\n",
    "                                    positions=PixCoord(data['x'],data['y']),\n",
    "                                    center=PixCoord(x,y),\n",
    "                                    eccentricity=eccentricity,\n",
    "                                    angle=angle*u.deg,\n",
    "                                    n_per_bin=20,\n",
    "                                    )"
   ]
  },
  {
   "cell_type": "code",
   "execution_count": null,
   "metadata": {},
   "outputs": [],
   "source": [
    "def measure_radial(bins,radius,positions,data):\n",
    "    \n",
    "    data = data.copy()\n",
    "    \n",
    "    fig = plt.figure(figsize=(two_column,two_column/2))\n",
    "    ax1 = fig.add_subplot(121,projection=galaxy.wcs)\n",
    "    ax2 = fig.add_subplot(122)\n",
    "    ax3 = ax2.twinx()\n",
    "    \n",
    "    norm = simple_norm(data,'linear',clip=False,max_percent=95)\n",
    "    ax1.imshow(data,norm=norm,cmap=plt.cm.Greens_r)\n",
    "    \n",
    "    count = []\n",
    "    mass  = []\n",
    "    area  = []\n",
    "    Lbol  = []\n",
    "    \n",
    "    dummy = np.zeros_like(data)\n",
    "    dummy[~np.isnan(data)] = 1\n",
    "    data[np.isnan(data)] = 0\n",
    "\n",
    "    for aperture,r in zip(bins,radius):\n",
    "\n",
    "        patch = aperture.as_artist(facecolor='none', edgecolor='black', lw=1,ls='--')\n",
    "        ax1.add_patch(patch)\n",
    "        \n",
    "        count.append(np.sum(aperture.contains(positions)))\n",
    "        mass.append(np.sum(aperture.to_mask().multiply(data)))\n",
    "        flux = np.sum(aperture.to_mask().multiply(data))*1e-20 * u.erg / (u.s*u.cm**2*u.AA)\n",
    "        Lbol.append(V_band_to_bolometric(flux))\n",
    "        #area.append(np.sum(aperture.to_mask().multiply(dummy)))\n",
    "        area.append(aperture.area)\n",
    "        \n",
    "    count = np.array(count)\n",
    "    mass = np.array(mass)\n",
    "    area = np.array(area)\n",
    "    Lbol = np.array([L/u.Lsun for L in Lbol])\n",
    "    \n",
    "    ax2.scatter(radius/5,count/area,color=tab10[0])\n",
    "    ax3.scatter(radius/5,Lbol/area,color=tab10[1])\n",
    "    \n",
    "    ax2.set(xlabel='radius / arcsec',ylim=[min(count/area)*0.8,max(count/area)*1.2],yscale='log')\n",
    "    ax2.set_ylabel(ylabel=r'$N_{PN} / arcsec^2$',color=tab10[0])\n",
    "    ax2.tick_params(axis='y', labelcolor=tab10[0])\n",
    "    \n",
    "    ax3.set(ylim=[min(Lbol/area)*0.8,max(Lbol/area)*1.2],yscale='log')\n",
    "    ax3.set_ylabel(ylabel='flux / $arcsec^2$',color=tab10[1])\n",
    "    ax3.tick_params(axis='y', labelcolor=tab10[1])\n",
    "\n",
    "    plt.tight_layout()\n",
    "    plt.savefig(basedir/'reports'/galaxy.name/f'{galaxy.name}_PN_profile.pdf')\n",
    "    plt.show()\n",
    "    \n",
    "    return count,mass,area\n",
    " \n",
    "count,mass,area = measure_radial(bins[2:],radius[2:],positions=PixCoord(data['x'],data['y']),data=galaxy.whitelight)"
   ]
  },
  {
   "cell_type": "markdown",
   "metadata": {},
   "source": [
    "## Look at spectrum"
   ]
  },
  {
   "cell_type": "code",
   "execution_count": null,
   "metadata": {},
   "outputs": [],
   "source": [
    "from pnlf.plot.spectrum import spectrum_and_rgb\n",
    "\n",
    "filename = data_ext / 'MUSE' / 'DR1' / 'MOSAIC' / name / f'{name}_DATACUBE_FINAL.fits'\n",
    "\n",
    "with fits.open(filename , memmap=True, mode='denywrite') as hdul:\n",
    "    data_cube   = hdul[1].data\n",
    "    cube_header = hdul[1].header"
   ]
  },
  {
   "cell_type": "code",
   "execution_count": null,
   "metadata": {},
   "outputs": [],
   "source": [
    "from spectral_cube import SpectralCube"
   ]
  },
  {
   "cell_type": "code",
   "execution_count": null,
   "metadata": {},
   "outputs": [],
   "source": [
    "filename = data_ext / 'MUSE' / 'DR1' / 'MOSAIC' / name / f'{name}_DATACUBE_FINAL.fits'\n",
    "cube = SpectralCube.read(filename,format='fits',hdu='DATA',memmap=True, mode='denywrite')"
   ]
  },
  {
   "cell_type": "code",
   "execution_count": null,
   "metadata": {},
   "outputs": [],
   "source": [
    "from regions import CircleSkyRegion"
   ]
  },
  {
   "cell_type": "code",
   "execution_count": null,
   "metadata": {},
   "outputs": [],
   "source": [
    "region = CircleSkyRegion(pn['SkyCoord'], 5*u.arcsecond)\n",
    "\n",
    "subcube = cube.subcube_from_regions([region])"
   ]
  },
  {
   "cell_type": "code",
   "execution_count": null,
   "metadata": {},
   "outputs": [],
   "source": [
    "subcube.write(f'{galaxy.name}_{pn[\"id\"]}.fits')"
   ]
  },
  {
   "cell_type": "code",
   "execution_count": null,
   "metadata": {},
   "outputs": [],
   "source": [
    "tbl.sort(['mOIII'])\n",
    "pn = tbl[tbl['id']==1266][0]\n",
    "\n",
    "print(f'ID: {pn[\"id\"]}, mOIII={pn[\"mOIII\"]:.2f}')\n",
    "filename = basedir / 'reports' / 'spectra' / f'{galaxy.name}_{pn[\"id\"]}.pdf'\n",
    "spectra,wavelength = spectrum_and_rgb(pn['SkyCoord'],galaxy,data_cube,galaxy.wcs,aperture_size=1.5,filename=filename)\n"
   ]
  },
  {
   "cell_type": "markdown",
   "metadata": {},
   "source": [
    "## Compare to existing Studies"
   ]
  },
  {
   "cell_type": "code",
   "execution_count": null,
   "metadata": {},
   "outputs": [],
   "source": [
    "from astropy.coordinates import match_coordinates_sky # match sources against existing catalog\n",
    "from astropy.coordinates import Angle                 # work with angles (e.g. 1°2′3″)\n",
    "from astropy.table import vstack\n",
    "\n",
    "from pnlf.load_references import NGC628, \\\n",
    "                                   pn_NGC628_kreckel, \\\n",
    "                                   snr_NGC628_kreckel, \\\n",
    "                                   pn_NGC628_herrmann, \\\n",
    "                                   NGC628_kreckel, \\\n",
    "                                   pn_NGC5068_herrmann, \\\n",
    "                                   pn_NGC3351_ciardullo, \\\n",
    "                                   pn_NGC3627_ciardullo\n",
    "\n",
    "\n",
    "def get_fwhm(x,y):\n",
    "    try:\n",
    "        return galaxy.PSF[int(y),int(x)]\n",
    "    except:\n",
    "        return 0\n",
    "\n",
    "for table in [NGC628,pn_NGC628_kreckel,snr_NGC628_kreckel,NGC628_kreckel,\n",
    "              pn_NGC628_herrmann,pn_NGC5068_herrmann,pn_NGC3351_ciardullo,pn_NGC3627_ciardullo]:\n",
    "    table['x'],table['y']= table['SkyCoord'].to_pixel(wcs=galaxy.wcs)\n",
    "    table['fwhm'] = np.array([get_fwhm(x,y) for x,y in zip(table['x'],table['y'])])\n"
   ]
  },
  {
   "cell_type": "markdown",
   "metadata": {},
   "source": [
    "exclude objects that lie outside our field of view"
   ]
  },
  {
   "cell_type": "code",
   "execution_count": null,
   "metadata": {},
   "outputs": [],
   "source": [
    "# select the correct catalogue here\n",
    "matchcoord = pn_NGC3351_ciardullo\n",
    "\n",
    "catalogcoord = tbl[tbl['mOIII']<galaxy.completeness_limit].copy()\n",
    "#catalogcoord['SkyCoord'] = \n",
    "\n",
    "matchcoord['in_frame'] = False\n",
    "y_dim,x_dim = galaxy.shape\n",
    "\n",
    "for row in matchcoord:\n",
    "    x,y = row['x'], row['y']    \n",
    "    if 0<=int(x)<x_dim and 0<=int(y)<y_dim:\n",
    "        if not np.isnan(galaxy.PSF[int(y),int(x)]):\n",
    "            row['in_frame'] = True\n",
    "           \n",
    "print(f\"{np.sum(~matchcoord['in_frame'])} objects outside of our field of view\")\n",
    "matchcoord   = matchcoord[matchcoord['in_frame'] & (matchcoord['mOIII']<27.5)]"
   ]
  },
  {
   "cell_type": "markdown",
   "metadata": {},
   "source": [
    "plot the detections from the paper and our own detections"
   ]
  },
  {
   "cell_type": "code",
   "execution_count": null,
   "metadata": {},
   "outputs": [],
   "source": [
    "fig = plt.figure(figsize=(single_column,single_column))\n",
    "ax1 = fig.add_subplot(111,projection=galaxy.wcs)\n",
    "\n",
    "norm = simple_norm(galaxy.OIII5006_DAP,'linear',clip=False,max_percent=95)\n",
    "ax1.imshow(galaxy.OIII5006_DAP,norm=norm,cmap=plt.cm.Greens)\n",
    "\n",
    "ax1.scatter(matchcoord['x'],matchcoord['y'],marker='o',s=6,lw=0.2,edgecolor='tab:red',facecolors='none')\n",
    "ax1.scatter(catalogcoord['x'],catalogcoord['y'],marker='o',s=6,lw=0.2,edgecolor='tab:orange',facecolors='none')\n",
    "\n",
    "for row in matchcoord:\n",
    "    txt,x,y = row['ID'], row['x']+5, row['y']    \n",
    "    \n",
    "    ax1.annotate(txt, (x, y),fontsize=4,color='tab:red')\n",
    "\n",
    "plt.savefig(basedir / 'reports' / galaxy.name /f'{galaxy.name}_PN_position_comparison.pdf',dpi=600)"
   ]
  },
  {
   "cell_type": "markdown",
   "metadata": {},
   "source": [
    "see how many match within 1\""
   ]
  },
  {
   "cell_type": "code",
   "execution_count": null,
   "metadata": {},
   "outputs": [],
   "source": [
    "tolerance = '0.5\"'\n",
    "ID, angle, Quantity  = match_coordinates_sky(matchcoord['SkyCoord'],SkyCoord.from_pixel(catalogcoord['x'],catalogcoord['y'],galaxy.wcs))\n",
    "within_tolerance = len(angle[angle.__lt__(Angle(tolerance))])\n",
    "\n",
    "print(f'{within_tolerance} of {len(angle)} match within {tolerance}\": {within_tolerance / len(angle)*100:.1f} %')\n",
    "print(f'mean seperation is {angle[angle.__lt__(Angle(tolerance))].mean().to_string(u.arcsec,decimal=True)}')"
   ]
  },
  {
   "cell_type": "code",
   "execution_count": null,
   "metadata": {},
   "outputs": [],
   "source": [
    "matchcoord['type'] = catalogcoord[ID]['type']\n",
    "matchcoord['exclude'] = catalogcoord[ID]['exclude']\n",
    "matchcoord['mOIIIF'] = catalogcoord[ID]['mOIII']\n",
    "matchcoord['SNRorPN'] = catalogcoord[ID]['SNRorPN']\n",
    "#matchcoord[matchcoord['source']=='Kreckel SNR']"
   ]
  },
  {
   "cell_type": "code",
   "execution_count": null,
   "metadata": {},
   "outputs": [],
   "source": [
    "matchcoord.sort('mOIII')\n",
    "(10**((matchcoord['mOIII']+13.74)/2.5) - 10**((matchcoord['mOIIIF']+13.74)/2.5)) / 10**((matchcoord['mOIII']+13.74)/2.5)\n",
    "matchcoord['mOIII']-matchcoord['mOIIIF']"
   ]
  },
  {
   "cell_type": "code",
   "execution_count": null,
   "metadata": {},
   "outputs": [],
   "source": [
    "plt.scatter(matchcoord['mOIII'],matchcoord['mOIIIF'])\n",
    "plt.plot([25.5,27.5],[25.5,27.5])\n",
    "plt.plot([25.5,27.5],[26,28],color='gray')\n",
    "plt.plot([25.5,27.5],[25,27],color='gray')"
   ]
  },
  {
   "cell_type": "markdown",
   "metadata": {},
   "source": [
    "### Compare [OIII] and H$\\alpha$ fluxes"
   ]
  },
  {
   "cell_type": "code",
   "execution_count": null,
   "metadata": {},
   "outputs": [],
   "source": [
    "def compare_OIII_fluxes():\n",
    "    #mpl.use('pgf')\n",
    "    #plt.style.use('../src/pymuse/TeX.mplstyle')\n",
    "    \n",
    "    mpl.rcParams['pgf.preamble'] = [r'\\usepackage[hidelinks]{hyperref}', ]\n",
    "    \n",
    "    matchcoord['mOIII_measured'] = catalogcoord[ID]['mOIII']\n",
    "    matchcoord['dmOIII_measured'] = catalogcoord[ID]['dmOIII']\n",
    "    \n",
    "    crit = angle.__lt__(Angle(\"1s\"))\n",
    "\n",
    "    fig,ax = plt.subplots(figsize=(single_column,single_column))\n",
    "\n",
    "    color=tab10[0]\n",
    "    for s in ['Kreckel PN','Kreckel SNR','Herrmann PN']:\n",
    "        color = next(ax._get_lines.prop_cycler)['color']\n",
    "        tmp = matchcoord[(matchcoord['source']==s) & crit]\n",
    "        plt.errorbar(tmp['mOIII'],tmp['mOIII_measured'],\n",
    "                     yerr = tmp['dmOIII_measured'],\n",
    "                     marker='o',ms=2,ls='none',mec=color,mfc=color,ecolor=color,label=s)\n",
    "\n",
    "    #plt.errorbar(matchcoord[crit]['mOIII'],matchcoord[crit]['mOIII_measured'],\n",
    "    #             yerr = matchcoord[crit]['dmOIII_measured'],\n",
    "    #             marker='o',ms=4,ls='none',mec=color,mfc=color,ecolor=color,label=s)\n",
    "\n",
    "        \n",
    "    base_url = 'https://ui.adsabs.harvard.edu/abs/'\n",
    "    link = f'\\href{{{base_url + matchcoord.meta[\"bibcode\"]}}}{{{matchcoord.meta[\"reference\"]}}}'\n",
    "\n",
    "    xmin = np.floor(2*np.min(matchcoord['mOIII']))/2\n",
    "    xmax = np.ceil(2*np.max(matchcoord['mOIII']))/2\n",
    "    ymin = np.floor(2*np.min(matchcoord['mOIII_measured']))/2\n",
    "    ymax = np.ceil(2*np.max(matchcoord['mOIII_measured']))/2\n",
    "    \n",
    "    plt.plot([xmin,xmax],[xmin,xmax],color='black',lw=0.4)\n",
    "    #plt.plot([xmin,xmax],[xmin-0.5,xmax-0.5],color='gray',lw=0.5,ls='--')\n",
    "    #plt.plot([xmin,xmax],[xmin+0.5,xmax+0.5],color='gray',lw=0.5,ls='--')\n",
    "    #ax.set_xlabel(r'$\\mathrm{m}_{[\\mathrm{OIII}]}$' + f' {link}')\n",
    "    ax.set_xlabel(r'$\\mathrm{m}_{[\\mathrm{O}\\,\\tiny{\\textsc{iii}}]}$ existing studies')\n",
    "    ax.set_ylabel(r'$\\mathrm{m}_{[\\mathrm{O}\\,\\tiny{\\textsc{iii}}]}$ this work')\n",
    "    #ax.set(xlim=[xmin,xmax],ylim=[xmin,xmax])\n",
    "    plt.legend()\n",
    "    \n",
    "    plt.savefig(basedir / 'reports' / f'flux_comparison_OIII.pdf',dpi=600)\n",
    "    plt.show()\n",
    "    \n",
    "compare_OIII_fluxes()"
   ]
  },
  {
   "cell_type": "code",
   "execution_count": null,
   "metadata": {},
   "outputs": [],
   "source": [
    "def compare_HA_fluxes():\n",
    "    \n",
    "    #mpl.use('pgf')\n",
    "    #plt.style.use('TeX.mplstyle')\n",
    "    \n",
    "    mpl.rcParams['pgf.preamble'] = [r'\\usepackage[hidelinks]{hyperref}', ]\n",
    "    \n",
    "    catalogcoord['R2'] = catalogcoord['OIII5006'] / (catalogcoord['HA6562']+catalogcoord['NII6583'])\n",
    "    catalogcoord['dR2'] = catalogcoord['R2']  * np.sqrt(catalogcoord['OIII5006_err']/catalogcoord['OIII5006_err']**2 + 1/(catalogcoord['HA6562']+catalogcoord['NII6583'])**2 * (catalogcoord['HA6562_err']**2+catalogcoord['NII6583_err']**2) )                                  \n",
    "    \n",
    "    matchcoord['R_measured'] = catalogcoord[ID]['R2']\n",
    "    matchcoord['dR_measured'] = catalogcoord[ID]['dR2']\n",
    "\n",
    "    crit = angle.__lt__(Angle(\"1s\"))\n",
    "\n",
    "    fig,ax = plt.subplots(figsize=(single_column,single_column))\n",
    "\n",
    "    color=tab10[0]\n",
    "    for s in ['Kreckel PN','Kreckel SNR','Herrmann PN']:\n",
    "        color = next(ax._get_lines.prop_cycler)['color']\n",
    "        tmp = matchcoord[(matchcoord['source']==s) & crit]\n",
    "        print(f\"{s}: {np.sum(tmp['R'] > tmp['R_measured']) / len(tmp) * 100:.2f} % under\")\n",
    "        plt.errorbar(tmp['R'],tmp['R_measured'],\n",
    "                     #xerr = tmp['dR'],\n",
    "                     #yerr = tmp['dR_measured'],\n",
    "                     marker='o',ms=2,ls='none',mec=color,mfc=color,ecolor=color,label=s)\n",
    "\n",
    "    xmin,xmax = 0,7\n",
    "    ymin,ymax = 0,7\n",
    "    \n",
    "    plt.plot([xmin,xmax],[xmin,xmax],color='black',lw=0.4)\n",
    "    #plt.plot([xmin,xmax],[xmin-0.5,xmax-0.5],color='gray',lw=0.5,ls='--')\n",
    "    #plt.plot([xmin,xmax],[xmin+0.5,xmax+0.5],color='gray',lw=0.5,ls='--')\n",
    "    ax.set_xlim([xmin,xmax])\n",
    "    ax.set_ylim([ymin,ymax])\n",
    "    #ax.set_xlabel(r'$\\mathrm{m}_{[\\mathrm{OIII}]}$' + f' {link}')\n",
    "    ax.set_xlabel(r'$I_{[\\mathrm{O}\\,\\tiny{\\textsc{iii}}]}\\;/\\;(I_{\\mathrm{H}\\,\\alpha}+I_{[\\mathrm{N}\\,\\tiny{\\textsc{ii}}]})$ existing studies')\n",
    "    ax.set_ylabel(r'$I_{[\\mathrm{O}\\,\\tiny{\\textsc{iii}}]}\\;/\\;(I_{\\mathrm{H}\\,\\alpha}+I_{[\\mathrm{N}\\,\\tiny{\\textsc{ii}}]})$ this work')\n",
    "    plt.legend(loc=2)\n",
    "    \n",
    "    \n",
    "    plt.savefig(basedir / 'reports' / f'flux_comparison_HA.pdf',dpi=600)\n",
    "    \n",
    "    plt.show()\n",
    "    \n",
    "catalogcoord = tbl[tbl['mOIII']<galaxy.completeness_limit]\n",
    "compare_HA_fluxes()"
   ]
  },
  {
   "cell_type": "markdown",
   "metadata": {},
   "source": [
    "### Francesco's Nebula catalogue"
   ]
  },
  {
   "cell_type": "code",
   "execution_count": null,
   "metadata": {},
   "outputs": [],
   "source": [
    "# new catalogue\n",
    "with fits.open(data_raw /'AUXILIARY'/'Nebulae catalogue' / 'Nebulae_Catalogue.fits') as hdul:\n",
    "    nebulae = Table(hdul[1].data)\n",
    "nebulae=nebulae[(nebulae['gal_name']==galaxy.name) & (nebulae['flag_point_source']==2)]\n",
    "nebulae['SkyCoord'] = SkyCoord.from_pixel(nebulae['cen_x'],nebulae['cen_y'],galaxy.wcs)\n",
    "nebulae['mOIII'] = -2.5*np.log10(nebulae['OIII5006_FLUX']*1e-20) - 13.74\n",
    "nebulae=nebulae[nebulae['mOIII']<galaxy.completeness_limit]"
   ]
  },
  {
   "cell_type": "code",
   "execution_count": null,
   "metadata": {},
   "outputs": [],
   "source": [
    "with fits.open(basedir / 'data' / 'external' / 'nebula_catalogue_FS_v01.fits') as hdul:\n",
    "    nebula_catalogue = Table(hdul[1].data)\n",
    "    \n",
    "PNe_candidate = nebula_catalogue[(nebula_catalogue['gal_name']==galaxy.name) & (nebula_catalogue['PNe_candidate']==1)]\n",
    "PNe_candidate['SkyCoord'] = SkyCoord.from_pixel(PNe_candidate['cen_x'],PNe_candidate['cen_y'],galaxy.wcs)"
   ]
  },
  {
   "cell_type": "code",
   "execution_count": null,
   "metadata": {},
   "outputs": [],
   "source": [
    "tolerance = '0.8\"'\n",
    "ID, angle, Quantity  = match_coordinates_sky(PNe_candidate['SkyCoord'],tbl['SkyCoord'])\n",
    "within_tolerance = len(angle[angle.__lt__(Angle(tolerance))])\n",
    "\n",
    "print(f'I recover {within_tolerance} of Francescos {len(angle)} sources')"
   ]
  },
  {
   "cell_type": "code",
   "execution_count": null,
   "metadata": {},
   "outputs": [],
   "source": [
    "ID, angle, Quantity  = match_coordinates_sky(nebulae['SkyCoord'],tbl['SkyCoord'])\n",
    "within_tolerance = len(angle[angle.__lt__(Angle(tolerance))])\n",
    "\n",
    "print(f'Search in Francescos catalogue: {within_tolerance} of {len(angle)} of  match within {tolerance}\": {within_tolerance / len(angle)*100:.1f} %')\n"
   ]
  },
  {
   "cell_type": "code",
   "execution_count": null,
   "metadata": {},
   "outputs": [],
   "source": [
    "from photutils import CircularAperture\n",
    "\n",
    "with fits.open(basedir / 'data' / 'external' / 'nebula_catalogue_FS_v01.fits') as hdul:\n",
    "    nebula_catalogue = Table(hdul[1].data)\n",
    "\n",
    "# (nebula_catalogue['region_size_pixels']<100) &\n",
    "PNe_candidate = nebula_catalogue[(nebula_catalogue['gal_name']==galaxy.name) & (nebula_catalogue['PNe_candidate']==1)]\n",
    "print(f'{len(PNe_candidate)} candidates from FS')\n",
    "\n",
    "fig = plt.figure(figsize=(7,7))\n",
    "ax  = fig.add_subplot(projection=galaxy.wcs)\n",
    "norm = simple_norm(galaxy.OIII5006_DAP,'linear',clip=False,max_percent=95)\n",
    "ax.imshow(galaxy.OIII5006_DAP,norm=norm,cmap=plt.cm.Greens)\n",
    "\n",
    "cat = tbl[c_PN & c_limit]\n",
    "\n",
    "#positions = np.transpose([PNe_candidate['cen_x'],PNe_candidate['cen_y']])\n",
    "#apertures = CircularAperture(positions, r=6)\n",
    "ax.scatter(PNe_candidate['cen_x'],PNe_candidate['cen_y'],marker='o',s=5,lw=0.4,edgecolor='red',facecolors='none')\n",
    "ax.scatter(cat['x'],cat['y'],marker='o',s=5,lw=0.4,edgecolor='blue',facecolors='none')\n",
    "\n",
    "#apertures.plot(color='red',lw=.2, alpha=1)\n",
    "plt.savefig(basedir / 'reports' / f'{galaxy.name}_FS_comparison.pdf',dpi=600)"
   ]
  },
  {
   "cell_type": "code",
   "execution_count": null,
   "metadata": {},
   "outputs": [],
   "source": [
    "data = -2.5*np.log10(PNe_candidate['OIII5006_FLUX']*1e-20) - 13.74\n",
    "\n",
    "fitter = MaximumLikelihood1D(pnlf,\n",
    "                             data[data<28],\n",
    "                             mhigh=galaxy.completeness_limit)\n",
    "mu,dp,dm = fitter([24])\n",
    "print(f'literature: {galaxy.mu:.2f}')\n",
    "axes = plot_pnlf(data,\n",
    "                 mu,\n",
    "                 galaxy.completeness_limit,\n",
    "                 binsize=0.4,\n",
    "                 mhigh=30,\n",
    "                 color=tab10[0])\n"
   ]
  },
  {
   "cell_type": "markdown",
   "metadata": {},
   "source": [
    "### Enrico's Catalogue"
   ]
  },
  {
   "cell_type": "code",
   "execution_count": null,
   "metadata": {},
   "outputs": [],
   "source": [
    "with fits.open(basedir / 'data' / 'external' / 'clumpfind_cat_v02.fits') as hdul:\n",
    "    nebula_catalogue = Table(hdul[1].data)\n",
    "nebula_catalogue = nebula_catalogue[(nebula_catalogue['gal_name']==galaxy.name)]"
   ]
  },
  {
   "cell_type": "code",
   "execution_count": null,
   "metadata": {},
   "outputs": [],
   "source": [
    "from photutils import CircularAperture\n",
    "\n",
    "with fits.open(basedir / 'data' / 'external' / 'clumpfind_cat_v02.fits') as hdul:\n",
    "    nebula_catalogue = Table(hdul[1].data)\n",
    "nebula_catalogue = nebula_catalogue[(nebula_catalogue['gal_name']==galaxy.name)]\n",
    "\n",
    "nebula_catalogue.rename_column('cen_x','x')\n",
    "nebula_catalogue.rename_column('cen_y','y')\n",
    "nebula_catalogue = nebula_catalogue[~np.isnan(nebula_catalogue['x']) & ~np.isnan(nebula_catalogue['y'])]\n",
    "nebula_catalogue['fwhm'] = np.array([galaxy.PSF[int(y),int(x)] for x,y in zip(nebula_catalogue['x'],nebula_catalogue['y'])])\n",
    "nebula_catalogue['SkyCoord'] = SkyCoord.from_pixel(nebula_catalogue['x'],nebula_catalogue['y'],galaxy.wcs)\n",
    "nebula_catalogue['mOIII'] = -2.5*np.log10(nebula_catalogue['OIII5006_FLUX']*1e-20) - 13.74\n"
   ]
  },
  {
   "cell_type": "code",
   "execution_count": null,
   "metadata": {},
   "outputs": [],
   "source": [
    "ID, angle, Quantity  = match_coordinates_sky(nebula_catalogue['SkyCoord'],tbl['SkyCoord'])\n",
    "within_tolerance = len(angle[angle.__lt__(Angle(tolerance))])\n",
    "\n",
    "print(f'{within_tolerance} of {len(angle)} of  match within {tolerance}\": {within_tolerance / len(angle)*100:.1f} %')\n"
   ]
  },
  {
   "cell_type": "code",
   "execution_count": null,
   "metadata": {},
   "outputs": [],
   "source": [
    "nebula_catalogue['FHA'] = tbl[ID]['HA6562']"
   ]
  },
  {
   "cell_type": "code",
   "execution_count": null,
   "metadata": {},
   "outputs": [],
   "source": [
    "match = nebula_catalogue[angle.__lt__(Angle(tolerance))]\n",
    "plt.scatter(match['HA6562_FLUX'],match['FHA'])\n",
    "plt.plot([0,1e6],[0,1e6])"
   ]
  },
  {
   "cell_type": "markdown",
   "metadata": {},
   "source": [
    "#### Use flux measurements from Enrico"
   ]
  },
  {
   "cell_type": "code",
   "execution_count": null,
   "metadata": {},
   "outputs": [],
   "source": [
    "for col in nebula_catalogue.colnames:\n",
    "    if col.endswith('_FLUX'):\n",
    "        nebula_catalogue.rename_column(col,col[:-5])\n",
    "    if col.endswith('_FLUX_ERR'):\n",
    "        nebula_catalogue.rename_column(col,col[:-9]+'_err')\n",
    "        \n",
    "nebula_catalogue['mOIII'] = -2.5*np.log10(nebula_catalogue['OIII5006']*1e-20) - 13.74\n",
    "nebula_catalogue['dmOIII'] = np.abs( 2.5/np.log(10) * nebula_catalogue['OIII5006_err'] / nebula_catalogue['OIII5006'])\n",
    "\n",
    "nebula_catalogue = emission_line_diagnostics(nebula_catalogue,galaxy.mu,galaxy.completeness_limit) \n",
    "pn_candidates = nebula_catalogue[nebula_catalogue['type']=='PN']"
   ]
  },
  {
   "cell_type": "markdown",
   "metadata": {},
   "source": [
    "#### Measure flux with background subtraction"
   ]
  },
  {
   "cell_type": "code",
   "execution_count": null,
   "metadata": {},
   "outputs": [],
   "source": [
    "flux = measure_flux(galaxy,\n",
    "                    nebula_catalogue,\n",
    "                    alpha=galaxy.alpha,\n",
    "                    Rv=3.1,\n",
    "                    Ebv=0.062,\n",
    "                    extinction='MW',\n",
    "                    aperture_size=1.5)\n",
    "\n",
    "# calculate magnitudes from measured fluxes\n",
    "flux['mOIII'] = -2.5*np.log10(flux['OIII5006']*1e-20) - 13.74\n",
    "flux['dmOIII'] = np.abs( 2.5/np.log(10) * flux['OIII5006_err'] / flux['OIII5006'] )\n",
    "\n",
    "emd = emission_line_diagnostics(flux,galaxy.mu,galaxy.completeness_limit) \n",
    "pn_candidates = emd[(emd['type']=='PN') & (emd['mOIII']<28)]\n"
   ]
  },
  {
   "cell_type": "markdown",
   "metadata": {},
   "source": [
    "#### Visualize the result"
   ]
  },
  {
   "cell_type": "code",
   "execution_count": null,
   "metadata": {},
   "outputs": [],
   "source": [
    "print(f'{len(pn_candidates)} nebulae from Enrico')\n",
    "\n",
    "fig = plt.figure(figsize=(7,7))\n",
    "ax  = fig.add_subplot(projection=galaxy.wcs)\n",
    "\n",
    "norm = simple_norm(galaxy.OIII5006_DAP,'linear',clip=False,max_percent=95)\n",
    "ax.imshow(galaxy.OIII5006_DAP,norm=norm,cmap=plt.cm.Greens)\n",
    "\n",
    "cat = tbl[c_PN & c_limit]\n",
    "\n",
    "#positions = np.transpose([PNe_candidate['cen_x'],PNe_candidate['cen_y']])\n",
    "#apertures = CircularAperture(positions, r=6)\n",
    "ax.scatter(pn_candidates['x'],pn_candidates['y'],marker='o',s=4,lw=0.4,edgecolor='tab:orange',facecolors='none')\n",
    "ax.scatter(cat['x'],cat['y'],marker='o',s=6,lw=0.4,edgecolor='tab:blue',facecolors='none')\n",
    "\n",
    "#apertures.plot(color='red',lw=.2, alpha=1)\n",
    "plt.savefig(basedir / 'reports' / f'{galaxy.name}_Enrico_comparison.pdf',dpi=600)"
   ]
  },
  {
   "cell_type": "code",
   "execution_count": null,
   "metadata": {},
   "outputs": [],
   "source": [
    "from astropy.coordinates import match_coordinates_sky\n",
    "\n",
    "matchcoord   = pn_candidates\n",
    "matchcoord['SkyCoord'] = SkyCoord.from_pixel(matchcoord['x'],matchcoord['y'],galaxy.wcs)\n",
    "cat['SkyCoord'] = SkyCoord.from_pixel(cat['x'],cat['y'],galaxy.wcs)\n",
    "\n",
    "tolerance = '2s'\n",
    "ID, angle, Quantity  = match_coordinates_sky(matchcoord['SkyCoord'],cat['SkyCoord'])\n",
    "within_tolerance = len(angle[angle.__lt__(Angle(tolerance))])\n",
    "\n",
    "print(f'{within_tolerance} of {len(angle)} match within {tolerance}\": {within_tolerance / len(angle)*100:.1f} %')\n",
    "print(f'mean seperation is {angle[angle.__lt__(Angle(tolerance))].mean().to_string(u.arcsec,decimal=True)}\"')"
   ]
  },
  {
   "cell_type": "code",
   "execution_count": null,
   "metadata": {},
   "outputs": [],
   "source": [
    "fitter = MaximumLikelihood1D(pnlf,\n",
    "                             pn_candidates[(pn_candidates['mOIII']<28) & (pn_candidates['mOIII']>10)]['mOIII'],\n",
    "                             mhigh=galaxy.completeness_limit)\n",
    "mu,dp,dm = fitter([24])\n",
    "print(f'literature: {galaxy.mu:.2f}')\n",
    "axes = plot_pnlf(pn_candidates['mOIII'],\n",
    "                 mu,\n",
    "                 galaxy.completeness_limit,\n",
    "                 binsize=0.4,\n",
    "                 mhigh=30,\n",
    "                 color=tab10[0])\n"
   ]
  },
  {
   "cell_type": "markdown",
   "metadata": {},
   "source": [
    "## PSF stuff"
   ]
  },
  {
   "cell_type": "code",
   "execution_count": null,
   "metadata": {},
   "outputs": [],
   "source": [
    "from pnlf.photometry import measure_single_flux\n",
    "\n",
    "x,y,fwhm = tbl[tbl['id']==67][['x','y','fwhm']][0]\n",
    "\n",
    "def compare_fwhm(x,y,fwhm):\n",
    "    \n",
    "    alpha = galaxy.power_index\n",
    "    gamma = fwhm/(2*np.sqrt(2**(1/alpha)-1))\n",
    "    f0 = measure_single_flux(galaxy.OIII5006,[x,y],3.5,alpha,gamma)\n",
    "\n",
    "    fig, axes = plt.subplots(nrows=1,ncols=5,figsize=(12,2.5))\n",
    "    axes_iter = iter(axes.flatten())\n",
    "\n",
    "    for dfwhm in [-0.5,-0.25,0.0,0.25,0.5]:\n",
    "        fwhm = 2 * gamma * np.sqrt(2**(1/alpha)-1) + dfwhm\n",
    "        flux = []\n",
    "        radii = np.arange(1,3.75,0.5)\n",
    "        for aperture_size in radii:\n",
    "            flux.append(measure_single_flux(galaxy.OIII5006,[x,y],aperture_size,alpha,fwhm/(2*np.sqrt(2**(1/alpha)-1))))\n",
    "        flux=np.array(flux) \n",
    "\n",
    "        #print(f'{np.max(np.abs((flux[radii>=1.5]-f0)/f0*100)):.2f}')\n",
    "\n",
    "        ax = next(axes_iter)\n",
    "        ax.axvline(2,color='black',lw=0.8)\n",
    "        ax.axhline(-1,color='black',lw=0.8)\n",
    "        ax.axhline(1,color='black',lw=0.8)\n",
    "\n",
    "        ax.plot(radii,(flux-flux[-1])/flux[-1]*100)\n",
    "\n",
    "        ax.set_title(f'FWHM={fwhm:.2f}')\n",
    "        ax.set(xlabel='aperture radius / fwhm',ylim=[-15,15])\n",
    "\n",
    "    plt.tight_layout()\n",
    "    plt.show()\n",
    "    \n",
    "for row in tmp[:5]:\n",
    "    x,y,fwhm = row[['x','y','fwhm']]\n",
    "    compare_fwhm(x,y,fwhm)"
   ]
  },
  {
   "cell_type": "code",
   "execution_count": null,
   "metadata": {},
   "outputs": [],
   "source": [
    "mag = lambda f: -2.5*np.log10(f*1e-20) - 13.74\n",
    "f0 = 5919\n",
    "print(mag(f0)-mag(1.1*f0))\n"
   ]
  },
  {
   "cell_type": "code",
   "execution_count": null,
   "metadata": {},
   "outputs": [],
   "source": [
    "from pnlf.auxiliary import light_in_moffat\n",
    "\n",
    "aperture_size = 3\n",
    "alpha = 2.3\n",
    "\n",
    "gamma = fwhm / (2 * np.sqrt(2**(1/alpha)-1))\n",
    "r = aperture_size * (fwhm) / 2 \n",
    "light_in_moffat(r,alpha,gamma)"
   ]
  },
  {
   "cell_type": "code",
   "execution_count": null,
   "metadata": {},
   "outputs": [],
   "source": [
    "from pnlf.auxiliary import light_in_moffat\n",
    "\n",
    "fwhm = 4\n",
    "aperture_size = np.arange(1,3.25,0.25)\n",
    "\n",
    "fig, (ax1) = plt.subplots(ncols=1,figsize=(6,4))\n",
    "\n",
    "for alpha in [2.3,2.8]:\n",
    "\n",
    "    gamma = fwhm / (2 * np.sqrt(2**(1/alpha)-1))\n",
    "    r = aperture_size * (fwhm) / 2 \n",
    "    l = light_in_moffat(r,alpha,gamma)\n",
    "    \n",
    "    ax1.plot(aperture_size,l,label=r'$\\alpha=$'+f'{alpha}')\n",
    "\n",
    "ax1.grid()\n",
    "ax1.legend()  \n",
    "ax1.set(xlabel='aperture diameter / FWHM',ylabel='flux in aperture')\n",
    "\n",
    "\n",
    "\n",
    "plt.show()"
   ]
  },
  {
   "cell_type": "code",
   "execution_count": null,
   "metadata": {},
   "outputs": [],
   "source": [
    "# https://github.com/astropy/photutils/issues/558\n",
    "from photutils.psf import IterativelySubtractedPSFPhotometry, BasicPSFPhotometry, DAOPhotPSFPhotometry\n",
    "from photutils.psf import IntegratedGaussianPRF, DAOGroup\n",
    "from photutils.background import MMMBackground, MADStdBackgroundRMS\n",
    "from astropy.modeling.fitting import LevMarLSQFitter"
   ]
  },
  {
   "cell_type": "code",
   "execution_count": null,
   "metadata": {},
   "outputs": [],
   "source": [
    "fwhm = np.unique(tbl['fwhm'])[0]\n",
    "tmp = tbl[(tbl['type']=='PN') & (tbl['fwhm']==fwhm) & (~tbl['exclude'])]\n",
    "tmp.sort('mOIII')\n",
    "pos = Table(names=['x_0', 'y_0'], data=[tmp['x'],tmp['y']])\n",
    "pos['id'] = np.arange(1,len(pos)+1)"
   ]
  },
  {
   "cell_type": "code",
   "execution_count": null,
   "metadata": {},
   "outputs": [],
   "source": [
    "from astropy.modeling.models import Moffat2D\n",
    "from photutils.psf import prepare_psf_model\n",
    "\n",
    "alpha = galaxy.power_index\n",
    "gamma = fwhm / 2 /  np.sqrt(2**(1/alpha)-1)\n",
    "\n",
    "psffunc = Moffat2D(amplitude=1, gamma=gamma, alpha=alpha, x_0=0, y_0=0)\n",
    "psffunc.amplitude.fixed=True\n",
    "psffunc.gamma.fixed=True\n",
    "psffunc.alpha.fixed=True\n",
    "psfmodel = prepare_psf_model(psffunc, xname='x_0', yname='y_0', fluxname=None) "
   ]
  },
  {
   "cell_type": "code",
   "execution_count": null,
   "metadata": {},
   "outputs": [],
   "source": [
    "photometry = BasicPSFPhotometry(group_maker     = DAOGroup(np.nanmax(galaxy.PSF)/2*5),\n",
    "                                bkg_estimator   = MMMBackground(),\n",
    "                                psf_model       = psfmodel,\n",
    "                                fitter          = LevMarLSQFitter(),\n",
    "                                fitshape        = (15,15),\n",
    "                                aperture_radius = 1.1*fwhm)\n",
    "result_tab = photometry(image=galaxy.OIII5006, init_guesses=pos)"
   ]
  },
  {
   "cell_type": "code",
   "execution_count": null,
   "metadata": {},
   "outputs": [],
   "source": [
    "mean, median, std = sigma_clipped_stats(galaxy.OIII5006_DAP, sigma=3.0,maxiters=5,mask=~(galaxy.PSF==fwhm))\n",
    "\n",
    "finder = DAOStarFinder(galaxy.threshold*std,fwhm=fwhm)"
   ]
  },
  {
   "cell_type": "code",
   "execution_count": null,
   "metadata": {},
   "outputs": [],
   "source": [
    "photometry = IterativelySubtractedPSFPhotometry(\n",
    "                                group_maker     = DAOGroup(np.nanmax(galaxy.PSF)/2*5),\n",
    "                                bkg_estimator   = MMMBackground(),\n",
    "                                psf_model       = psfmodel,\n",
    "                                finder          = finder,\n",
    "                                fitter          = LevMarLSQFitter(),\n",
    "                                fitshape        = (11,11),\n",
    "                                aperture_radius = 1.5*fwhm)\n",
    "result_tab = photometry(image=galaxy.OIII5006, init_guesses=pos[0:10])"
   ]
  },
  {
   "cell_type": "code",
   "execution_count": null,
   "metadata": {},
   "outputs": [],
   "source": [
    "photometry = DAOPhotPSFPhotometry(crit_separation = np.nanmax(galaxy.PSF)/2*5,\n",
    "                                  threshold       = 150,\n",
    "                                  fwhm            = fwhm,\n",
    "                                  psf_model       = psfmodel,\n",
    "                                  fitter          = LevMarLSQFitter(),\n",
    "                                  fitshape        = (11,11),\n",
    "                                  aperture_radius = fwhm*1.5)\n",
    "result_tab = photometry(image=galaxy.OIII5006, init_guesses=pos[0:30])"
   ]
  },
  {
   "cell_type": "code",
   "execution_count": null,
   "metadata": {},
   "outputs": [],
   "source": [
    "Rv  = 3.1\n",
    "tmp = tbl[(tbl['type']=='PN') & (tbl['mOIII']<28.5)]\n",
    "    \n",
    "for aperture_size in [1,2,3]:\n",
    "    \n",
    "    fl = measure_flux(galaxy,\n",
    "                        tmp,\n",
    "                        alpha=galaxy.power_index,\n",
    "                        Rv=Rv,\n",
    "                        Ebv=galaxy.Ebv,\n",
    "                        extinction='MW',\n",
    "                        lines = ['OIII5006'],\n",
    "                        background='local',\n",
    "                        aperture_size=aperture_size)\n",
    "\n",
    "    # calculate astronomical coordinates for comparison\n",
    "\n",
    "    # calculate magnitudes from measured fluxes\n",
    "    fl['mOIII'] = -2.5*np.log10(fl['OIII5006']*1e-20) - 13.74\n",
    "    fl['dmOIII'] = np.abs( 2.5/np.log(10) * fl['OIII5006_err'] / fl['OIII5006'])\n",
    "    \n",
    "    plt.scatter(tmp['mOIII'],fl['OIII5006']/fl['OIII5006_err'],label=aperture_size)\n",
    "\n",
    "plt.ylim([1,400])\n",
    "plt.xlim([25.5,28.5])\n",
    "plt.ylabel('S/N')\n",
    "plt.xlabel('mOIII')\n",
    "plt.yscale('log')\n",
    "plt.legend()\n",
    "plt.savefig('StoN.pdf',dpi=600)\n",
    "plt.show()"
   ]
  },
  {
   "cell_type": "markdown",
   "metadata": {},
   "source": [
    "## Distance in parsec\n",
    "\n",
    "the measured distances are in the form of the distance modulus $\\mu = m-M$ which is the difference between apparent and absolute magnitude. By defintion of the absolte magnitude, we can convert this number into a distance in pc\n",
    "$$\n",
    "d = 10^{\\frac{\\mu}{5}+1} = 10 \\cdot \\exp\\left( \\ln 10 \\frac{\\mu}{5} \\right) \\\\\n",
    "\\delta d = \\frac{\\ln 10}{5} 10 \\exp\\left( \\ln 10 \\frac{\\mu}{5} \\right) \\delta \\mu = 0.2 \\ln 10 \\; d \\; \\delta \\mu\n",
    "$$"
   ]
  },
  {
   "cell_type": "code",
   "execution_count": null,
   "metadata": {},
   "outputs": [],
   "source": [
    "def distance_modulus_to_parsec(mu,mu_err=np.array([])):\n",
    "    \n",
    "    d = 10 * np.exp(np.log(10)*mu/5)\n",
    "    if len(mu_err) > 0:\n",
    "        d_err = 0.2 * np.log(10) * d * mu_err\n",
    "    print(f'd = ({d/1e6:.2f} + {d_err[0]/1e6:.2f} - {d_err[1]/1e6:.2f}) Mpc')\n",
    "    \n",
    "    return d, d_err\n",
    "\n",
    "d,d_err = distance_modulus_to_parsec(30.033,np.array([0.014,0.015]))"
   ]
  },
  {
   "cell_type": "code",
   "execution_count": null,
   "metadata": {},
   "outputs": [],
   "source": [
    "def area(mu,Npixel,inclination,**kwargs):\n",
    "    '''Calculate the survey area from parameters\n",
    "    \n",
    "    one can also pass the parameter dict as\n",
    "    area(**parameters[name])\n",
    "    additional parameters will be ignored\n",
    "    '''\n",
    "    \n",
    "    size_of_pixel = 0.2*u.arcsec\n",
    "\n",
    "    distance = Distance(distmod=mu)\n",
    "    pixel_area = (size_of_pixel/u.arcsec * distance/206265)**2\n",
    "        \n",
    "    return pixel_area.to(u.kpc**2) *Npixel / np.cos(inclination*u.deg)\n",
    "    \n",
    "\n",
    "area(**parameters['NGC0628'])"
   ]
  },
  {
   "cell_type": "markdown",
   "metadata": {},
   "source": [
    "## Compare with SDSS"
   ]
  },
  {
   "cell_type": "code",
   "execution_count": null,
   "metadata": {},
   "outputs": [],
   "source": [
    "from astroquery.skyview import SkyView\n",
    "from reproject import reproject_interp\n",
    "from skimage.measure import find_contours"
   ]
  },
  {
   "cell_type": "code",
   "execution_count": null,
   "metadata": {},
   "outputs": [],
   "source": [
    "try:\n",
    "    img = SkyView.get_images(galaxy.name,survey=['SDSSi','SDSSr','SDSSg'],height=10*u.arcmin,width=10*u.arcmin)\n",
    "    print('using SDSS data')\n",
    "except:\n",
    "    img = SkyView.get_images(galaxy.name,survey=['Mellinger Red','Mellinger Green','Mellinger Blue'],height=10*u.arcmin,width=10*u.arcmin)\n",
    "    print('using Mellinger')\n",
    "    \n",
    "r = img[0][0].data\n",
    "g = img[1][0].data\n",
    "b = img[2][0].data\n",
    "\n",
    "rgb=create_RGB(r,g,b,percentile=[98,98,98],weights=[0.8,0.8,0.8])\n",
    "\n",
    "muse_sdss, footprint = reproject_interp((galaxy.whitelight,galaxy.wcs),img[0][0].header)\n",
    "contours = find_contours(footprint,level=0.5)"
   ]
  },
  {
   "cell_type": "code",
   "execution_count": null,
   "metadata": {},
   "outputs": [],
   "source": [
    "fig=plt.figure(figsize=(single_column,single_column))\n",
    "ax=fig.add_subplot(projection=WCS(img[0][0].header))\n",
    "for cont in contours:\n",
    "    ax.plot(cont[:,1],cont[:,0],color='red',lw=0.5)\n",
    "ax.imshow(rgb)\n",
    "ax.set(xlabel='R.A. (J2000)',ylabel='Dec. (J2000)')\n",
    "plt.savefig(basedir/'reports'/galaxy.name/f'{galaxy.name}_SDSS.pdf',dpi=1000)\n",
    "plt.show()"
   ]
  },
  {
   "cell_type": "code",
   "execution_count": null,
   "metadata": {},
   "outputs": [],
   "source": [
    "with fits.open(galaxy.filename) as hdul:\n",
    "    hdul.info()"
   ]
  },
  {
   "cell_type": "code",
   "execution_count": null,
   "metadata": {},
   "outputs": [],
   "source": [
    "from astropy.nddata import Cutout2D\n",
    "\n",
    "tmp = tbl[(tbl['type']=='PN') & (tbl['OIII5006_SIGMA']>100) & (tbl['mOIII']<28)]\n",
    "\n",
    "row = tmp[3]\n",
    "PN = Cutout2D(galaxy.HA6562_SIGMA, (row['x'],row['y']), u.Quantity((15, 15), u.pixel),wcs=galaxy.wcs)\n",
    "\n",
    "fig,ax = plt.subplots(figsize=(5,5))\n",
    "im = ax.imshow(PN.data)\n",
    "fig.colorbar(im)\n",
    "plt.show()"
   ]
  },
  {
   "cell_type": "code",
   "execution_count": null,
   "metadata": {},
   "outputs": [],
   "source": [
    "# whitelight image\n",
    "with fits.open(data_ext / 'HST' / name / 'white_light' / f'{name.lower()}_white_24rgb.fits') as hdul:\n",
    "    hst_whitelight = NDData(hdul[0].data,meta=hdul[0].header,wcs=WCS(hdul[0].header))\n",
    "    hst_whitelight.data[hst_whitelight.data==0] = np.nan"
   ]
  },
  {
   "cell_type": "code",
   "execution_count": null,
   "metadata": {},
   "outputs": [],
   "source": [
    "from astropy.nddata import Cutout2D"
   ]
  },
  {
   "cell_type": "code",
   "execution_count": null,
   "metadata": {},
   "outputs": [],
   "source": [
    "cutout_hst  = Cutout2D(hst_whitelight.data,tmp[2]['SkyCoord'],size=4*u.arcsec,wcs=hst_whitelight.wcs)\n",
    "cutout_muse = Cutout2D(galaxy.OIII5006,tmp[2]['SkyCoord'],size=6*u.arcsec,wcs=galaxy.wcs)"
   ]
  },
  {
   "cell_type": "code",
   "execution_count": null,
   "metadata": {},
   "outputs": [],
   "source": [
    "fig = plt.figure(figsize=(10,5))\n",
    "\n",
    "norm = simple_norm(cutout_hst.data,'linear',clip=False,percent=99)\n",
    "ax1  = fig.add_subplot(121,projection=cutout_hst.wcs)\n",
    "ax1.imshow(cutout_hst.data,norm=norm,cmap=plt.cm.gray_r)\n",
    "ax1.scatter(*tmp[1]['SkyCoord'].to_pixel(cutout_hst.wcs),c='r',s=1)\n",
    "ax1.scatter(*tmp[2]['SkyCoord'].to_pixel(cutout_hst.wcs),c='r',s=1)\n",
    "\n",
    "norm = simple_norm(cutout_muse.data,'linear',clip=False,percent=99)\n",
    "ax2  = fig.add_subplot(122,projection=cutout_muse.wcs)\n",
    "ax2.imshow(cutout_muse.data,norm=norm,cmap=plt.cm.Greens)\n",
    "\n",
    "plt.show()"
   ]
  },
  {
   "cell_type": "code",
   "execution_count": null,
   "metadata": {},
   "outputs": [],
   "source": [
    "cutout_hst.shape"
   ]
  },
  {
   "cell_type": "code",
   "execution_count": null,
   "metadata": {},
   "outputs": [],
   "source": [
    "tmp[1]['SkyCoord'].to_pixel(cutout_hst.wcs)"
   ]
  },
  {
   "cell_type": "code",
   "execution_count": null,
   "metadata": {},
   "outputs": [],
   "source": [
    "tmp[2]['SkyCoord'].to_pixel(cutout_hst.wcs)"
   ]
  },
  {
   "cell_type": "code",
   "execution_count": null,
   "metadata": {},
   "outputs": [],
   "source": [
    "tmp[1]['SkyCoord'].separation(tmp[2]['SkyCoord'])"
   ]
  }
 ],
 "metadata": {
  "kernelspec": {
   "display_name": "Python 3",
   "language": "python",
   "name": "python3"
  },
  "language_info": {
   "codemirror_mode": {
    "name": "ipython",
    "version": 3
   },
   "file_extension": ".py",
   "mimetype": "text/x-python",
   "name": "python",
   "nbconvert_exporter": "python",
   "pygments_lexer": "ipython3",
   "version": "3.7.7"
  },
  "pycharm": {
   "stem_cell": {
    "cell_type": "raw",
    "metadata": {
     "collapsed": false
    },
    "source": []
   }
  },
  "toc": {
   "base_numbering": 1,
   "nav_menu": {},
   "number_sections": true,
   "sideBar": true,
   "skip_h1_title": false,
   "title_cell": "Table of Contents",
   "title_sidebar": "Contents",
   "toc_cell": false,
   "toc_position": {
    "height": "678.667px",
    "left": "27px",
    "top": "158.167px",
    "width": "256.533px"
   },
   "toc_section_display": true,
   "toc_window_display": true
  }
 },
 "nbformat": 4,
 "nbformat_minor": 2
}
