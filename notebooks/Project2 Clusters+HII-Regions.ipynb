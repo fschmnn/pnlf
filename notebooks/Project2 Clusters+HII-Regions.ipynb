{
 "cells": [
  {
   "cell_type": "markdown",
   "metadata": {},
   "source": [
    "# Cluster and HII-regions\n",
    "\n",
    "the aim of this notebook is to combine the HII-region and cluster catalogues"
   ]
  },
  {
   "cell_type": "code",
   "execution_count": null,
   "metadata": {},
   "outputs": [],
   "source": [
    "# reload modules after they have been modified\n",
    "%load_ext autoreload\n",
    "%autoreload 2\n",
    "\n",
    "from pymuse.packages import *\n",
    "\n",
    "from pymuse.constants import tab10, single_column, two_column\n",
    "\n",
    "%matplotlib inline\n",
    "%config InlineBackend.figure_format = 'retina'"
   ]
  },
  {
   "cell_type": "code",
   "execution_count": null,
   "metadata": {},
   "outputs": [],
   "source": [
    "logging.basicConfig(stream=sys.stdout,\n",
    "                    #format='(levelname)s %(name)s %(message)s',\n",
    "                    datefmt='%H:%M:%S',\n",
    "                    level=logging.INFO)\n",
    "\n",
    "logger = logging.getLogger(__name__)"
   ]
  },
  {
   "cell_type": "markdown",
   "metadata": {},
   "source": [
    "## Read in data\n",
    "\n",
    "| name    | HST | MUSE |\n",
    "|---------|-----|------|\n",
    "| IC5332  | f   | DR1  |\n",
    "| NGC0628 | yes | DR1  |\n",
    "| NGC1087 | yes | DR1  |\n",
    "| NGC1300 | wait| DR2  |\n",
    "| NGC1365 | yes | DR1  |\n",
    "| NGC1385 | wait| DR2  |\n",
    "| NGC1433 | not | DR2  |\n",
    "| NGC1512 | not | DR1  |\n",
    "| NGC1566 | *yes | DR1  |\n",
    "| NGC1672 |     | DR1  |\n",
    "| NGC2835 |     | DR1  |\n",
    "| NGC3351 | *yes | DR1  |\n",
    "| NGC3627 |     | DR1  |\n",
    "| NGC4254 |     | DR1  |\n",
    "| NGC4303 |     | DR2  |\n",
    "| NGC4321 |     | wait |\n",
    "| NGC4535 |     | DR1  |\n",
    "| NGC5068 |     | DR1  |\n",
    "| NGC7496 |     | DR2  |\n"
   ]
  },
  {
   "cell_type": "code",
   "execution_count": null,
   "metadata": {},
   "outputs": [],
   "source": [
    "from pymuse.io import ReadLineMaps\n",
    "from pymuse.auxiliary import filter_table\n",
    "\n",
    "name = 'NGC1566'\n",
    "\n",
    "# first we need to specify the path to the raw data\n",
    "data_raw = Path('d:\\downloads\\MUSEDAP')\n",
    "data_ext = Path('g:\\Archive')\n",
    "basedir = Path('..')"
   ]
  },
  {
   "cell_type": "code",
   "execution_count": null,
   "metadata": {},
   "outputs": [],
   "source": [
    "# read in the data we will be working with and print some information\n",
    "galaxy = ReadLineMaps(data_raw,name)\n",
    "\n",
    "with open(basedir / 'data' / 'interim' / 'parameters.yml') as yml_file:\n",
    "    parameters = yaml.load(yml_file,Loader=yaml.FullLoader)\n",
    "    \n",
    "setattr(galaxy,'aperturesize',parameters[galaxy.name]['aperturesize'])\n",
    "setattr(galaxy,'binsize',parameters[galaxy.name]['binsize'])\n",
    "setattr(galaxy,'mu',parameters[galaxy.name]['mu'])\n",
    "setattr(galaxy,'alpha',parameters[galaxy.name]['power_index'])\n",
    "setattr(galaxy,'completeness_limit',parameters[galaxy.name]['completeness_limit'])\n",
    "setattr(galaxy,'roundness',parameters[galaxy.name]['roundness'])\n",
    "setattr(galaxy,'sharplo',parameters[galaxy.name]['sharplo'])\n",
    "setattr(galaxy,'sharphi',parameters[galaxy.name]['sharphi'])\n",
    "setattr(galaxy,'threshold',parameters[galaxy.name]['threshold'])\n",
    "setattr(galaxy,'zoomin',parameters[galaxy.name]['zoomin'])"
   ]
  },
  {
   "cell_type": "code",
   "execution_count": null,
   "metadata": {},
   "outputs": [],
   "source": [
    "# nebulae catalogue from Francesco (mostly HII-regions)\n",
    "with fits.open(basedir / 'data' / 'external' / 'Nebulae_Catalogue.fits') as hdul:\n",
    "    nebulae = Table(hdul[1].data)\n",
    "    \n",
    "nebulae = nebulae[nebulae['gal_name']==name]    \n",
    "nebulae.rename_columns(['cen_x','cen_y'],['x','y'])\n",
    "\n",
    "#nebulae['SkyCoord'] = SkyCoord(nebulae['cen_ra']*u.deg,nebulae['cen_dec']*u.deg,frame='icrs')\n",
    "\n",
    "nebulae = filter_table(nebulae,BPT_NII=0,BPT_SII=0,BPT_OI=0,flag_star=0)\n",
    "\n",
    "nebulae = nebulae[['region_ID','x','y','met_scal','Delta_met','logq_D91']]\n",
    "nebulae.rename_columns(['region_ID','met_scal','Delta_met','logq_D91'],['ID','Z','Z_local','ionization'])\n",
    "nebulae['SkyCoord'] = SkyCoord.from_pixel(nebulae['x'],nebulae['y'],galaxy.wcs)\n",
    "\n",
    "print(f'{len(nebulae)} nebulae in catalogue')"
   ]
  },
  {
   "cell_type": "code",
   "execution_count": null,
   "metadata": {},
   "outputs": [],
   "source": [
    "# whitelight image\n",
    "\n",
    "filename = data_ext / 'HST' / name / 'white_light' / f'{name.lower()}_white_24rgb.fits'\n",
    "\n",
    "with fits.open(filename) as hdul:\n",
    "    hst_whitelight = NDData(hdul[0].data,meta=hdul[0].header,wcs=WCS(hdul[0].header))\n",
    "    hst_whitelight.data[hst_whitelight.data==0] = np.nan"
   ]
  },
  {
   "cell_type": "code",
   "execution_count": null,
   "metadata": {},
   "outputs": [],
   "source": [
    "filename = data_ext / 'MUSE' / 'MUSEDAP' / name / f'{name}_MAPS.fits'\n",
    "with fits.open(filename) as hdul:\n",
    "    muse_whitelight = NDData(hdul['FLUX'].data,meta=hdul['FLUX'].header,wcs=WCS(hdul['FLUX'].header))   "
   ]
  },
  {
   "cell_type": "code",
   "execution_count": null,
   "metadata": {},
   "outputs": [],
   "source": [
    "# cluster catalogues\n",
    "\n",
    "filename = data_ext / 'HST' / name / 'clusters_photometry_v0_9' / f'{name}_phangshst_cluster_allcandidates_v0_9.fits'\n",
    "\n",
    "with fits.open(filename) as hdul:\n",
    "    clusters = Table(hdul[1].data)\n",
    "  \n",
    "clusters['SkyCoord'] = SkyCoord(clusters['PHANGS_RA']*u.degree,clusters['PHANGS_DEC']*u.degree)\n",
    "\n",
    "clusters.rename_columns(['ID_PHANGS_CLUSTERS_V0_9','PHANGS_MASS_MINCHISQ','PHANGS_MASS_MINCHISQ_ERR',\n",
    "                         'PHANGS_AGE_MINCHISQ','PHANGS_AGE_BAYES_ERR',\n",
    "                         'PHANGS_EBV_MINCHISQ','PHANGS_EBV_MINCHISQ_ERR'],\n",
    "                        ['ID','mass','mass_err','age','age_err','Ebv','Ebv_err'])\n",
    "clusters = clusters['ID','mass','mass_err','age','age_err','Ebv','Ebv_err','SkyCoord']\n",
    "clusters['in_frame'] = False\n",
    "\n",
    "#clusters = clusters[clusters['in_frame'] & (clusters['mass']>1e3)]"
   ]
  },
  {
   "cell_type": "markdown",
   "metadata": {},
   "source": [
    "## Compare the two catalogues"
   ]
  },
  {
   "cell_type": "code",
   "execution_count": null,
   "metadata": {},
   "outputs": [],
   "source": [
    "from pymuse.auxiliary import diameter, angular_diameter"
   ]
  },
  {
   "cell_type": "code",
   "execution_count": null,
   "metadata": {},
   "outputs": [],
   "source": [
    "from scipy.stats import binned_statistic, pearsonr"
   ]
  },
  {
   "cell_type": "code",
   "execution_count": null,
   "metadata": {},
   "outputs": [],
   "source": [
    "catalogue = nebulae"
   ]
  },
  {
   "cell_type": "code",
   "execution_count": null,
   "metadata": {},
   "outputs": [],
   "source": [
    "catalogue = catalogue[~np.isnan(catalogue['ionization'])]"
   ]
  },
  {
   "cell_type": "code",
   "execution_count": null,
   "metadata": {},
   "outputs": [],
   "source": [
    "bins = 12\n",
    "mean, bin_edges, binnumber = binned_statistic(np.log10(catalogue['ionization']),\n",
    "                                              catalogue['Z_local'],\n",
    "                                              statistic='mean',\n",
    "                                              bins=bins)\n",
    "std, _ , _ = binned_statistic(np.log10(catalogue['ionization']),\n",
    "                              catalogue['Z_local'],\n",
    "                              statistic='std',\n",
    "                              bins=bins)"
   ]
  },
  {
   "cell_type": "code",
   "execution_count": null,
   "metadata": {},
   "outputs": [],
   "source": [
    "fig,ax = plt.subplots(1)\n",
    "\n",
    "ax.errorbar((bin_edges[1:]+bin_edges[:-1])/2,mean,yerr=std,fmt='o')"
   ]
  },
  {
   "cell_type": "code",
   "execution_count": null,
   "metadata": {},
   "outputs": [],
   "source": [
    "pearsonr(np.log10(catalogue['ionization']),catalogue['Z_local'])"
   ]
  },
  {
   "cell_type": "code",
   "execution_count": null,
   "metadata": {},
   "outputs": [],
   "source": [
    "from astropy.coordinates import match_coordinates_sky, search_around_sky\n",
    "#idxc, idxn, d2d, d3d = search_around_sky(nebulae['SkyCoord'],clusters['SkyCoord'],max_sep_ang)"
   ]
  },
  {
   "cell_type": "code",
   "execution_count": null,
   "metadata": {},
   "outputs": [],
   "source": [
    "cat = clusters[(clusters['age']>0) & (clusters['mass']>5e3)]\n",
    "\n",
    "idx, sep2d, _ = match_coordinates_sky(nebulae['SkyCoord'],cat['SkyCoord'])"
   ]
  },
  {
   "cell_type": "code",
   "execution_count": null,
   "metadata": {},
   "outputs": [],
   "source": [
    "catalogue = clusters[(clusters['age']>0) & (clusters['age']<10) & (clusters['mass']>0)]\n",
    "\n",
    "# define the maximum seperation\n",
    "max_sep_dis = 30 * u.pc\n",
    "max_sep_ang = 206265 * (max_sep_dis / Distance(distmod=galaxy.mu)).decompose() * u.arcsec\n",
    "\n",
    "# the new columns we want to calculate\n",
    "nearby_cluster = []       # list of clusters within max_sep_ang\n",
    "N_nearby_cluster = []     # number of nearby clusters\n",
    "sep = []                  # distance to the nearest cluster\n",
    "age = []                  # age of nearest cluster (not NaN)\n",
    "mass = []                 # mass of nearest cluster (not NaN)\n",
    "mass_dis = []             # distance weighted mass\n",
    "for row in nebulae:\n",
    "    \n",
    "    separation = row['SkyCoord'].separation(catalogue['SkyCoord'])\n",
    "    # mask for all clusters within max_sep_dis\n",
    "    mask = separation.__lt__(max_sep_ang)\n",
    "\n",
    "    cluster_sub = catalogue[mask]\n",
    "    \n",
    "    N_nearby_cluster.append(np.sum(mask))\n",
    "    nearby_cluster.append('')\n",
    "    \n",
    "    if len(cluster_sub) > 0:\n",
    "        sep.append(np.min(separation[mask]))\n",
    "        age.append(np.mean(cluster_sub['age']))\n",
    "        mass.append(np.sum(cluster_sub['mass']))\n",
    "        mass_dis.append(np.sum(cluster_sub['mass']/separation[mask]**2).value)\n",
    "    else:\n",
    "        sep.append(np.inf)\n",
    "        age.append(np.inf)\n",
    "        mass.append(0)\n",
    "        mass_dis.append(0)\n",
    "        \n",
    "#catalogue['nearby_clusters'] = nearby_cluster\n",
    "nebulae['N_nearby_cluster'] = N_nearby_cluster\n",
    "nebulae['sep'] = sep\n",
    "nebulae['age'] = age\n",
    "nebulae['mass'] = mass\n",
    "nebulae['mass_dis'] = mass_dis\n"
   ]
  },
  {
   "cell_type": "code",
   "execution_count": null,
   "metadata": {},
   "outputs": [],
   "source": [
    "nebulae[nebulae['N_nearby_cluster']>2]"
   ]
  },
  {
   "cell_type": "code",
   "execution_count": null,
   "metadata": {},
   "outputs": [],
   "source": [
    "def plot_corner(table,rows,columns):\n",
    "    '''plot rows against columns'''\n",
    "    \n",
    "    if set(rows)-set(table.columns):\n",
    "        raise ValueError(f'missing column: {set(rows)-set(table.columns)}')\n",
    "    if set(columns)-set(table.columns):\n",
    "        raise ValueError(f'missing column: {set(columns)-set(table.columns)}')\n",
    "        \n",
    "        \n",
    "    fig, axes = plt.subplots(nrows=len(rows),ncols=len(columns),\n",
    "                             sharex='col',sharey='row',\n",
    "                             figsize=(2*two_column,2*two_column*len(rows)/len(columns)))\n",
    "    \n",
    "    for i,col in enumerate(columns):\n",
    "        for j,row in enumerate(rows):\n",
    "            tmp = table[(table[col]>0)]\n",
    "            \n",
    "            ax = axes[j,i]\n",
    "            ax.scatter(tmp[col],tmp[row])\n",
    "                \n",
    "            if j==len(rows)-1:\n",
    "                ax.set_xlabel(col.replace('_',''))\n",
    "                ax.set_xscale('log')\n",
    "            if i%len(columns)==0:\n",
    "                ax.set_ylabel(row.replace('_',''))\n",
    "                #ax.set_ylim([np.nanpercentile(tmp[row],1),np.nanpercentile(tmp[row],99)])\n",
    "                \n",
    "    plt.subplots_adjust(hspace = .001)      \n",
    "    plt.subplots_adjust(wspace = .001)      \n",
    "\n",
    "    plt.show()\n",
    "            \n",
    "    \n",
    "plot_corner(nebulae[nebulae['N_nearby_cluster']>0],rows=['Z_local','ionization'],columns=['N_nearby_cluster','mass','age','mass_dis'])"
   ]
  },
  {
   "cell_type": "code",
   "execution_count": null,
   "metadata": {},
   "outputs": [],
   "source": [
    "from pymuse.detection import match_catalogues\n",
    "\n",
    "idx, sep = match_catalogues(clusters[['x','y']],nebulae[['x','y']])\n",
    "\n",
    "tolerance = 5\n",
    "within_tolerance = len(sep[sep<tolerance])\n",
    "\n",
    "print(f'{within_tolerance} of {len(sep)} clusters have an HII-region within {tolerance} pixel ({within_tolerance / len(sep)*100:.1f} %)')\n",
    "print(f'mean seperation is {sep[sep<tolerance].mean():.2f} pixel')\n",
    "\n",
    "clusters['sep'] = sep\n",
    "clusters['Z'] = nebulae[idx]['met_scal']\n",
    "clusters['ionization'] = nebulae[idx]['met_scal']\n",
    "clusters['Z_without_radial'] = nebulae[idx]['Delta_met']"
   ]
  },
  {
   "cell_type": "code",
   "execution_count": null,
   "metadata": {},
   "outputs": [],
   "source": [
    "from pymuse.plot.plot import create_RGB\n",
    "\n",
    "#HII = nebulae[nebulae['HII_region_class']==1]\n",
    "\n",
    "fig = plt.figure(figsize=(8,8))\n",
    "ax  = fig.add_subplot(projection=galaxy.wcs)\n",
    "\n",
    "norm = simple_norm(galaxy.OIII5006_DAP,clip=False,percent=99)\n",
    "#img = create_RGB(galaxy.HA6562,galaxy.OIII5006_DAP,galaxy.SII6716,weights=[0.6,1,0.6],percentile=[95,99.,95])\n",
    "#ax.imshow(galaxy.OIII5006_DAP,norm=norm,cmap=plt.cm.Blues)\n",
    "#ax.imshow(img)\n",
    "\n",
    "ax.scatter(clusters['x'],clusters['y'],marker='o',s=3,lw=0.3,color='black',alpha=0.9,label='cluster')\n",
    "im = ax.scatter(nebulae['x'],nebulae['y'],marker='o',s=5,lw=0.3,\n",
    "           c=nebulae['Delta_met'], cmap=plt.cm.coolwarm,alpha=0.9,label='nebulae')\n",
    "plt.colorbar(im)\n",
    "plt.legend()\n",
    "print(f'{len(nebulae)} HII regions\\n{len(clusters)} Clusters')\n",
    "\n",
    "filename = basedir / 'reports' / 'cluster' / 'clusters+HII.pdf'\n",
    "plt.savefig(filename,bbox_inches='tight',dpi=600)"
   ]
  },
  {
   "cell_type": "markdown",
   "metadata": {
    "heading_collapsed": true
   },
   "source": [
    "## Reproject "
   ]
  },
  {
   "cell_type": "code",
   "execution_count": null,
   "metadata": {
    "hidden": true
   },
   "outputs": [],
   "source": [
    "from reproject import reproject_interp"
   ]
  },
  {
   "cell_type": "code",
   "execution_count": null,
   "metadata": {
    "hidden": true
   },
   "outputs": [],
   "source": [
    "# interpolate the HST data onto the MUSE image\n",
    "hst_to_muse , hst_to_muse_footprint = reproject_interp(hst_whitelight,muse_whitelight.meta)\n",
    "\n",
    "fig = plt.figure(figsize=(6,4))\n",
    "ax1 = fig.add_subplot(121,projection=muse_whitelight.wcs)\n",
    "ax2 = fig.add_subplot(122,projection=muse_whitelight.wcs)\n",
    "\n",
    "norm = simple_norm(hst_to_muse,'linear',clip=False,percent=99)\n",
    "ax1.imshow(hst_to_muse,norm=norm)\n",
    "\n",
    "ax2.imshow(hst_to_muse_footprint)\n",
    "\n",
    "plt.show()"
   ]
  },
  {
   "cell_type": "code",
   "execution_count": null,
   "metadata": {
    "hidden": true
   },
   "outputs": [],
   "source": [
    "# interpolate the MUSE data onto the HST image\n",
    "muse_to_hst , muse_to_hst_footprint = reproject_interp(muse_whitelight,hst_whitelight.meta)\n",
    "\n",
    "fig = plt.figure(figsize=(6,4))\n",
    "ax1 = fig.add_subplot(121,projection=hst_whitelight.wcs)\n",
    "ax2 = fig.add_subplot(122,projection=hst_whitelight.wcs)\n",
    "\n",
    "norm = simple_norm(muse_to_hst,'linear',clip=False,percent=99)\n",
    "ax1.imshow(muse_to_hst,norm=norm)\n",
    "\n",
    "ax2.imshow(muse_to_hst_footprint)\n",
    "\n",
    "plt.show()"
   ]
  },
  {
   "cell_type": "markdown",
   "metadata": {},
   "source": [
    "## Starburst99"
   ]
  },
  {
   "cell_type": "code",
   "execution_count": null,
   "metadata": {},
   "outputs": [],
   "source": [
    "try:\n",
    "    from starburst99.main import Cluster  \n",
    "    from starburst99.io import read_starburst99\n",
    "except ImportError:\n",
    "    print('Package `starburst99` not installed')\n",
    "    \n",
    "star_path = Path('../../Starburst99/data')\n",
    "noutput = 'cluster'"
   ]
  },
  {
   "cell_type": "code",
   "execution_count": null,
   "metadata": {},
   "outputs": [],
   "source": [
    "def create_cluster(folder,**kwargs):\n",
    "\n",
    "    parameters = {\n",
    "    \"name\" : 'standard',\n",
    "    \"isf\" : -1,\n",
    "    \"mass\" : 1.,\n",
    "    \"sfr\" : 1,\n",
    "    \"ninterv\" : 2,\n",
    "    \"xponent\" : '1.3,2.3',\n",
    "    \"xmaslim\" : '0.1,0.5,120',\n",
    "    \"sncut\" : 8.,\n",
    "    \"bhcut\" : 120.,\n",
    "    \"model\" : 64,\n",
    "    \"wind_model\" : 0,\n",
    "    \"tinitial\" : 0.01,\n",
    "    \"time_scale\" : 0,\n",
    "    \"time_step\" : 0.1,\n",
    "    \"n_steps\" : 1000,\n",
    "    \"tmax\" : 50,\n",
    "    \"jmg\" : 3,\n",
    "    \"atmos\" : 5,\n",
    "    \"metallicity\" : 3,\n",
    "    \"uvline\" : 1}\n",
    "\n",
    "    # assign the new parameters\n",
    "    for k,v in kwargs.items():\n",
    "        if k in parameters:\n",
    "            parameters[k] = v\n",
    "    \n",
    "    # open tempalte\n",
    "    with open(basedir/'data'/'input.template') as f:\n",
    "        template = f.read()\n",
    "    \n",
    "    template = template.format(**parameters)\n",
    "\n",
    "    #write to templae\n",
    "    with open(folder/'input.out','w') as f:\n",
    "        f.write(template)\n",
    "        \n",
    "        \n"
   ]
  },
  {
   "cell_type": "code",
   "execution_count": null,
   "metadata": {},
   "outputs": [],
   "source": [
    "from starburst99.main import Cluster\n",
    "        \n",
    "cluster = Cluster()"
   ]
  },
  {
   "cell_type": "code",
   "execution_count": null,
   "metadata": {},
   "outputs": [],
   "source": [
    "from starburst99.io import read"
   ]
  },
  {
   "cell_type": "code",
   "execution_count": null,
   "metadata": {},
   "outputs": [],
   "source": [
    "def create_cluster(filename,**kwargs):\n",
    "\n",
    "\n",
    "    parameters = {\n",
    "    \"name\" : 'standard',\n",
    "    \"isf\" : -1,\n",
    "    \"mass\" : 1.,\n",
    "    \"sfr\" : 1,\n",
    "    \"ninterv\" : 2,\n",
    "    \"xponent\" : '1.3,2.3',\n",
    "    \"xmaslim\" : '0.1,0.5,120',\n",
    "    \"sncut\" : 8.,\n",
    "    \"bhcut\" : 120.,\n",
    "    \"model\" : 64,\n",
    "    \"wind_model\" : 0,\n",
    "    \"tinitial\" : 0.01,\n",
    "    \"time_scale\" : 0,\n",
    "    \"time_step\" : 0.1,\n",
    "    \"n_steps\" : 1000,\n",
    "    \"tmax\" : 50,\n",
    "    \"jmg\" : 3,\n",
    "    \"atmos\" : 5,\n",
    "    \"metallicity\" : 3,\n",
    "    \"uvline\" : 1}\n",
    "\n",
    "    # assign the new parameters\n",
    "    for k,v in kwargs.items():\n",
    "        if k in parameters:\n",
    "            parameters[k] = v\n",
    "    \n",
    "    # open tempalte\n",
    "    with open(star_path/'input.template') as f:\n",
    "        template = f.read()\n",
    "    \n",
    "    template = template.format(**parameters)\n",
    "\n",
    "    #write to templae\n",
    "    with open(star_path/'input.out','w') as f:\n",
    "        f.write(template)\n",
    "        \n",
    "create_cluster(None,model=34,sncut=12)"
   ]
  },
  {
   "cell_type": "code",
   "execution_count": null,
   "metadata": {},
   "outputs": [],
   "source": []
  },
  {
   "cell_type": "code",
   "execution_count": null,
   "metadata": {},
   "outputs": [],
   "source": [
    "from tkinter import filedialog\n",
    "\n",
    "def file_save():\n",
    "    f = filedialog.asksaveasfile(mode='w', defaultextension=\".out\")\n",
    "    if f is None: # asksaveasfile return `None` if dialog closed with \"cancel\".\n",
    "        return\n",
    "    f.write(template)\n",
    "    f.close() # `()` was missing."
   ]
  },
  {
   "cell_type": "code",
   "execution_count": null,
   "metadata": {},
   "outputs": [],
   "source": [
    "\n",
    "file_save()"
   ]
  },
  {
   "cell_type": "code",
   "execution_count": null,
   "metadata": {},
   "outputs": [],
   "source": []
  },
  {
   "cell_type": "code",
   "execution_count": null,
   "metadata": {},
   "outputs": [],
   "source": [
    "cluster1e4 = Cluster(star_path / 'GENEVA_v40_0.014_1e4Msun' / noutput)\n"
   ]
  },
  {
   "cell_type": "code",
   "execution_count": null,
   "metadata": {},
   "outputs": [],
   "source": [
    "cluster1e4 = Cluster(star_path / 'GENEVA_v40_0.014_1e4Msun' / noutput)\n",
    "cluster1e6 = Cluster(star_path / 'GENEVA_v40_0.014_1e6Msun' / noutput)\n",
    "cluster_new = cluster1e4.scale(1e6)"
   ]
  },
  {
   "cell_type": "markdown",
   "metadata": {},
   "source": [
    "### Compare results of the scaling"
   ]
  },
  {
   "cell_type": "code",
   "execution_count": null,
   "metadata": {},
   "outputs": [],
   "source": [
    "fig = plt.figure(figsize=(8,6))\n",
    "ax = fig.add_subplot()\n",
    "\n",
    "tablename = 'yields'\n",
    "\n",
    "tbl1 = getattr(cluster1e4,tablename)\n",
    "tbl2 = getattr(cluster1e6,tablename)\n",
    "tbl3 = getattr(cluster_new,tablename)\n",
    "\n",
    "for col in tbl1.columns[1:]:\n",
    "    color = next(ax._get_lines.prop_cycler)['color']\n",
    "    \n",
    "    ax.plot(tbl1['Time'],tbl1[col],color=color,ls='--',label=col.replace('_',''))\n",
    "    ax.plot(tbl2['Time'],tbl2[col],color=color,ls=':',lw=2)\n",
    "    ax.plot(tbl3['Time'],tbl3[col],color=color,lw=0.5)\n",
    "\n",
    "print('-- : 1e4, .. : 1e6, __ : scaled')\n",
    "#ax.set_yscale('log')\n",
    "plt.legend()\n",
    "plt.show()"
   ]
  },
  {
   "cell_type": "code",
   "execution_count": null,
   "metadata": {},
   "outputs": [],
   "source": [
    "fig = plt.figure(figsize=(8,6))\n",
    "ax = fig.add_subplot()\n",
    "\n",
    "tablename = 'yields'\n",
    "column = 'O'\n",
    "tbl1 = getattr(cluster1e4,tablename)\n",
    "tbl2 = getattr(cluster1e6,tablename)\n",
    "tbl3 = getattr(cluster_new,tablename)\n",
    "\n",
    "\n",
    "\n",
    "color = next(ax._get_lines.prop_cycler)['color']\n",
    "    \n",
    "ax.plot(tbl1['Time'],tbl1[column],color=color,ls='--',label='1e4')\n",
    "ax.plot(tbl2['Time'],tbl2[column],color=color,ls=':',lw=2,label='1e6')\n",
    "ax.plot(tbl3['Time'],tbl3[column],color=color,lw=0.5,label='scaled')\n",
    "\n",
    "plt.legend()\n",
    "ax.set_yscale('log')\n",
    "#plt.legend()\n",
    "plt.show()"
   ]
  }
 ],
 "metadata": {
  "kernelspec": {
   "display_name": "Python 3",
   "language": "python",
   "name": "python3"
  },
  "language_info": {
   "codemirror_mode": {
    "name": "ipython",
    "version": 3
   },
   "file_extension": ".py",
   "mimetype": "text/x-python",
   "name": "python",
   "nbconvert_exporter": "python",
   "pygments_lexer": "ipython3",
   "version": "3.7.7"
  },
  "toc": {
   "base_numbering": 1,
   "nav_menu": {},
   "number_sections": true,
   "sideBar": true,
   "skip_h1_title": false,
   "title_cell": "Table of Contents",
   "title_sidebar": "Contents",
   "toc_cell": false,
   "toc_position": {
    "height": "calc(100% - 180px)",
    "left": "10px",
    "top": "150px",
    "width": "341.333px"
   },
   "toc_section_display": true,
   "toc_window_display": true
  }
 },
 "nbformat": 4,
 "nbformat_minor": 4
}
