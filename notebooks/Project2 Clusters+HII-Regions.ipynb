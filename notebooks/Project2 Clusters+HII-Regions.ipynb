{
 "cells": [
  {
   "cell_type": "markdown",
   "metadata": {},
   "source": [
    "# Cluster and HII-regions\n",
    "\n",
    "the aim of this notebook is to combine the HII-region and cluster catalogues"
   ]
  },
  {
   "cell_type": "code",
   "execution_count": 1,
   "metadata": {},
   "outputs": [],
   "source": [
    "# reload modules after they have been modified\n",
    "%load_ext autoreload\n",
    "%autoreload 2\n",
    "\n",
    "from pymuse.packages import *\n",
    "\n",
    "from pymuse.constants import tab10, single_column, two_column\n",
    "\n",
    "%matplotlib inline\n",
    "%config InlineBackend.figure_format = 'retina'"
   ]
  },
  {
   "cell_type": "code",
   "execution_count": 2,
   "metadata": {},
   "outputs": [],
   "source": [
    "logging.basicConfig(stream=sys.stdout,\n",
    "                    #format='(levelname)s %(name)s %(message)s',\n",
    "                    datefmt='%H:%M:%S',\n",
    "                    level=logging.INFO)\n",
    "\n",
    "logger = logging.getLogger(__name__)"
   ]
  },
  {
   "cell_type": "markdown",
   "metadata": {},
   "source": [
    "## Read in data\n",
    "\n",
    "| name    | HST | MUSE |\n",
    "|---------|-----|------|\n",
    "| IC5332  | f   | DR1  |\n",
    "| NGC0628 | yes | DR1  |\n",
    "| NGC1087 | yes | DR1  |\n",
    "| NGC1300 | wait| DR2  |\n",
    "| NGC1365 | yes | DR1  |\n",
    "| NGC1385 | wait| DR2  |\n",
    "| NGC1433 | not | DR2  |\n",
    "| NGC1512 | not | DR1  |\n",
    "| NGC1566 | *yes | DR1  |\n",
    "| NGC1672 |     | DR1  |\n",
    "| NGC2835 |     | DR1  |\n",
    "| NGC3351 | *yes | DR1  |\n",
    "| NGC3627 |     | DR1  |\n",
    "| NGC4254 |     | DR1  |\n",
    "| NGC4303 |     | DR2  |\n",
    "| NGC4321 |     | wait |\n",
    "| NGC4535 |     | DR1  |\n",
    "| NGC5068 |     | DR1  |\n",
    "| NGC7496 |     | DR2  |\n"
   ]
  },
  {
   "cell_type": "code",
   "execution_count": 3,
   "metadata": {},
   "outputs": [],
   "source": [
    "from pymuse.io import ReadLineMaps\n",
    "from pymuse.auxiliary import filter_table\n",
    "\n",
    "name = 'NGC1566'\n",
    "\n",
    "# first we need to specify the path to the raw data\n",
    "data_raw = Path('d:\\downloads\\MUSEDAP')\n",
    "data_ext = Path('g:\\Archive')\n",
    "basedir = Path('..')"
   ]
  },
  {
   "cell_type": "code",
   "execution_count": 5,
   "metadata": {},
   "outputs": [
    {
     "name": "stdout",
     "output_type": "stream",
     "text": [
      "INFO:pymuse.io:loading NGC1566\n",
      "INFO:pymuse.io:replacing OIII5006 map\n",
      "WARNING:pymuse.io:no Av available\n",
      "INFO:pymuse.io:file loaded with 4 extensions\n"
     ]
    }
   ],
   "source": [
    "# read in the data we will be working with and print some information\n",
    "galaxy = ReadLineMaps(data_raw,name)\n",
    "\n",
    "with open(basedir / 'data' / 'interim' / 'parameters.yml') as yml_file:\n",
    "    parameters = yaml.load(yml_file,Loader=yaml.FullLoader)\n",
    "    \n",
    "setattr(galaxy,'aperturesize',parameters[galaxy.name]['aperturesize'])\n",
    "setattr(galaxy,'binsize',parameters[galaxy.name]['binsize'])\n",
    "setattr(galaxy,'mu',parameters[galaxy.name]['mu'])\n",
    "setattr(galaxy,'alpha',parameters[galaxy.name]['power_index'])\n",
    "setattr(galaxy,'completeness_limit',parameters[galaxy.name]['completeness_limit'])\n",
    "setattr(galaxy,'roundness',parameters[galaxy.name]['roundness'])\n",
    "setattr(galaxy,'sharplo',parameters[galaxy.name]['sharplo'])\n",
    "setattr(galaxy,'sharphi',parameters[galaxy.name]['sharphi'])\n",
    "setattr(galaxy,'threshold',parameters[galaxy.name]['threshold'])\n",
    "setattr(galaxy,'zoomin',parameters[galaxy.name]['zoomin'])"
   ]
  },
  {
   "cell_type": "code",
   "execution_count": 13,
   "metadata": {},
   "outputs": [
    {
     "name": "stdout",
     "output_type": "stream",
     "text": [
      "1010 nebulae in catalogue\n"
     ]
    }
   ],
   "source": [
    "# nebulae catalogue from Francesco (mostly HII-regions)\n",
    "with fits.open(basedir / 'data' / 'external' / 'Nebulae_Catalogue.fits') as hdul:\n",
    "    nebulae = Table(hdul[1].data)\n",
    "    \n",
    "nebulae = nebulae[nebulae['gal_name']==name]    \n",
    "nebulae.rename_columns(['cen_x','cen_y'],['x','y'])\n",
    "\n",
    "#nebulae['SkyCoord'] = SkyCoord(nebulae['cen_ra']*u.deg,nebulae['cen_dec']*u.deg,frame='icrs')\n",
    "\n",
    "nebulae = filter_table(nebulae,BPT_NII=0,BPT_SII=0,BPT_OI=0,flag_star=0)\n",
    "\n",
    "nebulae = nebulae[['region_ID','x','y','met_scal','Delta_met','logq_D91']]\n",
    "nebulae.rename_columns(['region_ID','met_scal','Delta_met','logq_D91'],['ID','Z','Z_local','ionization'])\n",
    "nebulae['SkyCoord'] = SkyCoord.from_pixel(nebulae['x'],nebulae['y'],galaxy.wcs)\n",
    "\n",
    "print(f'{len(nebulae)} nebulae in catalogue')"
   ]
  },
  {
   "cell_type": "code",
   "execution_count": 7,
   "metadata": {},
   "outputs": [],
   "source": [
    "# whitelight image\n",
    "\n",
    "filename = data_ext / 'HST' / name / 'white_light' / f'{name.lower()}_white_24rgb.fits'\n",
    "\n",
    "with fits.open(filename) as hdul:\n",
    "    hst_whitelight = NDData(hdul[0].data,meta=hdul[0].header,wcs=WCS(hdul[0].header))\n",
    "    hst_whitelight.data[hst_whitelight.data==0] = np.nan"
   ]
  },
  {
   "cell_type": "code",
   "execution_count": null,
   "metadata": {},
   "outputs": [],
   "source": [
    "filename = data_ext / 'MUSE' / 'MUSEDAP' / name / f'{name}_MAPS.fits'\n",
    "with fits.open(filename) as hdul:\n",
    "    muse_whitelight = NDData(hdul['FLUX'].data,meta=hdul['FLUX'].header,wcs=WCS(hdul['FLUX'].header))   "
   ]
  },
  {
   "cell_type": "code",
   "execution_count": 8,
   "metadata": {},
   "outputs": [],
   "source": [
    "# cluster catalogues\n",
    "\n",
    "filename = data_ext / 'HST' / name / 'clusters_photometry_v0_9' / f'{name}_phangshst_cluster_allcandidates_v0_9.fits'\n",
    "\n",
    "with fits.open(filename) as hdul:\n",
    "    clusters = Table(hdul[1].data)\n",
    "  \n",
    "clusters['SkyCoord'] = SkyCoord(clusters['PHANGS_RA']*u.degree,clusters['PHANGS_DEC']*u.degree)\n",
    "\n",
    "clusters.rename_columns(['ID_PHANGS_CLUSTERS_V0_9','PHANGS_MASS_MINCHISQ','PHANGS_MASS_MINCHISQ_ERR',\n",
    "                         'PHANGS_AGE_MINCHISQ','PHANGS_AGE_BAYES_ERR',\n",
    "                         'PHANGS_EBV_MINCHISQ','PHANGS_EBV_MINCHISQ_ERR'],\n",
    "                        ['ID','mass','mass_err','age','age_err','Ebv','Ebv_err'])\n",
    "clusters = clusters['ID','mass','mass_err','age','age_err','Ebv','Ebv_err','SkyCoord']\n",
    "clusters['in_frame'] = False\n",
    "\n",
    "#clusters = clusters[clusters['in_frame'] & (clusters['mass']>1e3)]"
   ]
  },
  {
   "cell_type": "markdown",
   "metadata": {},
   "source": [
    "## Compare the two catalogues"
   ]
  },
  {
   "cell_type": "code",
   "execution_count": 9,
   "metadata": {},
   "outputs": [],
   "source": [
    "from pymuse.auxiliary import diameter, angular_diameter"
   ]
  },
  {
   "cell_type": "code",
   "execution_count": 10,
   "metadata": {},
   "outputs": [],
   "source": [
    "from scipy.stats import binned_statistic, pearsonr"
   ]
  },
  {
   "cell_type": "code",
   "execution_count": 14,
   "metadata": {},
   "outputs": [],
   "source": [
    "catalogue = nebulae"
   ]
  },
  {
   "cell_type": "code",
   "execution_count": 15,
   "metadata": {},
   "outputs": [],
   "source": [
    "catalogue = catalogue[~np.isnan(catalogue['ionization'])]"
   ]
  },
  {
   "cell_type": "code",
   "execution_count": 16,
   "metadata": {},
   "outputs": [],
   "source": [
    "bins = 12\n",
    "mean, bin_edges, binnumber = binned_statistic(np.log10(catalogue['ionization']),\n",
    "                                              catalogue['Z_local'],\n",
    "                                              statistic='mean',\n",
    "                                              bins=bins)\n",
    "std, _ , _ = binned_statistic(np.log10(catalogue['ionization']),\n",
    "                              catalogue['Z_local'],\n",
    "                              statistic='std',\n",
    "                              bins=bins)"
   ]
  },
  {
   "cell_type": "code",
   "execution_count": 18,
   "metadata": {},
   "outputs": [
    {
     "data": {
      "text/plain": [
       "<ErrorbarContainer object of 3 artists>"
      ]
     },
     "execution_count": 18,
     "metadata": {},
     "output_type": "execute_result"
    },
    {
     "data": {
      "image/png": "[encoded data removed]",
      "text/plain": [
       "<Figure size 432x288 with 1 Axes>"
      ]
     },
     "metadata": {
      "image/png": {
       "height": 241,
       "width": 378
      },
      "needs_background": "light"
     },
     "output_type": "display_data"
    }
   ],
   "source": [
    "fig,ax = plt.subplots(1)\n",
    "\n",
    "ax.errorbar((bin_edges[1:]+bin_edges[:-1])/2,mean,yerr=std,fmt='o')"
   ]
  },
  {
   "cell_type": "code",
   "execution_count": 19,
   "metadata": {},
   "outputs": [
    {
     "data": {
      "text/plain": [
       "(0.49292202468212515, 1.9811408149041511e-59)"
      ]
     },
     "execution_count": 19,
     "metadata": {},
     "output_type": "execute_result"
    }
   ],
   "source": [
    "pearsonr(np.log10(catalogue['ionization']),catalogue['Z_local'])"
   ]
  },
  {
   "cell_type": "code",
   "execution_count": null,
   "metadata": {},
   "outputs": [],
   "source": [
    "from astropy.coordinates import match_coordinates_sky, search_around_sky\n",
    "#idxc, idxn, d2d, d3d = search_around_sky(nebulae['SkyCoord'],clusters['SkyCoord'],max_sep_ang)"
   ]
  },
  {
   "cell_type": "code",
   "execution_count": null,
   "metadata": {},
   "outputs": [],
   "source": [
    "cat = clusters[(clusters['age']>0) & (clusters['mass']>5e3)]\n",
    "\n",
    "idx, sep2d, _ = match_coordinates_sky(nebulae['SkyCoord'],cat['SkyCoord'])"
   ]
  },
  {
   "cell_type": "code",
   "execution_count": 26,
   "metadata": {},
   "outputs": [],
   "source": [
    "catalogue = clusters[(clusters['age']>0) & (clusters['age']<10) & (clusters['mass']>0)]\n",
    "\n",
    "# define the maximum seperation\n",
    "max_sep_dis = 30 * u.pc\n",
    "max_sep_ang = 206265 * (max_sep_dis / Distance(distmod=galaxy.mu)).decompose() * u.arcsec\n",
    "\n",
    "# the new columns we want to calculate\n",
    "nearby_cluster = []       # list of clusters within max_sep_ang\n",
    "N_nearby_cluster = []     # number of nearby clusters\n",
    "sep = []                  # distance to the nearest cluster\n",
    "age = []                  # age of nearest cluster (not NaN)\n",
    "mass = []                 # mass of nearest cluster (not NaN)\n",
    "mass_dis = []             # distance weighted mass\n",
    "for row in nebulae:\n",
    "    \n",
    "    separation = row['SkyCoord'].separation(catalogue['SkyCoord'])\n",
    "    # mask for all clusters within max_sep_dis\n",
    "    mask = separation.__lt__(max_sep_ang)\n",
    "\n",
    "    cluster_sub = catalogue[mask]\n",
    "    \n",
    "    N_nearby_cluster.append(np.sum(mask))\n",
    "    nearby_cluster.append('')\n",
    "    \n",
    "    if len(cluster_sub) > 0:\n",
    "        sep.append(np.min(separation[mask]))\n",
    "        age.append(np.mean(cluster_sub['age']))\n",
    "        mass.append(np.sum(cluster_sub['mass']))\n",
    "        mass_dis.append(np.sum(cluster_sub['mass']/separation[mask]**2).value)\n",
    "    else:\n",
    "        sep.append(np.inf)\n",
    "        age.append(np.inf)\n",
    "        mass.append(0)\n",
    "        mass_dis.append(0)\n",
    "        \n",
    "#catalogue['nearby_clusters'] = nearby_cluster\n",
    "nebulae['N_nearby_cluster'] = N_nearby_cluster\n",
    "nebulae['sep'] = sep\n",
    "nebulae['age'] = age\n",
    "nebulae['mass'] = mass\n",
    "nebulae['mass_dis'] = mass_dis\n"
   ]
  },
  {
   "cell_type": "code",
   "execution_count": 29,
   "metadata": {},
   "outputs": [
    {
     "data": {
      "text/html": [
       "<i>Table length=26</i>\n",
       "<table id=\"table1957744406280\" class=\"table-striped table-bordered table-condensed\">\n",
       "<thead><tr><th>ID</th><th>x</th><th>y</th><th>Z</th><th>Z_local</th><th>ionization</th><th>SkyCoord</th><th>N_nearby_cluster</th><th>sep</th><th>age</th><th>mass</th><th>mass_dis</th></tr></thead>\n",
       "<thead><tr><th></th><th></th><th></th><th></th><th></th><th></th><th>deg,deg</th><th></th><th></th><th></th><th></th><th></th></tr></thead>\n",
       "<thead><tr><th>float64</th><th>float64</th><th>float64</th><th>float64</th><th>float64</th><th>float64</th><th>object</th><th>int32</th><th>object</th><th>float64</th><th>float64</th><th>float64</th></tr></thead>\n",
       "<tr><td>2.0</td><td>163.74878924738252</td><td>396.0557104870233</td><td>8.590618238664963</td><td>0.03734633455334446</td><td>7.607920357657436</td><td>65.02959793375096,-54.94081575611737</td><td>3</td><td>0d00m00.0684s</td><td>8.0</td><td>9086.188955319893</td><td>11261646551139.18</td></tr>\n",
       "<tr><td>16.0</td><td>390.78773458712595</td><td>670.0263305489444</td><td>8.551492222182285</td><td>-0.018731485216941124</td><td>7.1698799075210795</td><td>65.00763754270658,-54.92559819226755</td><td>3</td><td>0d00m00.1844s</td><td>1.0</td><td>17352.404283078085</td><td>4705756644263.633</td></tr>\n",
       "<tr><td>61.0</td><td>215.54085107035334</td><td>194.1976966698029</td><td>8.573222274452657</td><td>0.03286162647859037</td><td>7.389101317962287</td><td>65.02459518773253,-54.95203112767853</td><td>3</td><td>0d00m00.0134s</td><td>6.0</td><td>12016.453116027815</td><td>605127195919808.9</td></tr>\n",
       "<tr><td>71.0</td><td>320.02150677862517</td><td>808.0090548336151</td><td>8.583191415241725</td><td>0.04418468984349211</td><td>7.657484282220327</td><td>65.01447673574798,-54.91793196777296</td><td>3</td><td>0d00m00.0928s</td><td>1.0</td><td>124568.4420298616</td><td>83746111988749.95</td></tr>\n",
       "<tr><td>75.0</td><td>396.37951886137665</td><td>975.1647659816991</td><td>8.564787268867232</td><td>0.05755235642545564</td><td>7.236505571811913</td><td>65.00709471490083,-54.9086460839768</td><td>4</td><td>0d00m00.0728s</td><td>1.75</td><td>11471.086081897982</td><td>10573279067705.71</td></tr>\n",
       "<tr><td>93.0</td><td>676.5755812676019</td><td>610.6398293856095</td><td>8.57797524749045</td><td>0.02179128856359469</td><td>7.505752979589134</td><td>64.98000608764123,-54.928895626698925</td><td>3</td><td>0d00m00.0905s</td><td>1.0</td><td>34287.660963419716</td><td>32456699543448.83</td></tr>\n",
       "<tr><td>163.0</td><td>323.0247835633408</td><td>176.8001481117835</td><td>8.543458975934426</td><td>-0.008139378376665007</td><td>6.769686824909558</td><td>65.01419721972687,-54.952999157080974</td><td>3</td><td>0d00m00.0344s</td><td>1.0</td><td>29726.30160539283</td><td>129087817538417.1</td></tr>\n",
       "<tr><td>195.0</td><td>479.8237028111717</td><td>583.5067425546114</td><td>8.603052142815896</td><td>0.014900499722228844</td><td>7.243406051402822</td><td>64.99902930529647,-54.930404942336324</td><td>3</td><td>0d00m00.1536s</td><td>1.0</td><td>23622.222619669883</td><td>7211786409904.662</td></tr>\n",
       "<tr><td>213.0</td><td>630.1344582337147</td><td>726.4232118269994</td><td>8.561028910880555</td><td>0.015842036875223897</td><td>7.259797285417619</td><td>64.98449910523486,-54.922463938621355</td><td>4</td><td>0d00m00.1462s</td><td>2.0</td><td>20368.00280112263</td><td>7086346802506.462</td></tr>\n",
       "<tr><td>...</td><td>...</td><td>...</td><td>...</td><td>...</td><td>...</td><td>...</td><td>...</td><td>...</td><td>...</td><td>...</td><td>...</td></tr>\n",
       "<tr><td>516.0</td><td>272.23982283380985</td><td>289.85715379472623</td><td>8.53490575993106</td><td>-0.02911447986565463</td><td>6.808323201677651</td><td>65.01910770238108,-54.94671761516138</td><td>4</td><td>0d00m00.0349s</td><td>1.5</td><td>32905.97012398281</td><td>141423969426436.84</td></tr>\n",
       "<tr><td>626.0</td><td>356.8825260652673</td><td>350.03440653262896</td><td>8.579400996496656</td><td>-0.0074321005399617945</td><td>7.005906171505573</td><td>65.01091948078974,-54.94337532051881</td><td>3</td><td>0d00m00.2512s</td><td>2.3333333333333335</td><td>15828.081031351014</td><td>2102396720039.779</td></tr>\n",
       "<tr><td>687.0</td><td>196.36230824520416</td><td>379.2525268865227</td><td>8.536128725024952</td><td>-0.02297929005492172</td><td>6.839282280982604</td><td>65.0264442719121,-54.94174994426042</td><td>3</td><td>0d00m00.2269s</td><td>3.6666666666666665</td><td>15356.455525010362</td><td>3260118832799.01</td></tr>\n",
       "<tr><td>870.0</td><td>583.1036569417694</td><td>220.99184509053447</td><td>8.532514847793546</td><td>-0.031101110003094234</td><td>6.020784312115884</td><td>64.98903671082981,-54.95054401955554</td><td>3</td><td>0d00m00.0999s</td><td>2.3333333333333335</td><td>8035.891719020107</td><td>5006733169369.925</td></tr>\n",
       "<tr><td>882.0</td><td>198.1950945529266</td><td>229.20673813167502</td><td>8.633862996034702</td><td>0.09103777846934236</td><td>7.8597330992268715</td><td>65.02627207686844,-54.950085856159085</td><td>3</td><td>0d00m00.1625s</td><td>3.3333333333333335</td><td>19573.990209433443</td><td>6020691438803.858</td></tr>\n",
       "<tr><td>1083.0</td><td>740.9582080495401</td><td>458.18813019635024</td><td>8.535224843859424</td><td>-0.019767289940219257</td><td>6.486893686784505</td><td>64.97377522699317,-54.93736389053279</td><td>4</td><td>0d00m00.1884s</td><td>3.0</td><td>6865.427233865819</td><td>1619473992921.3188</td></tr>\n",
       "<tr><td>1089.0</td><td>265.05269809544114</td><td>467.9732163645958</td><td>8.561995798539705</td><td>-0.0151315365086937</td><td>7.104108261960134</td><td>65.01979848754318,-54.93682217834238</td><td>3</td><td>0d00m00.0893s</td><td>5.333333333333333</td><td>78357.0628145333</td><td>36830508692864.6</td></tr>\n",
       "<tr><td>1243.0</td><td>483.95794707012743</td><td>646.1179029688112</td><td>8.558904516185201</td><td>-0.016075802024719366</td><td>7.225359147331435</td><td>64.9986298396883,-54.92692653479768</td><td>3</td><td>0d00m00.1427s</td><td>5.333333333333333</td><td>9077.469400535752</td><td>4468241759721.495</td></tr>\n",
       "<tr><td>1332.0</td><td>284.9978021300234</td><td>780.0059884128444</td><td>8.433926736948223</td><td>-0.10782378647193624</td><td>6.486929618977799</td><td>65.01786276511827,-54.91948729486837</td><td>4</td><td>0d00m00.1436s</td><td>3.25</td><td>13759.607407078427</td><td>4534434255674.327</td></tr>\n",
       "<tr><td>1387.0</td><td>475.1343318900859</td><td>869.1062545366236</td><td>8.583540029154072</td><td>0.05485732162438062</td><td>7.6620165849028625</td><td>64.99948364737821,-54.91453831361675</td><td>4</td><td>0d00m00.1214s</td><td>2.75</td><td>69128.6021609031</td><td>19085321862605.61</td></tr>\n",
       "</table>"
      ],
      "text/plain": [
       "<Table length=26>\n",
       "   ID           x          ...        mass             mass_dis     \n",
       "                           ...                                      \n",
       "float64      float64       ...      float64            float64      \n",
       "------- ------------------ ... ------------------ ------------------\n",
       "    2.0 163.74878924738252 ...  9086.188955319893  11261646551139.18\n",
       "   16.0 390.78773458712595 ... 17352.404283078085  4705756644263.633\n",
       "   61.0 215.54085107035334 ... 12016.453116027815  605127195919808.9\n",
       "   71.0 320.02150677862517 ...  124568.4420298616  83746111988749.95\n",
       "   75.0 396.37951886137665 ... 11471.086081897982  10573279067705.71\n",
       "   93.0  676.5755812676019 ... 34287.660963419716  32456699543448.83\n",
       "  163.0  323.0247835633408 ...  29726.30160539283  129087817538417.1\n",
       "  195.0  479.8237028111717 ... 23622.222619669883  7211786409904.662\n",
       "  213.0  630.1344582337147 ...  20368.00280112263  7086346802506.462\n",
       "    ...                ... ...                ...                ...\n",
       "  516.0 272.23982283380985 ...  32905.97012398281 141423969426436.84\n",
       "  626.0  356.8825260652673 ... 15828.081031351014  2102396720039.779\n",
       "  687.0 196.36230824520416 ... 15356.455525010362   3260118832799.01\n",
       "  870.0  583.1036569417694 ...  8035.891719020107  5006733169369.925\n",
       "  882.0  198.1950945529266 ... 19573.990209433443  6020691438803.858\n",
       " 1083.0  740.9582080495401 ...  6865.427233865819 1619473992921.3188\n",
       " 1089.0 265.05269809544114 ...   78357.0628145333   36830508692864.6\n",
       " 1243.0 483.95794707012743 ...  9077.469400535752  4468241759721.495\n",
       " 1332.0  284.9978021300234 ... 13759.607407078427  4534434255674.327\n",
       " 1387.0  475.1343318900859 ...   69128.6021609031  19085321862605.61"
      ]
     },
     "execution_count": 29,
     "metadata": {},
     "output_type": "execute_result"
    }
   ],
   "source": [
    "nebulae[nebulae['N_nearby_cluster']>2]"
   ]
  },
  {
   "cell_type": "code",
   "execution_count": 33,
   "metadata": {},
   "outputs": [
    {
     "data": {
      "image/png": "[encoded data removed]",
      "text/plain": [
       "<Figure size 1004.26x502.128 with 8 Axes>"
      ]
     },
     "metadata": {
      "image/png": {
       "height": 415,
       "width": 830
      },
      "needs_background": "light"
     },
     "output_type": "display_data"
    }
   ],
   "source": [
    "def plot_corner(table,rows,columns):\n",
    "    '''plot rows against columns'''\n",
    "    \n",
    "    if set(rows)-set(table.columns):\n",
    "        raise ValueError(f'missing column: {set(rows)-set(table.columns)}')\n",
    "    if set(columns)-set(table.columns):\n",
    "        raise ValueError(f'missing column: {set(columns)-set(table.columns)}')\n",
    "        \n",
    "        \n",
    "    fig, axes = plt.subplots(nrows=len(rows),ncols=len(columns),\n",
    "                             sharex='col',sharey='row',\n",
    "                             figsize=(2*two_column,2*two_column*len(rows)/len(columns)))\n",
    "    \n",
    "    for i,col in enumerate(columns):\n",
    "        for j,row in enumerate(rows):\n",
    "            tmp = table[(table[col]>0)]\n",
    "            \n",
    "            ax = axes[j,i]\n",
    "            ax.scatter(tmp[col],tmp[row])\n",
    "                \n",
    "            if j==len(rows)-1:\n",
    "                ax.set_xlabel(col.replace('_',''))\n",
    "                ax.set_xscale('log')\n",
    "            if i%len(columns)==0:\n",
    "                ax.set_ylabel(row.replace('_',''))\n",
    "                #ax.set_ylim([np.nanpercentile(tmp[row],1),np.nanpercentile(tmp[row],99)])\n",
    "                \n",
    "    plt.subplots_adjust(hspace = .001)      \n",
    "    plt.subplots_adjust(wspace = .001)      \n",
    "\n",
    "    plt.show()\n",
    "            \n",
    "    \n",
    "plot_corner(nebulae[nebulae['N_nearby_cluster']>0],rows=['Z_local','ionization'],columns=['N_nearby_cluster','mass','age','mass_dis'])"
   ]
  },
  {
   "cell_type": "code",
   "execution_count": null,
   "metadata": {},
   "outputs": [],
   "source": [
    "from pymuse.detection import match_catalogues\n",
    "\n",
    "idx, sep = match_catalogues(clusters[['x','y']],nebulae[['x','y']])\n",
    "\n",
    "tolerance = 5\n",
    "within_tolerance = len(sep[sep<tolerance])\n",
    "\n",
    "print(f'{within_tolerance} of {len(sep)} clusters have an HII-region within {tolerance} pixel ({within_tolerance / len(sep)*100:.1f} %)')\n",
    "print(f'mean seperation is {sep[sep<tolerance].mean():.2f} pixel')\n",
    "\n",
    "clusters['sep'] = sep\n",
    "clusters['Z'] = nebulae[idx]['met_scal']\n",
    "clusters['ionization'] = nebulae[idx]['met_scal']\n",
    "clusters['Z_without_radial'] = nebulae[idx]['Delta_met']"
   ]
  },
  {
   "cell_type": "code",
   "execution_count": null,
   "metadata": {},
   "outputs": [],
   "source": [
    "from pymuse.plot.plot import create_RGB\n",
    "\n",
    "#HII = nebulae[nebulae['HII_region_class']==1]\n",
    "\n",
    "fig = plt.figure(figsize=(8,8))\n",
    "ax  = fig.add_subplot(projection=galaxy.wcs)\n",
    "\n",
    "norm = simple_norm(galaxy.OIII5006_DAP,clip=False,percent=99)\n",
    "#img = create_RGB(galaxy.HA6562,galaxy.OIII5006_DAP,galaxy.SII6716,weights=[0.6,1,0.6],percentile=[95,99.,95])\n",
    "#ax.imshow(galaxy.OIII5006_DAP,norm=norm,cmap=plt.cm.Blues)\n",
    "#ax.imshow(img)\n",
    "\n",
    "ax.scatter(clusters['x'],clusters['y'],marker='o',s=3,lw=0.3,color='black',alpha=0.9,label='cluster')\n",
    "im = ax.scatter(nebulae['x'],nebulae['y'],marker='o',s=5,lw=0.3,\n",
    "           c=nebulae['Delta_met'], cmap=plt.cm.coolwarm,alpha=0.9,label='nebulae')\n",
    "plt.colorbar(im)\n",
    "plt.legend()\n",
    "print(f'{len(nebulae)} HII regions\\n{len(clusters)} Clusters')\n",
    "\n",
    "filename = basedir / 'reports' / 'cluster' / 'clusters+HII.pdf'\n",
    "plt.savefig(filename,bbox_inches='tight',dpi=600)"
   ]
  },
  {
   "cell_type": "markdown",
   "metadata": {
    "heading_collapsed": true
   },
   "source": [
    "## Reproject "
   ]
  },
  {
   "cell_type": "code",
   "execution_count": null,
   "metadata": {
    "hidden": true
   },
   "outputs": [],
   "source": [
    "from reproject import reproject_interp"
   ]
  },
  {
   "cell_type": "code",
   "execution_count": null,
   "metadata": {
    "hidden": true
   },
   "outputs": [],
   "source": [
    "# interpolate the HST data onto the MUSE image\n",
    "hst_to_muse , hst_to_muse_footprint = reproject_interp(hst_whitelight,muse_whitelight.meta)\n",
    "\n",
    "fig = plt.figure(figsize=(6,4))\n",
    "ax1 = fig.add_subplot(121,projection=muse_whitelight.wcs)\n",
    "ax2 = fig.add_subplot(122,projection=muse_whitelight.wcs)\n",
    "\n",
    "norm = simple_norm(hst_to_muse,'linear',clip=False,percent=99)\n",
    "ax1.imshow(hst_to_muse,norm=norm)\n",
    "\n",
    "ax2.imshow(hst_to_muse_footprint)\n",
    "\n",
    "plt.show()"
   ]
  },
  {
   "cell_type": "code",
   "execution_count": null,
   "metadata": {
    "hidden": true
   },
   "outputs": [],
   "source": [
    "# interpolate the MUSE data onto the HST image\n",
    "muse_to_hst , muse_to_hst_footprint = reproject_interp(muse_whitelight,hst_whitelight.meta)\n",
    "\n",
    "fig = plt.figure(figsize=(6,4))\n",
    "ax1 = fig.add_subplot(121,projection=hst_whitelight.wcs)\n",
    "ax2 = fig.add_subplot(122,projection=hst_whitelight.wcs)\n",
    "\n",
    "norm = simple_norm(muse_to_hst,'linear',clip=False,percent=99)\n",
    "ax1.imshow(muse_to_hst,norm=norm)\n",
    "\n",
    "ax2.imshow(muse_to_hst_footprint)\n",
    "\n",
    "plt.show()"
   ]
  },
  {
   "cell_type": "markdown",
   "metadata": {},
   "source": [
    "## Starburst99"
   ]
  },
  {
   "cell_type": "code",
   "execution_count": 31,
   "metadata": {},
   "outputs": [],
   "source": [
    "try:\n",
    "    from starburst99.main import Cluster  \n",
    "    from starburst99.io import read_starburst99\n",
    "except ImportError:\n",
    "    print('Package `starburst99` not installed')\n",
    "    \n",
    "star_path = Path('../../Starburst99/data')\n",
    "noutput = 'cluster'"
   ]
  },
  {
   "cell_type": "code",
   "execution_count": null,
   "metadata": {},
   "outputs": [],
   "source": [
    "def create_cluster(folder,**kwargs):\n",
    "\n",
    "    parameters = {\n",
    "    \"name\" : 'standard',\n",
    "    \"isf\" : -1,\n",
    "    \"mass\" : 1.,\n",
    "    \"sfr\" : 1,\n",
    "    \"ninterv\" : 2,\n",
    "    \"xponent\" : '1.3,2.3',\n",
    "    \"xmaslim\" : '0.1,0.5,120',\n",
    "    \"sncut\" : 8.,\n",
    "    \"bhcut\" : 120.,\n",
    "    \"model\" : 64,\n",
    "    \"wind_model\" : 0,\n",
    "    \"tinitial\" : 0.01,\n",
    "    \"time_scale\" : 0,\n",
    "    \"time_step\" : 0.1,\n",
    "    \"n_steps\" : 1000,\n",
    "    \"tmax\" : 50,\n",
    "    \"jmg\" : 3,\n",
    "    \"atmos\" : 5,\n",
    "    \"metallicity\" : 3,\n",
    "    \"uvline\" : 1}\n",
    "\n",
    "    # assign the new parameters\n",
    "    for k,v in kwargs.items():\n",
    "        if k in parameters:\n",
    "            parameters[k] = v\n",
    "    \n",
    "    # open tempalte\n",
    "    with open(basedir/'data'/'input.template') as f:\n",
    "        template = f.read()\n",
    "    \n",
    "    template = template.format(**parameters)\n",
    "\n",
    "    #write to templae\n",
    "    with open(folder/'input.out','w') as f:\n",
    "        f.write(template)\n",
    "        \n",
    "        \n"
   ]
  },
  {
   "cell_type": "code",
   "execution_count": 32,
   "metadata": {},
   "outputs": [
    {
     "name": "stdout",
     "output_type": "stream",
     "text": [
      "WARNING:starburst99.main:no matching tables found. Please run starburst99\n",
      "WARNING:starburst99.main:I created the necassary files in data\\GENEVAv00\\54 for you\n"
     ]
    }
   ],
   "source": [
    "from starburst99.main import Cluster\n",
    "        \n",
    "cluster = Cluster()"
   ]
  },
  {
   "cell_type": "code",
   "execution_count": null,
   "metadata": {},
   "outputs": [],
   "source": [
    "from starburst99.io import read"
   ]
  },
  {
   "cell_type": "code",
   "execution_count": null,
   "metadata": {},
   "outputs": [],
   "source": [
    "def create_cluster(filename,**kwargs):\n",
    "\n",
    "\n",
    "    parameters = {\n",
    "    \"name\" : 'standard',\n",
    "    \"isf\" : -1,\n",
    "    \"mass\" : 1.,\n",
    "    \"sfr\" : 1,\n",
    "    \"ninterv\" : 2,\n",
    "    \"xponent\" : '1.3,2.3',\n",
    "    \"xmaslim\" : '0.1,0.5,120',\n",
    "    \"sncut\" : 8.,\n",
    "    \"bhcut\" : 120.,\n",
    "    \"model\" : 64,\n",
    "    \"wind_model\" : 0,\n",
    "    \"tinitial\" : 0.01,\n",
    "    \"time_scale\" : 0,\n",
    "    \"time_step\" : 0.1,\n",
    "    \"n_steps\" : 1000,\n",
    "    \"tmax\" : 50,\n",
    "    \"jmg\" : 3,\n",
    "    \"atmos\" : 5,\n",
    "    \"metallicity\" : 3,\n",
    "    \"uvline\" : 1}\n",
    "\n",
    "    # assign the new parameters\n",
    "    for k,v in kwargs.items():\n",
    "        if k in parameters:\n",
    "            parameters[k] = v\n",
    "    \n",
    "    # open tempalte\n",
    "    with open(star_path/'input.template') as f:\n",
    "        template = f.read()\n",
    "    \n",
    "    template = template.format(**parameters)\n",
    "\n",
    "    #write to templae\n",
    "    with open(star_path/'input.out','w') as f:\n",
    "        f.write(template)\n",
    "        \n",
    "create_cluster(None,model=34,sncut=12)"
   ]
  },
  {
   "cell_type": "code",
   "execution_count": null,
   "metadata": {},
   "outputs": [],
   "source": []
  },
  {
   "cell_type": "code",
   "execution_count": null,
   "metadata": {},
   "outputs": [],
   "source": [
    "from tkinter import filedialog\n",
    "\n",
    "def file_save():\n",
    "    f = filedialog.asksaveasfile(mode='w', defaultextension=\".out\")\n",
    "    if f is None: # asksaveasfile return `None` if dialog closed with \"cancel\".\n",
    "        return\n",
    "    f.write(template)\n",
    "    f.close() # `()` was missing."
   ]
  },
  {
   "cell_type": "code",
   "execution_count": null,
   "metadata": {},
   "outputs": [],
   "source": [
    "\n",
    "file_save()"
   ]
  },
  {
   "cell_type": "code",
   "execution_count": null,
   "metadata": {},
   "outputs": [],
   "source": []
  },
  {
   "cell_type": "code",
   "execution_count": null,
   "metadata": {},
   "outputs": [],
   "source": [
    "cluster1e4 = Cluster(star_path / 'GENEVA_v40_0.014_1e4Msun' / noutput)\n"
   ]
  },
  {
   "cell_type": "code",
   "execution_count": null,
   "metadata": {},
   "outputs": [],
   "source": [
    "cluster1e4 = Cluster(star_path / 'GENEVA_v40_0.014_1e4Msun' / noutput)\n",
    "cluster1e6 = Cluster(star_path / 'GENEVA_v40_0.014_1e6Msun' / noutput)\n",
    "cluster_new = cluster1e4.scale(1e6)"
   ]
  },
  {
   "cell_type": "markdown",
   "metadata": {},
   "source": [
    "### Compare results of the scaling"
   ]
  },
  {
   "cell_type": "code",
   "execution_count": null,
   "metadata": {},
   "outputs": [],
   "source": [
    "fig = plt.figure(figsize=(8,6))\n",
    "ax = fig.add_subplot()\n",
    "\n",
    "tablename = 'yields'\n",
    "\n",
    "tbl1 = getattr(cluster1e4,tablename)\n",
    "tbl2 = getattr(cluster1e6,tablename)\n",
    "tbl3 = getattr(cluster_new,tablename)\n",
    "\n",
    "for col in tbl1.columns[1:]:\n",
    "    color = next(ax._get_lines.prop_cycler)['color']\n",
    "    \n",
    "    ax.plot(tbl1['Time'],tbl1[col],color=color,ls='--',label=col.replace('_',''))\n",
    "    ax.plot(tbl2['Time'],tbl2[col],color=color,ls=':',lw=2)\n",
    "    ax.plot(tbl3['Time'],tbl3[col],color=color,lw=0.5)\n",
    "\n",
    "print('-- : 1e4, .. : 1e6, __ : scaled')\n",
    "#ax.set_yscale('log')\n",
    "plt.legend()\n",
    "plt.show()"
   ]
  },
  {
   "cell_type": "code",
   "execution_count": null,
   "metadata": {},
   "outputs": [],
   "source": [
    "fig = plt.figure(figsize=(8,6))\n",
    "ax = fig.add_subplot()\n",
    "\n",
    "tablename = 'yields'\n",
    "column = 'O'\n",
    "tbl1 = getattr(cluster1e4,tablename)\n",
    "tbl2 = getattr(cluster1e6,tablename)\n",
    "tbl3 = getattr(cluster_new,tablename)\n",
    "\n",
    "\n",
    "\n",
    "color = next(ax._get_lines.prop_cycler)['color']\n",
    "    \n",
    "ax.plot(tbl1['Time'],tbl1[column],color=color,ls='--',label='1e4')\n",
    "ax.plot(tbl2['Time'],tbl2[column],color=color,ls=':',lw=2,label='1e6')\n",
    "ax.plot(tbl3['Time'],tbl3[column],color=color,lw=0.5,label='scaled')\n",
    "\n",
    "plt.legend()\n",
    "ax.set_yscale('log')\n",
    "#plt.legend()\n",
    "plt.show()"
   ]
  }
 ],
 "metadata": {
  "kernelspec": {
   "display_name": "Python 3",
   "language": "python",
   "name": "python3"
  },
  "language_info": {
   "codemirror_mode": {
    "name": "ipython",
    "version": 3
   },
   "file_extension": ".py",
   "mimetype": "text/x-python",
   "name": "python",
   "nbconvert_exporter": "python",
   "pygments_lexer": "ipython3",
   "version": "3.7.7"
  },
  "toc": {
   "base_numbering": 1,
   "nav_menu": {},
   "number_sections": true,
   "sideBar": true,
   "skip_h1_title": false,
   "title_cell": "Table of Contents",
   "title_sidebar": "Contents",
   "toc_cell": false,
   "toc_position": {
    "height": "calc(100% - 180px)",
    "left": "10px",
    "top": "150px",
    "width": "341.333px"
   },
   "toc_section_display": true,
   "toc_window_display": true
  }
 },
 "nbformat": 4,
 "nbformat_minor": 4
}
