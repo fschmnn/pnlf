{
 "cells": [
  {
   "cell_type": "markdown",
   "metadata": {},
   "source": [
    "# ESO Phase 3 for PHANGS <a class=\"tocSkip\">\n",
    "    \n",
    "The details are outlined [here](https://www.eso.org/sci/observing/phase3.html)\n",
    "\n",
    "* 1. [Register](https://www.eso.org/sci/observing/phase3/rm.html) your Phase 3 submission\n",
    "* 2. Preparing your data.\n",
    "  \n",
    "      - List of Keywords for header (FS)\n",
    "      - Filename (<68 characters), unique name across all folders\n",
    "      - mosaicked images require a weight map image to be associated$^1$\n",
    "      - optional: preview images, graphics, reports from DR (must be referenced in main SDP header)\n",
    "      - should include an exposure map (EXPTIME set to median of non 0 pixels), unless standard offset pattern with constant integration time is used.\n",
    "\n",
    "      * **for IFU Cubes do the following things**:\n",
    "      * astrometric calibration\n",
    "      * calibration of the dispersion axis to physical wavelength scale\n",
    "      * removal/correction for instrumental and sky background signal (if applicable)\n",
    "      * calibration of the detected signal to physical scale (spectral flux density)\n",
    "      * re-sampling to a regular 3-dimensional grid \n",
    "      * signal combination of multiple exposures (if applicable)\n",
    "      * error propagation in each processing step to obtain a final error estimate for the science data\n",
    "      * propagation of pixel quality information\n",
    "\n",
    "$^1$ statistical significance of each pixel in terms of a number that is proportional to the inverse variance of the background signal, i.e. not including the Poisson noise of sources. This additional data array is often called weight map or confidence map. It has the same dimensions as the image array and can be submitted as an associated data product with product category declared in the header of the science file as follows:      \n",
    "\n",
    "**IFU 3D Cubes Page 1**: Storing several sets of HDU's with associated science data, error and data quality in a single FITS file, though permitted in [3], is not supported by the ESO/SDP\n",
    "standard. Only three HDU’s are permitted of which one must be the science data and spectral flux density (physical units declared in `BUNIT`)\n",
    "\n",
    "* 3. Uploading your data to ESO: Press `CLOSE` and hope for the best.\n",
    "\n",
    "* 4. Verifying compliance with data format requirements\n",
    "\n",
    "* 5. Uploading the data [release description](https://www.eso.org/sci/observing/phase3/release_description.html)\n",
    "\n",
    "     https://www.eso.org/sci/observing/phase3/release-description-tmpl.doc\n",
    "\n",
    "* 6. Finalizing your data submission\n",
    "\n",
    "\n",
    "\n",
    "\n",
    "\n",
    "\n"
   ]
  },
  {
   "cell_type": "markdown",
   "metadata": {},
   "source": [
    "## Preparation\n",
    " \n",
    "### Load Basic Packages\n",
    "    \n",
    "First we load a bunch of common packages that are used across the project. More specific packages that are only used in one section are loaded later to make it clear where they belong to (this also applies to all custom moduls that were written for this project)."
   ]
  },
  {
   "cell_type": "code",
   "execution_count": 2,
   "metadata": {},
   "outputs": [
    {
     "name": "stdout",
     "output_type": "stream",
     "text": [
      "The autoreload extension is already loaded. To reload it, use:\n",
      "  %reload_ext autoreload\n"
     ]
    }
   ],
   "source": [
    "# reload modules after they have been modified\n",
    "%load_ext autoreload\n",
    "%autoreload 2\n",
    "\n",
    "# some basic packages\n",
    "import os                 # filesystem related stuff\n",
    "import json\n",
    "from pathlib import Path  # use instead of os.path and glob\n",
    "import sys                # mostly replaced by pathlib\n",
    "import re\n",
    "\n",
    "import errno      # more detailed error messages\n",
    "import warnings   # handles warnings\n",
    "\n",
    "from collections import OrderedDict  \n",
    "\n",
    "# packages for scientific computing\n",
    "import numpy as np\n",
    "import scipy as sp\n",
    "\n",
    "# packages for creating plots and figures\n",
    "import matplotlib as mpl\n",
    "import matplotlib.pyplot as plt\n",
    "\n",
    "%matplotlib inline\n",
    "%config InlineBackend.figure_format = 'retina'\n",
    "\n",
    "# special functions for astronomy \n",
    "from astropy.table import Table  # useful datastructure\n",
    "from astropy.table import vstack # combine multiple tables\n",
    "\n",
    "from astropy.io import fits      # open fits files\n",
    "from astropy.io import ascii     # handle normal files\n",
    "from astropy.io.fits.header import Card, Header\n",
    "\n",
    "from astropy.visualization import simple_norm\n",
    "from astropy.wcs import WCS\n",
    "\n",
    "import astropy.units as u        # handle units\n",
    "from astropy.time import Time\n",
    "\n",
    "from spectral_cube import SpectralCube\n",
    "\n",
    "from pymuse.plot.plot import create_RGB\n",
    "\n",
    "#plt.style.use('TeX.mplstyle')\n",
    "\n",
    "tab10 = ['#e15759','#4e79a7','#f28e2b','#76b7b2','#59a14e','#edc949','#b07aa2','#ff9da7','#9c755f','#bab0ac']    "
   ]
  },
  {
   "cell_type": "code",
   "execution_count": 4,
   "metadata": {},
   "outputs": [],
   "source": [
    "# first we need to specify the path to the raw data\n",
    "data_raw = Path('g:\\Archive')\n",
    "basedir = Path('..')"
   ]
  },
  {
   "cell_type": "markdown",
   "metadata": {},
   "source": [
    "## Headers of Raw files"
   ]
  },
  {
   "cell_type": "code",
   "execution_count": null,
   "metadata": {},
   "outputs": [],
   "source": [
    "import pickle\n",
    "from astropy.time import Time"
   ]
  },
  {
   "cell_type": "code",
   "execution_count": null,
   "metadata": {},
   "outputs": [],
   "source": [
    "with open(basedir / 'data' / 'ESO' / 'headers_P01_NGC0628.pkl', 'rb') as f:\n",
    "    headers = pickle.load(f)"
   ]
  },
  {
   "cell_type": "code",
   "execution_count": null,
   "metadata": {},
   "outputs": [],
   "source": [
    "print('\\n'.join(list(headers.keys())))"
   ]
  },
  {
   "cell_type": "code",
   "execution_count": null,
   "metadata": {},
   "outputs": [],
   "source": [
    "header = headers['Raw/M.MUSE.2014-12-08T12:30:51.293.fits']"
   ]
  },
  {
   "cell_type": "code",
   "execution_count": null,
   "metadata": {},
   "outputs": [],
   "source": [
    "minimum = ('key',Time('2020-02-01'))\n",
    "\n",
    "for filename in headers.keys():\n",
    "\n",
    "    header = headers[filename]\n",
    "    for key in header.keys():\n",
    "        if 'MJD-OBS' in header[key].keys():\n",
    "            date = Time(header[key]['MJD-OBS'],format='mjd')\n",
    "            if date < minimum[1]:\n",
    "                print(date.iso)\n",
    "                minimum = (filename,date)"
   ]
  },
  {
   "cell_type": "code",
   "execution_count": null,
   "metadata": {},
   "outputs": [],
   "source": [
    "headers['Raw/M.MUSE.2014-12-08T12:30:51.293.fits']['LINES']"
   ]
  },
  {
   "cell_type": "markdown",
   "metadata": {},
   "source": [
    "## GASP Files\n",
    "\n",
    "It might be useful to look at [existing data realeases](https://www.eso.org/rm/publicAccess#/dataReleases) like the [GASP DR1](https://www.eso.org/sci/publications/announcements/sciann17080.html)"
   ]
  },
  {
   "cell_type": "code",
   "execution_count": null,
   "metadata": {},
   "outputs": [],
   "source": [
    "with open(basedir / 'data' / 'ESO' / 'GASPheader.txt') as f:\n",
    "    raw = f.read()\n",
    "\n",
    "extensions = raw.split('\\nEND')"
   ]
  },
  {
   "cell_type": "code",
   "execution_count": null,
   "metadata": {},
   "outputs": [],
   "source": [
    "Cards_raw = [[x.strip() for x in re.split('=| / ',line)] for line in extensions[0].split('\\n')]\n",
    "\n",
    "for card in Cards_raw:\n",
    "    \n",
    "    if card[1] == 'T':\n",
    "        card[1] = True\n",
    "        continue\n",
    "    elif card[1] == 'F':\n",
    "        card[1] = False\n",
    "        continue\n",
    "    \n",
    "    try:\n",
    "        i = int(card[1])\n",
    "        card[1] = i\n",
    "        continue\n",
    "    except:\n",
    "        pass\n",
    "    try:\n",
    "        f = float(card[1])\n",
    "        card[1] = f\n",
    "        continue\n",
    "    except:\n",
    "        pass\n",
    "        \n",
    "    \n",
    "    card[1] = card[1].strip(\"'\").strip(' ')\n",
    "    \n",
    "header = Header([Card(*card) for card in Cards_raw])"
   ]
  },
  {
   "cell_type": "code",
   "execution_count": 17,
   "metadata": {},
   "outputs": [],
   "source": [
    "with fits.open(data_raw / 'GASP' / 'ADP.2017-10-20T13_29_03.031.fits') as hdul:\n",
    "    #hdul.info()\n",
    "    #header = hdul[0].header\n",
    "    #data = hdul[1].data\n",
    "    header = hdul[1].header"
   ]
  },
  {
   "cell_type": "code",
   "execution_count": 18,
   "metadata": {},
   "outputs": [
    {
     "data": {
      "text/plain": [
       "XTENSION= 'IMAGE   '           / Image extension                                \n",
       "BITPIX  =                  -64 / array data type                                \n",
       "NAXIS   =                    2 / number of array dimensions                     \n",
       "NAXIS1  =                  328                                                  \n",
       "NAXIS2  =                  327                                                  \n",
       "PCOUNT  =                    0 / number of parameters                           \n",
       "GCOUNT  =                    1 / number of groups                               \n",
       "EXTNAME = 'DATA    '           / This extension contains data values            \n",
       "HDUCLAS1= 'IMAGE   '           / Image data format                              \n",
       "HDUCLAS2= 'DATA    '           / this extension contains the data itself        \n",
       "ERRDATA = 'STAT    '           / pointer to the variance extension              \n",
       "BUNIT   = '10**(-20)*erg/s/cm**2'                                               \n",
       "CRPIX1  =        214.988342431                                                  \n",
       "CRPIX2  =        64.9583911583                                                  \n",
       "CRVAL1  =           329.328323                                                  \n",
       "CRVAL2  =            -7.784614                                                  \n",
       "CUNIT1  = 'deg     '                                                            \n",
       "CUNIT2  = 'deg     '                                                            \n",
       "CTYPE1  = 'RA---TAN'                                                            \n",
       "CTYPE2  = 'DEC--TAN'                                                            \n",
       "CD1_1   = -5.5555555555555E-05                                                  \n",
       "CD1_2   =                  0.0                                                  \n",
       "CD2_1   =                  0.0                                                  \n",
       "CD2_2   = 5.55555555555556E-05                                                  \n",
       "CHECKSUM= '9gXrAgVo4gVo9gVo'   / HDU checksum updated 2017-10-19T19:11:31       \n",
       "DATASUM = '4019574352'         / data unit checksum updated 2017-10-19T19:11:31 "
      ]
     },
     "execution_count": 18,
     "metadata": {},
     "output_type": "execute_result"
    }
   ],
   "source": [
    "header"
   ]
  },
  {
   "cell_type": "code",
   "execution_count": null,
   "metadata": {},
   "outputs": [],
   "source": [
    "keywords = ascii.read(basedir / '..' / 'PHANGS' / 'ESO' / 'keywords.csv',delimiter=';')"
   ]
  },
  {
   "cell_type": "code",
   "execution_count": null,
   "metadata": {},
   "outputs": [],
   "source": [
    "with fits.open(data_raw / 'MUSE' / 'MOSAIC' / 'NGC628' / 'NGC628_DATACUBE_FINAL.fits') as hdul:\n",
    "    header2 = hdul[0].header"
   ]
  },
  {
   "cell_type": "code",
   "execution_count": null,
   "metadata": {},
   "outputs": [],
   "source": [
    "adopted = ['ORIGIN',\n",
    " 'TELESCOP',\n",
    " 'INSTRUME',\n",
    " 'FILTER',\n",
    " 'OBJECT',\n",
    " 'EQUINOX',\n",
    " 'RADESYS',\n",
    " 'EXPTIME',\n",
    " 'TEXPTIME',\n",
    " 'MJD-OBS',\n",
    " 'MJD-END',\n",
    " 'PROG_ID',\n",
    " 'OBIDi',\n",
    " 'NCOMBINE',\n",
    " 'OBSTECH',\n",
    " 'REFERENC']"
   ]
  },
  {
   "cell_type": "code",
   "execution_count": null,
   "metadata": {},
   "outputs": [],
   "source": [
    "Time(57280.20875754,format='mjd').iso"
   ]
  },
  {
   "cell_type": "code",
   "execution_count": null,
   "metadata": {},
   "outputs": [],
   "source": [
    "Time(header['DATE-OBS']).iso"
   ]
  },
  {
   "cell_type": "code",
   "execution_count": null,
   "metadata": {},
   "outputs": [],
   "source": [
    "Time(header['MJD-OBS'],format='mjd').iso"
   ]
  },
  {
   "cell_type": "code",
   "execution_count": null,
   "metadata": {},
   "outputs": [],
   "source": [
    "filename = data_raw / 'GASP' / 'ADP.2017-10-20T13_29_03.027.fits'\n",
    "\n",
    "with fits.open(filename) as hdul:\n",
    "    data   = hdul[1].data\n",
    "    header_d = hdul[1].header\n",
    "    header = hdul[0].header"
   ]
  },
  {
   "cell_type": "code",
   "execution_count": null,
   "metadata": {},
   "outputs": [],
   "source": [
    "import speclite.filters as spec_filt"
   ]
  },
  {
   "cell_type": "code",
   "execution_count": null,
   "metadata": {},
   "outputs": [],
   "source": [
    "lsst = spec_filt.load_filters('lsst2016-*')\n",
    "speclite.filters.plot_filters(\n",
    "    lsst, wavelength_limits=(3000, 11000), legend_loc='upper left')"
   ]
  },
  {
   "cell_type": "code",
   "execution_count": null,
   "metadata": {},
   "outputs": [],
   "source": [
    "filters = speclite.filters.load_filters('lsst2016-r', 'lsst2016-i')\n"
   ]
  },
  {
   "cell_type": "code",
   "execution_count": null,
   "metadata": {},
   "outputs": [],
   "source": [
    "from pymuse.plot.plot import create_RGB"
   ]
  },
  {
   "cell_type": "code",
   "execution_count": null,
   "metadata": {},
   "outputs": [],
   "source": [
    "filters = [(470,580),\n",
    "          (550,700),\n",
    "          (680,800)]\n",
    "\n",
    "img = []\n",
    "for w1,w2 in filters:\n",
    "    #w1,w2 = limits\n",
    "    img.append(np.sum(data[(wlen>w1*u.nanometer) & (wlen<w2*u.nanometer),...],axis=0))"
   ]
  },
  {
   "cell_type": "code",
   "execution_count": null,
   "metadata": {},
   "outputs": [],
   "source": [
    "rgb = create_RGB(img[2],img[1],img[0])\n",
    "\n",
    "plt.imshow(rgb)"
   ]
  },
  {
   "cell_type": "markdown",
   "metadata": {},
   "source": [
    "## Compare headers"
   ]
  },
  {
   "cell_type": "code",
   "execution_count": 21,
   "metadata": {},
   "outputs": [
    {
     "name": "stdout",
     "output_type": "stream",
     "text": [
      "missing primary:\n",
      "----------\n",
      "ABMAGLIM\n",
      "ASSONi\n",
      "CHECKSUM\n",
      "DATASUM\n",
      "FLUXCAL\n",
      "MJD-END\n",
      "OBSTECH\n",
      "PIXNOISE\n",
      "PROCSOFT\n",
      "PRODCATG\n",
      "RA DEC\n",
      "RADESYS\n",
      "REFERENC\n",
      "SKY_RES\n",
      "SPECSYS\n",
      "SPEC_RES\n",
      "TELESCOP TELESCi\n",
      "TEXPTIME\n",
      "WAVELMAX\n",
      "WAVELMIN\n",
      "----------\n",
      "\n",
      "missing extension:\n",
      "----------\n",
      "CDi_j\n",
      "CRPIXi\n",
      "CRVALi\n",
      "CTYPEi\n",
      "CUNITi\n",
      "HDUCLASS\n",
      "HDUCLASi\n",
      "HDUDOC\n",
      "HDUVERS\n",
      "----------\n",
      "\n"
     ]
    }
   ],
   "source": [
    "file1 = data_raw / 'GASP' / 'ADP.2017-10-20T13_29_03.027.fits'\n",
    "file2 = data_raw / 'MUSE' / 'MOSAIC' / 'NGC628'  / 'NGC628_DATACUBE_FINAL.fits'\n",
    "\n",
    "header_ref   = fits.getheader(file1,extension=0)\n",
    "\n",
    "\n",
    "def compare_headers(reffile,checkfile,extension=0):\n",
    "    \n",
    "    \n",
    "    header_ref   = set(fits.getheader(reffile,extension=extension))\n",
    "    header_check = set(fits.getheader(checkfile,extension=extension))\n",
    "    \n",
    "    print('missing:\\n----------\\n' + '\\n'.join(sorted(header_ref-header_check)) + '\\n----------\\n')\n",
    "    #print('additional:\\n----------\\n' + '\\n'.join(header_check-header_ref) + '\\n----------\\n')\n",
    "    #print('in common:\\n----------\\n' + '\\n'.join(header_check.intersection(header_ref)) + '\\n----------\\n')\n",
    "    \n",
    "    return 0\n",
    "\n",
    "def compare_to_ESO(reffile):\n",
    "    \n",
    "    primary_keys = {'PRODCATG','ASSONi','ORIGIN','TELESCOP TELESCi','INSTRUME','OBJECT','RA DEC',\n",
    "           'RADESYS','EXPTIME','TEXPTIME','MJD-OBS','MJD-END','OBSTECH','FLUXCAL',\n",
    "           'PROCSOFT','REFERENC','BUNIT','SPECSYS','WAVELMIN','WAVELMAX','ABMAGLIM',\n",
    "           'PIXNOISE','SPEC_RES','SKY_RES','CHECKSUM','DATASUM'}\n",
    "\n",
    "    extension_key = {'CRVALi','CRPIXi','CTYPEi','CUNITi','CDi_j','HDUCLASS','HDUCLASi','HDUDOC','HDUVERS'}\n",
    "    \n",
    "    header = set(fits.getheader(reffile,extension=0))\n",
    "    print('missing primary:\\n----------\\n' + '\\n'.join(sorted(primary_keys-header)) + '\\n----------\\n')\n",
    "\n",
    "    header = set(fits.getheader(reffile,extension=1))\n",
    "    print('missing extension:\\n----------\\n' + '\\n'.join(sorted(extension_key-header)) + '\\n----------\\n')\n",
    "    \n",
    "#compare_headers(file1,file2)\n",
    "compare_to_ESO(file2)\n",
    "\n"
   ]
  },
  {
   "cell_type": "code",
   "execution_count": 51,
   "metadata": {},
   "outputs": [
    {
     "ename": "KeyError",
     "evalue": "\"Keyword 'FLUXCAL' not found.\"",
     "output_type": "error",
     "traceback": [
      "\u001b[1;31m---------------------------------------------------------------------------\u001b[0m",
      "\u001b[1;31mKeyError\u001b[0m                                  Traceback (most recent call last)",
      "\u001b[1;32m<ipython-input-51-8d636b272554>\u001b[0m in \u001b[0;36m<module>\u001b[1;34m\u001b[0m\n\u001b[1;32m----> 1\u001b[1;33m \u001b[0mh\u001b[0m\u001b[1;33m[\u001b[0m\u001b[1;34m'FLUXCAL'\u001b[0m\u001b[1;33m]\u001b[0m\u001b[1;33m\u001b[0m\u001b[1;33m\u001b[0m\u001b[0m\n\u001b[0m",
      "\u001b[1;32mC:\\tools\\anaconda3\\envs\\pymuse\\lib\\site-packages\\astropy\\io\\fits\\header.py\u001b[0m in \u001b[0;36m__getitem__\u001b[1;34m(self, key)\u001b[0m\n\u001b[0;32m    146\u001b[0m         \u001b[1;32melse\u001b[0m\u001b[1;33m:\u001b[0m\u001b[1;33m\u001b[0m\u001b[1;33m\u001b[0m\u001b[0m\n\u001b[0;32m    147\u001b[0m             \u001b[0mkeyword\u001b[0m \u001b[1;33m=\u001b[0m \u001b[0mkey\u001b[0m\u001b[1;33m\u001b[0m\u001b[1;33m\u001b[0m\u001b[0m\n\u001b[1;32m--> 148\u001b[1;33m         \u001b[0mcard\u001b[0m \u001b[1;33m=\u001b[0m \u001b[0mself\u001b[0m\u001b[1;33m.\u001b[0m\u001b[0m_cards\u001b[0m\u001b[1;33m[\u001b[0m\u001b[0mself\u001b[0m\u001b[1;33m.\u001b[0m\u001b[0m_cardindex\u001b[0m\u001b[1;33m(\u001b[0m\u001b[0mkey\u001b[0m\u001b[1;33m)\u001b[0m\u001b[1;33m]\u001b[0m\u001b[1;33m\u001b[0m\u001b[1;33m\u001b[0m\u001b[0m\n\u001b[0m\u001b[0;32m    149\u001b[0m         \u001b[1;32mif\u001b[0m \u001b[0mcard\u001b[0m\u001b[1;33m.\u001b[0m\u001b[0mfield_specifier\u001b[0m \u001b[1;32mis\u001b[0m \u001b[1;32mnot\u001b[0m \u001b[1;32mNone\u001b[0m \u001b[1;32mand\u001b[0m \u001b[0mkeyword\u001b[0m \u001b[1;33m==\u001b[0m \u001b[0mcard\u001b[0m\u001b[1;33m.\u001b[0m\u001b[0mrawkeyword\u001b[0m\u001b[1;33m:\u001b[0m\u001b[1;33m\u001b[0m\u001b[1;33m\u001b[0m\u001b[0m\n\u001b[0;32m    150\u001b[0m             \u001b[1;31m# This is RVKC; if only the top-level keyword was specified return\u001b[0m\u001b[1;33m\u001b[0m\u001b[1;33m\u001b[0m\u001b[1;33m\u001b[0m\u001b[0m\n",
      "\u001b[1;32mC:\\tools\\anaconda3\\envs\\pymuse\\lib\\site-packages\\astropy\\io\\fits\\header.py\u001b[0m in \u001b[0;36m_cardindex\u001b[1;34m(self, key)\u001b[0m\n\u001b[0;32m   1710\u001b[0m \u001b[1;33m\u001b[0m\u001b[0m\n\u001b[0;32m   1711\u001b[0m         \u001b[1;32mif\u001b[0m \u001b[1;32mnot\u001b[0m \u001b[0mindices\u001b[0m\u001b[1;33m:\u001b[0m\u001b[1;33m\u001b[0m\u001b[1;33m\u001b[0m\u001b[0m\n\u001b[1;32m-> 1712\u001b[1;33m             \u001b[1;32mraise\u001b[0m \u001b[0mKeyError\u001b[0m\u001b[1;33m(\u001b[0m\u001b[1;34m\"Keyword {!r} not found.\"\u001b[0m\u001b[1;33m.\u001b[0m\u001b[0mformat\u001b[0m\u001b[1;33m(\u001b[0m\u001b[0mkeyword\u001b[0m\u001b[1;33m)\u001b[0m\u001b[1;33m)\u001b[0m\u001b[1;33m\u001b[0m\u001b[1;33m\u001b[0m\u001b[0m\n\u001b[0m\u001b[0;32m   1713\u001b[0m \u001b[1;33m\u001b[0m\u001b[0m\n\u001b[0;32m   1714\u001b[0m         \u001b[1;32mtry\u001b[0m\u001b[1;33m:\u001b[0m\u001b[1;33m\u001b[0m\u001b[1;33m\u001b[0m\u001b[0m\n",
      "\u001b[1;31mKeyError\u001b[0m: \"Keyword 'FLUXCAL' not found.\""
     ]
    }
   ],
   "source": [
    "h['FLUXCAL']"
   ]
  },
  {
   "cell_type": "code",
   "execution_count": 52,
   "metadata": {},
   "outputs": [
    {
     "data": {
      "text/plain": [
       "XTENSION= 'IMAGE   '           / IMAGE extension                                \n",
       "BITPIX  =                  -32 / number of bits per data pixel                  \n",
       "NAXIS   =                    3 / number of data axes                            \n",
       "NAXIS1  =                 1414 / length of data axis 1                          \n",
       "NAXIS2  =                 1430 / length of data axis 2                          \n",
       "NAXIS3  =                 3682 / length of data axis 3                          \n",
       "PCOUNT  =                    0 / required keyword; must = 0                     \n",
       "GCOUNT  =                    1 / required keyword; must = 1                     \n",
       "EXTNAME = 'DATA    '           / This extension contains data values            \n",
       "HDUCLASS= 'ESO     '           / class name (ESO format)                        \n",
       "HDUDOC  = 'DICD    '           / document with class description                \n",
       "HDUVERS = 'DICD version 6'     / version number (according to spec v2.5.1)      \n",
       "HDUCLAS1= 'IMAGE   '           / Image data format                              \n",
       "HDUCLAS2= 'DATA    '           / this extension contains the data itself        \n",
       "ERRDATA = 'STAT    '           / pointer to the variance extension              \n",
       "OBJECT  = 'NGC628-1 (DATA)'                                                     \n",
       "BUNIT   = '10**(-20)*erg/s/cm**2/Angstrom'                                      \n",
       "CRPIX1  =     410.266710684813 / Pixel coordinate of reference point            \n",
       "CRPIX2  =     854.278515778562 / Pixel coordinate of reference point            \n",
       "CD1_1   = -5.55555555555556E-05 / Coordinate transformation matrix element      \n",
       "CD1_2   =                   0. / Coordinate transformation matrix element       \n",
       "CD2_1   =                   0. / Coordinate transformation matrix element       \n",
       "CD2_2   = 5.55555555555556E-05 / Coordinate transformation matrix element       \n",
       "CUNIT1  = 'deg     '           / Units of coordinate increment and value        \n",
       "CUNIT2  = 'deg     '           / Units of coordinate increment and value        \n",
       "CTYPE1  = 'RA---TAN'           / Right ascension, gnomonic projection           \n",
       "CTYPE2  = 'DEC--TAN'           / Declination, gnomonic projection               \n",
       "CSYER1  =    8.16228004085E-06 / [deg] Systematic error in coordinate           \n",
       "CSYER2  =    8.20673465128E-06 / [deg] Systematic error in coordinate           \n",
       "CRVAL1  =     24.1911733373038                                                  \n",
       "CRVAL2  =     15.7889853365596                                                  \n",
       "CTYPE3  = 'AWAV    '                                                            \n",
       "CUNIT3  = 'Angstrom'                                                            \n",
       "CD3_3   =                 1.25                                                  \n",
       "CRPIX3  =                   1.                                                  \n",
       "CRVAL3  =      4749.5478515625                                                  \n",
       "CD1_3   =                   0.                                                  \n",
       "CD2_3   =                   0.                                                  \n",
       "CD3_1   =                   0.                                                  \n",
       "CD3_2   =                   0.                                                  "
      ]
     },
     "execution_count": 52,
     "metadata": {},
     "output_type": "execute_result"
    }
   ],
   "source": [
    "with fits.open(file2) as hdul:\n",
    "    #hdul.info()\n",
    "    h = hdul[1].header\n",
    "    \n",
    "h"
   ]
  },
  {
   "cell_type": "code",
   "execution_count": 33,
   "metadata": {},
   "outputs": [
    {
     "data": {
      "text/plain": [
       "SIMPLE  =                    T / conforms to FITS standard                      \n",
       "BITPIX  =                    8 / array data type                                \n",
       "NAXIS   =                    0 / number of array dimensions                     \n",
       "EXTEND  =                    T                                                  \n",
       "OBSTECH = 'IFU     '                                                            \n",
       "PRODCATG= 'SCIENCE.CUBE.IFS'                                                    \n",
       "ORIGIN  = 'ESO-PARANAL'                                                         \n",
       "TELESCOP= 'ESO-VLT-U4'                                                          \n",
       "INSTRUME= 'MUSE    '                                                            \n",
       "OBJECT  = 'JO69    '                                                            \n",
       "PROG_ID = '196.B-0578(B)'                                                       \n",
       "OBID1   =              1327523                                                  \n",
       "RA      =    329.3311819964859                                                  \n",
       "DEC     =   -7.779139456626056                                                  \n",
       "DATE-OBS= '2016-09-05T03:48:26.863'                                             \n",
       "EQUINOX =               2000.0                                                  \n",
       "RADECSYS= 'FK5     '                                                            \n",
       "MJD-OBS =       57636.15864426                                                  \n",
       "MJD-END =       57636.19401762                                                  \n",
       "NCOMBINE=                    4                                                  \n",
       "TEXPTIME=               2700.0                                                  \n",
       "EXPTIME =               2700.0                                                  \n",
       "WAVELMIN=      474.98759765625                                                  \n",
       "WAVELMAX=      934.98759765625                                                  \n",
       "SPEC_RES=                 3000                                                  \n",
       "ABMAGLIM=                25.15                                                  \n",
       "PIXNOISE=                 2.76                                                  \n",
       "SKY_RES =                 0.91                                                  \n",
       "SKY_RERR=                 0.34                                                  \n",
       "FLUXCAL = 'ABSOLUTE'                                                            \n",
       "PROV1   = 'MUSE.2016-09-05T03:48:26.864.fits'                                   \n",
       "PROV2   = 'MUSE.2016-09-05T04:01:40.366.fits'                                   \n",
       "PROV3   = 'MUSE.2016-09-05T04:14:55.814.fits'                                   \n",
       "PROV4   = 'MUSE.2016-09-05T04:28:08.122.fits'                                   \n",
       "ASSON1  = 'GASP_JO69_IMAGE_FOV_0001.fits'                                       \n",
       "ASSON2  = 'GASP_JO69_spec.fits'                                                 \n",
       "ASSON3  = 'GASP_JO69_map_vgas.fits'                                             \n",
       "ASSON4  = 'GASP_JO69_map_Halpha.fits'                                           \n",
       "ASSON5  = 'GASP_JO69_map_Hbeta.fits'                                            \n",
       "ASSON6  = 'GASP_JO69_map_SFR1.fits'                                             \n",
       "ASSON7  = 'GASP_JO69_map_SFR2.fits'                                             \n",
       "ASSON8  = 'GASP_JO69_map_SFR3.fits'                                             \n",
       "ASSON9  = 'GASP_JO69_map_SFR4.fits'                                             \n",
       "ASSON10 = 'GASP_JO69_map_lwage.fits'                                            \n",
       "ASSON11 = 'GASP_JO69_map_TotMass2.fits'                                         \n",
       "PROCSOFT= 'muse/1.6'                                                            \n",
       "REFERENC= '2017ApJ...844...48P'                                                 \n",
       "DATE    = '2017-10-19T19:10:12'                                                 \n",
       "CHECKSUM= 'TfdkVZdhTddhTZdh'   / HDU checksum updated 2017-10-26T13:36:36       \n",
       "DATASUM = '0       '           / data unit checksum updated 2017-10-19T19:10:12 \n",
       "ARCFILE = 'ADP.2017-10-20T13:29:03.027.fits' / Archive File Name                \n",
       "ORIGFILE= 'GASP_JO69_datacube.fits' / Original File Name                        \n",
       "P3ORIG  = 'EDP     '           / ESO external data product                      "
      ]
     },
     "execution_count": 33,
     "metadata": {},
     "output_type": "execute_result"
    }
   ],
   "source": [
    "header_ref"
   ]
  },
  {
   "cell_type": "code",
   "execution_count": 15,
   "metadata": {},
   "outputs": [],
   "source": [
    "primary_keys = {'PRODCATG','ASSONi','ORIGIN','TELESCOP TELESCi','INSTRUME','OBJECT','RA DEC',\n",
    "           'RADESYS','EXPTIME','TEXPTIME','MJD-OBS','MJD-END','OBSTECH','FLUXCAL',\n",
    "           'PROCSOFT','REFERENC','BUNIT','SPECSYS','WAVELMIN','WAVELMAX','ABMAGLIM',\n",
    "           'PIXNOISE','SPEC_RES','SKY_RES','CHECKSUM','DATASUM'}\n",
    "\n",
    "extension_key = {'CRVALi','CRPIXi','CTYPEi','CUNITi','CDi_j','HDUCLASS','HDUCLASi','HDUDOC','HDUVERS'}"
   ]
  },
  {
   "cell_type": "code",
   "execution_count": null,
   "metadata": {},
   "outputs": [],
   "source": []
  },
  {
   "cell_type": "markdown",
   "metadata": {},
   "source": [
    "## Display Path tree"
   ]
  },
  {
   "cell_type": "code",
   "execution_count": null,
   "metadata": {},
   "outputs": [],
   "source": [
    "class DisplayablePath(object):\n",
    "    display_filename_prefix_middle = '├──'\n",
    "    display_filename_prefix_last = '└──'\n",
    "    display_parent_prefix_middle = '    '\n",
    "    display_parent_prefix_last = '│   '\n",
    "\n",
    "    def __init__(self, path, parent_path, is_last):\n",
    "        self.path = Path(str(path))\n",
    "        self.parent = parent_path\n",
    "        self.is_last = is_last\n",
    "        if self.parent:\n",
    "            self.depth = self.parent.depth + 1\n",
    "        else:\n",
    "            self.depth = 0\n",
    "\n",
    "    @property\n",
    "    def displayname(self):\n",
    "        if self.path.is_dir():\n",
    "            return self.path.name + '/'\n",
    "        return self.path.name\n",
    "\n",
    "    @classmethod\n",
    "    def make_tree(cls, root, parent=None, is_last=False, criteria=None):\n",
    "        root = Path(str(root))\n",
    "        criteria = criteria or cls._default_criteria\n",
    "\n",
    "        displayable_root = cls(root, parent, is_last)\n",
    "        yield displayable_root\n",
    "\n",
    "        children = sorted(list(path\n",
    "                               for path in root.iterdir()\n",
    "                               if criteria(path)),\n",
    "                          key=lambda s: str(s).lower())\n",
    "        count = 1\n",
    "        for path in children:\n",
    "            is_last = count == len(children)\n",
    "            if path.is_dir():\n",
    "                yield from cls.make_tree(path,\n",
    "                                         parent=displayable_root,\n",
    "                                         is_last=is_last,\n",
    "                                         criteria=criteria)\n",
    "            else:\n",
    "                yield cls(path, displayable_root, is_last)\n",
    "            count += 1\n",
    "\n",
    "    @classmethod\n",
    "    def _default_criteria(cls, path):\n",
    "        return True\n",
    "\n",
    "    @property\n",
    "    def displayname(self):\n",
    "        if self.path.is_dir():\n",
    "            return self.path.name + '/'\n",
    "        return self.path.name\n",
    "\n",
    "    def displayable(self):\n",
    "        if self.parent is None:\n",
    "            return self.displayname\n",
    "\n",
    "        _filename_prefix = (self.display_filename_prefix_last\n",
    "                            if self.is_last\n",
    "                            else self.display_filename_prefix_middle)\n",
    "\n",
    "        parts = ['{!s} {!s}'.format(_filename_prefix,\n",
    "                                    self.displayname)]\n",
    "\n",
    "        parent = self.parent\n",
    "        while parent and parent.parent is not None:\n",
    "            parts.append(self.display_parent_prefix_middle\n",
    "                         if parent.is_last\n",
    "                         else self.display_parent_prefix_last)\n",
    "            parent = parent.parent\n",
    "\n",
    "        return ''.join(reversed(parts))\n",
    "    \n",
    "paths = DisplayablePath.make_tree(Path('..'))\n",
    "for path in paths:\n",
    "    print(path.displayable())"
   ]
  },
  {
   "cell_type": "markdown",
   "metadata": {},
   "source": [
    "## Appendix\n",
    "\n",
    "\n",
    "\n",
    "```\n",
    "SIMPLE = T / file does conform to FITS standard\n",
    "BITPIX = 8 / number of bits per data pixel\n",
    "NAXIS = 0 / number of data axes\n",
    "EXTEND = T / FITS dataset may contain extensions\n",
    "DATE = '2015-05-20T10:20:35' / file creation date (YYYY-MM-DDThh:mm:ss UT)\n",
    "ORIGIN = 'ESO-PARANAL' / European Southern Observatory\n",
    "TELESCOP= 'ESO-VLT-U4' / ESO Telescope\n",
    "INSTRUME= 'MUSE ' / ESO Instrument name\n",
    "RA = 183.46028 / [deg] Image centre (J2000.0)\n",
    "DEC = 7.20120 / [deg] Image centre (J2000.0)\n",
    "EQUINOX = 2000. / Standard FK5\n",
    "RADECSYS= 'FK5 ' / Coordinate system\n",
    "EXPTIME = 2520.0 / Total integration time per pixel\n",
    "TEXPTIME= 2520.0 / Total integration time all exposures\n",
    "NCOMBINE= 3 / # of combined raw science data files\n",
    "MJD-OBS = 57126.04953770 / 2015-04-14T01:11:20.1\n",
    "MJD-END = 57126.08556889 / 2015-04-14T02:03:13.2\n",
    "DATE-OBS= '2015-04-14T01:11:20.057' / Observing date\n",
    "OBJECT = 'NGC 4191' / Target designation\n",
    "OBID1 = 1164690 / Observation block ID\n",
    "PROG_ID = '095.B-0686(A)' / ESO programme identification code\n",
    "PROV1 = 'MUSE.2015-04-14T01:11:20.057.fits' / Original science file\n",
    "PROV2 = 'MUSE.2015-04-14T01:27:10.371.fits' / Original science file\n",
    "PROV3 = 'MUSE.2015-04-14T01:49:13.152.fits' / Original science file\n",
    "OBSTECH = 'IFU ' / Technique of observation\n",
    "PRODCATG= 'SCIENCE.CUBE.IFS' / Data product category\n",
    "ASSON1 = 'IMAGE_FOV_0001.fits' / Collapsed data cube\n",
    "ASSOC1 = 'ANCILLARY.IMAGE' / Category of associated file\n",
    "WAVELMIN= 475.0 / [nm] Minimum wavelength\n",
    "WAVELMAX= 843.0 / [nm] Maximum wavelength\n",
    "SPEC_RES= 2500 / Spectral resolving power at central wavelength\n",
    "SKY_RES = 0.94 / [arcsec] FWHM effective spatial resolution (mea\n",
    "SKY_RERR= 0.10 / [arcsec] Error of SKY_RES (estimated)\n",
    "ABMAGLIM= 22.5 / 5-sigma magnitude limit for point sources\n",
    "PIXNOISE= 4.50E-20 / [erg/s/cm**2/Angstrom] pixel-to-pixel noise\n",
    "FLUXCAL = 'ABSOLUTE' / Certifies the validity of BUNIT\n",
    "PROCSOFT= 'muse/1.0.4' / Data reduction software/version no.\n",
    "REFERENC= ' ' / Bibliographic reference\n",
    "CHECKSUM= 'RGhHRGhGRGhGRGhG' / HDU checksum updated 2015-07-15T16:27:36\n",
    "DATASUM = ' 0' / data unit checksum updated 2015-05-20T10:20:48\n",
    "END\n",
    "\n",
    "\t\t\t\t\t\tExtension 1\n",
    "\n",
    "XTENSION= 'IMAGE ' / IMAGE extension\n",
    "BITPIX = -32 / number of bits per data pixel\n",
    "NAXIS = 3 / number of data axes\n",
    "NAXIS1 = 329 / length of data axis 1\n",
    "NAXIS2 = 317 / length of data axis 2\n",
    "NAXIS3 = 3681 / length of data axis 3\n",
    "NAXIS1 = 329 / length of data axis 1\n",
    "NAXIS2 = 317 / length of data axis 2\n",
    "NAXIS3 = 3681 / length of data axis 3\n",
    "PCOUNT = 0 / required keyword; must = 0\n",
    "GCOUNT = 1 / required keyword; must = 1\n",
    "EXTNAME = 'DATA ' / This extension contains data values\n",
    "HDUCLASS= 'ESO ' / class name (ESO format)\n",
    "HDUDOC = 'DICD ' / document with class description\n",
    "HDUVERS = 'DICD version 6' / version number (according to spec v2.5.1)\n",
    "HDUCLAS1= 'IMAGE ' / Image data format\n",
    "HDUCLAS2= 'DATA ' / this extension contains the data itself\n",
    "ERRDATA = 'STAT ' / pointer to the variance extension\n",
    "OBJECT = 'NGC 4191 (DATA)'\n",
    "BUNIT = '10**(-20)*erg/s/cm**2/Angstrom'\n",
    "CRPIX1 = 170.061496799859 / Pixel coordinate of reference point\n",
    "CRPIX2 = 152.429853570976 / Pixel coordinate of reference point\n",
    "CD1_1 = -5.55555555555556E-05 / Coordinate transformation matrix element\n",
    "CD1_2 = 0. / Coordinate transformation matrix element\n",
    "CD2_1 = 0. / Coordinate transformation matrix element\n",
    "CD2_2 = 5.55555555555556E-05 / Coordinate transformation matrix element\n",
    "CUNIT1 = 'deg ' / Units of coordinate increment and value\n",
    "CUNIT2 = 'deg ' / Units of coordinate increment and value\n",
    "CTYPE1 = 'RA---TAN' / Right ascension, gnomonic projection\n",
    "CTYPE2 = 'DEC--TAN' / Declination, gnomonic projection\n",
    "CSYER1 = 1.66499066997E-05 / [deg] Systematic error in coordinate\n",
    "CSYER2 = 6.60827614552E-06 / [deg] Systematic error in coordinate\n",
    "CRVAL1 = 183.46\n",
    "CRVAL2 = 7.20083\n",
    "CTYPE3 = 'AWAV '\n",
    "CUNIT3 = 'Angstrom'\n",
    "CD3_3 = 1.25\n",
    "CRPIX3 = 1.\n",
    "CRVAL3 = 4749.81640625\n",
    "CD1_3 = 0.\n",
    "CD2_3 = 0.\n",
    "CD3_1 = 0.\n",
    "CD3_2 = 0.\n",
    "CRDER3 = 0.026 / [Angstrom] Random error in spectral coordinate\n",
    "CHECKSUM= 'ZUJFZS9DZSGDZS9D' / HDU checksum updated 2015-07-15T16:27:36\n",
    "DATASUM = '39318882' / data unit checksum updated 2015-05-20T10:20:54\n",
    "END\n",
    "\n",
    "\t\t\t\t\t\t\t\tExtension 2\n",
    "\n",
    "XTENSION= 'IMAGE ' / IMAGE extension\n",
    "BITPIX = -32 / number of bits per data pixel\n",
    "NAXIS = 3 / number of data axes\n",
    "NAXIS1 = 329 / length of data axis 1\n",
    "NAXIS2 = 317 / length of data axis 2\n",
    "NAXIS3 = 3681 / length of data axis 3\n",
    "NAXIS1 = 329 / length of data axis 1\n",
    "NAXIS2 = 317 / length of data axis 2\n",
    "NAXIS3 = 3681 / length of data axis 3\n",
    "PCOUNT = 0 / required keyword; must = 0\n",
    "GCOUNT = 1 / required keyword; must = 1\n",
    "EXTNAME = 'STAT ' / This extension contains data variance\n",
    "HDUCLASS= 'ESO ' / class name (ESO format)\n",
    "HDUDOC = 'DICD ' / document with class description\n",
    "HDUVERS = 'DICD version 6' / version number (according to spec v2.5.1)\n",
    "HDUCLAS1= 'IMAGE ' / Image data format\n",
    "HDUCLAS2= 'ERROR ' / this extension contains variance\n",
    "HDUCLAS3= 'MSE ' / the extension contains variances (sigma**2)\n",
    "SCIDATA = 'DATA ' / pointer to the data extension\n",
    "OBJECT = 'NGC 4191 (STAT)'\n",
    "BUNIT = '(10**(-20)*erg/s/cm**2/Angstrom)**2'\n",
    "CRPIX1 = 170.061496799859 / Pixel coordinate of reference point\n",
    "CRPIX2 = 152.429853570976 / Pixel coordinate of reference point\n",
    "CD1_1 = -5.55555555555556E-05 / Coordinate transformation matrix element\n",
    "CD1_2 = 0. / Coordinate transformation matrix element\n",
    "CD2_1 = 0. / Coordinate transformation matrix element\n",
    "CD2_2 = 5.55555555555556E-05 / Coordinate transformation matrix element\n",
    "CUNIT1 = 'deg ' / Units of coordinate increment and value\n",
    "CUNIT2 = 'deg ' / Units of coordinate increment and value\n",
    "CTYPE1 = 'RA---TAN' / Right ascension, gnomonic projection\n",
    "CTYPE2 = 'DEC--TAN' / Declination, gnomonic projection\n",
    "CSYER1 = 1.66499066997E-05 / [deg] Systematic error in coordinate\n",
    "CSYER2 = 6.60827614552E-06 / [deg] Systematic error in coordinate\n",
    "CRVAL1 = 183.46\n",
    "CRVAL2 = 7.20083\n",
    "CTYPE3 = 'AWAV '\n",
    "CUNIT3 = 'Angstrom'\n",
    "CD3_3 = 1.25\n",
    "CRPIX3 = 1.\n",
    "CRVAL3 = 4749.81640625\n",
    "CD1_3 = 0.\n",
    "CD2_3 = 0.\n",
    "CD3_1 = 0.\n",
    "CD3_2 = 0.\n",
    "CHECKSUM= 'JfcaJeZYJeaaJeYW' / HDU checksum updated 2015-05-20T10:20:55\n",
    "DATASUM = '2131780454' / data unit checksum updated 2015-05-20T10:20:55\n",
    "END\n",
    "\n",
    "\n",
    "```\n",
    "\n"
   ]
  }
 ],
 "metadata": {
  "kernelspec": {
   "display_name": "Python 3",
   "language": "python",
   "name": "python3"
  },
  "language_info": {
   "codemirror_mode": {
    "name": "ipython",
    "version": 3
   },
   "file_extension": ".py",
   "mimetype": "text/x-python",
   "name": "python",
   "nbconvert_exporter": "python",
   "pygments_lexer": "ipython3",
   "version": "3.7.7"
  },
  "pycharm": {
   "stem_cell": {
    "cell_type": "raw",
    "metadata": {
     "collapsed": false
    },
    "source": []
   }
  },
  "toc": {
   "base_numbering": 1,
   "nav_menu": {},
   "number_sections": true,
   "sideBar": true,
   "skip_h1_title": false,
   "title_cell": "Table of Contents",
   "title_sidebar": "Contents",
   "toc_cell": false,
   "toc_position": {
    "height": "calc(100% - 180px)",
    "left": "10px",
    "top": "150px",
    "width": "165px"
   },
   "toc_section_display": true,
   "toc_window_display": true
  }
 },
 "nbformat": 4,
 "nbformat_minor": 2
}
