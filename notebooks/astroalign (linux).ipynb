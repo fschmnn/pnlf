{
 "cells": [
  {
   "cell_type": "code",
   "execution_count": null,
   "metadata": {},
   "outputs": [],
   "source": [
    "from pathlib import Path\n",
    "from astropy.io import fits\n",
    "from astropy.wcs import WCS\n",
    "from astropy.visualization import simple_norm\n",
    "import astroalign as aa\n",
    "import numpy as np\n",
    "import matplotlib.pyplot as plt"
   ]
  },
  {
   "cell_type": "code",
   "execution_count": null,
   "metadata": {},
   "outputs": [],
   "source": [
    "# first we need to specify the path to the raw data\n",
    "data_raw = Path('/mnt/d/downloads/MUSEDAP')\n",
    "data_ext = Path('/mnt/g/Archive')\n",
    "basedir = Path('..')"
   ]
  },
  {
   "cell_type": "markdown",
   "metadata": {},
   "source": [
    "## Sitelle Data\n",
    "\n",
    "2472889v : NGC4535 \n",
    "\n",
    "2479352v : NGC2835\n"
   ]
  },
  {
   "cell_type": "code",
   "execution_count": null,
   "metadata": {},
   "outputs": [],
   "source": [
    "# cubs are too big to load\n",
    "with fits.open(data_ext / 'Sitelle' / '2479352p.fits',memmap=True, mode='denywrite') as hdul:\n",
    "    #sitelle_cube   = hdul[0].data\n",
    "    sitelle_cube_header = hdul[0].header\n",
    "    \n",
    "with fits.open(data_ext / 'Sitelle' / '2479352v.fits') as hdul:\n",
    "    sitelle_data   = hdul[0].data\n",
    "    sitelle_header = hdul[0].header\n",
    "    \n",
    "name = sitelle_header['OBJECT']\n",
    "print(name)"
   ]
  },
  {
   "cell_type": "markdown",
   "metadata": {},
   "source": [
    "## HST Data"
   ]
  },
  {
   "cell_type": "code",
   "execution_count": null,
   "metadata": {},
   "outputs": [],
   "source": [
    "name = 'NGC1566'\n",
    "with fits.open(data_ext / 'HST' / name / 'white_light' / f'{name}_white_24rgb.fits') as hdul:\n",
    "    HST_whitelight = hdul[0].data\n",
    "    HST_whitelight_header = hdul[0].header"
   ]
  },
  {
   "cell_type": "markdown",
   "metadata": {},
   "source": [
    "## MUSE data"
   ]
  },
  {
   "cell_type": "code",
   "execution_count": null,
   "metadata": {},
   "outputs": [],
   "source": [
    "with fits.open(data_ext / 'MUSE' / 'MUSEDAP' / name / f'{name}_MAPS.fits') as hdul:\n",
    "    muse_data = hdul['FLUX'].data\n",
    "    muse_header = hdul['FLUX'].header"
   ]
  },
  {
   "cell_type": "markdown",
   "metadata": {},
   "source": [
    "## Plot images side by side"
   ]
  },
  {
   "cell_type": "code",
   "execution_count": null,
   "metadata": {},
   "outputs": [],
   "source": [
    "fig = plt.figure(figsize=(8,4))\n",
    "ax1 = fig.add_subplot(1,2,1,projection=WCS(muse_header))\n",
    "ax2 = fig.add_subplot(1,2,2,projection=WCS(sitelle_cube_header,naxis=2))\n",
    "\n",
    "norm = simple_norm(muse_data,clip=False,percent=99)\n",
    "ax1.imshow(muse_data,norm=norm,cmap=plt.cm.Blues)\n",
    "\n",
    "norm = simple_norm(sitelle_data,clip=False,percent=99)\n",
    "ax2.imshow(sitelle_data,norm=norm,cmap=plt.cm.Blues)"
   ]
  },
  {
   "cell_type": "markdown",
   "metadata": {},
   "source": [
    "## Register image"
   ]
  },
  {
   "cell_type": "code",
   "execution_count": null,
   "metadata": {},
   "outputs": [],
   "source": [
    "aa.find_transform?"
   ]
  },
  {
   "cell_type": "code",
   "execution_count": null,
   "metadata": {},
   "outputs": [],
   "source": [
    "transf, (source_list, target_list) = aa.find_transform(muse_data,HST_whitelight)"
   ]
  }
 ],
 "metadata": {
  "kernelspec": {
   "display_name": "Python 3",
   "language": "python",
   "name": "python3"
  },
  "language_info": {
   "codemirror_mode": {
    "name": "ipython",
    "version": 3
   },
   "file_extension": ".py",
   "mimetype": "text/x-python",
   "name": "python",
   "nbconvert_exporter": "python",
   "pygments_lexer": "ipython3",
   "version": "3.7.7"
  },
  "toc": {
   "base_numbering": 1,
   "nav_menu": {},
   "number_sections": true,
   "sideBar": true,
   "skip_h1_title": false,
   "title_cell": "Table of Contents",
   "title_sidebar": "Contents",
   "toc_cell": false,
   "toc_position": {},
   "toc_section_display": true,
   "toc_window_display": false
  }
 },
 "nbformat": 4,
 "nbformat_minor": 4
}
